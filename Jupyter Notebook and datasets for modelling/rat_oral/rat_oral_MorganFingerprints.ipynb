{
 "cells": [
  {
   "cell_type": "markdown",
   "metadata": {},
   "source": [
    "# Importing modules and functions"
   ]
  },
  {
   "cell_type": "code",
   "execution_count": 86,
   "metadata": {},
   "outputs": [],
   "source": [
    "from rdkit import Chem, DataStructs\n",
    "from rdkit.Chem import AllChem, Descriptors\n",
    "from rdkit.ML.Descriptors import MoleculeDescriptors\n",
    "from rdkit.Chem import rdFingerprintGenerator\n",
    "from molvs import standardize_smiles\n",
    "import numpy as np\n",
    "import pandas as pd\n",
    "from copy import deepcopy\n",
    "from sklearn.svm import SVR\n",
    "from sklearn.model_selection import train_test_split,KFold, StratifiedKFold, GridSearchCV\n",
    "from sklearn.model_selection import permutation_test_score\n",
    "from sklearn.preprocessing import StandardScaler\n",
    "from sklearn.model_selection import cross_val_predict\n",
    "from sklearn import metrics\n",
    "from sklearn.metrics import cohen_kappa_score\n",
    "from sklearn.metrics import balanced_accuracy_score\n",
    "from sklearn.metrics import pairwise_distances\n",
    "from sklearn.model_selection import train_test_split\n",
    "from catboost import CatBoostRegressor\n",
    "from sklearn.ensemble import RandomForestRegressor\n",
    "from sklearn.metrics import mean_squared_error\n",
    "from sklearn.metrics import r2_score\n",
    "import joblib\n",
    "import pickle\n",
    "from numpy import savetxt\n",
    "from IPython.display import HTML\n",
    "from rdkit.Chem import PandasTools"
   ]
  },
  {
   "cell_type": "code",
   "execution_count": 28,
   "metadata": {},
   "outputs": [],
   "source": [
    "def convert_smi_to_canon_smi(smi):\n",
    "    \n",
    "    try:\n",
    "        canon_smi = Chem.MolToSmiles(Chem.MolFromSmiles(smi),isomericSmiles = False)\n",
    "    except:\n",
    "        canon_smi='wrong_smiles'\n",
    "    return canon_smi"
   ]
  },
  {
   "cell_type": "code",
   "execution_count": 29,
   "metadata": {},
   "outputs": [],
   "source": [
    "def standart(smi):\n",
    "    global m\n",
    "    if smi!='wrong_smiles':\n",
    "        try:\n",
    "            smiles=standardize_smiles(smi)\n",
    "            m = Chem.MolFromSmiles(smi)\n",
    "        except:\n",
    "            smi='error kekule'\n",
    "    else:\n",
    "        m = 'check the smiles'\n",
    "    return m"
   ]
  },
  {
   "cell_type": "markdown",
   "metadata": {},
   "source": [
    "# MORGAN FP_Gradient Boosting Rat oral LD50, mg/kg  "
   ]
  },
  {
   "cell_type": "markdown",
   "metadata": {},
   "source": [
    "## Load data and curation work set"
   ]
  },
  {
   "cell_type": "code",
   "execution_count": 32,
   "metadata": {},
   "outputs": [
    {
     "data": {
      "text/html": [
       "<div>\n",
       "<style scoped>\n",
       "    .dataframe tbody tr th:only-of-type {\n",
       "        vertical-align: middle;\n",
       "    }\n",
       "\n",
       "    .dataframe tbody tr th {\n",
       "        vertical-align: top;\n",
       "    }\n",
       "\n",
       "    .dataframe thead th {\n",
       "        text-align: right;\n",
       "    }\n",
       "</style>\n",
       "<table border=\"1\" class=\"dataframe\">\n",
       "  <thead>\n",
       "    <tr style=\"text-align: right;\">\n",
       "      <th></th>\n",
       "      <th>TAID</th>\n",
       "      <th>Pubchem CID</th>\n",
       "      <th>IUPAC Name</th>\n",
       "      <th>SMILES</th>\n",
       "      <th>Canonical_SMILES</th>\n",
       "      <th>InChIKey</th>\n",
       "      <th>rat_oral_LD50</th>\n",
       "    </tr>\n",
       "  </thead>\n",
       "  <tbody>\n",
       "    <tr>\n",
       "      <th>0</th>\n",
       "      <td>TOX-8327</td>\n",
       "      <td>12283</td>\n",
       "      <td>6-methyl-1H-pyrimidine-2,4-dione</td>\n",
       "      <td>Cc1cc(=O)[nH]c(=O)[nH]1</td>\n",
       "      <td>Cc1cc(=O)[nH]c(=O)[nH]1</td>\n",
       "      <td>SHVCSCWHWMSGTE-UHFFFAOYSA-N</td>\n",
       "      <td>0.291207</td>\n",
       "    </tr>\n",
       "    <tr>\n",
       "      <th>1</th>\n",
       "      <td>TOX-27223</td>\n",
       "      <td>34042</td>\n",
       "      <td>4-(1,3-benzodioxol-5-yl)butan-2-ylhydrazine</td>\n",
       "      <td>CC(CCc1ccc2c(c1)OCO2)NN</td>\n",
       "      <td>CC(CCc1ccc2c(c1)OCO2)NN</td>\n",
       "      <td>IBWPUTAKVGZXRB-UHFFFAOYSA-N</td>\n",
       "      <td>0.440661</td>\n",
       "    </tr>\n",
       "    <tr>\n",
       "      <th>2</th>\n",
       "      <td>TOX-5723</td>\n",
       "      <td>8058</td>\n",
       "      <td>hexane</td>\n",
       "      <td>CCCCCC</td>\n",
       "      <td>CCCCCC</td>\n",
       "      <td>VLKZOEOYAKHREP-UHFFFAOYSA-N</td>\n",
       "      <td>0.537456</td>\n",
       "    </tr>\n",
       "    <tr>\n",
       "      <th>3</th>\n",
       "      <td>TOX-72438</td>\n",
       "      <td>94201</td>\n",
       "      <td>bis(2-ethylhexyl) cyclohexene-1,2-dicarboxylate</td>\n",
       "      <td>CCCCC(CC)COC(=O)C1=C(C(=O)OCC(CC)CCCC)CCCC1</td>\n",
       "      <td>CCCCC(CC)COC(=O)C1=C(C(=O)OCC(CC)CCCC)CCCC1</td>\n",
       "      <td>ZVPBHZIVOWGPMT-UHFFFAOYSA-N</td>\n",
       "      <td>0.539248</td>\n",
       "    </tr>\n",
       "    <tr>\n",
       "      <th>4</th>\n",
       "      <td>TOX-4318</td>\n",
       "      <td>1030</td>\n",
       "      <td>propane-1,2-diol</td>\n",
       "      <td>CC(O)CO</td>\n",
       "      <td>CC(O)CO</td>\n",
       "      <td>DNIAPMSPPWPWGF-UHFFFAOYSA-N</td>\n",
       "      <td>0.580326</td>\n",
       "    </tr>\n",
       "    <tr>\n",
       "      <th>...</th>\n",
       "      <td>...</td>\n",
       "      <td>...</td>\n",
       "      <td>...</td>\n",
       "      <td>...</td>\n",
       "      <td>...</td>\n",
       "      <td>...</td>\n",
       "      <td>...</td>\n",
       "    </tr>\n",
       "    <tr>\n",
       "      <th>7869</th>\n",
       "      <td>TOX-34548</td>\n",
       "      <td>39729</td>\n",
       "      <td>2,3,7,8-tetrabromodibenzo-p-dioxin</td>\n",
       "      <td>Brc1cc2c(cc1Br)Oc1cc(Br)c(Br)cc1O2</td>\n",
       "      <td>Brc1cc2c(cc1Br)Oc1cc(Br)c(Br)cc1O2</td>\n",
       "      <td>JZLQUWSWOJPCAK-UHFFFAOYSA-N</td>\n",
       "      <td>6.698777</td>\n",
       "    </tr>\n",
       "    <tr>\n",
       "      <th>7870</th>\n",
       "      <td>TOX-2774</td>\n",
       "      <td>3890</td>\n",
       "      <td>propan-2-yl 7-[3,5-dihydroxy-2-(3-hydroxy-5-ph...</td>\n",
       "      <td>CC(C)OC(=O)CCCC=CCC1C(O)CC(O)C1CCC(O)CCc1ccccc1</td>\n",
       "      <td>CC(C)OC(=O)CCCC=CCC1C(O)CC(O)C1CCC(O)CCc1ccccc1</td>\n",
       "      <td>GGXICVAJURFBLW-UHFFFAOYSA-N</td>\n",
       "      <td>6.937118</td>\n",
       "    </tr>\n",
       "    <tr>\n",
       "      <th>7871</th>\n",
       "      <td>TOX-57286</td>\n",
       "      <td>3323</td>\n",
       "      <td>5-[2-[7a-methyl-1-[7,7,7-trifluoro-6-hydroxy-6...</td>\n",
       "      <td>C=C1C(=CC=C2CCCC3(C)C2CCC3C(C)CCCC(O)(C(F)(F)F...</td>\n",
       "      <td>C=C1C(=CC=C2CCCC3(C)C2CCC3C(C)CCCC(O)(C(F)(F)F...</td>\n",
       "      <td>XPYGGHVSFMUHLH-UHFFFAOYSA-N</td>\n",
       "      <td>7.099681</td>\n",
       "    </tr>\n",
       "    <tr>\n",
       "      <th>7872</th>\n",
       "      <td>TOX-6661</td>\n",
       "      <td>9426</td>\n",
       "      <td>2-[(6,7-dimethoxy-1,2,3,4-tetrahydroisoquinoli...</td>\n",
       "      <td>CCC1CN2CCc3cc(OC)c(OC)cc3C2CC1CC1NCCc2cc(OC)c(...</td>\n",
       "      <td>CCC1CN2CCc3cc(OC)c(OC)cc3C2CC1CC1NCCc2cc(OC)c(...</td>\n",
       "      <td>AUVVAXYIELKVAI-UHFFFAOYSA-N</td>\n",
       "      <td>7.602647</td>\n",
       "    </tr>\n",
       "    <tr>\n",
       "      <th>7873</th>\n",
       "      <td>TOX-52756</td>\n",
       "      <td>74051341</td>\n",
       "      <td>(8-acetyl-7-formyl-1,1,4a,6a,10b-pentamethyl-2...</td>\n",
       "      <td>CC(=O)C1=CCC2C3(C)CCC4C(C)(C)CCCC4(C)C3CC(OC(=...</td>\n",
       "      <td>CC(=O)C1=CCC2C3(C)CCC4C(C)(C)CCCC4(C)C3CC(OC(=...</td>\n",
       "      <td>AEQPDNFDABVERI-UHFFFAOYSA-N</td>\n",
       "      <td>9.541127</td>\n",
       "    </tr>\n",
       "  </tbody>\n",
       "</table>\n",
       "<p>7874 rows × 7 columns</p>\n",
       "</div>"
      ],
      "text/plain": [
       "           TAID  Pubchem CID  \\\n",
       "0      TOX-8327        12283   \n",
       "1     TOX-27223        34042   \n",
       "2      TOX-5723         8058   \n",
       "3     TOX-72438        94201   \n",
       "4      TOX-4318         1030   \n",
       "...         ...          ...   \n",
       "7869  TOX-34548        39729   \n",
       "7870   TOX-2774         3890   \n",
       "7871  TOX-57286         3323   \n",
       "7872   TOX-6661         9426   \n",
       "7873  TOX-52756     74051341   \n",
       "\n",
       "                                             IUPAC Name  \\\n",
       "0                      6-methyl-1H-pyrimidine-2,4-dione   \n",
       "1           4-(1,3-benzodioxol-5-yl)butan-2-ylhydrazine   \n",
       "2                                                hexane   \n",
       "3       bis(2-ethylhexyl) cyclohexene-1,2-dicarboxylate   \n",
       "4                                      propane-1,2-diol   \n",
       "...                                                 ...   \n",
       "7869                 2,3,7,8-tetrabromodibenzo-p-dioxin   \n",
       "7870  propan-2-yl 7-[3,5-dihydroxy-2-(3-hydroxy-5-ph...   \n",
       "7871  5-[2-[7a-methyl-1-[7,7,7-trifluoro-6-hydroxy-6...   \n",
       "7872  2-[(6,7-dimethoxy-1,2,3,4-tetrahydroisoquinoli...   \n",
       "7873  (8-acetyl-7-formyl-1,1,4a,6a,10b-pentamethyl-2...   \n",
       "\n",
       "                                                 SMILES  \\\n",
       "0                               Cc1cc(=O)[nH]c(=O)[nH]1   \n",
       "1                               CC(CCc1ccc2c(c1)OCO2)NN   \n",
       "2                                                CCCCCC   \n",
       "3           CCCCC(CC)COC(=O)C1=C(C(=O)OCC(CC)CCCC)CCCC1   \n",
       "4                                               CC(O)CO   \n",
       "...                                                 ...   \n",
       "7869                 Brc1cc2c(cc1Br)Oc1cc(Br)c(Br)cc1O2   \n",
       "7870    CC(C)OC(=O)CCCC=CCC1C(O)CC(O)C1CCC(O)CCc1ccccc1   \n",
       "7871  C=C1C(=CC=C2CCCC3(C)C2CCC3C(C)CCCC(O)(C(F)(F)F...   \n",
       "7872  CCC1CN2CCc3cc(OC)c(OC)cc3C2CC1CC1NCCc2cc(OC)c(...   \n",
       "7873  CC(=O)C1=CCC2C3(C)CCC4C(C)(C)CCCC4(C)C3CC(OC(=...   \n",
       "\n",
       "                                       Canonical_SMILES  \\\n",
       "0                               Cc1cc(=O)[nH]c(=O)[nH]1   \n",
       "1                               CC(CCc1ccc2c(c1)OCO2)NN   \n",
       "2                                                CCCCCC   \n",
       "3           CCCCC(CC)COC(=O)C1=C(C(=O)OCC(CC)CCCC)CCCC1   \n",
       "4                                               CC(O)CO   \n",
       "...                                                 ...   \n",
       "7869                 Brc1cc2c(cc1Br)Oc1cc(Br)c(Br)cc1O2   \n",
       "7870    CC(C)OC(=O)CCCC=CCC1C(O)CC(O)C1CCC(O)CCc1ccccc1   \n",
       "7871  C=C1C(=CC=C2CCCC3(C)C2CCC3C(C)CCCC(O)(C(F)(F)F...   \n",
       "7872  CCC1CN2CCc3cc(OC)c(OC)cc3C2CC1CC1NCCc2cc(OC)c(...   \n",
       "7873  CC(=O)C1=CCC2C3(C)CCC4C(C)(C)CCCC4(C)C3CC(OC(=...   \n",
       "\n",
       "                         InChIKey  rat_oral_LD50  \n",
       "0     SHVCSCWHWMSGTE-UHFFFAOYSA-N       0.291207  \n",
       "1     IBWPUTAKVGZXRB-UHFFFAOYSA-N       0.440661  \n",
       "2     VLKZOEOYAKHREP-UHFFFAOYSA-N       0.537456  \n",
       "3     ZVPBHZIVOWGPMT-UHFFFAOYSA-N       0.539248  \n",
       "4     DNIAPMSPPWPWGF-UHFFFAOYSA-N       0.580326  \n",
       "...                           ...            ...  \n",
       "7869  JZLQUWSWOJPCAK-UHFFFAOYSA-N       6.698777  \n",
       "7870  GGXICVAJURFBLW-UHFFFAOYSA-N       6.937118  \n",
       "7871  XPYGGHVSFMUHLH-UHFFFAOYSA-N       7.099681  \n",
       "7872  AUVVAXYIELKVAI-UHFFFAOYSA-N       7.602647  \n",
       "7873  AEQPDNFDABVERI-UHFFFAOYSA-N       9.541127  \n",
       "\n",
       "[7874 rows x 7 columns]"
      ]
     },
     "execution_count": 32,
     "metadata": {},
     "output_type": "execute_result"
    }
   ],
   "source": [
    "# Set file path\n",
    "df_ws=pd.read_csv('datasets/rat_oral_LD50_WS.csv')\n",
    "df_ws"
   ]
  },
  {
   "cell_type": "markdown",
   "metadata": {},
   "source": [
    "##  Standardization  for work set"
   ]
  },
  {
   "cell_type": "code",
   "execution_count": 34,
   "metadata": {},
   "outputs": [
    {
     "name": "stderr",
     "output_type": "stream",
     "text": [
      "[07:44:01] Unusual charge on atom 8 number of radical electrons set to zero\n",
      "[07:44:01] Unusual charge on atom 0 number of radical electrons set to zero\n",
      "[07:44:01] Unusual charge on atom 16 number of radical electrons set to zero\n",
      "[07:44:01] Unusual charge on atom 16 number of radical electrons set to zero\n"
     ]
    },
    {
     "name": "stdout",
     "output_type": "stream",
     "text": [
      "Kept data:  7874 molecules\n"
     ]
    }
   ],
   "source": [
    "df_ws[\"Molecule\"] = df_ws.apply(lambda x: standart(x.Canonical_SMILES), axis=1)\n",
    "print('Kept data: ', len(df_ws), 'molecules')"
   ]
  },
  {
   "cell_type": "code",
   "execution_count": 35,
   "metadata": {
    "scrolled": true
   },
   "outputs": [
    {
     "data": {
      "text/html": [
       "<div>\n",
       "<style scoped>\n",
       "    .dataframe tbody tr th:only-of-type {\n",
       "        vertical-align: middle;\n",
       "    }\n",
       "\n",
       "    .dataframe tbody tr th {\n",
       "        vertical-align: top;\n",
       "    }\n",
       "\n",
       "    .dataframe thead th {\n",
       "        text-align: right;\n",
       "    }\n",
       "</style>\n",
       "<table border=\"1\" class=\"dataframe\">\n",
       "  <thead>\n",
       "    <tr style=\"text-align: right;\">\n",
       "      <th></th>\n",
       "      <th>TAID</th>\n",
       "      <th>Pubchem CID</th>\n",
       "      <th>IUPAC Name</th>\n",
       "      <th>SMILES</th>\n",
       "      <th>Canonical_SMILES</th>\n",
       "      <th>InChIKey</th>\n",
       "      <th>rat_oral_LD50</th>\n",
       "      <th>Molecule</th>\n",
       "    </tr>\n",
       "  </thead>\n",
       "  <tbody>\n",
       "    <tr>\n",
       "      <th>0</th>\n",
       "      <td>TOX-8327</td>\n",
       "      <td>12283</td>\n",
       "      <td>6-methyl-1H-pyrimidine-2,4-dione</td>\n",
       "      <td>Cc1cc(=O)[nH]c(=O)[nH]1</td>\n",
       "      <td>Cc1cc(=O)[nH]c(=O)[nH]1</td>\n",
       "      <td>SHVCSCWHWMSGTE-UHFFFAOYSA-N</td>\n",
       "      <td>0.291207</td>\n",
       "      <td>&lt;rdkit.Chem.rdchem.Mol object at 0x000002B4C31...</td>\n",
       "    </tr>\n",
       "    <tr>\n",
       "      <th>1</th>\n",
       "      <td>TOX-27223</td>\n",
       "      <td>34042</td>\n",
       "      <td>4-(1,3-benzodioxol-5-yl)butan-2-ylhydrazine</td>\n",
       "      <td>CC(CCc1ccc2c(c1)OCO2)NN</td>\n",
       "      <td>CC(CCc1ccc2c(c1)OCO2)NN</td>\n",
       "      <td>IBWPUTAKVGZXRB-UHFFFAOYSA-N</td>\n",
       "      <td>0.440661</td>\n",
       "      <td>&lt;rdkit.Chem.rdchem.Mol object at 0x000002B4C31...</td>\n",
       "    </tr>\n",
       "    <tr>\n",
       "      <th>2</th>\n",
       "      <td>TOX-5723</td>\n",
       "      <td>8058</td>\n",
       "      <td>hexane</td>\n",
       "      <td>CCCCCC</td>\n",
       "      <td>CCCCCC</td>\n",
       "      <td>VLKZOEOYAKHREP-UHFFFAOYSA-N</td>\n",
       "      <td>0.537456</td>\n",
       "      <td>&lt;rdkit.Chem.rdchem.Mol object at 0x000002B4C31...</td>\n",
       "    </tr>\n",
       "    <tr>\n",
       "      <th>3</th>\n",
       "      <td>TOX-72438</td>\n",
       "      <td>94201</td>\n",
       "      <td>bis(2-ethylhexyl) cyclohexene-1,2-dicarboxylate</td>\n",
       "      <td>CCCCC(CC)COC(=O)C1=C(C(=O)OCC(CC)CCCC)CCCC1</td>\n",
       "      <td>CCCCC(CC)COC(=O)C1=C(C(=O)OCC(CC)CCCC)CCCC1</td>\n",
       "      <td>ZVPBHZIVOWGPMT-UHFFFAOYSA-N</td>\n",
       "      <td>0.539248</td>\n",
       "      <td>&lt;rdkit.Chem.rdchem.Mol object at 0x000002B4C31...</td>\n",
       "    </tr>\n",
       "    <tr>\n",
       "      <th>4</th>\n",
       "      <td>TOX-4318</td>\n",
       "      <td>1030</td>\n",
       "      <td>propane-1,2-diol</td>\n",
       "      <td>CC(O)CO</td>\n",
       "      <td>CC(O)CO</td>\n",
       "      <td>DNIAPMSPPWPWGF-UHFFFAOYSA-N</td>\n",
       "      <td>0.580326</td>\n",
       "      <td>&lt;rdkit.Chem.rdchem.Mol object at 0x000002B4C32...</td>\n",
       "    </tr>\n",
       "    <tr>\n",
       "      <th>...</th>\n",
       "      <td>...</td>\n",
       "      <td>...</td>\n",
       "      <td>...</td>\n",
       "      <td>...</td>\n",
       "      <td>...</td>\n",
       "      <td>...</td>\n",
       "      <td>...</td>\n",
       "      <td>...</td>\n",
       "    </tr>\n",
       "    <tr>\n",
       "      <th>7869</th>\n",
       "      <td>TOX-34548</td>\n",
       "      <td>39729</td>\n",
       "      <td>2,3,7,8-tetrabromodibenzo-p-dioxin</td>\n",
       "      <td>Brc1cc2c(cc1Br)Oc1cc(Br)c(Br)cc1O2</td>\n",
       "      <td>Brc1cc2c(cc1Br)Oc1cc(Br)c(Br)cc1O2</td>\n",
       "      <td>JZLQUWSWOJPCAK-UHFFFAOYSA-N</td>\n",
       "      <td>6.698777</td>\n",
       "      <td>&lt;rdkit.Chem.rdchem.Mol object at 0x000002B4C33...</td>\n",
       "    </tr>\n",
       "    <tr>\n",
       "      <th>7870</th>\n",
       "      <td>TOX-2774</td>\n",
       "      <td>3890</td>\n",
       "      <td>propan-2-yl 7-[3,5-dihydroxy-2-(3-hydroxy-5-ph...</td>\n",
       "      <td>CC(C)OC(=O)CCCC=CCC1C(O)CC(O)C1CCC(O)CCc1ccccc1</td>\n",
       "      <td>CC(C)OC(=O)CCCC=CCC1C(O)CC(O)C1CCC(O)CCc1ccccc1</td>\n",
       "      <td>GGXICVAJURFBLW-UHFFFAOYSA-N</td>\n",
       "      <td>6.937118</td>\n",
       "      <td>&lt;rdkit.Chem.rdchem.Mol object at 0x000002B4C33...</td>\n",
       "    </tr>\n",
       "    <tr>\n",
       "      <th>7871</th>\n",
       "      <td>TOX-57286</td>\n",
       "      <td>3323</td>\n",
       "      <td>5-[2-[7a-methyl-1-[7,7,7-trifluoro-6-hydroxy-6...</td>\n",
       "      <td>C=C1C(=CC=C2CCCC3(C)C2CCC3C(C)CCCC(O)(C(F)(F)F...</td>\n",
       "      <td>C=C1C(=CC=C2CCCC3(C)C2CCC3C(C)CCCC(O)(C(F)(F)F...</td>\n",
       "      <td>XPYGGHVSFMUHLH-UHFFFAOYSA-N</td>\n",
       "      <td>7.099681</td>\n",
       "      <td>&lt;rdkit.Chem.rdchem.Mol object at 0x000002B4C33...</td>\n",
       "    </tr>\n",
       "    <tr>\n",
       "      <th>7872</th>\n",
       "      <td>TOX-6661</td>\n",
       "      <td>9426</td>\n",
       "      <td>2-[(6,7-dimethoxy-1,2,3,4-tetrahydroisoquinoli...</td>\n",
       "      <td>CCC1CN2CCc3cc(OC)c(OC)cc3C2CC1CC1NCCc2cc(OC)c(...</td>\n",
       "      <td>CCC1CN2CCc3cc(OC)c(OC)cc3C2CC1CC1NCCc2cc(OC)c(...</td>\n",
       "      <td>AUVVAXYIELKVAI-UHFFFAOYSA-N</td>\n",
       "      <td>7.602647</td>\n",
       "      <td>&lt;rdkit.Chem.rdchem.Mol object at 0x000002B4C33...</td>\n",
       "    </tr>\n",
       "    <tr>\n",
       "      <th>7873</th>\n",
       "      <td>TOX-52756</td>\n",
       "      <td>74051341</td>\n",
       "      <td>(8-acetyl-7-formyl-1,1,4a,6a,10b-pentamethyl-2...</td>\n",
       "      <td>CC(=O)C1=CCC2C3(C)CCC4C(C)(C)CCCC4(C)C3CC(OC(=...</td>\n",
       "      <td>CC(=O)C1=CCC2C3(C)CCC4C(C)(C)CCCC4(C)C3CC(OC(=...</td>\n",
       "      <td>AEQPDNFDABVERI-UHFFFAOYSA-N</td>\n",
       "      <td>9.541127</td>\n",
       "      <td>&lt;rdkit.Chem.rdchem.Mol object at 0x000002B4C33...</td>\n",
       "    </tr>\n",
       "  </tbody>\n",
       "</table>\n",
       "<p>7874 rows × 8 columns</p>\n",
       "</div>"
      ],
      "text/plain": [
       "           TAID  Pubchem CID  \\\n",
       "0      TOX-8327        12283   \n",
       "1     TOX-27223        34042   \n",
       "2      TOX-5723         8058   \n",
       "3     TOX-72438        94201   \n",
       "4      TOX-4318         1030   \n",
       "...         ...          ...   \n",
       "7869  TOX-34548        39729   \n",
       "7870   TOX-2774         3890   \n",
       "7871  TOX-57286         3323   \n",
       "7872   TOX-6661         9426   \n",
       "7873  TOX-52756     74051341   \n",
       "\n",
       "                                             IUPAC Name  \\\n",
       "0                      6-methyl-1H-pyrimidine-2,4-dione   \n",
       "1           4-(1,3-benzodioxol-5-yl)butan-2-ylhydrazine   \n",
       "2                                                hexane   \n",
       "3       bis(2-ethylhexyl) cyclohexene-1,2-dicarboxylate   \n",
       "4                                      propane-1,2-diol   \n",
       "...                                                 ...   \n",
       "7869                 2,3,7,8-tetrabromodibenzo-p-dioxin   \n",
       "7870  propan-2-yl 7-[3,5-dihydroxy-2-(3-hydroxy-5-ph...   \n",
       "7871  5-[2-[7a-methyl-1-[7,7,7-trifluoro-6-hydroxy-6...   \n",
       "7872  2-[(6,7-dimethoxy-1,2,3,4-tetrahydroisoquinoli...   \n",
       "7873  (8-acetyl-7-formyl-1,1,4a,6a,10b-pentamethyl-2...   \n",
       "\n",
       "                                                 SMILES  \\\n",
       "0                               Cc1cc(=O)[nH]c(=O)[nH]1   \n",
       "1                               CC(CCc1ccc2c(c1)OCO2)NN   \n",
       "2                                                CCCCCC   \n",
       "3           CCCCC(CC)COC(=O)C1=C(C(=O)OCC(CC)CCCC)CCCC1   \n",
       "4                                               CC(O)CO   \n",
       "...                                                 ...   \n",
       "7869                 Brc1cc2c(cc1Br)Oc1cc(Br)c(Br)cc1O2   \n",
       "7870    CC(C)OC(=O)CCCC=CCC1C(O)CC(O)C1CCC(O)CCc1ccccc1   \n",
       "7871  C=C1C(=CC=C2CCCC3(C)C2CCC3C(C)CCCC(O)(C(F)(F)F...   \n",
       "7872  CCC1CN2CCc3cc(OC)c(OC)cc3C2CC1CC1NCCc2cc(OC)c(...   \n",
       "7873  CC(=O)C1=CCC2C3(C)CCC4C(C)(C)CCCC4(C)C3CC(OC(=...   \n",
       "\n",
       "                                       Canonical_SMILES  \\\n",
       "0                               Cc1cc(=O)[nH]c(=O)[nH]1   \n",
       "1                               CC(CCc1ccc2c(c1)OCO2)NN   \n",
       "2                                                CCCCCC   \n",
       "3           CCCCC(CC)COC(=O)C1=C(C(=O)OCC(CC)CCCC)CCCC1   \n",
       "4                                               CC(O)CO   \n",
       "...                                                 ...   \n",
       "7869                 Brc1cc2c(cc1Br)Oc1cc(Br)c(Br)cc1O2   \n",
       "7870    CC(C)OC(=O)CCCC=CCC1C(O)CC(O)C1CCC(O)CCc1ccccc1   \n",
       "7871  C=C1C(=CC=C2CCCC3(C)C2CCC3C(C)CCCC(O)(C(F)(F)F...   \n",
       "7872  CCC1CN2CCc3cc(OC)c(OC)cc3C2CC1CC1NCCc2cc(OC)c(...   \n",
       "7873  CC(=O)C1=CCC2C3(C)CCC4C(C)(C)CCCC4(C)C3CC(OC(=...   \n",
       "\n",
       "                         InChIKey  rat_oral_LD50  \\\n",
       "0     SHVCSCWHWMSGTE-UHFFFAOYSA-N       0.291207   \n",
       "1     IBWPUTAKVGZXRB-UHFFFAOYSA-N       0.440661   \n",
       "2     VLKZOEOYAKHREP-UHFFFAOYSA-N       0.537456   \n",
       "3     ZVPBHZIVOWGPMT-UHFFFAOYSA-N       0.539248   \n",
       "4     DNIAPMSPPWPWGF-UHFFFAOYSA-N       0.580326   \n",
       "...                           ...            ...   \n",
       "7869  JZLQUWSWOJPCAK-UHFFFAOYSA-N       6.698777   \n",
       "7870  GGXICVAJURFBLW-UHFFFAOYSA-N       6.937118   \n",
       "7871  XPYGGHVSFMUHLH-UHFFFAOYSA-N       7.099681   \n",
       "7872  AUVVAXYIELKVAI-UHFFFAOYSA-N       7.602647   \n",
       "7873  AEQPDNFDABVERI-UHFFFAOYSA-N       9.541127   \n",
       "\n",
       "                                               Molecule  \n",
       "0     <rdkit.Chem.rdchem.Mol object at 0x000002B4C31...  \n",
       "1     <rdkit.Chem.rdchem.Mol object at 0x000002B4C31...  \n",
       "2     <rdkit.Chem.rdchem.Mol object at 0x000002B4C31...  \n",
       "3     <rdkit.Chem.rdchem.Mol object at 0x000002B4C31...  \n",
       "4     <rdkit.Chem.rdchem.Mol object at 0x000002B4C32...  \n",
       "...                                                 ...  \n",
       "7869  <rdkit.Chem.rdchem.Mol object at 0x000002B4C33...  \n",
       "7870  <rdkit.Chem.rdchem.Mol object at 0x000002B4C33...  \n",
       "7871  <rdkit.Chem.rdchem.Mol object at 0x000002B4C33...  \n",
       "7872  <rdkit.Chem.rdchem.Mol object at 0x000002B4C33...  \n",
       "7873  <rdkit.Chem.rdchem.Mol object at 0x000002B4C33...  \n",
       "\n",
       "[7874 rows x 8 columns]"
      ]
     },
     "execution_count": 35,
     "metadata": {},
     "output_type": "execute_result"
    }
   ],
   "source": [
    "df_ws"
   ]
  },
  {
   "cell_type": "code",
   "execution_count": 36,
   "metadata": {},
   "outputs": [
    {
     "data": {
      "text/plain": [
       "0       0.291207\n",
       "1       0.440661\n",
       "2       0.537456\n",
       "3       0.539248\n",
       "4       0.580326\n",
       "          ...   \n",
       "7869    6.698777\n",
       "7870    6.937118\n",
       "7871    7.099681\n",
       "7872    7.602647\n",
       "7873    9.541127\n",
       "Name: rat_oral_LD50, Length: 7874, dtype: float64"
      ]
     },
     "execution_count": 36,
     "metadata": {},
     "output_type": "execute_result"
    }
   ],
   "source": [
    "y_tr=df_ws.rat_oral_LD50\t\n",
    "y_tr"
   ]
  },
  {
   "cell_type": "code",
   "execution_count": 37,
   "metadata": {},
   "outputs": [],
   "source": [
    "moldf_ws=df_ws.Molecule"
   ]
  },
  {
   "cell_type": "markdown",
   "metadata": {},
   "source": [
    "##  Load data and curation test set"
   ]
  },
  {
   "cell_type": "code",
   "execution_count": 39,
   "metadata": {
    "scrolled": true
   },
   "outputs": [
    {
     "data": {
      "text/html": [
       "<div>\n",
       "<style scoped>\n",
       "    .dataframe tbody tr th:only-of-type {\n",
       "        vertical-align: middle;\n",
       "    }\n",
       "\n",
       "    .dataframe tbody tr th {\n",
       "        vertical-align: top;\n",
       "    }\n",
       "\n",
       "    .dataframe thead th {\n",
       "        text-align: right;\n",
       "    }\n",
       "</style>\n",
       "<table border=\"1\" class=\"dataframe\">\n",
       "  <thead>\n",
       "    <tr style=\"text-align: right;\">\n",
       "      <th></th>\n",
       "      <th>TAID</th>\n",
       "      <th>Pubchem CID</th>\n",
       "      <th>IUPAC Name</th>\n",
       "      <th>SMILES</th>\n",
       "      <th>Canonical_SMILES</th>\n",
       "      <th>InChIKey</th>\n",
       "      <th>rat_oral_LD50</th>\n",
       "    </tr>\n",
       "  </thead>\n",
       "  <tbody>\n",
       "    <tr>\n",
       "      <th>0</th>\n",
       "      <td>TOX-17137</td>\n",
       "      <td>297</td>\n",
       "      <td>methane</td>\n",
       "      <td>C</td>\n",
       "      <td>C</td>\n",
       "      <td>VNWKTOKETHGBQD-UHFFFAOYSA-N</td>\n",
       "      <td>0.017765</td>\n",
       "    </tr>\n",
       "    <tr>\n",
       "      <th>1</th>\n",
       "      <td>TOX-107853</td>\n",
       "      <td>17827</td>\n",
       "      <td>2-(cyclohexylamino)ethanol</td>\n",
       "      <td>OCCNC1CCCCC1</td>\n",
       "      <td>OCCNC1CCCCC1</td>\n",
       "      <td>MGUMZJAQENFQKN-UHFFFAOYSA-N</td>\n",
       "      <td>0.572835</td>\n",
       "    </tr>\n",
       "    <tr>\n",
       "      <th>2</th>\n",
       "      <td>TOX-44620</td>\n",
       "      <td>974</td>\n",
       "      <td>oxamic acid</td>\n",
       "      <td>NC(=O)C(=O)O</td>\n",
       "      <td>NC(=O)C(=O)O</td>\n",
       "      <td>SOWBFZRMHSNYGE-UHFFFAOYSA-N</td>\n",
       "      <td>0.624488</td>\n",
       "    </tr>\n",
       "    <tr>\n",
       "      <th>3</th>\n",
       "      <td>TOX-11368</td>\n",
       "      <td>62433</td>\n",
       "      <td>pentyl pentanoate</td>\n",
       "      <td>CCCCCOC(=O)CCCC</td>\n",
       "      <td>CCCCCOC(=O)CCCC</td>\n",
       "      <td>FGPPDYNPZTUNIU-UHFFFAOYSA-N</td>\n",
       "      <td>0.686956</td>\n",
       "    </tr>\n",
       "    <tr>\n",
       "      <th>4</th>\n",
       "      <td>TOX-7935</td>\n",
       "      <td>11429</td>\n",
       "      <td>butane-1,2-diol</td>\n",
       "      <td>CCC(O)CO</td>\n",
       "      <td>CCC(O)CO</td>\n",
       "      <td>BMRWNKZVCUKKSR-UHFFFAOYSA-N</td>\n",
       "      <td>0.750711</td>\n",
       "    </tr>\n",
       "    <tr>\n",
       "      <th>...</th>\n",
       "      <td>...</td>\n",
       "      <td>...</td>\n",
       "      <td>...</td>\n",
       "      <td>...</td>\n",
       "      <td>...</td>\n",
       "      <td>...</td>\n",
       "      <td>...</td>\n",
       "    </tr>\n",
       "    <tr>\n",
       "      <th>1964</th>\n",
       "      <td>TOX-31209</td>\n",
       "      <td>123453</td>\n",
       "      <td>N-(2,8,9-trioxa-5-aza-1-silabicyclo[3.3.3]unde...</td>\n",
       "      <td>c1ccc(NC[Si]23OCCN(CCO2)CCO3)cc1</td>\n",
       "      <td>c1ccc(NC[Si]23OCCN(CCO2)CCO3)cc1</td>\n",
       "      <td>YGHSPISFNKUQEY-UHFFFAOYSA-N</td>\n",
       "      <td>5.931904</td>\n",
       "    </tr>\n",
       "    <tr>\n",
       "      <th>1965</th>\n",
       "      <td>TOX-63960</td>\n",
       "      <td>91771</td>\n",
       "      <td>3-[3-[4-(4-bromophenyl)phenyl]-1,2,3,4-tetrahy...</td>\n",
       "      <td>O=c1sc2ccccc2c(O)c1C1CC(c2ccc(-c3ccc(Br)cc3)cc...</td>\n",
       "      <td>O=c1sc2ccccc2c(O)c1C1CC(c2ccc(-c3ccc(Br)cc3)cc...</td>\n",
       "      <td>VSVAQRUUFVBBFS-UHFFFAOYSA-N</td>\n",
       "      <td>5.991624</td>\n",
       "    </tr>\n",
       "    <tr>\n",
       "      <th>1966</th>\n",
       "      <td>TOX-33005</td>\n",
       "      <td>38439</td>\n",
       "      <td>1,2,3,7,8-pentachlorodibenzo-p-dioxin</td>\n",
       "      <td>Clc1cc2c(cc1Cl)Oc1c(cc(Cl)c(Cl)c1Cl)O2</td>\n",
       "      <td>Clc1cc2c(cc1Cl)Oc1c(cc(Cl)c(Cl)c1Cl)O2</td>\n",
       "      <td>FSPZPQQWDODWAU-UHFFFAOYSA-N</td>\n",
       "      <td>6.238094</td>\n",
       "    </tr>\n",
       "    <tr>\n",
       "      <th>1967</th>\n",
       "      <td>TOX-24685</td>\n",
       "      <td>198007</td>\n",
       "      <td>3-ethyl-N-[methoxy(methylsulfanyl)phosphoryl]-...</td>\n",
       "      <td>CCN1CC(C)OC1=NP(=O)(OC)SC</td>\n",
       "      <td>CCN1CC(C)OC1=NP(=O)(OC)SC</td>\n",
       "      <td>JCYANUVOCLKHHY-UHFFFAOYSA-N</td>\n",
       "      <td>6.401876</td>\n",
       "    </tr>\n",
       "    <tr>\n",
       "      <th>1968</th>\n",
       "      <td>TOX-2398</td>\n",
       "      <td>15625</td>\n",
       "      <td>2,3,7,8-tetrachlorodibenzo-p-dioxin</td>\n",
       "      <td>Clc1cc2c(cc1Cl)Oc1cc(Cl)c(Cl)cc1O2</td>\n",
       "      <td>Clc1cc2c(cc1Cl)Oc1cc(Cl)c(Cl)cc1O2</td>\n",
       "      <td>HGUFODBRKLSHSI-UHFFFAOYSA-N</td>\n",
       "      <td>7.206791</td>\n",
       "    </tr>\n",
       "  </tbody>\n",
       "</table>\n",
       "<p>1969 rows × 7 columns</p>\n",
       "</div>"
      ],
      "text/plain": [
       "            TAID  Pubchem CID  \\\n",
       "0      TOX-17137          297   \n",
       "1     TOX-107853        17827   \n",
       "2      TOX-44620          974   \n",
       "3      TOX-11368        62433   \n",
       "4       TOX-7935        11429   \n",
       "...          ...          ...   \n",
       "1964   TOX-31209       123453   \n",
       "1965   TOX-63960        91771   \n",
       "1966   TOX-33005        38439   \n",
       "1967   TOX-24685       198007   \n",
       "1968    TOX-2398        15625   \n",
       "\n",
       "                                             IUPAC Name  \\\n",
       "0                                               methane   \n",
       "1                            2-(cyclohexylamino)ethanol   \n",
       "2                                           oxamic acid   \n",
       "3                                     pentyl pentanoate   \n",
       "4                                       butane-1,2-diol   \n",
       "...                                                 ...   \n",
       "1964  N-(2,8,9-trioxa-5-aza-1-silabicyclo[3.3.3]unde...   \n",
       "1965  3-[3-[4-(4-bromophenyl)phenyl]-1,2,3,4-tetrahy...   \n",
       "1966              1,2,3,7,8-pentachlorodibenzo-p-dioxin   \n",
       "1967  3-ethyl-N-[methoxy(methylsulfanyl)phosphoryl]-...   \n",
       "1968                2,3,7,8-tetrachlorodibenzo-p-dioxin   \n",
       "\n",
       "                                                 SMILES  \\\n",
       "0                                                     C   \n",
       "1                                          OCCNC1CCCCC1   \n",
       "2                                          NC(=O)C(=O)O   \n",
       "3                                       CCCCCOC(=O)CCCC   \n",
       "4                                              CCC(O)CO   \n",
       "...                                                 ...   \n",
       "1964                   c1ccc(NC[Si]23OCCN(CCO2)CCO3)cc1   \n",
       "1965  O=c1sc2ccccc2c(O)c1C1CC(c2ccc(-c3ccc(Br)cc3)cc...   \n",
       "1966             Clc1cc2c(cc1Cl)Oc1c(cc(Cl)c(Cl)c1Cl)O2   \n",
       "1967                          CCN1CC(C)OC1=NP(=O)(OC)SC   \n",
       "1968                 Clc1cc2c(cc1Cl)Oc1cc(Cl)c(Cl)cc1O2   \n",
       "\n",
       "                                       Canonical_SMILES  \\\n",
       "0                                                     C   \n",
       "1                                          OCCNC1CCCCC1   \n",
       "2                                          NC(=O)C(=O)O   \n",
       "3                                       CCCCCOC(=O)CCCC   \n",
       "4                                              CCC(O)CO   \n",
       "...                                                 ...   \n",
       "1964                   c1ccc(NC[Si]23OCCN(CCO2)CCO3)cc1   \n",
       "1965  O=c1sc2ccccc2c(O)c1C1CC(c2ccc(-c3ccc(Br)cc3)cc...   \n",
       "1966             Clc1cc2c(cc1Cl)Oc1c(cc(Cl)c(Cl)c1Cl)O2   \n",
       "1967                          CCN1CC(C)OC1=NP(=O)(OC)SC   \n",
       "1968                 Clc1cc2c(cc1Cl)Oc1cc(Cl)c(Cl)cc1O2   \n",
       "\n",
       "                         InChIKey  rat_oral_LD50  \n",
       "0     VNWKTOKETHGBQD-UHFFFAOYSA-N       0.017765  \n",
       "1     MGUMZJAQENFQKN-UHFFFAOYSA-N       0.572835  \n",
       "2     SOWBFZRMHSNYGE-UHFFFAOYSA-N       0.624488  \n",
       "3     FGPPDYNPZTUNIU-UHFFFAOYSA-N       0.686956  \n",
       "4     BMRWNKZVCUKKSR-UHFFFAOYSA-N       0.750711  \n",
       "...                           ...            ...  \n",
       "1964  YGHSPISFNKUQEY-UHFFFAOYSA-N       5.931904  \n",
       "1965  VSVAQRUUFVBBFS-UHFFFAOYSA-N       5.991624  \n",
       "1966  FSPZPQQWDODWAU-UHFFFAOYSA-N       6.238094  \n",
       "1967  JCYANUVOCLKHHY-UHFFFAOYSA-N       6.401876  \n",
       "1968  HGUFODBRKLSHSI-UHFFFAOYSA-N       7.206791  \n",
       "\n",
       "[1969 rows x 7 columns]"
      ]
     },
     "execution_count": 39,
     "metadata": {},
     "output_type": "execute_result"
    }
   ],
   "source": [
    "df_ts=pd.read_csv('datasets/rat_oral_LD50_TS.csv')\n",
    "df_ts"
   ]
  },
  {
   "cell_type": "markdown",
   "metadata": {},
   "source": [
    "##  Standardization  for test set"
   ]
  },
  {
   "cell_type": "code",
   "execution_count": 41,
   "metadata": {},
   "outputs": [
    {
     "name": "stdout",
     "output_type": "stream",
     "text": [
      "Kept data:  1969 molecules\n"
     ]
    }
   ],
   "source": [
    "df_ts[\"Molecule\"] = df_ts.apply(lambda x: standart(x.Canonical_SMILES), axis=1)\n",
    "moldf_ts=df_ts[df_ts['SMILES']!='wrong_smiles']\n",
    "print('Kept data: ', len(moldf_ts), 'molecules')"
   ]
  },
  {
   "cell_type": "code",
   "execution_count": 42,
   "metadata": {},
   "outputs": [
    {
     "data": {
      "text/html": [
       "<div>\n",
       "<style scoped>\n",
       "    .dataframe tbody tr th:only-of-type {\n",
       "        vertical-align: middle;\n",
       "    }\n",
       "\n",
       "    .dataframe tbody tr th {\n",
       "        vertical-align: top;\n",
       "    }\n",
       "\n",
       "    .dataframe thead th {\n",
       "        text-align: right;\n",
       "    }\n",
       "</style>\n",
       "<table border=\"1\" class=\"dataframe\">\n",
       "  <thead>\n",
       "    <tr style=\"text-align: right;\">\n",
       "      <th></th>\n",
       "      <th>TAID</th>\n",
       "      <th>Pubchem CID</th>\n",
       "      <th>IUPAC Name</th>\n",
       "      <th>SMILES</th>\n",
       "      <th>Canonical_SMILES</th>\n",
       "      <th>InChIKey</th>\n",
       "      <th>rat_oral_LD50</th>\n",
       "      <th>Molecule</th>\n",
       "    </tr>\n",
       "  </thead>\n",
       "  <tbody>\n",
       "    <tr>\n",
       "      <th>0</th>\n",
       "      <td>TOX-17137</td>\n",
       "      <td>297</td>\n",
       "      <td>methane</td>\n",
       "      <td>C</td>\n",
       "      <td>C</td>\n",
       "      <td>VNWKTOKETHGBQD-UHFFFAOYSA-N</td>\n",
       "      <td>0.017765</td>\n",
       "      <td>&lt;rdkit.Chem.rdchem.Mol object at 0x000002B4C41...</td>\n",
       "    </tr>\n",
       "    <tr>\n",
       "      <th>1</th>\n",
       "      <td>TOX-107853</td>\n",
       "      <td>17827</td>\n",
       "      <td>2-(cyclohexylamino)ethanol</td>\n",
       "      <td>OCCNC1CCCCC1</td>\n",
       "      <td>OCCNC1CCCCC1</td>\n",
       "      <td>MGUMZJAQENFQKN-UHFFFAOYSA-N</td>\n",
       "      <td>0.572835</td>\n",
       "      <td>&lt;rdkit.Chem.rdchem.Mol object at 0x000002B4C41...</td>\n",
       "    </tr>\n",
       "    <tr>\n",
       "      <th>2</th>\n",
       "      <td>TOX-44620</td>\n",
       "      <td>974</td>\n",
       "      <td>oxamic acid</td>\n",
       "      <td>NC(=O)C(=O)O</td>\n",
       "      <td>NC(=O)C(=O)O</td>\n",
       "      <td>SOWBFZRMHSNYGE-UHFFFAOYSA-N</td>\n",
       "      <td>0.624488</td>\n",
       "      <td>&lt;rdkit.Chem.rdchem.Mol object at 0x000002B4C41...</td>\n",
       "    </tr>\n",
       "    <tr>\n",
       "      <th>3</th>\n",
       "      <td>TOX-11368</td>\n",
       "      <td>62433</td>\n",
       "      <td>pentyl pentanoate</td>\n",
       "      <td>CCCCCOC(=O)CCCC</td>\n",
       "      <td>CCCCCOC(=O)CCCC</td>\n",
       "      <td>FGPPDYNPZTUNIU-UHFFFAOYSA-N</td>\n",
       "      <td>0.686956</td>\n",
       "      <td>&lt;rdkit.Chem.rdchem.Mol object at 0x000002B4C41...</td>\n",
       "    </tr>\n",
       "    <tr>\n",
       "      <th>4</th>\n",
       "      <td>TOX-7935</td>\n",
       "      <td>11429</td>\n",
       "      <td>butane-1,2-diol</td>\n",
       "      <td>CCC(O)CO</td>\n",
       "      <td>CCC(O)CO</td>\n",
       "      <td>BMRWNKZVCUKKSR-UHFFFAOYSA-N</td>\n",
       "      <td>0.750711</td>\n",
       "      <td>&lt;rdkit.Chem.rdchem.Mol object at 0x000002B4C41...</td>\n",
       "    </tr>\n",
       "    <tr>\n",
       "      <th>...</th>\n",
       "      <td>...</td>\n",
       "      <td>...</td>\n",
       "      <td>...</td>\n",
       "      <td>...</td>\n",
       "      <td>...</td>\n",
       "      <td>...</td>\n",
       "      <td>...</td>\n",
       "      <td>...</td>\n",
       "    </tr>\n",
       "    <tr>\n",
       "      <th>1964</th>\n",
       "      <td>TOX-31209</td>\n",
       "      <td>123453</td>\n",
       "      <td>N-(2,8,9-trioxa-5-aza-1-silabicyclo[3.3.3]unde...</td>\n",
       "      <td>c1ccc(NC[Si]23OCCN(CCO2)CCO3)cc1</td>\n",
       "      <td>c1ccc(NC[Si]23OCCN(CCO2)CCO3)cc1</td>\n",
       "      <td>YGHSPISFNKUQEY-UHFFFAOYSA-N</td>\n",
       "      <td>5.931904</td>\n",
       "      <td>&lt;rdkit.Chem.rdchem.Mol object at 0x000002B4C34...</td>\n",
       "    </tr>\n",
       "    <tr>\n",
       "      <th>1965</th>\n",
       "      <td>TOX-63960</td>\n",
       "      <td>91771</td>\n",
       "      <td>3-[3-[4-(4-bromophenyl)phenyl]-1,2,3,4-tetrahy...</td>\n",
       "      <td>O=c1sc2ccccc2c(O)c1C1CC(c2ccc(-c3ccc(Br)cc3)cc...</td>\n",
       "      <td>O=c1sc2ccccc2c(O)c1C1CC(c2ccc(-c3ccc(Br)cc3)cc...</td>\n",
       "      <td>VSVAQRUUFVBBFS-UHFFFAOYSA-N</td>\n",
       "      <td>5.991624</td>\n",
       "      <td>&lt;rdkit.Chem.rdchem.Mol object at 0x000002B4C34...</td>\n",
       "    </tr>\n",
       "    <tr>\n",
       "      <th>1966</th>\n",
       "      <td>TOX-33005</td>\n",
       "      <td>38439</td>\n",
       "      <td>1,2,3,7,8-pentachlorodibenzo-p-dioxin</td>\n",
       "      <td>Clc1cc2c(cc1Cl)Oc1c(cc(Cl)c(Cl)c1Cl)O2</td>\n",
       "      <td>Clc1cc2c(cc1Cl)Oc1c(cc(Cl)c(Cl)c1Cl)O2</td>\n",
       "      <td>FSPZPQQWDODWAU-UHFFFAOYSA-N</td>\n",
       "      <td>6.238094</td>\n",
       "      <td>&lt;rdkit.Chem.rdchem.Mol object at 0x000002B4C34...</td>\n",
       "    </tr>\n",
       "    <tr>\n",
       "      <th>1967</th>\n",
       "      <td>TOX-24685</td>\n",
       "      <td>198007</td>\n",
       "      <td>3-ethyl-N-[methoxy(methylsulfanyl)phosphoryl]-...</td>\n",
       "      <td>CCN1CC(C)OC1=NP(=O)(OC)SC</td>\n",
       "      <td>CCN1CC(C)OC1=NP(=O)(OC)SC</td>\n",
       "      <td>JCYANUVOCLKHHY-UHFFFAOYSA-N</td>\n",
       "      <td>6.401876</td>\n",
       "      <td>&lt;rdkit.Chem.rdchem.Mol object at 0x000002B4C34...</td>\n",
       "    </tr>\n",
       "    <tr>\n",
       "      <th>1968</th>\n",
       "      <td>TOX-2398</td>\n",
       "      <td>15625</td>\n",
       "      <td>2,3,7,8-tetrachlorodibenzo-p-dioxin</td>\n",
       "      <td>Clc1cc2c(cc1Cl)Oc1cc(Cl)c(Cl)cc1O2</td>\n",
       "      <td>Clc1cc2c(cc1Cl)Oc1cc(Cl)c(Cl)cc1O2</td>\n",
       "      <td>HGUFODBRKLSHSI-UHFFFAOYSA-N</td>\n",
       "      <td>7.206791</td>\n",
       "      <td>&lt;rdkit.Chem.rdchem.Mol object at 0x000002B4C34...</td>\n",
       "    </tr>\n",
       "  </tbody>\n",
       "</table>\n",
       "<p>1969 rows × 8 columns</p>\n",
       "</div>"
      ],
      "text/plain": [
       "            TAID  Pubchem CID  \\\n",
       "0      TOX-17137          297   \n",
       "1     TOX-107853        17827   \n",
       "2      TOX-44620          974   \n",
       "3      TOX-11368        62433   \n",
       "4       TOX-7935        11429   \n",
       "...          ...          ...   \n",
       "1964   TOX-31209       123453   \n",
       "1965   TOX-63960        91771   \n",
       "1966   TOX-33005        38439   \n",
       "1967   TOX-24685       198007   \n",
       "1968    TOX-2398        15625   \n",
       "\n",
       "                                             IUPAC Name  \\\n",
       "0                                               methane   \n",
       "1                            2-(cyclohexylamino)ethanol   \n",
       "2                                           oxamic acid   \n",
       "3                                     pentyl pentanoate   \n",
       "4                                       butane-1,2-diol   \n",
       "...                                                 ...   \n",
       "1964  N-(2,8,9-trioxa-5-aza-1-silabicyclo[3.3.3]unde...   \n",
       "1965  3-[3-[4-(4-bromophenyl)phenyl]-1,2,3,4-tetrahy...   \n",
       "1966              1,2,3,7,8-pentachlorodibenzo-p-dioxin   \n",
       "1967  3-ethyl-N-[methoxy(methylsulfanyl)phosphoryl]-...   \n",
       "1968                2,3,7,8-tetrachlorodibenzo-p-dioxin   \n",
       "\n",
       "                                                 SMILES  \\\n",
       "0                                                     C   \n",
       "1                                          OCCNC1CCCCC1   \n",
       "2                                          NC(=O)C(=O)O   \n",
       "3                                       CCCCCOC(=O)CCCC   \n",
       "4                                              CCC(O)CO   \n",
       "...                                                 ...   \n",
       "1964                   c1ccc(NC[Si]23OCCN(CCO2)CCO3)cc1   \n",
       "1965  O=c1sc2ccccc2c(O)c1C1CC(c2ccc(-c3ccc(Br)cc3)cc...   \n",
       "1966             Clc1cc2c(cc1Cl)Oc1c(cc(Cl)c(Cl)c1Cl)O2   \n",
       "1967                          CCN1CC(C)OC1=NP(=O)(OC)SC   \n",
       "1968                 Clc1cc2c(cc1Cl)Oc1cc(Cl)c(Cl)cc1O2   \n",
       "\n",
       "                                       Canonical_SMILES  \\\n",
       "0                                                     C   \n",
       "1                                          OCCNC1CCCCC1   \n",
       "2                                          NC(=O)C(=O)O   \n",
       "3                                       CCCCCOC(=O)CCCC   \n",
       "4                                              CCC(O)CO   \n",
       "...                                                 ...   \n",
       "1964                   c1ccc(NC[Si]23OCCN(CCO2)CCO3)cc1   \n",
       "1965  O=c1sc2ccccc2c(O)c1C1CC(c2ccc(-c3ccc(Br)cc3)cc...   \n",
       "1966             Clc1cc2c(cc1Cl)Oc1c(cc(Cl)c(Cl)c1Cl)O2   \n",
       "1967                          CCN1CC(C)OC1=NP(=O)(OC)SC   \n",
       "1968                 Clc1cc2c(cc1Cl)Oc1cc(Cl)c(Cl)cc1O2   \n",
       "\n",
       "                         InChIKey  rat_oral_LD50  \\\n",
       "0     VNWKTOKETHGBQD-UHFFFAOYSA-N       0.017765   \n",
       "1     MGUMZJAQENFQKN-UHFFFAOYSA-N       0.572835   \n",
       "2     SOWBFZRMHSNYGE-UHFFFAOYSA-N       0.624488   \n",
       "3     FGPPDYNPZTUNIU-UHFFFAOYSA-N       0.686956   \n",
       "4     BMRWNKZVCUKKSR-UHFFFAOYSA-N       0.750711   \n",
       "...                           ...            ...   \n",
       "1964  YGHSPISFNKUQEY-UHFFFAOYSA-N       5.931904   \n",
       "1965  VSVAQRUUFVBBFS-UHFFFAOYSA-N       5.991624   \n",
       "1966  FSPZPQQWDODWAU-UHFFFAOYSA-N       6.238094   \n",
       "1967  JCYANUVOCLKHHY-UHFFFAOYSA-N       6.401876   \n",
       "1968  HGUFODBRKLSHSI-UHFFFAOYSA-N       7.206791   \n",
       "\n",
       "                                               Molecule  \n",
       "0     <rdkit.Chem.rdchem.Mol object at 0x000002B4C41...  \n",
       "1     <rdkit.Chem.rdchem.Mol object at 0x000002B4C41...  \n",
       "2     <rdkit.Chem.rdchem.Mol object at 0x000002B4C41...  \n",
       "3     <rdkit.Chem.rdchem.Mol object at 0x000002B4C41...  \n",
       "4     <rdkit.Chem.rdchem.Mol object at 0x000002B4C41...  \n",
       "...                                                 ...  \n",
       "1964  <rdkit.Chem.rdchem.Mol object at 0x000002B4C34...  \n",
       "1965  <rdkit.Chem.rdchem.Mol object at 0x000002B4C34...  \n",
       "1966  <rdkit.Chem.rdchem.Mol object at 0x000002B4C34...  \n",
       "1967  <rdkit.Chem.rdchem.Mol object at 0x000002B4C34...  \n",
       "1968  <rdkit.Chem.rdchem.Mol object at 0x000002B4C34...  \n",
       "\n",
       "[1969 rows x 8 columns]"
      ]
     },
     "execution_count": 42,
     "metadata": {},
     "output_type": "execute_result"
    }
   ],
   "source": [
    "moldf_ts"
   ]
  },
  {
   "cell_type": "code",
   "execution_count": 43,
   "metadata": {},
   "outputs": [
    {
     "data": {
      "text/plain": [
       "0       0.017765\n",
       "1       0.572835\n",
       "2       0.624488\n",
       "3       0.686956\n",
       "4       0.750711\n",
       "          ...   \n",
       "1964    5.931904\n",
       "1965    5.991624\n",
       "1966    6.238094\n",
       "1967    6.401876\n",
       "1968    7.206791\n",
       "Name: rat_oral_LD50, Length: 1969, dtype: float64"
      ]
     },
     "execution_count": 43,
     "metadata": {},
     "output_type": "execute_result"
    }
   ],
   "source": [
    "y_ts=moldf_ts.rat_oral_LD50\n",
    "y_ts"
   ]
  },
  {
   "cell_type": "code",
   "execution_count": 44,
   "metadata": {},
   "outputs": [],
   "source": [
    "moldf_ts=moldf_ts.Molecule"
   ]
  },
  {
   "cell_type": "markdown",
   "metadata": {},
   "source": [
    "## Calculation MorganFingerprint for work set"
   ]
  },
  {
   "cell_type": "code",
   "execution_count": 88,
   "metadata": {},
   "outputs": [],
   "source": [
    "mfpgen = rdFingerprintGenerator.GetMorganGenerator(radius=2,fpSize=1024)"
   ]
  },
  {
   "cell_type": "code",
   "execution_count": 91,
   "metadata": {},
   "outputs": [],
   "source": [
    "fp_tr = [mfpgen.GetFingerprint(m)for m in moldf_ws]"
   ]
  },
  {
   "cell_type": "code",
   "execution_count": 94,
   "metadata": {},
   "outputs": [],
   "source": [
    "def rdkit_numpy_convert(fp_tr):\n",
    "    output = []\n",
    "    for f in fp_tr:\n",
    "        arr = np.zeros((1,))\n",
    "        DataStructs.ConvertToNumpyArray(f, arr)\n",
    "        output.append(arr)\n",
    "    return np.asarray(output)"
   ]
  },
  {
   "cell_type": "code",
   "execution_count": 97,
   "metadata": {},
   "outputs": [],
   "source": [
    "from numpy import savetxt\n",
    "x_tr = rdkit_numpy_convert(fp_tr)"
   ]
  },
  {
   "cell_type": "code",
   "execution_count": 99,
   "metadata": {},
   "outputs": [],
   "source": [
    "savetxt('Models/MorganFingerprint/x_tr.csv', x_tr, delimiter=',')"
   ]
  },
  {
   "cell_type": "code",
   "execution_count": 101,
   "metadata": {},
   "outputs": [
    {
     "data": {
      "text/plain": [
       "(7874, 1024)"
      ]
     },
     "execution_count": 101,
     "metadata": {},
     "output_type": "execute_result"
    }
   ],
   "source": [
    "x_tr.shape"
   ]
  },
  {
   "cell_type": "markdown",
   "metadata": {},
   "source": [
    "## Calculation MorganFingerprint for test set"
   ]
  },
  {
   "cell_type": "code",
   "execution_count": 104,
   "metadata": {},
   "outputs": [],
   "source": [
    "fp_ts = [mfpgen.GetFingerprint(m) for m in moldf_ts]"
   ]
  },
  {
   "cell_type": "code",
   "execution_count": 107,
   "metadata": {},
   "outputs": [],
   "source": [
    "def rdkit_numpy_convert(fp_ts):\n",
    "    output = []\n",
    "    for f in fp_ts:\n",
    "        arr = np.zeros((1,))\n",
    "        DataStructs.ConvertToNumpyArray(f, arr)\n",
    "        output.append(arr)\n",
    "    return np.asarray(output)"
   ]
  },
  {
   "cell_type": "code",
   "execution_count": 109,
   "metadata": {},
   "outputs": [],
   "source": [
    "x_ts = rdkit_numpy_convert(fp_ts)"
   ]
  },
  {
   "cell_type": "code",
   "execution_count": 111,
   "metadata": {},
   "outputs": [
    {
     "data": {
      "text/plain": [
       "(1969, 1024)"
      ]
     },
     "execution_count": 111,
     "metadata": {},
     "output_type": "execute_result"
    }
   ],
   "source": [
    "x_ts.shape"
   ]
  },
  {
   "cell_type": "code",
   "execution_count": 113,
   "metadata": {},
   "outputs": [],
   "source": [
    "x_tr = np.array(x_tr, dtype=np.float32)\n",
    "y_tr = np.array(y_tr, dtype=np.float32)"
   ]
  },
  {
   "cell_type": "code",
   "execution_count": null,
   "metadata": {},
   "outputs": [],
   "source": []
  },
  {
   "cell_type": "markdown",
   "metadata": {},
   "source": [
    "# CatBoostRegressor"
   ]
  },
  {
   "cell_type": "code",
   "execution_count": 122,
   "metadata": {},
   "outputs": [],
   "source": [
    "cv=KFold(n_splits=5, random_state=42, shuffle=True)"
   ]
  },
  {
   "cell_type": "code",
   "execution_count": 74,
   "metadata": {},
   "outputs": [
    {
     "name": "stdout",
     "output_type": "stream",
     "text": [
      "CPU times: total: 31min 22s\n",
      "Wall time: 46min 6s\n"
     ]
    },
    {
     "data": {
      "text/html": [
       "<style>#sk-container-id-2 {color: black;}#sk-container-id-2 pre{padding: 0;}#sk-container-id-2 div.sk-toggleable {background-color: white;}#sk-container-id-2 label.sk-toggleable__label {cursor: pointer;display: block;width: 100%;margin-bottom: 0;padding: 0.3em;box-sizing: border-box;text-align: center;}#sk-container-id-2 label.sk-toggleable__label-arrow:before {content: \"▸\";float: left;margin-right: 0.25em;color: #696969;}#sk-container-id-2 label.sk-toggleable__label-arrow:hover:before {color: black;}#sk-container-id-2 div.sk-estimator:hover label.sk-toggleable__label-arrow:before {color: black;}#sk-container-id-2 div.sk-toggleable__content {max-height: 0;max-width: 0;overflow: hidden;text-align: left;background-color: #f0f8ff;}#sk-container-id-2 div.sk-toggleable__content pre {margin: 0.2em;color: black;border-radius: 0.25em;background-color: #f0f8ff;}#sk-container-id-2 input.sk-toggleable__control:checked~div.sk-toggleable__content {max-height: 200px;max-width: 100%;overflow: auto;}#sk-container-id-2 input.sk-toggleable__control:checked~label.sk-toggleable__label-arrow:before {content: \"▾\";}#sk-container-id-2 div.sk-estimator input.sk-toggleable__control:checked~label.sk-toggleable__label {background-color: #d4ebff;}#sk-container-id-2 div.sk-label input.sk-toggleable__control:checked~label.sk-toggleable__label {background-color: #d4ebff;}#sk-container-id-2 input.sk-hidden--visually {border: 0;clip: rect(1px 1px 1px 1px);clip: rect(1px, 1px, 1px, 1px);height: 1px;margin: -1px;overflow: hidden;padding: 0;position: absolute;width: 1px;}#sk-container-id-2 div.sk-estimator {font-family: monospace;background-color: #f0f8ff;border: 1px dotted black;border-radius: 0.25em;box-sizing: border-box;margin-bottom: 0.5em;}#sk-container-id-2 div.sk-estimator:hover {background-color: #d4ebff;}#sk-container-id-2 div.sk-parallel-item::after {content: \"\";width: 100%;border-bottom: 1px solid gray;flex-grow: 1;}#sk-container-id-2 div.sk-label:hover label.sk-toggleable__label {background-color: #d4ebff;}#sk-container-id-2 div.sk-serial::before {content: \"\";position: absolute;border-left: 1px solid gray;box-sizing: border-box;top: 0;bottom: 0;left: 50%;z-index: 0;}#sk-container-id-2 div.sk-serial {display: flex;flex-direction: column;align-items: center;background-color: white;padding-right: 0.2em;padding-left: 0.2em;position: relative;}#sk-container-id-2 div.sk-item {position: relative;z-index: 1;}#sk-container-id-2 div.sk-parallel {display: flex;align-items: stretch;justify-content: center;background-color: white;position: relative;}#sk-container-id-2 div.sk-item::before, #sk-container-id-2 div.sk-parallel-item::before {content: \"\";position: absolute;border-left: 1px solid gray;box-sizing: border-box;top: 0;bottom: 0;left: 50%;z-index: -1;}#sk-container-id-2 div.sk-parallel-item {display: flex;flex-direction: column;z-index: 1;position: relative;background-color: white;}#sk-container-id-2 div.sk-parallel-item:first-child::after {align-self: flex-end;width: 50%;}#sk-container-id-2 div.sk-parallel-item:last-child::after {align-self: flex-start;width: 50%;}#sk-container-id-2 div.sk-parallel-item:only-child::after {width: 0;}#sk-container-id-2 div.sk-dashed-wrapped {border: 1px dashed gray;margin: 0 0.4em 0.5em 0.4em;box-sizing: border-box;padding-bottom: 0.4em;background-color: white;}#sk-container-id-2 div.sk-label label {font-family: monospace;font-weight: bold;display: inline-block;line-height: 1.2em;}#sk-container-id-2 div.sk-label-container {text-align: center;}#sk-container-id-2 div.sk-container {/* jupyter's `normalize.less` sets `[hidden] { display: none; }` but bootstrap.min.css set `[hidden] { display: none !important; }` so we also need the `!important` here to be able to override the default hidden behavior on the sphinx rendered scikit-learn.org. See: https://github.com/scikit-learn/scikit-learn/issues/21755 */display: inline-block !important;position: relative;}#sk-container-id-2 div.sk-text-repr-fallback {display: none;}</style><div id=\"sk-container-id-2\" class=\"sk-top-container\"><div class=\"sk-text-repr-fallback\"><pre>GridSearchCV(cv=KFold(n_splits=5, random_state=42, shuffle=True),\n",
       "             estimator=&lt;catboost.core.CatBoostRegressor object at 0x000001D755687D00&gt;,\n",
       "             n_jobs=-1,\n",
       "             param_grid={&#x27;depth&#x27;: [6, 8, 10], &#x27;iterations&#x27;: [100, 500, 1000],\n",
       "                         &#x27;learning_rate&#x27;: [0.01, 0.05, 0.1]})</pre><b>In a Jupyter environment, please rerun this cell to show the HTML representation or trust the notebook. <br />On GitHub, the HTML representation is unable to render, please try loading this page with nbviewer.org.</b></div><div class=\"sk-container\" hidden><div class=\"sk-item sk-dashed-wrapped\"><div class=\"sk-label-container\"><div class=\"sk-label sk-toggleable\"><input class=\"sk-toggleable__control sk-hidden--visually\" id=\"sk-estimator-id-4\" type=\"checkbox\" ><label for=\"sk-estimator-id-4\" class=\"sk-toggleable__label sk-toggleable__label-arrow\">GridSearchCV</label><div class=\"sk-toggleable__content\"><pre>GridSearchCV(cv=KFold(n_splits=5, random_state=42, shuffle=True),\n",
       "             estimator=&lt;catboost.core.CatBoostRegressor object at 0x000001D755687D00&gt;,\n",
       "             n_jobs=-1,\n",
       "             param_grid={&#x27;depth&#x27;: [6, 8, 10], &#x27;iterations&#x27;: [100, 500, 1000],\n",
       "                         &#x27;learning_rate&#x27;: [0.01, 0.05, 0.1]})</pre></div></div></div><div class=\"sk-parallel\"><div class=\"sk-parallel-item\"><div class=\"sk-item\"><div class=\"sk-label-container\"><div class=\"sk-label sk-toggleable\"><input class=\"sk-toggleable__control sk-hidden--visually\" id=\"sk-estimator-id-5\" type=\"checkbox\" ><label for=\"sk-estimator-id-5\" class=\"sk-toggleable__label sk-toggleable__label-arrow\">estimator: CatBoostRegressor</label><div class=\"sk-toggleable__content\"><pre>&lt;catboost.core.CatBoostRegressor object at 0x000001D755687D00&gt;</pre></div></div></div><div class=\"sk-serial\"><div class=\"sk-item\"><div class=\"sk-estimator sk-toggleable\"><input class=\"sk-toggleable__control sk-hidden--visually\" id=\"sk-estimator-id-6\" type=\"checkbox\" ><label for=\"sk-estimator-id-6\" class=\"sk-toggleable__label sk-toggleable__label-arrow\">CatBoostRegressor</label><div class=\"sk-toggleable__content\"><pre>&lt;catboost.core.CatBoostRegressor object at 0x000001D755687D00&gt;</pre></div></div></div></div></div></div></div></div></div></div>"
      ],
      "text/plain": [
       "GridSearchCV(cv=KFold(n_splits=5, random_state=42, shuffle=True),\n",
       "             estimator=<catboost.core.CatBoostRegressor object at 0x000001D755687D00>,\n",
       "             n_jobs=-1,\n",
       "             param_grid={'depth': [6, 8, 10], 'iterations': [100, 500, 1000],\n",
       "                         'learning_rate': [0.01, 0.05, 0.1]})"
      ]
     },
     "execution_count": 74,
     "metadata": {},
     "output_type": "execute_result"
    }
   ],
   "source": [
    "%%time\n",
    "model = CatBoostRegressor()\n",
    "parameters = {'depth' : [6,8,10],\n",
    "              'learning_rate' : [0.01, 0.05, 0.1],\n",
    "              'iterations'    : [100,500, 1000]\n",
    "              }\n",
    "\n",
    "grid = GridSearchCV(estimator=model, param_grid = parameters, n_jobs=-1, cv = cv)\n",
    "grid.fit(x_tr, y_tr, verbose=False)"
   ]
  },
  {
   "cell_type": "code",
   "execution_count": 77,
   "metadata": {},
   "outputs": [],
   "source": [
    "best_CatBR = grid.best_estimator_"
   ]
  },
  {
   "cell_type": "code",
   "execution_count": 78,
   "metadata": {},
   "outputs": [
    {
     "data": {
      "text/plain": [
       "{'depth': 10, 'iterations': 1000, 'learning_rate': 0.1}"
      ]
     },
     "execution_count": 78,
     "metadata": {},
     "output_type": "execute_result"
    }
   ],
   "source": [
    "grid.best_params_"
   ]
  },
  {
   "cell_type": "code",
   "execution_count": 80,
   "metadata": {},
   "outputs": [],
   "source": [
    "y_pred_ws_GBR = best_CatBR.predict(x_tr)"
   ]
  },
  {
   "cell_type": "code",
   "execution_count": 81,
   "metadata": {},
   "outputs": [
    {
     "data": {
      "text/plain": [
       "0.92"
      ]
     },
     "execution_count": 81,
     "metadata": {},
     "output_type": "execute_result"
    }
   ],
   "source": [
    "R2_WS = round(r2_score(y_tr, y_pred_ws_GBR), 2)\n",
    "R2_WS"
   ]
  },
  {
   "cell_type": "code",
   "execution_count": 82,
   "metadata": {},
   "outputs": [
    {
     "data": {
      "text/plain": [
       "0.25"
      ]
     },
     "execution_count": 82,
     "metadata": {},
     "output_type": "execute_result"
    }
   ],
   "source": [
    "RMSE_WS=round(np.sqrt(mean_squared_error(y_tr, y_pred_ws_GBR)), 2)\n",
    "RMSE_WS"
   ]
  },
  {
   "cell_type": "code",
   "execution_count": 119,
   "metadata": {},
   "outputs": [],
   "source": [
    "params={'verbose': False}"
   ]
  },
  {
   "cell_type": "code",
   "execution_count": 124,
   "metadata": {},
   "outputs": [
    {
     "name": "stderr",
     "output_type": "stream",
     "text": [
      "C:\\Users\\ovtti\\anaconda3\\Lib\\site-packages\\sklearn\\model_selection\\_validation.py:73: FutureWarning: `fit_params` is deprecated and will be removed in version 1.6. Pass parameters via `params` instead.\n",
      "  warnings.warn(\n"
     ]
    },
    {
     "name": "stdout",
     "output_type": "stream",
     "text": [
      "CPU times: total: 1h 48min 36s\n",
      "Wall time: 8min 54s\n"
     ]
    }
   ],
   "source": [
    "%%time\n",
    "y_pred_CV_CatBR = cross_val_predict(best_CatBR, x_tr, y_tr, cv=cv, fit_params=params)"
   ]
  },
  {
   "cell_type": "code",
   "execution_count": 127,
   "metadata": {},
   "outputs": [
    {
     "data": {
      "text/plain": [
       "0.55"
      ]
     },
     "execution_count": 127,
     "metadata": {},
     "output_type": "execute_result"
    }
   ],
   "source": [
    "Q2_CV = round(r2_score(y_tr, y_pred_CV_CatBR), 2)\n",
    "Q2_CV"
   ]
  },
  {
   "cell_type": "code",
   "execution_count": 129,
   "metadata": {},
   "outputs": [
    {
     "data": {
      "text/plain": [
       "0.6"
      ]
     },
     "execution_count": 129,
     "metadata": {},
     "output_type": "execute_result"
    }
   ],
   "source": [
    "RMSE_CV=round(np.sqrt(mean_squared_error(y_tr, y_pred_CV_CatBR)), 2)\n",
    "RMSE_CV"
   ]
  },
  {
   "cell_type": "code",
   "execution_count": null,
   "metadata": {},
   "outputs": [],
   "source": []
  },
  {
   "cell_type": "markdown",
   "metadata": {},
   "source": [
    "# save the model to disk"
   ]
  },
  {
   "cell_type": "code",
   "execution_count": 83,
   "metadata": {},
   "outputs": [],
   "source": [
    "pickle.dump(best_CatBR, open('Models/MorganFingerprint/Toxicity_CatBoost_MF.pkl', 'wb'))"
   ]
  },
  {
   "cell_type": "markdown",
   "metadata": {},
   "source": [
    "# load the model from disk"
   ]
  },
  {
   "cell_type": "code",
   "execution_count": 116,
   "metadata": {},
   "outputs": [],
   "source": [
    "best_CatBR = pickle.load(open('Models/MorganFingerprint/Toxicity_CatBoost_MF.pkl', 'rb'))"
   ]
  },
  {
   "cell_type": "markdown",
   "metadata": {},
   "source": [
    "# Prediction for test set's molecules"
   ]
  },
  {
   "cell_type": "code",
   "execution_count": 132,
   "metadata": {},
   "outputs": [],
   "source": [
    "x_ts = np.array(x_ts, dtype=np.float32)\n",
    "y_ts = np.array(y_ts, dtype=np.float32)"
   ]
  },
  {
   "cell_type": "code",
   "execution_count": 134,
   "metadata": {},
   "outputs": [],
   "source": [
    "y_pred_GBR = best_CatBR.predict(x_ts)"
   ]
  },
  {
   "cell_type": "code",
   "execution_count": 136,
   "metadata": {},
   "outputs": [
    {
     "data": {
      "text/plain": [
       "0.56"
      ]
     },
     "execution_count": 136,
     "metadata": {},
     "output_type": "execute_result"
    }
   ],
   "source": [
    "Q2_TS = round(r2_score(y_ts, y_pred_GBR), 2)\n",
    "Q2_TS"
   ]
  },
  {
   "cell_type": "code",
   "execution_count": 138,
   "metadata": {},
   "outputs": [
    {
     "data": {
      "text/plain": [
       "0.59"
      ]
     },
     "execution_count": 138,
     "metadata": {},
     "output_type": "execute_result"
    }
   ],
   "source": [
    "RMSE_TS=round(np.sqrt(mean_squared_error(y_ts, y_pred_GBR)), 2)\n",
    "RMSE_TS"
   ]
  },
  {
   "cell_type": "markdown",
   "metadata": {},
   "source": [
    "# Estimating applicability domain. Method - Euclidian distances, K=1"
   ]
  },
  {
   "cell_type": "code",
   "execution_count": 144,
   "metadata": {},
   "outputs": [],
   "source": [
    "neighbors_k= pairwise_distances(x_tr, n_jobs=-1)\n",
    "neighbors_k.sort(0)"
   ]
  },
  {
   "cell_type": "code",
   "execution_count": 145,
   "metadata": {},
   "outputs": [
    {
     "data": {
      "text/html": [
       "<div>\n",
       "<style scoped>\n",
       "    .dataframe tbody tr th:only-of-type {\n",
       "        vertical-align: middle;\n",
       "    }\n",
       "\n",
       "    .dataframe tbody tr th {\n",
       "        vertical-align: top;\n",
       "    }\n",
       "\n",
       "    .dataframe thead th {\n",
       "        text-align: right;\n",
       "    }\n",
       "</style>\n",
       "<table border=\"1\" class=\"dataframe\">\n",
       "  <thead>\n",
       "    <tr style=\"text-align: right;\">\n",
       "      <th></th>\n",
       "      <th>0</th>\n",
       "      <th>1</th>\n",
       "      <th>2</th>\n",
       "      <th>3</th>\n",
       "      <th>4</th>\n",
       "      <th>5</th>\n",
       "      <th>6</th>\n",
       "      <th>7</th>\n",
       "      <th>8</th>\n",
       "      <th>9</th>\n",
       "      <th>...</th>\n",
       "      <th>7864</th>\n",
       "      <th>7865</th>\n",
       "      <th>7866</th>\n",
       "      <th>7867</th>\n",
       "      <th>7868</th>\n",
       "      <th>7869</th>\n",
       "      <th>7870</th>\n",
       "      <th>7871</th>\n",
       "      <th>7872</th>\n",
       "      <th>7873</th>\n",
       "    </tr>\n",
       "  </thead>\n",
       "  <tbody>\n",
       "    <tr>\n",
       "      <th>0</th>\n",
       "      <td>0.000000</td>\n",
       "      <td>0.000000</td>\n",
       "      <td>0.000000</td>\n",
       "      <td>0.000000</td>\n",
       "      <td>0.000000</td>\n",
       "      <td>0.000000</td>\n",
       "      <td>0.000000</td>\n",
       "      <td>0.000000</td>\n",
       "      <td>0.000000</td>\n",
       "      <td>0.000000</td>\n",
       "      <td>...</td>\n",
       "      <td>0.000000</td>\n",
       "      <td>0.000000</td>\n",
       "      <td>0.000000</td>\n",
       "      <td>0.000000</td>\n",
       "      <td>0.000000</td>\n",
       "      <td>0.000000</td>\n",
       "      <td>0.000000</td>\n",
       "      <td>0.000000</td>\n",
       "      <td>0.000000</td>\n",
       "      <td>0.000000</td>\n",
       "    </tr>\n",
       "    <tr>\n",
       "      <th>1</th>\n",
       "      <td>3.464102</td>\n",
       "      <td>4.690416</td>\n",
       "      <td>2.236068</td>\n",
       "      <td>3.741657</td>\n",
       "      <td>2.236068</td>\n",
       "      <td>3.464102</td>\n",
       "      <td>3.316625</td>\n",
       "      <td>6.000000</td>\n",
       "      <td>0.000000</td>\n",
       "      <td>2.000000</td>\n",
       "      <td>...</td>\n",
       "      <td>3.316625</td>\n",
       "      <td>4.123106</td>\n",
       "      <td>4.690416</td>\n",
       "      <td>4.795832</td>\n",
       "      <td>2.645751</td>\n",
       "      <td>3.605551</td>\n",
       "      <td>6.557438</td>\n",
       "      <td>3.316625</td>\n",
       "      <td>5.567764</td>\n",
       "      <td>7.071068</td>\n",
       "    </tr>\n",
       "    <tr>\n",
       "      <th>2</th>\n",
       "      <td>4.000000</td>\n",
       "      <td>4.795832</td>\n",
       "      <td>2.236068</td>\n",
       "      <td>3.872983</td>\n",
       "      <td>2.449490</td>\n",
       "      <td>3.464102</td>\n",
       "      <td>3.605551</td>\n",
       "      <td>6.082763</td>\n",
       "      <td>0.000000</td>\n",
       "      <td>2.449490</td>\n",
       "      <td>...</td>\n",
       "      <td>3.464102</td>\n",
       "      <td>4.582576</td>\n",
       "      <td>6.164414</td>\n",
       "      <td>5.099020</td>\n",
       "      <td>5.099020</td>\n",
       "      <td>3.741657</td>\n",
       "      <td>6.557438</td>\n",
       "      <td>4.242640</td>\n",
       "      <td>6.244998</td>\n",
       "      <td>7.280110</td>\n",
       "    </tr>\n",
       "    <tr>\n",
       "      <th>3</th>\n",
       "      <td>4.000000</td>\n",
       "      <td>5.000000</td>\n",
       "      <td>2.449490</td>\n",
       "      <td>3.872983</td>\n",
       "      <td>2.449490</td>\n",
       "      <td>3.464102</td>\n",
       "      <td>3.741657</td>\n",
       "      <td>6.082763</td>\n",
       "      <td>0.000000</td>\n",
       "      <td>2.449490</td>\n",
       "      <td>...</td>\n",
       "      <td>4.000000</td>\n",
       "      <td>4.582576</td>\n",
       "      <td>6.244998</td>\n",
       "      <td>6.164414</td>\n",
       "      <td>5.099020</td>\n",
       "      <td>3.741657</td>\n",
       "      <td>6.633250</td>\n",
       "      <td>5.196152</td>\n",
       "      <td>6.244998</td>\n",
       "      <td>7.280110</td>\n",
       "    </tr>\n",
       "    <tr>\n",
       "      <th>4</th>\n",
       "      <td>4.123106</td>\n",
       "      <td>5.099020</td>\n",
       "      <td>2.449490</td>\n",
       "      <td>4.000000</td>\n",
       "      <td>2.449490</td>\n",
       "      <td>3.605551</td>\n",
       "      <td>3.741657</td>\n",
       "      <td>6.082763</td>\n",
       "      <td>2.449490</td>\n",
       "      <td>2.449490</td>\n",
       "      <td>...</td>\n",
       "      <td>4.242640</td>\n",
       "      <td>4.690416</td>\n",
       "      <td>6.244998</td>\n",
       "      <td>7.211102</td>\n",
       "      <td>6.244998</td>\n",
       "      <td>3.872983</td>\n",
       "      <td>6.633250</td>\n",
       "      <td>5.477226</td>\n",
       "      <td>6.324555</td>\n",
       "      <td>7.348469</td>\n",
       "    </tr>\n",
       "    <tr>\n",
       "      <th>...</th>\n",
       "      <td>...</td>\n",
       "      <td>...</td>\n",
       "      <td>...</td>\n",
       "      <td>...</td>\n",
       "      <td>...</td>\n",
       "      <td>...</td>\n",
       "      <td>...</td>\n",
       "      <td>...</td>\n",
       "      <td>...</td>\n",
       "      <td>...</td>\n",
       "      <td>...</td>\n",
       "      <td>...</td>\n",
       "      <td>...</td>\n",
       "      <td>...</td>\n",
       "      <td>...</td>\n",
       "      <td>...</td>\n",
       "      <td>...</td>\n",
       "      <td>...</td>\n",
       "      <td>...</td>\n",
       "      <td>...</td>\n",
       "      <td>...</td>\n",
       "    </tr>\n",
       "    <tr>\n",
       "      <th>7869</th>\n",
       "      <td>10.488089</td>\n",
       "      <td>10.488089</td>\n",
       "      <td>10.148891</td>\n",
       "      <td>10.392304</td>\n",
       "      <td>9.899495</td>\n",
       "      <td>10.099504</td>\n",
       "      <td>10.099504</td>\n",
       "      <td>10.440307</td>\n",
       "      <td>10.344080</td>\n",
       "      <td>10.392304</td>\n",
       "      <td>...</td>\n",
       "      <td>10.723805</td>\n",
       "      <td>10.440307</td>\n",
       "      <td>10.440307</td>\n",
       "      <td>11.532562</td>\n",
       "      <td>11.357817</td>\n",
       "      <td>10.295630</td>\n",
       "      <td>11.045361</td>\n",
       "      <td>11.357817</td>\n",
       "      <td>11.357817</td>\n",
       "      <td>11.000000</td>\n",
       "    </tr>\n",
       "    <tr>\n",
       "      <th>7870</th>\n",
       "      <td>10.630146</td>\n",
       "      <td>10.630146</td>\n",
       "      <td>10.583005</td>\n",
       "      <td>10.723805</td>\n",
       "      <td>10.246951</td>\n",
       "      <td>10.344080</td>\n",
       "      <td>10.677078</td>\n",
       "      <td>10.677078</td>\n",
       "      <td>10.677078</td>\n",
       "      <td>10.816654</td>\n",
       "      <td>...</td>\n",
       "      <td>11.224972</td>\n",
       "      <td>11.224972</td>\n",
       "      <td>11.224972</td>\n",
       "      <td>11.916375</td>\n",
       "      <td>11.661903</td>\n",
       "      <td>10.770329</td>\n",
       "      <td>11.090536</td>\n",
       "      <td>11.832160</td>\n",
       "      <td>11.489125</td>\n",
       "      <td>11.489125</td>\n",
       "    </tr>\n",
       "    <tr>\n",
       "      <th>7871</th>\n",
       "      <td>11.180340</td>\n",
       "      <td>11.045361</td>\n",
       "      <td>11.224972</td>\n",
       "      <td>11.445523</td>\n",
       "      <td>10.908712</td>\n",
       "      <td>11.090536</td>\n",
       "      <td>10.862781</td>\n",
       "      <td>11.224972</td>\n",
       "      <td>11.313708</td>\n",
       "      <td>11.357817</td>\n",
       "      <td>...</td>\n",
       "      <td>11.747340</td>\n",
       "      <td>11.661903</td>\n",
       "      <td>11.401754</td>\n",
       "      <td>12.206555</td>\n",
       "      <td>11.958261</td>\n",
       "      <td>10.954452</td>\n",
       "      <td>11.618950</td>\n",
       "      <td>12.247449</td>\n",
       "      <td>11.832160</td>\n",
       "      <td>12.083046</td>\n",
       "    </tr>\n",
       "    <tr>\n",
       "      <th>7872</th>\n",
       "      <td>11.269427</td>\n",
       "      <td>11.401754</td>\n",
       "      <td>11.401754</td>\n",
       "      <td>11.618950</td>\n",
       "      <td>11.180340</td>\n",
       "      <td>11.269427</td>\n",
       "      <td>11.045361</td>\n",
       "      <td>11.747340</td>\n",
       "      <td>11.575837</td>\n",
       "      <td>11.532562</td>\n",
       "      <td>...</td>\n",
       "      <td>11.832160</td>\n",
       "      <td>11.916375</td>\n",
       "      <td>11.832160</td>\n",
       "      <td>12.206555</td>\n",
       "      <td>12.124355</td>\n",
       "      <td>11.135529</td>\n",
       "      <td>11.874342</td>\n",
       "      <td>12.569805</td>\n",
       "      <td>12.083046</td>\n",
       "      <td>12.247449</td>\n",
       "    </tr>\n",
       "    <tr>\n",
       "      <th>7873</th>\n",
       "      <td>11.874342</td>\n",
       "      <td>11.832160</td>\n",
       "      <td>11.747340</td>\n",
       "      <td>12.041595</td>\n",
       "      <td>11.357817</td>\n",
       "      <td>11.445523</td>\n",
       "      <td>11.489125</td>\n",
       "      <td>11.747340</td>\n",
       "      <td>11.747340</td>\n",
       "      <td>11.958261</td>\n",
       "      <td>...</td>\n",
       "      <td>12.083046</td>\n",
       "      <td>12.083046</td>\n",
       "      <td>11.832160</td>\n",
       "      <td>13.076696</td>\n",
       "      <td>12.767145</td>\n",
       "      <td>11.832160</td>\n",
       "      <td>12.369317</td>\n",
       "      <td>12.569805</td>\n",
       "      <td>12.727922</td>\n",
       "      <td>12.489996</td>\n",
       "    </tr>\n",
       "  </tbody>\n",
       "</table>\n",
       "<p>7874 rows × 7874 columns</p>\n",
       "</div>"
      ],
      "text/plain": [
       "           0          1          2          3          4          5     \\\n",
       "0      0.000000   0.000000   0.000000   0.000000   0.000000   0.000000   \n",
       "1      3.464102   4.690416   2.236068   3.741657   2.236068   3.464102   \n",
       "2      4.000000   4.795832   2.236068   3.872983   2.449490   3.464102   \n",
       "3      4.000000   5.000000   2.449490   3.872983   2.449490   3.464102   \n",
       "4      4.123106   5.099020   2.449490   4.000000   2.449490   3.605551   \n",
       "...         ...        ...        ...        ...        ...        ...   \n",
       "7869  10.488089  10.488089  10.148891  10.392304   9.899495  10.099504   \n",
       "7870  10.630146  10.630146  10.583005  10.723805  10.246951  10.344080   \n",
       "7871  11.180340  11.045361  11.224972  11.445523  10.908712  11.090536   \n",
       "7872  11.269427  11.401754  11.401754  11.618950  11.180340  11.269427   \n",
       "7873  11.874342  11.832160  11.747340  12.041595  11.357817  11.445523   \n",
       "\n",
       "           6          7          8          9     ...       7864       7865  \\\n",
       "0      0.000000   0.000000   0.000000   0.000000  ...   0.000000   0.000000   \n",
       "1      3.316625   6.000000   0.000000   2.000000  ...   3.316625   4.123106   \n",
       "2      3.605551   6.082763   0.000000   2.449490  ...   3.464102   4.582576   \n",
       "3      3.741657   6.082763   0.000000   2.449490  ...   4.000000   4.582576   \n",
       "4      3.741657   6.082763   2.449490   2.449490  ...   4.242640   4.690416   \n",
       "...         ...        ...        ...        ...  ...        ...        ...   \n",
       "7869  10.099504  10.440307  10.344080  10.392304  ...  10.723805  10.440307   \n",
       "7870  10.677078  10.677078  10.677078  10.816654  ...  11.224972  11.224972   \n",
       "7871  10.862781  11.224972  11.313708  11.357817  ...  11.747340  11.661903   \n",
       "7872  11.045361  11.747340  11.575837  11.532562  ...  11.832160  11.916375   \n",
       "7873  11.489125  11.747340  11.747340  11.958261  ...  12.083046  12.083046   \n",
       "\n",
       "           7866       7867       7868       7869       7870       7871  \\\n",
       "0      0.000000   0.000000   0.000000   0.000000   0.000000   0.000000   \n",
       "1      4.690416   4.795832   2.645751   3.605551   6.557438   3.316625   \n",
       "2      6.164414   5.099020   5.099020   3.741657   6.557438   4.242640   \n",
       "3      6.244998   6.164414   5.099020   3.741657   6.633250   5.196152   \n",
       "4      6.244998   7.211102   6.244998   3.872983   6.633250   5.477226   \n",
       "...         ...        ...        ...        ...        ...        ...   \n",
       "7869  10.440307  11.532562  11.357817  10.295630  11.045361  11.357817   \n",
       "7870  11.224972  11.916375  11.661903  10.770329  11.090536  11.832160   \n",
       "7871  11.401754  12.206555  11.958261  10.954452  11.618950  12.247449   \n",
       "7872  11.832160  12.206555  12.124355  11.135529  11.874342  12.569805   \n",
       "7873  11.832160  13.076696  12.767145  11.832160  12.369317  12.569805   \n",
       "\n",
       "           7872       7873  \n",
       "0      0.000000   0.000000  \n",
       "1      5.567764   7.071068  \n",
       "2      6.244998   7.280110  \n",
       "3      6.244998   7.280110  \n",
       "4      6.324555   7.348469  \n",
       "...         ...        ...  \n",
       "7869  11.357817  11.000000  \n",
       "7870  11.489125  11.489125  \n",
       "7871  11.832160  12.083046  \n",
       "7872  12.083046  12.247449  \n",
       "7873  12.727922  12.489996  \n",
       "\n",
       "[7874 rows x 7874 columns]"
      ]
     },
     "execution_count": 145,
     "metadata": {},
     "output_type": "execute_result"
    }
   ],
   "source": [
    "df_tr=pd.DataFrame(neighbors_k)\n",
    "df_tr"
   ]
  },
  {
   "cell_type": "code",
   "execution_count": 146,
   "metadata": {},
   "outputs": [],
   "source": [
    "similarity= neighbors_k"
   ]
  },
  {
   "cell_type": "code",
   "execution_count": 147,
   "metadata": {},
   "outputs": [],
   "source": [
    "Dmean=np.mean(similarity[1,:])"
   ]
  },
  {
   "cell_type": "code",
   "execution_count": 148,
   "metadata": {},
   "outputs": [
    {
     "data": {
      "text/plain": [
       "3.6"
      ]
     },
     "execution_count": 148,
     "metadata": {},
     "output_type": "execute_result"
    }
   ],
   "source": [
    "round(Dmean, 2)"
   ]
  },
  {
   "cell_type": "code",
   "execution_count": 149,
   "metadata": {},
   "outputs": [],
   "source": [
    "std=np.std(similarity[1,:])"
   ]
  },
  {
   "cell_type": "code",
   "execution_count": 150,
   "metadata": {},
   "outputs": [
    {
     "data": {
      "text/plain": [
       "1.22"
      ]
     },
     "execution_count": 150,
     "metadata": {},
     "output_type": "execute_result"
    }
   ],
   "source": [
    "round(std, 2)"
   ]
  },
  {
   "cell_type": "code",
   "execution_count": 151,
   "metadata": {},
   "outputs": [
    {
     "name": "stdout",
     "output_type": "stream",
     "text": [
      "4.21\n"
     ]
    }
   ],
   "source": [
    "model_AD_limit=Dmean+std*0.5\n",
    "print(np.round(model_AD_limit, 2))"
   ]
  },
  {
   "cell_type": "code",
   "execution_count": 152,
   "metadata": {},
   "outputs": [],
   "source": [
    "neighbors_k_ts= pairwise_distances(x_tr,Y=x_ts, n_jobs=-1)\n",
    "neighbors_k_ts.sort(0)"
   ]
  },
  {
   "cell_type": "code",
   "execution_count": 153,
   "metadata": {},
   "outputs": [
    {
     "data": {
      "text/html": [
       "<div>\n",
       "<style scoped>\n",
       "    .dataframe tbody tr th:only-of-type {\n",
       "        vertical-align: middle;\n",
       "    }\n",
       "\n",
       "    .dataframe tbody tr th {\n",
       "        vertical-align: top;\n",
       "    }\n",
       "\n",
       "    .dataframe thead th {\n",
       "        text-align: right;\n",
       "    }\n",
       "</style>\n",
       "<table border=\"1\" class=\"dataframe\">\n",
       "  <thead>\n",
       "    <tr style=\"text-align: right;\">\n",
       "      <th></th>\n",
       "      <th>0</th>\n",
       "      <th>1</th>\n",
       "      <th>2</th>\n",
       "      <th>3</th>\n",
       "      <th>4</th>\n",
       "      <th>5</th>\n",
       "      <th>6</th>\n",
       "      <th>7</th>\n",
       "      <th>8</th>\n",
       "      <th>9</th>\n",
       "      <th>...</th>\n",
       "      <th>1959</th>\n",
       "      <th>1960</th>\n",
       "      <th>1961</th>\n",
       "      <th>1962</th>\n",
       "      <th>1963</th>\n",
       "      <th>1964</th>\n",
       "      <th>1965</th>\n",
       "      <th>1966</th>\n",
       "      <th>1967</th>\n",
       "      <th>1968</th>\n",
       "    </tr>\n",
       "  </thead>\n",
       "  <tbody>\n",
       "    <tr>\n",
       "      <th>0</th>\n",
       "      <td>2.000000</td>\n",
       "      <td>3.872983</td>\n",
       "      <td>2.000000</td>\n",
       "      <td>1.414214</td>\n",
       "      <td>2.236068</td>\n",
       "      <td>2.000000</td>\n",
       "      <td>2.236068</td>\n",
       "      <td>3.605551</td>\n",
       "      <td>3.162278</td>\n",
       "      <td>3.316625</td>\n",
       "      <td>...</td>\n",
       "      <td>4.242640</td>\n",
       "      <td>7.937254</td>\n",
       "      <td>3.741657</td>\n",
       "      <td>3.000000</td>\n",
       "      <td>3.162278</td>\n",
       "      <td>4.242640</td>\n",
       "      <td>4.472136</td>\n",
       "      <td>2.645751</td>\n",
       "      <td>5.291502</td>\n",
       "      <td>2.645751</td>\n",
       "    </tr>\n",
       "    <tr>\n",
       "      <th>1</th>\n",
       "      <td>2.000000</td>\n",
       "      <td>4.000000</td>\n",
       "      <td>2.645751</td>\n",
       "      <td>1.732051</td>\n",
       "      <td>2.828427</td>\n",
       "      <td>2.000000</td>\n",
       "      <td>2.828427</td>\n",
       "      <td>3.741657</td>\n",
       "      <td>3.741657</td>\n",
       "      <td>3.464102</td>\n",
       "      <td>...</td>\n",
       "      <td>4.582576</td>\n",
       "      <td>8.000000</td>\n",
       "      <td>5.196152</td>\n",
       "      <td>3.162278</td>\n",
       "      <td>3.741657</td>\n",
       "      <td>4.898980</td>\n",
       "      <td>5.196152</td>\n",
       "      <td>3.741657</td>\n",
       "      <td>5.477226</td>\n",
       "      <td>3.162278</td>\n",
       "    </tr>\n",
       "    <tr>\n",
       "      <th>2</th>\n",
       "      <td>2.000000</td>\n",
       "      <td>4.000000</td>\n",
       "      <td>2.828427</td>\n",
       "      <td>1.732051</td>\n",
       "      <td>2.828427</td>\n",
       "      <td>2.236068</td>\n",
       "      <td>2.828427</td>\n",
       "      <td>4.000000</td>\n",
       "      <td>4.123106</td>\n",
       "      <td>3.464102</td>\n",
       "      <td>...</td>\n",
       "      <td>4.582576</td>\n",
       "      <td>8.124039</td>\n",
       "      <td>5.291502</td>\n",
       "      <td>3.605551</td>\n",
       "      <td>3.872983</td>\n",
       "      <td>4.898980</td>\n",
       "      <td>6.557438</td>\n",
       "      <td>4.000000</td>\n",
       "      <td>5.477226</td>\n",
       "      <td>3.316625</td>\n",
       "    </tr>\n",
       "    <tr>\n",
       "      <th>3</th>\n",
       "      <td>2.000000</td>\n",
       "      <td>4.123106</td>\n",
       "      <td>3.000000</td>\n",
       "      <td>2.000000</td>\n",
       "      <td>3.000000</td>\n",
       "      <td>2.236068</td>\n",
       "      <td>3.162278</td>\n",
       "      <td>4.000000</td>\n",
       "      <td>4.123106</td>\n",
       "      <td>3.605551</td>\n",
       "      <td>...</td>\n",
       "      <td>4.582576</td>\n",
       "      <td>8.246211</td>\n",
       "      <td>5.291502</td>\n",
       "      <td>3.741657</td>\n",
       "      <td>4.000000</td>\n",
       "      <td>5.000000</td>\n",
       "      <td>6.633250</td>\n",
       "      <td>4.123106</td>\n",
       "      <td>5.567764</td>\n",
       "      <td>3.316625</td>\n",
       "    </tr>\n",
       "    <tr>\n",
       "      <th>4</th>\n",
       "      <td>2.000000</td>\n",
       "      <td>4.123106</td>\n",
       "      <td>3.000000</td>\n",
       "      <td>2.000000</td>\n",
       "      <td>3.000000</td>\n",
       "      <td>2.236068</td>\n",
       "      <td>3.162278</td>\n",
       "      <td>4.000000</td>\n",
       "      <td>4.123106</td>\n",
       "      <td>3.741657</td>\n",
       "      <td>...</td>\n",
       "      <td>4.582576</td>\n",
       "      <td>8.246211</td>\n",
       "      <td>5.385165</td>\n",
       "      <td>3.872983</td>\n",
       "      <td>4.123106</td>\n",
       "      <td>5.000000</td>\n",
       "      <td>6.708204</td>\n",
       "      <td>4.123106</td>\n",
       "      <td>5.567764</td>\n",
       "      <td>3.464102</td>\n",
       "    </tr>\n",
       "    <tr>\n",
       "      <th>...</th>\n",
       "      <td>...</td>\n",
       "      <td>...</td>\n",
       "      <td>...</td>\n",
       "      <td>...</td>\n",
       "      <td>...</td>\n",
       "      <td>...</td>\n",
       "      <td>...</td>\n",
       "      <td>...</td>\n",
       "      <td>...</td>\n",
       "      <td>...</td>\n",
       "      <td>...</td>\n",
       "      <td>...</td>\n",
       "      <td>...</td>\n",
       "      <td>...</td>\n",
       "      <td>...</td>\n",
       "      <td>...</td>\n",
       "      <td>...</td>\n",
       "      <td>...</td>\n",
       "      <td>...</td>\n",
       "      <td>...</td>\n",
       "      <td>...</td>\n",
       "    </tr>\n",
       "    <tr>\n",
       "      <th>7869</th>\n",
       "      <td>9.949874</td>\n",
       "      <td>10.246951</td>\n",
       "      <td>9.899495</td>\n",
       "      <td>10.049875</td>\n",
       "      <td>10.049875</td>\n",
       "      <td>10.198039</td>\n",
       "      <td>10.099504</td>\n",
       "      <td>10.630146</td>\n",
       "      <td>10.344080</td>\n",
       "      <td>10.246951</td>\n",
       "      <td>...</td>\n",
       "      <td>10.723805</td>\n",
       "      <td>11.532562</td>\n",
       "      <td>11.000000</td>\n",
       "      <td>10.583005</td>\n",
       "      <td>10.488089</td>\n",
       "      <td>10.770329</td>\n",
       "      <td>11.269427</td>\n",
       "      <td>10.723805</td>\n",
       "      <td>10.583005</td>\n",
       "      <td>10.344080</td>\n",
       "    </tr>\n",
       "    <tr>\n",
       "      <th>7870</th>\n",
       "      <td>10.583005</td>\n",
       "      <td>10.583005</td>\n",
       "      <td>10.295630</td>\n",
       "      <td>10.770329</td>\n",
       "      <td>10.583005</td>\n",
       "      <td>10.630146</td>\n",
       "      <td>10.630146</td>\n",
       "      <td>10.677078</td>\n",
       "      <td>10.770329</td>\n",
       "      <td>10.770329</td>\n",
       "      <td>...</td>\n",
       "      <td>11.313708</td>\n",
       "      <td>12.041595</td>\n",
       "      <td>11.357817</td>\n",
       "      <td>10.816654</td>\n",
       "      <td>11.045361</td>\n",
       "      <td>10.816654</td>\n",
       "      <td>11.489125</td>\n",
       "      <td>10.954452</td>\n",
       "      <td>11.357817</td>\n",
       "      <td>10.677078</td>\n",
       "    </tr>\n",
       "    <tr>\n",
       "      <th>7871</th>\n",
       "      <td>11.135529</td>\n",
       "      <td>11.135529</td>\n",
       "      <td>10.954452</td>\n",
       "      <td>11.313708</td>\n",
       "      <td>11.135529</td>\n",
       "      <td>11.357817</td>\n",
       "      <td>11.000000</td>\n",
       "      <td>11.532562</td>\n",
       "      <td>11.401754</td>\n",
       "      <td>11.224972</td>\n",
       "      <td>...</td>\n",
       "      <td>11.747340</td>\n",
       "      <td>12.124355</td>\n",
       "      <td>11.618950</td>\n",
       "      <td>11.090536</td>\n",
       "      <td>11.135529</td>\n",
       "      <td>11.575837</td>\n",
       "      <td>12.041595</td>\n",
       "      <td>11.045361</td>\n",
       "      <td>11.532562</td>\n",
       "      <td>10.770329</td>\n",
       "    </tr>\n",
       "    <tr>\n",
       "      <th>7872</th>\n",
       "      <td>11.313708</td>\n",
       "      <td>11.313708</td>\n",
       "      <td>11.224972</td>\n",
       "      <td>11.313708</td>\n",
       "      <td>11.313708</td>\n",
       "      <td>11.445523</td>\n",
       "      <td>11.357817</td>\n",
       "      <td>11.532562</td>\n",
       "      <td>11.575837</td>\n",
       "      <td>11.401754</td>\n",
       "      <td>...</td>\n",
       "      <td>11.832160</td>\n",
       "      <td>12.609520</td>\n",
       "      <td>11.704700</td>\n",
       "      <td>11.269427</td>\n",
       "      <td>11.224972</td>\n",
       "      <td>11.661903</td>\n",
       "      <td>12.124355</td>\n",
       "      <td>11.224972</td>\n",
       "      <td>11.789826</td>\n",
       "      <td>10.862781</td>\n",
       "    </tr>\n",
       "    <tr>\n",
       "      <th>7873</th>\n",
       "      <td>11.575837</td>\n",
       "      <td>11.661903</td>\n",
       "      <td>11.575837</td>\n",
       "      <td>11.832160</td>\n",
       "      <td>11.489125</td>\n",
       "      <td>11.874342</td>\n",
       "      <td>11.532562</td>\n",
       "      <td>12.206555</td>\n",
       "      <td>11.575837</td>\n",
       "      <td>11.916375</td>\n",
       "      <td>...</td>\n",
       "      <td>12.083046</td>\n",
       "      <td>13.076696</td>\n",
       "      <td>12.369317</td>\n",
       "      <td>12.041595</td>\n",
       "      <td>11.916375</td>\n",
       "      <td>12.083046</td>\n",
       "      <td>12.845233</td>\n",
       "      <td>12.000000</td>\n",
       "      <td>12.288206</td>\n",
       "      <td>11.747340</td>\n",
       "    </tr>\n",
       "  </tbody>\n",
       "</table>\n",
       "<p>7874 rows × 1969 columns</p>\n",
       "</div>"
      ],
      "text/plain": [
       "           0          1          2          3          4          5     \\\n",
       "0      2.000000   3.872983   2.000000   1.414214   2.236068   2.000000   \n",
       "1      2.000000   4.000000   2.645751   1.732051   2.828427   2.000000   \n",
       "2      2.000000   4.000000   2.828427   1.732051   2.828427   2.236068   \n",
       "3      2.000000   4.123106   3.000000   2.000000   3.000000   2.236068   \n",
       "4      2.000000   4.123106   3.000000   2.000000   3.000000   2.236068   \n",
       "...         ...        ...        ...        ...        ...        ...   \n",
       "7869   9.949874  10.246951   9.899495  10.049875  10.049875  10.198039   \n",
       "7870  10.583005  10.583005  10.295630  10.770329  10.583005  10.630146   \n",
       "7871  11.135529  11.135529  10.954452  11.313708  11.135529  11.357817   \n",
       "7872  11.313708  11.313708  11.224972  11.313708  11.313708  11.445523   \n",
       "7873  11.575837  11.661903  11.575837  11.832160  11.489125  11.874342   \n",
       "\n",
       "           6          7          8          9     ...       1959       1960  \\\n",
       "0      2.236068   3.605551   3.162278   3.316625  ...   4.242640   7.937254   \n",
       "1      2.828427   3.741657   3.741657   3.464102  ...   4.582576   8.000000   \n",
       "2      2.828427   4.000000   4.123106   3.464102  ...   4.582576   8.124039   \n",
       "3      3.162278   4.000000   4.123106   3.605551  ...   4.582576   8.246211   \n",
       "4      3.162278   4.000000   4.123106   3.741657  ...   4.582576   8.246211   \n",
       "...         ...        ...        ...        ...  ...        ...        ...   \n",
       "7869  10.099504  10.630146  10.344080  10.246951  ...  10.723805  11.532562   \n",
       "7870  10.630146  10.677078  10.770329  10.770329  ...  11.313708  12.041595   \n",
       "7871  11.000000  11.532562  11.401754  11.224972  ...  11.747340  12.124355   \n",
       "7872  11.357817  11.532562  11.575837  11.401754  ...  11.832160  12.609520   \n",
       "7873  11.532562  12.206555  11.575837  11.916375  ...  12.083046  13.076696   \n",
       "\n",
       "           1961       1962       1963       1964       1965       1966  \\\n",
       "0      3.741657   3.000000   3.162278   4.242640   4.472136   2.645751   \n",
       "1      5.196152   3.162278   3.741657   4.898980   5.196152   3.741657   \n",
       "2      5.291502   3.605551   3.872983   4.898980   6.557438   4.000000   \n",
       "3      5.291502   3.741657   4.000000   5.000000   6.633250   4.123106   \n",
       "4      5.385165   3.872983   4.123106   5.000000   6.708204   4.123106   \n",
       "...         ...        ...        ...        ...        ...        ...   \n",
       "7869  11.000000  10.583005  10.488089  10.770329  11.269427  10.723805   \n",
       "7870  11.357817  10.816654  11.045361  10.816654  11.489125  10.954452   \n",
       "7871  11.618950  11.090536  11.135529  11.575837  12.041595  11.045361   \n",
       "7872  11.704700  11.269427  11.224972  11.661903  12.124355  11.224972   \n",
       "7873  12.369317  12.041595  11.916375  12.083046  12.845233  12.000000   \n",
       "\n",
       "           1967       1968  \n",
       "0      5.291502   2.645751  \n",
       "1      5.477226   3.162278  \n",
       "2      5.477226   3.316625  \n",
       "3      5.567764   3.316625  \n",
       "4      5.567764   3.464102  \n",
       "...         ...        ...  \n",
       "7869  10.583005  10.344080  \n",
       "7870  11.357817  10.677078  \n",
       "7871  11.532562  10.770329  \n",
       "7872  11.789826  10.862781  \n",
       "7873  12.288206  11.747340  \n",
       "\n",
       "[7874 rows x 1969 columns]"
      ]
     },
     "execution_count": 153,
     "metadata": {},
     "output_type": "execute_result"
    }
   ],
   "source": [
    "x_ts_AD=pd.DataFrame(neighbors_k_ts)\n",
    "x_ts_AD"
   ]
  },
  {
   "cell_type": "code",
   "execution_count": 154,
   "metadata": {},
   "outputs": [
    {
     "name": "stdout",
     "output_type": "stream",
     "text": [
      "[2.    3.873 2.    ... 2.646 5.292 2.646]\n"
     ]
    }
   ],
   "source": [
    "similarity_ts= neighbors_k_ts\n",
    "cpd_AD=similarity_ts[0,:]\n",
    "cpd_value = np.round(cpd_AD, 3)\n",
    "print(cpd_value)"
   ]
  },
  {
   "cell_type": "code",
   "execution_count": 155,
   "metadata": {},
   "outputs": [
    {
     "name": "stdout",
     "output_type": "stream",
     "text": [
      "[ True  True  True ...  True False  True]\n"
     ]
    }
   ],
   "source": [
    "cpd_AD = np.where(cpd_value <= model_AD_limit, True, False)\n",
    "print(cpd_AD)"
   ]
  },
  {
   "cell_type": "code",
   "execution_count": 156,
   "metadata": {},
   "outputs": [
    {
     "name": "stdout",
     "output_type": "stream",
     "text": [
      "Coverage =  0.71\n"
     ]
    }
   ],
   "source": [
    "print(\"Coverage = \", round(sum(cpd_AD) / len(cpd_AD), 2))"
   ]
  },
  {
   "cell_type": "code",
   "execution_count": 157,
   "metadata": {},
   "outputs": [
    {
     "name": "stdout",
     "output_type": "stream",
     "text": [
      "Indices of substances included in AD =  [   0    1    2 ... 1963 1966 1968]\n"
     ]
    }
   ],
   "source": [
    "print(\"Indices of substances included in AD = \", np.where(cpd_AD != 0)[0])"
   ]
  },
  {
   "cell_type": "code",
   "execution_count": 158,
   "metadata": {},
   "outputs": [],
   "source": [
    "out_Ad=list(np.where(cpd_AD == 0)[0])"
   ]
  },
  {
   "cell_type": "markdown",
   "metadata": {},
   "source": [
    "# Prediction only for molecules included in  AD"
   ]
  },
  {
   "cell_type": "code",
   "execution_count": 176,
   "metadata": {},
   "outputs": [],
   "source": [
    "y_pred_GBR_ad=list(y_pred_GBR)"
   ]
  },
  {
   "cell_type": "code",
   "execution_count": 178,
   "metadata": {},
   "outputs": [],
   "source": [
    "y_pred_GBR_ad[:] = [x for i,x in enumerate(y_pred_GBR_ad) if i not in out_Ad]"
   ]
  },
  {
   "cell_type": "code",
   "execution_count": 180,
   "metadata": {},
   "outputs": [
    {
     "data": {
      "text/plain": [
       "1400"
      ]
     },
     "execution_count": 180,
     "metadata": {},
     "output_type": "execute_result"
    }
   ],
   "source": [
    "len(y_pred_GBR_ad)"
   ]
  },
  {
   "cell_type": "code",
   "execution_count": 182,
   "metadata": {},
   "outputs": [],
   "source": [
    "y_ts_ad=list(y_ts)"
   ]
  },
  {
   "cell_type": "code",
   "execution_count": 184,
   "metadata": {},
   "outputs": [],
   "source": [
    "y_ts_ad[:] = [x for i,x in enumerate(y_ts_ad) if i not in out_Ad]"
   ]
  },
  {
   "cell_type": "code",
   "execution_count": 186,
   "metadata": {},
   "outputs": [
    {
     "data": {
      "text/plain": [
       "1400"
      ]
     },
     "execution_count": 186,
     "metadata": {},
     "output_type": "execute_result"
    }
   ],
   "source": [
    "len(y_ts_ad)"
   ]
  },
  {
   "cell_type": "code",
   "execution_count": 188,
   "metadata": {},
   "outputs": [
    {
     "data": {
      "text/plain": [
       "0.64"
      ]
     },
     "execution_count": 188,
     "metadata": {},
     "output_type": "execute_result"
    }
   ],
   "source": [
    "Q2_TS = round(r2_score(y_ts_ad, y_pred_GBR_ad), 2)\n",
    "Q2_TS"
   ]
  },
  {
   "cell_type": "code",
   "execution_count": 190,
   "metadata": {},
   "outputs": [
    {
     "data": {
      "text/plain": [
       "0.56"
      ]
     },
     "execution_count": 190,
     "metadata": {},
     "output_type": "execute_result"
    }
   ],
   "source": [
    "RMSE_TS=round(np.sqrt(mean_squared_error(y_ts_ad, y_pred_GBR_ad)), 2)\n",
    "RMSE_TS"
   ]
  },
  {
   "cell_type": "markdown",
   "metadata": {},
   "source": [
    "# SVM model building and validation"
   ]
  },
  {
   "cell_type": "code",
   "execution_count": 112,
   "metadata": {},
   "outputs": [],
   "source": [
    "param_grid = {\"C\": [10 ** i for i in range(0, 5)],\n",
    "              \"gamma\": [10 ** i for i in range(-6, 0)]}"
   ]
  },
  {
   "cell_type": "code",
   "execution_count": 113,
   "metadata": {},
   "outputs": [],
   "source": [
    "seed = 42\n",
    "cv=KFold(n_splits=5, random_state=seed, shuffle=True)"
   ]
  },
  {
   "cell_type": "code",
   "execution_count": 114,
   "metadata": {},
   "outputs": [],
   "source": [
    "svm = GridSearchCV(SVR(C=1.0, epsilon=0.2), param_grid, n_jobs=-1, cv=cv, verbose=1)"
   ]
  },
  {
   "cell_type": "code",
   "execution_count": 115,
   "metadata": {},
   "outputs": [
    {
     "name": "stdout",
     "output_type": "stream",
     "text": [
      "Fitting 5 folds for each of 30 candidates, totalling 150 fits\n"
     ]
    },
    {
     "data": {
      "text/html": [
       "<style>#sk-container-id-3 {color: black;}#sk-container-id-3 pre{padding: 0;}#sk-container-id-3 div.sk-toggleable {background-color: white;}#sk-container-id-3 label.sk-toggleable__label {cursor: pointer;display: block;width: 100%;margin-bottom: 0;padding: 0.3em;box-sizing: border-box;text-align: center;}#sk-container-id-3 label.sk-toggleable__label-arrow:before {content: \"▸\";float: left;margin-right: 0.25em;color: #696969;}#sk-container-id-3 label.sk-toggleable__label-arrow:hover:before {color: black;}#sk-container-id-3 div.sk-estimator:hover label.sk-toggleable__label-arrow:before {color: black;}#sk-container-id-3 div.sk-toggleable__content {max-height: 0;max-width: 0;overflow: hidden;text-align: left;background-color: #f0f8ff;}#sk-container-id-3 div.sk-toggleable__content pre {margin: 0.2em;color: black;border-radius: 0.25em;background-color: #f0f8ff;}#sk-container-id-3 input.sk-toggleable__control:checked~div.sk-toggleable__content {max-height: 200px;max-width: 100%;overflow: auto;}#sk-container-id-3 input.sk-toggleable__control:checked~label.sk-toggleable__label-arrow:before {content: \"▾\";}#sk-container-id-3 div.sk-estimator input.sk-toggleable__control:checked~label.sk-toggleable__label {background-color: #d4ebff;}#sk-container-id-3 div.sk-label input.sk-toggleable__control:checked~label.sk-toggleable__label {background-color: #d4ebff;}#sk-container-id-3 input.sk-hidden--visually {border: 0;clip: rect(1px 1px 1px 1px);clip: rect(1px, 1px, 1px, 1px);height: 1px;margin: -1px;overflow: hidden;padding: 0;position: absolute;width: 1px;}#sk-container-id-3 div.sk-estimator {font-family: monospace;background-color: #f0f8ff;border: 1px dotted black;border-radius: 0.25em;box-sizing: border-box;margin-bottom: 0.5em;}#sk-container-id-3 div.sk-estimator:hover {background-color: #d4ebff;}#sk-container-id-3 div.sk-parallel-item::after {content: \"\";width: 100%;border-bottom: 1px solid gray;flex-grow: 1;}#sk-container-id-3 div.sk-label:hover label.sk-toggleable__label {background-color: #d4ebff;}#sk-container-id-3 div.sk-serial::before {content: \"\";position: absolute;border-left: 1px solid gray;box-sizing: border-box;top: 0;bottom: 0;left: 50%;z-index: 0;}#sk-container-id-3 div.sk-serial {display: flex;flex-direction: column;align-items: center;background-color: white;padding-right: 0.2em;padding-left: 0.2em;position: relative;}#sk-container-id-3 div.sk-item {position: relative;z-index: 1;}#sk-container-id-3 div.sk-parallel {display: flex;align-items: stretch;justify-content: center;background-color: white;position: relative;}#sk-container-id-3 div.sk-item::before, #sk-container-id-3 div.sk-parallel-item::before {content: \"\";position: absolute;border-left: 1px solid gray;box-sizing: border-box;top: 0;bottom: 0;left: 50%;z-index: -1;}#sk-container-id-3 div.sk-parallel-item {display: flex;flex-direction: column;z-index: 1;position: relative;background-color: white;}#sk-container-id-3 div.sk-parallel-item:first-child::after {align-self: flex-end;width: 50%;}#sk-container-id-3 div.sk-parallel-item:last-child::after {align-self: flex-start;width: 50%;}#sk-container-id-3 div.sk-parallel-item:only-child::after {width: 0;}#sk-container-id-3 div.sk-dashed-wrapped {border: 1px dashed gray;margin: 0 0.4em 0.5em 0.4em;box-sizing: border-box;padding-bottom: 0.4em;background-color: white;}#sk-container-id-3 div.sk-label label {font-family: monospace;font-weight: bold;display: inline-block;line-height: 1.2em;}#sk-container-id-3 div.sk-label-container {text-align: center;}#sk-container-id-3 div.sk-container {/* jupyter's `normalize.less` sets `[hidden] { display: none; }` but bootstrap.min.css set `[hidden] { display: none !important; }` so we also need the `!important` here to be able to override the default hidden behavior on the sphinx rendered scikit-learn.org. See: https://github.com/scikit-learn/scikit-learn/issues/21755 */display: inline-block !important;position: relative;}#sk-container-id-3 div.sk-text-repr-fallback {display: none;}</style><div id=\"sk-container-id-3\" class=\"sk-top-container\"><div class=\"sk-text-repr-fallback\"><pre>GridSearchCV(cv=KFold(n_splits=5, random_state=42, shuffle=True),\n",
       "             estimator=SVR(epsilon=0.2), n_jobs=-1,\n",
       "             param_grid={&#x27;C&#x27;: [1, 10, 100, 1000, 10000],\n",
       "                         &#x27;gamma&#x27;: [1e-06, 1e-05, 0.0001, 0.001, 0.01, 0.1]},\n",
       "             verbose=1)</pre><b>In a Jupyter environment, please rerun this cell to show the HTML representation or trust the notebook. <br />On GitHub, the HTML representation is unable to render, please try loading this page with nbviewer.org.</b></div><div class=\"sk-container\" hidden><div class=\"sk-item sk-dashed-wrapped\"><div class=\"sk-label-container\"><div class=\"sk-label sk-toggleable\"><input class=\"sk-toggleable__control sk-hidden--visually\" id=\"sk-estimator-id-7\" type=\"checkbox\" ><label for=\"sk-estimator-id-7\" class=\"sk-toggleable__label sk-toggleable__label-arrow\">GridSearchCV</label><div class=\"sk-toggleable__content\"><pre>GridSearchCV(cv=KFold(n_splits=5, random_state=42, shuffle=True),\n",
       "             estimator=SVR(epsilon=0.2), n_jobs=-1,\n",
       "             param_grid={&#x27;C&#x27;: [1, 10, 100, 1000, 10000],\n",
       "                         &#x27;gamma&#x27;: [1e-06, 1e-05, 0.0001, 0.001, 0.01, 0.1]},\n",
       "             verbose=1)</pre></div></div></div><div class=\"sk-parallel\"><div class=\"sk-parallel-item\"><div class=\"sk-item\"><div class=\"sk-label-container\"><div class=\"sk-label sk-toggleable\"><input class=\"sk-toggleable__control sk-hidden--visually\" id=\"sk-estimator-id-8\" type=\"checkbox\" ><label for=\"sk-estimator-id-8\" class=\"sk-toggleable__label sk-toggleable__label-arrow\">estimator: SVR</label><div class=\"sk-toggleable__content\"><pre>SVR(epsilon=0.2)</pre></div></div></div><div class=\"sk-serial\"><div class=\"sk-item\"><div class=\"sk-estimator sk-toggleable\"><input class=\"sk-toggleable__control sk-hidden--visually\" id=\"sk-estimator-id-9\" type=\"checkbox\" ><label for=\"sk-estimator-id-9\" class=\"sk-toggleable__label sk-toggleable__label-arrow\">SVR</label><div class=\"sk-toggleable__content\"><pre>SVR(epsilon=0.2)</pre></div></div></div></div></div></div></div></div></div></div>"
      ],
      "text/plain": [
       "GridSearchCV(cv=KFold(n_splits=5, random_state=42, shuffle=True),\n",
       "             estimator=SVR(epsilon=0.2), n_jobs=-1,\n",
       "             param_grid={'C': [1, 10, 100, 1000, 10000],\n",
       "                         'gamma': [1e-06, 1e-05, 0.0001, 0.001, 0.01, 0.1]},\n",
       "             verbose=1)"
      ]
     },
     "execution_count": 115,
     "metadata": {},
     "output_type": "execute_result"
    }
   ],
   "source": [
    "svm.fit(x_tr, y_tr)"
   ]
  },
  {
   "cell_type": "code",
   "execution_count": 118,
   "metadata": {},
   "outputs": [],
   "source": [
    "svm.best_params_\n",
    "best_svm = svm.best_estimator_"
   ]
  },
  {
   "cell_type": "code",
   "execution_count": 119,
   "metadata": {},
   "outputs": [
    {
     "data": {
      "text/plain": [
       "{'C': 10, 'gamma': 0.01}"
      ]
     },
     "execution_count": 119,
     "metadata": {},
     "output_type": "execute_result"
    }
   ],
   "source": [
    "svm.best_params_"
   ]
  },
  {
   "cell_type": "code",
   "execution_count": 120,
   "metadata": {},
   "outputs": [],
   "source": [
    "y_pred_ws_svm = best_svm.predict(x_tr)"
   ]
  },
  {
   "cell_type": "code",
   "execution_count": 121,
   "metadata": {},
   "outputs": [
    {
     "data": {
      "text/plain": [
       "0.86"
      ]
     },
     "execution_count": 121,
     "metadata": {},
     "output_type": "execute_result"
    }
   ],
   "source": [
    "R2_WS = round(r2_score(y_tr, y_pred_ws_svm), 2)\n",
    "R2_WS"
   ]
  },
  {
   "cell_type": "code",
   "execution_count": 122,
   "metadata": {},
   "outputs": [
    {
     "data": {
      "text/plain": [
       "0.33"
      ]
     },
     "execution_count": 122,
     "metadata": {},
     "output_type": "execute_result"
    }
   ],
   "source": [
    "RMSE_WS=round(np.sqrt(mean_squared_error(y_tr, y_pred_ws_svm)), 2)\n",
    "RMSE_WS"
   ]
  },
  {
   "cell_type": "code",
   "execution_count": 123,
   "metadata": {},
   "outputs": [],
   "source": [
    "y_pred_CV_svm = cross_val_predict(best_svm, x_tr, y_tr, cv=cv)"
   ]
  },
  {
   "cell_type": "code",
   "execution_count": 124,
   "metadata": {},
   "outputs": [
    {
     "data": {
      "text/plain": [
       "0.51"
      ]
     },
     "execution_count": 124,
     "metadata": {},
     "output_type": "execute_result"
    }
   ],
   "source": [
    "Q2_CV = round(r2_score(y_tr, y_pred_CV_svm), 2)\n",
    "Q2_CV"
   ]
  },
  {
   "cell_type": "code",
   "execution_count": 125,
   "metadata": {},
   "outputs": [
    {
     "data": {
      "text/plain": [
       "0.63"
      ]
     },
     "execution_count": 125,
     "metadata": {},
     "output_type": "execute_result"
    }
   ],
   "source": [
    "RMSE_CV=round(np.sqrt(mean_squared_error(y_tr, y_pred_CV_svm)), 2)\n",
    "RMSE_CV"
   ]
  },
  {
   "cell_type": "markdown",
   "metadata": {},
   "source": [
    "# Prediction for test set's molecules"
   ]
  },
  {
   "cell_type": "code",
   "execution_count": 126,
   "metadata": {},
   "outputs": [],
   "source": [
    "x_ts = np.array(x_ts, dtype=np.float32)\n",
    "y_ts = np.array(y_ts, dtype=np.float32)"
   ]
  },
  {
   "cell_type": "code",
   "execution_count": 127,
   "metadata": {},
   "outputs": [],
   "source": [
    "y_pred_svm = best_svm.predict(x_ts)"
   ]
  },
  {
   "cell_type": "code",
   "execution_count": 128,
   "metadata": {},
   "outputs": [
    {
     "data": {
      "text/plain": [
       "0.5"
      ]
     },
     "execution_count": 128,
     "metadata": {},
     "output_type": "execute_result"
    }
   ],
   "source": [
    "Q2_TS = round(r2_score(y_ts, y_pred_svm), 2)\n",
    "Q2_TS"
   ]
  },
  {
   "cell_type": "code",
   "execution_count": 129,
   "metadata": {},
   "outputs": [
    {
     "data": {
      "text/plain": [
       "0.63"
      ]
     },
     "execution_count": 129,
     "metadata": {},
     "output_type": "execute_result"
    }
   ],
   "source": [
    "RMSE_TS=round(np.sqrt(mean_squared_error(y_ts, y_pred_svm)), 2)\n",
    "RMSE_TS"
   ]
  },
  {
   "cell_type": "markdown",
   "metadata": {},
   "source": [
    "save the model to disk"
   ]
  },
  {
   "cell_type": "code",
   "execution_count": 131,
   "metadata": {},
   "outputs": [],
   "source": [
    "pickle.dump(best_svm, open('models/MorganFingerprint/Toxicity_SVM_MF.pkl', 'wb'))"
   ]
  },
  {
   "cell_type": "markdown",
   "metadata": {},
   "source": [
    "load the model from disk"
   ]
  },
  {
   "cell_type": "code",
   "execution_count": 53,
   "metadata": {},
   "outputs": [],
   "source": [
    "best_svm = pickle.load(open('Models/Morgan_fingerprint/Toxicity_SVM_MF.pkl', 'rb'))"
   ]
  },
  {
   "cell_type": "markdown",
   "metadata": {},
   "source": [
    "# Estimating applicability domain. Method - Euclidian distances, K=1"
   ]
  },
  {
   "cell_type": "code",
   "execution_count": 132,
   "metadata": {},
   "outputs": [],
   "source": [
    "neighbors_k= pairwise_distances(x_tr, n_jobs=-1)\n",
    "neighbors_k.sort(0)"
   ]
  },
  {
   "cell_type": "code",
   "execution_count": 133,
   "metadata": {},
   "outputs": [
    {
     "data": {
      "text/html": [
       "<div>\n",
       "<style scoped>\n",
       "    .dataframe tbody tr th:only-of-type {\n",
       "        vertical-align: middle;\n",
       "    }\n",
       "\n",
       "    .dataframe tbody tr th {\n",
       "        vertical-align: top;\n",
       "    }\n",
       "\n",
       "    .dataframe thead th {\n",
       "        text-align: right;\n",
       "    }\n",
       "</style>\n",
       "<table border=\"1\" class=\"dataframe\">\n",
       "  <thead>\n",
       "    <tr style=\"text-align: right;\">\n",
       "      <th></th>\n",
       "      <th>0</th>\n",
       "      <th>1</th>\n",
       "      <th>2</th>\n",
       "      <th>3</th>\n",
       "      <th>4</th>\n",
       "      <th>5</th>\n",
       "      <th>6</th>\n",
       "      <th>7</th>\n",
       "      <th>8</th>\n",
       "      <th>9</th>\n",
       "      <th>...</th>\n",
       "      <th>7864</th>\n",
       "      <th>7865</th>\n",
       "      <th>7866</th>\n",
       "      <th>7867</th>\n",
       "      <th>7868</th>\n",
       "      <th>7869</th>\n",
       "      <th>7870</th>\n",
       "      <th>7871</th>\n",
       "      <th>7872</th>\n",
       "      <th>7873</th>\n",
       "    </tr>\n",
       "  </thead>\n",
       "  <tbody>\n",
       "    <tr>\n",
       "      <th>0</th>\n",
       "      <td>0.000000</td>\n",
       "      <td>0.000000</td>\n",
       "      <td>0.000000</td>\n",
       "      <td>0.000000</td>\n",
       "      <td>0.000000</td>\n",
       "      <td>0.000000</td>\n",
       "      <td>0.000000</td>\n",
       "      <td>0.000000</td>\n",
       "      <td>0.000000</td>\n",
       "      <td>0.000000</td>\n",
       "      <td>...</td>\n",
       "      <td>0.000000</td>\n",
       "      <td>0.000000</td>\n",
       "      <td>0.000000</td>\n",
       "      <td>0.000000</td>\n",
       "      <td>0.000000</td>\n",
       "      <td>0.000000</td>\n",
       "      <td>0.000000</td>\n",
       "      <td>0.000000</td>\n",
       "      <td>0.000000</td>\n",
       "      <td>0.000000</td>\n",
       "    </tr>\n",
       "    <tr>\n",
       "      <th>1</th>\n",
       "      <td>3.464102</td>\n",
       "      <td>4.690416</td>\n",
       "      <td>2.236068</td>\n",
       "      <td>3.741657</td>\n",
       "      <td>2.236068</td>\n",
       "      <td>3.464102</td>\n",
       "      <td>3.316625</td>\n",
       "      <td>6.000000</td>\n",
       "      <td>0.000000</td>\n",
       "      <td>2.000000</td>\n",
       "      <td>...</td>\n",
       "      <td>3.316625</td>\n",
       "      <td>4.123106</td>\n",
       "      <td>4.690416</td>\n",
       "      <td>4.795832</td>\n",
       "      <td>2.645751</td>\n",
       "      <td>3.605551</td>\n",
       "      <td>6.557439</td>\n",
       "      <td>3.316625</td>\n",
       "      <td>5.567764</td>\n",
       "      <td>7.071068</td>\n",
       "    </tr>\n",
       "    <tr>\n",
       "      <th>2</th>\n",
       "      <td>4.000000</td>\n",
       "      <td>4.795832</td>\n",
       "      <td>2.236068</td>\n",
       "      <td>3.872983</td>\n",
       "      <td>2.449490</td>\n",
       "      <td>3.464102</td>\n",
       "      <td>3.605551</td>\n",
       "      <td>6.082763</td>\n",
       "      <td>0.000000</td>\n",
       "      <td>2.449490</td>\n",
       "      <td>...</td>\n",
       "      <td>3.464102</td>\n",
       "      <td>4.582576</td>\n",
       "      <td>6.164414</td>\n",
       "      <td>5.099020</td>\n",
       "      <td>5.099020</td>\n",
       "      <td>3.741657</td>\n",
       "      <td>6.557439</td>\n",
       "      <td>4.242641</td>\n",
       "      <td>6.244998</td>\n",
       "      <td>7.280110</td>\n",
       "    </tr>\n",
       "    <tr>\n",
       "      <th>3</th>\n",
       "      <td>4.000000</td>\n",
       "      <td>5.000000</td>\n",
       "      <td>2.449490</td>\n",
       "      <td>3.872983</td>\n",
       "      <td>2.449490</td>\n",
       "      <td>3.464102</td>\n",
       "      <td>3.741657</td>\n",
       "      <td>6.082763</td>\n",
       "      <td>0.000000</td>\n",
       "      <td>2.449490</td>\n",
       "      <td>...</td>\n",
       "      <td>4.000000</td>\n",
       "      <td>4.582576</td>\n",
       "      <td>6.244998</td>\n",
       "      <td>6.164414</td>\n",
       "      <td>5.099020</td>\n",
       "      <td>3.741657</td>\n",
       "      <td>6.633250</td>\n",
       "      <td>5.196152</td>\n",
       "      <td>6.244998</td>\n",
       "      <td>7.280110</td>\n",
       "    </tr>\n",
       "    <tr>\n",
       "      <th>4</th>\n",
       "      <td>4.123106</td>\n",
       "      <td>5.099020</td>\n",
       "      <td>2.449490</td>\n",
       "      <td>4.000000</td>\n",
       "      <td>2.449490</td>\n",
       "      <td>3.605551</td>\n",
       "      <td>3.741657</td>\n",
       "      <td>6.082763</td>\n",
       "      <td>2.449490</td>\n",
       "      <td>2.449490</td>\n",
       "      <td>...</td>\n",
       "      <td>4.242641</td>\n",
       "      <td>4.690416</td>\n",
       "      <td>6.244998</td>\n",
       "      <td>7.211103</td>\n",
       "      <td>6.244998</td>\n",
       "      <td>3.872983</td>\n",
       "      <td>6.633250</td>\n",
       "      <td>5.477226</td>\n",
       "      <td>6.324555</td>\n",
       "      <td>7.348469</td>\n",
       "    </tr>\n",
       "    <tr>\n",
       "      <th>...</th>\n",
       "      <td>...</td>\n",
       "      <td>...</td>\n",
       "      <td>...</td>\n",
       "      <td>...</td>\n",
       "      <td>...</td>\n",
       "      <td>...</td>\n",
       "      <td>...</td>\n",
       "      <td>...</td>\n",
       "      <td>...</td>\n",
       "      <td>...</td>\n",
       "      <td>...</td>\n",
       "      <td>...</td>\n",
       "      <td>...</td>\n",
       "      <td>...</td>\n",
       "      <td>...</td>\n",
       "      <td>...</td>\n",
       "      <td>...</td>\n",
       "      <td>...</td>\n",
       "      <td>...</td>\n",
       "      <td>...</td>\n",
       "      <td>...</td>\n",
       "    </tr>\n",
       "    <tr>\n",
       "      <th>7869</th>\n",
       "      <td>10.488088</td>\n",
       "      <td>10.488088</td>\n",
       "      <td>10.148892</td>\n",
       "      <td>10.392305</td>\n",
       "      <td>9.899495</td>\n",
       "      <td>10.099505</td>\n",
       "      <td>10.099505</td>\n",
       "      <td>10.440307</td>\n",
       "      <td>10.344080</td>\n",
       "      <td>10.392305</td>\n",
       "      <td>...</td>\n",
       "      <td>10.723805</td>\n",
       "      <td>10.440307</td>\n",
       "      <td>10.440307</td>\n",
       "      <td>11.532563</td>\n",
       "      <td>11.357817</td>\n",
       "      <td>10.295630</td>\n",
       "      <td>11.045361</td>\n",
       "      <td>11.357817</td>\n",
       "      <td>11.357817</td>\n",
       "      <td>11.000000</td>\n",
       "    </tr>\n",
       "    <tr>\n",
       "      <th>7870</th>\n",
       "      <td>10.630146</td>\n",
       "      <td>10.630146</td>\n",
       "      <td>10.583005</td>\n",
       "      <td>10.723805</td>\n",
       "      <td>10.246951</td>\n",
       "      <td>10.344080</td>\n",
       "      <td>10.677078</td>\n",
       "      <td>10.677078</td>\n",
       "      <td>10.677078</td>\n",
       "      <td>10.816654</td>\n",
       "      <td>...</td>\n",
       "      <td>11.224972</td>\n",
       "      <td>11.224972</td>\n",
       "      <td>11.224972</td>\n",
       "      <td>11.916375</td>\n",
       "      <td>11.661904</td>\n",
       "      <td>10.770330</td>\n",
       "      <td>11.090537</td>\n",
       "      <td>11.832160</td>\n",
       "      <td>11.489125</td>\n",
       "      <td>11.489125</td>\n",
       "    </tr>\n",
       "    <tr>\n",
       "      <th>7871</th>\n",
       "      <td>11.180340</td>\n",
       "      <td>11.045361</td>\n",
       "      <td>11.224972</td>\n",
       "      <td>11.445523</td>\n",
       "      <td>10.908712</td>\n",
       "      <td>11.090537</td>\n",
       "      <td>10.862780</td>\n",
       "      <td>11.224972</td>\n",
       "      <td>11.313708</td>\n",
       "      <td>11.357817</td>\n",
       "      <td>...</td>\n",
       "      <td>11.747340</td>\n",
       "      <td>11.661904</td>\n",
       "      <td>11.401754</td>\n",
       "      <td>12.206556</td>\n",
       "      <td>11.958261</td>\n",
       "      <td>10.954451</td>\n",
       "      <td>11.618950</td>\n",
       "      <td>12.247449</td>\n",
       "      <td>11.832160</td>\n",
       "      <td>12.083046</td>\n",
       "    </tr>\n",
       "    <tr>\n",
       "      <th>7872</th>\n",
       "      <td>11.269428</td>\n",
       "      <td>11.401754</td>\n",
       "      <td>11.401754</td>\n",
       "      <td>11.618950</td>\n",
       "      <td>11.180340</td>\n",
       "      <td>11.269428</td>\n",
       "      <td>11.045361</td>\n",
       "      <td>11.747340</td>\n",
       "      <td>11.575837</td>\n",
       "      <td>11.532563</td>\n",
       "      <td>...</td>\n",
       "      <td>11.832160</td>\n",
       "      <td>11.916375</td>\n",
       "      <td>11.832160</td>\n",
       "      <td>12.206556</td>\n",
       "      <td>12.124356</td>\n",
       "      <td>11.135529</td>\n",
       "      <td>11.874342</td>\n",
       "      <td>12.569805</td>\n",
       "      <td>12.083046</td>\n",
       "      <td>12.247449</td>\n",
       "    </tr>\n",
       "    <tr>\n",
       "      <th>7873</th>\n",
       "      <td>11.874342</td>\n",
       "      <td>11.832160</td>\n",
       "      <td>11.747340</td>\n",
       "      <td>12.041595</td>\n",
       "      <td>11.357817</td>\n",
       "      <td>11.445523</td>\n",
       "      <td>11.489125</td>\n",
       "      <td>11.747340</td>\n",
       "      <td>11.747340</td>\n",
       "      <td>11.958261</td>\n",
       "      <td>...</td>\n",
       "      <td>12.083046</td>\n",
       "      <td>12.083046</td>\n",
       "      <td>11.832160</td>\n",
       "      <td>13.076697</td>\n",
       "      <td>12.767145</td>\n",
       "      <td>11.832160</td>\n",
       "      <td>12.369317</td>\n",
       "      <td>12.569805</td>\n",
       "      <td>12.727922</td>\n",
       "      <td>12.489996</td>\n",
       "    </tr>\n",
       "  </tbody>\n",
       "</table>\n",
       "<p>7874 rows × 7874 columns</p>\n",
       "</div>"
      ],
      "text/plain": [
       "           0          1          2          3          4          5     \\\n",
       "0      0.000000   0.000000   0.000000   0.000000   0.000000   0.000000   \n",
       "1      3.464102   4.690416   2.236068   3.741657   2.236068   3.464102   \n",
       "2      4.000000   4.795832   2.236068   3.872983   2.449490   3.464102   \n",
       "3      4.000000   5.000000   2.449490   3.872983   2.449490   3.464102   \n",
       "4      4.123106   5.099020   2.449490   4.000000   2.449490   3.605551   \n",
       "...         ...        ...        ...        ...        ...        ...   \n",
       "7869  10.488088  10.488088  10.148892  10.392305   9.899495  10.099505   \n",
       "7870  10.630146  10.630146  10.583005  10.723805  10.246951  10.344080   \n",
       "7871  11.180340  11.045361  11.224972  11.445523  10.908712  11.090537   \n",
       "7872  11.269428  11.401754  11.401754  11.618950  11.180340  11.269428   \n",
       "7873  11.874342  11.832160  11.747340  12.041595  11.357817  11.445523   \n",
       "\n",
       "           6          7          8          9     ...       7864       7865  \\\n",
       "0      0.000000   0.000000   0.000000   0.000000  ...   0.000000   0.000000   \n",
       "1      3.316625   6.000000   0.000000   2.000000  ...   3.316625   4.123106   \n",
       "2      3.605551   6.082763   0.000000   2.449490  ...   3.464102   4.582576   \n",
       "3      3.741657   6.082763   0.000000   2.449490  ...   4.000000   4.582576   \n",
       "4      3.741657   6.082763   2.449490   2.449490  ...   4.242641   4.690416   \n",
       "...         ...        ...        ...        ...  ...        ...        ...   \n",
       "7869  10.099505  10.440307  10.344080  10.392305  ...  10.723805  10.440307   \n",
       "7870  10.677078  10.677078  10.677078  10.816654  ...  11.224972  11.224972   \n",
       "7871  10.862780  11.224972  11.313708  11.357817  ...  11.747340  11.661904   \n",
       "7872  11.045361  11.747340  11.575837  11.532563  ...  11.832160  11.916375   \n",
       "7873  11.489125  11.747340  11.747340  11.958261  ...  12.083046  12.083046   \n",
       "\n",
       "           7866       7867       7868       7869       7870       7871  \\\n",
       "0      0.000000   0.000000   0.000000   0.000000   0.000000   0.000000   \n",
       "1      4.690416   4.795832   2.645751   3.605551   6.557439   3.316625   \n",
       "2      6.164414   5.099020   5.099020   3.741657   6.557439   4.242641   \n",
       "3      6.244998   6.164414   5.099020   3.741657   6.633250   5.196152   \n",
       "4      6.244998   7.211103   6.244998   3.872983   6.633250   5.477226   \n",
       "...         ...        ...        ...        ...        ...        ...   \n",
       "7869  10.440307  11.532563  11.357817  10.295630  11.045361  11.357817   \n",
       "7870  11.224972  11.916375  11.661904  10.770330  11.090537  11.832160   \n",
       "7871  11.401754  12.206556  11.958261  10.954451  11.618950  12.247449   \n",
       "7872  11.832160  12.206556  12.124356  11.135529  11.874342  12.569805   \n",
       "7873  11.832160  13.076697  12.767145  11.832160  12.369317  12.569805   \n",
       "\n",
       "           7872       7873  \n",
       "0      0.000000   0.000000  \n",
       "1      5.567764   7.071068  \n",
       "2      6.244998   7.280110  \n",
       "3      6.244998   7.280110  \n",
       "4      6.324555   7.348469  \n",
       "...         ...        ...  \n",
       "7869  11.357817  11.000000  \n",
       "7870  11.489125  11.489125  \n",
       "7871  11.832160  12.083046  \n",
       "7872  12.083046  12.247449  \n",
       "7873  12.727922  12.489996  \n",
       "\n",
       "[7874 rows x 7874 columns]"
      ]
     },
     "execution_count": 133,
     "metadata": {},
     "output_type": "execute_result"
    }
   ],
   "source": [
    "df_tr=pd.DataFrame(neighbors_k)\n",
    "df_tr"
   ]
  },
  {
   "cell_type": "code",
   "execution_count": 134,
   "metadata": {},
   "outputs": [],
   "source": [
    "similarity= neighbors_k"
   ]
  },
  {
   "cell_type": "code",
   "execution_count": 135,
   "metadata": {},
   "outputs": [],
   "source": [
    "Dmean=np.mean(similarity[1,:])"
   ]
  },
  {
   "cell_type": "code",
   "execution_count": 136,
   "metadata": {},
   "outputs": [
    {
     "data": {
      "text/plain": [
       "3.6"
      ]
     },
     "execution_count": 136,
     "metadata": {},
     "output_type": "execute_result"
    }
   ],
   "source": [
    "round(Dmean, 2)"
   ]
  },
  {
   "cell_type": "code",
   "execution_count": 137,
   "metadata": {},
   "outputs": [],
   "source": [
    "std=np.std(similarity[1,:])"
   ]
  },
  {
   "cell_type": "code",
   "execution_count": 138,
   "metadata": {},
   "outputs": [
    {
     "data": {
      "text/plain": [
       "1.22"
      ]
     },
     "execution_count": 138,
     "metadata": {},
     "output_type": "execute_result"
    }
   ],
   "source": [
    "round(std, 2)"
   ]
  },
  {
   "cell_type": "code",
   "execution_count": 139,
   "metadata": {},
   "outputs": [
    {
     "name": "stdout",
     "output_type": "stream",
     "text": [
      "4.21\n"
     ]
    }
   ],
   "source": [
    "model_AD_limit=Dmean+std*0.5\n",
    "print(np.round(model_AD_limit, 2))"
   ]
  },
  {
   "cell_type": "code",
   "execution_count": 140,
   "metadata": {},
   "outputs": [],
   "source": [
    "neighbors_k_ts= pairwise_distances(x_tr,Y=x_ts, n_jobs=-1)\n",
    "neighbors_k_ts.sort(0)"
   ]
  },
  {
   "cell_type": "code",
   "execution_count": 141,
   "metadata": {},
   "outputs": [
    {
     "data": {
      "text/html": [
       "<div>\n",
       "<style scoped>\n",
       "    .dataframe tbody tr th:only-of-type {\n",
       "        vertical-align: middle;\n",
       "    }\n",
       "\n",
       "    .dataframe tbody tr th {\n",
       "        vertical-align: top;\n",
       "    }\n",
       "\n",
       "    .dataframe thead th {\n",
       "        text-align: right;\n",
       "    }\n",
       "</style>\n",
       "<table border=\"1\" class=\"dataframe\">\n",
       "  <thead>\n",
       "    <tr style=\"text-align: right;\">\n",
       "      <th></th>\n",
       "      <th>0</th>\n",
       "      <th>1</th>\n",
       "      <th>2</th>\n",
       "      <th>3</th>\n",
       "      <th>4</th>\n",
       "      <th>5</th>\n",
       "      <th>6</th>\n",
       "      <th>7</th>\n",
       "      <th>8</th>\n",
       "      <th>9</th>\n",
       "      <th>...</th>\n",
       "      <th>1959</th>\n",
       "      <th>1960</th>\n",
       "      <th>1961</th>\n",
       "      <th>1962</th>\n",
       "      <th>1963</th>\n",
       "      <th>1964</th>\n",
       "      <th>1965</th>\n",
       "      <th>1966</th>\n",
       "      <th>1967</th>\n",
       "      <th>1968</th>\n",
       "    </tr>\n",
       "  </thead>\n",
       "  <tbody>\n",
       "    <tr>\n",
       "      <th>0</th>\n",
       "      <td>2.000000</td>\n",
       "      <td>3.872983</td>\n",
       "      <td>2.000000</td>\n",
       "      <td>1.414214</td>\n",
       "      <td>2.236068</td>\n",
       "      <td>2.000000</td>\n",
       "      <td>2.236068</td>\n",
       "      <td>3.605551</td>\n",
       "      <td>3.162278</td>\n",
       "      <td>3.316625</td>\n",
       "      <td>...</td>\n",
       "      <td>4.242641</td>\n",
       "      <td>7.937254</td>\n",
       "      <td>3.741657</td>\n",
       "      <td>3.000000</td>\n",
       "      <td>3.162278</td>\n",
       "      <td>4.242641</td>\n",
       "      <td>4.472136</td>\n",
       "      <td>2.645751</td>\n",
       "      <td>5.291503</td>\n",
       "      <td>2.645751</td>\n",
       "    </tr>\n",
       "    <tr>\n",
       "      <th>1</th>\n",
       "      <td>2.000000</td>\n",
       "      <td>4.000000</td>\n",
       "      <td>2.645751</td>\n",
       "      <td>1.732051</td>\n",
       "      <td>2.828427</td>\n",
       "      <td>2.000000</td>\n",
       "      <td>2.828427</td>\n",
       "      <td>3.741657</td>\n",
       "      <td>3.741657</td>\n",
       "      <td>3.464102</td>\n",
       "      <td>...</td>\n",
       "      <td>4.582576</td>\n",
       "      <td>8.000000</td>\n",
       "      <td>5.196152</td>\n",
       "      <td>3.162278</td>\n",
       "      <td>3.741657</td>\n",
       "      <td>4.898979</td>\n",
       "      <td>5.196152</td>\n",
       "      <td>3.741657</td>\n",
       "      <td>5.477226</td>\n",
       "      <td>3.162278</td>\n",
       "    </tr>\n",
       "    <tr>\n",
       "      <th>2</th>\n",
       "      <td>2.000000</td>\n",
       "      <td>4.000000</td>\n",
       "      <td>2.828427</td>\n",
       "      <td>1.732051</td>\n",
       "      <td>2.828427</td>\n",
       "      <td>2.236068</td>\n",
       "      <td>2.828427</td>\n",
       "      <td>4.000000</td>\n",
       "      <td>4.123106</td>\n",
       "      <td>3.464102</td>\n",
       "      <td>...</td>\n",
       "      <td>4.582576</td>\n",
       "      <td>8.124038</td>\n",
       "      <td>5.291503</td>\n",
       "      <td>3.605551</td>\n",
       "      <td>3.872983</td>\n",
       "      <td>4.898979</td>\n",
       "      <td>6.557439</td>\n",
       "      <td>4.000000</td>\n",
       "      <td>5.477226</td>\n",
       "      <td>3.316625</td>\n",
       "    </tr>\n",
       "    <tr>\n",
       "      <th>3</th>\n",
       "      <td>2.000000</td>\n",
       "      <td>4.123106</td>\n",
       "      <td>3.000000</td>\n",
       "      <td>2.000000</td>\n",
       "      <td>3.000000</td>\n",
       "      <td>2.236068</td>\n",
       "      <td>3.162278</td>\n",
       "      <td>4.000000</td>\n",
       "      <td>4.123106</td>\n",
       "      <td>3.605551</td>\n",
       "      <td>...</td>\n",
       "      <td>4.582576</td>\n",
       "      <td>8.246211</td>\n",
       "      <td>5.291503</td>\n",
       "      <td>3.741657</td>\n",
       "      <td>4.000000</td>\n",
       "      <td>5.000000</td>\n",
       "      <td>6.633250</td>\n",
       "      <td>4.123106</td>\n",
       "      <td>5.567764</td>\n",
       "      <td>3.316625</td>\n",
       "    </tr>\n",
       "    <tr>\n",
       "      <th>4</th>\n",
       "      <td>2.000000</td>\n",
       "      <td>4.123106</td>\n",
       "      <td>3.000000</td>\n",
       "      <td>2.000000</td>\n",
       "      <td>3.000000</td>\n",
       "      <td>2.236068</td>\n",
       "      <td>3.162278</td>\n",
       "      <td>4.000000</td>\n",
       "      <td>4.123106</td>\n",
       "      <td>3.741657</td>\n",
       "      <td>...</td>\n",
       "      <td>4.582576</td>\n",
       "      <td>8.246211</td>\n",
       "      <td>5.385165</td>\n",
       "      <td>3.872983</td>\n",
       "      <td>4.123106</td>\n",
       "      <td>5.000000</td>\n",
       "      <td>6.708204</td>\n",
       "      <td>4.123106</td>\n",
       "      <td>5.567764</td>\n",
       "      <td>3.464102</td>\n",
       "    </tr>\n",
       "    <tr>\n",
       "      <th>...</th>\n",
       "      <td>...</td>\n",
       "      <td>...</td>\n",
       "      <td>...</td>\n",
       "      <td>...</td>\n",
       "      <td>...</td>\n",
       "      <td>...</td>\n",
       "      <td>...</td>\n",
       "      <td>...</td>\n",
       "      <td>...</td>\n",
       "      <td>...</td>\n",
       "      <td>...</td>\n",
       "      <td>...</td>\n",
       "      <td>...</td>\n",
       "      <td>...</td>\n",
       "      <td>...</td>\n",
       "      <td>...</td>\n",
       "      <td>...</td>\n",
       "      <td>...</td>\n",
       "      <td>...</td>\n",
       "      <td>...</td>\n",
       "      <td>...</td>\n",
       "    </tr>\n",
       "    <tr>\n",
       "      <th>7869</th>\n",
       "      <td>9.949874</td>\n",
       "      <td>10.246951</td>\n",
       "      <td>9.899495</td>\n",
       "      <td>10.049876</td>\n",
       "      <td>10.049876</td>\n",
       "      <td>10.198039</td>\n",
       "      <td>10.099505</td>\n",
       "      <td>10.630146</td>\n",
       "      <td>10.344080</td>\n",
       "      <td>10.246951</td>\n",
       "      <td>...</td>\n",
       "      <td>10.723805</td>\n",
       "      <td>11.532563</td>\n",
       "      <td>11.000000</td>\n",
       "      <td>10.583005</td>\n",
       "      <td>10.488088</td>\n",
       "      <td>10.770330</td>\n",
       "      <td>11.269428</td>\n",
       "      <td>10.723805</td>\n",
       "      <td>10.583005</td>\n",
       "      <td>10.344080</td>\n",
       "    </tr>\n",
       "    <tr>\n",
       "      <th>7870</th>\n",
       "      <td>10.583005</td>\n",
       "      <td>10.583005</td>\n",
       "      <td>10.295630</td>\n",
       "      <td>10.770330</td>\n",
       "      <td>10.583005</td>\n",
       "      <td>10.630146</td>\n",
       "      <td>10.630146</td>\n",
       "      <td>10.677078</td>\n",
       "      <td>10.770330</td>\n",
       "      <td>10.770330</td>\n",
       "      <td>...</td>\n",
       "      <td>11.313708</td>\n",
       "      <td>12.041595</td>\n",
       "      <td>11.357817</td>\n",
       "      <td>10.816654</td>\n",
       "      <td>11.045361</td>\n",
       "      <td>10.816654</td>\n",
       "      <td>11.489125</td>\n",
       "      <td>10.954451</td>\n",
       "      <td>11.357817</td>\n",
       "      <td>10.677078</td>\n",
       "    </tr>\n",
       "    <tr>\n",
       "      <th>7871</th>\n",
       "      <td>11.135529</td>\n",
       "      <td>11.135529</td>\n",
       "      <td>10.954451</td>\n",
       "      <td>11.313708</td>\n",
       "      <td>11.135529</td>\n",
       "      <td>11.357817</td>\n",
       "      <td>11.000000</td>\n",
       "      <td>11.532563</td>\n",
       "      <td>11.401754</td>\n",
       "      <td>11.224972</td>\n",
       "      <td>...</td>\n",
       "      <td>11.747340</td>\n",
       "      <td>12.124356</td>\n",
       "      <td>11.618950</td>\n",
       "      <td>11.090537</td>\n",
       "      <td>11.135529</td>\n",
       "      <td>11.575837</td>\n",
       "      <td>12.041595</td>\n",
       "      <td>11.045361</td>\n",
       "      <td>11.532563</td>\n",
       "      <td>10.770330</td>\n",
       "    </tr>\n",
       "    <tr>\n",
       "      <th>7872</th>\n",
       "      <td>11.313708</td>\n",
       "      <td>11.313708</td>\n",
       "      <td>11.224972</td>\n",
       "      <td>11.313708</td>\n",
       "      <td>11.313708</td>\n",
       "      <td>11.445523</td>\n",
       "      <td>11.357817</td>\n",
       "      <td>11.532563</td>\n",
       "      <td>11.575837</td>\n",
       "      <td>11.401754</td>\n",
       "      <td>...</td>\n",
       "      <td>11.832160</td>\n",
       "      <td>12.609520</td>\n",
       "      <td>11.704700</td>\n",
       "      <td>11.269428</td>\n",
       "      <td>11.224972</td>\n",
       "      <td>11.661904</td>\n",
       "      <td>12.124356</td>\n",
       "      <td>11.224972</td>\n",
       "      <td>11.789826</td>\n",
       "      <td>10.862780</td>\n",
       "    </tr>\n",
       "    <tr>\n",
       "      <th>7873</th>\n",
       "      <td>11.575837</td>\n",
       "      <td>11.661904</td>\n",
       "      <td>11.575837</td>\n",
       "      <td>11.832160</td>\n",
       "      <td>11.489125</td>\n",
       "      <td>11.874342</td>\n",
       "      <td>11.532563</td>\n",
       "      <td>12.206556</td>\n",
       "      <td>11.575837</td>\n",
       "      <td>11.916375</td>\n",
       "      <td>...</td>\n",
       "      <td>12.083046</td>\n",
       "      <td>13.076697</td>\n",
       "      <td>12.369317</td>\n",
       "      <td>12.041595</td>\n",
       "      <td>11.916375</td>\n",
       "      <td>12.083046</td>\n",
       "      <td>12.845233</td>\n",
       "      <td>12.000000</td>\n",
       "      <td>12.288206</td>\n",
       "      <td>11.747340</td>\n",
       "    </tr>\n",
       "  </tbody>\n",
       "</table>\n",
       "<p>7874 rows × 1969 columns</p>\n",
       "</div>"
      ],
      "text/plain": [
       "           0          1          2          3          4          5     \\\n",
       "0      2.000000   3.872983   2.000000   1.414214   2.236068   2.000000   \n",
       "1      2.000000   4.000000   2.645751   1.732051   2.828427   2.000000   \n",
       "2      2.000000   4.000000   2.828427   1.732051   2.828427   2.236068   \n",
       "3      2.000000   4.123106   3.000000   2.000000   3.000000   2.236068   \n",
       "4      2.000000   4.123106   3.000000   2.000000   3.000000   2.236068   \n",
       "...         ...        ...        ...        ...        ...        ...   \n",
       "7869   9.949874  10.246951   9.899495  10.049876  10.049876  10.198039   \n",
       "7870  10.583005  10.583005  10.295630  10.770330  10.583005  10.630146   \n",
       "7871  11.135529  11.135529  10.954451  11.313708  11.135529  11.357817   \n",
       "7872  11.313708  11.313708  11.224972  11.313708  11.313708  11.445523   \n",
       "7873  11.575837  11.661904  11.575837  11.832160  11.489125  11.874342   \n",
       "\n",
       "           6          7          8          9     ...       1959       1960  \\\n",
       "0      2.236068   3.605551   3.162278   3.316625  ...   4.242641   7.937254   \n",
       "1      2.828427   3.741657   3.741657   3.464102  ...   4.582576   8.000000   \n",
       "2      2.828427   4.000000   4.123106   3.464102  ...   4.582576   8.124038   \n",
       "3      3.162278   4.000000   4.123106   3.605551  ...   4.582576   8.246211   \n",
       "4      3.162278   4.000000   4.123106   3.741657  ...   4.582576   8.246211   \n",
       "...         ...        ...        ...        ...  ...        ...        ...   \n",
       "7869  10.099505  10.630146  10.344080  10.246951  ...  10.723805  11.532563   \n",
       "7870  10.630146  10.677078  10.770330  10.770330  ...  11.313708  12.041595   \n",
       "7871  11.000000  11.532563  11.401754  11.224972  ...  11.747340  12.124356   \n",
       "7872  11.357817  11.532563  11.575837  11.401754  ...  11.832160  12.609520   \n",
       "7873  11.532563  12.206556  11.575837  11.916375  ...  12.083046  13.076697   \n",
       "\n",
       "           1961       1962       1963       1964       1965       1966  \\\n",
       "0      3.741657   3.000000   3.162278   4.242641   4.472136   2.645751   \n",
       "1      5.196152   3.162278   3.741657   4.898979   5.196152   3.741657   \n",
       "2      5.291503   3.605551   3.872983   4.898979   6.557439   4.000000   \n",
       "3      5.291503   3.741657   4.000000   5.000000   6.633250   4.123106   \n",
       "4      5.385165   3.872983   4.123106   5.000000   6.708204   4.123106   \n",
       "...         ...        ...        ...        ...        ...        ...   \n",
       "7869  11.000000  10.583005  10.488088  10.770330  11.269428  10.723805   \n",
       "7870  11.357817  10.816654  11.045361  10.816654  11.489125  10.954451   \n",
       "7871  11.618950  11.090537  11.135529  11.575837  12.041595  11.045361   \n",
       "7872  11.704700  11.269428  11.224972  11.661904  12.124356  11.224972   \n",
       "7873  12.369317  12.041595  11.916375  12.083046  12.845233  12.000000   \n",
       "\n",
       "           1967       1968  \n",
       "0      5.291503   2.645751  \n",
       "1      5.477226   3.162278  \n",
       "2      5.477226   3.316625  \n",
       "3      5.567764   3.316625  \n",
       "4      5.567764   3.464102  \n",
       "...         ...        ...  \n",
       "7869  10.583005  10.344080  \n",
       "7870  11.357817  10.677078  \n",
       "7871  11.532563  10.770330  \n",
       "7872  11.789826  10.862780  \n",
       "7873  12.288206  11.747340  \n",
       "\n",
       "[7874 rows x 1969 columns]"
      ]
     },
     "execution_count": 141,
     "metadata": {},
     "output_type": "execute_result"
    }
   ],
   "source": [
    "x_ts_AD=pd.DataFrame(neighbors_k_ts)\n",
    "x_ts_AD"
   ]
  },
  {
   "cell_type": "code",
   "execution_count": 142,
   "metadata": {},
   "outputs": [
    {
     "name": "stdout",
     "output_type": "stream",
     "text": [
      "[2.    3.873 2.    ... 2.646 5.292 2.646]\n"
     ]
    }
   ],
   "source": [
    "similarity_ts= neighbors_k_ts\n",
    "cpd_AD=similarity_ts[0,:]\n",
    "cpd_value = np.round(cpd_AD, 3)\n",
    "print(cpd_value)"
   ]
  },
  {
   "cell_type": "code",
   "execution_count": 143,
   "metadata": {},
   "outputs": [
    {
     "name": "stdout",
     "output_type": "stream",
     "text": [
      "[ True  True  True ...  True False  True]\n"
     ]
    }
   ],
   "source": [
    "cpd_AD = np.where(cpd_value <= model_AD_limit, True, False)\n",
    "print(cpd_AD)"
   ]
  },
  {
   "cell_type": "code",
   "execution_count": 144,
   "metadata": {},
   "outputs": [
    {
     "name": "stdout",
     "output_type": "stream",
     "text": [
      "Coverage =  0.71\n"
     ]
    }
   ],
   "source": [
    "print(\"Coverage = \", round(sum(cpd_AD) / len(cpd_AD), 2))"
   ]
  },
  {
   "cell_type": "code",
   "execution_count": 145,
   "metadata": {},
   "outputs": [
    {
     "name": "stdout",
     "output_type": "stream",
     "text": [
      "Indices of substances included in AD =  [   0    1    2 ... 1963 1966 1968]\n"
     ]
    }
   ],
   "source": [
    "print(\"Indices of substances included in AD = \", np.where(cpd_AD != 0)[0])"
   ]
  },
  {
   "cell_type": "code",
   "execution_count": 146,
   "metadata": {},
   "outputs": [],
   "source": [
    "out_Ad=list(np.where(cpd_AD == 0)[0])"
   ]
  },
  {
   "cell_type": "markdown",
   "metadata": {},
   "source": [
    "# 12. Prediction only for molecules included in  AD"
   ]
  },
  {
   "cell_type": "code",
   "execution_count": 147,
   "metadata": {},
   "outputs": [],
   "source": [
    "y_pred_svm_ad=list(y_pred_svm)"
   ]
  },
  {
   "cell_type": "code",
   "execution_count": 148,
   "metadata": {},
   "outputs": [],
   "source": [
    "y_pred_svm_ad[:] = [x for i,x in enumerate(y_pred_svm_ad) if i not in out_Ad]"
   ]
  },
  {
   "cell_type": "code",
   "execution_count": 149,
   "metadata": {},
   "outputs": [
    {
     "data": {
      "text/plain": [
       "1400"
      ]
     },
     "execution_count": 149,
     "metadata": {},
     "output_type": "execute_result"
    }
   ],
   "source": [
    "len(y_pred_svm_ad)"
   ]
  },
  {
   "cell_type": "code",
   "execution_count": 150,
   "metadata": {},
   "outputs": [],
   "source": [
    "y_ts_ad=list(y_ts)"
   ]
  },
  {
   "cell_type": "code",
   "execution_count": 151,
   "metadata": {},
   "outputs": [],
   "source": [
    "y_ts_ad[:] = [x for i,x in enumerate(y_ts_ad) if i not in out_Ad]"
   ]
  },
  {
   "cell_type": "code",
   "execution_count": 152,
   "metadata": {},
   "outputs": [
    {
     "data": {
      "text/plain": [
       "1400"
      ]
     },
     "execution_count": 152,
     "metadata": {},
     "output_type": "execute_result"
    }
   ],
   "source": [
    "len(y_ts_ad)"
   ]
  },
  {
   "cell_type": "code",
   "execution_count": 153,
   "metadata": {},
   "outputs": [
    {
     "data": {
      "text/plain": [
       "0.58"
      ]
     },
     "execution_count": 153,
     "metadata": {},
     "output_type": "execute_result"
    }
   ],
   "source": [
    "Q2_TS = round(r2_score(y_ts_ad, y_pred_svm_ad), 2)\n",
    "Q2_TS"
   ]
  },
  {
   "cell_type": "code",
   "execution_count": 154,
   "metadata": {},
   "outputs": [
    {
     "data": {
      "text/plain": [
       "0.6"
      ]
     },
     "execution_count": 154,
     "metadata": {},
     "output_type": "execute_result"
    }
   ],
   "source": [
    "RMSE_TS=round(np.sqrt(mean_squared_error(y_ts_ad, y_pred_svm_ad)), 2)\n",
    "RMSE_TS"
   ]
  },
  {
   "cell_type": "markdown",
   "metadata": {},
   "source": [
    "# Multi-layer Perceptron regressor"
   ]
  },
  {
   "cell_type": "code",
   "execution_count": 155,
   "metadata": {},
   "outputs": [],
   "source": [
    "from sklearn.neural_network import MLPRegressor"
   ]
  },
  {
   "cell_type": "code",
   "execution_count": 156,
   "metadata": {},
   "outputs": [],
   "source": [
    "param_grid ={\"hidden_layer_sizes\": [(400, 300, 200, 100),(100, 100, 100), (10, 10, 10),(50,)], \"activation\": [\"tanh\", \"relu\"], \"solver\": [\"lbfgs\", \"sgd\", \"adam\"], \"alpha\": [0.00005,0.0005], 'max_iter': [1000, 2000]}"
   ]
  },
  {
   "cell_type": "code",
   "execution_count": 157,
   "metadata": {},
   "outputs": [],
   "source": [
    "m = GridSearchCV(MLPRegressor(), param_grid, n_jobs=-1, cv=cv, verbose=1)"
   ]
  },
  {
   "cell_type": "code",
   "execution_count": 158,
   "metadata": {},
   "outputs": [
    {
     "name": "stdout",
     "output_type": "stream",
     "text": [
      "Fitting 5 folds for each of 96 candidates, totalling 480 fits\n"
     ]
    },
    {
     "data": {
      "text/html": [
       "<style>#sk-container-id-4 {color: black;}#sk-container-id-4 pre{padding: 0;}#sk-container-id-4 div.sk-toggleable {background-color: white;}#sk-container-id-4 label.sk-toggleable__label {cursor: pointer;display: block;width: 100%;margin-bottom: 0;padding: 0.3em;box-sizing: border-box;text-align: center;}#sk-container-id-4 label.sk-toggleable__label-arrow:before {content: \"▸\";float: left;margin-right: 0.25em;color: #696969;}#sk-container-id-4 label.sk-toggleable__label-arrow:hover:before {color: black;}#sk-container-id-4 div.sk-estimator:hover label.sk-toggleable__label-arrow:before {color: black;}#sk-container-id-4 div.sk-toggleable__content {max-height: 0;max-width: 0;overflow: hidden;text-align: left;background-color: #f0f8ff;}#sk-container-id-4 div.sk-toggleable__content pre {margin: 0.2em;color: black;border-radius: 0.25em;background-color: #f0f8ff;}#sk-container-id-4 input.sk-toggleable__control:checked~div.sk-toggleable__content {max-height: 200px;max-width: 100%;overflow: auto;}#sk-container-id-4 input.sk-toggleable__control:checked~label.sk-toggleable__label-arrow:before {content: \"▾\";}#sk-container-id-4 div.sk-estimator input.sk-toggleable__control:checked~label.sk-toggleable__label {background-color: #d4ebff;}#sk-container-id-4 div.sk-label input.sk-toggleable__control:checked~label.sk-toggleable__label {background-color: #d4ebff;}#sk-container-id-4 input.sk-hidden--visually {border: 0;clip: rect(1px 1px 1px 1px);clip: rect(1px, 1px, 1px, 1px);height: 1px;margin: -1px;overflow: hidden;padding: 0;position: absolute;width: 1px;}#sk-container-id-4 div.sk-estimator {font-family: monospace;background-color: #f0f8ff;border: 1px dotted black;border-radius: 0.25em;box-sizing: border-box;margin-bottom: 0.5em;}#sk-container-id-4 div.sk-estimator:hover {background-color: #d4ebff;}#sk-container-id-4 div.sk-parallel-item::after {content: \"\";width: 100%;border-bottom: 1px solid gray;flex-grow: 1;}#sk-container-id-4 div.sk-label:hover label.sk-toggleable__label {background-color: #d4ebff;}#sk-container-id-4 div.sk-serial::before {content: \"\";position: absolute;border-left: 1px solid gray;box-sizing: border-box;top: 0;bottom: 0;left: 50%;z-index: 0;}#sk-container-id-4 div.sk-serial {display: flex;flex-direction: column;align-items: center;background-color: white;padding-right: 0.2em;padding-left: 0.2em;position: relative;}#sk-container-id-4 div.sk-item {position: relative;z-index: 1;}#sk-container-id-4 div.sk-parallel {display: flex;align-items: stretch;justify-content: center;background-color: white;position: relative;}#sk-container-id-4 div.sk-item::before, #sk-container-id-4 div.sk-parallel-item::before {content: \"\";position: absolute;border-left: 1px solid gray;box-sizing: border-box;top: 0;bottom: 0;left: 50%;z-index: -1;}#sk-container-id-4 div.sk-parallel-item {display: flex;flex-direction: column;z-index: 1;position: relative;background-color: white;}#sk-container-id-4 div.sk-parallel-item:first-child::after {align-self: flex-end;width: 50%;}#sk-container-id-4 div.sk-parallel-item:last-child::after {align-self: flex-start;width: 50%;}#sk-container-id-4 div.sk-parallel-item:only-child::after {width: 0;}#sk-container-id-4 div.sk-dashed-wrapped {border: 1px dashed gray;margin: 0 0.4em 0.5em 0.4em;box-sizing: border-box;padding-bottom: 0.4em;background-color: white;}#sk-container-id-4 div.sk-label label {font-family: monospace;font-weight: bold;display: inline-block;line-height: 1.2em;}#sk-container-id-4 div.sk-label-container {text-align: center;}#sk-container-id-4 div.sk-container {/* jupyter's `normalize.less` sets `[hidden] { display: none; }` but bootstrap.min.css set `[hidden] { display: none !important; }` so we also need the `!important` here to be able to override the default hidden behavior on the sphinx rendered scikit-learn.org. See: https://github.com/scikit-learn/scikit-learn/issues/21755 */display: inline-block !important;position: relative;}#sk-container-id-4 div.sk-text-repr-fallback {display: none;}</style><div id=\"sk-container-id-4\" class=\"sk-top-container\"><div class=\"sk-text-repr-fallback\"><pre>GridSearchCV(cv=KFold(n_splits=5, random_state=42, shuffle=True),\n",
       "             estimator=MLPRegressor(), n_jobs=-1,\n",
       "             param_grid={&#x27;activation&#x27;: [&#x27;tanh&#x27;, &#x27;relu&#x27;],\n",
       "                         &#x27;alpha&#x27;: [5e-05, 0.0005],\n",
       "                         &#x27;hidden_layer_sizes&#x27;: [(400, 300, 200, 100),\n",
       "                                                (100, 100, 100), (10, 10, 10),\n",
       "                                                (50,)],\n",
       "                         &#x27;max_iter&#x27;: [1000, 2000],\n",
       "                         &#x27;solver&#x27;: [&#x27;lbfgs&#x27;, &#x27;sgd&#x27;, &#x27;adam&#x27;]},\n",
       "             verbose=1)</pre><b>In a Jupyter environment, please rerun this cell to show the HTML representation or trust the notebook. <br />On GitHub, the HTML representation is unable to render, please try loading this page with nbviewer.org.</b></div><div class=\"sk-container\" hidden><div class=\"sk-item sk-dashed-wrapped\"><div class=\"sk-label-container\"><div class=\"sk-label sk-toggleable\"><input class=\"sk-toggleable__control sk-hidden--visually\" id=\"sk-estimator-id-10\" type=\"checkbox\" ><label for=\"sk-estimator-id-10\" class=\"sk-toggleable__label sk-toggleable__label-arrow\">GridSearchCV</label><div class=\"sk-toggleable__content\"><pre>GridSearchCV(cv=KFold(n_splits=5, random_state=42, shuffle=True),\n",
       "             estimator=MLPRegressor(), n_jobs=-1,\n",
       "             param_grid={&#x27;activation&#x27;: [&#x27;tanh&#x27;, &#x27;relu&#x27;],\n",
       "                         &#x27;alpha&#x27;: [5e-05, 0.0005],\n",
       "                         &#x27;hidden_layer_sizes&#x27;: [(400, 300, 200, 100),\n",
       "                                                (100, 100, 100), (10, 10, 10),\n",
       "                                                (50,)],\n",
       "                         &#x27;max_iter&#x27;: [1000, 2000],\n",
       "                         &#x27;solver&#x27;: [&#x27;lbfgs&#x27;, &#x27;sgd&#x27;, &#x27;adam&#x27;]},\n",
       "             verbose=1)</pre></div></div></div><div class=\"sk-parallel\"><div class=\"sk-parallel-item\"><div class=\"sk-item\"><div class=\"sk-label-container\"><div class=\"sk-label sk-toggleable\"><input class=\"sk-toggleable__control sk-hidden--visually\" id=\"sk-estimator-id-11\" type=\"checkbox\" ><label for=\"sk-estimator-id-11\" class=\"sk-toggleable__label sk-toggleable__label-arrow\">estimator: MLPRegressor</label><div class=\"sk-toggleable__content\"><pre>MLPRegressor()</pre></div></div></div><div class=\"sk-serial\"><div class=\"sk-item\"><div class=\"sk-estimator sk-toggleable\"><input class=\"sk-toggleable__control sk-hidden--visually\" id=\"sk-estimator-id-12\" type=\"checkbox\" ><label for=\"sk-estimator-id-12\" class=\"sk-toggleable__label sk-toggleable__label-arrow\">MLPRegressor</label><div class=\"sk-toggleable__content\"><pre>MLPRegressor()</pre></div></div></div></div></div></div></div></div></div></div>"
      ],
      "text/plain": [
       "GridSearchCV(cv=KFold(n_splits=5, random_state=42, shuffle=True),\n",
       "             estimator=MLPRegressor(), n_jobs=-1,\n",
       "             param_grid={'activation': ['tanh', 'relu'],\n",
       "                         'alpha': [5e-05, 0.0005],\n",
       "                         'hidden_layer_sizes': [(400, 300, 200, 100),\n",
       "                                                (100, 100, 100), (10, 10, 10),\n",
       "                                                (50,)],\n",
       "                         'max_iter': [1000, 2000],\n",
       "                         'solver': ['lbfgs', 'sgd', 'adam']},\n",
       "             verbose=1)"
      ]
     },
     "execution_count": 158,
     "metadata": {},
     "output_type": "execute_result"
    }
   ],
   "source": [
    "m.fit(x_tr, y_tr)"
   ]
  },
  {
   "cell_type": "code",
   "execution_count": 159,
   "metadata": {},
   "outputs": [],
   "source": [
    "best_MLPR = m.best_estimator_"
   ]
  },
  {
   "cell_type": "code",
   "execution_count": 160,
   "metadata": {},
   "outputs": [
    {
     "data": {
      "text/plain": [
       "{'activation': 'relu',\n",
       " 'alpha': 5e-05,\n",
       " 'hidden_layer_sizes': (400, 300, 200, 100),\n",
       " 'max_iter': 2000,\n",
       " 'solver': 'adam'}"
      ]
     },
     "execution_count": 160,
     "metadata": {},
     "output_type": "execute_result"
    }
   ],
   "source": [
    "m.best_params_"
   ]
  },
  {
   "cell_type": "code",
   "execution_count": 161,
   "metadata": {},
   "outputs": [],
   "source": [
    "y_pred_ws_MLPR = best_MLPR.predict(x_tr)"
   ]
  },
  {
   "cell_type": "code",
   "execution_count": 162,
   "metadata": {},
   "outputs": [
    {
     "data": {
      "text/plain": [
       "0.99"
      ]
     },
     "execution_count": 162,
     "metadata": {},
     "output_type": "execute_result"
    }
   ],
   "source": [
    "R2_WS = round(r2_score(y_tr, y_pred_ws_MLPR), 2)\n",
    "R2_WS"
   ]
  },
  {
   "cell_type": "code",
   "execution_count": 163,
   "metadata": {},
   "outputs": [
    {
     "data": {
      "text/plain": [
       "0.11"
      ]
     },
     "execution_count": 163,
     "metadata": {},
     "output_type": "execute_result"
    }
   ],
   "source": [
    "RMSE_WS=round(np.sqrt(mean_squared_error(y_tr, y_pred_ws_MLPR)), 2)\n",
    "RMSE_WS"
   ]
  },
  {
   "cell_type": "code",
   "execution_count": 164,
   "metadata": {},
   "outputs": [],
   "source": [
    "y_pred_CV_MLPR = cross_val_predict(best_MLPR, x_tr, y_tr, cv=cv)"
   ]
  },
  {
   "cell_type": "code",
   "execution_count": 165,
   "metadata": {},
   "outputs": [
    {
     "data": {
      "text/plain": [
       "array([1.48264071, 2.33672459, 1.53936986, ..., 5.95051177, 2.65646771,\n",
       "       2.35715558])"
      ]
     },
     "execution_count": 165,
     "metadata": {},
     "output_type": "execute_result"
    }
   ],
   "source": [
    "y_pred_CV_MLPR"
   ]
  },
  {
   "cell_type": "code",
   "execution_count": 166,
   "metadata": {},
   "outputs": [
    {
     "data": {
      "text/plain": [
       "0.52"
      ]
     },
     "execution_count": 166,
     "metadata": {},
     "output_type": "execute_result"
    }
   ],
   "source": [
    "Q2_CV = round(r2_score(y_tr, y_pred_CV_MLPR), 2)\n",
    "Q2_CV"
   ]
  },
  {
   "cell_type": "code",
   "execution_count": 167,
   "metadata": {},
   "outputs": [
    {
     "data": {
      "text/plain": [
       "0.62"
      ]
     },
     "execution_count": 167,
     "metadata": {},
     "output_type": "execute_result"
    }
   ],
   "source": [
    "RMSE_CV=round(np.sqrt(mean_squared_error(y_tr, y_pred_CV_MLPR)), 2)\n",
    "RMSE_CV"
   ]
  },
  {
   "cell_type": "markdown",
   "metadata": {},
   "source": [
    "# 9. Prediction for test set's molecules"
   ]
  },
  {
   "cell_type": "code",
   "execution_count": 41,
   "metadata": {},
   "outputs": [],
   "source": [
    "x_ts = np.array(x_ts, dtype=np.float32)\n",
    "y_ts = np.array(y_ts, dtype=np.float32)"
   ]
  },
  {
   "cell_type": "code",
   "execution_count": 42,
   "metadata": {},
   "outputs": [],
   "source": [
    "y_pred_MLPR = best_MLPR.predict(x_ts)"
   ]
  },
  {
   "cell_type": "code",
   "execution_count": 43,
   "metadata": {},
   "outputs": [
    {
     "data": {
      "text/plain": [
       "0.49"
      ]
     },
     "execution_count": 43,
     "metadata": {},
     "output_type": "execute_result"
    }
   ],
   "source": [
    "Q2_TS = round(r2_score(y_ts, y_pred_MLPR), 2)\n",
    "Q2_TS"
   ]
  },
  {
   "cell_type": "code",
   "execution_count": 44,
   "metadata": {},
   "outputs": [
    {
     "data": {
      "text/plain": [
       "0.64"
      ]
     },
     "execution_count": 44,
     "metadata": {},
     "output_type": "execute_result"
    }
   ],
   "source": [
    "RMSE_TS=round(np.sqrt(mean_squared_error(y_ts, y_pred_MLPR)), 2)\n",
    "RMSE_TS"
   ]
  },
  {
   "cell_type": "markdown",
   "metadata": {},
   "source": [
    "# save the model to disk"
   ]
  },
  {
   "cell_type": "code",
   "execution_count": 173,
   "metadata": {},
   "outputs": [],
   "source": [
    "pickle.dump(best_MLPR, open('models/MorganFingerprint/Toxicity_MLPR_MF.pkl', 'wb'))"
   ]
  },
  {
   "cell_type": "markdown",
   "metadata": {},
   "source": [
    "# load the model from disk"
   ]
  },
  {
   "cell_type": "code",
   "execution_count": 24,
   "metadata": {},
   "outputs": [],
   "source": [
    "best_MLPR = pickle.load(open('models/MorganFingerprint/Toxicity_MLPR_MF.pkl', 'rb'))"
   ]
  },
  {
   "cell_type": "markdown",
   "metadata": {},
   "source": [
    "#  Estimating applicability domain. Method - Euclidian distances, K=1"
   ]
  },
  {
   "cell_type": "code",
   "execution_count": 25,
   "metadata": {},
   "outputs": [],
   "source": [
    "neighbors_k= pairwise_distances(x_tr, n_jobs=-1)\n",
    "neighbors_k.sort(0)"
   ]
  },
  {
   "cell_type": "code",
   "execution_count": 26,
   "metadata": {},
   "outputs": [
    {
     "data": {
      "text/html": [
       "<div>\n",
       "<style scoped>\n",
       "    .dataframe tbody tr th:only-of-type {\n",
       "        vertical-align: middle;\n",
       "    }\n",
       "\n",
       "    .dataframe tbody tr th {\n",
       "        vertical-align: top;\n",
       "    }\n",
       "\n",
       "    .dataframe thead th {\n",
       "        text-align: right;\n",
       "    }\n",
       "</style>\n",
       "<table border=\"1\" class=\"dataframe\">\n",
       "  <thead>\n",
       "    <tr style=\"text-align: right;\">\n",
       "      <th></th>\n",
       "      <th>0</th>\n",
       "      <th>1</th>\n",
       "      <th>2</th>\n",
       "      <th>3</th>\n",
       "      <th>4</th>\n",
       "      <th>5</th>\n",
       "      <th>6</th>\n",
       "      <th>7</th>\n",
       "      <th>8</th>\n",
       "      <th>9</th>\n",
       "      <th>...</th>\n",
       "      <th>7864</th>\n",
       "      <th>7865</th>\n",
       "      <th>7866</th>\n",
       "      <th>7867</th>\n",
       "      <th>7868</th>\n",
       "      <th>7869</th>\n",
       "      <th>7870</th>\n",
       "      <th>7871</th>\n",
       "      <th>7872</th>\n",
       "      <th>7873</th>\n",
       "    </tr>\n",
       "  </thead>\n",
       "  <tbody>\n",
       "    <tr>\n",
       "      <th>0</th>\n",
       "      <td>0.000000</td>\n",
       "      <td>0.000000</td>\n",
       "      <td>0.000000</td>\n",
       "      <td>0.000000</td>\n",
       "      <td>0.000000</td>\n",
       "      <td>0.000000</td>\n",
       "      <td>0.000000</td>\n",
       "      <td>0.000000</td>\n",
       "      <td>0.000000</td>\n",
       "      <td>0.000000</td>\n",
       "      <td>...</td>\n",
       "      <td>0.000000</td>\n",
       "      <td>0.000000</td>\n",
       "      <td>0.000000</td>\n",
       "      <td>0.000000</td>\n",
       "      <td>0.000000</td>\n",
       "      <td>0.000000</td>\n",
       "      <td>0.000000</td>\n",
       "      <td>0.000000</td>\n",
       "      <td>0.000000</td>\n",
       "      <td>0.000000</td>\n",
       "    </tr>\n",
       "    <tr>\n",
       "      <th>1</th>\n",
       "      <td>3.464102</td>\n",
       "      <td>4.690416</td>\n",
       "      <td>2.236068</td>\n",
       "      <td>3.741657</td>\n",
       "      <td>2.236068</td>\n",
       "      <td>3.464102</td>\n",
       "      <td>3.316625</td>\n",
       "      <td>6.000000</td>\n",
       "      <td>0.000000</td>\n",
       "      <td>2.000000</td>\n",
       "      <td>...</td>\n",
       "      <td>3.316625</td>\n",
       "      <td>4.123106</td>\n",
       "      <td>4.690416</td>\n",
       "      <td>4.795832</td>\n",
       "      <td>2.645751</td>\n",
       "      <td>3.605551</td>\n",
       "      <td>6.557438</td>\n",
       "      <td>3.316625</td>\n",
       "      <td>5.567764</td>\n",
       "      <td>7.071068</td>\n",
       "    </tr>\n",
       "    <tr>\n",
       "      <th>2</th>\n",
       "      <td>4.000000</td>\n",
       "      <td>4.795832</td>\n",
       "      <td>2.236068</td>\n",
       "      <td>3.872983</td>\n",
       "      <td>2.449490</td>\n",
       "      <td>3.464102</td>\n",
       "      <td>3.605551</td>\n",
       "      <td>6.082763</td>\n",
       "      <td>0.000000</td>\n",
       "      <td>2.449490</td>\n",
       "      <td>...</td>\n",
       "      <td>3.464102</td>\n",
       "      <td>4.582576</td>\n",
       "      <td>6.164414</td>\n",
       "      <td>5.099020</td>\n",
       "      <td>5.099020</td>\n",
       "      <td>3.741657</td>\n",
       "      <td>6.557438</td>\n",
       "      <td>4.242640</td>\n",
       "      <td>6.244998</td>\n",
       "      <td>7.280110</td>\n",
       "    </tr>\n",
       "    <tr>\n",
       "      <th>3</th>\n",
       "      <td>4.000000</td>\n",
       "      <td>5.000000</td>\n",
       "      <td>2.449490</td>\n",
       "      <td>3.872983</td>\n",
       "      <td>2.449490</td>\n",
       "      <td>3.464102</td>\n",
       "      <td>3.741657</td>\n",
       "      <td>6.082763</td>\n",
       "      <td>0.000000</td>\n",
       "      <td>2.449490</td>\n",
       "      <td>...</td>\n",
       "      <td>4.000000</td>\n",
       "      <td>4.582576</td>\n",
       "      <td>6.244998</td>\n",
       "      <td>6.164414</td>\n",
       "      <td>5.099020</td>\n",
       "      <td>3.741657</td>\n",
       "      <td>6.633250</td>\n",
       "      <td>5.196152</td>\n",
       "      <td>6.244998</td>\n",
       "      <td>7.280110</td>\n",
       "    </tr>\n",
       "    <tr>\n",
       "      <th>4</th>\n",
       "      <td>4.123106</td>\n",
       "      <td>5.099020</td>\n",
       "      <td>2.449490</td>\n",
       "      <td>4.000000</td>\n",
       "      <td>2.449490</td>\n",
       "      <td>3.605551</td>\n",
       "      <td>3.741657</td>\n",
       "      <td>6.082763</td>\n",
       "      <td>2.449490</td>\n",
       "      <td>2.449490</td>\n",
       "      <td>...</td>\n",
       "      <td>4.242640</td>\n",
       "      <td>4.690416</td>\n",
       "      <td>6.244998</td>\n",
       "      <td>7.211102</td>\n",
       "      <td>6.244998</td>\n",
       "      <td>3.872983</td>\n",
       "      <td>6.633250</td>\n",
       "      <td>5.477226</td>\n",
       "      <td>6.324555</td>\n",
       "      <td>7.348469</td>\n",
       "    </tr>\n",
       "    <tr>\n",
       "      <th>...</th>\n",
       "      <td>...</td>\n",
       "      <td>...</td>\n",
       "      <td>...</td>\n",
       "      <td>...</td>\n",
       "      <td>...</td>\n",
       "      <td>...</td>\n",
       "      <td>...</td>\n",
       "      <td>...</td>\n",
       "      <td>...</td>\n",
       "      <td>...</td>\n",
       "      <td>...</td>\n",
       "      <td>...</td>\n",
       "      <td>...</td>\n",
       "      <td>...</td>\n",
       "      <td>...</td>\n",
       "      <td>...</td>\n",
       "      <td>...</td>\n",
       "      <td>...</td>\n",
       "      <td>...</td>\n",
       "      <td>...</td>\n",
       "      <td>...</td>\n",
       "    </tr>\n",
       "    <tr>\n",
       "      <th>7869</th>\n",
       "      <td>10.488089</td>\n",
       "      <td>10.488089</td>\n",
       "      <td>10.148891</td>\n",
       "      <td>10.392304</td>\n",
       "      <td>9.899495</td>\n",
       "      <td>10.099504</td>\n",
       "      <td>10.099504</td>\n",
       "      <td>10.440307</td>\n",
       "      <td>10.344080</td>\n",
       "      <td>10.392304</td>\n",
       "      <td>...</td>\n",
       "      <td>10.723805</td>\n",
       "      <td>10.440307</td>\n",
       "      <td>10.440307</td>\n",
       "      <td>11.532562</td>\n",
       "      <td>11.357817</td>\n",
       "      <td>10.295630</td>\n",
       "      <td>11.045361</td>\n",
       "      <td>11.357817</td>\n",
       "      <td>11.357817</td>\n",
       "      <td>11.000000</td>\n",
       "    </tr>\n",
       "    <tr>\n",
       "      <th>7870</th>\n",
       "      <td>10.630146</td>\n",
       "      <td>10.630146</td>\n",
       "      <td>10.583005</td>\n",
       "      <td>10.723805</td>\n",
       "      <td>10.246951</td>\n",
       "      <td>10.344080</td>\n",
       "      <td>10.677078</td>\n",
       "      <td>10.677078</td>\n",
       "      <td>10.677078</td>\n",
       "      <td>10.816654</td>\n",
       "      <td>...</td>\n",
       "      <td>11.224972</td>\n",
       "      <td>11.224972</td>\n",
       "      <td>11.224972</td>\n",
       "      <td>11.916375</td>\n",
       "      <td>11.661903</td>\n",
       "      <td>10.770329</td>\n",
       "      <td>11.090536</td>\n",
       "      <td>11.832160</td>\n",
       "      <td>11.489125</td>\n",
       "      <td>11.489125</td>\n",
       "    </tr>\n",
       "    <tr>\n",
       "      <th>7871</th>\n",
       "      <td>11.180340</td>\n",
       "      <td>11.045361</td>\n",
       "      <td>11.224972</td>\n",
       "      <td>11.445523</td>\n",
       "      <td>10.908712</td>\n",
       "      <td>11.090536</td>\n",
       "      <td>10.862781</td>\n",
       "      <td>11.224972</td>\n",
       "      <td>11.313708</td>\n",
       "      <td>11.357817</td>\n",
       "      <td>...</td>\n",
       "      <td>11.747340</td>\n",
       "      <td>11.661903</td>\n",
       "      <td>11.401754</td>\n",
       "      <td>12.206555</td>\n",
       "      <td>11.958261</td>\n",
       "      <td>10.954452</td>\n",
       "      <td>11.618950</td>\n",
       "      <td>12.247449</td>\n",
       "      <td>11.832160</td>\n",
       "      <td>12.083046</td>\n",
       "    </tr>\n",
       "    <tr>\n",
       "      <th>7872</th>\n",
       "      <td>11.269427</td>\n",
       "      <td>11.401754</td>\n",
       "      <td>11.401754</td>\n",
       "      <td>11.618950</td>\n",
       "      <td>11.180340</td>\n",
       "      <td>11.269427</td>\n",
       "      <td>11.045361</td>\n",
       "      <td>11.747340</td>\n",
       "      <td>11.575837</td>\n",
       "      <td>11.532562</td>\n",
       "      <td>...</td>\n",
       "      <td>11.832160</td>\n",
       "      <td>11.916375</td>\n",
       "      <td>11.832160</td>\n",
       "      <td>12.206555</td>\n",
       "      <td>12.124355</td>\n",
       "      <td>11.135529</td>\n",
       "      <td>11.874342</td>\n",
       "      <td>12.569805</td>\n",
       "      <td>12.083046</td>\n",
       "      <td>12.247449</td>\n",
       "    </tr>\n",
       "    <tr>\n",
       "      <th>7873</th>\n",
       "      <td>11.874342</td>\n",
       "      <td>11.832160</td>\n",
       "      <td>11.747340</td>\n",
       "      <td>12.041595</td>\n",
       "      <td>11.357817</td>\n",
       "      <td>11.445523</td>\n",
       "      <td>11.489125</td>\n",
       "      <td>11.747340</td>\n",
       "      <td>11.747340</td>\n",
       "      <td>11.958261</td>\n",
       "      <td>...</td>\n",
       "      <td>12.083046</td>\n",
       "      <td>12.083046</td>\n",
       "      <td>11.832160</td>\n",
       "      <td>13.076696</td>\n",
       "      <td>12.767145</td>\n",
       "      <td>11.832160</td>\n",
       "      <td>12.369317</td>\n",
       "      <td>12.569805</td>\n",
       "      <td>12.727922</td>\n",
       "      <td>12.489996</td>\n",
       "    </tr>\n",
       "  </tbody>\n",
       "</table>\n",
       "<p>7874 rows × 7874 columns</p>\n",
       "</div>"
      ],
      "text/plain": [
       "           0          1          2          3          4          5     \\\n",
       "0      0.000000   0.000000   0.000000   0.000000   0.000000   0.000000   \n",
       "1      3.464102   4.690416   2.236068   3.741657   2.236068   3.464102   \n",
       "2      4.000000   4.795832   2.236068   3.872983   2.449490   3.464102   \n",
       "3      4.000000   5.000000   2.449490   3.872983   2.449490   3.464102   \n",
       "4      4.123106   5.099020   2.449490   4.000000   2.449490   3.605551   \n",
       "...         ...        ...        ...        ...        ...        ...   \n",
       "7869  10.488089  10.488089  10.148891  10.392304   9.899495  10.099504   \n",
       "7870  10.630146  10.630146  10.583005  10.723805  10.246951  10.344080   \n",
       "7871  11.180340  11.045361  11.224972  11.445523  10.908712  11.090536   \n",
       "7872  11.269427  11.401754  11.401754  11.618950  11.180340  11.269427   \n",
       "7873  11.874342  11.832160  11.747340  12.041595  11.357817  11.445523   \n",
       "\n",
       "           6          7          8          9     ...       7864       7865  \\\n",
       "0      0.000000   0.000000   0.000000   0.000000  ...   0.000000   0.000000   \n",
       "1      3.316625   6.000000   0.000000   2.000000  ...   3.316625   4.123106   \n",
       "2      3.605551   6.082763   0.000000   2.449490  ...   3.464102   4.582576   \n",
       "3      3.741657   6.082763   0.000000   2.449490  ...   4.000000   4.582576   \n",
       "4      3.741657   6.082763   2.449490   2.449490  ...   4.242640   4.690416   \n",
       "...         ...        ...        ...        ...  ...        ...        ...   \n",
       "7869  10.099504  10.440307  10.344080  10.392304  ...  10.723805  10.440307   \n",
       "7870  10.677078  10.677078  10.677078  10.816654  ...  11.224972  11.224972   \n",
       "7871  10.862781  11.224972  11.313708  11.357817  ...  11.747340  11.661903   \n",
       "7872  11.045361  11.747340  11.575837  11.532562  ...  11.832160  11.916375   \n",
       "7873  11.489125  11.747340  11.747340  11.958261  ...  12.083046  12.083046   \n",
       "\n",
       "           7866       7867       7868       7869       7870       7871  \\\n",
       "0      0.000000   0.000000   0.000000   0.000000   0.000000   0.000000   \n",
       "1      4.690416   4.795832   2.645751   3.605551   6.557438   3.316625   \n",
       "2      6.164414   5.099020   5.099020   3.741657   6.557438   4.242640   \n",
       "3      6.244998   6.164414   5.099020   3.741657   6.633250   5.196152   \n",
       "4      6.244998   7.211102   6.244998   3.872983   6.633250   5.477226   \n",
       "...         ...        ...        ...        ...        ...        ...   \n",
       "7869  10.440307  11.532562  11.357817  10.295630  11.045361  11.357817   \n",
       "7870  11.224972  11.916375  11.661903  10.770329  11.090536  11.832160   \n",
       "7871  11.401754  12.206555  11.958261  10.954452  11.618950  12.247449   \n",
       "7872  11.832160  12.206555  12.124355  11.135529  11.874342  12.569805   \n",
       "7873  11.832160  13.076696  12.767145  11.832160  12.369317  12.569805   \n",
       "\n",
       "           7872       7873  \n",
       "0      0.000000   0.000000  \n",
       "1      5.567764   7.071068  \n",
       "2      6.244998   7.280110  \n",
       "3      6.244998   7.280110  \n",
       "4      6.324555   7.348469  \n",
       "...         ...        ...  \n",
       "7869  11.357817  11.000000  \n",
       "7870  11.489125  11.489125  \n",
       "7871  11.832160  12.083046  \n",
       "7872  12.083046  12.247449  \n",
       "7873  12.727922  12.489996  \n",
       "\n",
       "[7874 rows x 7874 columns]"
      ]
     },
     "execution_count": 26,
     "metadata": {},
     "output_type": "execute_result"
    }
   ],
   "source": [
    "df_tr=pd.DataFrame(neighbors_k)\n",
    "df_tr"
   ]
  },
  {
   "cell_type": "code",
   "execution_count": 27,
   "metadata": {},
   "outputs": [],
   "source": [
    "similarity= neighbors_k"
   ]
  },
  {
   "cell_type": "code",
   "execution_count": 28,
   "metadata": {},
   "outputs": [],
   "source": [
    "Dmean=np.mean(similarity[1,:])"
   ]
  },
  {
   "cell_type": "code",
   "execution_count": 29,
   "metadata": {},
   "outputs": [
    {
     "data": {
      "text/plain": [
       "3.6"
      ]
     },
     "execution_count": 29,
     "metadata": {},
     "output_type": "execute_result"
    }
   ],
   "source": [
    "round(Dmean, 2)"
   ]
  },
  {
   "cell_type": "code",
   "execution_count": 30,
   "metadata": {},
   "outputs": [],
   "source": [
    "std=np.std(similarity[1,:])"
   ]
  },
  {
   "cell_type": "code",
   "execution_count": 31,
   "metadata": {},
   "outputs": [
    {
     "data": {
      "text/plain": [
       "1.22"
      ]
     },
     "execution_count": 31,
     "metadata": {},
     "output_type": "execute_result"
    }
   ],
   "source": [
    "round(std, 2)"
   ]
  },
  {
   "cell_type": "code",
   "execution_count": 32,
   "metadata": {},
   "outputs": [
    {
     "name": "stdout",
     "output_type": "stream",
     "text": [
      "4.21\n"
     ]
    }
   ],
   "source": [
    "model_AD_limit=Dmean+std*0.5\n",
    "print(np.round(model_AD_limit, 2))"
   ]
  },
  {
   "cell_type": "code",
   "execution_count": 33,
   "metadata": {},
   "outputs": [],
   "source": [
    "neighbors_k_ts= pairwise_distances(x_tr,Y=x_ts, n_jobs=-1)\n",
    "neighbors_k_ts.sort(0)"
   ]
  },
  {
   "cell_type": "code",
   "execution_count": 34,
   "metadata": {},
   "outputs": [
    {
     "data": {
      "text/html": [
       "<div>\n",
       "<style scoped>\n",
       "    .dataframe tbody tr th:only-of-type {\n",
       "        vertical-align: middle;\n",
       "    }\n",
       "\n",
       "    .dataframe tbody tr th {\n",
       "        vertical-align: top;\n",
       "    }\n",
       "\n",
       "    .dataframe thead th {\n",
       "        text-align: right;\n",
       "    }\n",
       "</style>\n",
       "<table border=\"1\" class=\"dataframe\">\n",
       "  <thead>\n",
       "    <tr style=\"text-align: right;\">\n",
       "      <th></th>\n",
       "      <th>0</th>\n",
       "      <th>1</th>\n",
       "      <th>2</th>\n",
       "      <th>3</th>\n",
       "      <th>4</th>\n",
       "      <th>5</th>\n",
       "      <th>6</th>\n",
       "      <th>7</th>\n",
       "      <th>8</th>\n",
       "      <th>9</th>\n",
       "      <th>...</th>\n",
       "      <th>1959</th>\n",
       "      <th>1960</th>\n",
       "      <th>1961</th>\n",
       "      <th>1962</th>\n",
       "      <th>1963</th>\n",
       "      <th>1964</th>\n",
       "      <th>1965</th>\n",
       "      <th>1966</th>\n",
       "      <th>1967</th>\n",
       "      <th>1968</th>\n",
       "    </tr>\n",
       "  </thead>\n",
       "  <tbody>\n",
       "    <tr>\n",
       "      <th>0</th>\n",
       "      <td>2.000000</td>\n",
       "      <td>3.872983</td>\n",
       "      <td>2.000000</td>\n",
       "      <td>1.414214</td>\n",
       "      <td>2.236068</td>\n",
       "      <td>2.000000</td>\n",
       "      <td>2.236068</td>\n",
       "      <td>3.605551</td>\n",
       "      <td>3.162278</td>\n",
       "      <td>3.316625</td>\n",
       "      <td>...</td>\n",
       "      <td>4.242641</td>\n",
       "      <td>7.937254</td>\n",
       "      <td>3.741657</td>\n",
       "      <td>3.000000</td>\n",
       "      <td>3.162278</td>\n",
       "      <td>4.242641</td>\n",
       "      <td>4.472136</td>\n",
       "      <td>2.645751</td>\n",
       "      <td>5.291503</td>\n",
       "      <td>2.645751</td>\n",
       "    </tr>\n",
       "    <tr>\n",
       "      <th>1</th>\n",
       "      <td>2.000000</td>\n",
       "      <td>4.000000</td>\n",
       "      <td>2.645751</td>\n",
       "      <td>1.732051</td>\n",
       "      <td>2.828427</td>\n",
       "      <td>2.000000</td>\n",
       "      <td>2.828427</td>\n",
       "      <td>3.741657</td>\n",
       "      <td>3.741657</td>\n",
       "      <td>3.464102</td>\n",
       "      <td>...</td>\n",
       "      <td>4.582576</td>\n",
       "      <td>8.000000</td>\n",
       "      <td>5.196152</td>\n",
       "      <td>3.162278</td>\n",
       "      <td>3.741657</td>\n",
       "      <td>4.898979</td>\n",
       "      <td>5.196152</td>\n",
       "      <td>3.741657</td>\n",
       "      <td>5.477226</td>\n",
       "      <td>3.162278</td>\n",
       "    </tr>\n",
       "    <tr>\n",
       "      <th>2</th>\n",
       "      <td>2.000000</td>\n",
       "      <td>4.000000</td>\n",
       "      <td>2.828427</td>\n",
       "      <td>1.732051</td>\n",
       "      <td>2.828427</td>\n",
       "      <td>2.236068</td>\n",
       "      <td>2.828427</td>\n",
       "      <td>4.000000</td>\n",
       "      <td>4.123106</td>\n",
       "      <td>3.464102</td>\n",
       "      <td>...</td>\n",
       "      <td>4.582576</td>\n",
       "      <td>8.124038</td>\n",
       "      <td>5.291503</td>\n",
       "      <td>3.605551</td>\n",
       "      <td>3.872983</td>\n",
       "      <td>4.898979</td>\n",
       "      <td>6.557439</td>\n",
       "      <td>4.000000</td>\n",
       "      <td>5.477226</td>\n",
       "      <td>3.316625</td>\n",
       "    </tr>\n",
       "    <tr>\n",
       "      <th>3</th>\n",
       "      <td>2.000000</td>\n",
       "      <td>4.123106</td>\n",
       "      <td>3.000000</td>\n",
       "      <td>2.000000</td>\n",
       "      <td>3.000000</td>\n",
       "      <td>2.236068</td>\n",
       "      <td>3.162278</td>\n",
       "      <td>4.000000</td>\n",
       "      <td>4.123106</td>\n",
       "      <td>3.605551</td>\n",
       "      <td>...</td>\n",
       "      <td>4.582576</td>\n",
       "      <td>8.246211</td>\n",
       "      <td>5.291503</td>\n",
       "      <td>3.741657</td>\n",
       "      <td>4.000000</td>\n",
       "      <td>5.000000</td>\n",
       "      <td>6.633250</td>\n",
       "      <td>4.123106</td>\n",
       "      <td>5.567764</td>\n",
       "      <td>3.316625</td>\n",
       "    </tr>\n",
       "    <tr>\n",
       "      <th>4</th>\n",
       "      <td>2.000000</td>\n",
       "      <td>4.123106</td>\n",
       "      <td>3.000000</td>\n",
       "      <td>2.000000</td>\n",
       "      <td>3.000000</td>\n",
       "      <td>2.236068</td>\n",
       "      <td>3.162278</td>\n",
       "      <td>4.000000</td>\n",
       "      <td>4.123106</td>\n",
       "      <td>3.741657</td>\n",
       "      <td>...</td>\n",
       "      <td>4.582576</td>\n",
       "      <td>8.246211</td>\n",
       "      <td>5.385165</td>\n",
       "      <td>3.872983</td>\n",
       "      <td>4.123106</td>\n",
       "      <td>5.000000</td>\n",
       "      <td>6.708204</td>\n",
       "      <td>4.123106</td>\n",
       "      <td>5.567764</td>\n",
       "      <td>3.464102</td>\n",
       "    </tr>\n",
       "    <tr>\n",
       "      <th>...</th>\n",
       "      <td>...</td>\n",
       "      <td>...</td>\n",
       "      <td>...</td>\n",
       "      <td>...</td>\n",
       "      <td>...</td>\n",
       "      <td>...</td>\n",
       "      <td>...</td>\n",
       "      <td>...</td>\n",
       "      <td>...</td>\n",
       "      <td>...</td>\n",
       "      <td>...</td>\n",
       "      <td>...</td>\n",
       "      <td>...</td>\n",
       "      <td>...</td>\n",
       "      <td>...</td>\n",
       "      <td>...</td>\n",
       "      <td>...</td>\n",
       "      <td>...</td>\n",
       "      <td>...</td>\n",
       "      <td>...</td>\n",
       "      <td>...</td>\n",
       "    </tr>\n",
       "    <tr>\n",
       "      <th>7869</th>\n",
       "      <td>9.949874</td>\n",
       "      <td>10.246951</td>\n",
       "      <td>9.899495</td>\n",
       "      <td>10.049876</td>\n",
       "      <td>10.049876</td>\n",
       "      <td>10.198039</td>\n",
       "      <td>10.099505</td>\n",
       "      <td>10.630146</td>\n",
       "      <td>10.344080</td>\n",
       "      <td>10.246951</td>\n",
       "      <td>...</td>\n",
       "      <td>10.723805</td>\n",
       "      <td>11.532563</td>\n",
       "      <td>11.000000</td>\n",
       "      <td>10.583005</td>\n",
       "      <td>10.488088</td>\n",
       "      <td>10.770330</td>\n",
       "      <td>11.269428</td>\n",
       "      <td>10.723805</td>\n",
       "      <td>10.583005</td>\n",
       "      <td>10.344080</td>\n",
       "    </tr>\n",
       "    <tr>\n",
       "      <th>7870</th>\n",
       "      <td>10.583005</td>\n",
       "      <td>10.583005</td>\n",
       "      <td>10.295630</td>\n",
       "      <td>10.770330</td>\n",
       "      <td>10.583005</td>\n",
       "      <td>10.630146</td>\n",
       "      <td>10.630146</td>\n",
       "      <td>10.677078</td>\n",
       "      <td>10.770330</td>\n",
       "      <td>10.770330</td>\n",
       "      <td>...</td>\n",
       "      <td>11.313708</td>\n",
       "      <td>12.041595</td>\n",
       "      <td>11.357817</td>\n",
       "      <td>10.816654</td>\n",
       "      <td>11.045361</td>\n",
       "      <td>10.816654</td>\n",
       "      <td>11.489125</td>\n",
       "      <td>10.954451</td>\n",
       "      <td>11.357817</td>\n",
       "      <td>10.677078</td>\n",
       "    </tr>\n",
       "    <tr>\n",
       "      <th>7871</th>\n",
       "      <td>11.135529</td>\n",
       "      <td>11.135529</td>\n",
       "      <td>10.954451</td>\n",
       "      <td>11.313708</td>\n",
       "      <td>11.135529</td>\n",
       "      <td>11.357817</td>\n",
       "      <td>11.000000</td>\n",
       "      <td>11.532563</td>\n",
       "      <td>11.401754</td>\n",
       "      <td>11.224972</td>\n",
       "      <td>...</td>\n",
       "      <td>11.747340</td>\n",
       "      <td>12.124356</td>\n",
       "      <td>11.618950</td>\n",
       "      <td>11.090537</td>\n",
       "      <td>11.135529</td>\n",
       "      <td>11.575837</td>\n",
       "      <td>12.041595</td>\n",
       "      <td>11.045361</td>\n",
       "      <td>11.532563</td>\n",
       "      <td>10.770330</td>\n",
       "    </tr>\n",
       "    <tr>\n",
       "      <th>7872</th>\n",
       "      <td>11.313708</td>\n",
       "      <td>11.313708</td>\n",
       "      <td>11.224972</td>\n",
       "      <td>11.313708</td>\n",
       "      <td>11.313708</td>\n",
       "      <td>11.445523</td>\n",
       "      <td>11.357817</td>\n",
       "      <td>11.532563</td>\n",
       "      <td>11.575837</td>\n",
       "      <td>11.401754</td>\n",
       "      <td>...</td>\n",
       "      <td>11.832160</td>\n",
       "      <td>12.609520</td>\n",
       "      <td>11.704700</td>\n",
       "      <td>11.269428</td>\n",
       "      <td>11.224972</td>\n",
       "      <td>11.661904</td>\n",
       "      <td>12.124356</td>\n",
       "      <td>11.224972</td>\n",
       "      <td>11.789826</td>\n",
       "      <td>10.862780</td>\n",
       "    </tr>\n",
       "    <tr>\n",
       "      <th>7873</th>\n",
       "      <td>11.575837</td>\n",
       "      <td>11.661904</td>\n",
       "      <td>11.575837</td>\n",
       "      <td>11.832160</td>\n",
       "      <td>11.489125</td>\n",
       "      <td>11.874342</td>\n",
       "      <td>11.532563</td>\n",
       "      <td>12.206556</td>\n",
       "      <td>11.575837</td>\n",
       "      <td>11.916375</td>\n",
       "      <td>...</td>\n",
       "      <td>12.083046</td>\n",
       "      <td>13.076697</td>\n",
       "      <td>12.369317</td>\n",
       "      <td>12.041595</td>\n",
       "      <td>11.916375</td>\n",
       "      <td>12.083046</td>\n",
       "      <td>12.845233</td>\n",
       "      <td>12.000000</td>\n",
       "      <td>12.288206</td>\n",
       "      <td>11.747340</td>\n",
       "    </tr>\n",
       "  </tbody>\n",
       "</table>\n",
       "<p>7874 rows × 1969 columns</p>\n",
       "</div>"
      ],
      "text/plain": [
       "           0          1          2          3          4          5     \\\n",
       "0      2.000000   3.872983   2.000000   1.414214   2.236068   2.000000   \n",
       "1      2.000000   4.000000   2.645751   1.732051   2.828427   2.000000   \n",
       "2      2.000000   4.000000   2.828427   1.732051   2.828427   2.236068   \n",
       "3      2.000000   4.123106   3.000000   2.000000   3.000000   2.236068   \n",
       "4      2.000000   4.123106   3.000000   2.000000   3.000000   2.236068   \n",
       "...         ...        ...        ...        ...        ...        ...   \n",
       "7869   9.949874  10.246951   9.899495  10.049876  10.049876  10.198039   \n",
       "7870  10.583005  10.583005  10.295630  10.770330  10.583005  10.630146   \n",
       "7871  11.135529  11.135529  10.954451  11.313708  11.135529  11.357817   \n",
       "7872  11.313708  11.313708  11.224972  11.313708  11.313708  11.445523   \n",
       "7873  11.575837  11.661904  11.575837  11.832160  11.489125  11.874342   \n",
       "\n",
       "           6          7          8          9     ...       1959       1960  \\\n",
       "0      2.236068   3.605551   3.162278   3.316625  ...   4.242641   7.937254   \n",
       "1      2.828427   3.741657   3.741657   3.464102  ...   4.582576   8.000000   \n",
       "2      2.828427   4.000000   4.123106   3.464102  ...   4.582576   8.124038   \n",
       "3      3.162278   4.000000   4.123106   3.605551  ...   4.582576   8.246211   \n",
       "4      3.162278   4.000000   4.123106   3.741657  ...   4.582576   8.246211   \n",
       "...         ...        ...        ...        ...  ...        ...        ...   \n",
       "7869  10.099505  10.630146  10.344080  10.246951  ...  10.723805  11.532563   \n",
       "7870  10.630146  10.677078  10.770330  10.770330  ...  11.313708  12.041595   \n",
       "7871  11.000000  11.532563  11.401754  11.224972  ...  11.747340  12.124356   \n",
       "7872  11.357817  11.532563  11.575837  11.401754  ...  11.832160  12.609520   \n",
       "7873  11.532563  12.206556  11.575837  11.916375  ...  12.083046  13.076697   \n",
       "\n",
       "           1961       1962       1963       1964       1965       1966  \\\n",
       "0      3.741657   3.000000   3.162278   4.242641   4.472136   2.645751   \n",
       "1      5.196152   3.162278   3.741657   4.898979   5.196152   3.741657   \n",
       "2      5.291503   3.605551   3.872983   4.898979   6.557439   4.000000   \n",
       "3      5.291503   3.741657   4.000000   5.000000   6.633250   4.123106   \n",
       "4      5.385165   3.872983   4.123106   5.000000   6.708204   4.123106   \n",
       "...         ...        ...        ...        ...        ...        ...   \n",
       "7869  11.000000  10.583005  10.488088  10.770330  11.269428  10.723805   \n",
       "7870  11.357817  10.816654  11.045361  10.816654  11.489125  10.954451   \n",
       "7871  11.618950  11.090537  11.135529  11.575837  12.041595  11.045361   \n",
       "7872  11.704700  11.269428  11.224972  11.661904  12.124356  11.224972   \n",
       "7873  12.369317  12.041595  11.916375  12.083046  12.845233  12.000000   \n",
       "\n",
       "           1967       1968  \n",
       "0      5.291503   2.645751  \n",
       "1      5.477226   3.162278  \n",
       "2      5.477226   3.316625  \n",
       "3      5.567764   3.316625  \n",
       "4      5.567764   3.464102  \n",
       "...         ...        ...  \n",
       "7869  10.583005  10.344080  \n",
       "7870  11.357817  10.677078  \n",
       "7871  11.532563  10.770330  \n",
       "7872  11.789826  10.862780  \n",
       "7873  12.288206  11.747340  \n",
       "\n",
       "[7874 rows x 1969 columns]"
      ]
     },
     "execution_count": 34,
     "metadata": {},
     "output_type": "execute_result"
    }
   ],
   "source": [
    "x_ts_AD=pd.DataFrame(neighbors_k_ts)\n",
    "x_ts_AD"
   ]
  },
  {
   "cell_type": "code",
   "execution_count": 35,
   "metadata": {},
   "outputs": [
    {
     "name": "stdout",
     "output_type": "stream",
     "text": [
      "[2.    3.873 2.    ... 2.646 5.292 2.646]\n"
     ]
    }
   ],
   "source": [
    "similarity_ts= neighbors_k_ts\n",
    "cpd_AD=similarity_ts[0,:]\n",
    "cpd_value = np.round(cpd_AD, 3)\n",
    "print(cpd_value)"
   ]
  },
  {
   "cell_type": "code",
   "execution_count": 36,
   "metadata": {},
   "outputs": [
    {
     "name": "stdout",
     "output_type": "stream",
     "text": [
      "[ True  True  True ...  True False  True]\n"
     ]
    }
   ],
   "source": [
    "cpd_AD = np.where(cpd_value <= model_AD_limit, True, False)\n",
    "print(cpd_AD)"
   ]
  },
  {
   "cell_type": "code",
   "execution_count": 37,
   "metadata": {},
   "outputs": [
    {
     "name": "stdout",
     "output_type": "stream",
     "text": [
      "Coverage =  0.71\n"
     ]
    }
   ],
   "source": [
    "print(\"Coverage = \", round(sum(cpd_AD) / len(cpd_AD), 2))"
   ]
  },
  {
   "cell_type": "code",
   "execution_count": 38,
   "metadata": {},
   "outputs": [
    {
     "name": "stdout",
     "output_type": "stream",
     "text": [
      "Indices of substances included in AD =  [   0    1    2 ... 1963 1966 1968]\n"
     ]
    }
   ],
   "source": [
    "print(\"Indices of substances included in AD = \", np.where(cpd_AD != 0)[0])"
   ]
  },
  {
   "cell_type": "code",
   "execution_count": 39,
   "metadata": {},
   "outputs": [],
   "source": [
    "out_Ad=list(np.where(cpd_AD == 0)[0])"
   ]
  },
  {
   "cell_type": "markdown",
   "metadata": {},
   "source": [
    "# Prediction only for molecules included in  AD"
   ]
  },
  {
   "cell_type": "code",
   "execution_count": 45,
   "metadata": {},
   "outputs": [],
   "source": [
    "y_pred_MLPR_ad=list(y_pred_MLPR)"
   ]
  },
  {
   "cell_type": "code",
   "execution_count": 46,
   "metadata": {},
   "outputs": [],
   "source": [
    "y_pred_MLPR_ad[:] = [x for i,x in enumerate(y_pred_MLPR_ad) if i not in out_Ad]"
   ]
  },
  {
   "cell_type": "code",
   "execution_count": 47,
   "metadata": {},
   "outputs": [
    {
     "data": {
      "text/plain": [
       "1400"
      ]
     },
     "execution_count": 47,
     "metadata": {},
     "output_type": "execute_result"
    }
   ],
   "source": [
    "len(y_pred_MLPR_ad)"
   ]
  },
  {
   "cell_type": "code",
   "execution_count": 48,
   "metadata": {},
   "outputs": [],
   "source": [
    "y_ts_ad=list(y_ts)"
   ]
  },
  {
   "cell_type": "code",
   "execution_count": 49,
   "metadata": {},
   "outputs": [],
   "source": [
    "y_ts_ad[:] = [x for i,x in enumerate(y_ts_ad) if i not in out_Ad]"
   ]
  },
  {
   "cell_type": "code",
   "execution_count": 50,
   "metadata": {},
   "outputs": [
    {
     "data": {
      "text/plain": [
       "1400"
      ]
     },
     "execution_count": 50,
     "metadata": {},
     "output_type": "execute_result"
    }
   ],
   "source": [
    "len(y_ts_ad)"
   ]
  },
  {
   "cell_type": "code",
   "execution_count": 51,
   "metadata": {},
   "outputs": [
    {
     "data": {
      "text/plain": [
       "0.58"
      ]
     },
     "execution_count": 51,
     "metadata": {},
     "output_type": "execute_result"
    }
   ],
   "source": [
    "Q2_TS = round(r2_score(y_ts_ad, y_pred_MLPR_ad), 2)\n",
    "Q2_TS"
   ]
  },
  {
   "cell_type": "code",
   "execution_count": 52,
   "metadata": {
    "scrolled": true
   },
   "outputs": [
    {
     "data": {
      "text/plain": [
       "0.6"
      ]
     },
     "execution_count": 52,
     "metadata": {},
     "output_type": "execute_result"
    }
   ],
   "source": [
    "RMSE_TS=round(np.sqrt(mean_squared_error(y_ts_ad, y_pred_MLPR_ad)), 2)\n",
    "RMSE_TS"
   ]
  },
  {
   "cell_type": "code",
   "execution_count": 53,
   "metadata": {},
   "outputs": [],
   "source": [
    "from sklearn.neighbors import KNeighborsRegressor"
   ]
  },
  {
   "cell_type": "markdown",
   "metadata": {},
   "source": [
    "# k-nearest neighbors"
   ]
  },
  {
   "cell_type": "code",
   "execution_count": 57,
   "metadata": {},
   "outputs": [],
   "source": [
    "k_range = list(range(1, 31))\n",
    "param_grid = dict(n_neighbors=k_range)"
   ]
  },
  {
   "cell_type": "code",
   "execution_count": 58,
   "metadata": {},
   "outputs": [],
   "source": [
    "m = GridSearchCV(KNeighborsRegressor(), param_grid, n_jobs=-1, cv=cv, verbose=1)"
   ]
  },
  {
   "cell_type": "code",
   "execution_count": 59,
   "metadata": {},
   "outputs": [
    {
     "name": "stdout",
     "output_type": "stream",
     "text": [
      "Fitting 5 folds for each of 30 candidates, totalling 150 fits\n"
     ]
    },
    {
     "data": {
      "text/html": [
       "<style>#sk-container-id-1 {color: black;}#sk-container-id-1 pre{padding: 0;}#sk-container-id-1 div.sk-toggleable {background-color: white;}#sk-container-id-1 label.sk-toggleable__label {cursor: pointer;display: block;width: 100%;margin-bottom: 0;padding: 0.3em;box-sizing: border-box;text-align: center;}#sk-container-id-1 label.sk-toggleable__label-arrow:before {content: \"▸\";float: left;margin-right: 0.25em;color: #696969;}#sk-container-id-1 label.sk-toggleable__label-arrow:hover:before {color: black;}#sk-container-id-1 div.sk-estimator:hover label.sk-toggleable__label-arrow:before {color: black;}#sk-container-id-1 div.sk-toggleable__content {max-height: 0;max-width: 0;overflow: hidden;text-align: left;background-color: #f0f8ff;}#sk-container-id-1 div.sk-toggleable__content pre {margin: 0.2em;color: black;border-radius: 0.25em;background-color: #f0f8ff;}#sk-container-id-1 input.sk-toggleable__control:checked~div.sk-toggleable__content {max-height: 200px;max-width: 100%;overflow: auto;}#sk-container-id-1 input.sk-toggleable__control:checked~label.sk-toggleable__label-arrow:before {content: \"▾\";}#sk-container-id-1 div.sk-estimator input.sk-toggleable__control:checked~label.sk-toggleable__label {background-color: #d4ebff;}#sk-container-id-1 div.sk-label input.sk-toggleable__control:checked~label.sk-toggleable__label {background-color: #d4ebff;}#sk-container-id-1 input.sk-hidden--visually {border: 0;clip: rect(1px 1px 1px 1px);clip: rect(1px, 1px, 1px, 1px);height: 1px;margin: -1px;overflow: hidden;padding: 0;position: absolute;width: 1px;}#sk-container-id-1 div.sk-estimator {font-family: monospace;background-color: #f0f8ff;border: 1px dotted black;border-radius: 0.25em;box-sizing: border-box;margin-bottom: 0.5em;}#sk-container-id-1 div.sk-estimator:hover {background-color: #d4ebff;}#sk-container-id-1 div.sk-parallel-item::after {content: \"\";width: 100%;border-bottom: 1px solid gray;flex-grow: 1;}#sk-container-id-1 div.sk-label:hover label.sk-toggleable__label {background-color: #d4ebff;}#sk-container-id-1 div.sk-serial::before {content: \"\";position: absolute;border-left: 1px solid gray;box-sizing: border-box;top: 0;bottom: 0;left: 50%;z-index: 0;}#sk-container-id-1 div.sk-serial {display: flex;flex-direction: column;align-items: center;background-color: white;padding-right: 0.2em;padding-left: 0.2em;position: relative;}#sk-container-id-1 div.sk-item {position: relative;z-index: 1;}#sk-container-id-1 div.sk-parallel {display: flex;align-items: stretch;justify-content: center;background-color: white;position: relative;}#sk-container-id-1 div.sk-item::before, #sk-container-id-1 div.sk-parallel-item::before {content: \"\";position: absolute;border-left: 1px solid gray;box-sizing: border-box;top: 0;bottom: 0;left: 50%;z-index: -1;}#sk-container-id-1 div.sk-parallel-item {display: flex;flex-direction: column;z-index: 1;position: relative;background-color: white;}#sk-container-id-1 div.sk-parallel-item:first-child::after {align-self: flex-end;width: 50%;}#sk-container-id-1 div.sk-parallel-item:last-child::after {align-self: flex-start;width: 50%;}#sk-container-id-1 div.sk-parallel-item:only-child::after {width: 0;}#sk-container-id-1 div.sk-dashed-wrapped {border: 1px dashed gray;margin: 0 0.4em 0.5em 0.4em;box-sizing: border-box;padding-bottom: 0.4em;background-color: white;}#sk-container-id-1 div.sk-label label {font-family: monospace;font-weight: bold;display: inline-block;line-height: 1.2em;}#sk-container-id-1 div.sk-label-container {text-align: center;}#sk-container-id-1 div.sk-container {/* jupyter's `normalize.less` sets `[hidden] { display: none; }` but bootstrap.min.css set `[hidden] { display: none !important; }` so we also need the `!important` here to be able to override the default hidden behavior on the sphinx rendered scikit-learn.org. See: https://github.com/scikit-learn/scikit-learn/issues/21755 */display: inline-block !important;position: relative;}#sk-container-id-1 div.sk-text-repr-fallback {display: none;}</style><div id=\"sk-container-id-1\" class=\"sk-top-container\"><div class=\"sk-text-repr-fallback\"><pre>GridSearchCV(cv=KFold(n_splits=5, random_state=42, shuffle=True),\n",
       "             estimator=KNeighborsRegressor(), n_jobs=-1,\n",
       "             param_grid={&#x27;n_neighbors&#x27;: [1, 2, 3, 4, 5, 6, 7, 8, 9, 10, 11, 12,\n",
       "                                         13, 14, 15, 16, 17, 18, 19, 20, 21, 22,\n",
       "                                         23, 24, 25, 26, 27, 28, 29, 30]},\n",
       "             verbose=1)</pre><b>In a Jupyter environment, please rerun this cell to show the HTML representation or trust the notebook. <br />On GitHub, the HTML representation is unable to render, please try loading this page with nbviewer.org.</b></div><div class=\"sk-container\" hidden><div class=\"sk-item sk-dashed-wrapped\"><div class=\"sk-label-container\"><div class=\"sk-label sk-toggleable\"><input class=\"sk-toggleable__control sk-hidden--visually\" id=\"sk-estimator-id-1\" type=\"checkbox\" ><label for=\"sk-estimator-id-1\" class=\"sk-toggleable__label sk-toggleable__label-arrow\">GridSearchCV</label><div class=\"sk-toggleable__content\"><pre>GridSearchCV(cv=KFold(n_splits=5, random_state=42, shuffle=True),\n",
       "             estimator=KNeighborsRegressor(), n_jobs=-1,\n",
       "             param_grid={&#x27;n_neighbors&#x27;: [1, 2, 3, 4, 5, 6, 7, 8, 9, 10, 11, 12,\n",
       "                                         13, 14, 15, 16, 17, 18, 19, 20, 21, 22,\n",
       "                                         23, 24, 25, 26, 27, 28, 29, 30]},\n",
       "             verbose=1)</pre></div></div></div><div class=\"sk-parallel\"><div class=\"sk-parallel-item\"><div class=\"sk-item\"><div class=\"sk-label-container\"><div class=\"sk-label sk-toggleable\"><input class=\"sk-toggleable__control sk-hidden--visually\" id=\"sk-estimator-id-2\" type=\"checkbox\" ><label for=\"sk-estimator-id-2\" class=\"sk-toggleable__label sk-toggleable__label-arrow\">estimator: KNeighborsRegressor</label><div class=\"sk-toggleable__content\"><pre>KNeighborsRegressor()</pre></div></div></div><div class=\"sk-serial\"><div class=\"sk-item\"><div class=\"sk-estimator sk-toggleable\"><input class=\"sk-toggleable__control sk-hidden--visually\" id=\"sk-estimator-id-3\" type=\"checkbox\" ><label for=\"sk-estimator-id-3\" class=\"sk-toggleable__label sk-toggleable__label-arrow\">KNeighborsRegressor</label><div class=\"sk-toggleable__content\"><pre>KNeighborsRegressor()</pre></div></div></div></div></div></div></div></div></div></div>"
      ],
      "text/plain": [
       "GridSearchCV(cv=KFold(n_splits=5, random_state=42, shuffle=True),\n",
       "             estimator=KNeighborsRegressor(), n_jobs=-1,\n",
       "             param_grid={'n_neighbors': [1, 2, 3, 4, 5, 6, 7, 8, 9, 10, 11, 12,\n",
       "                                         13, 14, 15, 16, 17, 18, 19, 20, 21, 22,\n",
       "                                         23, 24, 25, 26, 27, 28, 29, 30]},\n",
       "             verbose=1)"
      ]
     },
     "execution_count": 59,
     "metadata": {},
     "output_type": "execute_result"
    }
   ],
   "source": [
    "m.fit(x_tr, y_tr)"
   ]
  },
  {
   "cell_type": "code",
   "execution_count": 60,
   "metadata": {},
   "outputs": [],
   "source": [
    "best_kNN = m.best_estimator_"
   ]
  },
  {
   "cell_type": "code",
   "execution_count": 61,
   "metadata": {},
   "outputs": [
    {
     "data": {
      "text/plain": [
       "{'n_neighbors': 4}"
      ]
     },
     "execution_count": 61,
     "metadata": {},
     "output_type": "execute_result"
    }
   ],
   "source": [
    "m.best_params_"
   ]
  },
  {
   "cell_type": "code",
   "execution_count": 62,
   "metadata": {},
   "outputs": [],
   "source": [
    "y_pred_ws_kNN = best_kNN.predict(x_tr)"
   ]
  },
  {
   "cell_type": "code",
   "execution_count": 63,
   "metadata": {},
   "outputs": [
    {
     "data": {
      "text/plain": [
       "0.64"
      ]
     },
     "execution_count": 63,
     "metadata": {},
     "output_type": "execute_result"
    }
   ],
   "source": [
    "R2_WS = round(r2_score(y_tr, y_pred_ws_kNN), 2)\n",
    "R2_WS"
   ]
  },
  {
   "cell_type": "code",
   "execution_count": 64,
   "metadata": {},
   "outputs": [
    {
     "data": {
      "text/plain": [
       "0.54"
      ]
     },
     "execution_count": 64,
     "metadata": {},
     "output_type": "execute_result"
    }
   ],
   "source": [
    "RMSE_WS=round(np.sqrt(mean_squared_error(y_tr, y_pred_ws_kNN)), 2)\n",
    "RMSE_WS"
   ]
  },
  {
   "cell_type": "code",
   "execution_count": 65,
   "metadata": {},
   "outputs": [],
   "source": [
    "y_pred_CV_kNN = cross_val_predict(best_kNN, x_tr, y_tr, cv=cv)"
   ]
  },
  {
   "cell_type": "code",
   "execution_count": 66,
   "metadata": {},
   "outputs": [
    {
     "data": {
      "text/plain": [
       "array([1.2894456, 1.9886162, 1.3313696, ..., 3.5675204, 1.875115 ,\n",
       "       1.5182617], dtype=float32)"
      ]
     },
     "execution_count": 66,
     "metadata": {},
     "output_type": "execute_result"
    }
   ],
   "source": [
    "y_pred_CV_kNN"
   ]
  },
  {
   "cell_type": "code",
   "execution_count": 97,
   "metadata": {},
   "outputs": [
    {
     "data": {
      "text/plain": [
       "0.33"
      ]
     },
     "execution_count": 97,
     "metadata": {},
     "output_type": "execute_result"
    }
   ],
   "source": [
    "Q2_CV = round(r2_score(y_tr, y_pred_CV_kNN), 2)\n",
    "Q2_CV"
   ]
  },
  {
   "cell_type": "code",
   "execution_count": 68,
   "metadata": {},
   "outputs": [
    {
     "data": {
      "text/plain": [
       "0.73"
      ]
     },
     "execution_count": 68,
     "metadata": {},
     "output_type": "execute_result"
    }
   ],
   "source": [
    "RMSE_CV=round(np.sqrt(mean_squared_error(y_tr, y_pred_CV_kNN)), 2)\n",
    "RMSE_CV"
   ]
  },
  {
   "cell_type": "markdown",
   "metadata": {},
   "source": [
    "# 9. Prediction for test set's molecules"
   ]
  },
  {
   "cell_type": "code",
   "execution_count": 69,
   "metadata": {},
   "outputs": [],
   "source": [
    "x_ts = np.array(x_ts, dtype=np.float32)\n",
    "y_ts = np.array(y_ts, dtype=np.float32)"
   ]
  },
  {
   "cell_type": "code",
   "execution_count": 70,
   "metadata": {},
   "outputs": [],
   "source": [
    "y_pred_kNN = best_kNN.predict(x_ts)"
   ]
  },
  {
   "cell_type": "code",
   "execution_count": 71,
   "metadata": {},
   "outputs": [
    {
     "data": {
      "text/plain": [
       "0.34"
      ]
     },
     "execution_count": 71,
     "metadata": {},
     "output_type": "execute_result"
    }
   ],
   "source": [
    "Q2_TS = round(r2_score(y_ts, y_pred_kNN), 2)\n",
    "Q2_TS"
   ]
  },
  {
   "cell_type": "code",
   "execution_count": 72,
   "metadata": {},
   "outputs": [
    {
     "data": {
      "text/plain": [
       "0.73"
      ]
     },
     "execution_count": 72,
     "metadata": {},
     "output_type": "execute_result"
    }
   ],
   "source": [
    "RMSE_TS=round(np.sqrt(mean_squared_error(y_ts, y_pred_kNN)), 2)\n",
    "RMSE_TS"
   ]
  },
  {
   "cell_type": "markdown",
   "metadata": {},
   "source": [
    "# save the model to disk"
   ]
  },
  {
   "cell_type": "code",
   "execution_count": 73,
   "metadata": {},
   "outputs": [],
   "source": [
    "pickle.dump(best_kNN, open('models/MorganFingerprint/Toxicity_kNN_MF.pkl', 'wb'))"
   ]
  },
  {
   "cell_type": "markdown",
   "metadata": {},
   "source": [
    "# load the model from disk"
   ]
  },
  {
   "cell_type": "code",
   "execution_count": 164,
   "metadata": {},
   "outputs": [],
   "source": [
    "best_kNN = pickle.load(open('models/MorganFingerprint/Toxicity_kNN_MF.pkl', 'rb'))"
   ]
  },
  {
   "cell_type": "markdown",
   "metadata": {},
   "source": [
    "#  Estimating applicability domain. Method - Euclidian distances, K=1"
   ]
  },
  {
   "cell_type": "code",
   "execution_count": 98,
   "metadata": {},
   "outputs": [],
   "source": [
    "neighbors_k= pairwise_distances(x_tr, n_jobs=-1)\n",
    "neighbors_k.sort(0)"
   ]
  },
  {
   "cell_type": "code",
   "execution_count": 99,
   "metadata": {},
   "outputs": [
    {
     "data": {
      "text/html": [
       "<div>\n",
       "<style scoped>\n",
       "    .dataframe tbody tr th:only-of-type {\n",
       "        vertical-align: middle;\n",
       "    }\n",
       "\n",
       "    .dataframe tbody tr th {\n",
       "        vertical-align: top;\n",
       "    }\n",
       "\n",
       "    .dataframe thead th {\n",
       "        text-align: right;\n",
       "    }\n",
       "</style>\n",
       "<table border=\"1\" class=\"dataframe\">\n",
       "  <thead>\n",
       "    <tr style=\"text-align: right;\">\n",
       "      <th></th>\n",
       "      <th>0</th>\n",
       "      <th>1</th>\n",
       "      <th>2</th>\n",
       "      <th>3</th>\n",
       "      <th>4</th>\n",
       "      <th>5</th>\n",
       "      <th>6</th>\n",
       "      <th>7</th>\n",
       "      <th>8</th>\n",
       "      <th>9</th>\n",
       "      <th>...</th>\n",
       "      <th>7864</th>\n",
       "      <th>7865</th>\n",
       "      <th>7866</th>\n",
       "      <th>7867</th>\n",
       "      <th>7868</th>\n",
       "      <th>7869</th>\n",
       "      <th>7870</th>\n",
       "      <th>7871</th>\n",
       "      <th>7872</th>\n",
       "      <th>7873</th>\n",
       "    </tr>\n",
       "  </thead>\n",
       "  <tbody>\n",
       "    <tr>\n",
       "      <th>0</th>\n",
       "      <td>0.000000</td>\n",
       "      <td>0.000000</td>\n",
       "      <td>0.000000</td>\n",
       "      <td>0.000000</td>\n",
       "      <td>0.000000</td>\n",
       "      <td>0.000000</td>\n",
       "      <td>0.000000</td>\n",
       "      <td>0.000000</td>\n",
       "      <td>0.000000</td>\n",
       "      <td>0.000000</td>\n",
       "      <td>...</td>\n",
       "      <td>0.000000</td>\n",
       "      <td>0.000000</td>\n",
       "      <td>0.000000</td>\n",
       "      <td>0.000000</td>\n",
       "      <td>0.000000</td>\n",
       "      <td>0.000000</td>\n",
       "      <td>0.000000</td>\n",
       "      <td>0.000000</td>\n",
       "      <td>0.000000</td>\n",
       "      <td>0.000000</td>\n",
       "    </tr>\n",
       "    <tr>\n",
       "      <th>1</th>\n",
       "      <td>3.464102</td>\n",
       "      <td>4.690416</td>\n",
       "      <td>2.236068</td>\n",
       "      <td>3.741657</td>\n",
       "      <td>2.236068</td>\n",
       "      <td>3.464102</td>\n",
       "      <td>3.316625</td>\n",
       "      <td>6.000000</td>\n",
       "      <td>0.000000</td>\n",
       "      <td>2.000000</td>\n",
       "      <td>...</td>\n",
       "      <td>3.316625</td>\n",
       "      <td>4.123106</td>\n",
       "      <td>4.690416</td>\n",
       "      <td>4.795832</td>\n",
       "      <td>2.645751</td>\n",
       "      <td>3.605551</td>\n",
       "      <td>6.557438</td>\n",
       "      <td>3.316625</td>\n",
       "      <td>5.567764</td>\n",
       "      <td>7.071068</td>\n",
       "    </tr>\n",
       "    <tr>\n",
       "      <th>2</th>\n",
       "      <td>4.000000</td>\n",
       "      <td>4.795832</td>\n",
       "      <td>2.236068</td>\n",
       "      <td>3.872983</td>\n",
       "      <td>2.449490</td>\n",
       "      <td>3.464102</td>\n",
       "      <td>3.605551</td>\n",
       "      <td>6.082763</td>\n",
       "      <td>0.000000</td>\n",
       "      <td>2.449490</td>\n",
       "      <td>...</td>\n",
       "      <td>3.464102</td>\n",
       "      <td>4.582576</td>\n",
       "      <td>6.164414</td>\n",
       "      <td>5.099020</td>\n",
       "      <td>5.099020</td>\n",
       "      <td>3.741657</td>\n",
       "      <td>6.557438</td>\n",
       "      <td>4.242640</td>\n",
       "      <td>6.244998</td>\n",
       "      <td>7.280110</td>\n",
       "    </tr>\n",
       "    <tr>\n",
       "      <th>3</th>\n",
       "      <td>4.000000</td>\n",
       "      <td>5.000000</td>\n",
       "      <td>2.449490</td>\n",
       "      <td>3.872983</td>\n",
       "      <td>2.449490</td>\n",
       "      <td>3.464102</td>\n",
       "      <td>3.741657</td>\n",
       "      <td>6.082763</td>\n",
       "      <td>0.000000</td>\n",
       "      <td>2.449490</td>\n",
       "      <td>...</td>\n",
       "      <td>4.000000</td>\n",
       "      <td>4.582576</td>\n",
       "      <td>6.244998</td>\n",
       "      <td>6.164414</td>\n",
       "      <td>5.099020</td>\n",
       "      <td>3.741657</td>\n",
       "      <td>6.633250</td>\n",
       "      <td>5.196152</td>\n",
       "      <td>6.244998</td>\n",
       "      <td>7.280110</td>\n",
       "    </tr>\n",
       "    <tr>\n",
       "      <th>4</th>\n",
       "      <td>4.123106</td>\n",
       "      <td>5.099020</td>\n",
       "      <td>2.449490</td>\n",
       "      <td>4.000000</td>\n",
       "      <td>2.449490</td>\n",
       "      <td>3.605551</td>\n",
       "      <td>3.741657</td>\n",
       "      <td>6.082763</td>\n",
       "      <td>2.449490</td>\n",
       "      <td>2.449490</td>\n",
       "      <td>...</td>\n",
       "      <td>4.242640</td>\n",
       "      <td>4.690416</td>\n",
       "      <td>6.244998</td>\n",
       "      <td>7.211102</td>\n",
       "      <td>6.244998</td>\n",
       "      <td>3.872983</td>\n",
       "      <td>6.633250</td>\n",
       "      <td>5.477226</td>\n",
       "      <td>6.324555</td>\n",
       "      <td>7.348469</td>\n",
       "    </tr>\n",
       "    <tr>\n",
       "      <th>...</th>\n",
       "      <td>...</td>\n",
       "      <td>...</td>\n",
       "      <td>...</td>\n",
       "      <td>...</td>\n",
       "      <td>...</td>\n",
       "      <td>...</td>\n",
       "      <td>...</td>\n",
       "      <td>...</td>\n",
       "      <td>...</td>\n",
       "      <td>...</td>\n",
       "      <td>...</td>\n",
       "      <td>...</td>\n",
       "      <td>...</td>\n",
       "      <td>...</td>\n",
       "      <td>...</td>\n",
       "      <td>...</td>\n",
       "      <td>...</td>\n",
       "      <td>...</td>\n",
       "      <td>...</td>\n",
       "      <td>...</td>\n",
       "      <td>...</td>\n",
       "    </tr>\n",
       "    <tr>\n",
       "      <th>7869</th>\n",
       "      <td>10.488089</td>\n",
       "      <td>10.488089</td>\n",
       "      <td>10.148891</td>\n",
       "      <td>10.392304</td>\n",
       "      <td>9.899495</td>\n",
       "      <td>10.099504</td>\n",
       "      <td>10.099504</td>\n",
       "      <td>10.440307</td>\n",
       "      <td>10.344080</td>\n",
       "      <td>10.392304</td>\n",
       "      <td>...</td>\n",
       "      <td>10.723805</td>\n",
       "      <td>10.440307</td>\n",
       "      <td>10.440307</td>\n",
       "      <td>11.532562</td>\n",
       "      <td>11.357817</td>\n",
       "      <td>10.295630</td>\n",
       "      <td>11.045361</td>\n",
       "      <td>11.357817</td>\n",
       "      <td>11.357817</td>\n",
       "      <td>11.000000</td>\n",
       "    </tr>\n",
       "    <tr>\n",
       "      <th>7870</th>\n",
       "      <td>10.630146</td>\n",
       "      <td>10.630146</td>\n",
       "      <td>10.583005</td>\n",
       "      <td>10.723805</td>\n",
       "      <td>10.246951</td>\n",
       "      <td>10.344080</td>\n",
       "      <td>10.677078</td>\n",
       "      <td>10.677078</td>\n",
       "      <td>10.677078</td>\n",
       "      <td>10.816654</td>\n",
       "      <td>...</td>\n",
       "      <td>11.224972</td>\n",
       "      <td>11.224972</td>\n",
       "      <td>11.224972</td>\n",
       "      <td>11.916375</td>\n",
       "      <td>11.661903</td>\n",
       "      <td>10.770329</td>\n",
       "      <td>11.090536</td>\n",
       "      <td>11.832160</td>\n",
       "      <td>11.489125</td>\n",
       "      <td>11.489125</td>\n",
       "    </tr>\n",
       "    <tr>\n",
       "      <th>7871</th>\n",
       "      <td>11.180340</td>\n",
       "      <td>11.045361</td>\n",
       "      <td>11.224972</td>\n",
       "      <td>11.445523</td>\n",
       "      <td>10.908712</td>\n",
       "      <td>11.090536</td>\n",
       "      <td>10.862781</td>\n",
       "      <td>11.224972</td>\n",
       "      <td>11.313708</td>\n",
       "      <td>11.357817</td>\n",
       "      <td>...</td>\n",
       "      <td>11.747340</td>\n",
       "      <td>11.661903</td>\n",
       "      <td>11.401754</td>\n",
       "      <td>12.206555</td>\n",
       "      <td>11.958261</td>\n",
       "      <td>10.954452</td>\n",
       "      <td>11.618950</td>\n",
       "      <td>12.247449</td>\n",
       "      <td>11.832160</td>\n",
       "      <td>12.083046</td>\n",
       "    </tr>\n",
       "    <tr>\n",
       "      <th>7872</th>\n",
       "      <td>11.269427</td>\n",
       "      <td>11.401754</td>\n",
       "      <td>11.401754</td>\n",
       "      <td>11.618950</td>\n",
       "      <td>11.180340</td>\n",
       "      <td>11.269427</td>\n",
       "      <td>11.045361</td>\n",
       "      <td>11.747340</td>\n",
       "      <td>11.575837</td>\n",
       "      <td>11.532562</td>\n",
       "      <td>...</td>\n",
       "      <td>11.832160</td>\n",
       "      <td>11.916375</td>\n",
       "      <td>11.832160</td>\n",
       "      <td>12.206555</td>\n",
       "      <td>12.124355</td>\n",
       "      <td>11.135529</td>\n",
       "      <td>11.874342</td>\n",
       "      <td>12.569805</td>\n",
       "      <td>12.083046</td>\n",
       "      <td>12.247449</td>\n",
       "    </tr>\n",
       "    <tr>\n",
       "      <th>7873</th>\n",
       "      <td>11.874342</td>\n",
       "      <td>11.832160</td>\n",
       "      <td>11.747340</td>\n",
       "      <td>12.041595</td>\n",
       "      <td>11.357817</td>\n",
       "      <td>11.445523</td>\n",
       "      <td>11.489125</td>\n",
       "      <td>11.747340</td>\n",
       "      <td>11.747340</td>\n",
       "      <td>11.958261</td>\n",
       "      <td>...</td>\n",
       "      <td>12.083046</td>\n",
       "      <td>12.083046</td>\n",
       "      <td>11.832160</td>\n",
       "      <td>13.076696</td>\n",
       "      <td>12.767145</td>\n",
       "      <td>11.832160</td>\n",
       "      <td>12.369317</td>\n",
       "      <td>12.569805</td>\n",
       "      <td>12.727922</td>\n",
       "      <td>12.489996</td>\n",
       "    </tr>\n",
       "  </tbody>\n",
       "</table>\n",
       "<p>7874 rows × 7874 columns</p>\n",
       "</div>"
      ],
      "text/plain": [
       "           0          1          2          3          4          5     \\\n",
       "0      0.000000   0.000000   0.000000   0.000000   0.000000   0.000000   \n",
       "1      3.464102   4.690416   2.236068   3.741657   2.236068   3.464102   \n",
       "2      4.000000   4.795832   2.236068   3.872983   2.449490   3.464102   \n",
       "3      4.000000   5.000000   2.449490   3.872983   2.449490   3.464102   \n",
       "4      4.123106   5.099020   2.449490   4.000000   2.449490   3.605551   \n",
       "...         ...        ...        ...        ...        ...        ...   \n",
       "7869  10.488089  10.488089  10.148891  10.392304   9.899495  10.099504   \n",
       "7870  10.630146  10.630146  10.583005  10.723805  10.246951  10.344080   \n",
       "7871  11.180340  11.045361  11.224972  11.445523  10.908712  11.090536   \n",
       "7872  11.269427  11.401754  11.401754  11.618950  11.180340  11.269427   \n",
       "7873  11.874342  11.832160  11.747340  12.041595  11.357817  11.445523   \n",
       "\n",
       "           6          7          8          9     ...       7864       7865  \\\n",
       "0      0.000000   0.000000   0.000000   0.000000  ...   0.000000   0.000000   \n",
       "1      3.316625   6.000000   0.000000   2.000000  ...   3.316625   4.123106   \n",
       "2      3.605551   6.082763   0.000000   2.449490  ...   3.464102   4.582576   \n",
       "3      3.741657   6.082763   0.000000   2.449490  ...   4.000000   4.582576   \n",
       "4      3.741657   6.082763   2.449490   2.449490  ...   4.242640   4.690416   \n",
       "...         ...        ...        ...        ...  ...        ...        ...   \n",
       "7869  10.099504  10.440307  10.344080  10.392304  ...  10.723805  10.440307   \n",
       "7870  10.677078  10.677078  10.677078  10.816654  ...  11.224972  11.224972   \n",
       "7871  10.862781  11.224972  11.313708  11.357817  ...  11.747340  11.661903   \n",
       "7872  11.045361  11.747340  11.575837  11.532562  ...  11.832160  11.916375   \n",
       "7873  11.489125  11.747340  11.747340  11.958261  ...  12.083046  12.083046   \n",
       "\n",
       "           7866       7867       7868       7869       7870       7871  \\\n",
       "0      0.000000   0.000000   0.000000   0.000000   0.000000   0.000000   \n",
       "1      4.690416   4.795832   2.645751   3.605551   6.557438   3.316625   \n",
       "2      6.164414   5.099020   5.099020   3.741657   6.557438   4.242640   \n",
       "3      6.244998   6.164414   5.099020   3.741657   6.633250   5.196152   \n",
       "4      6.244998   7.211102   6.244998   3.872983   6.633250   5.477226   \n",
       "...         ...        ...        ...        ...        ...        ...   \n",
       "7869  10.440307  11.532562  11.357817  10.295630  11.045361  11.357817   \n",
       "7870  11.224972  11.916375  11.661903  10.770329  11.090536  11.832160   \n",
       "7871  11.401754  12.206555  11.958261  10.954452  11.618950  12.247449   \n",
       "7872  11.832160  12.206555  12.124355  11.135529  11.874342  12.569805   \n",
       "7873  11.832160  13.076696  12.767145  11.832160  12.369317  12.569805   \n",
       "\n",
       "           7872       7873  \n",
       "0      0.000000   0.000000  \n",
       "1      5.567764   7.071068  \n",
       "2      6.244998   7.280110  \n",
       "3      6.244998   7.280110  \n",
       "4      6.324555   7.348469  \n",
       "...         ...        ...  \n",
       "7869  11.357817  11.000000  \n",
       "7870  11.489125  11.489125  \n",
       "7871  11.832160  12.083046  \n",
       "7872  12.083046  12.247449  \n",
       "7873  12.727922  12.489996  \n",
       "\n",
       "[7874 rows x 7874 columns]"
      ]
     },
     "execution_count": 99,
     "metadata": {},
     "output_type": "execute_result"
    }
   ],
   "source": [
    "df_tr=pd.DataFrame(neighbors_k)\n",
    "df_tr"
   ]
  },
  {
   "cell_type": "code",
   "execution_count": 100,
   "metadata": {},
   "outputs": [],
   "source": [
    "similarity= neighbors_k"
   ]
  },
  {
   "cell_type": "code",
   "execution_count": 101,
   "metadata": {},
   "outputs": [],
   "source": [
    "Dmean=np.mean(similarity[1,:])"
   ]
  },
  {
   "cell_type": "code",
   "execution_count": 102,
   "metadata": {},
   "outputs": [
    {
     "data": {
      "text/plain": [
       "3.6"
      ]
     },
     "execution_count": 102,
     "metadata": {},
     "output_type": "execute_result"
    }
   ],
   "source": [
    "round(Dmean, 2)"
   ]
  },
  {
   "cell_type": "code",
   "execution_count": 103,
   "metadata": {},
   "outputs": [],
   "source": [
    "std=np.std(similarity[1,:])"
   ]
  },
  {
   "cell_type": "code",
   "execution_count": 104,
   "metadata": {},
   "outputs": [
    {
     "data": {
      "text/plain": [
       "1.22"
      ]
     },
     "execution_count": 104,
     "metadata": {},
     "output_type": "execute_result"
    }
   ],
   "source": [
    "round(std, 2)"
   ]
  },
  {
   "cell_type": "code",
   "execution_count": 105,
   "metadata": {},
   "outputs": [
    {
     "name": "stdout",
     "output_type": "stream",
     "text": [
      "4.21\n"
     ]
    }
   ],
   "source": [
    "model_AD_limit=Dmean+std*0.5\n",
    "print(np.round(model_AD_limit, 2))"
   ]
  },
  {
   "cell_type": "code",
   "execution_count": 106,
   "metadata": {},
   "outputs": [],
   "source": [
    "neighbors_k_ts= pairwise_distances(x_tr,Y=x_ts, n_jobs=-1)\n",
    "neighbors_k_ts.sort(0)"
   ]
  },
  {
   "cell_type": "code",
   "execution_count": 107,
   "metadata": {},
   "outputs": [
    {
     "data": {
      "text/html": [
       "<div>\n",
       "<style scoped>\n",
       "    .dataframe tbody tr th:only-of-type {\n",
       "        vertical-align: middle;\n",
       "    }\n",
       "\n",
       "    .dataframe tbody tr th {\n",
       "        vertical-align: top;\n",
       "    }\n",
       "\n",
       "    .dataframe thead th {\n",
       "        text-align: right;\n",
       "    }\n",
       "</style>\n",
       "<table border=\"1\" class=\"dataframe\">\n",
       "  <thead>\n",
       "    <tr style=\"text-align: right;\">\n",
       "      <th></th>\n",
       "      <th>0</th>\n",
       "      <th>1</th>\n",
       "      <th>2</th>\n",
       "      <th>3</th>\n",
       "      <th>4</th>\n",
       "      <th>5</th>\n",
       "      <th>6</th>\n",
       "      <th>7</th>\n",
       "      <th>8</th>\n",
       "      <th>9</th>\n",
       "      <th>...</th>\n",
       "      <th>1959</th>\n",
       "      <th>1960</th>\n",
       "      <th>1961</th>\n",
       "      <th>1962</th>\n",
       "      <th>1963</th>\n",
       "      <th>1964</th>\n",
       "      <th>1965</th>\n",
       "      <th>1966</th>\n",
       "      <th>1967</th>\n",
       "      <th>1968</th>\n",
       "    </tr>\n",
       "  </thead>\n",
       "  <tbody>\n",
       "    <tr>\n",
       "      <th>0</th>\n",
       "      <td>2.000000</td>\n",
       "      <td>3.872983</td>\n",
       "      <td>2.000000</td>\n",
       "      <td>1.414214</td>\n",
       "      <td>2.236068</td>\n",
       "      <td>2.000000</td>\n",
       "      <td>2.236068</td>\n",
       "      <td>3.605551</td>\n",
       "      <td>3.162278</td>\n",
       "      <td>3.316625</td>\n",
       "      <td>...</td>\n",
       "      <td>4.242640</td>\n",
       "      <td>7.937254</td>\n",
       "      <td>3.741657</td>\n",
       "      <td>3.000000</td>\n",
       "      <td>3.162278</td>\n",
       "      <td>4.242640</td>\n",
       "      <td>4.472136</td>\n",
       "      <td>2.645751</td>\n",
       "      <td>5.291502</td>\n",
       "      <td>2.645751</td>\n",
       "    </tr>\n",
       "    <tr>\n",
       "      <th>1</th>\n",
       "      <td>2.000000</td>\n",
       "      <td>4.000000</td>\n",
       "      <td>2.645751</td>\n",
       "      <td>1.732051</td>\n",
       "      <td>2.828427</td>\n",
       "      <td>2.000000</td>\n",
       "      <td>2.828427</td>\n",
       "      <td>3.741657</td>\n",
       "      <td>3.741657</td>\n",
       "      <td>3.464102</td>\n",
       "      <td>...</td>\n",
       "      <td>4.582576</td>\n",
       "      <td>8.000000</td>\n",
       "      <td>5.196152</td>\n",
       "      <td>3.162278</td>\n",
       "      <td>3.741657</td>\n",
       "      <td>4.898980</td>\n",
       "      <td>5.196152</td>\n",
       "      <td>3.741657</td>\n",
       "      <td>5.477226</td>\n",
       "      <td>3.162278</td>\n",
       "    </tr>\n",
       "    <tr>\n",
       "      <th>2</th>\n",
       "      <td>2.000000</td>\n",
       "      <td>4.000000</td>\n",
       "      <td>2.828427</td>\n",
       "      <td>1.732051</td>\n",
       "      <td>2.828427</td>\n",
       "      <td>2.236068</td>\n",
       "      <td>2.828427</td>\n",
       "      <td>4.000000</td>\n",
       "      <td>4.123106</td>\n",
       "      <td>3.464102</td>\n",
       "      <td>...</td>\n",
       "      <td>4.582576</td>\n",
       "      <td>8.124039</td>\n",
       "      <td>5.291502</td>\n",
       "      <td>3.605551</td>\n",
       "      <td>3.872983</td>\n",
       "      <td>4.898980</td>\n",
       "      <td>6.557438</td>\n",
       "      <td>4.000000</td>\n",
       "      <td>5.477226</td>\n",
       "      <td>3.316625</td>\n",
       "    </tr>\n",
       "    <tr>\n",
       "      <th>3</th>\n",
       "      <td>2.000000</td>\n",
       "      <td>4.123106</td>\n",
       "      <td>3.000000</td>\n",
       "      <td>2.000000</td>\n",
       "      <td>3.000000</td>\n",
       "      <td>2.236068</td>\n",
       "      <td>3.162278</td>\n",
       "      <td>4.000000</td>\n",
       "      <td>4.123106</td>\n",
       "      <td>3.605551</td>\n",
       "      <td>...</td>\n",
       "      <td>4.582576</td>\n",
       "      <td>8.246211</td>\n",
       "      <td>5.291502</td>\n",
       "      <td>3.741657</td>\n",
       "      <td>4.000000</td>\n",
       "      <td>5.000000</td>\n",
       "      <td>6.633250</td>\n",
       "      <td>4.123106</td>\n",
       "      <td>5.567764</td>\n",
       "      <td>3.316625</td>\n",
       "    </tr>\n",
       "    <tr>\n",
       "      <th>4</th>\n",
       "      <td>2.000000</td>\n",
       "      <td>4.123106</td>\n",
       "      <td>3.000000</td>\n",
       "      <td>2.000000</td>\n",
       "      <td>3.000000</td>\n",
       "      <td>2.236068</td>\n",
       "      <td>3.162278</td>\n",
       "      <td>4.000000</td>\n",
       "      <td>4.123106</td>\n",
       "      <td>3.741657</td>\n",
       "      <td>...</td>\n",
       "      <td>4.582576</td>\n",
       "      <td>8.246211</td>\n",
       "      <td>5.385165</td>\n",
       "      <td>3.872983</td>\n",
       "      <td>4.123106</td>\n",
       "      <td>5.000000</td>\n",
       "      <td>6.708204</td>\n",
       "      <td>4.123106</td>\n",
       "      <td>5.567764</td>\n",
       "      <td>3.464102</td>\n",
       "    </tr>\n",
       "    <tr>\n",
       "      <th>...</th>\n",
       "      <td>...</td>\n",
       "      <td>...</td>\n",
       "      <td>...</td>\n",
       "      <td>...</td>\n",
       "      <td>...</td>\n",
       "      <td>...</td>\n",
       "      <td>...</td>\n",
       "      <td>...</td>\n",
       "      <td>...</td>\n",
       "      <td>...</td>\n",
       "      <td>...</td>\n",
       "      <td>...</td>\n",
       "      <td>...</td>\n",
       "      <td>...</td>\n",
       "      <td>...</td>\n",
       "      <td>...</td>\n",
       "      <td>...</td>\n",
       "      <td>...</td>\n",
       "      <td>...</td>\n",
       "      <td>...</td>\n",
       "      <td>...</td>\n",
       "    </tr>\n",
       "    <tr>\n",
       "      <th>7869</th>\n",
       "      <td>9.949874</td>\n",
       "      <td>10.246951</td>\n",
       "      <td>9.899495</td>\n",
       "      <td>10.049875</td>\n",
       "      <td>10.049875</td>\n",
       "      <td>10.198039</td>\n",
       "      <td>10.099504</td>\n",
       "      <td>10.630146</td>\n",
       "      <td>10.344080</td>\n",
       "      <td>10.246951</td>\n",
       "      <td>...</td>\n",
       "      <td>10.723805</td>\n",
       "      <td>11.532562</td>\n",
       "      <td>11.000000</td>\n",
       "      <td>10.583005</td>\n",
       "      <td>10.488089</td>\n",
       "      <td>10.770329</td>\n",
       "      <td>11.269427</td>\n",
       "      <td>10.723805</td>\n",
       "      <td>10.583005</td>\n",
       "      <td>10.344080</td>\n",
       "    </tr>\n",
       "    <tr>\n",
       "      <th>7870</th>\n",
       "      <td>10.583005</td>\n",
       "      <td>10.583005</td>\n",
       "      <td>10.295630</td>\n",
       "      <td>10.770329</td>\n",
       "      <td>10.583005</td>\n",
       "      <td>10.630146</td>\n",
       "      <td>10.630146</td>\n",
       "      <td>10.677078</td>\n",
       "      <td>10.770329</td>\n",
       "      <td>10.770329</td>\n",
       "      <td>...</td>\n",
       "      <td>11.313708</td>\n",
       "      <td>12.041595</td>\n",
       "      <td>11.357817</td>\n",
       "      <td>10.816654</td>\n",
       "      <td>11.045361</td>\n",
       "      <td>10.816654</td>\n",
       "      <td>11.489125</td>\n",
       "      <td>10.954452</td>\n",
       "      <td>11.357817</td>\n",
       "      <td>10.677078</td>\n",
       "    </tr>\n",
       "    <tr>\n",
       "      <th>7871</th>\n",
       "      <td>11.135529</td>\n",
       "      <td>11.135529</td>\n",
       "      <td>10.954452</td>\n",
       "      <td>11.313708</td>\n",
       "      <td>11.135529</td>\n",
       "      <td>11.357817</td>\n",
       "      <td>11.000000</td>\n",
       "      <td>11.532562</td>\n",
       "      <td>11.401754</td>\n",
       "      <td>11.224972</td>\n",
       "      <td>...</td>\n",
       "      <td>11.747340</td>\n",
       "      <td>12.124355</td>\n",
       "      <td>11.618950</td>\n",
       "      <td>11.090536</td>\n",
       "      <td>11.135529</td>\n",
       "      <td>11.575837</td>\n",
       "      <td>12.041595</td>\n",
       "      <td>11.045361</td>\n",
       "      <td>11.532562</td>\n",
       "      <td>10.770329</td>\n",
       "    </tr>\n",
       "    <tr>\n",
       "      <th>7872</th>\n",
       "      <td>11.313708</td>\n",
       "      <td>11.313708</td>\n",
       "      <td>11.224972</td>\n",
       "      <td>11.313708</td>\n",
       "      <td>11.313708</td>\n",
       "      <td>11.445523</td>\n",
       "      <td>11.357817</td>\n",
       "      <td>11.532562</td>\n",
       "      <td>11.575837</td>\n",
       "      <td>11.401754</td>\n",
       "      <td>...</td>\n",
       "      <td>11.832160</td>\n",
       "      <td>12.609520</td>\n",
       "      <td>11.704700</td>\n",
       "      <td>11.269427</td>\n",
       "      <td>11.224972</td>\n",
       "      <td>11.661903</td>\n",
       "      <td>12.124355</td>\n",
       "      <td>11.224972</td>\n",
       "      <td>11.789826</td>\n",
       "      <td>10.862781</td>\n",
       "    </tr>\n",
       "    <tr>\n",
       "      <th>7873</th>\n",
       "      <td>11.575837</td>\n",
       "      <td>11.661903</td>\n",
       "      <td>11.575837</td>\n",
       "      <td>11.832160</td>\n",
       "      <td>11.489125</td>\n",
       "      <td>11.874342</td>\n",
       "      <td>11.532562</td>\n",
       "      <td>12.206555</td>\n",
       "      <td>11.575837</td>\n",
       "      <td>11.916375</td>\n",
       "      <td>...</td>\n",
       "      <td>12.083046</td>\n",
       "      <td>13.076696</td>\n",
       "      <td>12.369317</td>\n",
       "      <td>12.041595</td>\n",
       "      <td>11.916375</td>\n",
       "      <td>12.083046</td>\n",
       "      <td>12.845233</td>\n",
       "      <td>12.000000</td>\n",
       "      <td>12.288206</td>\n",
       "      <td>11.747340</td>\n",
       "    </tr>\n",
       "  </tbody>\n",
       "</table>\n",
       "<p>7874 rows × 1969 columns</p>\n",
       "</div>"
      ],
      "text/plain": [
       "           0          1          2          3          4          5     \\\n",
       "0      2.000000   3.872983   2.000000   1.414214   2.236068   2.000000   \n",
       "1      2.000000   4.000000   2.645751   1.732051   2.828427   2.000000   \n",
       "2      2.000000   4.000000   2.828427   1.732051   2.828427   2.236068   \n",
       "3      2.000000   4.123106   3.000000   2.000000   3.000000   2.236068   \n",
       "4      2.000000   4.123106   3.000000   2.000000   3.000000   2.236068   \n",
       "...         ...        ...        ...        ...        ...        ...   \n",
       "7869   9.949874  10.246951   9.899495  10.049875  10.049875  10.198039   \n",
       "7870  10.583005  10.583005  10.295630  10.770329  10.583005  10.630146   \n",
       "7871  11.135529  11.135529  10.954452  11.313708  11.135529  11.357817   \n",
       "7872  11.313708  11.313708  11.224972  11.313708  11.313708  11.445523   \n",
       "7873  11.575837  11.661903  11.575837  11.832160  11.489125  11.874342   \n",
       "\n",
       "           6          7          8          9     ...       1959       1960  \\\n",
       "0      2.236068   3.605551   3.162278   3.316625  ...   4.242640   7.937254   \n",
       "1      2.828427   3.741657   3.741657   3.464102  ...   4.582576   8.000000   \n",
       "2      2.828427   4.000000   4.123106   3.464102  ...   4.582576   8.124039   \n",
       "3      3.162278   4.000000   4.123106   3.605551  ...   4.582576   8.246211   \n",
       "4      3.162278   4.000000   4.123106   3.741657  ...   4.582576   8.246211   \n",
       "...         ...        ...        ...        ...  ...        ...        ...   \n",
       "7869  10.099504  10.630146  10.344080  10.246951  ...  10.723805  11.532562   \n",
       "7870  10.630146  10.677078  10.770329  10.770329  ...  11.313708  12.041595   \n",
       "7871  11.000000  11.532562  11.401754  11.224972  ...  11.747340  12.124355   \n",
       "7872  11.357817  11.532562  11.575837  11.401754  ...  11.832160  12.609520   \n",
       "7873  11.532562  12.206555  11.575837  11.916375  ...  12.083046  13.076696   \n",
       "\n",
       "           1961       1962       1963       1964       1965       1966  \\\n",
       "0      3.741657   3.000000   3.162278   4.242640   4.472136   2.645751   \n",
       "1      5.196152   3.162278   3.741657   4.898980   5.196152   3.741657   \n",
       "2      5.291502   3.605551   3.872983   4.898980   6.557438   4.000000   \n",
       "3      5.291502   3.741657   4.000000   5.000000   6.633250   4.123106   \n",
       "4      5.385165   3.872983   4.123106   5.000000   6.708204   4.123106   \n",
       "...         ...        ...        ...        ...        ...        ...   \n",
       "7869  11.000000  10.583005  10.488089  10.770329  11.269427  10.723805   \n",
       "7870  11.357817  10.816654  11.045361  10.816654  11.489125  10.954452   \n",
       "7871  11.618950  11.090536  11.135529  11.575837  12.041595  11.045361   \n",
       "7872  11.704700  11.269427  11.224972  11.661903  12.124355  11.224972   \n",
       "7873  12.369317  12.041595  11.916375  12.083046  12.845233  12.000000   \n",
       "\n",
       "           1967       1968  \n",
       "0      5.291502   2.645751  \n",
       "1      5.477226   3.162278  \n",
       "2      5.477226   3.316625  \n",
       "3      5.567764   3.316625  \n",
       "4      5.567764   3.464102  \n",
       "...         ...        ...  \n",
       "7869  10.583005  10.344080  \n",
       "7870  11.357817  10.677078  \n",
       "7871  11.532562  10.770329  \n",
       "7872  11.789826  10.862781  \n",
       "7873  12.288206  11.747340  \n",
       "\n",
       "[7874 rows x 1969 columns]"
      ]
     },
     "execution_count": 107,
     "metadata": {},
     "output_type": "execute_result"
    }
   ],
   "source": [
    "x_ts_AD=pd.DataFrame(neighbors_k_ts)\n",
    "x_ts_AD"
   ]
  },
  {
   "cell_type": "code",
   "execution_count": 108,
   "metadata": {},
   "outputs": [
    {
     "name": "stdout",
     "output_type": "stream",
     "text": [
      "[2.    3.873 2.    ... 2.646 5.292 2.646]\n"
     ]
    }
   ],
   "source": [
    "similarity_ts= neighbors_k_ts\n",
    "cpd_AD=similarity_ts[0,:]\n",
    "cpd_value = np.round(cpd_AD, 3)\n",
    "print(cpd_value)"
   ]
  },
  {
   "cell_type": "code",
   "execution_count": 109,
   "metadata": {},
   "outputs": [
    {
     "name": "stdout",
     "output_type": "stream",
     "text": [
      "[ True  True  True ...  True False  True]\n"
     ]
    }
   ],
   "source": [
    "cpd_AD = np.where(cpd_value <= model_AD_limit, True, False)\n",
    "print(cpd_AD)"
   ]
  },
  {
   "cell_type": "code",
   "execution_count": 110,
   "metadata": {},
   "outputs": [
    {
     "name": "stdout",
     "output_type": "stream",
     "text": [
      "Coverage =  0.71\n"
     ]
    }
   ],
   "source": [
    "print(\"Coverage = \", round(sum(cpd_AD) / len(cpd_AD), 2))"
   ]
  },
  {
   "cell_type": "code",
   "execution_count": 111,
   "metadata": {},
   "outputs": [
    {
     "name": "stdout",
     "output_type": "stream",
     "text": [
      "Indices of substances included in AD =  [   0    1    2 ... 1963 1966 1968]\n"
     ]
    }
   ],
   "source": [
    "print(\"Indices of substances included in AD = \", np.where(cpd_AD != 0)[0])"
   ]
  },
  {
   "cell_type": "code",
   "execution_count": 112,
   "metadata": {},
   "outputs": [],
   "source": [
    "out_Ad=list(np.where(cpd_AD == 0)[0])"
   ]
  },
  {
   "cell_type": "markdown",
   "metadata": {},
   "source": [
    "# 12. Prediction only for molecules included in  AD"
   ]
  },
  {
   "cell_type": "code",
   "execution_count": 113,
   "metadata": {},
   "outputs": [],
   "source": [
    "y_pred_kNN_ad=list(y_pred_kNN)"
   ]
  },
  {
   "cell_type": "code",
   "execution_count": 114,
   "metadata": {},
   "outputs": [],
   "source": [
    "y_pred_kNN_ad[:] = [x for i,x in enumerate(y_pred_kNN_ad) if i not in out_Ad]"
   ]
  },
  {
   "cell_type": "code",
   "execution_count": 115,
   "metadata": {},
   "outputs": [
    {
     "data": {
      "text/plain": [
       "1400"
      ]
     },
     "execution_count": 115,
     "metadata": {},
     "output_type": "execute_result"
    }
   ],
   "source": [
    "len(y_pred_kNN_ad)"
   ]
  },
  {
   "cell_type": "code",
   "execution_count": 116,
   "metadata": {},
   "outputs": [],
   "source": [
    "y_ts_ad=list(y_ts)"
   ]
  },
  {
   "cell_type": "code",
   "execution_count": 117,
   "metadata": {},
   "outputs": [],
   "source": [
    "y_ts_ad[:] = [x for i,x in enumerate(y_ts_ad) if i not in out_Ad]"
   ]
  },
  {
   "cell_type": "code",
   "execution_count": 118,
   "metadata": {},
   "outputs": [
    {
     "data": {
      "text/plain": [
       "1400"
      ]
     },
     "execution_count": 118,
     "metadata": {},
     "output_type": "execute_result"
    }
   ],
   "source": [
    "len(y_ts_ad)"
   ]
  },
  {
   "cell_type": "code",
   "execution_count": 119,
   "metadata": {},
   "outputs": [
    {
     "data": {
      "text/plain": [
       "0.46"
      ]
     },
     "execution_count": 119,
     "metadata": {},
     "output_type": "execute_result"
    }
   ],
   "source": [
    "Q2_TS = round(r2_score(y_ts_ad, y_pred_kNN_ad), 2)\n",
    "Q2_TS"
   ]
  },
  {
   "cell_type": "code",
   "execution_count": 120,
   "metadata": {
    "scrolled": true
   },
   "outputs": [
    {
     "data": {
      "text/plain": [
       "0.68"
      ]
     },
     "execution_count": 120,
     "metadata": {},
     "output_type": "execute_result"
    }
   ],
   "source": [
    "RMSE_TS=round(np.sqrt(mean_squared_error(y_ts_ad, y_pred_kNN_ad)), 2)\n",
    "RMSE_TS"
   ]
  }
 ],
 "metadata": {
  "kernelspec": {
   "display_name": "Python [conda env:base] *",
   "language": "python",
   "name": "conda-base-py"
  },
  "language_info": {
   "codemirror_mode": {
    "name": "ipython",
    "version": 3
   },
   "file_extension": ".py",
   "mimetype": "text/x-python",
   "name": "python",
   "nbconvert_exporter": "python",
   "pygments_lexer": "ipython3",
   "version": "3.12.7"
  },
  "toc": {
   "base_numbering": 1,
   "nav_menu": {},
   "number_sections": true,
   "sideBar": true,
   "skip_h1_title": false,
   "title_cell": "Table of Contents",
   "title_sidebar": "Contents",
   "toc_cell": false,
   "toc_position": {
    "height": "calc(100% - 180px)",
    "left": "10px",
    "top": "150px",
    "width": "384px"
   },
   "toc_section_display": true,
   "toc_window_display": true
  },
  "widgets": {
   "application/vnd.jupyter.widget-state+json": {
    "state": {},
    "version_major": 2,
    "version_minor": 0
   }
  }
 },
 "nbformat": 4,
 "nbformat_minor": 4
}
