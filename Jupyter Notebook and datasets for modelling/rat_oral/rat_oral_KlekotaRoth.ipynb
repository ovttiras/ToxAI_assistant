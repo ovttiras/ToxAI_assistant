{
 "cells": [
  {
   "cell_type": "markdown",
   "metadata": {},
   "source": [
    "# 1. Importing modules and functions"
   ]
  },
  {
   "cell_type": "code",
   "execution_count": 3,
   "metadata": {},
   "outputs": [],
   "source": [
    "from rdkit import Chem, DataStructs\n",
    "from rdkit.Chem import AllChem, Descriptors\n",
    "from rdkit.ML.Descriptors import MoleculeDescriptors\n",
    "from molvs import standardize_smiles\n",
    "from copy import deepcopy\n",
    "import numpy as np\n",
    "import pandas as pd\n",
    "from sklearn.svm import SVC\n",
    "from sklearn.model_selection import KFold, GridSearchCV\n",
    "from sklearn.metrics import mean_squared_error\n",
    "from sklearn.metrics import r2_score\n",
    "from catboost import CatBoostRegressor\n",
    "from sklearn.svm import SVR\n",
    "from sklearn.model_selection import permutation_test_score\n",
    "from sklearn.preprocessing import StandardScaler\n",
    "from sklearn.model_selection import cross_val_predict\n",
    "from sklearn import metrics\n",
    "from sklearn.metrics import pairwise_distances\n",
    "import joblib\n",
    "import pickle\n",
    "from numpy import savetxt\n",
    "from padelpy import from_sdf\n",
    "import shap\n",
    "from tqdm.notebook import tqdm"
   ]
  },
  {
   "cell_type": "code",
   "execution_count": 4,
   "metadata": {},
   "outputs": [],
   "source": [
    "def convert_smi_to_canon_smi(smi):\n",
    "    \n",
    "    try:\n",
    "        canon_smi = Chem.MolToSmiles(Chem.MolFromSmiles(smi),isomericSmiles = False)\n",
    "    except:\n",
    "        canon_smi='wrong_smiles'\n",
    "    return canon_smi"
   ]
  },
  {
   "cell_type": "code",
   "execution_count": 5,
   "metadata": {},
   "outputs": [],
   "source": [
    "def standart(smi):\n",
    "    global m\n",
    "    if smi!='wrong_smiles':\n",
    "        try:\n",
    "            smiles=standardize_smiles(smi)\n",
    "            m = Chem.MolFromSmiles(smi)\n",
    "        except:\n",
    "            smi='error kekule'\n",
    "    else:\n",
    "        m = 'check the smiles'\n",
    "    return m"
   ]
  },
  {
   "cell_type": "markdown",
   "metadata": {},
   "source": [
    "## Load data and curation work set"
   ]
  },
  {
   "cell_type": "code",
   "execution_count": 7,
   "metadata": {},
   "outputs": [
    {
     "data": {
      "text/html": [
       "<div>\n",
       "<style scoped>\n",
       "    .dataframe tbody tr th:only-of-type {\n",
       "        vertical-align: middle;\n",
       "    }\n",
       "\n",
       "    .dataframe tbody tr th {\n",
       "        vertical-align: top;\n",
       "    }\n",
       "\n",
       "    .dataframe thead th {\n",
       "        text-align: right;\n",
       "    }\n",
       "</style>\n",
       "<table border=\"1\" class=\"dataframe\">\n",
       "  <thead>\n",
       "    <tr style=\"text-align: right;\">\n",
       "      <th></th>\n",
       "      <th>TAID</th>\n",
       "      <th>Pubchem CID</th>\n",
       "      <th>IUPAC Name</th>\n",
       "      <th>SMILES</th>\n",
       "      <th>Canonical_SMILES</th>\n",
       "      <th>InChIKey</th>\n",
       "      <th>rat_oral_LD50</th>\n",
       "    </tr>\n",
       "  </thead>\n",
       "  <tbody>\n",
       "    <tr>\n",
       "      <th>0</th>\n",
       "      <td>TOX-8327</td>\n",
       "      <td>12283</td>\n",
       "      <td>6-methyl-1H-pyrimidine-2,4-dione</td>\n",
       "      <td>Cc1cc(=O)[nH]c(=O)[nH]1</td>\n",
       "      <td>Cc1cc(=O)[nH]c(=O)[nH]1</td>\n",
       "      <td>SHVCSCWHWMSGTE-UHFFFAOYSA-N</td>\n",
       "      <td>0.291207</td>\n",
       "    </tr>\n",
       "    <tr>\n",
       "      <th>1</th>\n",
       "      <td>TOX-27223</td>\n",
       "      <td>34042</td>\n",
       "      <td>4-(1,3-benzodioxol-5-yl)butan-2-ylhydrazine</td>\n",
       "      <td>CC(CCc1ccc2c(c1)OCO2)NN</td>\n",
       "      <td>CC(CCc1ccc2c(c1)OCO2)NN</td>\n",
       "      <td>IBWPUTAKVGZXRB-UHFFFAOYSA-N</td>\n",
       "      <td>0.440661</td>\n",
       "    </tr>\n",
       "    <tr>\n",
       "      <th>2</th>\n",
       "      <td>TOX-5723</td>\n",
       "      <td>8058</td>\n",
       "      <td>hexane</td>\n",
       "      <td>CCCCCC</td>\n",
       "      <td>CCCCCC</td>\n",
       "      <td>VLKZOEOYAKHREP-UHFFFAOYSA-N</td>\n",
       "      <td>0.537456</td>\n",
       "    </tr>\n",
       "    <tr>\n",
       "      <th>3</th>\n",
       "      <td>TOX-72438</td>\n",
       "      <td>94201</td>\n",
       "      <td>bis(2-ethylhexyl) cyclohexene-1,2-dicarboxylate</td>\n",
       "      <td>CCCCC(CC)COC(=O)C1=C(C(=O)OCC(CC)CCCC)CCCC1</td>\n",
       "      <td>CCCCC(CC)COC(=O)C1=C(C(=O)OCC(CC)CCCC)CCCC1</td>\n",
       "      <td>ZVPBHZIVOWGPMT-UHFFFAOYSA-N</td>\n",
       "      <td>0.539248</td>\n",
       "    </tr>\n",
       "    <tr>\n",
       "      <th>4</th>\n",
       "      <td>TOX-4318</td>\n",
       "      <td>1030</td>\n",
       "      <td>propane-1,2-diol</td>\n",
       "      <td>CC(O)CO</td>\n",
       "      <td>CC(O)CO</td>\n",
       "      <td>DNIAPMSPPWPWGF-UHFFFAOYSA-N</td>\n",
       "      <td>0.580326</td>\n",
       "    </tr>\n",
       "    <tr>\n",
       "      <th>...</th>\n",
       "      <td>...</td>\n",
       "      <td>...</td>\n",
       "      <td>...</td>\n",
       "      <td>...</td>\n",
       "      <td>...</td>\n",
       "      <td>...</td>\n",
       "      <td>...</td>\n",
       "    </tr>\n",
       "    <tr>\n",
       "      <th>7869</th>\n",
       "      <td>TOX-34548</td>\n",
       "      <td>39729</td>\n",
       "      <td>2,3,7,8-tetrabromodibenzo-p-dioxin</td>\n",
       "      <td>Brc1cc2c(cc1Br)Oc1cc(Br)c(Br)cc1O2</td>\n",
       "      <td>Brc1cc2c(cc1Br)Oc1cc(Br)c(Br)cc1O2</td>\n",
       "      <td>JZLQUWSWOJPCAK-UHFFFAOYSA-N</td>\n",
       "      <td>6.698777</td>\n",
       "    </tr>\n",
       "    <tr>\n",
       "      <th>7870</th>\n",
       "      <td>TOX-2774</td>\n",
       "      <td>3890</td>\n",
       "      <td>propan-2-yl 7-[3,5-dihydroxy-2-(3-hydroxy-5-ph...</td>\n",
       "      <td>CC(C)OC(=O)CCCC=CCC1C(O)CC(O)C1CCC(O)CCc1ccccc1</td>\n",
       "      <td>CC(C)OC(=O)CCCC=CCC1C(O)CC(O)C1CCC(O)CCc1ccccc1</td>\n",
       "      <td>GGXICVAJURFBLW-UHFFFAOYSA-N</td>\n",
       "      <td>6.937118</td>\n",
       "    </tr>\n",
       "    <tr>\n",
       "      <th>7871</th>\n",
       "      <td>TOX-57286</td>\n",
       "      <td>3323</td>\n",
       "      <td>5-[2-[7a-methyl-1-[7,7,7-trifluoro-6-hydroxy-6...</td>\n",
       "      <td>C=C1C(=CC=C2CCCC3(C)C2CCC3C(C)CCCC(O)(C(F)(F)F...</td>\n",
       "      <td>C=C1C(=CC=C2CCCC3(C)C2CCC3C(C)CCCC(O)(C(F)(F)F...</td>\n",
       "      <td>XPYGGHVSFMUHLH-UHFFFAOYSA-N</td>\n",
       "      <td>7.099681</td>\n",
       "    </tr>\n",
       "    <tr>\n",
       "      <th>7872</th>\n",
       "      <td>TOX-6661</td>\n",
       "      <td>9426</td>\n",
       "      <td>2-[(6,7-dimethoxy-1,2,3,4-tetrahydroisoquinoli...</td>\n",
       "      <td>CCC1CN2CCc3cc(OC)c(OC)cc3C2CC1CC1NCCc2cc(OC)c(...</td>\n",
       "      <td>CCC1CN2CCc3cc(OC)c(OC)cc3C2CC1CC1NCCc2cc(OC)c(...</td>\n",
       "      <td>AUVVAXYIELKVAI-UHFFFAOYSA-N</td>\n",
       "      <td>7.602647</td>\n",
       "    </tr>\n",
       "    <tr>\n",
       "      <th>7873</th>\n",
       "      <td>TOX-52756</td>\n",
       "      <td>74051341</td>\n",
       "      <td>(8-acetyl-7-formyl-1,1,4a,6a,10b-pentamethyl-2...</td>\n",
       "      <td>CC(=O)C1=CCC2C3(C)CCC4C(C)(C)CCCC4(C)C3CC(OC(=...</td>\n",
       "      <td>CC(=O)C1=CCC2C3(C)CCC4C(C)(C)CCCC4(C)C3CC(OC(=...</td>\n",
       "      <td>AEQPDNFDABVERI-UHFFFAOYSA-N</td>\n",
       "      <td>9.541127</td>\n",
       "    </tr>\n",
       "  </tbody>\n",
       "</table>\n",
       "<p>7874 rows × 7 columns</p>\n",
       "</div>"
      ],
      "text/plain": [
       "           TAID  Pubchem CID  \\\n",
       "0      TOX-8327        12283   \n",
       "1     TOX-27223        34042   \n",
       "2      TOX-5723         8058   \n",
       "3     TOX-72438        94201   \n",
       "4      TOX-4318         1030   \n",
       "...         ...          ...   \n",
       "7869  TOX-34548        39729   \n",
       "7870   TOX-2774         3890   \n",
       "7871  TOX-57286         3323   \n",
       "7872   TOX-6661         9426   \n",
       "7873  TOX-52756     74051341   \n",
       "\n",
       "                                             IUPAC Name  \\\n",
       "0                      6-methyl-1H-pyrimidine-2,4-dione   \n",
       "1           4-(1,3-benzodioxol-5-yl)butan-2-ylhydrazine   \n",
       "2                                                hexane   \n",
       "3       bis(2-ethylhexyl) cyclohexene-1,2-dicarboxylate   \n",
       "4                                      propane-1,2-diol   \n",
       "...                                                 ...   \n",
       "7869                 2,3,7,8-tetrabromodibenzo-p-dioxin   \n",
       "7870  propan-2-yl 7-[3,5-dihydroxy-2-(3-hydroxy-5-ph...   \n",
       "7871  5-[2-[7a-methyl-1-[7,7,7-trifluoro-6-hydroxy-6...   \n",
       "7872  2-[(6,7-dimethoxy-1,2,3,4-tetrahydroisoquinoli...   \n",
       "7873  (8-acetyl-7-formyl-1,1,4a,6a,10b-pentamethyl-2...   \n",
       "\n",
       "                                                 SMILES  \\\n",
       "0                               Cc1cc(=O)[nH]c(=O)[nH]1   \n",
       "1                               CC(CCc1ccc2c(c1)OCO2)NN   \n",
       "2                                                CCCCCC   \n",
       "3           CCCCC(CC)COC(=O)C1=C(C(=O)OCC(CC)CCCC)CCCC1   \n",
       "4                                               CC(O)CO   \n",
       "...                                                 ...   \n",
       "7869                 Brc1cc2c(cc1Br)Oc1cc(Br)c(Br)cc1O2   \n",
       "7870    CC(C)OC(=O)CCCC=CCC1C(O)CC(O)C1CCC(O)CCc1ccccc1   \n",
       "7871  C=C1C(=CC=C2CCCC3(C)C2CCC3C(C)CCCC(O)(C(F)(F)F...   \n",
       "7872  CCC1CN2CCc3cc(OC)c(OC)cc3C2CC1CC1NCCc2cc(OC)c(...   \n",
       "7873  CC(=O)C1=CCC2C3(C)CCC4C(C)(C)CCCC4(C)C3CC(OC(=...   \n",
       "\n",
       "                                       Canonical_SMILES  \\\n",
       "0                               Cc1cc(=O)[nH]c(=O)[nH]1   \n",
       "1                               CC(CCc1ccc2c(c1)OCO2)NN   \n",
       "2                                                CCCCCC   \n",
       "3           CCCCC(CC)COC(=O)C1=C(C(=O)OCC(CC)CCCC)CCCC1   \n",
       "4                                               CC(O)CO   \n",
       "...                                                 ...   \n",
       "7869                 Brc1cc2c(cc1Br)Oc1cc(Br)c(Br)cc1O2   \n",
       "7870    CC(C)OC(=O)CCCC=CCC1C(O)CC(O)C1CCC(O)CCc1ccccc1   \n",
       "7871  C=C1C(=CC=C2CCCC3(C)C2CCC3C(C)CCCC(O)(C(F)(F)F...   \n",
       "7872  CCC1CN2CCc3cc(OC)c(OC)cc3C2CC1CC1NCCc2cc(OC)c(...   \n",
       "7873  CC(=O)C1=CCC2C3(C)CCC4C(C)(C)CCCC4(C)C3CC(OC(=...   \n",
       "\n",
       "                         InChIKey  rat_oral_LD50  \n",
       "0     SHVCSCWHWMSGTE-UHFFFAOYSA-N       0.291207  \n",
       "1     IBWPUTAKVGZXRB-UHFFFAOYSA-N       0.440661  \n",
       "2     VLKZOEOYAKHREP-UHFFFAOYSA-N       0.537456  \n",
       "3     ZVPBHZIVOWGPMT-UHFFFAOYSA-N       0.539248  \n",
       "4     DNIAPMSPPWPWGF-UHFFFAOYSA-N       0.580326  \n",
       "...                           ...            ...  \n",
       "7869  JZLQUWSWOJPCAK-UHFFFAOYSA-N       6.698777  \n",
       "7870  GGXICVAJURFBLW-UHFFFAOYSA-N       6.937118  \n",
       "7871  XPYGGHVSFMUHLH-UHFFFAOYSA-N       7.099681  \n",
       "7872  AUVVAXYIELKVAI-UHFFFAOYSA-N       7.602647  \n",
       "7873  AEQPDNFDABVERI-UHFFFAOYSA-N       9.541127  \n",
       "\n",
       "[7874 rows x 7 columns]"
      ]
     },
     "execution_count": 7,
     "metadata": {},
     "output_type": "execute_result"
    }
   ],
   "source": [
    "# Set file path\n",
    "df_ws=pd.read_csv('datasets/rat_oral_LD50_WS.csv')\n",
    "df_ws"
   ]
  },
  {
   "cell_type": "markdown",
   "metadata": {},
   "source": [
    "##  Standardization  for work set"
   ]
  },
  {
   "cell_type": "code",
   "execution_count": 9,
   "metadata": {},
   "outputs": [
    {
     "name": "stderr",
     "output_type": "stream",
     "text": [
      "[18:20:54] Unusual charge on atom 8 number of radical electrons set to zero\n",
      "[18:20:54] Unusual charge on atom 0 number of radical electrons set to zero\n",
      "[18:20:54] Unusual charge on atom 16 number of radical electrons set to zero\n",
      "[18:20:54] Unusual charge on atom 16 number of radical electrons set to zero\n"
     ]
    },
    {
     "name": "stdout",
     "output_type": "stream",
     "text": [
      "Kept data:  7874 molecules\n"
     ]
    }
   ],
   "source": [
    "df_ws[\"Molecule\"] = df_ws.apply(lambda x: standart(x.Canonical_SMILES), axis=1)\n",
    "print('Kept data: ', len(df_ws), 'molecules')"
   ]
  },
  {
   "cell_type": "code",
   "execution_count": 10,
   "metadata": {},
   "outputs": [
    {
     "data": {
      "text/html": [
       "<div>\n",
       "<style scoped>\n",
       "    .dataframe tbody tr th:only-of-type {\n",
       "        vertical-align: middle;\n",
       "    }\n",
       "\n",
       "    .dataframe tbody tr th {\n",
       "        vertical-align: top;\n",
       "    }\n",
       "\n",
       "    .dataframe thead th {\n",
       "        text-align: right;\n",
       "    }\n",
       "</style>\n",
       "<table border=\"1\" class=\"dataframe\">\n",
       "  <thead>\n",
       "    <tr style=\"text-align: right;\">\n",
       "      <th></th>\n",
       "      <th>TAID</th>\n",
       "      <th>Pubchem CID</th>\n",
       "      <th>IUPAC Name</th>\n",
       "      <th>SMILES</th>\n",
       "      <th>Canonical_SMILES</th>\n",
       "      <th>InChIKey</th>\n",
       "      <th>rat_oral_LD50</th>\n",
       "      <th>Molecule</th>\n",
       "    </tr>\n",
       "  </thead>\n",
       "  <tbody>\n",
       "    <tr>\n",
       "      <th>0</th>\n",
       "      <td>TOX-8327</td>\n",
       "      <td>12283</td>\n",
       "      <td>6-methyl-1H-pyrimidine-2,4-dione</td>\n",
       "      <td>Cc1cc(=O)[nH]c(=O)[nH]1</td>\n",
       "      <td>Cc1cc(=O)[nH]c(=O)[nH]1</td>\n",
       "      <td>SHVCSCWHWMSGTE-UHFFFAOYSA-N</td>\n",
       "      <td>0.291207</td>\n",
       "      <td>&lt;rdkit.Chem.rdchem.Mol object at 0x000001B70AD...</td>\n",
       "    </tr>\n",
       "    <tr>\n",
       "      <th>1</th>\n",
       "      <td>TOX-27223</td>\n",
       "      <td>34042</td>\n",
       "      <td>4-(1,3-benzodioxol-5-yl)butan-2-ylhydrazine</td>\n",
       "      <td>CC(CCc1ccc2c(c1)OCO2)NN</td>\n",
       "      <td>CC(CCc1ccc2c(c1)OCO2)NN</td>\n",
       "      <td>IBWPUTAKVGZXRB-UHFFFAOYSA-N</td>\n",
       "      <td>0.440661</td>\n",
       "      <td>&lt;rdkit.Chem.rdchem.Mol object at 0x000001B70AD...</td>\n",
       "    </tr>\n",
       "    <tr>\n",
       "      <th>2</th>\n",
       "      <td>TOX-5723</td>\n",
       "      <td>8058</td>\n",
       "      <td>hexane</td>\n",
       "      <td>CCCCCC</td>\n",
       "      <td>CCCCCC</td>\n",
       "      <td>VLKZOEOYAKHREP-UHFFFAOYSA-N</td>\n",
       "      <td>0.537456</td>\n",
       "      <td>&lt;rdkit.Chem.rdchem.Mol object at 0x000001B70AD...</td>\n",
       "    </tr>\n",
       "    <tr>\n",
       "      <th>3</th>\n",
       "      <td>TOX-72438</td>\n",
       "      <td>94201</td>\n",
       "      <td>bis(2-ethylhexyl) cyclohexene-1,2-dicarboxylate</td>\n",
       "      <td>CCCCC(CC)COC(=O)C1=C(C(=O)OCC(CC)CCCC)CCCC1</td>\n",
       "      <td>CCCCC(CC)COC(=O)C1=C(C(=O)OCC(CC)CCCC)CCCC1</td>\n",
       "      <td>ZVPBHZIVOWGPMT-UHFFFAOYSA-N</td>\n",
       "      <td>0.539248</td>\n",
       "      <td>&lt;rdkit.Chem.rdchem.Mol object at 0x000001B70AD...</td>\n",
       "    </tr>\n",
       "    <tr>\n",
       "      <th>4</th>\n",
       "      <td>TOX-4318</td>\n",
       "      <td>1030</td>\n",
       "      <td>propane-1,2-diol</td>\n",
       "      <td>CC(O)CO</td>\n",
       "      <td>CC(O)CO</td>\n",
       "      <td>DNIAPMSPPWPWGF-UHFFFAOYSA-N</td>\n",
       "      <td>0.580326</td>\n",
       "      <td>&lt;rdkit.Chem.rdchem.Mol object at 0x000001B70AD...</td>\n",
       "    </tr>\n",
       "    <tr>\n",
       "      <th>...</th>\n",
       "      <td>...</td>\n",
       "      <td>...</td>\n",
       "      <td>...</td>\n",
       "      <td>...</td>\n",
       "      <td>...</td>\n",
       "      <td>...</td>\n",
       "      <td>...</td>\n",
       "      <td>...</td>\n",
       "    </tr>\n",
       "    <tr>\n",
       "      <th>7869</th>\n",
       "      <td>TOX-34548</td>\n",
       "      <td>39729</td>\n",
       "      <td>2,3,7,8-tetrabromodibenzo-p-dioxin</td>\n",
       "      <td>Brc1cc2c(cc1Br)Oc1cc(Br)c(Br)cc1O2</td>\n",
       "      <td>Brc1cc2c(cc1Br)Oc1cc(Br)c(Br)cc1O2</td>\n",
       "      <td>JZLQUWSWOJPCAK-UHFFFAOYSA-N</td>\n",
       "      <td>6.698777</td>\n",
       "      <td>&lt;rdkit.Chem.rdchem.Mol object at 0x000001B709E...</td>\n",
       "    </tr>\n",
       "    <tr>\n",
       "      <th>7870</th>\n",
       "      <td>TOX-2774</td>\n",
       "      <td>3890</td>\n",
       "      <td>propan-2-yl 7-[3,5-dihydroxy-2-(3-hydroxy-5-ph...</td>\n",
       "      <td>CC(C)OC(=O)CCCC=CCC1C(O)CC(O)C1CCC(O)CCc1ccccc1</td>\n",
       "      <td>CC(C)OC(=O)CCCC=CCC1C(O)CC(O)C1CCC(O)CCc1ccccc1</td>\n",
       "      <td>GGXICVAJURFBLW-UHFFFAOYSA-N</td>\n",
       "      <td>6.937118</td>\n",
       "      <td>&lt;rdkit.Chem.rdchem.Mol object at 0x000001B709E...</td>\n",
       "    </tr>\n",
       "    <tr>\n",
       "      <th>7871</th>\n",
       "      <td>TOX-57286</td>\n",
       "      <td>3323</td>\n",
       "      <td>5-[2-[7a-methyl-1-[7,7,7-trifluoro-6-hydroxy-6...</td>\n",
       "      <td>C=C1C(=CC=C2CCCC3(C)C2CCC3C(C)CCCC(O)(C(F)(F)F...</td>\n",
       "      <td>C=C1C(=CC=C2CCCC3(C)C2CCC3C(C)CCCC(O)(C(F)(F)F...</td>\n",
       "      <td>XPYGGHVSFMUHLH-UHFFFAOYSA-N</td>\n",
       "      <td>7.099681</td>\n",
       "      <td>&lt;rdkit.Chem.rdchem.Mol object at 0x000001B709E...</td>\n",
       "    </tr>\n",
       "    <tr>\n",
       "      <th>7872</th>\n",
       "      <td>TOX-6661</td>\n",
       "      <td>9426</td>\n",
       "      <td>2-[(6,7-dimethoxy-1,2,3,4-tetrahydroisoquinoli...</td>\n",
       "      <td>CCC1CN2CCc3cc(OC)c(OC)cc3C2CC1CC1NCCc2cc(OC)c(...</td>\n",
       "      <td>CCC1CN2CCc3cc(OC)c(OC)cc3C2CC1CC1NCCc2cc(OC)c(...</td>\n",
       "      <td>AUVVAXYIELKVAI-UHFFFAOYSA-N</td>\n",
       "      <td>7.602647</td>\n",
       "      <td>&lt;rdkit.Chem.rdchem.Mol object at 0x000001B709E...</td>\n",
       "    </tr>\n",
       "    <tr>\n",
       "      <th>7873</th>\n",
       "      <td>TOX-52756</td>\n",
       "      <td>74051341</td>\n",
       "      <td>(8-acetyl-7-formyl-1,1,4a,6a,10b-pentamethyl-2...</td>\n",
       "      <td>CC(=O)C1=CCC2C3(C)CCC4C(C)(C)CCCC4(C)C3CC(OC(=...</td>\n",
       "      <td>CC(=O)C1=CCC2C3(C)CCC4C(C)(C)CCCC4(C)C3CC(OC(=...</td>\n",
       "      <td>AEQPDNFDABVERI-UHFFFAOYSA-N</td>\n",
       "      <td>9.541127</td>\n",
       "      <td>&lt;rdkit.Chem.rdchem.Mol object at 0x000001B709E...</td>\n",
       "    </tr>\n",
       "  </tbody>\n",
       "</table>\n",
       "<p>7874 rows × 8 columns</p>\n",
       "</div>"
      ],
      "text/plain": [
       "           TAID  Pubchem CID  \\\n",
       "0      TOX-8327        12283   \n",
       "1     TOX-27223        34042   \n",
       "2      TOX-5723         8058   \n",
       "3     TOX-72438        94201   \n",
       "4      TOX-4318         1030   \n",
       "...         ...          ...   \n",
       "7869  TOX-34548        39729   \n",
       "7870   TOX-2774         3890   \n",
       "7871  TOX-57286         3323   \n",
       "7872   TOX-6661         9426   \n",
       "7873  TOX-52756     74051341   \n",
       "\n",
       "                                             IUPAC Name  \\\n",
       "0                      6-methyl-1H-pyrimidine-2,4-dione   \n",
       "1           4-(1,3-benzodioxol-5-yl)butan-2-ylhydrazine   \n",
       "2                                                hexane   \n",
       "3       bis(2-ethylhexyl) cyclohexene-1,2-dicarboxylate   \n",
       "4                                      propane-1,2-diol   \n",
       "...                                                 ...   \n",
       "7869                 2,3,7,8-tetrabromodibenzo-p-dioxin   \n",
       "7870  propan-2-yl 7-[3,5-dihydroxy-2-(3-hydroxy-5-ph...   \n",
       "7871  5-[2-[7a-methyl-1-[7,7,7-trifluoro-6-hydroxy-6...   \n",
       "7872  2-[(6,7-dimethoxy-1,2,3,4-tetrahydroisoquinoli...   \n",
       "7873  (8-acetyl-7-formyl-1,1,4a,6a,10b-pentamethyl-2...   \n",
       "\n",
       "                                                 SMILES  \\\n",
       "0                               Cc1cc(=O)[nH]c(=O)[nH]1   \n",
       "1                               CC(CCc1ccc2c(c1)OCO2)NN   \n",
       "2                                                CCCCCC   \n",
       "3           CCCCC(CC)COC(=O)C1=C(C(=O)OCC(CC)CCCC)CCCC1   \n",
       "4                                               CC(O)CO   \n",
       "...                                                 ...   \n",
       "7869                 Brc1cc2c(cc1Br)Oc1cc(Br)c(Br)cc1O2   \n",
       "7870    CC(C)OC(=O)CCCC=CCC1C(O)CC(O)C1CCC(O)CCc1ccccc1   \n",
       "7871  C=C1C(=CC=C2CCCC3(C)C2CCC3C(C)CCCC(O)(C(F)(F)F...   \n",
       "7872  CCC1CN2CCc3cc(OC)c(OC)cc3C2CC1CC1NCCc2cc(OC)c(...   \n",
       "7873  CC(=O)C1=CCC2C3(C)CCC4C(C)(C)CCCC4(C)C3CC(OC(=...   \n",
       "\n",
       "                                       Canonical_SMILES  \\\n",
       "0                               Cc1cc(=O)[nH]c(=O)[nH]1   \n",
       "1                               CC(CCc1ccc2c(c1)OCO2)NN   \n",
       "2                                                CCCCCC   \n",
       "3           CCCCC(CC)COC(=O)C1=C(C(=O)OCC(CC)CCCC)CCCC1   \n",
       "4                                               CC(O)CO   \n",
       "...                                                 ...   \n",
       "7869                 Brc1cc2c(cc1Br)Oc1cc(Br)c(Br)cc1O2   \n",
       "7870    CC(C)OC(=O)CCCC=CCC1C(O)CC(O)C1CCC(O)CCc1ccccc1   \n",
       "7871  C=C1C(=CC=C2CCCC3(C)C2CCC3C(C)CCCC(O)(C(F)(F)F...   \n",
       "7872  CCC1CN2CCc3cc(OC)c(OC)cc3C2CC1CC1NCCc2cc(OC)c(...   \n",
       "7873  CC(=O)C1=CCC2C3(C)CCC4C(C)(C)CCCC4(C)C3CC(OC(=...   \n",
       "\n",
       "                         InChIKey  rat_oral_LD50  \\\n",
       "0     SHVCSCWHWMSGTE-UHFFFAOYSA-N       0.291207   \n",
       "1     IBWPUTAKVGZXRB-UHFFFAOYSA-N       0.440661   \n",
       "2     VLKZOEOYAKHREP-UHFFFAOYSA-N       0.537456   \n",
       "3     ZVPBHZIVOWGPMT-UHFFFAOYSA-N       0.539248   \n",
       "4     DNIAPMSPPWPWGF-UHFFFAOYSA-N       0.580326   \n",
       "...                           ...            ...   \n",
       "7869  JZLQUWSWOJPCAK-UHFFFAOYSA-N       6.698777   \n",
       "7870  GGXICVAJURFBLW-UHFFFAOYSA-N       6.937118   \n",
       "7871  XPYGGHVSFMUHLH-UHFFFAOYSA-N       7.099681   \n",
       "7872  AUVVAXYIELKVAI-UHFFFAOYSA-N       7.602647   \n",
       "7873  AEQPDNFDABVERI-UHFFFAOYSA-N       9.541127   \n",
       "\n",
       "                                               Molecule  \n",
       "0     <rdkit.Chem.rdchem.Mol object at 0x000001B70AD...  \n",
       "1     <rdkit.Chem.rdchem.Mol object at 0x000001B70AD...  \n",
       "2     <rdkit.Chem.rdchem.Mol object at 0x000001B70AD...  \n",
       "3     <rdkit.Chem.rdchem.Mol object at 0x000001B70AD...  \n",
       "4     <rdkit.Chem.rdchem.Mol object at 0x000001B70AD...  \n",
       "...                                                 ...  \n",
       "7869  <rdkit.Chem.rdchem.Mol object at 0x000001B709E...  \n",
       "7870  <rdkit.Chem.rdchem.Mol object at 0x000001B709E...  \n",
       "7871  <rdkit.Chem.rdchem.Mol object at 0x000001B709E...  \n",
       "7872  <rdkit.Chem.rdchem.Mol object at 0x000001B709E...  \n",
       "7873  <rdkit.Chem.rdchem.Mol object at 0x000001B709E...  \n",
       "\n",
       "[7874 rows x 8 columns]"
      ]
     },
     "execution_count": 10,
     "metadata": {},
     "output_type": "execute_result"
    }
   ],
   "source": [
    "df_ws"
   ]
  },
  {
   "cell_type": "code",
   "execution_count": 11,
   "metadata": {},
   "outputs": [
    {
     "data": {
      "text/plain": [
       "0       0.291207\n",
       "1       0.440661\n",
       "2       0.537456\n",
       "3       0.539248\n",
       "4       0.580326\n",
       "          ...   \n",
       "7869    6.698777\n",
       "7870    6.937118\n",
       "7871    7.099681\n",
       "7872    7.602647\n",
       "7873    9.541127\n",
       "Name: rat_oral_LD50, Length: 7874, dtype: float64"
      ]
     },
     "execution_count": 11,
     "metadata": {},
     "output_type": "execute_result"
    }
   ],
   "source": [
    "y_tr=df_ws.rat_oral_LD50\t\n",
    "y_tr"
   ]
  },
  {
   "cell_type": "code",
   "execution_count": 12,
   "metadata": {},
   "outputs": [
    {
     "data": {
      "text/html": [
       "<div>\n",
       "<style scoped>\n",
       "    .dataframe tbody tr th:only-of-type {\n",
       "        vertical-align: middle;\n",
       "    }\n",
       "\n",
       "    .dataframe tbody tr th {\n",
       "        vertical-align: top;\n",
       "    }\n",
       "\n",
       "    .dataframe thead th {\n",
       "        text-align: right;\n",
       "    }\n",
       "</style>\n",
       "<table border=\"1\" class=\"dataframe\">\n",
       "  <thead>\n",
       "    <tr style=\"text-align: right;\">\n",
       "      <th></th>\n",
       "      <th>SMILES</th>\n",
       "    </tr>\n",
       "  </thead>\n",
       "  <tbody>\n",
       "    <tr>\n",
       "      <th>0</th>\n",
       "      <td>Cc1cc(=O)[nH]c(=O)[nH]1</td>\n",
       "    </tr>\n",
       "    <tr>\n",
       "      <th>1</th>\n",
       "      <td>CC(CCc1ccc2c(c1)OCO2)NN</td>\n",
       "    </tr>\n",
       "    <tr>\n",
       "      <th>2</th>\n",
       "      <td>CCCCCC</td>\n",
       "    </tr>\n",
       "    <tr>\n",
       "      <th>3</th>\n",
       "      <td>CCCCC(CC)COC(=O)C1=C(C(=O)OCC(CC)CCCC)CCCC1</td>\n",
       "    </tr>\n",
       "    <tr>\n",
       "      <th>4</th>\n",
       "      <td>CC(O)CO</td>\n",
       "    </tr>\n",
       "    <tr>\n",
       "      <th>...</th>\n",
       "      <td>...</td>\n",
       "    </tr>\n",
       "    <tr>\n",
       "      <th>7869</th>\n",
       "      <td>Brc1cc2c(cc1Br)Oc1cc(Br)c(Br)cc1O2</td>\n",
       "    </tr>\n",
       "    <tr>\n",
       "      <th>7870</th>\n",
       "      <td>CC(C)OC(=O)CCCC=CCC1C(O)CC(O)C1CCC(O)CCc1ccccc1</td>\n",
       "    </tr>\n",
       "    <tr>\n",
       "      <th>7871</th>\n",
       "      <td>C=C1C(=CC=C2CCCC3(C)C2CCC3C(C)CCCC(O)(C(F)(F)F...</td>\n",
       "    </tr>\n",
       "    <tr>\n",
       "      <th>7872</th>\n",
       "      <td>CCC1CN2CCc3cc(OC)c(OC)cc3C2CC1CC1NCCc2cc(OC)c(...</td>\n",
       "    </tr>\n",
       "    <tr>\n",
       "      <th>7873</th>\n",
       "      <td>CC(=O)C1=CCC2C3(C)CCC4C(C)(C)CCCC4(C)C3CC(OC(=...</td>\n",
       "    </tr>\n",
       "  </tbody>\n",
       "</table>\n",
       "<p>7874 rows × 1 columns</p>\n",
       "</div>"
      ],
      "text/plain": [
       "                                                 SMILES\n",
       "0                               Cc1cc(=O)[nH]c(=O)[nH]1\n",
       "1                               CC(CCc1ccc2c(c1)OCO2)NN\n",
       "2                                                CCCCCC\n",
       "3           CCCCC(CC)COC(=O)C1=C(C(=O)OCC(CC)CCCC)CCCC1\n",
       "4                                               CC(O)CO\n",
       "...                                                 ...\n",
       "7869                 Brc1cc2c(cc1Br)Oc1cc(Br)c(Br)cc1O2\n",
       "7870    CC(C)OC(=O)CCCC=CCC1C(O)CC(O)C1CCC(O)CCc1ccccc1\n",
       "7871  C=C1C(=CC=C2CCCC3(C)C2CCC3C(C)CCCC(O)(C(F)(F)F...\n",
       "7872  CCC1CN2CCc3cc(OC)c(OC)cc3C2CC1CC1NCCc2cc(OC)c(...\n",
       "7873  CC(=O)C1=CCC2C3(C)CCC4C(C)(C)CCCC4(C)C3CC(OC(=...\n",
       "\n",
       "[7874 rows x 1 columns]"
      ]
     },
     "execution_count": 12,
     "metadata": {},
     "output_type": "execute_result"
    }
   ],
   "source": [
    "df = pd.DataFrame(df_ws, columns=[\"SMILES\"])\n",
    "df"
   ]
  },
  {
   "cell_type": "code",
   "execution_count": 13,
   "metadata": {},
   "outputs": [],
   "source": [
    "df.to_csv('datasets/molecule_ws.smi', sep=',', index=False, header=False)"
   ]
  },
  {
   "cell_type": "code",
   "execution_count": 14,
   "metadata": {},
   "outputs": [],
   "source": [
    "moldf_ws=df_ws.Molecule"
   ]
  },
  {
   "cell_type": "markdown",
   "metadata": {},
   "source": [
    "##  Load data and curation test set"
   ]
  },
  {
   "cell_type": "code",
   "execution_count": 16,
   "metadata": {
    "scrolled": true
   },
   "outputs": [
    {
     "data": {
      "text/html": [
       "<div>\n",
       "<style scoped>\n",
       "    .dataframe tbody tr th:only-of-type {\n",
       "        vertical-align: middle;\n",
       "    }\n",
       "\n",
       "    .dataframe tbody tr th {\n",
       "        vertical-align: top;\n",
       "    }\n",
       "\n",
       "    .dataframe thead th {\n",
       "        text-align: right;\n",
       "    }\n",
       "</style>\n",
       "<table border=\"1\" class=\"dataframe\">\n",
       "  <thead>\n",
       "    <tr style=\"text-align: right;\">\n",
       "      <th></th>\n",
       "      <th>TAID</th>\n",
       "      <th>Pubchem CID</th>\n",
       "      <th>IUPAC Name</th>\n",
       "      <th>SMILES</th>\n",
       "      <th>Canonical_SMILES</th>\n",
       "      <th>InChIKey</th>\n",
       "      <th>rat_oral_LD50</th>\n",
       "    </tr>\n",
       "  </thead>\n",
       "  <tbody>\n",
       "    <tr>\n",
       "      <th>0</th>\n",
       "      <td>TOX-17137</td>\n",
       "      <td>297</td>\n",
       "      <td>methane</td>\n",
       "      <td>C</td>\n",
       "      <td>C</td>\n",
       "      <td>VNWKTOKETHGBQD-UHFFFAOYSA-N</td>\n",
       "      <td>0.017765</td>\n",
       "    </tr>\n",
       "    <tr>\n",
       "      <th>1</th>\n",
       "      <td>TOX-107853</td>\n",
       "      <td>17827</td>\n",
       "      <td>2-(cyclohexylamino)ethanol</td>\n",
       "      <td>OCCNC1CCCCC1</td>\n",
       "      <td>OCCNC1CCCCC1</td>\n",
       "      <td>MGUMZJAQENFQKN-UHFFFAOYSA-N</td>\n",
       "      <td>0.572835</td>\n",
       "    </tr>\n",
       "    <tr>\n",
       "      <th>2</th>\n",
       "      <td>TOX-44620</td>\n",
       "      <td>974</td>\n",
       "      <td>oxamic acid</td>\n",
       "      <td>NC(=O)C(=O)O</td>\n",
       "      <td>NC(=O)C(=O)O</td>\n",
       "      <td>SOWBFZRMHSNYGE-UHFFFAOYSA-N</td>\n",
       "      <td>0.624488</td>\n",
       "    </tr>\n",
       "    <tr>\n",
       "      <th>3</th>\n",
       "      <td>TOX-11368</td>\n",
       "      <td>62433</td>\n",
       "      <td>pentyl pentanoate</td>\n",
       "      <td>CCCCCOC(=O)CCCC</td>\n",
       "      <td>CCCCCOC(=O)CCCC</td>\n",
       "      <td>FGPPDYNPZTUNIU-UHFFFAOYSA-N</td>\n",
       "      <td>0.686956</td>\n",
       "    </tr>\n",
       "    <tr>\n",
       "      <th>4</th>\n",
       "      <td>TOX-7935</td>\n",
       "      <td>11429</td>\n",
       "      <td>butane-1,2-diol</td>\n",
       "      <td>CCC(O)CO</td>\n",
       "      <td>CCC(O)CO</td>\n",
       "      <td>BMRWNKZVCUKKSR-UHFFFAOYSA-N</td>\n",
       "      <td>0.750711</td>\n",
       "    </tr>\n",
       "    <tr>\n",
       "      <th>...</th>\n",
       "      <td>...</td>\n",
       "      <td>...</td>\n",
       "      <td>...</td>\n",
       "      <td>...</td>\n",
       "      <td>...</td>\n",
       "      <td>...</td>\n",
       "      <td>...</td>\n",
       "    </tr>\n",
       "    <tr>\n",
       "      <th>1964</th>\n",
       "      <td>TOX-31209</td>\n",
       "      <td>123453</td>\n",
       "      <td>N-(2,8,9-trioxa-5-aza-1-silabicyclo[3.3.3]unde...</td>\n",
       "      <td>c1ccc(NC[Si]23OCCN(CCO2)CCO3)cc1</td>\n",
       "      <td>c1ccc(NC[Si]23OCCN(CCO2)CCO3)cc1</td>\n",
       "      <td>YGHSPISFNKUQEY-UHFFFAOYSA-N</td>\n",
       "      <td>5.931904</td>\n",
       "    </tr>\n",
       "    <tr>\n",
       "      <th>1965</th>\n",
       "      <td>TOX-63960</td>\n",
       "      <td>91771</td>\n",
       "      <td>3-[3-[4-(4-bromophenyl)phenyl]-1,2,3,4-tetrahy...</td>\n",
       "      <td>O=c1sc2ccccc2c(O)c1C1CC(c2ccc(-c3ccc(Br)cc3)cc...</td>\n",
       "      <td>O=c1sc2ccccc2c(O)c1C1CC(c2ccc(-c3ccc(Br)cc3)cc...</td>\n",
       "      <td>VSVAQRUUFVBBFS-UHFFFAOYSA-N</td>\n",
       "      <td>5.991624</td>\n",
       "    </tr>\n",
       "    <tr>\n",
       "      <th>1966</th>\n",
       "      <td>TOX-33005</td>\n",
       "      <td>38439</td>\n",
       "      <td>1,2,3,7,8-pentachlorodibenzo-p-dioxin</td>\n",
       "      <td>Clc1cc2c(cc1Cl)Oc1c(cc(Cl)c(Cl)c1Cl)O2</td>\n",
       "      <td>Clc1cc2c(cc1Cl)Oc1c(cc(Cl)c(Cl)c1Cl)O2</td>\n",
       "      <td>FSPZPQQWDODWAU-UHFFFAOYSA-N</td>\n",
       "      <td>6.238094</td>\n",
       "    </tr>\n",
       "    <tr>\n",
       "      <th>1967</th>\n",
       "      <td>TOX-24685</td>\n",
       "      <td>198007</td>\n",
       "      <td>3-ethyl-N-[methoxy(methylsulfanyl)phosphoryl]-...</td>\n",
       "      <td>CCN1CC(C)OC1=NP(=O)(OC)SC</td>\n",
       "      <td>CCN1CC(C)OC1=NP(=O)(OC)SC</td>\n",
       "      <td>JCYANUVOCLKHHY-UHFFFAOYSA-N</td>\n",
       "      <td>6.401876</td>\n",
       "    </tr>\n",
       "    <tr>\n",
       "      <th>1968</th>\n",
       "      <td>TOX-2398</td>\n",
       "      <td>15625</td>\n",
       "      <td>2,3,7,8-tetrachlorodibenzo-p-dioxin</td>\n",
       "      <td>Clc1cc2c(cc1Cl)Oc1cc(Cl)c(Cl)cc1O2</td>\n",
       "      <td>Clc1cc2c(cc1Cl)Oc1cc(Cl)c(Cl)cc1O2</td>\n",
       "      <td>HGUFODBRKLSHSI-UHFFFAOYSA-N</td>\n",
       "      <td>7.206791</td>\n",
       "    </tr>\n",
       "  </tbody>\n",
       "</table>\n",
       "<p>1969 rows × 7 columns</p>\n",
       "</div>"
      ],
      "text/plain": [
       "            TAID  Pubchem CID  \\\n",
       "0      TOX-17137          297   \n",
       "1     TOX-107853        17827   \n",
       "2      TOX-44620          974   \n",
       "3      TOX-11368        62433   \n",
       "4       TOX-7935        11429   \n",
       "...          ...          ...   \n",
       "1964   TOX-31209       123453   \n",
       "1965   TOX-63960        91771   \n",
       "1966   TOX-33005        38439   \n",
       "1967   TOX-24685       198007   \n",
       "1968    TOX-2398        15625   \n",
       "\n",
       "                                             IUPAC Name  \\\n",
       "0                                               methane   \n",
       "1                            2-(cyclohexylamino)ethanol   \n",
       "2                                           oxamic acid   \n",
       "3                                     pentyl pentanoate   \n",
       "4                                       butane-1,2-diol   \n",
       "...                                                 ...   \n",
       "1964  N-(2,8,9-trioxa-5-aza-1-silabicyclo[3.3.3]unde...   \n",
       "1965  3-[3-[4-(4-bromophenyl)phenyl]-1,2,3,4-tetrahy...   \n",
       "1966              1,2,3,7,8-pentachlorodibenzo-p-dioxin   \n",
       "1967  3-ethyl-N-[methoxy(methylsulfanyl)phosphoryl]-...   \n",
       "1968                2,3,7,8-tetrachlorodibenzo-p-dioxin   \n",
       "\n",
       "                                                 SMILES  \\\n",
       "0                                                     C   \n",
       "1                                          OCCNC1CCCCC1   \n",
       "2                                          NC(=O)C(=O)O   \n",
       "3                                       CCCCCOC(=O)CCCC   \n",
       "4                                              CCC(O)CO   \n",
       "...                                                 ...   \n",
       "1964                   c1ccc(NC[Si]23OCCN(CCO2)CCO3)cc1   \n",
       "1965  O=c1sc2ccccc2c(O)c1C1CC(c2ccc(-c3ccc(Br)cc3)cc...   \n",
       "1966             Clc1cc2c(cc1Cl)Oc1c(cc(Cl)c(Cl)c1Cl)O2   \n",
       "1967                          CCN1CC(C)OC1=NP(=O)(OC)SC   \n",
       "1968                 Clc1cc2c(cc1Cl)Oc1cc(Cl)c(Cl)cc1O2   \n",
       "\n",
       "                                       Canonical_SMILES  \\\n",
       "0                                                     C   \n",
       "1                                          OCCNC1CCCCC1   \n",
       "2                                          NC(=O)C(=O)O   \n",
       "3                                       CCCCCOC(=O)CCCC   \n",
       "4                                              CCC(O)CO   \n",
       "...                                                 ...   \n",
       "1964                   c1ccc(NC[Si]23OCCN(CCO2)CCO3)cc1   \n",
       "1965  O=c1sc2ccccc2c(O)c1C1CC(c2ccc(-c3ccc(Br)cc3)cc...   \n",
       "1966             Clc1cc2c(cc1Cl)Oc1c(cc(Cl)c(Cl)c1Cl)O2   \n",
       "1967                          CCN1CC(C)OC1=NP(=O)(OC)SC   \n",
       "1968                 Clc1cc2c(cc1Cl)Oc1cc(Cl)c(Cl)cc1O2   \n",
       "\n",
       "                         InChIKey  rat_oral_LD50  \n",
       "0     VNWKTOKETHGBQD-UHFFFAOYSA-N       0.017765  \n",
       "1     MGUMZJAQENFQKN-UHFFFAOYSA-N       0.572835  \n",
       "2     SOWBFZRMHSNYGE-UHFFFAOYSA-N       0.624488  \n",
       "3     FGPPDYNPZTUNIU-UHFFFAOYSA-N       0.686956  \n",
       "4     BMRWNKZVCUKKSR-UHFFFAOYSA-N       0.750711  \n",
       "...                           ...            ...  \n",
       "1964  YGHSPISFNKUQEY-UHFFFAOYSA-N       5.931904  \n",
       "1965  VSVAQRUUFVBBFS-UHFFFAOYSA-N       5.991624  \n",
       "1966  FSPZPQQWDODWAU-UHFFFAOYSA-N       6.238094  \n",
       "1967  JCYANUVOCLKHHY-UHFFFAOYSA-N       6.401876  \n",
       "1968  HGUFODBRKLSHSI-UHFFFAOYSA-N       7.206791  \n",
       "\n",
       "[1969 rows x 7 columns]"
      ]
     },
     "execution_count": 16,
     "metadata": {},
     "output_type": "execute_result"
    }
   ],
   "source": [
    "df_ts=pd.read_csv('datasets/rat_oral_LD50_TS.csv')\n",
    "df_ts"
   ]
  },
  {
   "cell_type": "markdown",
   "metadata": {},
   "source": [
    " # Standardization for test set"
   ]
  },
  {
   "cell_type": "code",
   "execution_count": 18,
   "metadata": {},
   "outputs": [
    {
     "name": "stdout",
     "output_type": "stream",
     "text": [
      "Kept data:  1969 molecules\n"
     ]
    }
   ],
   "source": [
    "df_ts[\"Molecule\"] = df_ts.apply(lambda x: standart(x.Canonical_SMILES), axis=1)\n",
    "moldf_ts=df_ts[df_ts['SMILES']!='wrong_smiles']\n",
    "print('Kept data: ', len(moldf_ts), 'molecules')"
   ]
  },
  {
   "cell_type": "code",
   "execution_count": 19,
   "metadata": {},
   "outputs": [
    {
     "data": {
      "text/html": [
       "<div>\n",
       "<style scoped>\n",
       "    .dataframe tbody tr th:only-of-type {\n",
       "        vertical-align: middle;\n",
       "    }\n",
       "\n",
       "    .dataframe tbody tr th {\n",
       "        vertical-align: top;\n",
       "    }\n",
       "\n",
       "    .dataframe thead th {\n",
       "        text-align: right;\n",
       "    }\n",
       "</style>\n",
       "<table border=\"1\" class=\"dataframe\">\n",
       "  <thead>\n",
       "    <tr style=\"text-align: right;\">\n",
       "      <th></th>\n",
       "      <th>TAID</th>\n",
       "      <th>Pubchem CID</th>\n",
       "      <th>IUPAC Name</th>\n",
       "      <th>SMILES</th>\n",
       "      <th>Canonical_SMILES</th>\n",
       "      <th>InChIKey</th>\n",
       "      <th>rat_oral_LD50</th>\n",
       "      <th>Molecule</th>\n",
       "    </tr>\n",
       "  </thead>\n",
       "  <tbody>\n",
       "    <tr>\n",
       "      <th>0</th>\n",
       "      <td>TOX-17137</td>\n",
       "      <td>297</td>\n",
       "      <td>methane</td>\n",
       "      <td>C</td>\n",
       "      <td>C</td>\n",
       "      <td>VNWKTOKETHGBQD-UHFFFAOYSA-N</td>\n",
       "      <td>0.017765</td>\n",
       "      <td>&lt;rdkit.Chem.rdchem.Mol object at 0x000001B709E...</td>\n",
       "    </tr>\n",
       "    <tr>\n",
       "      <th>1</th>\n",
       "      <td>TOX-107853</td>\n",
       "      <td>17827</td>\n",
       "      <td>2-(cyclohexylamino)ethanol</td>\n",
       "      <td>OCCNC1CCCCC1</td>\n",
       "      <td>OCCNC1CCCCC1</td>\n",
       "      <td>MGUMZJAQENFQKN-UHFFFAOYSA-N</td>\n",
       "      <td>0.572835</td>\n",
       "      <td>&lt;rdkit.Chem.rdchem.Mol object at 0x000001B70AD...</td>\n",
       "    </tr>\n",
       "    <tr>\n",
       "      <th>2</th>\n",
       "      <td>TOX-44620</td>\n",
       "      <td>974</td>\n",
       "      <td>oxamic acid</td>\n",
       "      <td>NC(=O)C(=O)O</td>\n",
       "      <td>NC(=O)C(=O)O</td>\n",
       "      <td>SOWBFZRMHSNYGE-UHFFFAOYSA-N</td>\n",
       "      <td>0.624488</td>\n",
       "      <td>&lt;rdkit.Chem.rdchem.Mol object at 0x000001B70AD...</td>\n",
       "    </tr>\n",
       "    <tr>\n",
       "      <th>3</th>\n",
       "      <td>TOX-11368</td>\n",
       "      <td>62433</td>\n",
       "      <td>pentyl pentanoate</td>\n",
       "      <td>CCCCCOC(=O)CCCC</td>\n",
       "      <td>CCCCCOC(=O)CCCC</td>\n",
       "      <td>FGPPDYNPZTUNIU-UHFFFAOYSA-N</td>\n",
       "      <td>0.686956</td>\n",
       "      <td>&lt;rdkit.Chem.rdchem.Mol object at 0x000001B70AD...</td>\n",
       "    </tr>\n",
       "    <tr>\n",
       "      <th>4</th>\n",
       "      <td>TOX-7935</td>\n",
       "      <td>11429</td>\n",
       "      <td>butane-1,2-diol</td>\n",
       "      <td>CCC(O)CO</td>\n",
       "      <td>CCC(O)CO</td>\n",
       "      <td>BMRWNKZVCUKKSR-UHFFFAOYSA-N</td>\n",
       "      <td>0.750711</td>\n",
       "      <td>&lt;rdkit.Chem.rdchem.Mol object at 0x000001B70AD...</td>\n",
       "    </tr>\n",
       "    <tr>\n",
       "      <th>...</th>\n",
       "      <td>...</td>\n",
       "      <td>...</td>\n",
       "      <td>...</td>\n",
       "      <td>...</td>\n",
       "      <td>...</td>\n",
       "      <td>...</td>\n",
       "      <td>...</td>\n",
       "      <td>...</td>\n",
       "    </tr>\n",
       "    <tr>\n",
       "      <th>1964</th>\n",
       "      <td>TOX-31209</td>\n",
       "      <td>123453</td>\n",
       "      <td>N-(2,8,9-trioxa-5-aza-1-silabicyclo[3.3.3]unde...</td>\n",
       "      <td>c1ccc(NC[Si]23OCCN(CCO2)CCO3)cc1</td>\n",
       "      <td>c1ccc(NC[Si]23OCCN(CCO2)CCO3)cc1</td>\n",
       "      <td>YGHSPISFNKUQEY-UHFFFAOYSA-N</td>\n",
       "      <td>5.931904</td>\n",
       "      <td>&lt;rdkit.Chem.rdchem.Mol object at 0x000001B70A0...</td>\n",
       "    </tr>\n",
       "    <tr>\n",
       "      <th>1965</th>\n",
       "      <td>TOX-63960</td>\n",
       "      <td>91771</td>\n",
       "      <td>3-[3-[4-(4-bromophenyl)phenyl]-1,2,3,4-tetrahy...</td>\n",
       "      <td>O=c1sc2ccccc2c(O)c1C1CC(c2ccc(-c3ccc(Br)cc3)cc...</td>\n",
       "      <td>O=c1sc2ccccc2c(O)c1C1CC(c2ccc(-c3ccc(Br)cc3)cc...</td>\n",
       "      <td>VSVAQRUUFVBBFS-UHFFFAOYSA-N</td>\n",
       "      <td>5.991624</td>\n",
       "      <td>&lt;rdkit.Chem.rdchem.Mol object at 0x000001B70A0...</td>\n",
       "    </tr>\n",
       "    <tr>\n",
       "      <th>1966</th>\n",
       "      <td>TOX-33005</td>\n",
       "      <td>38439</td>\n",
       "      <td>1,2,3,7,8-pentachlorodibenzo-p-dioxin</td>\n",
       "      <td>Clc1cc2c(cc1Cl)Oc1c(cc(Cl)c(Cl)c1Cl)O2</td>\n",
       "      <td>Clc1cc2c(cc1Cl)Oc1c(cc(Cl)c(Cl)c1Cl)O2</td>\n",
       "      <td>FSPZPQQWDODWAU-UHFFFAOYSA-N</td>\n",
       "      <td>6.238094</td>\n",
       "      <td>&lt;rdkit.Chem.rdchem.Mol object at 0x000001B70A0...</td>\n",
       "    </tr>\n",
       "    <tr>\n",
       "      <th>1967</th>\n",
       "      <td>TOX-24685</td>\n",
       "      <td>198007</td>\n",
       "      <td>3-ethyl-N-[methoxy(methylsulfanyl)phosphoryl]-...</td>\n",
       "      <td>CCN1CC(C)OC1=NP(=O)(OC)SC</td>\n",
       "      <td>CCN1CC(C)OC1=NP(=O)(OC)SC</td>\n",
       "      <td>JCYANUVOCLKHHY-UHFFFAOYSA-N</td>\n",
       "      <td>6.401876</td>\n",
       "      <td>&lt;rdkit.Chem.rdchem.Mol object at 0x000001B70A0...</td>\n",
       "    </tr>\n",
       "    <tr>\n",
       "      <th>1968</th>\n",
       "      <td>TOX-2398</td>\n",
       "      <td>15625</td>\n",
       "      <td>2,3,7,8-tetrachlorodibenzo-p-dioxin</td>\n",
       "      <td>Clc1cc2c(cc1Cl)Oc1cc(Cl)c(Cl)cc1O2</td>\n",
       "      <td>Clc1cc2c(cc1Cl)Oc1cc(Cl)c(Cl)cc1O2</td>\n",
       "      <td>HGUFODBRKLSHSI-UHFFFAOYSA-N</td>\n",
       "      <td>7.206791</td>\n",
       "      <td>&lt;rdkit.Chem.rdchem.Mol object at 0x000001B70A0...</td>\n",
       "    </tr>\n",
       "  </tbody>\n",
       "</table>\n",
       "<p>1969 rows × 8 columns</p>\n",
       "</div>"
      ],
      "text/plain": [
       "            TAID  Pubchem CID  \\\n",
       "0      TOX-17137          297   \n",
       "1     TOX-107853        17827   \n",
       "2      TOX-44620          974   \n",
       "3      TOX-11368        62433   \n",
       "4       TOX-7935        11429   \n",
       "...          ...          ...   \n",
       "1964   TOX-31209       123453   \n",
       "1965   TOX-63960        91771   \n",
       "1966   TOX-33005        38439   \n",
       "1967   TOX-24685       198007   \n",
       "1968    TOX-2398        15625   \n",
       "\n",
       "                                             IUPAC Name  \\\n",
       "0                                               methane   \n",
       "1                            2-(cyclohexylamino)ethanol   \n",
       "2                                           oxamic acid   \n",
       "3                                     pentyl pentanoate   \n",
       "4                                       butane-1,2-diol   \n",
       "...                                                 ...   \n",
       "1964  N-(2,8,9-trioxa-5-aza-1-silabicyclo[3.3.3]unde...   \n",
       "1965  3-[3-[4-(4-bromophenyl)phenyl]-1,2,3,4-tetrahy...   \n",
       "1966              1,2,3,7,8-pentachlorodibenzo-p-dioxin   \n",
       "1967  3-ethyl-N-[methoxy(methylsulfanyl)phosphoryl]-...   \n",
       "1968                2,3,7,8-tetrachlorodibenzo-p-dioxin   \n",
       "\n",
       "                                                 SMILES  \\\n",
       "0                                                     C   \n",
       "1                                          OCCNC1CCCCC1   \n",
       "2                                          NC(=O)C(=O)O   \n",
       "3                                       CCCCCOC(=O)CCCC   \n",
       "4                                              CCC(O)CO   \n",
       "...                                                 ...   \n",
       "1964                   c1ccc(NC[Si]23OCCN(CCO2)CCO3)cc1   \n",
       "1965  O=c1sc2ccccc2c(O)c1C1CC(c2ccc(-c3ccc(Br)cc3)cc...   \n",
       "1966             Clc1cc2c(cc1Cl)Oc1c(cc(Cl)c(Cl)c1Cl)O2   \n",
       "1967                          CCN1CC(C)OC1=NP(=O)(OC)SC   \n",
       "1968                 Clc1cc2c(cc1Cl)Oc1cc(Cl)c(Cl)cc1O2   \n",
       "\n",
       "                                       Canonical_SMILES  \\\n",
       "0                                                     C   \n",
       "1                                          OCCNC1CCCCC1   \n",
       "2                                          NC(=O)C(=O)O   \n",
       "3                                       CCCCCOC(=O)CCCC   \n",
       "4                                              CCC(O)CO   \n",
       "...                                                 ...   \n",
       "1964                   c1ccc(NC[Si]23OCCN(CCO2)CCO3)cc1   \n",
       "1965  O=c1sc2ccccc2c(O)c1C1CC(c2ccc(-c3ccc(Br)cc3)cc...   \n",
       "1966             Clc1cc2c(cc1Cl)Oc1c(cc(Cl)c(Cl)c1Cl)O2   \n",
       "1967                          CCN1CC(C)OC1=NP(=O)(OC)SC   \n",
       "1968                 Clc1cc2c(cc1Cl)Oc1cc(Cl)c(Cl)cc1O2   \n",
       "\n",
       "                         InChIKey  rat_oral_LD50  \\\n",
       "0     VNWKTOKETHGBQD-UHFFFAOYSA-N       0.017765   \n",
       "1     MGUMZJAQENFQKN-UHFFFAOYSA-N       0.572835   \n",
       "2     SOWBFZRMHSNYGE-UHFFFAOYSA-N       0.624488   \n",
       "3     FGPPDYNPZTUNIU-UHFFFAOYSA-N       0.686956   \n",
       "4     BMRWNKZVCUKKSR-UHFFFAOYSA-N       0.750711   \n",
       "...                           ...            ...   \n",
       "1964  YGHSPISFNKUQEY-UHFFFAOYSA-N       5.931904   \n",
       "1965  VSVAQRUUFVBBFS-UHFFFAOYSA-N       5.991624   \n",
       "1966  FSPZPQQWDODWAU-UHFFFAOYSA-N       6.238094   \n",
       "1967  JCYANUVOCLKHHY-UHFFFAOYSA-N       6.401876   \n",
       "1968  HGUFODBRKLSHSI-UHFFFAOYSA-N       7.206791   \n",
       "\n",
       "                                               Molecule  \n",
       "0     <rdkit.Chem.rdchem.Mol object at 0x000001B709E...  \n",
       "1     <rdkit.Chem.rdchem.Mol object at 0x000001B70AD...  \n",
       "2     <rdkit.Chem.rdchem.Mol object at 0x000001B70AD...  \n",
       "3     <rdkit.Chem.rdchem.Mol object at 0x000001B70AD...  \n",
       "4     <rdkit.Chem.rdchem.Mol object at 0x000001B70AD...  \n",
       "...                                                 ...  \n",
       "1964  <rdkit.Chem.rdchem.Mol object at 0x000001B70A0...  \n",
       "1965  <rdkit.Chem.rdchem.Mol object at 0x000001B70A0...  \n",
       "1966  <rdkit.Chem.rdchem.Mol object at 0x000001B70A0...  \n",
       "1967  <rdkit.Chem.rdchem.Mol object at 0x000001B70A0...  \n",
       "1968  <rdkit.Chem.rdchem.Mol object at 0x000001B70A0...  \n",
       "\n",
       "[1969 rows x 8 columns]"
      ]
     },
     "execution_count": 19,
     "metadata": {},
     "output_type": "execute_result"
    }
   ],
   "source": [
    "moldf_ts"
   ]
  },
  {
   "cell_type": "code",
   "execution_count": 20,
   "metadata": {},
   "outputs": [
    {
     "data": {
      "text/plain": [
       "0       0.017765\n",
       "1       0.572835\n",
       "2       0.624488\n",
       "3       0.686956\n",
       "4       0.750711\n",
       "          ...   \n",
       "1964    5.931904\n",
       "1965    5.991624\n",
       "1966    6.238094\n",
       "1967    6.401876\n",
       "1968    7.206791\n",
       "Name: rat_oral_LD50, Length: 1969, dtype: float64"
      ]
     },
     "execution_count": 20,
     "metadata": {},
     "output_type": "execute_result"
    }
   ],
   "source": [
    "y_ts=moldf_ts.rat_oral_LD50\n",
    "y_ts"
   ]
  },
  {
   "cell_type": "code",
   "execution_count": 21,
   "metadata": {},
   "outputs": [
    {
     "data": {
      "text/html": [
       "<div>\n",
       "<style scoped>\n",
       "    .dataframe tbody tr th:only-of-type {\n",
       "        vertical-align: middle;\n",
       "    }\n",
       "\n",
       "    .dataframe tbody tr th {\n",
       "        vertical-align: top;\n",
       "    }\n",
       "\n",
       "    .dataframe thead th {\n",
       "        text-align: right;\n",
       "    }\n",
       "</style>\n",
       "<table border=\"1\" class=\"dataframe\">\n",
       "  <thead>\n",
       "    <tr style=\"text-align: right;\">\n",
       "      <th></th>\n",
       "      <th>SMILES</th>\n",
       "    </tr>\n",
       "  </thead>\n",
       "  <tbody>\n",
       "    <tr>\n",
       "      <th>0</th>\n",
       "      <td>C</td>\n",
       "    </tr>\n",
       "    <tr>\n",
       "      <th>1</th>\n",
       "      <td>OCCNC1CCCCC1</td>\n",
       "    </tr>\n",
       "    <tr>\n",
       "      <th>2</th>\n",
       "      <td>NC(=O)C(=O)O</td>\n",
       "    </tr>\n",
       "    <tr>\n",
       "      <th>3</th>\n",
       "      <td>CCCCCOC(=O)CCCC</td>\n",
       "    </tr>\n",
       "    <tr>\n",
       "      <th>4</th>\n",
       "      <td>CCC(O)CO</td>\n",
       "    </tr>\n",
       "    <tr>\n",
       "      <th>...</th>\n",
       "      <td>...</td>\n",
       "    </tr>\n",
       "    <tr>\n",
       "      <th>1964</th>\n",
       "      <td>c1ccc(NC[Si]23OCCN(CCO2)CCO3)cc1</td>\n",
       "    </tr>\n",
       "    <tr>\n",
       "      <th>1965</th>\n",
       "      <td>O=c1sc2ccccc2c(O)c1C1CC(c2ccc(-c3ccc(Br)cc3)cc...</td>\n",
       "    </tr>\n",
       "    <tr>\n",
       "      <th>1966</th>\n",
       "      <td>Clc1cc2c(cc1Cl)Oc1c(cc(Cl)c(Cl)c1Cl)O2</td>\n",
       "    </tr>\n",
       "    <tr>\n",
       "      <th>1967</th>\n",
       "      <td>CCN1CC(C)OC1=NP(=O)(OC)SC</td>\n",
       "    </tr>\n",
       "    <tr>\n",
       "      <th>1968</th>\n",
       "      <td>Clc1cc2c(cc1Cl)Oc1cc(Cl)c(Cl)cc1O2</td>\n",
       "    </tr>\n",
       "  </tbody>\n",
       "</table>\n",
       "<p>1969 rows × 1 columns</p>\n",
       "</div>"
      ],
      "text/plain": [
       "                                                 SMILES\n",
       "0                                                     C\n",
       "1                                          OCCNC1CCCCC1\n",
       "2                                          NC(=O)C(=O)O\n",
       "3                                       CCCCCOC(=O)CCCC\n",
       "4                                              CCC(O)CO\n",
       "...                                                 ...\n",
       "1964                   c1ccc(NC[Si]23OCCN(CCO2)CCO3)cc1\n",
       "1965  O=c1sc2ccccc2c(O)c1C1CC(c2ccc(-c3ccc(Br)cc3)cc...\n",
       "1966             Clc1cc2c(cc1Cl)Oc1c(cc(Cl)c(Cl)c1Cl)O2\n",
       "1967                          CCN1CC(C)OC1=NP(=O)(OC)SC\n",
       "1968                 Clc1cc2c(cc1Cl)Oc1cc(Cl)c(Cl)cc1O2\n",
       "\n",
       "[1969 rows x 1 columns]"
      ]
     },
     "execution_count": 21,
     "metadata": {},
     "output_type": "execute_result"
    }
   ],
   "source": [
    "df_ts = pd.DataFrame(moldf_ts, columns=[\"SMILES\"])\n",
    "df_ts"
   ]
  },
  {
   "cell_type": "code",
   "execution_count": 42,
   "metadata": {},
   "outputs": [],
   "source": [
    "df_ts.to_csv('datasets/molecule_ts.smi', sep=',', index=False, header=False)"
   ]
  },
  {
   "cell_type": "markdown",
   "metadata": {},
   "source": [
    "# Calculation Fingerprints for work set"
   ]
  },
  {
   "cell_type": "code",
   "execution_count": 144,
   "metadata": {},
   "outputs": [
    {
     "data": {
      "text/plain": [
       "['fingerprints_xml\\\\AtomPairs2DFingerprintCount.xml',\n",
       " 'fingerprints_xml\\\\AtomPairs2DFingerprinter.xml',\n",
       " 'fingerprints_xml\\\\EStateFingerprinter.xml',\n",
       " 'fingerprints_xml\\\\ExtendedFingerprinter.xml',\n",
       " 'fingerprints_xml\\\\Fingerprinter.xml',\n",
       " 'fingerprints_xml\\\\GraphOnlyFingerprinter.xml',\n",
       " 'fingerprints_xml\\\\KlekotaRothFingerprintCount.xml',\n",
       " 'fingerprints_xml\\\\KlekotaRothFingerprinter.xml',\n",
       " 'fingerprints_xml\\\\MACCSFingerprinter.xml',\n",
       " 'fingerprints_xml\\\\PubchemFingerprinter.xml',\n",
       " 'fingerprints_xml\\\\SubstructureFingerprintCount.xml',\n",
       " 'fingerprints_xml\\\\SubstructureFingerprinter.xml']"
      ]
     },
     "execution_count": 144,
     "metadata": {},
     "output_type": "execute_result"
    }
   ],
   "source": [
    "import glob\n",
    "xml_files = glob.glob(\"fingerprints_xml/*.xml\")\n",
    "xml_files.sort()\n",
    "xml_files"
   ]
  },
  {
   "cell_type": "code",
   "execution_count": 146,
   "metadata": {},
   "outputs": [],
   "source": [
    "FP_list = ['AtomPairs2DCount',\n",
    " 'AtomPairs2D',\n",
    " 'EState',\n",
    " 'CDKextended',\n",
    " 'CDK',\n",
    " 'CDKgraphonly',\n",
    " 'KlekotaRothCount',\n",
    " 'KlekotaRoth',\n",
    " 'MACCS',\n",
    " 'PubChem',\n",
    " 'SubstructureCount',\n",
    " 'Substructure']"
   ]
  },
  {
   "cell_type": "code",
   "execution_count": 148,
   "metadata": {},
   "outputs": [
    {
     "data": {
      "text/plain": [
       "{'AtomPairs2DCount': 'fingerprints_xml\\\\AtomPairs2DFingerprintCount.xml',\n",
       " 'AtomPairs2D': 'fingerprints_xml\\\\AtomPairs2DFingerprinter.xml',\n",
       " 'EState': 'fingerprints_xml\\\\EStateFingerprinter.xml',\n",
       " 'CDKextended': 'fingerprints_xml\\\\ExtendedFingerprinter.xml',\n",
       " 'CDK': 'fingerprints_xml\\\\Fingerprinter.xml',\n",
       " 'CDKgraphonly': 'fingerprints_xml\\\\GraphOnlyFingerprinter.xml',\n",
       " 'KlekotaRothCount': 'fingerprints_xml\\\\KlekotaRothFingerprintCount.xml',\n",
       " 'KlekotaRoth': 'fingerprints_xml\\\\KlekotaRothFingerprinter.xml',\n",
       " 'MACCS': 'fingerprints_xml\\\\MACCSFingerprinter.xml',\n",
       " 'PubChem': 'fingerprints_xml\\\\PubchemFingerprinter.xml',\n",
       " 'SubstructureCount': 'fingerprints_xml\\\\SubstructureFingerprintCount.xml',\n",
       " 'Substructure': 'fingerprints_xml\\\\SubstructureFingerprinter.xml'}"
      ]
     },
     "execution_count": 148,
     "metadata": {},
     "output_type": "execute_result"
    }
   ],
   "source": [
    "fp = dict(zip(FP_list, xml_files))\n",
    "fp"
   ]
  },
  {
   "cell_type": "markdown",
   "metadata": {},
   "source": [
    "# 6.Descriptor calculation for work set"
   ]
  },
  {
   "cell_type": "code",
   "execution_count": 150,
   "metadata": {},
   "outputs": [
    {
     "data": {
      "text/plain": [
       "{'AtomPairs2DCount': 'fingerprints_xml\\\\AtomPairs2DFingerprintCount.xml',\n",
       " 'AtomPairs2D': 'fingerprints_xml\\\\AtomPairs2DFingerprinter.xml',\n",
       " 'EState': 'fingerprints_xml\\\\EStateFingerprinter.xml',\n",
       " 'CDKextended': 'fingerprints_xml\\\\ExtendedFingerprinter.xml',\n",
       " 'CDK': 'fingerprints_xml\\\\Fingerprinter.xml',\n",
       " 'CDKgraphonly': 'fingerprints_xml\\\\GraphOnlyFingerprinter.xml',\n",
       " 'KlekotaRothCount': 'fingerprints_xml\\\\KlekotaRothFingerprintCount.xml',\n",
       " 'KlekotaRoth': 'fingerprints_xml\\\\KlekotaRothFingerprinter.xml',\n",
       " 'MACCS': 'fingerprints_xml\\\\MACCSFingerprinter.xml',\n",
       " 'PubChem': 'fingerprints_xml\\\\PubchemFingerprinter.xml',\n",
       " 'SubstructureCount': 'fingerprints_xml\\\\SubstructureFingerprintCount.xml',\n",
       " 'Substructure': 'fingerprints_xml\\\\SubstructureFingerprinter.xml'}"
      ]
     },
     "execution_count": 150,
     "metadata": {},
     "output_type": "execute_result"
    }
   ],
   "source": [
    "fp"
   ]
  },
  {
   "cell_type": "markdown",
   "metadata": {},
   "source": [
    "## KlekotaRoth FPs"
   ]
  },
  {
   "cell_type": "code",
   "execution_count": 152,
   "metadata": {},
   "outputs": [],
   "source": [
    "from padelpy import padeldescriptor\n",
    "\n",
    "fingerprint = 'KlekotaRoth'\n",
    "\n",
    "fingerprint_output_file = ''.join([fingerprint,'.csv']) \n",
    "fingerprint_descriptortypes = fp[fingerprint]\n",
    "\n",
    "padeldescriptor(mol_dir='datasets/molecule_ws.smi', \n",
    "                d_file=fingerprint_output_file,                \n",
    "                descriptortypes= fingerprint_descriptortypes,\n",
    "                detectaromaticity=True,\n",
    "                standardizenitro=True,\n",
    "                standardizetautomers=True,\n",
    "                threads=2,\n",
    "                removesalt=True,\n",
    "                log=True,\n",
    "                fingerprints=True)"
   ]
  },
  {
   "cell_type": "code",
   "execution_count": 26,
   "metadata": {},
   "outputs": [],
   "source": [
    "descriptors_KlekotaRoth = pd.read_csv('KlekotaRoth.csv')"
   ]
  },
  {
   "cell_type": "code",
   "execution_count": 27,
   "metadata": {},
   "outputs": [
    {
     "data": {
      "text/html": [
       "<div>\n",
       "<style scoped>\n",
       "    .dataframe tbody tr th:only-of-type {\n",
       "        vertical-align: middle;\n",
       "    }\n",
       "\n",
       "    .dataframe tbody tr th {\n",
       "        vertical-align: top;\n",
       "    }\n",
       "\n",
       "    .dataframe thead th {\n",
       "        text-align: right;\n",
       "    }\n",
       "</style>\n",
       "<table border=\"1\" class=\"dataframe\">\n",
       "  <thead>\n",
       "    <tr style=\"text-align: right;\">\n",
       "      <th></th>\n",
       "      <th>Name</th>\n",
       "      <th>KRFP1</th>\n",
       "      <th>KRFP2</th>\n",
       "      <th>KRFP3</th>\n",
       "      <th>KRFP4</th>\n",
       "      <th>KRFP5</th>\n",
       "      <th>KRFP6</th>\n",
       "      <th>KRFP7</th>\n",
       "      <th>KRFP8</th>\n",
       "      <th>KRFP9</th>\n",
       "      <th>...</th>\n",
       "      <th>KRFP4851</th>\n",
       "      <th>KRFP4852</th>\n",
       "      <th>KRFP4853</th>\n",
       "      <th>KRFP4854</th>\n",
       "      <th>KRFP4855</th>\n",
       "      <th>KRFP4856</th>\n",
       "      <th>KRFP4857</th>\n",
       "      <th>KRFP4858</th>\n",
       "      <th>KRFP4859</th>\n",
       "      <th>KRFP4860</th>\n",
       "    </tr>\n",
       "  </thead>\n",
       "  <tbody>\n",
       "    <tr>\n",
       "      <th>0</th>\n",
       "      <td>AUTOGEN_molecule_ws_1</td>\n",
       "      <td>0</td>\n",
       "      <td>0</td>\n",
       "      <td>0</td>\n",
       "      <td>0</td>\n",
       "      <td>0</td>\n",
       "      <td>0</td>\n",
       "      <td>0</td>\n",
       "      <td>0</td>\n",
       "      <td>0</td>\n",
       "      <td>...</td>\n",
       "      <td>0</td>\n",
       "      <td>0</td>\n",
       "      <td>0</td>\n",
       "      <td>0</td>\n",
       "      <td>0</td>\n",
       "      <td>0</td>\n",
       "      <td>0</td>\n",
       "      <td>0</td>\n",
       "      <td>0</td>\n",
       "      <td>0</td>\n",
       "    </tr>\n",
       "    <tr>\n",
       "      <th>1</th>\n",
       "      <td>AUTOGEN_molecule_ws_2</td>\n",
       "      <td>1</td>\n",
       "      <td>0</td>\n",
       "      <td>0</td>\n",
       "      <td>0</td>\n",
       "      <td>0</td>\n",
       "      <td>0</td>\n",
       "      <td>0</td>\n",
       "      <td>0</td>\n",
       "      <td>0</td>\n",
       "      <td>...</td>\n",
       "      <td>0</td>\n",
       "      <td>0</td>\n",
       "      <td>0</td>\n",
       "      <td>0</td>\n",
       "      <td>0</td>\n",
       "      <td>0</td>\n",
       "      <td>0</td>\n",
       "      <td>0</td>\n",
       "      <td>0</td>\n",
       "      <td>0</td>\n",
       "    </tr>\n",
       "    <tr>\n",
       "      <th>2</th>\n",
       "      <td>AUTOGEN_molecule_ws_3</td>\n",
       "      <td>0</td>\n",
       "      <td>0</td>\n",
       "      <td>0</td>\n",
       "      <td>0</td>\n",
       "      <td>0</td>\n",
       "      <td>0</td>\n",
       "      <td>0</td>\n",
       "      <td>0</td>\n",
       "      <td>0</td>\n",
       "      <td>...</td>\n",
       "      <td>0</td>\n",
       "      <td>0</td>\n",
       "      <td>0</td>\n",
       "      <td>0</td>\n",
       "      <td>0</td>\n",
       "      <td>0</td>\n",
       "      <td>0</td>\n",
       "      <td>0</td>\n",
       "      <td>0</td>\n",
       "      <td>0</td>\n",
       "    </tr>\n",
       "    <tr>\n",
       "      <th>3</th>\n",
       "      <td>AUTOGEN_molecule_ws_4</td>\n",
       "      <td>1</td>\n",
       "      <td>0</td>\n",
       "      <td>0</td>\n",
       "      <td>0</td>\n",
       "      <td>0</td>\n",
       "      <td>0</td>\n",
       "      <td>0</td>\n",
       "      <td>0</td>\n",
       "      <td>0</td>\n",
       "      <td>...</td>\n",
       "      <td>0</td>\n",
       "      <td>0</td>\n",
       "      <td>0</td>\n",
       "      <td>0</td>\n",
       "      <td>0</td>\n",
       "      <td>0</td>\n",
       "      <td>0</td>\n",
       "      <td>0</td>\n",
       "      <td>0</td>\n",
       "      <td>0</td>\n",
       "    </tr>\n",
       "    <tr>\n",
       "      <th>4</th>\n",
       "      <td>AUTOGEN_molecule_ws_5</td>\n",
       "      <td>1</td>\n",
       "      <td>0</td>\n",
       "      <td>0</td>\n",
       "      <td>0</td>\n",
       "      <td>0</td>\n",
       "      <td>0</td>\n",
       "      <td>0</td>\n",
       "      <td>0</td>\n",
       "      <td>0</td>\n",
       "      <td>...</td>\n",
       "      <td>0</td>\n",
       "      <td>0</td>\n",
       "      <td>0</td>\n",
       "      <td>0</td>\n",
       "      <td>0</td>\n",
       "      <td>0</td>\n",
       "      <td>0</td>\n",
       "      <td>0</td>\n",
       "      <td>0</td>\n",
       "      <td>0</td>\n",
       "    </tr>\n",
       "    <tr>\n",
       "      <th>...</th>\n",
       "      <td>...</td>\n",
       "      <td>...</td>\n",
       "      <td>...</td>\n",
       "      <td>...</td>\n",
       "      <td>...</td>\n",
       "      <td>...</td>\n",
       "      <td>...</td>\n",
       "      <td>...</td>\n",
       "      <td>...</td>\n",
       "      <td>...</td>\n",
       "      <td>...</td>\n",
       "      <td>...</td>\n",
       "      <td>...</td>\n",
       "      <td>...</td>\n",
       "      <td>...</td>\n",
       "      <td>...</td>\n",
       "      <td>...</td>\n",
       "      <td>...</td>\n",
       "      <td>...</td>\n",
       "      <td>...</td>\n",
       "      <td>...</td>\n",
       "    </tr>\n",
       "    <tr>\n",
       "      <th>7869</th>\n",
       "      <td>AUTOGEN_molecule_ws_7870</td>\n",
       "      <td>0</td>\n",
       "      <td>0</td>\n",
       "      <td>0</td>\n",
       "      <td>0</td>\n",
       "      <td>0</td>\n",
       "      <td>0</td>\n",
       "      <td>0</td>\n",
       "      <td>0</td>\n",
       "      <td>0</td>\n",
       "      <td>...</td>\n",
       "      <td>0</td>\n",
       "      <td>0</td>\n",
       "      <td>0</td>\n",
       "      <td>0</td>\n",
       "      <td>0</td>\n",
       "      <td>0</td>\n",
       "      <td>0</td>\n",
       "      <td>0</td>\n",
       "      <td>0</td>\n",
       "      <td>0</td>\n",
       "    </tr>\n",
       "    <tr>\n",
       "      <th>7870</th>\n",
       "      <td>AUTOGEN_molecule_ws_7871</td>\n",
       "      <td>1</td>\n",
       "      <td>1</td>\n",
       "      <td>0</td>\n",
       "      <td>0</td>\n",
       "      <td>0</td>\n",
       "      <td>0</td>\n",
       "      <td>0</td>\n",
       "      <td>0</td>\n",
       "      <td>0</td>\n",
       "      <td>...</td>\n",
       "      <td>0</td>\n",
       "      <td>0</td>\n",
       "      <td>0</td>\n",
       "      <td>0</td>\n",
       "      <td>0</td>\n",
       "      <td>0</td>\n",
       "      <td>0</td>\n",
       "      <td>0</td>\n",
       "      <td>0</td>\n",
       "      <td>0</td>\n",
       "    </tr>\n",
       "    <tr>\n",
       "      <th>7871</th>\n",
       "      <td>AUTOGEN_molecule_ws_7872</td>\n",
       "      <td>1</td>\n",
       "      <td>1</td>\n",
       "      <td>0</td>\n",
       "      <td>0</td>\n",
       "      <td>0</td>\n",
       "      <td>0</td>\n",
       "      <td>0</td>\n",
       "      <td>0</td>\n",
       "      <td>0</td>\n",
       "      <td>...</td>\n",
       "      <td>0</td>\n",
       "      <td>0</td>\n",
       "      <td>0</td>\n",
       "      <td>0</td>\n",
       "      <td>0</td>\n",
       "      <td>0</td>\n",
       "      <td>0</td>\n",
       "      <td>0</td>\n",
       "      <td>0</td>\n",
       "      <td>0</td>\n",
       "    </tr>\n",
       "    <tr>\n",
       "      <th>7872</th>\n",
       "      <td>AUTOGEN_molecule_ws_7873</td>\n",
       "      <td>1</td>\n",
       "      <td>1</td>\n",
       "      <td>0</td>\n",
       "      <td>0</td>\n",
       "      <td>0</td>\n",
       "      <td>0</td>\n",
       "      <td>0</td>\n",
       "      <td>0</td>\n",
       "      <td>0</td>\n",
       "      <td>...</td>\n",
       "      <td>0</td>\n",
       "      <td>0</td>\n",
       "      <td>0</td>\n",
       "      <td>0</td>\n",
       "      <td>0</td>\n",
       "      <td>0</td>\n",
       "      <td>0</td>\n",
       "      <td>0</td>\n",
       "      <td>0</td>\n",
       "      <td>0</td>\n",
       "    </tr>\n",
       "    <tr>\n",
       "      <th>7873</th>\n",
       "      <td>AUTOGEN_molecule_ws_7874</td>\n",
       "      <td>1</td>\n",
       "      <td>0</td>\n",
       "      <td>0</td>\n",
       "      <td>0</td>\n",
       "      <td>0</td>\n",
       "      <td>0</td>\n",
       "      <td>0</td>\n",
       "      <td>1</td>\n",
       "      <td>0</td>\n",
       "      <td>...</td>\n",
       "      <td>0</td>\n",
       "      <td>0</td>\n",
       "      <td>0</td>\n",
       "      <td>0</td>\n",
       "      <td>0</td>\n",
       "      <td>0</td>\n",
       "      <td>0</td>\n",
       "      <td>0</td>\n",
       "      <td>0</td>\n",
       "      <td>0</td>\n",
       "    </tr>\n",
       "  </tbody>\n",
       "</table>\n",
       "<p>7874 rows × 4861 columns</p>\n",
       "</div>"
      ],
      "text/plain": [
       "                          Name  KRFP1  KRFP2  KRFP3  KRFP4  KRFP5  KRFP6  \\\n",
       "0        AUTOGEN_molecule_ws_1      0      0      0      0      0      0   \n",
       "1        AUTOGEN_molecule_ws_2      1      0      0      0      0      0   \n",
       "2        AUTOGEN_molecule_ws_3      0      0      0      0      0      0   \n",
       "3        AUTOGEN_molecule_ws_4      1      0      0      0      0      0   \n",
       "4        AUTOGEN_molecule_ws_5      1      0      0      0      0      0   \n",
       "...                        ...    ...    ...    ...    ...    ...    ...   \n",
       "7869  AUTOGEN_molecule_ws_7870      0      0      0      0      0      0   \n",
       "7870  AUTOGEN_molecule_ws_7871      1      1      0      0      0      0   \n",
       "7871  AUTOGEN_molecule_ws_7872      1      1      0      0      0      0   \n",
       "7872  AUTOGEN_molecule_ws_7873      1      1      0      0      0      0   \n",
       "7873  AUTOGEN_molecule_ws_7874      1      0      0      0      0      0   \n",
       "\n",
       "      KRFP7  KRFP8  KRFP9  ...  KRFP4851  KRFP4852  KRFP4853  KRFP4854  \\\n",
       "0         0      0      0  ...         0         0         0         0   \n",
       "1         0      0      0  ...         0         0         0         0   \n",
       "2         0      0      0  ...         0         0         0         0   \n",
       "3         0      0      0  ...         0         0         0         0   \n",
       "4         0      0      0  ...         0         0         0         0   \n",
       "...     ...    ...    ...  ...       ...       ...       ...       ...   \n",
       "7869      0      0      0  ...         0         0         0         0   \n",
       "7870      0      0      0  ...         0         0         0         0   \n",
       "7871      0      0      0  ...         0         0         0         0   \n",
       "7872      0      0      0  ...         0         0         0         0   \n",
       "7873      0      1      0  ...         0         0         0         0   \n",
       "\n",
       "      KRFP4855  KRFP4856  KRFP4857  KRFP4858  KRFP4859  KRFP4860  \n",
       "0            0         0         0         0         0         0  \n",
       "1            0         0         0         0         0         0  \n",
       "2            0         0         0         0         0         0  \n",
       "3            0         0         0         0         0         0  \n",
       "4            0         0         0         0         0         0  \n",
       "...        ...       ...       ...       ...       ...       ...  \n",
       "7869         0         0         0         0         0         0  \n",
       "7870         0         0         0         0         0         0  \n",
       "7871         0         0         0         0         0         0  \n",
       "7872         0         0         0         0         0         0  \n",
       "7873         0         0         0         0         0         0  \n",
       "\n",
       "[7874 rows x 4861 columns]"
      ]
     },
     "execution_count": 27,
     "metadata": {},
     "output_type": "execute_result"
    }
   ],
   "source": [
    "descriptors_KlekotaRoth"
   ]
  },
  {
   "cell_type": "code",
   "execution_count": 28,
   "metadata": {},
   "outputs": [],
   "source": [
    "df_RDKit_2D = descriptors_KlekotaRoth.drop('Name', axis=1)"
   ]
  },
  {
   "cell_type": "code",
   "execution_count": 36,
   "metadata": {},
   "outputs": [],
   "source": [
    "x_tr = np.array(df_RDKit_2D, dtype=np.float32)\n",
    "y_tr = np.array(y_tr, dtype=np.float32)"
   ]
  },
  {
   "cell_type": "code",
   "execution_count": 163,
   "metadata": {},
   "outputs": [],
   "source": [
    "savetxt('models/Padels/x_tr_KlekotaRoth.csv', x_tr, delimiter=',')"
   ]
  },
  {
   "cell_type": "code",
   "execution_count": 41,
   "metadata": {},
   "outputs": [
    {
     "data": {
      "text/plain": [
       "(7874, 4860)"
      ]
     },
     "execution_count": 41,
     "metadata": {},
     "output_type": "execute_result"
    }
   ],
   "source": [
    "x_tr.shape"
   ]
  },
  {
   "cell_type": "markdown",
   "metadata": {},
   "source": [
    "# 7.Descriptor calculation for test set"
   ]
  },
  {
   "cell_type": "code",
   "execution_count": 29,
   "metadata": {},
   "outputs": [],
   "source": [
    "from padelpy import padeldescriptor\n",
    "\n",
    "fingerprint = 'KlekotaRoth'\n",
    "\n",
    "fingerprint_output_file = ''.join([fingerprint,'_ts.csv']) #KlekotaRoth.csv\n",
    "fingerprint_descriptortypes = fp[fingerprint]\n",
    "\n",
    "padeldescriptor(mol_dir='datasets/molecule_ts.smi', \n",
    "                d_file=fingerprint_output_file, #'KlekotaRoth.csv'\n",
    "                #descriptortypes='KlekotaRoth.xml', \n",
    "                descriptortypes= fingerprint_descriptortypes,\n",
    "                detectaromaticity=True,\n",
    "                standardizenitro=True,\n",
    "                standardizetautomers=True,\n",
    "                threads=2,\n",
    "                removesalt=True,\n",
    "                log=False,\n",
    "                fingerprints=True)"
   ]
  },
  {
   "cell_type": "code",
   "execution_count": 45,
   "metadata": {},
   "outputs": [],
   "source": [
    "descriptors_KlekotaRoth_ts = pd.read_csv('KlekotaRoth_ts.csv')"
   ]
  },
  {
   "cell_type": "code",
   "execution_count": 47,
   "metadata": {},
   "outputs": [],
   "source": [
    "x_ts = descriptors_KlekotaRoth_ts.drop('Name', axis=1)"
   ]
  },
  {
   "cell_type": "code",
   "execution_count": 48,
   "metadata": {},
   "outputs": [
    {
     "data": {
      "text/plain": [
       "(1969, 4860)"
      ]
     },
     "execution_count": 48,
     "metadata": {},
     "output_type": "execute_result"
    }
   ],
   "source": [
    "x_ts.shape"
   ]
  },
  {
   "cell_type": "code",
   "execution_count": null,
   "metadata": {},
   "outputs": [],
   "source": []
  },
  {
   "cell_type": "markdown",
   "metadata": {},
   "source": [
    "# CatBoostRegressor"
   ]
  },
  {
   "cell_type": "code",
   "execution_count": 174,
   "metadata": {},
   "outputs": [],
   "source": [
    "cv=KFold(n_splits=5, random_state=42, shuffle=True)"
   ]
  },
  {
   "cell_type": "code",
   "execution_count": 176,
   "metadata": {},
   "outputs": [
    {
     "name": "stdout",
     "output_type": "stream",
     "text": [
      "CPU times: total: 7min 24s\n",
      "Wall time: 17min 43s\n"
     ]
    },
    {
     "data": {
      "text/html": [
       "<style>#sk-container-id-1 {\n",
       "  /* Definition of color scheme common for light and dark mode */\n",
       "  --sklearn-color-text: black;\n",
       "  --sklearn-color-line: gray;\n",
       "  /* Definition of color scheme for unfitted estimators */\n",
       "  --sklearn-color-unfitted-level-0: #fff5e6;\n",
       "  --sklearn-color-unfitted-level-1: #f6e4d2;\n",
       "  --sklearn-color-unfitted-level-2: #ffe0b3;\n",
       "  --sklearn-color-unfitted-level-3: chocolate;\n",
       "  /* Definition of color scheme for fitted estimators */\n",
       "  --sklearn-color-fitted-level-0: #f0f8ff;\n",
       "  --sklearn-color-fitted-level-1: #d4ebff;\n",
       "  --sklearn-color-fitted-level-2: #b3dbfd;\n",
       "  --sklearn-color-fitted-level-3: cornflowerblue;\n",
       "\n",
       "  /* Specific color for light theme */\n",
       "  --sklearn-color-text-on-default-background: var(--sg-text-color, var(--theme-code-foreground, var(--jp-content-font-color1, black)));\n",
       "  --sklearn-color-background: var(--sg-background-color, var(--theme-background, var(--jp-layout-color0, white)));\n",
       "  --sklearn-color-border-box: var(--sg-text-color, var(--theme-code-foreground, var(--jp-content-font-color1, black)));\n",
       "  --sklearn-color-icon: #696969;\n",
       "\n",
       "  @media (prefers-color-scheme: dark) {\n",
       "    /* Redefinition of color scheme for dark theme */\n",
       "    --sklearn-color-text-on-default-background: var(--sg-text-color, var(--theme-code-foreground, var(--jp-content-font-color1, white)));\n",
       "    --sklearn-color-background: var(--sg-background-color, var(--theme-background, var(--jp-layout-color0, #111)));\n",
       "    --sklearn-color-border-box: var(--sg-text-color, var(--theme-code-foreground, var(--jp-content-font-color1, white)));\n",
       "    --sklearn-color-icon: #878787;\n",
       "  }\n",
       "}\n",
       "\n",
       "#sk-container-id-1 {\n",
       "  color: var(--sklearn-color-text);\n",
       "}\n",
       "\n",
       "#sk-container-id-1 pre {\n",
       "  padding: 0;\n",
       "}\n",
       "\n",
       "#sk-container-id-1 input.sk-hidden--visually {\n",
       "  border: 0;\n",
       "  clip: rect(1px 1px 1px 1px);\n",
       "  clip: rect(1px, 1px, 1px, 1px);\n",
       "  height: 1px;\n",
       "  margin: -1px;\n",
       "  overflow: hidden;\n",
       "  padding: 0;\n",
       "  position: absolute;\n",
       "  width: 1px;\n",
       "}\n",
       "\n",
       "#sk-container-id-1 div.sk-dashed-wrapped {\n",
       "  border: 1px dashed var(--sklearn-color-line);\n",
       "  margin: 0 0.4em 0.5em 0.4em;\n",
       "  box-sizing: border-box;\n",
       "  padding-bottom: 0.4em;\n",
       "  background-color: var(--sklearn-color-background);\n",
       "}\n",
       "\n",
       "#sk-container-id-1 div.sk-container {\n",
       "  /* jupyter's `normalize.less` sets `[hidden] { display: none; }`\n",
       "     but bootstrap.min.css set `[hidden] { display: none !important; }`\n",
       "     so we also need the `!important` here to be able to override the\n",
       "     default hidden behavior on the sphinx rendered scikit-learn.org.\n",
       "     See: https://github.com/scikit-learn/scikit-learn/issues/21755 */\n",
       "  display: inline-block !important;\n",
       "  position: relative;\n",
       "}\n",
       "\n",
       "#sk-container-id-1 div.sk-text-repr-fallback {\n",
       "  display: none;\n",
       "}\n",
       "\n",
       "div.sk-parallel-item,\n",
       "div.sk-serial,\n",
       "div.sk-item {\n",
       "  /* draw centered vertical line to link estimators */\n",
       "  background-image: linear-gradient(var(--sklearn-color-text-on-default-background), var(--sklearn-color-text-on-default-background));\n",
       "  background-size: 2px 100%;\n",
       "  background-repeat: no-repeat;\n",
       "  background-position: center center;\n",
       "}\n",
       "\n",
       "/* Parallel-specific style estimator block */\n",
       "\n",
       "#sk-container-id-1 div.sk-parallel-item::after {\n",
       "  content: \"\";\n",
       "  width: 100%;\n",
       "  border-bottom: 2px solid var(--sklearn-color-text-on-default-background);\n",
       "  flex-grow: 1;\n",
       "}\n",
       "\n",
       "#sk-container-id-1 div.sk-parallel {\n",
       "  display: flex;\n",
       "  align-items: stretch;\n",
       "  justify-content: center;\n",
       "  background-color: var(--sklearn-color-background);\n",
       "  position: relative;\n",
       "}\n",
       "\n",
       "#sk-container-id-1 div.sk-parallel-item {\n",
       "  display: flex;\n",
       "  flex-direction: column;\n",
       "}\n",
       "\n",
       "#sk-container-id-1 div.sk-parallel-item:first-child::after {\n",
       "  align-self: flex-end;\n",
       "  width: 50%;\n",
       "}\n",
       "\n",
       "#sk-container-id-1 div.sk-parallel-item:last-child::after {\n",
       "  align-self: flex-start;\n",
       "  width: 50%;\n",
       "}\n",
       "\n",
       "#sk-container-id-1 div.sk-parallel-item:only-child::after {\n",
       "  width: 0;\n",
       "}\n",
       "\n",
       "/* Serial-specific style estimator block */\n",
       "\n",
       "#sk-container-id-1 div.sk-serial {\n",
       "  display: flex;\n",
       "  flex-direction: column;\n",
       "  align-items: center;\n",
       "  background-color: var(--sklearn-color-background);\n",
       "  padding-right: 1em;\n",
       "  padding-left: 1em;\n",
       "}\n",
       "\n",
       "\n",
       "/* Toggleable style: style used for estimator/Pipeline/ColumnTransformer box that is\n",
       "clickable and can be expanded/collapsed.\n",
       "- Pipeline and ColumnTransformer use this feature and define the default style\n",
       "- Estimators will overwrite some part of the style using the `sk-estimator` class\n",
       "*/\n",
       "\n",
       "/* Pipeline and ColumnTransformer style (default) */\n",
       "\n",
       "#sk-container-id-1 div.sk-toggleable {\n",
       "  /* Default theme specific background. It is overwritten whether we have a\n",
       "  specific estimator or a Pipeline/ColumnTransformer */\n",
       "  background-color: var(--sklearn-color-background);\n",
       "}\n",
       "\n",
       "/* Toggleable label */\n",
       "#sk-container-id-1 label.sk-toggleable__label {\n",
       "  cursor: pointer;\n",
       "  display: block;\n",
       "  width: 100%;\n",
       "  margin-bottom: 0;\n",
       "  padding: 0.5em;\n",
       "  box-sizing: border-box;\n",
       "  text-align: center;\n",
       "}\n",
       "\n",
       "#sk-container-id-1 label.sk-toggleable__label-arrow:before {\n",
       "  /* Arrow on the left of the label */\n",
       "  content: \"▸\";\n",
       "  float: left;\n",
       "  margin-right: 0.25em;\n",
       "  color: var(--sklearn-color-icon);\n",
       "}\n",
       "\n",
       "#sk-container-id-1 label.sk-toggleable__label-arrow:hover:before {\n",
       "  color: var(--sklearn-color-text);\n",
       "}\n",
       "\n",
       "/* Toggleable content - dropdown */\n",
       "\n",
       "#sk-container-id-1 div.sk-toggleable__content {\n",
       "  max-height: 0;\n",
       "  max-width: 0;\n",
       "  overflow: hidden;\n",
       "  text-align: left;\n",
       "  /* unfitted */\n",
       "  background-color: var(--sklearn-color-unfitted-level-0);\n",
       "}\n",
       "\n",
       "#sk-container-id-1 div.sk-toggleable__content.fitted {\n",
       "  /* fitted */\n",
       "  background-color: var(--sklearn-color-fitted-level-0);\n",
       "}\n",
       "\n",
       "#sk-container-id-1 div.sk-toggleable__content pre {\n",
       "  margin: 0.2em;\n",
       "  border-radius: 0.25em;\n",
       "  color: var(--sklearn-color-text);\n",
       "  /* unfitted */\n",
       "  background-color: var(--sklearn-color-unfitted-level-0);\n",
       "}\n",
       "\n",
       "#sk-container-id-1 div.sk-toggleable__content.fitted pre {\n",
       "  /* unfitted */\n",
       "  background-color: var(--sklearn-color-fitted-level-0);\n",
       "}\n",
       "\n",
       "#sk-container-id-1 input.sk-toggleable__control:checked~div.sk-toggleable__content {\n",
       "  /* Expand drop-down */\n",
       "  max-height: 200px;\n",
       "  max-width: 100%;\n",
       "  overflow: auto;\n",
       "}\n",
       "\n",
       "#sk-container-id-1 input.sk-toggleable__control:checked~label.sk-toggleable__label-arrow:before {\n",
       "  content: \"▾\";\n",
       "}\n",
       "\n",
       "/* Pipeline/ColumnTransformer-specific style */\n",
       "\n",
       "#sk-container-id-1 div.sk-label input.sk-toggleable__control:checked~label.sk-toggleable__label {\n",
       "  color: var(--sklearn-color-text);\n",
       "  background-color: var(--sklearn-color-unfitted-level-2);\n",
       "}\n",
       "\n",
       "#sk-container-id-1 div.sk-label.fitted input.sk-toggleable__control:checked~label.sk-toggleable__label {\n",
       "  background-color: var(--sklearn-color-fitted-level-2);\n",
       "}\n",
       "\n",
       "/* Estimator-specific style */\n",
       "\n",
       "/* Colorize estimator box */\n",
       "#sk-container-id-1 div.sk-estimator input.sk-toggleable__control:checked~label.sk-toggleable__label {\n",
       "  /* unfitted */\n",
       "  background-color: var(--sklearn-color-unfitted-level-2);\n",
       "}\n",
       "\n",
       "#sk-container-id-1 div.sk-estimator.fitted input.sk-toggleable__control:checked~label.sk-toggleable__label {\n",
       "  /* fitted */\n",
       "  background-color: var(--sklearn-color-fitted-level-2);\n",
       "}\n",
       "\n",
       "#sk-container-id-1 div.sk-label label.sk-toggleable__label,\n",
       "#sk-container-id-1 div.sk-label label {\n",
       "  /* The background is the default theme color */\n",
       "  color: var(--sklearn-color-text-on-default-background);\n",
       "}\n",
       "\n",
       "/* On hover, darken the color of the background */\n",
       "#sk-container-id-1 div.sk-label:hover label.sk-toggleable__label {\n",
       "  color: var(--sklearn-color-text);\n",
       "  background-color: var(--sklearn-color-unfitted-level-2);\n",
       "}\n",
       "\n",
       "/* Label box, darken color on hover, fitted */\n",
       "#sk-container-id-1 div.sk-label.fitted:hover label.sk-toggleable__label.fitted {\n",
       "  color: var(--sklearn-color-text);\n",
       "  background-color: var(--sklearn-color-fitted-level-2);\n",
       "}\n",
       "\n",
       "/* Estimator label */\n",
       "\n",
       "#sk-container-id-1 div.sk-label label {\n",
       "  font-family: monospace;\n",
       "  font-weight: bold;\n",
       "  display: inline-block;\n",
       "  line-height: 1.2em;\n",
       "}\n",
       "\n",
       "#sk-container-id-1 div.sk-label-container {\n",
       "  text-align: center;\n",
       "}\n",
       "\n",
       "/* Estimator-specific */\n",
       "#sk-container-id-1 div.sk-estimator {\n",
       "  font-family: monospace;\n",
       "  border: 1px dotted var(--sklearn-color-border-box);\n",
       "  border-radius: 0.25em;\n",
       "  box-sizing: border-box;\n",
       "  margin-bottom: 0.5em;\n",
       "  /* unfitted */\n",
       "  background-color: var(--sklearn-color-unfitted-level-0);\n",
       "}\n",
       "\n",
       "#sk-container-id-1 div.sk-estimator.fitted {\n",
       "  /* fitted */\n",
       "  background-color: var(--sklearn-color-fitted-level-0);\n",
       "}\n",
       "\n",
       "/* on hover */\n",
       "#sk-container-id-1 div.sk-estimator:hover {\n",
       "  /* unfitted */\n",
       "  background-color: var(--sklearn-color-unfitted-level-2);\n",
       "}\n",
       "\n",
       "#sk-container-id-1 div.sk-estimator.fitted:hover {\n",
       "  /* fitted */\n",
       "  background-color: var(--sklearn-color-fitted-level-2);\n",
       "}\n",
       "\n",
       "/* Specification for estimator info (e.g. \"i\" and \"?\") */\n",
       "\n",
       "/* Common style for \"i\" and \"?\" */\n",
       "\n",
       ".sk-estimator-doc-link,\n",
       "a:link.sk-estimator-doc-link,\n",
       "a:visited.sk-estimator-doc-link {\n",
       "  float: right;\n",
       "  font-size: smaller;\n",
       "  line-height: 1em;\n",
       "  font-family: monospace;\n",
       "  background-color: var(--sklearn-color-background);\n",
       "  border-radius: 1em;\n",
       "  height: 1em;\n",
       "  width: 1em;\n",
       "  text-decoration: none !important;\n",
       "  margin-left: 1ex;\n",
       "  /* unfitted */\n",
       "  border: var(--sklearn-color-unfitted-level-1) 1pt solid;\n",
       "  color: var(--sklearn-color-unfitted-level-1);\n",
       "}\n",
       "\n",
       ".sk-estimator-doc-link.fitted,\n",
       "a:link.sk-estimator-doc-link.fitted,\n",
       "a:visited.sk-estimator-doc-link.fitted {\n",
       "  /* fitted */\n",
       "  border: var(--sklearn-color-fitted-level-1) 1pt solid;\n",
       "  color: var(--sklearn-color-fitted-level-1);\n",
       "}\n",
       "\n",
       "/* On hover */\n",
       "div.sk-estimator:hover .sk-estimator-doc-link:hover,\n",
       ".sk-estimator-doc-link:hover,\n",
       "div.sk-label-container:hover .sk-estimator-doc-link:hover,\n",
       ".sk-estimator-doc-link:hover {\n",
       "  /* unfitted */\n",
       "  background-color: var(--sklearn-color-unfitted-level-3);\n",
       "  color: var(--sklearn-color-background);\n",
       "  text-decoration: none;\n",
       "}\n",
       "\n",
       "div.sk-estimator.fitted:hover .sk-estimator-doc-link.fitted:hover,\n",
       ".sk-estimator-doc-link.fitted:hover,\n",
       "div.sk-label-container:hover .sk-estimator-doc-link.fitted:hover,\n",
       ".sk-estimator-doc-link.fitted:hover {\n",
       "  /* fitted */\n",
       "  background-color: var(--sklearn-color-fitted-level-3);\n",
       "  color: var(--sklearn-color-background);\n",
       "  text-decoration: none;\n",
       "}\n",
       "\n",
       "/* Span, style for the box shown on hovering the info icon */\n",
       ".sk-estimator-doc-link span {\n",
       "  display: none;\n",
       "  z-index: 9999;\n",
       "  position: relative;\n",
       "  font-weight: normal;\n",
       "  right: .2ex;\n",
       "  padding: .5ex;\n",
       "  margin: .5ex;\n",
       "  width: min-content;\n",
       "  min-width: 20ex;\n",
       "  max-width: 50ex;\n",
       "  color: var(--sklearn-color-text);\n",
       "  box-shadow: 2pt 2pt 4pt #999;\n",
       "  /* unfitted */\n",
       "  background: var(--sklearn-color-unfitted-level-0);\n",
       "  border: .5pt solid var(--sklearn-color-unfitted-level-3);\n",
       "}\n",
       "\n",
       ".sk-estimator-doc-link.fitted span {\n",
       "  /* fitted */\n",
       "  background: var(--sklearn-color-fitted-level-0);\n",
       "  border: var(--sklearn-color-fitted-level-3);\n",
       "}\n",
       "\n",
       ".sk-estimator-doc-link:hover span {\n",
       "  display: block;\n",
       "}\n",
       "\n",
       "/* \"?\"-specific style due to the `<a>` HTML tag */\n",
       "\n",
       "#sk-container-id-1 a.estimator_doc_link {\n",
       "  float: right;\n",
       "  font-size: 1rem;\n",
       "  line-height: 1em;\n",
       "  font-family: monospace;\n",
       "  background-color: var(--sklearn-color-background);\n",
       "  border-radius: 1rem;\n",
       "  height: 1rem;\n",
       "  width: 1rem;\n",
       "  text-decoration: none;\n",
       "  /* unfitted */\n",
       "  color: var(--sklearn-color-unfitted-level-1);\n",
       "  border: var(--sklearn-color-unfitted-level-1) 1pt solid;\n",
       "}\n",
       "\n",
       "#sk-container-id-1 a.estimator_doc_link.fitted {\n",
       "  /* fitted */\n",
       "  border: var(--sklearn-color-fitted-level-1) 1pt solid;\n",
       "  color: var(--sklearn-color-fitted-level-1);\n",
       "}\n",
       "\n",
       "/* On hover */\n",
       "#sk-container-id-1 a.estimator_doc_link:hover {\n",
       "  /* unfitted */\n",
       "  background-color: var(--sklearn-color-unfitted-level-3);\n",
       "  color: var(--sklearn-color-background);\n",
       "  text-decoration: none;\n",
       "}\n",
       "\n",
       "#sk-container-id-1 a.estimator_doc_link.fitted:hover {\n",
       "  /* fitted */\n",
       "  background-color: var(--sklearn-color-fitted-level-3);\n",
       "}\n",
       "</style><div id=\"sk-container-id-1\" class=\"sk-top-container\"><div class=\"sk-text-repr-fallback\"><pre>GridSearchCV(cv=KFold(n_splits=5, random_state=42, shuffle=True),\n",
       "             estimator=&lt;catboost.core.CatBoostRegressor object at 0x00000266998ADB50&gt;,\n",
       "             n_jobs=-1,\n",
       "             param_grid={&#x27;depth&#x27;: [6, 8, 10], &#x27;iterations&#x27;: [100, 500, 1000],\n",
       "                         &#x27;learning_rate&#x27;: [0.01, 0.05, 0.1]})</pre><b>In a Jupyter environment, please rerun this cell to show the HTML representation or trust the notebook. <br />On GitHub, the HTML representation is unable to render, please try loading this page with nbviewer.org.</b></div><div class=\"sk-container\" hidden><div class=\"sk-item sk-dashed-wrapped\"><div class=\"sk-label-container\"><div class=\"sk-label fitted sk-toggleable\"><input class=\"sk-toggleable__control sk-hidden--visually\" id=\"sk-estimator-id-1\" type=\"checkbox\" ><label for=\"sk-estimator-id-1\" class=\"sk-toggleable__label fitted sk-toggleable__label-arrow fitted\">&nbsp;&nbsp;GridSearchCV<a class=\"sk-estimator-doc-link fitted\" rel=\"noreferrer\" target=\"_blank\" href=\"https://scikit-learn.org/1.5/modules/generated/sklearn.model_selection.GridSearchCV.html\">?<span>Documentation for GridSearchCV</span></a><span class=\"sk-estimator-doc-link fitted\">i<span>Fitted</span></span></label><div class=\"sk-toggleable__content fitted\"><pre>GridSearchCV(cv=KFold(n_splits=5, random_state=42, shuffle=True),\n",
       "             estimator=&lt;catboost.core.CatBoostRegressor object at 0x00000266998ADB50&gt;,\n",
       "             n_jobs=-1,\n",
       "             param_grid={&#x27;depth&#x27;: [6, 8, 10], &#x27;iterations&#x27;: [100, 500, 1000],\n",
       "                         &#x27;learning_rate&#x27;: [0.01, 0.05, 0.1]})</pre></div> </div></div><div class=\"sk-parallel\"><div class=\"sk-parallel-item\"><div class=\"sk-item\"><div class=\"sk-label-container\"><div class=\"sk-label fitted sk-toggleable\"><input class=\"sk-toggleable__control sk-hidden--visually\" id=\"sk-estimator-id-2\" type=\"checkbox\" ><label for=\"sk-estimator-id-2\" class=\"sk-toggleable__label fitted sk-toggleable__label-arrow fitted\">best_estimator_: CatBoostRegressor</label><div class=\"sk-toggleable__content fitted\"><pre>&lt;catboost.core.CatBoostRegressor object at 0x0000026699F4F920&gt;</pre></div> </div></div><div class=\"sk-serial\"><div class=\"sk-item\"><div class=\"sk-estimator fitted sk-toggleable\"><input class=\"sk-toggleable__control sk-hidden--visually\" id=\"sk-estimator-id-3\" type=\"checkbox\" ><label for=\"sk-estimator-id-3\" class=\"sk-toggleable__label fitted sk-toggleable__label-arrow fitted\">CatBoostRegressor</label><div class=\"sk-toggleable__content fitted\"><pre>&lt;catboost.core.CatBoostRegressor object at 0x0000026699F4F920&gt;</pre></div> </div></div></div></div></div></div></div></div></div>"
      ],
      "text/plain": [
       "GridSearchCV(cv=KFold(n_splits=5, random_state=42, shuffle=True),\n",
       "             estimator=<catboost.core.CatBoostRegressor object at 0x00000266998ADB50>,\n",
       "             n_jobs=-1,\n",
       "             param_grid={'depth': [6, 8, 10], 'iterations': [100, 500, 1000],\n",
       "                         'learning_rate': [0.01, 0.05, 0.1]})"
      ]
     },
     "execution_count": 176,
     "metadata": {},
     "output_type": "execute_result"
    }
   ],
   "source": [
    "%%time\n",
    "model = CatBoostRegressor()\n",
    "parameters = {'depth' : [6,8,10],\n",
    "              'learning_rate' : [0.01, 0.05, 0.1],\n",
    "              'iterations'    : [100,500, 1000]\n",
    "              }\n",
    "\n",
    "grid = GridSearchCV(estimator=model, param_grid = parameters, n_jobs=-1, cv = cv)\n",
    "grid.fit(x_tr, y_tr, verbose=False)"
   ]
  },
  {
   "cell_type": "code",
   "execution_count": 177,
   "metadata": {},
   "outputs": [],
   "source": [
    "best_CatBR = grid.best_estimator_"
   ]
  },
  {
   "cell_type": "code",
   "execution_count": 178,
   "metadata": {},
   "outputs": [
    {
     "data": {
      "text/plain": [
       "{'depth': 10, 'iterations': 1000, 'learning_rate': 0.1}"
      ]
     },
     "execution_count": 178,
     "metadata": {},
     "output_type": "execute_result"
    }
   ],
   "source": [
    "grid.best_params_"
   ]
  },
  {
   "cell_type": "code",
   "execution_count": 179,
   "metadata": {},
   "outputs": [],
   "source": [
    "y_pred_ws_GBR = best_CatBR.predict(x_tr)"
   ]
  },
  {
   "cell_type": "code",
   "execution_count": 180,
   "metadata": {},
   "outputs": [
    {
     "data": {
      "text/plain": [
       "0.83"
      ]
     },
     "execution_count": 180,
     "metadata": {},
     "output_type": "execute_result"
    }
   ],
   "source": [
    "R2_WS = round(r2_score(y_tr, y_pred_ws_GBR), 2)\n",
    "R2_WS"
   ]
  },
  {
   "cell_type": "code",
   "execution_count": 182,
   "metadata": {},
   "outputs": [
    {
     "data": {
      "text/plain": [
       "0.37"
      ]
     },
     "execution_count": 182,
     "metadata": {},
     "output_type": "execute_result"
    }
   ],
   "source": [
    "RMSE_WS=round(np.sqrt(mean_squared_error(y_tr, y_pred_ws_GBR)), 2)\n",
    "RMSE_WS"
   ]
  },
  {
   "cell_type": "code",
   "execution_count": 183,
   "metadata": {},
   "outputs": [],
   "source": [
    "params={'verbose': False}"
   ]
  },
  {
   "cell_type": "code",
   "execution_count": 186,
   "metadata": {},
   "outputs": [
    {
     "name": "stdout",
     "output_type": "stream",
     "text": [
      "CPU times: total: 28min 22s\n",
      "Wall time: 3min 51s\n"
     ]
    }
   ],
   "source": [
    "%%time\n",
    "y_pred_CV_CatBR = cross_val_predict(best_CatBR, x_tr, y_tr, cv=cv, params=params)"
   ]
  },
  {
   "cell_type": "code",
   "execution_count": 41,
   "metadata": {},
   "outputs": [
    {
     "data": {
      "text/plain": [
       "0.52"
      ]
     },
     "execution_count": 41,
     "metadata": {},
     "output_type": "execute_result"
    }
   ],
   "source": [
    "Q2_CV = round(r2_score(y_tr, y_pred_CV_CatBR), 2)\n",
    "Q2_CV"
   ]
  },
  {
   "cell_type": "code",
   "execution_count": 42,
   "metadata": {},
   "outputs": [
    {
     "data": {
      "text/plain": [
       "0.62"
      ]
     },
     "execution_count": 42,
     "metadata": {},
     "output_type": "execute_result"
    }
   ],
   "source": [
    "RMSE_CV=round(np.sqrt(mean_squared_error(y_tr, y_pred_CV_CatBR)), 2)\n",
    "RMSE_CV"
   ]
  },
  {
   "cell_type": "code",
   "execution_count": null,
   "metadata": {},
   "outputs": [],
   "source": []
  },
  {
   "cell_type": "markdown",
   "metadata": {},
   "source": [
    "# save the model to disk"
   ]
  },
  {
   "cell_type": "code",
   "execution_count": 195,
   "metadata": {},
   "outputs": [],
   "source": [
    "pickle.dump(best_CatBR, open('Models/Padels/Toxicity_CatBoost_KlekotaRoth.pkl', 'wb'))"
   ]
  },
  {
   "cell_type": "markdown",
   "metadata": {},
   "source": [
    "# load the model from disk"
   ]
  },
  {
   "cell_type": "code",
   "execution_count": 53,
   "metadata": {},
   "outputs": [],
   "source": [
    "best_CatBR = pickle.load(open('Models/Padels/Toxicity_CatBoost_KlekotaRoth.pkl', 'rb'))"
   ]
  },
  {
   "cell_type": "markdown",
   "metadata": {},
   "source": [
    "# 9. Prediction for test set's molecules"
   ]
  },
  {
   "cell_type": "code",
   "execution_count": 56,
   "metadata": {},
   "outputs": [],
   "source": [
    "x_ts = np.array(x_ts, dtype=np.float32)\n",
    "y_ts = np.array(y_ts, dtype=np.float32)"
   ]
  },
  {
   "cell_type": "code",
   "execution_count": 58,
   "metadata": {},
   "outputs": [],
   "source": [
    "y_pred_GBR = best_CatBR.predict(x_ts)"
   ]
  },
  {
   "cell_type": "code",
   "execution_count": 60,
   "metadata": {},
   "outputs": [
    {
     "data": {
      "text/plain": [
       "0.55"
      ]
     },
     "execution_count": 60,
     "metadata": {},
     "output_type": "execute_result"
    }
   ],
   "source": [
    "Q2_TS = round(r2_score(y_ts, y_pred_GBR), 2)\n",
    "Q2_TS"
   ]
  },
  {
   "cell_type": "code",
   "execution_count": 62,
   "metadata": {},
   "outputs": [
    {
     "data": {
      "text/plain": [
       "0.6"
      ]
     },
     "execution_count": 62,
     "metadata": {},
     "output_type": "execute_result"
    }
   ],
   "source": [
    "RMSE_TS=round(np.sqrt(mean_squared_error(y_ts, y_pred_GBR)), 2)\n",
    "RMSE_TS"
   ]
  },
  {
   "cell_type": "markdown",
   "metadata": {},
   "source": [
    "# 11. Estimating applicability domain. Method - Euclidian distances, K=1"
   ]
  },
  {
   "cell_type": "code",
   "execution_count": 65,
   "metadata": {},
   "outputs": [],
   "source": [
    "neighbors_k= pairwise_distances(x_tr, n_jobs=-1)\n",
    "neighbors_k.sort(0)"
   ]
  },
  {
   "cell_type": "code",
   "execution_count": 67,
   "metadata": {},
   "outputs": [
    {
     "data": {
      "text/html": [
       "<div>\n",
       "<style scoped>\n",
       "    .dataframe tbody tr th:only-of-type {\n",
       "        vertical-align: middle;\n",
       "    }\n",
       "\n",
       "    .dataframe tbody tr th {\n",
       "        vertical-align: top;\n",
       "    }\n",
       "\n",
       "    .dataframe thead th {\n",
       "        text-align: right;\n",
       "    }\n",
       "</style>\n",
       "<table border=\"1\" class=\"dataframe\">\n",
       "  <thead>\n",
       "    <tr style=\"text-align: right;\">\n",
       "      <th></th>\n",
       "      <th>0</th>\n",
       "      <th>1</th>\n",
       "      <th>2</th>\n",
       "      <th>3</th>\n",
       "      <th>4</th>\n",
       "      <th>5</th>\n",
       "      <th>6</th>\n",
       "      <th>7</th>\n",
       "      <th>8</th>\n",
       "      <th>9</th>\n",
       "      <th>...</th>\n",
       "      <th>7864</th>\n",
       "      <th>7865</th>\n",
       "      <th>7866</th>\n",
       "      <th>7867</th>\n",
       "      <th>7868</th>\n",
       "      <th>7869</th>\n",
       "      <th>7870</th>\n",
       "      <th>7871</th>\n",
       "      <th>7872</th>\n",
       "      <th>7873</th>\n",
       "    </tr>\n",
       "  </thead>\n",
       "  <tbody>\n",
       "    <tr>\n",
       "      <th>0</th>\n",
       "      <td>0.000000</td>\n",
       "      <td>0.000000</td>\n",
       "      <td>0.000000</td>\n",
       "      <td>0.000000</td>\n",
       "      <td>0.000000</td>\n",
       "      <td>0.000000</td>\n",
       "      <td>0.000000</td>\n",
       "      <td>0.000000</td>\n",
       "      <td>0.000000</td>\n",
       "      <td>0.000000</td>\n",
       "      <td>...</td>\n",
       "      <td>0.000000</td>\n",
       "      <td>0.000000</td>\n",
       "      <td>0.000000</td>\n",
       "      <td>0.000000</td>\n",
       "      <td>0.000000</td>\n",
       "      <td>0.000000</td>\n",
       "      <td>0.000000</td>\n",
       "      <td>0.000000</td>\n",
       "      <td>0.000000</td>\n",
       "      <td>0.000000</td>\n",
       "    </tr>\n",
       "    <tr>\n",
       "      <th>1</th>\n",
       "      <td>2.000000</td>\n",
       "      <td>4.795832</td>\n",
       "      <td>2.000000</td>\n",
       "      <td>4.472136</td>\n",
       "      <td>2.645751</td>\n",
       "      <td>3.741657</td>\n",
       "      <td>0.000000</td>\n",
       "      <td>3.464102</td>\n",
       "      <td>0.000000</td>\n",
       "      <td>1.414214</td>\n",
       "      <td>...</td>\n",
       "      <td>3.316625</td>\n",
       "      <td>2.449490</td>\n",
       "      <td>4.898980</td>\n",
       "      <td>4.898980</td>\n",
       "      <td>2.645751</td>\n",
       "      <td>2.645751</td>\n",
       "      <td>6.000000</td>\n",
       "      <td>3.162278</td>\n",
       "      <td>5.477226</td>\n",
       "      <td>5.099020</td>\n",
       "    </tr>\n",
       "    <tr>\n",
       "      <th>2</th>\n",
       "      <td>3.162278</td>\n",
       "      <td>5.196152</td>\n",
       "      <td>2.000000</td>\n",
       "      <td>4.472136</td>\n",
       "      <td>2.645751</td>\n",
       "      <td>4.242640</td>\n",
       "      <td>3.316625</td>\n",
       "      <td>3.464102</td>\n",
       "      <td>1.414214</td>\n",
       "      <td>1.414214</td>\n",
       "      <td>...</td>\n",
       "      <td>3.464102</td>\n",
       "      <td>2.449490</td>\n",
       "      <td>8.062258</td>\n",
       "      <td>5.099020</td>\n",
       "      <td>3.316625</td>\n",
       "      <td>2.645751</td>\n",
       "      <td>6.082763</td>\n",
       "      <td>3.464102</td>\n",
       "      <td>5.656854</td>\n",
       "      <td>5.385165</td>\n",
       "    </tr>\n",
       "    <tr>\n",
       "      <th>3</th>\n",
       "      <td>3.316625</td>\n",
       "      <td>5.291502</td>\n",
       "      <td>2.000000</td>\n",
       "      <td>4.472136</td>\n",
       "      <td>2.645751</td>\n",
       "      <td>4.242640</td>\n",
       "      <td>4.472136</td>\n",
       "      <td>3.741657</td>\n",
       "      <td>2.000000</td>\n",
       "      <td>1.732051</td>\n",
       "      <td>...</td>\n",
       "      <td>3.741657</td>\n",
       "      <td>2.828427</td>\n",
       "      <td>8.124039</td>\n",
       "      <td>5.196152</td>\n",
       "      <td>4.123106</td>\n",
       "      <td>2.828427</td>\n",
       "      <td>6.244998</td>\n",
       "      <td>3.741657</td>\n",
       "      <td>5.656854</td>\n",
       "      <td>5.477226</td>\n",
       "    </tr>\n",
       "    <tr>\n",
       "      <th>4</th>\n",
       "      <td>3.316625</td>\n",
       "      <td>5.291502</td>\n",
       "      <td>2.000000</td>\n",
       "      <td>4.795832</td>\n",
       "      <td>2.828427</td>\n",
       "      <td>4.472136</td>\n",
       "      <td>4.690416</td>\n",
       "      <td>3.872983</td>\n",
       "      <td>2.236068</td>\n",
       "      <td>1.732051</td>\n",
       "      <td>...</td>\n",
       "      <td>3.872983</td>\n",
       "      <td>2.828427</td>\n",
       "      <td>8.185352</td>\n",
       "      <td>5.656854</td>\n",
       "      <td>4.242640</td>\n",
       "      <td>2.828427</td>\n",
       "      <td>6.244998</td>\n",
       "      <td>4.000000</td>\n",
       "      <td>5.830952</td>\n",
       "      <td>5.656854</td>\n",
       "    </tr>\n",
       "    <tr>\n",
       "      <th>...</th>\n",
       "      <td>...</td>\n",
       "      <td>...</td>\n",
       "      <td>...</td>\n",
       "      <td>...</td>\n",
       "      <td>...</td>\n",
       "      <td>...</td>\n",
       "      <td>...</td>\n",
       "      <td>...</td>\n",
       "      <td>...</td>\n",
       "      <td>...</td>\n",
       "      <td>...</td>\n",
       "      <td>...</td>\n",
       "      <td>...</td>\n",
       "      <td>...</td>\n",
       "      <td>...</td>\n",
       "      <td>...</td>\n",
       "      <td>...</td>\n",
       "      <td>...</td>\n",
       "      <td>...</td>\n",
       "      <td>...</td>\n",
       "      <td>...</td>\n",
       "    </tr>\n",
       "    <tr>\n",
       "      <th>7869</th>\n",
       "      <td>12.649111</td>\n",
       "      <td>12.845233</td>\n",
       "      <td>12.529964</td>\n",
       "      <td>13.000000</td>\n",
       "      <td>12.247449</td>\n",
       "      <td>12.206555</td>\n",
       "      <td>12.165525</td>\n",
       "      <td>12.328828</td>\n",
       "      <td>12.884099</td>\n",
       "      <td>13.038404</td>\n",
       "      <td>...</td>\n",
       "      <td>12.961481</td>\n",
       "      <td>12.649111</td>\n",
       "      <td>12.489996</td>\n",
       "      <td>13.228757</td>\n",
       "      <td>13.266500</td>\n",
       "      <td>12.961481</td>\n",
       "      <td>12.609520</td>\n",
       "      <td>12.727922</td>\n",
       "      <td>12.529964</td>\n",
       "      <td>13.266500</td>\n",
       "    </tr>\n",
       "    <tr>\n",
       "      <th>7870</th>\n",
       "      <td>12.649111</td>\n",
       "      <td>13.000000</td>\n",
       "      <td>12.806249</td>\n",
       "      <td>13.038404</td>\n",
       "      <td>12.529964</td>\n",
       "      <td>12.328828</td>\n",
       "      <td>12.369317</td>\n",
       "      <td>12.369317</td>\n",
       "      <td>13.038404</td>\n",
       "      <td>13.076696</td>\n",
       "      <td>...</td>\n",
       "      <td>13.114877</td>\n",
       "      <td>12.727922</td>\n",
       "      <td>12.489996</td>\n",
       "      <td>13.638182</td>\n",
       "      <td>13.266500</td>\n",
       "      <td>13.000000</td>\n",
       "      <td>12.609520</td>\n",
       "      <td>12.845233</td>\n",
       "      <td>12.688578</td>\n",
       "      <td>13.379088</td>\n",
       "    </tr>\n",
       "    <tr>\n",
       "      <th>7871</th>\n",
       "      <td>13.000000</td>\n",
       "      <td>13.114877</td>\n",
       "      <td>12.922848</td>\n",
       "      <td>13.190906</td>\n",
       "      <td>12.688578</td>\n",
       "      <td>12.409674</td>\n",
       "      <td>12.369317</td>\n",
       "      <td>12.649111</td>\n",
       "      <td>13.076696</td>\n",
       "      <td>13.341664</td>\n",
       "      <td>...</td>\n",
       "      <td>13.152946</td>\n",
       "      <td>12.806249</td>\n",
       "      <td>12.529964</td>\n",
       "      <td>13.674794</td>\n",
       "      <td>13.304134</td>\n",
       "      <td>13.341664</td>\n",
       "      <td>12.688578</td>\n",
       "      <td>13.038404</td>\n",
       "      <td>12.806249</td>\n",
       "      <td>13.453624</td>\n",
       "    </tr>\n",
       "    <tr>\n",
       "      <th>7872</th>\n",
       "      <td>13.038404</td>\n",
       "      <td>13.304134</td>\n",
       "      <td>13.190906</td>\n",
       "      <td>13.190906</td>\n",
       "      <td>12.961481</td>\n",
       "      <td>12.609520</td>\n",
       "      <td>12.449900</td>\n",
       "      <td>12.806249</td>\n",
       "      <td>13.228757</td>\n",
       "      <td>13.527749</td>\n",
       "      <td>...</td>\n",
       "      <td>13.190906</td>\n",
       "      <td>12.806249</td>\n",
       "      <td>12.609520</td>\n",
       "      <td>13.747727</td>\n",
       "      <td>13.341664</td>\n",
       "      <td>13.453624</td>\n",
       "      <td>12.806249</td>\n",
       "      <td>13.304134</td>\n",
       "      <td>13.038404</td>\n",
       "      <td>13.490738</td>\n",
       "    </tr>\n",
       "    <tr>\n",
       "      <th>7873</th>\n",
       "      <td>13.341664</td>\n",
       "      <td>13.416408</td>\n",
       "      <td>13.266500</td>\n",
       "      <td>13.304134</td>\n",
       "      <td>13.114877</td>\n",
       "      <td>13.341664</td>\n",
       "      <td>13.114877</td>\n",
       "      <td>12.845233</td>\n",
       "      <td>13.379088</td>\n",
       "      <td>13.601471</td>\n",
       "      <td>...</td>\n",
       "      <td>13.266500</td>\n",
       "      <td>12.961481</td>\n",
       "      <td>12.688578</td>\n",
       "      <td>13.784049</td>\n",
       "      <td>13.453624</td>\n",
       "      <td>13.527749</td>\n",
       "      <td>12.884099</td>\n",
       "      <td>13.416408</td>\n",
       "      <td>13.076696</td>\n",
       "      <td>13.820275</td>\n",
       "    </tr>\n",
       "  </tbody>\n",
       "</table>\n",
       "<p>7874 rows × 7874 columns</p>\n",
       "</div>"
      ],
      "text/plain": [
       "           0          1          2          3          4          5     \\\n",
       "0      0.000000   0.000000   0.000000   0.000000   0.000000   0.000000   \n",
       "1      2.000000   4.795832   2.000000   4.472136   2.645751   3.741657   \n",
       "2      3.162278   5.196152   2.000000   4.472136   2.645751   4.242640   \n",
       "3      3.316625   5.291502   2.000000   4.472136   2.645751   4.242640   \n",
       "4      3.316625   5.291502   2.000000   4.795832   2.828427   4.472136   \n",
       "...         ...        ...        ...        ...        ...        ...   \n",
       "7869  12.649111  12.845233  12.529964  13.000000  12.247449  12.206555   \n",
       "7870  12.649111  13.000000  12.806249  13.038404  12.529964  12.328828   \n",
       "7871  13.000000  13.114877  12.922848  13.190906  12.688578  12.409674   \n",
       "7872  13.038404  13.304134  13.190906  13.190906  12.961481  12.609520   \n",
       "7873  13.341664  13.416408  13.266500  13.304134  13.114877  13.341664   \n",
       "\n",
       "           6          7          8          9     ...       7864       7865  \\\n",
       "0      0.000000   0.000000   0.000000   0.000000  ...   0.000000   0.000000   \n",
       "1      0.000000   3.464102   0.000000   1.414214  ...   3.316625   2.449490   \n",
       "2      3.316625   3.464102   1.414214   1.414214  ...   3.464102   2.449490   \n",
       "3      4.472136   3.741657   2.000000   1.732051  ...   3.741657   2.828427   \n",
       "4      4.690416   3.872983   2.236068   1.732051  ...   3.872983   2.828427   \n",
       "...         ...        ...        ...        ...  ...        ...        ...   \n",
       "7869  12.165525  12.328828  12.884099  13.038404  ...  12.961481  12.649111   \n",
       "7870  12.369317  12.369317  13.038404  13.076696  ...  13.114877  12.727922   \n",
       "7871  12.369317  12.649111  13.076696  13.341664  ...  13.152946  12.806249   \n",
       "7872  12.449900  12.806249  13.228757  13.527749  ...  13.190906  12.806249   \n",
       "7873  13.114877  12.845233  13.379088  13.601471  ...  13.266500  12.961481   \n",
       "\n",
       "           7866       7867       7868       7869       7870       7871  \\\n",
       "0      0.000000   0.000000   0.000000   0.000000   0.000000   0.000000   \n",
       "1      4.898980   4.898980   2.645751   2.645751   6.000000   3.162278   \n",
       "2      8.062258   5.099020   3.316625   2.645751   6.082763   3.464102   \n",
       "3      8.124039   5.196152   4.123106   2.828427   6.244998   3.741657   \n",
       "4      8.185352   5.656854   4.242640   2.828427   6.244998   4.000000   \n",
       "...         ...        ...        ...        ...        ...        ...   \n",
       "7869  12.489996  13.228757  13.266500  12.961481  12.609520  12.727922   \n",
       "7870  12.489996  13.638182  13.266500  13.000000  12.609520  12.845233   \n",
       "7871  12.529964  13.674794  13.304134  13.341664  12.688578  13.038404   \n",
       "7872  12.609520  13.747727  13.341664  13.453624  12.806249  13.304134   \n",
       "7873  12.688578  13.784049  13.453624  13.527749  12.884099  13.416408   \n",
       "\n",
       "           7872       7873  \n",
       "0      0.000000   0.000000  \n",
       "1      5.477226   5.099020  \n",
       "2      5.656854   5.385165  \n",
       "3      5.656854   5.477226  \n",
       "4      5.830952   5.656854  \n",
       "...         ...        ...  \n",
       "7869  12.529964  13.266500  \n",
       "7870  12.688578  13.379088  \n",
       "7871  12.806249  13.453624  \n",
       "7872  13.038404  13.490738  \n",
       "7873  13.076696  13.820275  \n",
       "\n",
       "[7874 rows x 7874 columns]"
      ]
     },
     "execution_count": 67,
     "metadata": {},
     "output_type": "execute_result"
    }
   ],
   "source": [
    "df_tr=pd.DataFrame(neighbors_k)\n",
    "df_tr"
   ]
  },
  {
   "cell_type": "code",
   "execution_count": 69,
   "metadata": {},
   "outputs": [],
   "source": [
    "similarity= neighbors_k"
   ]
  },
  {
   "cell_type": "code",
   "execution_count": 70,
   "metadata": {},
   "outputs": [],
   "source": [
    "Dmean=np.mean(similarity[1,:])"
   ]
  },
  {
   "cell_type": "code",
   "execution_count": 71,
   "metadata": {},
   "outputs": [
    {
     "data": {
      "text/plain": [
       "2.93"
      ]
     },
     "execution_count": 71,
     "metadata": {},
     "output_type": "execute_result"
    }
   ],
   "source": [
    "round(Dmean, 2)"
   ]
  },
  {
   "cell_type": "code",
   "execution_count": 75,
   "metadata": {},
   "outputs": [],
   "source": [
    "std=np.std(similarity[1,:])"
   ]
  },
  {
   "cell_type": "code",
   "execution_count": 77,
   "metadata": {},
   "outputs": [
    {
     "data": {
      "text/plain": [
       "1.44"
      ]
     },
     "execution_count": 77,
     "metadata": {},
     "output_type": "execute_result"
    }
   ],
   "source": [
    "round(std, 2)"
   ]
  },
  {
   "cell_type": "code",
   "execution_count": 79,
   "metadata": {},
   "outputs": [
    {
     "name": "stdout",
     "output_type": "stream",
     "text": [
      "3.65\n"
     ]
    }
   ],
   "source": [
    "model_AD_limit=Dmean+std*0.5\n",
    "print(np.round(model_AD_limit, 2))"
   ]
  },
  {
   "cell_type": "code",
   "execution_count": 81,
   "metadata": {},
   "outputs": [],
   "source": [
    "neighbors_k_ts= pairwise_distances(x_tr,Y=x_ts, n_jobs=-1)\n",
    "neighbors_k_ts.sort(0)"
   ]
  },
  {
   "cell_type": "code",
   "execution_count": 82,
   "metadata": {},
   "outputs": [
    {
     "data": {
      "text/html": [
       "<div>\n",
       "<style scoped>\n",
       "    .dataframe tbody tr th:only-of-type {\n",
       "        vertical-align: middle;\n",
       "    }\n",
       "\n",
       "    .dataframe tbody tr th {\n",
       "        vertical-align: top;\n",
       "    }\n",
       "\n",
       "    .dataframe thead th {\n",
       "        text-align: right;\n",
       "    }\n",
       "</style>\n",
       "<table border=\"1\" class=\"dataframe\">\n",
       "  <thead>\n",
       "    <tr style=\"text-align: right;\">\n",
       "      <th></th>\n",
       "      <th>0</th>\n",
       "      <th>1</th>\n",
       "      <th>2</th>\n",
       "      <th>3</th>\n",
       "      <th>4</th>\n",
       "      <th>5</th>\n",
       "      <th>6</th>\n",
       "      <th>7</th>\n",
       "      <th>8</th>\n",
       "      <th>9</th>\n",
       "      <th>...</th>\n",
       "      <th>1959</th>\n",
       "      <th>1960</th>\n",
       "      <th>1961</th>\n",
       "      <th>1962</th>\n",
       "      <th>1963</th>\n",
       "      <th>1964</th>\n",
       "      <th>1965</th>\n",
       "      <th>1966</th>\n",
       "      <th>1967</th>\n",
       "      <th>1968</th>\n",
       "    </tr>\n",
       "  </thead>\n",
       "  <tbody>\n",
       "    <tr>\n",
       "      <th>0</th>\n",
       "      <td>1.000000</td>\n",
       "      <td>3.605551</td>\n",
       "      <td>3.464102</td>\n",
       "      <td>2.449490</td>\n",
       "      <td>2.449490</td>\n",
       "      <td>2.000000</td>\n",
       "      <td>1.414214</td>\n",
       "      <td>3.000000</td>\n",
       "      <td>3.162278</td>\n",
       "      <td>2.236068</td>\n",
       "      <td>...</td>\n",
       "      <td>2.645751</td>\n",
       "      <td>6.164414</td>\n",
       "      <td>3.162278</td>\n",
       "      <td>1.732051</td>\n",
       "      <td>4.123106</td>\n",
       "      <td>2.000000</td>\n",
       "      <td>2.236068</td>\n",
       "      <td>2.000000</td>\n",
       "      <td>4.472136</td>\n",
       "      <td>2.449490</td>\n",
       "    </tr>\n",
       "    <tr>\n",
       "      <th>1</th>\n",
       "      <td>1.000000</td>\n",
       "      <td>4.123106</td>\n",
       "      <td>3.464102</td>\n",
       "      <td>2.449490</td>\n",
       "      <td>2.645751</td>\n",
       "      <td>2.449490</td>\n",
       "      <td>1.732051</td>\n",
       "      <td>3.605551</td>\n",
       "      <td>3.605551</td>\n",
       "      <td>2.449490</td>\n",
       "      <td>...</td>\n",
       "      <td>3.316625</td>\n",
       "      <td>7.071068</td>\n",
       "      <td>4.472136</td>\n",
       "      <td>2.000000</td>\n",
       "      <td>4.795832</td>\n",
       "      <td>3.000000</td>\n",
       "      <td>3.464102</td>\n",
       "      <td>2.236068</td>\n",
       "      <td>4.582576</td>\n",
       "      <td>2.645751</td>\n",
       "    </tr>\n",
       "    <tr>\n",
       "      <th>2</th>\n",
       "      <td>1.000000</td>\n",
       "      <td>4.358899</td>\n",
       "      <td>3.741657</td>\n",
       "      <td>3.316625</td>\n",
       "      <td>2.828427</td>\n",
       "      <td>2.645751</td>\n",
       "      <td>2.828427</td>\n",
       "      <td>3.605551</td>\n",
       "      <td>3.605551</td>\n",
       "      <td>3.000000</td>\n",
       "      <td>...</td>\n",
       "      <td>3.605551</td>\n",
       "      <td>7.071068</td>\n",
       "      <td>5.196152</td>\n",
       "      <td>2.645751</td>\n",
       "      <td>5.099020</td>\n",
       "      <td>3.162278</td>\n",
       "      <td>4.000000</td>\n",
       "      <td>2.828427</td>\n",
       "      <td>4.795832</td>\n",
       "      <td>2.645751</td>\n",
       "    </tr>\n",
       "    <tr>\n",
       "      <th>3</th>\n",
       "      <td>1.000000</td>\n",
       "      <td>4.582576</td>\n",
       "      <td>4.123106</td>\n",
       "      <td>3.464102</td>\n",
       "      <td>2.828427</td>\n",
       "      <td>2.828427</td>\n",
       "      <td>3.464102</td>\n",
       "      <td>3.605551</td>\n",
       "      <td>3.741657</td>\n",
       "      <td>3.000000</td>\n",
       "      <td>...</td>\n",
       "      <td>3.741657</td>\n",
       "      <td>7.141428</td>\n",
       "      <td>5.196152</td>\n",
       "      <td>2.645751</td>\n",
       "      <td>5.099020</td>\n",
       "      <td>3.162278</td>\n",
       "      <td>4.690416</td>\n",
       "      <td>3.000000</td>\n",
       "      <td>4.898980</td>\n",
       "      <td>2.645751</td>\n",
       "    </tr>\n",
       "    <tr>\n",
       "      <th>4</th>\n",
       "      <td>1.000000</td>\n",
       "      <td>4.582576</td>\n",
       "      <td>4.242640</td>\n",
       "      <td>3.872983</td>\n",
       "      <td>3.000000</td>\n",
       "      <td>2.828427</td>\n",
       "      <td>3.741657</td>\n",
       "      <td>3.741657</td>\n",
       "      <td>4.242640</td>\n",
       "      <td>3.316625</td>\n",
       "      <td>...</td>\n",
       "      <td>3.872983</td>\n",
       "      <td>7.211102</td>\n",
       "      <td>5.196152</td>\n",
       "      <td>3.162278</td>\n",
       "      <td>5.291502</td>\n",
       "      <td>3.316625</td>\n",
       "      <td>4.795832</td>\n",
       "      <td>3.000000</td>\n",
       "      <td>5.000000</td>\n",
       "      <td>2.645751</td>\n",
       "    </tr>\n",
       "    <tr>\n",
       "      <th>...</th>\n",
       "      <td>...</td>\n",
       "      <td>...</td>\n",
       "      <td>...</td>\n",
       "      <td>...</td>\n",
       "      <td>...</td>\n",
       "      <td>...</td>\n",
       "      <td>...</td>\n",
       "      <td>...</td>\n",
       "      <td>...</td>\n",
       "      <td>...</td>\n",
       "      <td>...</td>\n",
       "      <td>...</td>\n",
       "      <td>...</td>\n",
       "      <td>...</td>\n",
       "      <td>...</td>\n",
       "      <td>...</td>\n",
       "      <td>...</td>\n",
       "      <td>...</td>\n",
       "      <td>...</td>\n",
       "      <td>...</td>\n",
       "      <td>...</td>\n",
       "    </tr>\n",
       "    <tr>\n",
       "      <th>7869</th>\n",
       "      <td>12.806249</td>\n",
       "      <td>12.041595</td>\n",
       "      <td>12.206555</td>\n",
       "      <td>12.767145</td>\n",
       "      <td>12.288206</td>\n",
       "      <td>12.409674</td>\n",
       "      <td>12.328828</td>\n",
       "      <td>13.379088</td>\n",
       "      <td>12.124355</td>\n",
       "      <td>12.649111</td>\n",
       "      <td>...</td>\n",
       "      <td>12.922848</td>\n",
       "      <td>13.114877</td>\n",
       "      <td>13.114877</td>\n",
       "      <td>13.304134</td>\n",
       "      <td>12.961481</td>\n",
       "      <td>12.727922</td>\n",
       "      <td>13.228757</td>\n",
       "      <td>13.152946</td>\n",
       "      <td>12.409674</td>\n",
       "      <td>13.000000</td>\n",
       "    </tr>\n",
       "    <tr>\n",
       "      <th>7870</th>\n",
       "      <td>12.806249</td>\n",
       "      <td>12.083046</td>\n",
       "      <td>12.206555</td>\n",
       "      <td>12.806249</td>\n",
       "      <td>12.529964</td>\n",
       "      <td>12.688578</td>\n",
       "      <td>12.529964</td>\n",
       "      <td>13.379088</td>\n",
       "      <td>12.206555</td>\n",
       "      <td>12.649111</td>\n",
       "      <td>...</td>\n",
       "      <td>13.000000</td>\n",
       "      <td>13.228757</td>\n",
       "      <td>13.266500</td>\n",
       "      <td>13.341664</td>\n",
       "      <td>13.038404</td>\n",
       "      <td>12.806249</td>\n",
       "      <td>13.266500</td>\n",
       "      <td>13.190906</td>\n",
       "      <td>12.449900</td>\n",
       "      <td>13.038404</td>\n",
       "    </tr>\n",
       "    <tr>\n",
       "      <th>7871</th>\n",
       "      <td>13.152946</td>\n",
       "      <td>12.288206</td>\n",
       "      <td>12.449900</td>\n",
       "      <td>13.000000</td>\n",
       "      <td>12.609520</td>\n",
       "      <td>12.806249</td>\n",
       "      <td>12.688578</td>\n",
       "      <td>13.711309</td>\n",
       "      <td>12.529964</td>\n",
       "      <td>12.688578</td>\n",
       "      <td>...</td>\n",
       "      <td>13.266500</td>\n",
       "      <td>13.266500</td>\n",
       "      <td>13.341664</td>\n",
       "      <td>13.674794</td>\n",
       "      <td>13.266500</td>\n",
       "      <td>12.806249</td>\n",
       "      <td>13.304134</td>\n",
       "      <td>13.527749</td>\n",
       "      <td>12.449900</td>\n",
       "      <td>13.379088</td>\n",
       "    </tr>\n",
       "    <tr>\n",
       "      <th>7872</th>\n",
       "      <td>13.266500</td>\n",
       "      <td>12.328828</td>\n",
       "      <td>12.649111</td>\n",
       "      <td>13.152946</td>\n",
       "      <td>12.961481</td>\n",
       "      <td>13.152946</td>\n",
       "      <td>12.806249</td>\n",
       "      <td>13.820275</td>\n",
       "      <td>12.727922</td>\n",
       "      <td>12.961481</td>\n",
       "      <td>...</td>\n",
       "      <td>13.304134</td>\n",
       "      <td>13.638182</td>\n",
       "      <td>13.379088</td>\n",
       "      <td>13.784049</td>\n",
       "      <td>13.304134</td>\n",
       "      <td>12.845233</td>\n",
       "      <td>13.304134</td>\n",
       "      <td>13.638182</td>\n",
       "      <td>12.449900</td>\n",
       "      <td>13.490738</td>\n",
       "    </tr>\n",
       "    <tr>\n",
       "      <th>7873</th>\n",
       "      <td>13.416408</td>\n",
       "      <td>12.649111</td>\n",
       "      <td>13.190906</td>\n",
       "      <td>13.152946</td>\n",
       "      <td>13.038404</td>\n",
       "      <td>13.152946</td>\n",
       "      <td>12.961481</td>\n",
       "      <td>13.892444</td>\n",
       "      <td>12.961481</td>\n",
       "      <td>13.114877</td>\n",
       "      <td>...</td>\n",
       "      <td>13.601471</td>\n",
       "      <td>13.674794</td>\n",
       "      <td>13.601471</td>\n",
       "      <td>13.856406</td>\n",
       "      <td>13.453624</td>\n",
       "      <td>12.884099</td>\n",
       "      <td>13.341664</td>\n",
       "      <td>13.711309</td>\n",
       "      <td>12.609520</td>\n",
       "      <td>13.564660</td>\n",
       "    </tr>\n",
       "  </tbody>\n",
       "</table>\n",
       "<p>7874 rows × 1969 columns</p>\n",
       "</div>"
      ],
      "text/plain": [
       "           0          1          2          3          4          5     \\\n",
       "0      1.000000   3.605551   3.464102   2.449490   2.449490   2.000000   \n",
       "1      1.000000   4.123106   3.464102   2.449490   2.645751   2.449490   \n",
       "2      1.000000   4.358899   3.741657   3.316625   2.828427   2.645751   \n",
       "3      1.000000   4.582576   4.123106   3.464102   2.828427   2.828427   \n",
       "4      1.000000   4.582576   4.242640   3.872983   3.000000   2.828427   \n",
       "...         ...        ...        ...        ...        ...        ...   \n",
       "7869  12.806249  12.041595  12.206555  12.767145  12.288206  12.409674   \n",
       "7870  12.806249  12.083046  12.206555  12.806249  12.529964  12.688578   \n",
       "7871  13.152946  12.288206  12.449900  13.000000  12.609520  12.806249   \n",
       "7872  13.266500  12.328828  12.649111  13.152946  12.961481  13.152946   \n",
       "7873  13.416408  12.649111  13.190906  13.152946  13.038404  13.152946   \n",
       "\n",
       "           6          7          8          9     ...       1959       1960  \\\n",
       "0      1.414214   3.000000   3.162278   2.236068  ...   2.645751   6.164414   \n",
       "1      1.732051   3.605551   3.605551   2.449490  ...   3.316625   7.071068   \n",
       "2      2.828427   3.605551   3.605551   3.000000  ...   3.605551   7.071068   \n",
       "3      3.464102   3.605551   3.741657   3.000000  ...   3.741657   7.141428   \n",
       "4      3.741657   3.741657   4.242640   3.316625  ...   3.872983   7.211102   \n",
       "...         ...        ...        ...        ...  ...        ...        ...   \n",
       "7869  12.328828  13.379088  12.124355  12.649111  ...  12.922848  13.114877   \n",
       "7870  12.529964  13.379088  12.206555  12.649111  ...  13.000000  13.228757   \n",
       "7871  12.688578  13.711309  12.529964  12.688578  ...  13.266500  13.266500   \n",
       "7872  12.806249  13.820275  12.727922  12.961481  ...  13.304134  13.638182   \n",
       "7873  12.961481  13.892444  12.961481  13.114877  ...  13.601471  13.674794   \n",
       "\n",
       "           1961       1962       1963       1964       1965       1966  \\\n",
       "0      3.162278   1.732051   4.123106   2.000000   2.236068   2.000000   \n",
       "1      4.472136   2.000000   4.795832   3.000000   3.464102   2.236068   \n",
       "2      5.196152   2.645751   5.099020   3.162278   4.000000   2.828427   \n",
       "3      5.196152   2.645751   5.099020   3.162278   4.690416   3.000000   \n",
       "4      5.196152   3.162278   5.291502   3.316625   4.795832   3.000000   \n",
       "...         ...        ...        ...        ...        ...        ...   \n",
       "7869  13.114877  13.304134  12.961481  12.727922  13.228757  13.152946   \n",
       "7870  13.266500  13.341664  13.038404  12.806249  13.266500  13.190906   \n",
       "7871  13.341664  13.674794  13.266500  12.806249  13.304134  13.527749   \n",
       "7872  13.379088  13.784049  13.304134  12.845233  13.304134  13.638182   \n",
       "7873  13.601471  13.856406  13.453624  12.884099  13.341664  13.711309   \n",
       "\n",
       "           1967       1968  \n",
       "0      4.472136   2.449490  \n",
       "1      4.582576   2.645751  \n",
       "2      4.795832   2.645751  \n",
       "3      4.898980   2.645751  \n",
       "4      5.000000   2.645751  \n",
       "...         ...        ...  \n",
       "7869  12.409674  13.000000  \n",
       "7870  12.449900  13.038404  \n",
       "7871  12.449900  13.379088  \n",
       "7872  12.449900  13.490738  \n",
       "7873  12.609520  13.564660  \n",
       "\n",
       "[7874 rows x 1969 columns]"
      ]
     },
     "execution_count": 82,
     "metadata": {},
     "output_type": "execute_result"
    }
   ],
   "source": [
    "x_ts_AD=pd.DataFrame(neighbors_k_ts)\n",
    "x_ts_AD"
   ]
  },
  {
   "cell_type": "code",
   "execution_count": 83,
   "metadata": {},
   "outputs": [
    {
     "name": "stdout",
     "output_type": "stream",
     "text": [
      "[1.    3.606 3.464 ... 2.    4.472 2.449]\n"
     ]
    }
   ],
   "source": [
    "similarity_ts= neighbors_k_ts\n",
    "cpd_AD=similarity_ts[0,:]\n",
    "cpd_value = np.round(cpd_AD, 3)\n",
    "print(cpd_value)"
   ]
  },
  {
   "cell_type": "code",
   "execution_count": 84,
   "metadata": {},
   "outputs": [
    {
     "name": "stdout",
     "output_type": "stream",
     "text": [
      "[ True  True  True ...  True False  True]\n"
     ]
    }
   ],
   "source": [
    "cpd_AD = np.where(cpd_value <= model_AD_limit, True, False)\n",
    "print(cpd_AD)"
   ]
  },
  {
   "cell_type": "code",
   "execution_count": 85,
   "metadata": {},
   "outputs": [
    {
     "name": "stdout",
     "output_type": "stream",
     "text": [
      "Coverage =  0.71\n"
     ]
    }
   ],
   "source": [
    "print(\"Coverage = \", round(sum(cpd_AD) / len(cpd_AD), 2))"
   ]
  },
  {
   "cell_type": "code",
   "execution_count": 91,
   "metadata": {},
   "outputs": [
    {
     "name": "stdout",
     "output_type": "stream",
     "text": [
      "Indices of substances included in AD =  [   0    1    2 ... 1965 1966 1968]\n"
     ]
    }
   ],
   "source": [
    "print(\"Indices of substances included in AD = \", np.where(cpd_AD != 0)[0])"
   ]
  },
  {
   "cell_type": "code",
   "execution_count": 93,
   "metadata": {},
   "outputs": [],
   "source": [
    "out_Ad=list(np.where(cpd_AD == 0)[0])"
   ]
  },
  {
   "cell_type": "markdown",
   "metadata": {},
   "source": [
    "# 12. Prediction only for molecules included in  AD"
   ]
  },
  {
   "cell_type": "code",
   "execution_count": 96,
   "metadata": {},
   "outputs": [],
   "source": [
    "y_pred_GBR_ad=list(y_pred_GBR)"
   ]
  },
  {
   "cell_type": "code",
   "execution_count": 98,
   "metadata": {},
   "outputs": [],
   "source": [
    "y_pred_GBR_ad[:] = [x for i,x in enumerate(y_pred_GBR_ad) if i not in out_Ad]"
   ]
  },
  {
   "cell_type": "code",
   "execution_count": 100,
   "metadata": {},
   "outputs": [
    {
     "data": {
      "text/plain": [
       "1399"
      ]
     },
     "execution_count": 100,
     "metadata": {},
     "output_type": "execute_result"
    }
   ],
   "source": [
    "len(y_pred_GBR_ad)"
   ]
  },
  {
   "cell_type": "code",
   "execution_count": 102,
   "metadata": {},
   "outputs": [],
   "source": [
    "y_ts_ad=list(y_ts)"
   ]
  },
  {
   "cell_type": "code",
   "execution_count": 104,
   "metadata": {},
   "outputs": [],
   "source": [
    "y_ts_ad[:] = [x for i,x in enumerate(y_ts_ad) if i not in out_Ad]"
   ]
  },
  {
   "cell_type": "code",
   "execution_count": 106,
   "metadata": {},
   "outputs": [
    {
     "data": {
      "text/plain": [
       "1399"
      ]
     },
     "execution_count": 106,
     "metadata": {},
     "output_type": "execute_result"
    }
   ],
   "source": [
    "len(y_ts_ad)"
   ]
  },
  {
   "cell_type": "code",
   "execution_count": 108,
   "metadata": {},
   "outputs": [
    {
     "data": {
      "text/plain": [
       "0.61"
      ]
     },
     "execution_count": 108,
     "metadata": {},
     "output_type": "execute_result"
    }
   ],
   "source": [
    "Q2_TS = round(r2_score(y_ts_ad, y_pred_GBR_ad), 2)\n",
    "Q2_TS"
   ]
  },
  {
   "cell_type": "code",
   "execution_count": 110,
   "metadata": {},
   "outputs": [
    {
     "data": {
      "text/plain": [
       "0.59"
      ]
     },
     "execution_count": 110,
     "metadata": {},
     "output_type": "execute_result"
    }
   ],
   "source": [
    "RMSE_TS=round(np.sqrt(mean_squared_error(y_ts_ad, y_pred_GBR_ad)), 2)\n",
    "RMSE_TS"
   ]
  },
  {
   "cell_type": "code",
   "execution_count": null,
   "metadata": {},
   "outputs": [],
   "source": []
  },
  {
   "cell_type": "markdown",
   "metadata": {},
   "source": [
    "# SVM model building and validation"
   ]
  },
  {
   "cell_type": "code",
   "execution_count": 71,
   "metadata": {},
   "outputs": [],
   "source": [
    "param_grid = {\"C\": [10 ** i for i in range(0, 5)],\n",
    "              \"gamma\": [10 ** i for i in range(-6, 0)]}"
   ]
  },
  {
   "cell_type": "code",
   "execution_count": 72,
   "metadata": {},
   "outputs": [],
   "source": [
    "seed = 42\n",
    "cv=KFold(n_splits=5, random_state=seed, shuffle=True)"
   ]
  },
  {
   "cell_type": "code",
   "execution_count": 73,
   "metadata": {},
   "outputs": [],
   "source": [
    "svm = GridSearchCV(SVR(C=1.0, epsilon=0.2), param_grid, n_jobs=-1, cv=cv, verbose=1)"
   ]
  },
  {
   "cell_type": "code",
   "execution_count": 74,
   "metadata": {},
   "outputs": [
    {
     "name": "stdout",
     "output_type": "stream",
     "text": [
      "Fitting 5 folds for each of 30 candidates, totalling 150 fits\n"
     ]
    },
    {
     "data": {
      "text/html": [
       "<style>#sk-container-id-2 {color: black;}#sk-container-id-2 pre{padding: 0;}#sk-container-id-2 div.sk-toggleable {background-color: white;}#sk-container-id-2 label.sk-toggleable__label {cursor: pointer;display: block;width: 100%;margin-bottom: 0;padding: 0.3em;box-sizing: border-box;text-align: center;}#sk-container-id-2 label.sk-toggleable__label-arrow:before {content: \"▸\";float: left;margin-right: 0.25em;color: #696969;}#sk-container-id-2 label.sk-toggleable__label-arrow:hover:before {color: black;}#sk-container-id-2 div.sk-estimator:hover label.sk-toggleable__label-arrow:before {color: black;}#sk-container-id-2 div.sk-toggleable__content {max-height: 0;max-width: 0;overflow: hidden;text-align: left;background-color: #f0f8ff;}#sk-container-id-2 div.sk-toggleable__content pre {margin: 0.2em;color: black;border-radius: 0.25em;background-color: #f0f8ff;}#sk-container-id-2 input.sk-toggleable__control:checked~div.sk-toggleable__content {max-height: 200px;max-width: 100%;overflow: auto;}#sk-container-id-2 input.sk-toggleable__control:checked~label.sk-toggleable__label-arrow:before {content: \"▾\";}#sk-container-id-2 div.sk-estimator input.sk-toggleable__control:checked~label.sk-toggleable__label {background-color: #d4ebff;}#sk-container-id-2 div.sk-label input.sk-toggleable__control:checked~label.sk-toggleable__label {background-color: #d4ebff;}#sk-container-id-2 input.sk-hidden--visually {border: 0;clip: rect(1px 1px 1px 1px);clip: rect(1px, 1px, 1px, 1px);height: 1px;margin: -1px;overflow: hidden;padding: 0;position: absolute;width: 1px;}#sk-container-id-2 div.sk-estimator {font-family: monospace;background-color: #f0f8ff;border: 1px dotted black;border-radius: 0.25em;box-sizing: border-box;margin-bottom: 0.5em;}#sk-container-id-2 div.sk-estimator:hover {background-color: #d4ebff;}#sk-container-id-2 div.sk-parallel-item::after {content: \"\";width: 100%;border-bottom: 1px solid gray;flex-grow: 1;}#sk-container-id-2 div.sk-label:hover label.sk-toggleable__label {background-color: #d4ebff;}#sk-container-id-2 div.sk-serial::before {content: \"\";position: absolute;border-left: 1px solid gray;box-sizing: border-box;top: 0;bottom: 0;left: 50%;z-index: 0;}#sk-container-id-2 div.sk-serial {display: flex;flex-direction: column;align-items: center;background-color: white;padding-right: 0.2em;padding-left: 0.2em;position: relative;}#sk-container-id-2 div.sk-item {position: relative;z-index: 1;}#sk-container-id-2 div.sk-parallel {display: flex;align-items: stretch;justify-content: center;background-color: white;position: relative;}#sk-container-id-2 div.sk-item::before, #sk-container-id-2 div.sk-parallel-item::before {content: \"\";position: absolute;border-left: 1px solid gray;box-sizing: border-box;top: 0;bottom: 0;left: 50%;z-index: -1;}#sk-container-id-2 div.sk-parallel-item {display: flex;flex-direction: column;z-index: 1;position: relative;background-color: white;}#sk-container-id-2 div.sk-parallel-item:first-child::after {align-self: flex-end;width: 50%;}#sk-container-id-2 div.sk-parallel-item:last-child::after {align-self: flex-start;width: 50%;}#sk-container-id-2 div.sk-parallel-item:only-child::after {width: 0;}#sk-container-id-2 div.sk-dashed-wrapped {border: 1px dashed gray;margin: 0 0.4em 0.5em 0.4em;box-sizing: border-box;padding-bottom: 0.4em;background-color: white;}#sk-container-id-2 div.sk-label label {font-family: monospace;font-weight: bold;display: inline-block;line-height: 1.2em;}#sk-container-id-2 div.sk-label-container {text-align: center;}#sk-container-id-2 div.sk-container {/* jupyter's `normalize.less` sets `[hidden] { display: none; }` but bootstrap.min.css set `[hidden] { display: none !important; }` so we also need the `!important` here to be able to override the default hidden behavior on the sphinx rendered scikit-learn.org. See: https://github.com/scikit-learn/scikit-learn/issues/21755 */display: inline-block !important;position: relative;}#sk-container-id-2 div.sk-text-repr-fallback {display: none;}</style><div id=\"sk-container-id-2\" class=\"sk-top-container\"><div class=\"sk-text-repr-fallback\"><pre>GridSearchCV(cv=KFold(n_splits=5, random_state=42, shuffle=True),\n",
       "             estimator=SVR(epsilon=0.2), n_jobs=-1,\n",
       "             param_grid={&#x27;C&#x27;: [1, 10, 100, 1000, 10000],\n",
       "                         &#x27;gamma&#x27;: [1e-06, 1e-05, 0.0001, 0.001, 0.01, 0.1]},\n",
       "             verbose=1)</pre><b>In a Jupyter environment, please rerun this cell to show the HTML representation or trust the notebook. <br />On GitHub, the HTML representation is unable to render, please try loading this page with nbviewer.org.</b></div><div class=\"sk-container\" hidden><div class=\"sk-item sk-dashed-wrapped\"><div class=\"sk-label-container\"><div class=\"sk-label sk-toggleable\"><input class=\"sk-toggleable__control sk-hidden--visually\" id=\"sk-estimator-id-4\" type=\"checkbox\" ><label for=\"sk-estimator-id-4\" class=\"sk-toggleable__label sk-toggleable__label-arrow\">GridSearchCV</label><div class=\"sk-toggleable__content\"><pre>GridSearchCV(cv=KFold(n_splits=5, random_state=42, shuffle=True),\n",
       "             estimator=SVR(epsilon=0.2), n_jobs=-1,\n",
       "             param_grid={&#x27;C&#x27;: [1, 10, 100, 1000, 10000],\n",
       "                         &#x27;gamma&#x27;: [1e-06, 1e-05, 0.0001, 0.001, 0.01, 0.1]},\n",
       "             verbose=1)</pre></div></div></div><div class=\"sk-parallel\"><div class=\"sk-parallel-item\"><div class=\"sk-item\"><div class=\"sk-label-container\"><div class=\"sk-label sk-toggleable\"><input class=\"sk-toggleable__control sk-hidden--visually\" id=\"sk-estimator-id-5\" type=\"checkbox\" ><label for=\"sk-estimator-id-5\" class=\"sk-toggleable__label sk-toggleable__label-arrow\">estimator: SVR</label><div class=\"sk-toggleable__content\"><pre>SVR(epsilon=0.2)</pre></div></div></div><div class=\"sk-serial\"><div class=\"sk-item\"><div class=\"sk-estimator sk-toggleable\"><input class=\"sk-toggleable__control sk-hidden--visually\" id=\"sk-estimator-id-6\" type=\"checkbox\" ><label for=\"sk-estimator-id-6\" class=\"sk-toggleable__label sk-toggleable__label-arrow\">SVR</label><div class=\"sk-toggleable__content\"><pre>SVR(epsilon=0.2)</pre></div></div></div></div></div></div></div></div></div></div>"
      ],
      "text/plain": [
       "GridSearchCV(cv=KFold(n_splits=5, random_state=42, shuffle=True),\n",
       "             estimator=SVR(epsilon=0.2), n_jobs=-1,\n",
       "             param_grid={'C': [1, 10, 100, 1000, 10000],\n",
       "                         'gamma': [1e-06, 1e-05, 0.0001, 0.001, 0.01, 0.1]},\n",
       "             verbose=1)"
      ]
     },
     "execution_count": 74,
     "metadata": {},
     "output_type": "execute_result"
    }
   ],
   "source": [
    "svm.fit(x_tr, y_tr)"
   ]
  },
  {
   "cell_type": "code",
   "execution_count": 75,
   "metadata": {},
   "outputs": [],
   "source": [
    "svm.best_params_\n",
    "best_svm = svm.best_estimator_"
   ]
  },
  {
   "cell_type": "code",
   "execution_count": 76,
   "metadata": {},
   "outputs": [
    {
     "data": {
      "text/plain": [
       "{'C': 10, 'gamma': 0.01}"
      ]
     },
     "execution_count": 76,
     "metadata": {},
     "output_type": "execute_result"
    }
   ],
   "source": [
    "svm.best_params_"
   ]
  },
  {
   "cell_type": "code",
   "execution_count": 77,
   "metadata": {},
   "outputs": [],
   "source": [
    "y_pred_ws_svm = best_svm.predict(x_tr)"
   ]
  },
  {
   "cell_type": "code",
   "execution_count": 78,
   "metadata": {},
   "outputs": [
    {
     "data": {
      "text/plain": [
       "0.8"
      ]
     },
     "execution_count": 78,
     "metadata": {},
     "output_type": "execute_result"
    }
   ],
   "source": [
    "R2_WS = round(r2_score(y_tr, y_pred_ws_svm), 2)\n",
    "R2_WS"
   ]
  },
  {
   "cell_type": "code",
   "execution_count": 79,
   "metadata": {},
   "outputs": [
    {
     "data": {
      "text/plain": [
       "0.4"
      ]
     },
     "execution_count": 79,
     "metadata": {},
     "output_type": "execute_result"
    }
   ],
   "source": [
    "RMSE_WS=round(np.sqrt(mean_squared_error(y_tr, y_pred_ws_svm)), 2)\n",
    "RMSE_WS"
   ]
  },
  {
   "cell_type": "code",
   "execution_count": 80,
   "metadata": {},
   "outputs": [],
   "source": [
    "y_pred_CV_svm = cross_val_predict(best_svm, x_tr, y_tr, cv=cv)"
   ]
  },
  {
   "cell_type": "code",
   "execution_count": 81,
   "metadata": {},
   "outputs": [
    {
     "data": {
      "text/plain": [
       "0.51"
      ]
     },
     "execution_count": 81,
     "metadata": {},
     "output_type": "execute_result"
    }
   ],
   "source": [
    "Q2_CV = round(r2_score(y_tr, y_pred_CV_svm), 2)\n",
    "Q2_CV"
   ]
  },
  {
   "cell_type": "code",
   "execution_count": 82,
   "metadata": {},
   "outputs": [
    {
     "data": {
      "text/plain": [
       "0.63"
      ]
     },
     "execution_count": 82,
     "metadata": {},
     "output_type": "execute_result"
    }
   ],
   "source": [
    "RMSE_CV=round(np.sqrt(mean_squared_error(y_tr, y_pred_CV_svm)), 2)\n",
    "RMSE_CV"
   ]
  },
  {
   "cell_type": "markdown",
   "metadata": {},
   "source": [
    "# 9. Prediction for test set's molecules"
   ]
  },
  {
   "cell_type": "code",
   "execution_count": 83,
   "metadata": {},
   "outputs": [],
   "source": [
    "x_ts = np.array(x_ts, dtype=np.float32)\n",
    "y_ts = np.array(y_ts, dtype=np.float32)"
   ]
  },
  {
   "cell_type": "code",
   "execution_count": 84,
   "metadata": {},
   "outputs": [],
   "source": [
    "y_pred_svm = best_svm.predict(x_ts)"
   ]
  },
  {
   "cell_type": "code",
   "execution_count": 85,
   "metadata": {},
   "outputs": [
    {
     "data": {
      "text/plain": [
       "0.51"
      ]
     },
     "execution_count": 85,
     "metadata": {},
     "output_type": "execute_result"
    }
   ],
   "source": [
    "Q2_TS = round(r2_score(y_ts, y_pred_svm), 2)\n",
    "Q2_TS"
   ]
  },
  {
   "cell_type": "code",
   "execution_count": 86,
   "metadata": {},
   "outputs": [
    {
     "data": {
      "text/plain": [
       "0.63"
      ]
     },
     "execution_count": 86,
     "metadata": {},
     "output_type": "execute_result"
    }
   ],
   "source": [
    "RMSE_TS=round(np.sqrt(mean_squared_error(y_ts, y_pred_svm)), 2)\n",
    "RMSE_TS"
   ]
  },
  {
   "cell_type": "markdown",
   "metadata": {},
   "source": [
    "save the model to disk"
   ]
  },
  {
   "cell_type": "code",
   "execution_count": 87,
   "metadata": {},
   "outputs": [],
   "source": [
    "pickle.dump(best_svm, open('models/Padels/Toxicity_SVM_KlekotaRoth.pkl', 'wb'))"
   ]
  },
  {
   "cell_type": "markdown",
   "metadata": {},
   "source": [
    "load the model from disk"
   ]
  },
  {
   "cell_type": "code",
   "execution_count": 148,
   "metadata": {},
   "outputs": [],
   "source": [
    "best_svm = pickle.load(open('models/Padels/Toxicity_SVM_KlekotaRoth.pkl', 'rb'))"
   ]
  },
  {
   "cell_type": "markdown",
   "metadata": {},
   "source": [
    "# 10. Y-randomization SVM model"
   ]
  },
  {
   "cell_type": "code",
   "execution_count": 149,
   "metadata": {},
   "outputs": [
    {
     "name": "stderr",
     "output_type": "stream",
     "text": [
      "[Parallel(n_jobs=-1)]: Using backend LokyBackend with 16 concurrent workers.\n",
      "[Parallel(n_jobs=-1)]: Done  18 tasks      | elapsed: 186.3min\n"
     ]
    },
    {
     "name": "stdout",
     "output_type": "stream",
     "text": [
      "True score =  0.526 \n",
      "Y-randomization =  -0.19 \n",
      "p-value =  0.0196\n"
     ]
    },
    {
     "name": "stderr",
     "output_type": "stream",
     "text": [
      "[Parallel(n_jobs=-1)]: Done  50 out of  50 | elapsed: 294.8min finished\n"
     ]
    }
   ],
   "source": [
    "# permutations = 50\n",
    "# score, permutation_scores, pvalue = permutation_test_score(best_svm, x_tr, y_tr,\n",
    "#                                                            cv=cv, scoring='r2',\n",
    "#                                                            n_permutations=permutations,\n",
    "#                                                            n_jobs=-1,\n",
    "#                                                            verbose=1,\n",
    "#                                                            random_state=seed)\n",
    "# print('True score = ', score.round(3),\n",
    "#       '\\nY-randomization = ', np.mean(permutation_scores).round(2),\n",
    "#       '\\np-value = ', pvalue.round(4))"
   ]
  },
  {
   "cell_type": "markdown",
   "metadata": {},
   "source": [
    "# 11. Estimating applicability domain. Method - Euclidian distances, K=1"
   ]
  },
  {
   "cell_type": "code",
   "execution_count": 88,
   "metadata": {},
   "outputs": [],
   "source": [
    "neighbors_k= pairwise_distances(x_tr, n_jobs=-1)\n",
    "neighbors_k.sort(0)"
   ]
  },
  {
   "cell_type": "code",
   "execution_count": 89,
   "metadata": {},
   "outputs": [
    {
     "data": {
      "text/html": [
       "<div>\n",
       "<style scoped>\n",
       "    .dataframe tbody tr th:only-of-type {\n",
       "        vertical-align: middle;\n",
       "    }\n",
       "\n",
       "    .dataframe tbody tr th {\n",
       "        vertical-align: top;\n",
       "    }\n",
       "\n",
       "    .dataframe thead th {\n",
       "        text-align: right;\n",
       "    }\n",
       "</style>\n",
       "<table border=\"1\" class=\"dataframe\">\n",
       "  <thead>\n",
       "    <tr style=\"text-align: right;\">\n",
       "      <th></th>\n",
       "      <th>0</th>\n",
       "      <th>1</th>\n",
       "      <th>2</th>\n",
       "      <th>3</th>\n",
       "      <th>4</th>\n",
       "      <th>5</th>\n",
       "      <th>6</th>\n",
       "      <th>7</th>\n",
       "      <th>8</th>\n",
       "      <th>9</th>\n",
       "      <th>...</th>\n",
       "      <th>7864</th>\n",
       "      <th>7865</th>\n",
       "      <th>7866</th>\n",
       "      <th>7867</th>\n",
       "      <th>7868</th>\n",
       "      <th>7869</th>\n",
       "      <th>7870</th>\n",
       "      <th>7871</th>\n",
       "      <th>7872</th>\n",
       "      <th>7873</th>\n",
       "    </tr>\n",
       "  </thead>\n",
       "  <tbody>\n",
       "    <tr>\n",
       "      <th>0</th>\n",
       "      <td>0.000000</td>\n",
       "      <td>0.000000</td>\n",
       "      <td>0.000000</td>\n",
       "      <td>0.000000</td>\n",
       "      <td>0.000000</td>\n",
       "      <td>0.000000</td>\n",
       "      <td>0.000000</td>\n",
       "      <td>0.000000</td>\n",
       "      <td>0.000000</td>\n",
       "      <td>0.000000</td>\n",
       "      <td>...</td>\n",
       "      <td>0.000000</td>\n",
       "      <td>0.000000</td>\n",
       "      <td>0.000000</td>\n",
       "      <td>0.000000</td>\n",
       "      <td>0.000000</td>\n",
       "      <td>0.000000</td>\n",
       "      <td>0.000000</td>\n",
       "      <td>0.000000</td>\n",
       "      <td>0.000000</td>\n",
       "      <td>0.000000</td>\n",
       "    </tr>\n",
       "    <tr>\n",
       "      <th>1</th>\n",
       "      <td>2.000000</td>\n",
       "      <td>4.795832</td>\n",
       "      <td>2.000000</td>\n",
       "      <td>4.472136</td>\n",
       "      <td>2.645751</td>\n",
       "      <td>3.741657</td>\n",
       "      <td>0.000000</td>\n",
       "      <td>3.464102</td>\n",
       "      <td>0.000000</td>\n",
       "      <td>1.414214</td>\n",
       "      <td>...</td>\n",
       "      <td>3.316625</td>\n",
       "      <td>2.449490</td>\n",
       "      <td>4.898980</td>\n",
       "      <td>4.898980</td>\n",
       "      <td>2.645751</td>\n",
       "      <td>2.645751</td>\n",
       "      <td>6.000000</td>\n",
       "      <td>3.162278</td>\n",
       "      <td>5.477226</td>\n",
       "      <td>5.099020</td>\n",
       "    </tr>\n",
       "    <tr>\n",
       "      <th>2</th>\n",
       "      <td>3.162278</td>\n",
       "      <td>5.196152</td>\n",
       "      <td>2.000000</td>\n",
       "      <td>4.472136</td>\n",
       "      <td>2.645751</td>\n",
       "      <td>4.242640</td>\n",
       "      <td>3.316625</td>\n",
       "      <td>3.464102</td>\n",
       "      <td>1.414214</td>\n",
       "      <td>1.414214</td>\n",
       "      <td>...</td>\n",
       "      <td>3.464102</td>\n",
       "      <td>2.449490</td>\n",
       "      <td>8.062258</td>\n",
       "      <td>5.099020</td>\n",
       "      <td>3.316625</td>\n",
       "      <td>2.645751</td>\n",
       "      <td>6.082763</td>\n",
       "      <td>3.464102</td>\n",
       "      <td>5.656854</td>\n",
       "      <td>5.385165</td>\n",
       "    </tr>\n",
       "    <tr>\n",
       "      <th>3</th>\n",
       "      <td>3.316625</td>\n",
       "      <td>5.291502</td>\n",
       "      <td>2.000000</td>\n",
       "      <td>4.472136</td>\n",
       "      <td>2.645751</td>\n",
       "      <td>4.242640</td>\n",
       "      <td>4.472136</td>\n",
       "      <td>3.741657</td>\n",
       "      <td>2.000000</td>\n",
       "      <td>1.732051</td>\n",
       "      <td>...</td>\n",
       "      <td>3.741657</td>\n",
       "      <td>2.828427</td>\n",
       "      <td>8.124039</td>\n",
       "      <td>5.196152</td>\n",
       "      <td>4.123106</td>\n",
       "      <td>2.828427</td>\n",
       "      <td>6.244998</td>\n",
       "      <td>3.741657</td>\n",
       "      <td>5.656854</td>\n",
       "      <td>5.477226</td>\n",
       "    </tr>\n",
       "    <tr>\n",
       "      <th>4</th>\n",
       "      <td>3.316625</td>\n",
       "      <td>5.291502</td>\n",
       "      <td>2.000000</td>\n",
       "      <td>4.795832</td>\n",
       "      <td>2.828427</td>\n",
       "      <td>4.472136</td>\n",
       "      <td>4.690416</td>\n",
       "      <td>3.872983</td>\n",
       "      <td>2.236068</td>\n",
       "      <td>1.732051</td>\n",
       "      <td>...</td>\n",
       "      <td>3.872983</td>\n",
       "      <td>2.828427</td>\n",
       "      <td>8.185352</td>\n",
       "      <td>5.656854</td>\n",
       "      <td>4.242640</td>\n",
       "      <td>2.828427</td>\n",
       "      <td>6.244998</td>\n",
       "      <td>4.000000</td>\n",
       "      <td>5.830952</td>\n",
       "      <td>5.656854</td>\n",
       "    </tr>\n",
       "    <tr>\n",
       "      <th>...</th>\n",
       "      <td>...</td>\n",
       "      <td>...</td>\n",
       "      <td>...</td>\n",
       "      <td>...</td>\n",
       "      <td>...</td>\n",
       "      <td>...</td>\n",
       "      <td>...</td>\n",
       "      <td>...</td>\n",
       "      <td>...</td>\n",
       "      <td>...</td>\n",
       "      <td>...</td>\n",
       "      <td>...</td>\n",
       "      <td>...</td>\n",
       "      <td>...</td>\n",
       "      <td>...</td>\n",
       "      <td>...</td>\n",
       "      <td>...</td>\n",
       "      <td>...</td>\n",
       "      <td>...</td>\n",
       "      <td>...</td>\n",
       "      <td>...</td>\n",
       "    </tr>\n",
       "    <tr>\n",
       "      <th>7869</th>\n",
       "      <td>12.649111</td>\n",
       "      <td>12.845233</td>\n",
       "      <td>12.529964</td>\n",
       "      <td>13.000000</td>\n",
       "      <td>12.247449</td>\n",
       "      <td>12.206555</td>\n",
       "      <td>12.165525</td>\n",
       "      <td>12.328828</td>\n",
       "      <td>12.884099</td>\n",
       "      <td>13.038404</td>\n",
       "      <td>...</td>\n",
       "      <td>12.961481</td>\n",
       "      <td>12.649111</td>\n",
       "      <td>12.489996</td>\n",
       "      <td>13.228757</td>\n",
       "      <td>13.266500</td>\n",
       "      <td>12.961481</td>\n",
       "      <td>12.609520</td>\n",
       "      <td>12.727922</td>\n",
       "      <td>12.529964</td>\n",
       "      <td>13.266500</td>\n",
       "    </tr>\n",
       "    <tr>\n",
       "      <th>7870</th>\n",
       "      <td>12.649111</td>\n",
       "      <td>13.000000</td>\n",
       "      <td>12.806249</td>\n",
       "      <td>13.038404</td>\n",
       "      <td>12.529964</td>\n",
       "      <td>12.328828</td>\n",
       "      <td>12.369317</td>\n",
       "      <td>12.369317</td>\n",
       "      <td>13.038404</td>\n",
       "      <td>13.076696</td>\n",
       "      <td>...</td>\n",
       "      <td>13.114877</td>\n",
       "      <td>12.727922</td>\n",
       "      <td>12.489996</td>\n",
       "      <td>13.638182</td>\n",
       "      <td>13.266500</td>\n",
       "      <td>13.000000</td>\n",
       "      <td>12.609520</td>\n",
       "      <td>12.845233</td>\n",
       "      <td>12.688578</td>\n",
       "      <td>13.379088</td>\n",
       "    </tr>\n",
       "    <tr>\n",
       "      <th>7871</th>\n",
       "      <td>13.000000</td>\n",
       "      <td>13.114877</td>\n",
       "      <td>12.922848</td>\n",
       "      <td>13.190906</td>\n",
       "      <td>12.688578</td>\n",
       "      <td>12.409674</td>\n",
       "      <td>12.369317</td>\n",
       "      <td>12.649111</td>\n",
       "      <td>13.076696</td>\n",
       "      <td>13.341664</td>\n",
       "      <td>...</td>\n",
       "      <td>13.152946</td>\n",
       "      <td>12.806249</td>\n",
       "      <td>12.529964</td>\n",
       "      <td>13.674794</td>\n",
       "      <td>13.304134</td>\n",
       "      <td>13.341664</td>\n",
       "      <td>12.688578</td>\n",
       "      <td>13.038404</td>\n",
       "      <td>12.806249</td>\n",
       "      <td>13.453624</td>\n",
       "    </tr>\n",
       "    <tr>\n",
       "      <th>7872</th>\n",
       "      <td>13.038404</td>\n",
       "      <td>13.304134</td>\n",
       "      <td>13.190906</td>\n",
       "      <td>13.190906</td>\n",
       "      <td>12.961481</td>\n",
       "      <td>12.609520</td>\n",
       "      <td>12.449900</td>\n",
       "      <td>12.806249</td>\n",
       "      <td>13.228757</td>\n",
       "      <td>13.527749</td>\n",
       "      <td>...</td>\n",
       "      <td>13.190906</td>\n",
       "      <td>12.806249</td>\n",
       "      <td>12.609520</td>\n",
       "      <td>13.747727</td>\n",
       "      <td>13.341664</td>\n",
       "      <td>13.453624</td>\n",
       "      <td>12.806249</td>\n",
       "      <td>13.304134</td>\n",
       "      <td>13.038404</td>\n",
       "      <td>13.490738</td>\n",
       "    </tr>\n",
       "    <tr>\n",
       "      <th>7873</th>\n",
       "      <td>13.341664</td>\n",
       "      <td>13.416408</td>\n",
       "      <td>13.266500</td>\n",
       "      <td>13.304134</td>\n",
       "      <td>13.114877</td>\n",
       "      <td>13.341664</td>\n",
       "      <td>13.114877</td>\n",
       "      <td>12.845233</td>\n",
       "      <td>13.379088</td>\n",
       "      <td>13.601471</td>\n",
       "      <td>...</td>\n",
       "      <td>13.266500</td>\n",
       "      <td>12.961481</td>\n",
       "      <td>12.688578</td>\n",
       "      <td>13.784049</td>\n",
       "      <td>13.453624</td>\n",
       "      <td>13.527749</td>\n",
       "      <td>12.884099</td>\n",
       "      <td>13.416408</td>\n",
       "      <td>13.076696</td>\n",
       "      <td>13.820275</td>\n",
       "    </tr>\n",
       "  </tbody>\n",
       "</table>\n",
       "<p>7874 rows × 7874 columns</p>\n",
       "</div>"
      ],
      "text/plain": [
       "           0          1          2          3          4          5     \\\n",
       "0      0.000000   0.000000   0.000000   0.000000   0.000000   0.000000   \n",
       "1      2.000000   4.795832   2.000000   4.472136   2.645751   3.741657   \n",
       "2      3.162278   5.196152   2.000000   4.472136   2.645751   4.242640   \n",
       "3      3.316625   5.291502   2.000000   4.472136   2.645751   4.242640   \n",
       "4      3.316625   5.291502   2.000000   4.795832   2.828427   4.472136   \n",
       "...         ...        ...        ...        ...        ...        ...   \n",
       "7869  12.649111  12.845233  12.529964  13.000000  12.247449  12.206555   \n",
       "7870  12.649111  13.000000  12.806249  13.038404  12.529964  12.328828   \n",
       "7871  13.000000  13.114877  12.922848  13.190906  12.688578  12.409674   \n",
       "7872  13.038404  13.304134  13.190906  13.190906  12.961481  12.609520   \n",
       "7873  13.341664  13.416408  13.266500  13.304134  13.114877  13.341664   \n",
       "\n",
       "           6          7          8          9     ...       7864       7865  \\\n",
       "0      0.000000   0.000000   0.000000   0.000000  ...   0.000000   0.000000   \n",
       "1      0.000000   3.464102   0.000000   1.414214  ...   3.316625   2.449490   \n",
       "2      3.316625   3.464102   1.414214   1.414214  ...   3.464102   2.449490   \n",
       "3      4.472136   3.741657   2.000000   1.732051  ...   3.741657   2.828427   \n",
       "4      4.690416   3.872983   2.236068   1.732051  ...   3.872983   2.828427   \n",
       "...         ...        ...        ...        ...  ...        ...        ...   \n",
       "7869  12.165525  12.328828  12.884099  13.038404  ...  12.961481  12.649111   \n",
       "7870  12.369317  12.369317  13.038404  13.076696  ...  13.114877  12.727922   \n",
       "7871  12.369317  12.649111  13.076696  13.341664  ...  13.152946  12.806249   \n",
       "7872  12.449900  12.806249  13.228757  13.527749  ...  13.190906  12.806249   \n",
       "7873  13.114877  12.845233  13.379088  13.601471  ...  13.266500  12.961481   \n",
       "\n",
       "           7866       7867       7868       7869       7870       7871  \\\n",
       "0      0.000000   0.000000   0.000000   0.000000   0.000000   0.000000   \n",
       "1      4.898980   4.898980   2.645751   2.645751   6.000000   3.162278   \n",
       "2      8.062258   5.099020   3.316625   2.645751   6.082763   3.464102   \n",
       "3      8.124039   5.196152   4.123106   2.828427   6.244998   3.741657   \n",
       "4      8.185352   5.656854   4.242640   2.828427   6.244998   4.000000   \n",
       "...         ...        ...        ...        ...        ...        ...   \n",
       "7869  12.489996  13.228757  13.266500  12.961481  12.609520  12.727922   \n",
       "7870  12.489996  13.638182  13.266500  13.000000  12.609520  12.845233   \n",
       "7871  12.529964  13.674794  13.304134  13.341664  12.688578  13.038404   \n",
       "7872  12.609520  13.747727  13.341664  13.453624  12.806249  13.304134   \n",
       "7873  12.688578  13.784049  13.453624  13.527749  12.884099  13.416408   \n",
       "\n",
       "           7872       7873  \n",
       "0      0.000000   0.000000  \n",
       "1      5.477226   5.099020  \n",
       "2      5.656854   5.385165  \n",
       "3      5.656854   5.477226  \n",
       "4      5.830952   5.656854  \n",
       "...         ...        ...  \n",
       "7869  12.529964  13.266500  \n",
       "7870  12.688578  13.379088  \n",
       "7871  12.806249  13.453624  \n",
       "7872  13.038404  13.490738  \n",
       "7873  13.076696  13.820275  \n",
       "\n",
       "[7874 rows x 7874 columns]"
      ]
     },
     "execution_count": 89,
     "metadata": {},
     "output_type": "execute_result"
    }
   ],
   "source": [
    "df_tr=pd.DataFrame(neighbors_k)\n",
    "df_tr"
   ]
  },
  {
   "cell_type": "code",
   "execution_count": 90,
   "metadata": {},
   "outputs": [],
   "source": [
    "similarity= neighbors_k"
   ]
  },
  {
   "cell_type": "code",
   "execution_count": 91,
   "metadata": {},
   "outputs": [],
   "source": [
    "Dmean=np.mean(similarity[1,:])"
   ]
  },
  {
   "cell_type": "code",
   "execution_count": 92,
   "metadata": {},
   "outputs": [
    {
     "data": {
      "text/plain": [
       "2.93"
      ]
     },
     "execution_count": 92,
     "metadata": {},
     "output_type": "execute_result"
    }
   ],
   "source": [
    "round(Dmean, 2)"
   ]
  },
  {
   "cell_type": "code",
   "execution_count": 93,
   "metadata": {},
   "outputs": [],
   "source": [
    "std=np.std(similarity[1,:])"
   ]
  },
  {
   "cell_type": "code",
   "execution_count": 94,
   "metadata": {},
   "outputs": [
    {
     "data": {
      "text/plain": [
       "1.44"
      ]
     },
     "execution_count": 94,
     "metadata": {},
     "output_type": "execute_result"
    }
   ],
   "source": [
    "round(std, 2)"
   ]
  },
  {
   "cell_type": "code",
   "execution_count": 95,
   "metadata": {},
   "outputs": [
    {
     "name": "stdout",
     "output_type": "stream",
     "text": [
      "3.65\n"
     ]
    }
   ],
   "source": [
    "model_AD_limit=Dmean+std*0.5\n",
    "print(np.round(model_AD_limit, 2))"
   ]
  },
  {
   "cell_type": "code",
   "execution_count": 96,
   "metadata": {},
   "outputs": [],
   "source": [
    "neighbors_k_ts= pairwise_distances(x_tr,Y=x_ts, n_jobs=-1)\n",
    "neighbors_k_ts.sort(0)"
   ]
  },
  {
   "cell_type": "code",
   "execution_count": 97,
   "metadata": {},
   "outputs": [
    {
     "data": {
      "text/html": [
       "<div>\n",
       "<style scoped>\n",
       "    .dataframe tbody tr th:only-of-type {\n",
       "        vertical-align: middle;\n",
       "    }\n",
       "\n",
       "    .dataframe tbody tr th {\n",
       "        vertical-align: top;\n",
       "    }\n",
       "\n",
       "    .dataframe thead th {\n",
       "        text-align: right;\n",
       "    }\n",
       "</style>\n",
       "<table border=\"1\" class=\"dataframe\">\n",
       "  <thead>\n",
       "    <tr style=\"text-align: right;\">\n",
       "      <th></th>\n",
       "      <th>0</th>\n",
       "      <th>1</th>\n",
       "      <th>2</th>\n",
       "      <th>3</th>\n",
       "      <th>4</th>\n",
       "      <th>5</th>\n",
       "      <th>6</th>\n",
       "      <th>7</th>\n",
       "      <th>8</th>\n",
       "      <th>9</th>\n",
       "      <th>...</th>\n",
       "      <th>1959</th>\n",
       "      <th>1960</th>\n",
       "      <th>1961</th>\n",
       "      <th>1962</th>\n",
       "      <th>1963</th>\n",
       "      <th>1964</th>\n",
       "      <th>1965</th>\n",
       "      <th>1966</th>\n",
       "      <th>1967</th>\n",
       "      <th>1968</th>\n",
       "    </tr>\n",
       "  </thead>\n",
       "  <tbody>\n",
       "    <tr>\n",
       "      <th>0</th>\n",
       "      <td>1.000000</td>\n",
       "      <td>3.605551</td>\n",
       "      <td>3.464102</td>\n",
       "      <td>2.449490</td>\n",
       "      <td>2.449490</td>\n",
       "      <td>2.000000</td>\n",
       "      <td>1.414214</td>\n",
       "      <td>3.000000</td>\n",
       "      <td>3.162278</td>\n",
       "      <td>2.236068</td>\n",
       "      <td>...</td>\n",
       "      <td>2.645751</td>\n",
       "      <td>6.164414</td>\n",
       "      <td>3.162278</td>\n",
       "      <td>1.732051</td>\n",
       "      <td>4.123106</td>\n",
       "      <td>2.000000</td>\n",
       "      <td>2.236068</td>\n",
       "      <td>2.000000</td>\n",
       "      <td>4.472136</td>\n",
       "      <td>2.449490</td>\n",
       "    </tr>\n",
       "    <tr>\n",
       "      <th>1</th>\n",
       "      <td>1.000000</td>\n",
       "      <td>4.123106</td>\n",
       "      <td>3.464102</td>\n",
       "      <td>2.449490</td>\n",
       "      <td>2.645751</td>\n",
       "      <td>2.449490</td>\n",
       "      <td>1.732051</td>\n",
       "      <td>3.605551</td>\n",
       "      <td>3.605551</td>\n",
       "      <td>2.449490</td>\n",
       "      <td>...</td>\n",
       "      <td>3.316625</td>\n",
       "      <td>7.071068</td>\n",
       "      <td>4.472136</td>\n",
       "      <td>2.000000</td>\n",
       "      <td>4.795832</td>\n",
       "      <td>3.000000</td>\n",
       "      <td>3.464102</td>\n",
       "      <td>2.236068</td>\n",
       "      <td>4.582576</td>\n",
       "      <td>2.645751</td>\n",
       "    </tr>\n",
       "    <tr>\n",
       "      <th>2</th>\n",
       "      <td>1.000000</td>\n",
       "      <td>4.358899</td>\n",
       "      <td>3.741657</td>\n",
       "      <td>3.316625</td>\n",
       "      <td>2.828427</td>\n",
       "      <td>2.645751</td>\n",
       "      <td>2.828427</td>\n",
       "      <td>3.605551</td>\n",
       "      <td>3.605551</td>\n",
       "      <td>3.000000</td>\n",
       "      <td>...</td>\n",
       "      <td>3.605551</td>\n",
       "      <td>7.071068</td>\n",
       "      <td>5.196152</td>\n",
       "      <td>2.645751</td>\n",
       "      <td>5.099020</td>\n",
       "      <td>3.162278</td>\n",
       "      <td>4.000000</td>\n",
       "      <td>2.828427</td>\n",
       "      <td>4.795832</td>\n",
       "      <td>2.645751</td>\n",
       "    </tr>\n",
       "    <tr>\n",
       "      <th>3</th>\n",
       "      <td>1.000000</td>\n",
       "      <td>4.582576</td>\n",
       "      <td>4.123106</td>\n",
       "      <td>3.464102</td>\n",
       "      <td>2.828427</td>\n",
       "      <td>2.828427</td>\n",
       "      <td>3.464102</td>\n",
       "      <td>3.605551</td>\n",
       "      <td>3.741657</td>\n",
       "      <td>3.000000</td>\n",
       "      <td>...</td>\n",
       "      <td>3.741657</td>\n",
       "      <td>7.141428</td>\n",
       "      <td>5.196152</td>\n",
       "      <td>2.645751</td>\n",
       "      <td>5.099020</td>\n",
       "      <td>3.162278</td>\n",
       "      <td>4.690416</td>\n",
       "      <td>3.000000</td>\n",
       "      <td>4.898980</td>\n",
       "      <td>2.645751</td>\n",
       "    </tr>\n",
       "    <tr>\n",
       "      <th>4</th>\n",
       "      <td>1.000000</td>\n",
       "      <td>4.582576</td>\n",
       "      <td>4.242640</td>\n",
       "      <td>3.872983</td>\n",
       "      <td>3.000000</td>\n",
       "      <td>2.828427</td>\n",
       "      <td>3.741657</td>\n",
       "      <td>3.741657</td>\n",
       "      <td>4.242640</td>\n",
       "      <td>3.316625</td>\n",
       "      <td>...</td>\n",
       "      <td>3.872983</td>\n",
       "      <td>7.211102</td>\n",
       "      <td>5.196152</td>\n",
       "      <td>3.162278</td>\n",
       "      <td>5.291502</td>\n",
       "      <td>3.316625</td>\n",
       "      <td>4.795832</td>\n",
       "      <td>3.000000</td>\n",
       "      <td>5.000000</td>\n",
       "      <td>2.645751</td>\n",
       "    </tr>\n",
       "    <tr>\n",
       "      <th>...</th>\n",
       "      <td>...</td>\n",
       "      <td>...</td>\n",
       "      <td>...</td>\n",
       "      <td>...</td>\n",
       "      <td>...</td>\n",
       "      <td>...</td>\n",
       "      <td>...</td>\n",
       "      <td>...</td>\n",
       "      <td>...</td>\n",
       "      <td>...</td>\n",
       "      <td>...</td>\n",
       "      <td>...</td>\n",
       "      <td>...</td>\n",
       "      <td>...</td>\n",
       "      <td>...</td>\n",
       "      <td>...</td>\n",
       "      <td>...</td>\n",
       "      <td>...</td>\n",
       "      <td>...</td>\n",
       "      <td>...</td>\n",
       "      <td>...</td>\n",
       "    </tr>\n",
       "    <tr>\n",
       "      <th>7869</th>\n",
       "      <td>12.806249</td>\n",
       "      <td>12.041595</td>\n",
       "      <td>12.206555</td>\n",
       "      <td>12.767145</td>\n",
       "      <td>12.288206</td>\n",
       "      <td>12.409674</td>\n",
       "      <td>12.328828</td>\n",
       "      <td>13.379088</td>\n",
       "      <td>12.124355</td>\n",
       "      <td>12.649111</td>\n",
       "      <td>...</td>\n",
       "      <td>12.922848</td>\n",
       "      <td>13.114877</td>\n",
       "      <td>13.114877</td>\n",
       "      <td>13.304134</td>\n",
       "      <td>12.961481</td>\n",
       "      <td>12.727922</td>\n",
       "      <td>13.228757</td>\n",
       "      <td>13.152946</td>\n",
       "      <td>12.409674</td>\n",
       "      <td>13.000000</td>\n",
       "    </tr>\n",
       "    <tr>\n",
       "      <th>7870</th>\n",
       "      <td>12.806249</td>\n",
       "      <td>12.083046</td>\n",
       "      <td>12.206555</td>\n",
       "      <td>12.806249</td>\n",
       "      <td>12.529964</td>\n",
       "      <td>12.688578</td>\n",
       "      <td>12.529964</td>\n",
       "      <td>13.379088</td>\n",
       "      <td>12.206555</td>\n",
       "      <td>12.649111</td>\n",
       "      <td>...</td>\n",
       "      <td>13.000000</td>\n",
       "      <td>13.228757</td>\n",
       "      <td>13.266500</td>\n",
       "      <td>13.341664</td>\n",
       "      <td>13.038404</td>\n",
       "      <td>12.806249</td>\n",
       "      <td>13.266500</td>\n",
       "      <td>13.190906</td>\n",
       "      <td>12.449900</td>\n",
       "      <td>13.038404</td>\n",
       "    </tr>\n",
       "    <tr>\n",
       "      <th>7871</th>\n",
       "      <td>13.152946</td>\n",
       "      <td>12.288206</td>\n",
       "      <td>12.449900</td>\n",
       "      <td>13.000000</td>\n",
       "      <td>12.609520</td>\n",
       "      <td>12.806249</td>\n",
       "      <td>12.688578</td>\n",
       "      <td>13.711309</td>\n",
       "      <td>12.529964</td>\n",
       "      <td>12.688578</td>\n",
       "      <td>...</td>\n",
       "      <td>13.266500</td>\n",
       "      <td>13.266500</td>\n",
       "      <td>13.341664</td>\n",
       "      <td>13.674794</td>\n",
       "      <td>13.266500</td>\n",
       "      <td>12.806249</td>\n",
       "      <td>13.304134</td>\n",
       "      <td>13.527749</td>\n",
       "      <td>12.449900</td>\n",
       "      <td>13.379088</td>\n",
       "    </tr>\n",
       "    <tr>\n",
       "      <th>7872</th>\n",
       "      <td>13.266500</td>\n",
       "      <td>12.328828</td>\n",
       "      <td>12.649111</td>\n",
       "      <td>13.152946</td>\n",
       "      <td>12.961481</td>\n",
       "      <td>13.152946</td>\n",
       "      <td>12.806249</td>\n",
       "      <td>13.820275</td>\n",
       "      <td>12.727922</td>\n",
       "      <td>12.961481</td>\n",
       "      <td>...</td>\n",
       "      <td>13.304134</td>\n",
       "      <td>13.638182</td>\n",
       "      <td>13.379088</td>\n",
       "      <td>13.784049</td>\n",
       "      <td>13.304134</td>\n",
       "      <td>12.845233</td>\n",
       "      <td>13.304134</td>\n",
       "      <td>13.638182</td>\n",
       "      <td>12.449900</td>\n",
       "      <td>13.490738</td>\n",
       "    </tr>\n",
       "    <tr>\n",
       "      <th>7873</th>\n",
       "      <td>13.416408</td>\n",
       "      <td>12.649111</td>\n",
       "      <td>13.190906</td>\n",
       "      <td>13.152946</td>\n",
       "      <td>13.038404</td>\n",
       "      <td>13.152946</td>\n",
       "      <td>12.961481</td>\n",
       "      <td>13.892444</td>\n",
       "      <td>12.961481</td>\n",
       "      <td>13.114877</td>\n",
       "      <td>...</td>\n",
       "      <td>13.601471</td>\n",
       "      <td>13.674794</td>\n",
       "      <td>13.601471</td>\n",
       "      <td>13.856406</td>\n",
       "      <td>13.453624</td>\n",
       "      <td>12.884099</td>\n",
       "      <td>13.341664</td>\n",
       "      <td>13.711309</td>\n",
       "      <td>12.609520</td>\n",
       "      <td>13.564660</td>\n",
       "    </tr>\n",
       "  </tbody>\n",
       "</table>\n",
       "<p>7874 rows × 1969 columns</p>\n",
       "</div>"
      ],
      "text/plain": [
       "           0          1          2          3          4          5     \\\n",
       "0      1.000000   3.605551   3.464102   2.449490   2.449490   2.000000   \n",
       "1      1.000000   4.123106   3.464102   2.449490   2.645751   2.449490   \n",
       "2      1.000000   4.358899   3.741657   3.316625   2.828427   2.645751   \n",
       "3      1.000000   4.582576   4.123106   3.464102   2.828427   2.828427   \n",
       "4      1.000000   4.582576   4.242640   3.872983   3.000000   2.828427   \n",
       "...         ...        ...        ...        ...        ...        ...   \n",
       "7869  12.806249  12.041595  12.206555  12.767145  12.288206  12.409674   \n",
       "7870  12.806249  12.083046  12.206555  12.806249  12.529964  12.688578   \n",
       "7871  13.152946  12.288206  12.449900  13.000000  12.609520  12.806249   \n",
       "7872  13.266500  12.328828  12.649111  13.152946  12.961481  13.152946   \n",
       "7873  13.416408  12.649111  13.190906  13.152946  13.038404  13.152946   \n",
       "\n",
       "           6          7          8          9     ...       1959       1960  \\\n",
       "0      1.414214   3.000000   3.162278   2.236068  ...   2.645751   6.164414   \n",
       "1      1.732051   3.605551   3.605551   2.449490  ...   3.316625   7.071068   \n",
       "2      2.828427   3.605551   3.605551   3.000000  ...   3.605551   7.071068   \n",
       "3      3.464102   3.605551   3.741657   3.000000  ...   3.741657   7.141428   \n",
       "4      3.741657   3.741657   4.242640   3.316625  ...   3.872983   7.211102   \n",
       "...         ...        ...        ...        ...  ...        ...        ...   \n",
       "7869  12.328828  13.379088  12.124355  12.649111  ...  12.922848  13.114877   \n",
       "7870  12.529964  13.379088  12.206555  12.649111  ...  13.000000  13.228757   \n",
       "7871  12.688578  13.711309  12.529964  12.688578  ...  13.266500  13.266500   \n",
       "7872  12.806249  13.820275  12.727922  12.961481  ...  13.304134  13.638182   \n",
       "7873  12.961481  13.892444  12.961481  13.114877  ...  13.601471  13.674794   \n",
       "\n",
       "           1961       1962       1963       1964       1965       1966  \\\n",
       "0      3.162278   1.732051   4.123106   2.000000   2.236068   2.000000   \n",
       "1      4.472136   2.000000   4.795832   3.000000   3.464102   2.236068   \n",
       "2      5.196152   2.645751   5.099020   3.162278   4.000000   2.828427   \n",
       "3      5.196152   2.645751   5.099020   3.162278   4.690416   3.000000   \n",
       "4      5.196152   3.162278   5.291502   3.316625   4.795832   3.000000   \n",
       "...         ...        ...        ...        ...        ...        ...   \n",
       "7869  13.114877  13.304134  12.961481  12.727922  13.228757  13.152946   \n",
       "7870  13.266500  13.341664  13.038404  12.806249  13.266500  13.190906   \n",
       "7871  13.341664  13.674794  13.266500  12.806249  13.304134  13.527749   \n",
       "7872  13.379088  13.784049  13.304134  12.845233  13.304134  13.638182   \n",
       "7873  13.601471  13.856406  13.453624  12.884099  13.341664  13.711309   \n",
       "\n",
       "           1967       1968  \n",
       "0      4.472136   2.449490  \n",
       "1      4.582576   2.645751  \n",
       "2      4.795832   2.645751  \n",
       "3      4.898980   2.645751  \n",
       "4      5.000000   2.645751  \n",
       "...         ...        ...  \n",
       "7869  12.409674  13.000000  \n",
       "7870  12.449900  13.038404  \n",
       "7871  12.449900  13.379088  \n",
       "7872  12.449900  13.490738  \n",
       "7873  12.609520  13.564660  \n",
       "\n",
       "[7874 rows x 1969 columns]"
      ]
     },
     "execution_count": 97,
     "metadata": {},
     "output_type": "execute_result"
    }
   ],
   "source": [
    "x_ts_AD=pd.DataFrame(neighbors_k_ts)\n",
    "x_ts_AD"
   ]
  },
  {
   "cell_type": "code",
   "execution_count": 98,
   "metadata": {},
   "outputs": [
    {
     "name": "stdout",
     "output_type": "stream",
     "text": [
      "[1.    3.606 3.464 ... 2.    4.472 2.449]\n"
     ]
    }
   ],
   "source": [
    "similarity_ts= neighbors_k_ts\n",
    "cpd_AD=similarity_ts[0,:]\n",
    "cpd_value = np.round(cpd_AD, 3)\n",
    "print(cpd_value)"
   ]
  },
  {
   "cell_type": "code",
   "execution_count": 99,
   "metadata": {},
   "outputs": [
    {
     "name": "stdout",
     "output_type": "stream",
     "text": [
      "[ True  True  True ...  True False  True]\n"
     ]
    }
   ],
   "source": [
    "cpd_AD = np.where(cpd_value <= model_AD_limit, True, False)\n",
    "print(cpd_AD)"
   ]
  },
  {
   "cell_type": "code",
   "execution_count": 100,
   "metadata": {},
   "outputs": [
    {
     "name": "stdout",
     "output_type": "stream",
     "text": [
      "Coverage =  0.71\n"
     ]
    }
   ],
   "source": [
    "print(\"Coverage = \", round(sum(cpd_AD) / len(cpd_AD), 2))"
   ]
  },
  {
   "cell_type": "code",
   "execution_count": 101,
   "metadata": {},
   "outputs": [
    {
     "name": "stdout",
     "output_type": "stream",
     "text": [
      "Indices of substances included in AD =  [   0    1    2 ... 1965 1966 1968]\n"
     ]
    }
   ],
   "source": [
    "print(\"Indices of substances included in AD = \", np.where(cpd_AD != 0)[0])"
   ]
  },
  {
   "cell_type": "code",
   "execution_count": 102,
   "metadata": {},
   "outputs": [],
   "source": [
    "out_Ad=list(np.where(cpd_AD == 0)[0])"
   ]
  },
  {
   "cell_type": "markdown",
   "metadata": {},
   "source": [
    "# 12. Prediction only for molecules included in  AD"
   ]
  },
  {
   "cell_type": "code",
   "execution_count": 103,
   "metadata": {},
   "outputs": [],
   "source": [
    "y_pred_svm_ad=list(y_pred_svm)"
   ]
  },
  {
   "cell_type": "code",
   "execution_count": 104,
   "metadata": {},
   "outputs": [],
   "source": [
    "y_pred_svm_ad[:] = [x for i,x in enumerate(y_pred_svm_ad) if i not in out_Ad]"
   ]
  },
  {
   "cell_type": "code",
   "execution_count": 105,
   "metadata": {},
   "outputs": [
    {
     "data": {
      "text/plain": [
       "1397"
      ]
     },
     "execution_count": 105,
     "metadata": {},
     "output_type": "execute_result"
    }
   ],
   "source": [
    "len(y_pred_svm_ad)"
   ]
  },
  {
   "cell_type": "code",
   "execution_count": 106,
   "metadata": {},
   "outputs": [],
   "source": [
    "y_ts_ad=list(y_ts)"
   ]
  },
  {
   "cell_type": "code",
   "execution_count": 107,
   "metadata": {},
   "outputs": [],
   "source": [
    "y_ts_ad[:] = [x for i,x in enumerate(y_ts_ad) if i not in out_Ad]"
   ]
  },
  {
   "cell_type": "code",
   "execution_count": 108,
   "metadata": {},
   "outputs": [
    {
     "data": {
      "text/plain": [
       "1397"
      ]
     },
     "execution_count": 108,
     "metadata": {},
     "output_type": "execute_result"
    }
   ],
   "source": [
    "len(y_ts_ad)"
   ]
  },
  {
   "cell_type": "code",
   "execution_count": 109,
   "metadata": {},
   "outputs": [
    {
     "data": {
      "text/plain": [
       "0.57"
      ]
     },
     "execution_count": 109,
     "metadata": {},
     "output_type": "execute_result"
    }
   ],
   "source": [
    "Q2_TS = round(r2_score(y_ts_ad, y_pred_svm_ad), 2)\n",
    "Q2_TS"
   ]
  },
  {
   "cell_type": "code",
   "execution_count": 110,
   "metadata": {},
   "outputs": [
    {
     "data": {
      "text/plain": [
       "0.62"
      ]
     },
     "execution_count": 110,
     "metadata": {},
     "output_type": "execute_result"
    }
   ],
   "source": [
    "RMSE_TS=round(np.sqrt(mean_squared_error(y_ts_ad, y_pred_svm_ad)), 2)\n",
    "RMSE_TS"
   ]
  },
  {
   "cell_type": "code",
   "execution_count": null,
   "metadata": {},
   "outputs": [],
   "source": []
  },
  {
   "cell_type": "markdown",
   "metadata": {},
   "source": [
    "# Multi-layer Perceptron regressor"
   ]
  },
  {
   "cell_type": "code",
   "execution_count": 111,
   "metadata": {},
   "outputs": [],
   "source": [
    "from sklearn.neural_network import MLPRegressor"
   ]
  },
  {
   "cell_type": "code",
   "execution_count": 112,
   "metadata": {},
   "outputs": [],
   "source": [
    "param_grid ={\"hidden_layer_sizes\": [(400, 300, 200, 100), (10, 10)], \"activation\": [\"tanh\", \"relu\"], \"solver\": [\"sgd\", \"adam\"],  'max_iter': [2000]}"
   ]
  },
  {
   "cell_type": "code",
   "execution_count": 113,
   "metadata": {},
   "outputs": [],
   "source": [
    "m = GridSearchCV(MLPRegressor(), param_grid, n_jobs=-1, cv=cv, verbose=1)"
   ]
  },
  {
   "cell_type": "code",
   "execution_count": 114,
   "metadata": {},
   "outputs": [
    {
     "name": "stdout",
     "output_type": "stream",
     "text": [
      "Fitting 5 folds for each of 8 candidates, totalling 40 fits\n"
     ]
    },
    {
     "data": {
      "text/html": [
       "<style>#sk-container-id-3 {color: black;}#sk-container-id-3 pre{padding: 0;}#sk-container-id-3 div.sk-toggleable {background-color: white;}#sk-container-id-3 label.sk-toggleable__label {cursor: pointer;display: block;width: 100%;margin-bottom: 0;padding: 0.3em;box-sizing: border-box;text-align: center;}#sk-container-id-3 label.sk-toggleable__label-arrow:before {content: \"▸\";float: left;margin-right: 0.25em;color: #696969;}#sk-container-id-3 label.sk-toggleable__label-arrow:hover:before {color: black;}#sk-container-id-3 div.sk-estimator:hover label.sk-toggleable__label-arrow:before {color: black;}#sk-container-id-3 div.sk-toggleable__content {max-height: 0;max-width: 0;overflow: hidden;text-align: left;background-color: #f0f8ff;}#sk-container-id-3 div.sk-toggleable__content pre {margin: 0.2em;color: black;border-radius: 0.25em;background-color: #f0f8ff;}#sk-container-id-3 input.sk-toggleable__control:checked~div.sk-toggleable__content {max-height: 200px;max-width: 100%;overflow: auto;}#sk-container-id-3 input.sk-toggleable__control:checked~label.sk-toggleable__label-arrow:before {content: \"▾\";}#sk-container-id-3 div.sk-estimator input.sk-toggleable__control:checked~label.sk-toggleable__label {background-color: #d4ebff;}#sk-container-id-3 div.sk-label input.sk-toggleable__control:checked~label.sk-toggleable__label {background-color: #d4ebff;}#sk-container-id-3 input.sk-hidden--visually {border: 0;clip: rect(1px 1px 1px 1px);clip: rect(1px, 1px, 1px, 1px);height: 1px;margin: -1px;overflow: hidden;padding: 0;position: absolute;width: 1px;}#sk-container-id-3 div.sk-estimator {font-family: monospace;background-color: #f0f8ff;border: 1px dotted black;border-radius: 0.25em;box-sizing: border-box;margin-bottom: 0.5em;}#sk-container-id-3 div.sk-estimator:hover {background-color: #d4ebff;}#sk-container-id-3 div.sk-parallel-item::after {content: \"\";width: 100%;border-bottom: 1px solid gray;flex-grow: 1;}#sk-container-id-3 div.sk-label:hover label.sk-toggleable__label {background-color: #d4ebff;}#sk-container-id-3 div.sk-serial::before {content: \"\";position: absolute;border-left: 1px solid gray;box-sizing: border-box;top: 0;bottom: 0;left: 50%;z-index: 0;}#sk-container-id-3 div.sk-serial {display: flex;flex-direction: column;align-items: center;background-color: white;padding-right: 0.2em;padding-left: 0.2em;position: relative;}#sk-container-id-3 div.sk-item {position: relative;z-index: 1;}#sk-container-id-3 div.sk-parallel {display: flex;align-items: stretch;justify-content: center;background-color: white;position: relative;}#sk-container-id-3 div.sk-item::before, #sk-container-id-3 div.sk-parallel-item::before {content: \"\";position: absolute;border-left: 1px solid gray;box-sizing: border-box;top: 0;bottom: 0;left: 50%;z-index: -1;}#sk-container-id-3 div.sk-parallel-item {display: flex;flex-direction: column;z-index: 1;position: relative;background-color: white;}#sk-container-id-3 div.sk-parallel-item:first-child::after {align-self: flex-end;width: 50%;}#sk-container-id-3 div.sk-parallel-item:last-child::after {align-self: flex-start;width: 50%;}#sk-container-id-3 div.sk-parallel-item:only-child::after {width: 0;}#sk-container-id-3 div.sk-dashed-wrapped {border: 1px dashed gray;margin: 0 0.4em 0.5em 0.4em;box-sizing: border-box;padding-bottom: 0.4em;background-color: white;}#sk-container-id-3 div.sk-label label {font-family: monospace;font-weight: bold;display: inline-block;line-height: 1.2em;}#sk-container-id-3 div.sk-label-container {text-align: center;}#sk-container-id-3 div.sk-container {/* jupyter's `normalize.less` sets `[hidden] { display: none; }` but bootstrap.min.css set `[hidden] { display: none !important; }` so we also need the `!important` here to be able to override the default hidden behavior on the sphinx rendered scikit-learn.org. See: https://github.com/scikit-learn/scikit-learn/issues/21755 */display: inline-block !important;position: relative;}#sk-container-id-3 div.sk-text-repr-fallback {display: none;}</style><div id=\"sk-container-id-3\" class=\"sk-top-container\"><div class=\"sk-text-repr-fallback\"><pre>GridSearchCV(cv=KFold(n_splits=5, random_state=42, shuffle=True),\n",
       "             estimator=MLPRegressor(), n_jobs=-1,\n",
       "             param_grid={&#x27;activation&#x27;: [&#x27;tanh&#x27;, &#x27;relu&#x27;],\n",
       "                         &#x27;hidden_layer_sizes&#x27;: [(400, 300, 200, 100), (10, 10)],\n",
       "                         &#x27;max_iter&#x27;: [2000], &#x27;solver&#x27;: [&#x27;sgd&#x27;, &#x27;adam&#x27;]},\n",
       "             verbose=1)</pre><b>In a Jupyter environment, please rerun this cell to show the HTML representation or trust the notebook. <br />On GitHub, the HTML representation is unable to render, please try loading this page with nbviewer.org.</b></div><div class=\"sk-container\" hidden><div class=\"sk-item sk-dashed-wrapped\"><div class=\"sk-label-container\"><div class=\"sk-label sk-toggleable\"><input class=\"sk-toggleable__control sk-hidden--visually\" id=\"sk-estimator-id-7\" type=\"checkbox\" ><label for=\"sk-estimator-id-7\" class=\"sk-toggleable__label sk-toggleable__label-arrow\">GridSearchCV</label><div class=\"sk-toggleable__content\"><pre>GridSearchCV(cv=KFold(n_splits=5, random_state=42, shuffle=True),\n",
       "             estimator=MLPRegressor(), n_jobs=-1,\n",
       "             param_grid={&#x27;activation&#x27;: [&#x27;tanh&#x27;, &#x27;relu&#x27;],\n",
       "                         &#x27;hidden_layer_sizes&#x27;: [(400, 300, 200, 100), (10, 10)],\n",
       "                         &#x27;max_iter&#x27;: [2000], &#x27;solver&#x27;: [&#x27;sgd&#x27;, &#x27;adam&#x27;]},\n",
       "             verbose=1)</pre></div></div></div><div class=\"sk-parallel\"><div class=\"sk-parallel-item\"><div class=\"sk-item\"><div class=\"sk-label-container\"><div class=\"sk-label sk-toggleable\"><input class=\"sk-toggleable__control sk-hidden--visually\" id=\"sk-estimator-id-8\" type=\"checkbox\" ><label for=\"sk-estimator-id-8\" class=\"sk-toggleable__label sk-toggleable__label-arrow\">estimator: MLPRegressor</label><div class=\"sk-toggleable__content\"><pre>MLPRegressor()</pre></div></div></div><div class=\"sk-serial\"><div class=\"sk-item\"><div class=\"sk-estimator sk-toggleable\"><input class=\"sk-toggleable__control sk-hidden--visually\" id=\"sk-estimator-id-9\" type=\"checkbox\" ><label for=\"sk-estimator-id-9\" class=\"sk-toggleable__label sk-toggleable__label-arrow\">MLPRegressor</label><div class=\"sk-toggleable__content\"><pre>MLPRegressor()</pre></div></div></div></div></div></div></div></div></div></div>"
      ],
      "text/plain": [
       "GridSearchCV(cv=KFold(n_splits=5, random_state=42, shuffle=True),\n",
       "             estimator=MLPRegressor(), n_jobs=-1,\n",
       "             param_grid={'activation': ['tanh', 'relu'],\n",
       "                         'hidden_layer_sizes': [(400, 300, 200, 100), (10, 10)],\n",
       "                         'max_iter': [2000], 'solver': ['sgd', 'adam']},\n",
       "             verbose=1)"
      ]
     },
     "execution_count": 114,
     "metadata": {},
     "output_type": "execute_result"
    }
   ],
   "source": [
    "m.fit(x_tr, y_tr)"
   ]
  },
  {
   "cell_type": "code",
   "execution_count": 115,
   "metadata": {},
   "outputs": [],
   "source": [
    "best_MLPR = m.best_estimator_"
   ]
  },
  {
   "cell_type": "code",
   "execution_count": 116,
   "metadata": {},
   "outputs": [
    {
     "data": {
      "text/plain": [
       "{'activation': 'relu',\n",
       " 'hidden_layer_sizes': (400, 300, 200, 100),\n",
       " 'max_iter': 2000,\n",
       " 'solver': 'adam'}"
      ]
     },
     "execution_count": 116,
     "metadata": {},
     "output_type": "execute_result"
    }
   ],
   "source": [
    "m.best_params_"
   ]
  },
  {
   "cell_type": "code",
   "execution_count": 117,
   "metadata": {},
   "outputs": [],
   "source": [
    "y_pred_ws_MLPR = best_MLPR.predict(x_tr)"
   ]
  },
  {
   "cell_type": "code",
   "execution_count": 118,
   "metadata": {},
   "outputs": [
    {
     "data": {
      "text/plain": [
       "0.96"
      ]
     },
     "execution_count": 118,
     "metadata": {},
     "output_type": "execute_result"
    }
   ],
   "source": [
    "R2_WS = round(r2_score(y_tr, y_pred_ws_MLPR), 2)\n",
    "R2_WS"
   ]
  },
  {
   "cell_type": "code",
   "execution_count": 119,
   "metadata": {},
   "outputs": [
    {
     "data": {
      "text/plain": [
       "0.17"
      ]
     },
     "execution_count": 119,
     "metadata": {},
     "output_type": "execute_result"
    }
   ],
   "source": [
    "RMSE_WS=round(np.sqrt(mean_squared_error(y_tr, y_pred_ws_MLPR)), 2)\n",
    "RMSE_WS"
   ]
  },
  {
   "cell_type": "code",
   "execution_count": 120,
   "metadata": {},
   "outputs": [],
   "source": [
    "y_pred_CV_MLPR = cross_val_predict(best_MLPR, x_tr, y_tr, cv=cv)"
   ]
  },
  {
   "cell_type": "code",
   "execution_count": 121,
   "metadata": {},
   "outputs": [
    {
     "data": {
      "text/plain": [
       "array([1.2365656, 2.5244331, 1.4749697, ..., 6.2257752, 2.649792 ,\n",
       "       1.8970821], dtype=float32)"
      ]
     },
     "execution_count": 121,
     "metadata": {},
     "output_type": "execute_result"
    }
   ],
   "source": [
    "y_pred_CV_MLPR"
   ]
  },
  {
   "cell_type": "code",
   "execution_count": 122,
   "metadata": {},
   "outputs": [
    {
     "data": {
      "text/plain": [
       "0.46"
      ]
     },
     "execution_count": 122,
     "metadata": {},
     "output_type": "execute_result"
    }
   ],
   "source": [
    "Q2_CV = round(r2_score(y_tr, y_pred_CV_MLPR), 2)\n",
    "Q2_CV"
   ]
  },
  {
   "cell_type": "code",
   "execution_count": 123,
   "metadata": {},
   "outputs": [
    {
     "data": {
      "text/plain": [
       "0.66"
      ]
     },
     "execution_count": 123,
     "metadata": {},
     "output_type": "execute_result"
    }
   ],
   "source": [
    "RMSE_CV=round(np.sqrt(mean_squared_error(y_tr, y_pred_CV_MLPR)), 2)\n",
    "RMSE_CV"
   ]
  },
  {
   "cell_type": "markdown",
   "metadata": {},
   "source": [
    "# 9. Prediction for test set's molecules"
   ]
  },
  {
   "cell_type": "code",
   "execution_count": 124,
   "metadata": {},
   "outputs": [],
   "source": [
    "x_ts = np.array(x_ts, dtype=np.float32)\n",
    "y_ts = np.array(y_ts, dtype=np.float32)"
   ]
  },
  {
   "cell_type": "code",
   "execution_count": 125,
   "metadata": {},
   "outputs": [],
   "source": [
    "y_pred_MLPR = best_MLPR.predict(x_ts)"
   ]
  },
  {
   "cell_type": "code",
   "execution_count": 126,
   "metadata": {},
   "outputs": [
    {
     "data": {
      "text/plain": [
       "0.48"
      ]
     },
     "execution_count": 126,
     "metadata": {},
     "output_type": "execute_result"
    }
   ],
   "source": [
    "Q2_TS = round(r2_score(y_ts, y_pred_MLPR), 2)\n",
    "Q2_TS"
   ]
  },
  {
   "cell_type": "code",
   "execution_count": 127,
   "metadata": {},
   "outputs": [
    {
     "data": {
      "text/plain": [
       "0.65"
      ]
     },
     "execution_count": 127,
     "metadata": {},
     "output_type": "execute_result"
    }
   ],
   "source": [
    "RMSE_TS=round(np.sqrt(mean_squared_error(y_ts, y_pred_MLPR)), 2)\n",
    "RMSE_TS"
   ]
  },
  {
   "cell_type": "markdown",
   "metadata": {},
   "source": [
    "# save the model to disk"
   ]
  },
  {
   "cell_type": "code",
   "execution_count": 128,
   "metadata": {},
   "outputs": [],
   "source": [
    "pickle.dump(best_MLPR, open('models/Padels/Toxicity_MLPR_KlekotaRoth.pkl', 'wb'))"
   ]
  },
  {
   "cell_type": "markdown",
   "metadata": {},
   "source": [
    "# load the model from disk"
   ]
  },
  {
   "cell_type": "code",
   "execution_count": 191,
   "metadata": {},
   "outputs": [],
   "source": [
    "best_MLPR = pickle.load(open('models/Padels/Toxicity_MLPR_KlekotaRoth.pkl', 'rb'))"
   ]
  },
  {
   "cell_type": "markdown",
   "metadata": {},
   "source": [
    "# 10. Y-randomization MLPR"
   ]
  },
  {
   "cell_type": "code",
   "execution_count": 192,
   "metadata": {},
   "outputs": [
    {
     "name": "stderr",
     "output_type": "stream",
     "text": [
      "[Parallel(n_jobs=-1)]: Using backend LokyBackend with 16 concurrent workers.\n",
      "[Parallel(n_jobs=-1)]: Done  18 tasks      | elapsed: 202.2min\n",
      "[Parallel(n_jobs=-1)]: Done  50 out of  50 | elapsed: 357.5min finished\n"
     ]
    },
    {
     "name": "stdout",
     "output_type": "stream",
     "text": [
      "True score =  0.47 \n",
      "Y-randomization =  -0.47 \n",
      "p-value =  0.0196\n"
     ]
    }
   ],
   "source": [
    "# permutations = 50\n",
    "# score, permutation_scores, pvalue = permutation_test_score(best_MLPR, x_tr, y_tr,\n",
    "#                                                            cv=cv, scoring='r2',\n",
    "#                                                            n_permutations=permutations,\n",
    "#                                                            n_jobs=-1,\n",
    "#                                                            verbose=1,\n",
    "#                                                            random_state=seed)\n",
    "# print('True score = ', score.round(2),\n",
    "#       '\\nY-randomization = ', np.mean(permutation_scores).round(2),\n",
    "#       '\\np-value = ', pvalue.round(4))"
   ]
  },
  {
   "cell_type": "markdown",
   "metadata": {},
   "source": [
    "# 11. Estimating applicability domain. Method - Euclidian distances, K=1"
   ]
  },
  {
   "cell_type": "code",
   "execution_count": 129,
   "metadata": {},
   "outputs": [],
   "source": [
    "neighbors_k= pairwise_distances(x_tr, n_jobs=-1)\n",
    "neighbors_k.sort(0)"
   ]
  },
  {
   "cell_type": "code",
   "execution_count": 130,
   "metadata": {},
   "outputs": [
    {
     "data": {
      "text/html": [
       "<div>\n",
       "<style scoped>\n",
       "    .dataframe tbody tr th:only-of-type {\n",
       "        vertical-align: middle;\n",
       "    }\n",
       "\n",
       "    .dataframe tbody tr th {\n",
       "        vertical-align: top;\n",
       "    }\n",
       "\n",
       "    .dataframe thead th {\n",
       "        text-align: right;\n",
       "    }\n",
       "</style>\n",
       "<table border=\"1\" class=\"dataframe\">\n",
       "  <thead>\n",
       "    <tr style=\"text-align: right;\">\n",
       "      <th></th>\n",
       "      <th>0</th>\n",
       "      <th>1</th>\n",
       "      <th>2</th>\n",
       "      <th>3</th>\n",
       "      <th>4</th>\n",
       "      <th>5</th>\n",
       "      <th>6</th>\n",
       "      <th>7</th>\n",
       "      <th>8</th>\n",
       "      <th>9</th>\n",
       "      <th>...</th>\n",
       "      <th>7864</th>\n",
       "      <th>7865</th>\n",
       "      <th>7866</th>\n",
       "      <th>7867</th>\n",
       "      <th>7868</th>\n",
       "      <th>7869</th>\n",
       "      <th>7870</th>\n",
       "      <th>7871</th>\n",
       "      <th>7872</th>\n",
       "      <th>7873</th>\n",
       "    </tr>\n",
       "  </thead>\n",
       "  <tbody>\n",
       "    <tr>\n",
       "      <th>0</th>\n",
       "      <td>0.000000</td>\n",
       "      <td>0.000000</td>\n",
       "      <td>0.000000</td>\n",
       "      <td>0.000000</td>\n",
       "      <td>0.000000</td>\n",
       "      <td>0.000000</td>\n",
       "      <td>0.000000</td>\n",
       "      <td>0.000000</td>\n",
       "      <td>0.000000</td>\n",
       "      <td>0.000000</td>\n",
       "      <td>...</td>\n",
       "      <td>0.000000</td>\n",
       "      <td>0.000000</td>\n",
       "      <td>0.000000</td>\n",
       "      <td>0.000000</td>\n",
       "      <td>0.000000</td>\n",
       "      <td>0.000000</td>\n",
       "      <td>0.000000</td>\n",
       "      <td>0.000000</td>\n",
       "      <td>0.000000</td>\n",
       "      <td>0.000000</td>\n",
       "    </tr>\n",
       "    <tr>\n",
       "      <th>1</th>\n",
       "      <td>2.000000</td>\n",
       "      <td>4.795832</td>\n",
       "      <td>2.000000</td>\n",
       "      <td>4.472136</td>\n",
       "      <td>2.645751</td>\n",
       "      <td>3.741657</td>\n",
       "      <td>0.000000</td>\n",
       "      <td>3.464102</td>\n",
       "      <td>0.000000</td>\n",
       "      <td>1.414214</td>\n",
       "      <td>...</td>\n",
       "      <td>3.316625</td>\n",
       "      <td>2.449490</td>\n",
       "      <td>4.898980</td>\n",
       "      <td>4.898980</td>\n",
       "      <td>2.645751</td>\n",
       "      <td>2.645751</td>\n",
       "      <td>6.000000</td>\n",
       "      <td>3.162278</td>\n",
       "      <td>5.477226</td>\n",
       "      <td>5.099020</td>\n",
       "    </tr>\n",
       "    <tr>\n",
       "      <th>2</th>\n",
       "      <td>3.162278</td>\n",
       "      <td>5.196152</td>\n",
       "      <td>2.000000</td>\n",
       "      <td>4.472136</td>\n",
       "      <td>2.645751</td>\n",
       "      <td>4.242640</td>\n",
       "      <td>3.316625</td>\n",
       "      <td>3.464102</td>\n",
       "      <td>1.414214</td>\n",
       "      <td>1.414214</td>\n",
       "      <td>...</td>\n",
       "      <td>3.464102</td>\n",
       "      <td>2.449490</td>\n",
       "      <td>8.062258</td>\n",
       "      <td>5.099020</td>\n",
       "      <td>3.316625</td>\n",
       "      <td>2.645751</td>\n",
       "      <td>6.082763</td>\n",
       "      <td>3.464102</td>\n",
       "      <td>5.656854</td>\n",
       "      <td>5.385165</td>\n",
       "    </tr>\n",
       "    <tr>\n",
       "      <th>3</th>\n",
       "      <td>3.316625</td>\n",
       "      <td>5.291502</td>\n",
       "      <td>2.000000</td>\n",
       "      <td>4.472136</td>\n",
       "      <td>2.645751</td>\n",
       "      <td>4.242640</td>\n",
       "      <td>4.472136</td>\n",
       "      <td>3.741657</td>\n",
       "      <td>2.000000</td>\n",
       "      <td>1.732051</td>\n",
       "      <td>...</td>\n",
       "      <td>3.741657</td>\n",
       "      <td>2.828427</td>\n",
       "      <td>8.124039</td>\n",
       "      <td>5.196152</td>\n",
       "      <td>4.123106</td>\n",
       "      <td>2.828427</td>\n",
       "      <td>6.244998</td>\n",
       "      <td>3.741657</td>\n",
       "      <td>5.656854</td>\n",
       "      <td>5.477226</td>\n",
       "    </tr>\n",
       "    <tr>\n",
       "      <th>4</th>\n",
       "      <td>3.316625</td>\n",
       "      <td>5.291502</td>\n",
       "      <td>2.000000</td>\n",
       "      <td>4.795832</td>\n",
       "      <td>2.828427</td>\n",
       "      <td>4.472136</td>\n",
       "      <td>4.690416</td>\n",
       "      <td>3.872983</td>\n",
       "      <td>2.236068</td>\n",
       "      <td>1.732051</td>\n",
       "      <td>...</td>\n",
       "      <td>3.872983</td>\n",
       "      <td>2.828427</td>\n",
       "      <td>8.185352</td>\n",
       "      <td>5.656854</td>\n",
       "      <td>4.242640</td>\n",
       "      <td>2.828427</td>\n",
       "      <td>6.244998</td>\n",
       "      <td>4.000000</td>\n",
       "      <td>5.830952</td>\n",
       "      <td>5.656854</td>\n",
       "    </tr>\n",
       "    <tr>\n",
       "      <th>...</th>\n",
       "      <td>...</td>\n",
       "      <td>...</td>\n",
       "      <td>...</td>\n",
       "      <td>...</td>\n",
       "      <td>...</td>\n",
       "      <td>...</td>\n",
       "      <td>...</td>\n",
       "      <td>...</td>\n",
       "      <td>...</td>\n",
       "      <td>...</td>\n",
       "      <td>...</td>\n",
       "      <td>...</td>\n",
       "      <td>...</td>\n",
       "      <td>...</td>\n",
       "      <td>...</td>\n",
       "      <td>...</td>\n",
       "      <td>...</td>\n",
       "      <td>...</td>\n",
       "      <td>...</td>\n",
       "      <td>...</td>\n",
       "      <td>...</td>\n",
       "    </tr>\n",
       "    <tr>\n",
       "      <th>7869</th>\n",
       "      <td>12.649111</td>\n",
       "      <td>12.845233</td>\n",
       "      <td>12.529964</td>\n",
       "      <td>13.000000</td>\n",
       "      <td>12.247449</td>\n",
       "      <td>12.206555</td>\n",
       "      <td>12.165525</td>\n",
       "      <td>12.328828</td>\n",
       "      <td>12.884099</td>\n",
       "      <td>13.038404</td>\n",
       "      <td>...</td>\n",
       "      <td>12.961481</td>\n",
       "      <td>12.649111</td>\n",
       "      <td>12.489996</td>\n",
       "      <td>13.228757</td>\n",
       "      <td>13.266500</td>\n",
       "      <td>12.961481</td>\n",
       "      <td>12.609520</td>\n",
       "      <td>12.727922</td>\n",
       "      <td>12.529964</td>\n",
       "      <td>13.266500</td>\n",
       "    </tr>\n",
       "    <tr>\n",
       "      <th>7870</th>\n",
       "      <td>12.649111</td>\n",
       "      <td>13.000000</td>\n",
       "      <td>12.806249</td>\n",
       "      <td>13.038404</td>\n",
       "      <td>12.529964</td>\n",
       "      <td>12.328828</td>\n",
       "      <td>12.369317</td>\n",
       "      <td>12.369317</td>\n",
       "      <td>13.038404</td>\n",
       "      <td>13.076696</td>\n",
       "      <td>...</td>\n",
       "      <td>13.114877</td>\n",
       "      <td>12.727922</td>\n",
       "      <td>12.489996</td>\n",
       "      <td>13.638182</td>\n",
       "      <td>13.266500</td>\n",
       "      <td>13.000000</td>\n",
       "      <td>12.609520</td>\n",
       "      <td>12.845233</td>\n",
       "      <td>12.688578</td>\n",
       "      <td>13.379088</td>\n",
       "    </tr>\n",
       "    <tr>\n",
       "      <th>7871</th>\n",
       "      <td>13.000000</td>\n",
       "      <td>13.114877</td>\n",
       "      <td>12.922848</td>\n",
       "      <td>13.190906</td>\n",
       "      <td>12.688578</td>\n",
       "      <td>12.409674</td>\n",
       "      <td>12.369317</td>\n",
       "      <td>12.649111</td>\n",
       "      <td>13.076696</td>\n",
       "      <td>13.341664</td>\n",
       "      <td>...</td>\n",
       "      <td>13.152946</td>\n",
       "      <td>12.806249</td>\n",
       "      <td>12.529964</td>\n",
       "      <td>13.674794</td>\n",
       "      <td>13.304134</td>\n",
       "      <td>13.341664</td>\n",
       "      <td>12.688578</td>\n",
       "      <td>13.038404</td>\n",
       "      <td>12.806249</td>\n",
       "      <td>13.453624</td>\n",
       "    </tr>\n",
       "    <tr>\n",
       "      <th>7872</th>\n",
       "      <td>13.038404</td>\n",
       "      <td>13.304134</td>\n",
       "      <td>13.190906</td>\n",
       "      <td>13.190906</td>\n",
       "      <td>12.961481</td>\n",
       "      <td>12.609520</td>\n",
       "      <td>12.449900</td>\n",
       "      <td>12.806249</td>\n",
       "      <td>13.228757</td>\n",
       "      <td>13.527749</td>\n",
       "      <td>...</td>\n",
       "      <td>13.190906</td>\n",
       "      <td>12.806249</td>\n",
       "      <td>12.609520</td>\n",
       "      <td>13.747727</td>\n",
       "      <td>13.341664</td>\n",
       "      <td>13.453624</td>\n",
       "      <td>12.806249</td>\n",
       "      <td>13.304134</td>\n",
       "      <td>13.038404</td>\n",
       "      <td>13.490738</td>\n",
       "    </tr>\n",
       "    <tr>\n",
       "      <th>7873</th>\n",
       "      <td>13.341664</td>\n",
       "      <td>13.416408</td>\n",
       "      <td>13.266500</td>\n",
       "      <td>13.304134</td>\n",
       "      <td>13.114877</td>\n",
       "      <td>13.341664</td>\n",
       "      <td>13.114877</td>\n",
       "      <td>12.845233</td>\n",
       "      <td>13.379088</td>\n",
       "      <td>13.601471</td>\n",
       "      <td>...</td>\n",
       "      <td>13.266500</td>\n",
       "      <td>12.961481</td>\n",
       "      <td>12.688578</td>\n",
       "      <td>13.784049</td>\n",
       "      <td>13.453624</td>\n",
       "      <td>13.527749</td>\n",
       "      <td>12.884099</td>\n",
       "      <td>13.416408</td>\n",
       "      <td>13.076696</td>\n",
       "      <td>13.820275</td>\n",
       "    </tr>\n",
       "  </tbody>\n",
       "</table>\n",
       "<p>7874 rows × 7874 columns</p>\n",
       "</div>"
      ],
      "text/plain": [
       "           0          1          2          3          4          5     \\\n",
       "0      0.000000   0.000000   0.000000   0.000000   0.000000   0.000000   \n",
       "1      2.000000   4.795832   2.000000   4.472136   2.645751   3.741657   \n",
       "2      3.162278   5.196152   2.000000   4.472136   2.645751   4.242640   \n",
       "3      3.316625   5.291502   2.000000   4.472136   2.645751   4.242640   \n",
       "4      3.316625   5.291502   2.000000   4.795832   2.828427   4.472136   \n",
       "...         ...        ...        ...        ...        ...        ...   \n",
       "7869  12.649111  12.845233  12.529964  13.000000  12.247449  12.206555   \n",
       "7870  12.649111  13.000000  12.806249  13.038404  12.529964  12.328828   \n",
       "7871  13.000000  13.114877  12.922848  13.190906  12.688578  12.409674   \n",
       "7872  13.038404  13.304134  13.190906  13.190906  12.961481  12.609520   \n",
       "7873  13.341664  13.416408  13.266500  13.304134  13.114877  13.341664   \n",
       "\n",
       "           6          7          8          9     ...       7864       7865  \\\n",
       "0      0.000000   0.000000   0.000000   0.000000  ...   0.000000   0.000000   \n",
       "1      0.000000   3.464102   0.000000   1.414214  ...   3.316625   2.449490   \n",
       "2      3.316625   3.464102   1.414214   1.414214  ...   3.464102   2.449490   \n",
       "3      4.472136   3.741657   2.000000   1.732051  ...   3.741657   2.828427   \n",
       "4      4.690416   3.872983   2.236068   1.732051  ...   3.872983   2.828427   \n",
       "...         ...        ...        ...        ...  ...        ...        ...   \n",
       "7869  12.165525  12.328828  12.884099  13.038404  ...  12.961481  12.649111   \n",
       "7870  12.369317  12.369317  13.038404  13.076696  ...  13.114877  12.727922   \n",
       "7871  12.369317  12.649111  13.076696  13.341664  ...  13.152946  12.806249   \n",
       "7872  12.449900  12.806249  13.228757  13.527749  ...  13.190906  12.806249   \n",
       "7873  13.114877  12.845233  13.379088  13.601471  ...  13.266500  12.961481   \n",
       "\n",
       "           7866       7867       7868       7869       7870       7871  \\\n",
       "0      0.000000   0.000000   0.000000   0.000000   0.000000   0.000000   \n",
       "1      4.898980   4.898980   2.645751   2.645751   6.000000   3.162278   \n",
       "2      8.062258   5.099020   3.316625   2.645751   6.082763   3.464102   \n",
       "3      8.124039   5.196152   4.123106   2.828427   6.244998   3.741657   \n",
       "4      8.185352   5.656854   4.242640   2.828427   6.244998   4.000000   \n",
       "...         ...        ...        ...        ...        ...        ...   \n",
       "7869  12.489996  13.228757  13.266500  12.961481  12.609520  12.727922   \n",
       "7870  12.489996  13.638182  13.266500  13.000000  12.609520  12.845233   \n",
       "7871  12.529964  13.674794  13.304134  13.341664  12.688578  13.038404   \n",
       "7872  12.609520  13.747727  13.341664  13.453624  12.806249  13.304134   \n",
       "7873  12.688578  13.784049  13.453624  13.527749  12.884099  13.416408   \n",
       "\n",
       "           7872       7873  \n",
       "0      0.000000   0.000000  \n",
       "1      5.477226   5.099020  \n",
       "2      5.656854   5.385165  \n",
       "3      5.656854   5.477226  \n",
       "4      5.830952   5.656854  \n",
       "...         ...        ...  \n",
       "7869  12.529964  13.266500  \n",
       "7870  12.688578  13.379088  \n",
       "7871  12.806249  13.453624  \n",
       "7872  13.038404  13.490738  \n",
       "7873  13.076696  13.820275  \n",
       "\n",
       "[7874 rows x 7874 columns]"
      ]
     },
     "execution_count": 130,
     "metadata": {},
     "output_type": "execute_result"
    }
   ],
   "source": [
    "df_tr=pd.DataFrame(neighbors_k)\n",
    "df_tr"
   ]
  },
  {
   "cell_type": "code",
   "execution_count": 131,
   "metadata": {},
   "outputs": [],
   "source": [
    "similarity= neighbors_k"
   ]
  },
  {
   "cell_type": "code",
   "execution_count": 132,
   "metadata": {},
   "outputs": [],
   "source": [
    "Dmean=np.mean(similarity[1,:])"
   ]
  },
  {
   "cell_type": "code",
   "execution_count": 133,
   "metadata": {},
   "outputs": [
    {
     "data": {
      "text/plain": [
       "2.93"
      ]
     },
     "execution_count": 133,
     "metadata": {},
     "output_type": "execute_result"
    }
   ],
   "source": [
    "round(Dmean, 2)"
   ]
  },
  {
   "cell_type": "code",
   "execution_count": 134,
   "metadata": {},
   "outputs": [],
   "source": [
    "std=np.std(similarity[1,:])"
   ]
  },
  {
   "cell_type": "code",
   "execution_count": 135,
   "metadata": {},
   "outputs": [
    {
     "data": {
      "text/plain": [
       "1.44"
      ]
     },
     "execution_count": 135,
     "metadata": {},
     "output_type": "execute_result"
    }
   ],
   "source": [
    "round(std, 2)"
   ]
  },
  {
   "cell_type": "code",
   "execution_count": 136,
   "metadata": {},
   "outputs": [
    {
     "name": "stdout",
     "output_type": "stream",
     "text": [
      "3.65\n"
     ]
    }
   ],
   "source": [
    "model_AD_limit=Dmean+std*0.5\n",
    "print(np.round(model_AD_limit, 2))"
   ]
  },
  {
   "cell_type": "code",
   "execution_count": 137,
   "metadata": {},
   "outputs": [],
   "source": [
    "neighbors_k_ts= pairwise_distances(x_tr,Y=x_ts, n_jobs=-1)\n",
    "neighbors_k_ts.sort(0)"
   ]
  },
  {
   "cell_type": "code",
   "execution_count": 138,
   "metadata": {},
   "outputs": [
    {
     "data": {
      "text/html": [
       "<div>\n",
       "<style scoped>\n",
       "    .dataframe tbody tr th:only-of-type {\n",
       "        vertical-align: middle;\n",
       "    }\n",
       "\n",
       "    .dataframe tbody tr th {\n",
       "        vertical-align: top;\n",
       "    }\n",
       "\n",
       "    .dataframe thead th {\n",
       "        text-align: right;\n",
       "    }\n",
       "</style>\n",
       "<table border=\"1\" class=\"dataframe\">\n",
       "  <thead>\n",
       "    <tr style=\"text-align: right;\">\n",
       "      <th></th>\n",
       "      <th>0</th>\n",
       "      <th>1</th>\n",
       "      <th>2</th>\n",
       "      <th>3</th>\n",
       "      <th>4</th>\n",
       "      <th>5</th>\n",
       "      <th>6</th>\n",
       "      <th>7</th>\n",
       "      <th>8</th>\n",
       "      <th>9</th>\n",
       "      <th>...</th>\n",
       "      <th>1959</th>\n",
       "      <th>1960</th>\n",
       "      <th>1961</th>\n",
       "      <th>1962</th>\n",
       "      <th>1963</th>\n",
       "      <th>1964</th>\n",
       "      <th>1965</th>\n",
       "      <th>1966</th>\n",
       "      <th>1967</th>\n",
       "      <th>1968</th>\n",
       "    </tr>\n",
       "  </thead>\n",
       "  <tbody>\n",
       "    <tr>\n",
       "      <th>0</th>\n",
       "      <td>1.000000</td>\n",
       "      <td>3.605551</td>\n",
       "      <td>3.464102</td>\n",
       "      <td>2.449490</td>\n",
       "      <td>2.449490</td>\n",
       "      <td>2.000000</td>\n",
       "      <td>1.414214</td>\n",
       "      <td>3.000000</td>\n",
       "      <td>3.162278</td>\n",
       "      <td>2.236068</td>\n",
       "      <td>...</td>\n",
       "      <td>2.645751</td>\n",
       "      <td>6.164414</td>\n",
       "      <td>3.162278</td>\n",
       "      <td>1.732051</td>\n",
       "      <td>4.123106</td>\n",
       "      <td>2.000000</td>\n",
       "      <td>2.236068</td>\n",
       "      <td>2.000000</td>\n",
       "      <td>4.472136</td>\n",
       "      <td>2.449490</td>\n",
       "    </tr>\n",
       "    <tr>\n",
       "      <th>1</th>\n",
       "      <td>1.000000</td>\n",
       "      <td>4.123106</td>\n",
       "      <td>3.464102</td>\n",
       "      <td>2.449490</td>\n",
       "      <td>2.645751</td>\n",
       "      <td>2.449490</td>\n",
       "      <td>1.732051</td>\n",
       "      <td>3.605551</td>\n",
       "      <td>3.605551</td>\n",
       "      <td>2.449490</td>\n",
       "      <td>...</td>\n",
       "      <td>3.316625</td>\n",
       "      <td>7.071068</td>\n",
       "      <td>4.472136</td>\n",
       "      <td>2.000000</td>\n",
       "      <td>4.795832</td>\n",
       "      <td>3.000000</td>\n",
       "      <td>3.464102</td>\n",
       "      <td>2.236068</td>\n",
       "      <td>4.582576</td>\n",
       "      <td>2.645751</td>\n",
       "    </tr>\n",
       "    <tr>\n",
       "      <th>2</th>\n",
       "      <td>1.000000</td>\n",
       "      <td>4.358899</td>\n",
       "      <td>3.741657</td>\n",
       "      <td>3.316625</td>\n",
       "      <td>2.828427</td>\n",
       "      <td>2.645751</td>\n",
       "      <td>2.828427</td>\n",
       "      <td>3.605551</td>\n",
       "      <td>3.605551</td>\n",
       "      <td>3.000000</td>\n",
       "      <td>...</td>\n",
       "      <td>3.605551</td>\n",
       "      <td>7.071068</td>\n",
       "      <td>5.196152</td>\n",
       "      <td>2.645751</td>\n",
       "      <td>5.099020</td>\n",
       "      <td>3.162278</td>\n",
       "      <td>4.000000</td>\n",
       "      <td>2.828427</td>\n",
       "      <td>4.795832</td>\n",
       "      <td>2.645751</td>\n",
       "    </tr>\n",
       "    <tr>\n",
       "      <th>3</th>\n",
       "      <td>1.000000</td>\n",
       "      <td>4.582576</td>\n",
       "      <td>4.123106</td>\n",
       "      <td>3.464102</td>\n",
       "      <td>2.828427</td>\n",
       "      <td>2.828427</td>\n",
       "      <td>3.464102</td>\n",
       "      <td>3.605551</td>\n",
       "      <td>3.741657</td>\n",
       "      <td>3.000000</td>\n",
       "      <td>...</td>\n",
       "      <td>3.741657</td>\n",
       "      <td>7.141428</td>\n",
       "      <td>5.196152</td>\n",
       "      <td>2.645751</td>\n",
       "      <td>5.099020</td>\n",
       "      <td>3.162278</td>\n",
       "      <td>4.690416</td>\n",
       "      <td>3.000000</td>\n",
       "      <td>4.898980</td>\n",
       "      <td>2.645751</td>\n",
       "    </tr>\n",
       "    <tr>\n",
       "      <th>4</th>\n",
       "      <td>1.000000</td>\n",
       "      <td>4.582576</td>\n",
       "      <td>4.242640</td>\n",
       "      <td>3.872983</td>\n",
       "      <td>3.000000</td>\n",
       "      <td>2.828427</td>\n",
       "      <td>3.741657</td>\n",
       "      <td>3.741657</td>\n",
       "      <td>4.242640</td>\n",
       "      <td>3.316625</td>\n",
       "      <td>...</td>\n",
       "      <td>3.872983</td>\n",
       "      <td>7.211102</td>\n",
       "      <td>5.196152</td>\n",
       "      <td>3.162278</td>\n",
       "      <td>5.291502</td>\n",
       "      <td>3.316625</td>\n",
       "      <td>4.795832</td>\n",
       "      <td>3.000000</td>\n",
       "      <td>5.000000</td>\n",
       "      <td>2.645751</td>\n",
       "    </tr>\n",
       "    <tr>\n",
       "      <th>...</th>\n",
       "      <td>...</td>\n",
       "      <td>...</td>\n",
       "      <td>...</td>\n",
       "      <td>...</td>\n",
       "      <td>...</td>\n",
       "      <td>...</td>\n",
       "      <td>...</td>\n",
       "      <td>...</td>\n",
       "      <td>...</td>\n",
       "      <td>...</td>\n",
       "      <td>...</td>\n",
       "      <td>...</td>\n",
       "      <td>...</td>\n",
       "      <td>...</td>\n",
       "      <td>...</td>\n",
       "      <td>...</td>\n",
       "      <td>...</td>\n",
       "      <td>...</td>\n",
       "      <td>...</td>\n",
       "      <td>...</td>\n",
       "      <td>...</td>\n",
       "    </tr>\n",
       "    <tr>\n",
       "      <th>7869</th>\n",
       "      <td>12.806249</td>\n",
       "      <td>12.041595</td>\n",
       "      <td>12.206555</td>\n",
       "      <td>12.767145</td>\n",
       "      <td>12.288206</td>\n",
       "      <td>12.409674</td>\n",
       "      <td>12.328828</td>\n",
       "      <td>13.379088</td>\n",
       "      <td>12.124355</td>\n",
       "      <td>12.649111</td>\n",
       "      <td>...</td>\n",
       "      <td>12.922848</td>\n",
       "      <td>13.114877</td>\n",
       "      <td>13.114877</td>\n",
       "      <td>13.304134</td>\n",
       "      <td>12.961481</td>\n",
       "      <td>12.727922</td>\n",
       "      <td>13.228757</td>\n",
       "      <td>13.152946</td>\n",
       "      <td>12.409674</td>\n",
       "      <td>13.000000</td>\n",
       "    </tr>\n",
       "    <tr>\n",
       "      <th>7870</th>\n",
       "      <td>12.806249</td>\n",
       "      <td>12.083046</td>\n",
       "      <td>12.206555</td>\n",
       "      <td>12.806249</td>\n",
       "      <td>12.529964</td>\n",
       "      <td>12.688578</td>\n",
       "      <td>12.529964</td>\n",
       "      <td>13.379088</td>\n",
       "      <td>12.206555</td>\n",
       "      <td>12.649111</td>\n",
       "      <td>...</td>\n",
       "      <td>13.000000</td>\n",
       "      <td>13.228757</td>\n",
       "      <td>13.266500</td>\n",
       "      <td>13.341664</td>\n",
       "      <td>13.038404</td>\n",
       "      <td>12.806249</td>\n",
       "      <td>13.266500</td>\n",
       "      <td>13.190906</td>\n",
       "      <td>12.449900</td>\n",
       "      <td>13.038404</td>\n",
       "    </tr>\n",
       "    <tr>\n",
       "      <th>7871</th>\n",
       "      <td>13.152946</td>\n",
       "      <td>12.288206</td>\n",
       "      <td>12.449900</td>\n",
       "      <td>13.000000</td>\n",
       "      <td>12.609520</td>\n",
       "      <td>12.806249</td>\n",
       "      <td>12.688578</td>\n",
       "      <td>13.711309</td>\n",
       "      <td>12.529964</td>\n",
       "      <td>12.688578</td>\n",
       "      <td>...</td>\n",
       "      <td>13.266500</td>\n",
       "      <td>13.266500</td>\n",
       "      <td>13.341664</td>\n",
       "      <td>13.674794</td>\n",
       "      <td>13.266500</td>\n",
       "      <td>12.806249</td>\n",
       "      <td>13.304134</td>\n",
       "      <td>13.527749</td>\n",
       "      <td>12.449900</td>\n",
       "      <td>13.379088</td>\n",
       "    </tr>\n",
       "    <tr>\n",
       "      <th>7872</th>\n",
       "      <td>13.266500</td>\n",
       "      <td>12.328828</td>\n",
       "      <td>12.649111</td>\n",
       "      <td>13.152946</td>\n",
       "      <td>12.961481</td>\n",
       "      <td>13.152946</td>\n",
       "      <td>12.806249</td>\n",
       "      <td>13.820275</td>\n",
       "      <td>12.727922</td>\n",
       "      <td>12.961481</td>\n",
       "      <td>...</td>\n",
       "      <td>13.304134</td>\n",
       "      <td>13.638182</td>\n",
       "      <td>13.379088</td>\n",
       "      <td>13.784049</td>\n",
       "      <td>13.304134</td>\n",
       "      <td>12.845233</td>\n",
       "      <td>13.304134</td>\n",
       "      <td>13.638182</td>\n",
       "      <td>12.449900</td>\n",
       "      <td>13.490738</td>\n",
       "    </tr>\n",
       "    <tr>\n",
       "      <th>7873</th>\n",
       "      <td>13.416408</td>\n",
       "      <td>12.649111</td>\n",
       "      <td>13.190906</td>\n",
       "      <td>13.152946</td>\n",
       "      <td>13.038404</td>\n",
       "      <td>13.152946</td>\n",
       "      <td>12.961481</td>\n",
       "      <td>13.892444</td>\n",
       "      <td>12.961481</td>\n",
       "      <td>13.114877</td>\n",
       "      <td>...</td>\n",
       "      <td>13.601471</td>\n",
       "      <td>13.674794</td>\n",
       "      <td>13.601471</td>\n",
       "      <td>13.856406</td>\n",
       "      <td>13.453624</td>\n",
       "      <td>12.884099</td>\n",
       "      <td>13.341664</td>\n",
       "      <td>13.711309</td>\n",
       "      <td>12.609520</td>\n",
       "      <td>13.564660</td>\n",
       "    </tr>\n",
       "  </tbody>\n",
       "</table>\n",
       "<p>7874 rows × 1969 columns</p>\n",
       "</div>"
      ],
      "text/plain": [
       "           0          1          2          3          4          5     \\\n",
       "0      1.000000   3.605551   3.464102   2.449490   2.449490   2.000000   \n",
       "1      1.000000   4.123106   3.464102   2.449490   2.645751   2.449490   \n",
       "2      1.000000   4.358899   3.741657   3.316625   2.828427   2.645751   \n",
       "3      1.000000   4.582576   4.123106   3.464102   2.828427   2.828427   \n",
       "4      1.000000   4.582576   4.242640   3.872983   3.000000   2.828427   \n",
       "...         ...        ...        ...        ...        ...        ...   \n",
       "7869  12.806249  12.041595  12.206555  12.767145  12.288206  12.409674   \n",
       "7870  12.806249  12.083046  12.206555  12.806249  12.529964  12.688578   \n",
       "7871  13.152946  12.288206  12.449900  13.000000  12.609520  12.806249   \n",
       "7872  13.266500  12.328828  12.649111  13.152946  12.961481  13.152946   \n",
       "7873  13.416408  12.649111  13.190906  13.152946  13.038404  13.152946   \n",
       "\n",
       "           6          7          8          9     ...       1959       1960  \\\n",
       "0      1.414214   3.000000   3.162278   2.236068  ...   2.645751   6.164414   \n",
       "1      1.732051   3.605551   3.605551   2.449490  ...   3.316625   7.071068   \n",
       "2      2.828427   3.605551   3.605551   3.000000  ...   3.605551   7.071068   \n",
       "3      3.464102   3.605551   3.741657   3.000000  ...   3.741657   7.141428   \n",
       "4      3.741657   3.741657   4.242640   3.316625  ...   3.872983   7.211102   \n",
       "...         ...        ...        ...        ...  ...        ...        ...   \n",
       "7869  12.328828  13.379088  12.124355  12.649111  ...  12.922848  13.114877   \n",
       "7870  12.529964  13.379088  12.206555  12.649111  ...  13.000000  13.228757   \n",
       "7871  12.688578  13.711309  12.529964  12.688578  ...  13.266500  13.266500   \n",
       "7872  12.806249  13.820275  12.727922  12.961481  ...  13.304134  13.638182   \n",
       "7873  12.961481  13.892444  12.961481  13.114877  ...  13.601471  13.674794   \n",
       "\n",
       "           1961       1962       1963       1964       1965       1966  \\\n",
       "0      3.162278   1.732051   4.123106   2.000000   2.236068   2.000000   \n",
       "1      4.472136   2.000000   4.795832   3.000000   3.464102   2.236068   \n",
       "2      5.196152   2.645751   5.099020   3.162278   4.000000   2.828427   \n",
       "3      5.196152   2.645751   5.099020   3.162278   4.690416   3.000000   \n",
       "4      5.196152   3.162278   5.291502   3.316625   4.795832   3.000000   \n",
       "...         ...        ...        ...        ...        ...        ...   \n",
       "7869  13.114877  13.304134  12.961481  12.727922  13.228757  13.152946   \n",
       "7870  13.266500  13.341664  13.038404  12.806249  13.266500  13.190906   \n",
       "7871  13.341664  13.674794  13.266500  12.806249  13.304134  13.527749   \n",
       "7872  13.379088  13.784049  13.304134  12.845233  13.304134  13.638182   \n",
       "7873  13.601471  13.856406  13.453624  12.884099  13.341664  13.711309   \n",
       "\n",
       "           1967       1968  \n",
       "0      4.472136   2.449490  \n",
       "1      4.582576   2.645751  \n",
       "2      4.795832   2.645751  \n",
       "3      4.898980   2.645751  \n",
       "4      5.000000   2.645751  \n",
       "...         ...        ...  \n",
       "7869  12.409674  13.000000  \n",
       "7870  12.449900  13.038404  \n",
       "7871  12.449900  13.379088  \n",
       "7872  12.449900  13.490738  \n",
       "7873  12.609520  13.564660  \n",
       "\n",
       "[7874 rows x 1969 columns]"
      ]
     },
     "execution_count": 138,
     "metadata": {},
     "output_type": "execute_result"
    }
   ],
   "source": [
    "x_ts_AD=pd.DataFrame(neighbors_k_ts)\n",
    "x_ts_AD"
   ]
  },
  {
   "cell_type": "code",
   "execution_count": 139,
   "metadata": {},
   "outputs": [
    {
     "name": "stdout",
     "output_type": "stream",
     "text": [
      "[1.    3.606 3.464 ... 2.    4.472 2.449]\n"
     ]
    }
   ],
   "source": [
    "similarity_ts= neighbors_k_ts\n",
    "cpd_AD=similarity_ts[0,:]\n",
    "cpd_value = np.round(cpd_AD, 3)\n",
    "print(cpd_value)"
   ]
  },
  {
   "cell_type": "code",
   "execution_count": 140,
   "metadata": {},
   "outputs": [
    {
     "name": "stdout",
     "output_type": "stream",
     "text": [
      "[ True  True  True ...  True False  True]\n"
     ]
    }
   ],
   "source": [
    "cpd_AD = np.where(cpd_value <= model_AD_limit, True, False)\n",
    "print(cpd_AD)"
   ]
  },
  {
   "cell_type": "code",
   "execution_count": 141,
   "metadata": {},
   "outputs": [
    {
     "name": "stdout",
     "output_type": "stream",
     "text": [
      "Coverage =  0.71\n"
     ]
    }
   ],
   "source": [
    "print(\"Coverage = \", round(sum(cpd_AD) / len(cpd_AD), 2))"
   ]
  },
  {
   "cell_type": "code",
   "execution_count": 142,
   "metadata": {},
   "outputs": [
    {
     "name": "stdout",
     "output_type": "stream",
     "text": [
      "Indices of substances included in AD =  [   0    1    2 ... 1965 1966 1968]\n"
     ]
    }
   ],
   "source": [
    "print(\"Indices of substances included in AD = \", np.where(cpd_AD != 0)[0])"
   ]
  },
  {
   "cell_type": "code",
   "execution_count": 143,
   "metadata": {},
   "outputs": [],
   "source": [
    "out_Ad=list(np.where(cpd_AD == 0)[0])"
   ]
  },
  {
   "cell_type": "markdown",
   "metadata": {},
   "source": [
    "# 12. Prediction only for molecules included in  AD"
   ]
  },
  {
   "cell_type": "code",
   "execution_count": 144,
   "metadata": {},
   "outputs": [],
   "source": [
    "y_pred_MLPR_ad=list(y_pred_MLPR)"
   ]
  },
  {
   "cell_type": "code",
   "execution_count": 145,
   "metadata": {},
   "outputs": [],
   "source": [
    "y_pred_MLPR_ad[:] = [x for i,x in enumerate(y_pred_MLPR_ad) if i not in out_Ad]"
   ]
  },
  {
   "cell_type": "code",
   "execution_count": 146,
   "metadata": {},
   "outputs": [
    {
     "data": {
      "text/plain": [
       "1397"
      ]
     },
     "execution_count": 146,
     "metadata": {},
     "output_type": "execute_result"
    }
   ],
   "source": [
    "len(y_pred_MLPR_ad)"
   ]
  },
  {
   "cell_type": "code",
   "execution_count": 147,
   "metadata": {},
   "outputs": [],
   "source": [
    "y_ts_ad=list(y_ts)"
   ]
  },
  {
   "cell_type": "code",
   "execution_count": 148,
   "metadata": {},
   "outputs": [],
   "source": [
    "y_ts_ad[:] = [x for i,x in enumerate(y_ts_ad) if i not in out_Ad]"
   ]
  },
  {
   "cell_type": "code",
   "execution_count": 149,
   "metadata": {},
   "outputs": [
    {
     "data": {
      "text/plain": [
       "1397"
      ]
     },
     "execution_count": 149,
     "metadata": {},
     "output_type": "execute_result"
    }
   ],
   "source": [
    "len(y_ts_ad)"
   ]
  },
  {
   "cell_type": "code",
   "execution_count": 150,
   "metadata": {},
   "outputs": [
    {
     "data": {
      "text/plain": [
       "0.54"
      ]
     },
     "execution_count": 150,
     "metadata": {},
     "output_type": "execute_result"
    }
   ],
   "source": [
    "Q2_TS = round(r2_score(y_ts_ad, y_pred_MLPR_ad), 2)\n",
    "Q2_TS"
   ]
  },
  {
   "cell_type": "code",
   "execution_count": 151,
   "metadata": {
    "scrolled": true
   },
   "outputs": [
    {
     "data": {
      "text/plain": [
       "0.64"
      ]
     },
     "execution_count": 151,
     "metadata": {},
     "output_type": "execute_result"
    }
   ],
   "source": [
    "RMSE_TS=round(np.sqrt(mean_squared_error(y_ts_ad, y_pred_MLPR_ad)), 2)\n",
    "RMSE_TS"
   ]
  },
  {
   "cell_type": "markdown",
   "metadata": {},
   "source": [
    "# k-nearest neighbors"
   ]
  },
  {
   "cell_type": "code",
   "execution_count": 152,
   "metadata": {},
   "outputs": [],
   "source": [
    "from sklearn.neighbors import KNeighborsRegressor"
   ]
  },
  {
   "cell_type": "code",
   "execution_count": 153,
   "metadata": {},
   "outputs": [],
   "source": [
    "k_range = list(range(1, 31))\n",
    "param_grid = dict(n_neighbors=k_range)"
   ]
  },
  {
   "cell_type": "code",
   "execution_count": 154,
   "metadata": {},
   "outputs": [],
   "source": [
    "m = GridSearchCV(KNeighborsRegressor(), param_grid, n_jobs=-1, cv=cv, verbose=1)"
   ]
  },
  {
   "cell_type": "code",
   "execution_count": 155,
   "metadata": {},
   "outputs": [
    {
     "name": "stdout",
     "output_type": "stream",
     "text": [
      "Fitting 5 folds for each of 30 candidates, totalling 150 fits\n"
     ]
    },
    {
     "data": {
      "text/html": [
       "<style>#sk-container-id-4 {color: black;}#sk-container-id-4 pre{padding: 0;}#sk-container-id-4 div.sk-toggleable {background-color: white;}#sk-container-id-4 label.sk-toggleable__label {cursor: pointer;display: block;width: 100%;margin-bottom: 0;padding: 0.3em;box-sizing: border-box;text-align: center;}#sk-container-id-4 label.sk-toggleable__label-arrow:before {content: \"▸\";float: left;margin-right: 0.25em;color: #696969;}#sk-container-id-4 label.sk-toggleable__label-arrow:hover:before {color: black;}#sk-container-id-4 div.sk-estimator:hover label.sk-toggleable__label-arrow:before {color: black;}#sk-container-id-4 div.sk-toggleable__content {max-height: 0;max-width: 0;overflow: hidden;text-align: left;background-color: #f0f8ff;}#sk-container-id-4 div.sk-toggleable__content pre {margin: 0.2em;color: black;border-radius: 0.25em;background-color: #f0f8ff;}#sk-container-id-4 input.sk-toggleable__control:checked~div.sk-toggleable__content {max-height: 200px;max-width: 100%;overflow: auto;}#sk-container-id-4 input.sk-toggleable__control:checked~label.sk-toggleable__label-arrow:before {content: \"▾\";}#sk-container-id-4 div.sk-estimator input.sk-toggleable__control:checked~label.sk-toggleable__label {background-color: #d4ebff;}#sk-container-id-4 div.sk-label input.sk-toggleable__control:checked~label.sk-toggleable__label {background-color: #d4ebff;}#sk-container-id-4 input.sk-hidden--visually {border: 0;clip: rect(1px 1px 1px 1px);clip: rect(1px, 1px, 1px, 1px);height: 1px;margin: -1px;overflow: hidden;padding: 0;position: absolute;width: 1px;}#sk-container-id-4 div.sk-estimator {font-family: monospace;background-color: #f0f8ff;border: 1px dotted black;border-radius: 0.25em;box-sizing: border-box;margin-bottom: 0.5em;}#sk-container-id-4 div.sk-estimator:hover {background-color: #d4ebff;}#sk-container-id-4 div.sk-parallel-item::after {content: \"\";width: 100%;border-bottom: 1px solid gray;flex-grow: 1;}#sk-container-id-4 div.sk-label:hover label.sk-toggleable__label {background-color: #d4ebff;}#sk-container-id-4 div.sk-serial::before {content: \"\";position: absolute;border-left: 1px solid gray;box-sizing: border-box;top: 0;bottom: 0;left: 50%;z-index: 0;}#sk-container-id-4 div.sk-serial {display: flex;flex-direction: column;align-items: center;background-color: white;padding-right: 0.2em;padding-left: 0.2em;position: relative;}#sk-container-id-4 div.sk-item {position: relative;z-index: 1;}#sk-container-id-4 div.sk-parallel {display: flex;align-items: stretch;justify-content: center;background-color: white;position: relative;}#sk-container-id-4 div.sk-item::before, #sk-container-id-4 div.sk-parallel-item::before {content: \"\";position: absolute;border-left: 1px solid gray;box-sizing: border-box;top: 0;bottom: 0;left: 50%;z-index: -1;}#sk-container-id-4 div.sk-parallel-item {display: flex;flex-direction: column;z-index: 1;position: relative;background-color: white;}#sk-container-id-4 div.sk-parallel-item:first-child::after {align-self: flex-end;width: 50%;}#sk-container-id-4 div.sk-parallel-item:last-child::after {align-self: flex-start;width: 50%;}#sk-container-id-4 div.sk-parallel-item:only-child::after {width: 0;}#sk-container-id-4 div.sk-dashed-wrapped {border: 1px dashed gray;margin: 0 0.4em 0.5em 0.4em;box-sizing: border-box;padding-bottom: 0.4em;background-color: white;}#sk-container-id-4 div.sk-label label {font-family: monospace;font-weight: bold;display: inline-block;line-height: 1.2em;}#sk-container-id-4 div.sk-label-container {text-align: center;}#sk-container-id-4 div.sk-container {/* jupyter's `normalize.less` sets `[hidden] { display: none; }` but bootstrap.min.css set `[hidden] { display: none !important; }` so we also need the `!important` here to be able to override the default hidden behavior on the sphinx rendered scikit-learn.org. See: https://github.com/scikit-learn/scikit-learn/issues/21755 */display: inline-block !important;position: relative;}#sk-container-id-4 div.sk-text-repr-fallback {display: none;}</style><div id=\"sk-container-id-4\" class=\"sk-top-container\"><div class=\"sk-text-repr-fallback\"><pre>GridSearchCV(cv=KFold(n_splits=5, random_state=42, shuffle=True),\n",
       "             estimator=KNeighborsRegressor(), n_jobs=-1,\n",
       "             param_grid={&#x27;n_neighbors&#x27;: [1, 2, 3, 4, 5, 6, 7, 8, 9, 10, 11, 12,\n",
       "                                         13, 14, 15, 16, 17, 18, 19, 20, 21, 22,\n",
       "                                         23, 24, 25, 26, 27, 28, 29, 30]},\n",
       "             verbose=1)</pre><b>In a Jupyter environment, please rerun this cell to show the HTML representation or trust the notebook. <br />On GitHub, the HTML representation is unable to render, please try loading this page with nbviewer.org.</b></div><div class=\"sk-container\" hidden><div class=\"sk-item sk-dashed-wrapped\"><div class=\"sk-label-container\"><div class=\"sk-label sk-toggleable\"><input class=\"sk-toggleable__control sk-hidden--visually\" id=\"sk-estimator-id-10\" type=\"checkbox\" ><label for=\"sk-estimator-id-10\" class=\"sk-toggleable__label sk-toggleable__label-arrow\">GridSearchCV</label><div class=\"sk-toggleable__content\"><pre>GridSearchCV(cv=KFold(n_splits=5, random_state=42, shuffle=True),\n",
       "             estimator=KNeighborsRegressor(), n_jobs=-1,\n",
       "             param_grid={&#x27;n_neighbors&#x27;: [1, 2, 3, 4, 5, 6, 7, 8, 9, 10, 11, 12,\n",
       "                                         13, 14, 15, 16, 17, 18, 19, 20, 21, 22,\n",
       "                                         23, 24, 25, 26, 27, 28, 29, 30]},\n",
       "             verbose=1)</pre></div></div></div><div class=\"sk-parallel\"><div class=\"sk-parallel-item\"><div class=\"sk-item\"><div class=\"sk-label-container\"><div class=\"sk-label sk-toggleable\"><input class=\"sk-toggleable__control sk-hidden--visually\" id=\"sk-estimator-id-11\" type=\"checkbox\" ><label for=\"sk-estimator-id-11\" class=\"sk-toggleable__label sk-toggleable__label-arrow\">estimator: KNeighborsRegressor</label><div class=\"sk-toggleable__content\"><pre>KNeighborsRegressor()</pre></div></div></div><div class=\"sk-serial\"><div class=\"sk-item\"><div class=\"sk-estimator sk-toggleable\"><input class=\"sk-toggleable__control sk-hidden--visually\" id=\"sk-estimator-id-12\" type=\"checkbox\" ><label for=\"sk-estimator-id-12\" class=\"sk-toggleable__label sk-toggleable__label-arrow\">KNeighborsRegressor</label><div class=\"sk-toggleable__content\"><pre>KNeighborsRegressor()</pre></div></div></div></div></div></div></div></div></div></div>"
      ],
      "text/plain": [
       "GridSearchCV(cv=KFold(n_splits=5, random_state=42, shuffle=True),\n",
       "             estimator=KNeighborsRegressor(), n_jobs=-1,\n",
       "             param_grid={'n_neighbors': [1, 2, 3, 4, 5, 6, 7, 8, 9, 10, 11, 12,\n",
       "                                         13, 14, 15, 16, 17, 18, 19, 20, 21, 22,\n",
       "                                         23, 24, 25, 26, 27, 28, 29, 30]},\n",
       "             verbose=1)"
      ]
     },
     "execution_count": 155,
     "metadata": {},
     "output_type": "execute_result"
    }
   ],
   "source": [
    "m.fit(x_tr, y_tr)"
   ]
  },
  {
   "cell_type": "code",
   "execution_count": 156,
   "metadata": {},
   "outputs": [],
   "source": [
    "best_kNN = m.best_estimator_"
   ]
  },
  {
   "cell_type": "code",
   "execution_count": 157,
   "metadata": {},
   "outputs": [
    {
     "data": {
      "text/plain": [
       "{'n_neighbors': 7}"
      ]
     },
     "execution_count": 157,
     "metadata": {},
     "output_type": "execute_result"
    }
   ],
   "source": [
    "m.best_params_"
   ]
  },
  {
   "cell_type": "code",
   "execution_count": 158,
   "metadata": {},
   "outputs": [],
   "source": [
    "y_pred_ws_kNN = best_kNN.predict(x_tr)"
   ]
  },
  {
   "cell_type": "code",
   "execution_count": 159,
   "metadata": {},
   "outputs": [
    {
     "data": {
      "text/plain": [
       "0.57"
      ]
     },
     "execution_count": 159,
     "metadata": {},
     "output_type": "execute_result"
    }
   ],
   "source": [
    "R2_WS = round(r2_score(y_tr, y_pred_ws_kNN), 2)\n",
    "R2_WS"
   ]
  },
  {
   "cell_type": "code",
   "execution_count": 160,
   "metadata": {},
   "outputs": [
    {
     "data": {
      "text/plain": [
       "0.59"
      ]
     },
     "execution_count": 160,
     "metadata": {},
     "output_type": "execute_result"
    }
   ],
   "source": [
    "RMSE_WS=round(np.sqrt(mean_squared_error(y_tr, y_pred_ws_kNN)), 2)\n",
    "RMSE_WS"
   ]
  },
  {
   "cell_type": "code",
   "execution_count": 161,
   "metadata": {},
   "outputs": [],
   "source": [
    "y_pred_CV_kNN = cross_val_predict(best_kNN, x_tr, y_tr, cv=cv)"
   ]
  },
  {
   "cell_type": "code",
   "execution_count": 162,
   "metadata": {},
   "outputs": [
    {
     "data": {
      "text/plain": [
       "array([1.4740183, 2.64085  , 2.386482 , ..., 2.7291949, 2.639953 ,\n",
       "       2.0359805], dtype=float32)"
      ]
     },
     "execution_count": 162,
     "metadata": {},
     "output_type": "execute_result"
    }
   ],
   "source": [
    "y_pred_CV_kNN"
   ]
  },
  {
   "cell_type": "code",
   "execution_count": 163,
   "metadata": {},
   "outputs": [
    {
     "data": {
      "text/plain": [
       "0.39"
      ]
     },
     "execution_count": 163,
     "metadata": {},
     "output_type": "execute_result"
    }
   ],
   "source": [
    "Q2_CV = round(r2_score(y_tr, y_pred_CV_kNN), 2)\n",
    "Q2_CV"
   ]
  },
  {
   "cell_type": "code",
   "execution_count": 164,
   "metadata": {},
   "outputs": [
    {
     "data": {
      "text/plain": [
       "0.7"
      ]
     },
     "execution_count": 164,
     "metadata": {},
     "output_type": "execute_result"
    }
   ],
   "source": [
    "RMSE_CV=round(np.sqrt(mean_squared_error(y_tr, y_pred_CV_kNN)), 2)\n",
    "RMSE_CV"
   ]
  },
  {
   "cell_type": "markdown",
   "metadata": {},
   "source": [
    "# 9. Prediction for test set's molecules"
   ]
  },
  {
   "cell_type": "code",
   "execution_count": 165,
   "metadata": {},
   "outputs": [],
   "source": [
    "x_ts = np.array(x_ts, dtype=np.float32)\n",
    "y_ts = np.array(y_ts, dtype=np.float32)"
   ]
  },
  {
   "cell_type": "code",
   "execution_count": 166,
   "metadata": {},
   "outputs": [],
   "source": [
    "y_pred_kNN = best_kNN.predict(x_ts)"
   ]
  },
  {
   "cell_type": "code",
   "execution_count": 167,
   "metadata": {},
   "outputs": [
    {
     "data": {
      "text/plain": [
       "0.41"
      ]
     },
     "execution_count": 167,
     "metadata": {},
     "output_type": "execute_result"
    }
   ],
   "source": [
    "Q2_TS = round(r2_score(y_ts, y_pred_kNN), 2)\n",
    "Q2_TS"
   ]
  },
  {
   "cell_type": "code",
   "execution_count": 168,
   "metadata": {},
   "outputs": [
    {
     "data": {
      "text/plain": [
       "0.69"
      ]
     },
     "execution_count": 168,
     "metadata": {},
     "output_type": "execute_result"
    }
   ],
   "source": [
    "RMSE_TS=round(np.sqrt(mean_squared_error(y_ts, y_pred_kNN)), 2)\n",
    "RMSE_TS"
   ]
  },
  {
   "cell_type": "markdown",
   "metadata": {},
   "source": [
    "# save the model to disk"
   ]
  },
  {
   "cell_type": "code",
   "execution_count": 169,
   "metadata": {},
   "outputs": [],
   "source": [
    "pickle.dump(best_kNN, open('models/Padels/Toxicity_kNN_KlekotaRoth.pkl', 'wb'))"
   ]
  },
  {
   "cell_type": "markdown",
   "metadata": {},
   "source": [
    "# load the model from disk"
   ]
  },
  {
   "cell_type": "code",
   "execution_count": 234,
   "metadata": {},
   "outputs": [],
   "source": [
    "best_kNN = pickle.load(open('models/Padels/Toxicity_kNN_KlekotaRoth.pkl', 'rb'))"
   ]
  },
  {
   "cell_type": "markdown",
   "metadata": {},
   "source": [
    "# 10. Y-randomization MLPR"
   ]
  },
  {
   "cell_type": "code",
   "execution_count": 235,
   "metadata": {},
   "outputs": [
    {
     "name": "stderr",
     "output_type": "stream",
     "text": [
      "[Parallel(n_jobs=-1)]: Using backend LokyBackend with 16 concurrent workers.\n",
      "[Parallel(n_jobs=-1)]: Done  18 tasks      | elapsed:  1.9min\n"
     ]
    },
    {
     "name": "stdout",
     "output_type": "stream",
     "text": [
      "True score =  0.41 \n",
      "Y-randomization =  -0.17 \n",
      "p-value =  0.0196\n"
     ]
    },
    {
     "name": "stderr",
     "output_type": "stream",
     "text": [
      "[Parallel(n_jobs=-1)]: Done  50 out of  50 | elapsed:  3.2min finished\n"
     ]
    }
   ],
   "source": [
    "# permutations = 50\n",
    "# score, permutation_scores, pvalue = permutation_test_score(best_kNN, x_tr, y_tr,\n",
    "#                                                            cv=cv, scoring='r2',\n",
    "#                                                            n_permutations=permutations,\n",
    "#                                                            n_jobs=-1,\n",
    "#                                                            verbose=1,\n",
    "#                                                            random_state=seed)\n",
    "# print('True score = ', score.round(2),\n",
    "#       '\\nY-randomization = ', np.mean(permutation_scores).round(2),\n",
    "#       '\\np-value = ', pvalue.round(4))"
   ]
  },
  {
   "cell_type": "markdown",
   "metadata": {},
   "source": [
    "# 11. Estimating applicability domain. Method - Euclidian distances, K=1"
   ]
  },
  {
   "cell_type": "code",
   "execution_count": 170,
   "metadata": {},
   "outputs": [],
   "source": [
    "neighbors_k= pairwise_distances(x_tr, n_jobs=-1)\n",
    "neighbors_k.sort(0)"
   ]
  },
  {
   "cell_type": "code",
   "execution_count": 171,
   "metadata": {},
   "outputs": [
    {
     "data": {
      "text/html": [
       "<div>\n",
       "<style scoped>\n",
       "    .dataframe tbody tr th:only-of-type {\n",
       "        vertical-align: middle;\n",
       "    }\n",
       "\n",
       "    .dataframe tbody tr th {\n",
       "        vertical-align: top;\n",
       "    }\n",
       "\n",
       "    .dataframe thead th {\n",
       "        text-align: right;\n",
       "    }\n",
       "</style>\n",
       "<table border=\"1\" class=\"dataframe\">\n",
       "  <thead>\n",
       "    <tr style=\"text-align: right;\">\n",
       "      <th></th>\n",
       "      <th>0</th>\n",
       "      <th>1</th>\n",
       "      <th>2</th>\n",
       "      <th>3</th>\n",
       "      <th>4</th>\n",
       "      <th>5</th>\n",
       "      <th>6</th>\n",
       "      <th>7</th>\n",
       "      <th>8</th>\n",
       "      <th>9</th>\n",
       "      <th>...</th>\n",
       "      <th>7864</th>\n",
       "      <th>7865</th>\n",
       "      <th>7866</th>\n",
       "      <th>7867</th>\n",
       "      <th>7868</th>\n",
       "      <th>7869</th>\n",
       "      <th>7870</th>\n",
       "      <th>7871</th>\n",
       "      <th>7872</th>\n",
       "      <th>7873</th>\n",
       "    </tr>\n",
       "  </thead>\n",
       "  <tbody>\n",
       "    <tr>\n",
       "      <th>0</th>\n",
       "      <td>0.000000</td>\n",
       "      <td>0.000000</td>\n",
       "      <td>0.000000</td>\n",
       "      <td>0.000000</td>\n",
       "      <td>0.000000</td>\n",
       "      <td>0.000000</td>\n",
       "      <td>0.000000</td>\n",
       "      <td>0.000000</td>\n",
       "      <td>0.000000</td>\n",
       "      <td>0.000000</td>\n",
       "      <td>...</td>\n",
       "      <td>0.000000</td>\n",
       "      <td>0.000000</td>\n",
       "      <td>0.000000</td>\n",
       "      <td>0.000000</td>\n",
       "      <td>0.000000</td>\n",
       "      <td>0.000000</td>\n",
       "      <td>0.000000</td>\n",
       "      <td>0.000000</td>\n",
       "      <td>0.000000</td>\n",
       "      <td>0.000000</td>\n",
       "    </tr>\n",
       "    <tr>\n",
       "      <th>1</th>\n",
       "      <td>2.000000</td>\n",
       "      <td>4.795832</td>\n",
       "      <td>2.000000</td>\n",
       "      <td>4.472136</td>\n",
       "      <td>2.645751</td>\n",
       "      <td>3.741657</td>\n",
       "      <td>0.000000</td>\n",
       "      <td>3.464102</td>\n",
       "      <td>0.000000</td>\n",
       "      <td>1.414214</td>\n",
       "      <td>...</td>\n",
       "      <td>3.316625</td>\n",
       "      <td>2.449490</td>\n",
       "      <td>4.898980</td>\n",
       "      <td>4.898980</td>\n",
       "      <td>2.645751</td>\n",
       "      <td>2.645751</td>\n",
       "      <td>6.000000</td>\n",
       "      <td>3.162278</td>\n",
       "      <td>5.477226</td>\n",
       "      <td>5.099020</td>\n",
       "    </tr>\n",
       "    <tr>\n",
       "      <th>2</th>\n",
       "      <td>3.162278</td>\n",
       "      <td>5.196152</td>\n",
       "      <td>2.000000</td>\n",
       "      <td>4.472136</td>\n",
       "      <td>2.645751</td>\n",
       "      <td>4.242640</td>\n",
       "      <td>3.316625</td>\n",
       "      <td>3.464102</td>\n",
       "      <td>1.414214</td>\n",
       "      <td>1.414214</td>\n",
       "      <td>...</td>\n",
       "      <td>3.464102</td>\n",
       "      <td>2.449490</td>\n",
       "      <td>8.062258</td>\n",
       "      <td>5.099020</td>\n",
       "      <td>3.316625</td>\n",
       "      <td>2.645751</td>\n",
       "      <td>6.082763</td>\n",
       "      <td>3.464102</td>\n",
       "      <td>5.656854</td>\n",
       "      <td>5.385165</td>\n",
       "    </tr>\n",
       "    <tr>\n",
       "      <th>3</th>\n",
       "      <td>3.316625</td>\n",
       "      <td>5.291502</td>\n",
       "      <td>2.000000</td>\n",
       "      <td>4.472136</td>\n",
       "      <td>2.645751</td>\n",
       "      <td>4.242640</td>\n",
       "      <td>4.472136</td>\n",
       "      <td>3.741657</td>\n",
       "      <td>2.000000</td>\n",
       "      <td>1.732051</td>\n",
       "      <td>...</td>\n",
       "      <td>3.741657</td>\n",
       "      <td>2.828427</td>\n",
       "      <td>8.124039</td>\n",
       "      <td>5.196152</td>\n",
       "      <td>4.123106</td>\n",
       "      <td>2.828427</td>\n",
       "      <td>6.244998</td>\n",
       "      <td>3.741657</td>\n",
       "      <td>5.656854</td>\n",
       "      <td>5.477226</td>\n",
       "    </tr>\n",
       "    <tr>\n",
       "      <th>4</th>\n",
       "      <td>3.316625</td>\n",
       "      <td>5.291502</td>\n",
       "      <td>2.000000</td>\n",
       "      <td>4.795832</td>\n",
       "      <td>2.828427</td>\n",
       "      <td>4.472136</td>\n",
       "      <td>4.690416</td>\n",
       "      <td>3.872983</td>\n",
       "      <td>2.236068</td>\n",
       "      <td>1.732051</td>\n",
       "      <td>...</td>\n",
       "      <td>3.872983</td>\n",
       "      <td>2.828427</td>\n",
       "      <td>8.185352</td>\n",
       "      <td>5.656854</td>\n",
       "      <td>4.242640</td>\n",
       "      <td>2.828427</td>\n",
       "      <td>6.244998</td>\n",
       "      <td>4.000000</td>\n",
       "      <td>5.830952</td>\n",
       "      <td>5.656854</td>\n",
       "    </tr>\n",
       "    <tr>\n",
       "      <th>...</th>\n",
       "      <td>...</td>\n",
       "      <td>...</td>\n",
       "      <td>...</td>\n",
       "      <td>...</td>\n",
       "      <td>...</td>\n",
       "      <td>...</td>\n",
       "      <td>...</td>\n",
       "      <td>...</td>\n",
       "      <td>...</td>\n",
       "      <td>...</td>\n",
       "      <td>...</td>\n",
       "      <td>...</td>\n",
       "      <td>...</td>\n",
       "      <td>...</td>\n",
       "      <td>...</td>\n",
       "      <td>...</td>\n",
       "      <td>...</td>\n",
       "      <td>...</td>\n",
       "      <td>...</td>\n",
       "      <td>...</td>\n",
       "      <td>...</td>\n",
       "    </tr>\n",
       "    <tr>\n",
       "      <th>7869</th>\n",
       "      <td>12.649111</td>\n",
       "      <td>12.845233</td>\n",
       "      <td>12.529964</td>\n",
       "      <td>13.000000</td>\n",
       "      <td>12.247449</td>\n",
       "      <td>12.206555</td>\n",
       "      <td>12.165525</td>\n",
       "      <td>12.328828</td>\n",
       "      <td>12.884099</td>\n",
       "      <td>13.038404</td>\n",
       "      <td>...</td>\n",
       "      <td>12.961481</td>\n",
       "      <td>12.649111</td>\n",
       "      <td>12.489996</td>\n",
       "      <td>13.228757</td>\n",
       "      <td>13.266500</td>\n",
       "      <td>12.961481</td>\n",
       "      <td>12.609520</td>\n",
       "      <td>12.727922</td>\n",
       "      <td>12.529964</td>\n",
       "      <td>13.266500</td>\n",
       "    </tr>\n",
       "    <tr>\n",
       "      <th>7870</th>\n",
       "      <td>12.649111</td>\n",
       "      <td>13.000000</td>\n",
       "      <td>12.806249</td>\n",
       "      <td>13.038404</td>\n",
       "      <td>12.529964</td>\n",
       "      <td>12.328828</td>\n",
       "      <td>12.369317</td>\n",
       "      <td>12.369317</td>\n",
       "      <td>13.038404</td>\n",
       "      <td>13.076696</td>\n",
       "      <td>...</td>\n",
       "      <td>13.114877</td>\n",
       "      <td>12.727922</td>\n",
       "      <td>12.489996</td>\n",
       "      <td>13.638182</td>\n",
       "      <td>13.266500</td>\n",
       "      <td>13.000000</td>\n",
       "      <td>12.609520</td>\n",
       "      <td>12.845233</td>\n",
       "      <td>12.688578</td>\n",
       "      <td>13.379088</td>\n",
       "    </tr>\n",
       "    <tr>\n",
       "      <th>7871</th>\n",
       "      <td>13.000000</td>\n",
       "      <td>13.114877</td>\n",
       "      <td>12.922848</td>\n",
       "      <td>13.190906</td>\n",
       "      <td>12.688578</td>\n",
       "      <td>12.409674</td>\n",
       "      <td>12.369317</td>\n",
       "      <td>12.649111</td>\n",
       "      <td>13.076696</td>\n",
       "      <td>13.341664</td>\n",
       "      <td>...</td>\n",
       "      <td>13.152946</td>\n",
       "      <td>12.806249</td>\n",
       "      <td>12.529964</td>\n",
       "      <td>13.674794</td>\n",
       "      <td>13.304134</td>\n",
       "      <td>13.341664</td>\n",
       "      <td>12.688578</td>\n",
       "      <td>13.038404</td>\n",
       "      <td>12.806249</td>\n",
       "      <td>13.453624</td>\n",
       "    </tr>\n",
       "    <tr>\n",
       "      <th>7872</th>\n",
       "      <td>13.038404</td>\n",
       "      <td>13.304134</td>\n",
       "      <td>13.190906</td>\n",
       "      <td>13.190906</td>\n",
       "      <td>12.961481</td>\n",
       "      <td>12.609520</td>\n",
       "      <td>12.449900</td>\n",
       "      <td>12.806249</td>\n",
       "      <td>13.228757</td>\n",
       "      <td>13.527749</td>\n",
       "      <td>...</td>\n",
       "      <td>13.190906</td>\n",
       "      <td>12.806249</td>\n",
       "      <td>12.609520</td>\n",
       "      <td>13.747727</td>\n",
       "      <td>13.341664</td>\n",
       "      <td>13.453624</td>\n",
       "      <td>12.806249</td>\n",
       "      <td>13.304134</td>\n",
       "      <td>13.038404</td>\n",
       "      <td>13.490738</td>\n",
       "    </tr>\n",
       "    <tr>\n",
       "      <th>7873</th>\n",
       "      <td>13.341664</td>\n",
       "      <td>13.416408</td>\n",
       "      <td>13.266500</td>\n",
       "      <td>13.304134</td>\n",
       "      <td>13.114877</td>\n",
       "      <td>13.341664</td>\n",
       "      <td>13.114877</td>\n",
       "      <td>12.845233</td>\n",
       "      <td>13.379088</td>\n",
       "      <td>13.601471</td>\n",
       "      <td>...</td>\n",
       "      <td>13.266500</td>\n",
       "      <td>12.961481</td>\n",
       "      <td>12.688578</td>\n",
       "      <td>13.784049</td>\n",
       "      <td>13.453624</td>\n",
       "      <td>13.527749</td>\n",
       "      <td>12.884099</td>\n",
       "      <td>13.416408</td>\n",
       "      <td>13.076696</td>\n",
       "      <td>13.820275</td>\n",
       "    </tr>\n",
       "  </tbody>\n",
       "</table>\n",
       "<p>7874 rows × 7874 columns</p>\n",
       "</div>"
      ],
      "text/plain": [
       "           0          1          2          3          4          5     \\\n",
       "0      0.000000   0.000000   0.000000   0.000000   0.000000   0.000000   \n",
       "1      2.000000   4.795832   2.000000   4.472136   2.645751   3.741657   \n",
       "2      3.162278   5.196152   2.000000   4.472136   2.645751   4.242640   \n",
       "3      3.316625   5.291502   2.000000   4.472136   2.645751   4.242640   \n",
       "4      3.316625   5.291502   2.000000   4.795832   2.828427   4.472136   \n",
       "...         ...        ...        ...        ...        ...        ...   \n",
       "7869  12.649111  12.845233  12.529964  13.000000  12.247449  12.206555   \n",
       "7870  12.649111  13.000000  12.806249  13.038404  12.529964  12.328828   \n",
       "7871  13.000000  13.114877  12.922848  13.190906  12.688578  12.409674   \n",
       "7872  13.038404  13.304134  13.190906  13.190906  12.961481  12.609520   \n",
       "7873  13.341664  13.416408  13.266500  13.304134  13.114877  13.341664   \n",
       "\n",
       "           6          7          8          9     ...       7864       7865  \\\n",
       "0      0.000000   0.000000   0.000000   0.000000  ...   0.000000   0.000000   \n",
       "1      0.000000   3.464102   0.000000   1.414214  ...   3.316625   2.449490   \n",
       "2      3.316625   3.464102   1.414214   1.414214  ...   3.464102   2.449490   \n",
       "3      4.472136   3.741657   2.000000   1.732051  ...   3.741657   2.828427   \n",
       "4      4.690416   3.872983   2.236068   1.732051  ...   3.872983   2.828427   \n",
       "...         ...        ...        ...        ...  ...        ...        ...   \n",
       "7869  12.165525  12.328828  12.884099  13.038404  ...  12.961481  12.649111   \n",
       "7870  12.369317  12.369317  13.038404  13.076696  ...  13.114877  12.727922   \n",
       "7871  12.369317  12.649111  13.076696  13.341664  ...  13.152946  12.806249   \n",
       "7872  12.449900  12.806249  13.228757  13.527749  ...  13.190906  12.806249   \n",
       "7873  13.114877  12.845233  13.379088  13.601471  ...  13.266500  12.961481   \n",
       "\n",
       "           7866       7867       7868       7869       7870       7871  \\\n",
       "0      0.000000   0.000000   0.000000   0.000000   0.000000   0.000000   \n",
       "1      4.898980   4.898980   2.645751   2.645751   6.000000   3.162278   \n",
       "2      8.062258   5.099020   3.316625   2.645751   6.082763   3.464102   \n",
       "3      8.124039   5.196152   4.123106   2.828427   6.244998   3.741657   \n",
       "4      8.185352   5.656854   4.242640   2.828427   6.244998   4.000000   \n",
       "...         ...        ...        ...        ...        ...        ...   \n",
       "7869  12.489996  13.228757  13.266500  12.961481  12.609520  12.727922   \n",
       "7870  12.489996  13.638182  13.266500  13.000000  12.609520  12.845233   \n",
       "7871  12.529964  13.674794  13.304134  13.341664  12.688578  13.038404   \n",
       "7872  12.609520  13.747727  13.341664  13.453624  12.806249  13.304134   \n",
       "7873  12.688578  13.784049  13.453624  13.527749  12.884099  13.416408   \n",
       "\n",
       "           7872       7873  \n",
       "0      0.000000   0.000000  \n",
       "1      5.477226   5.099020  \n",
       "2      5.656854   5.385165  \n",
       "3      5.656854   5.477226  \n",
       "4      5.830952   5.656854  \n",
       "...         ...        ...  \n",
       "7869  12.529964  13.266500  \n",
       "7870  12.688578  13.379088  \n",
       "7871  12.806249  13.453624  \n",
       "7872  13.038404  13.490738  \n",
       "7873  13.076696  13.820275  \n",
       "\n",
       "[7874 rows x 7874 columns]"
      ]
     },
     "execution_count": 171,
     "metadata": {},
     "output_type": "execute_result"
    }
   ],
   "source": [
    "df_tr=pd.DataFrame(neighbors_k)\n",
    "df_tr"
   ]
  },
  {
   "cell_type": "code",
   "execution_count": 172,
   "metadata": {},
   "outputs": [],
   "source": [
    "similarity= neighbors_k"
   ]
  },
  {
   "cell_type": "code",
   "execution_count": 173,
   "metadata": {},
   "outputs": [],
   "source": [
    "Dmean=np.mean(similarity[1,:])"
   ]
  },
  {
   "cell_type": "code",
   "execution_count": 174,
   "metadata": {},
   "outputs": [
    {
     "data": {
      "text/plain": [
       "2.93"
      ]
     },
     "execution_count": 174,
     "metadata": {},
     "output_type": "execute_result"
    }
   ],
   "source": [
    "round(Dmean, 2)"
   ]
  },
  {
   "cell_type": "code",
   "execution_count": 175,
   "metadata": {},
   "outputs": [],
   "source": [
    "std=np.std(similarity[1,:])"
   ]
  },
  {
   "cell_type": "code",
   "execution_count": 176,
   "metadata": {},
   "outputs": [
    {
     "data": {
      "text/plain": [
       "1.44"
      ]
     },
     "execution_count": 176,
     "metadata": {},
     "output_type": "execute_result"
    }
   ],
   "source": [
    "round(std, 2)"
   ]
  },
  {
   "cell_type": "code",
   "execution_count": 177,
   "metadata": {},
   "outputs": [
    {
     "name": "stdout",
     "output_type": "stream",
     "text": [
      "3.65\n"
     ]
    }
   ],
   "source": [
    "model_AD_limit=Dmean+std*0.5\n",
    "print(np.round(model_AD_limit, 2))"
   ]
  },
  {
   "cell_type": "code",
   "execution_count": 178,
   "metadata": {},
   "outputs": [],
   "source": [
    "neighbors_k_ts= pairwise_distances(x_tr,Y=x_ts, n_jobs=-1)\n",
    "neighbors_k_ts.sort(0)"
   ]
  },
  {
   "cell_type": "code",
   "execution_count": 179,
   "metadata": {},
   "outputs": [
    {
     "data": {
      "text/html": [
       "<div>\n",
       "<style scoped>\n",
       "    .dataframe tbody tr th:only-of-type {\n",
       "        vertical-align: middle;\n",
       "    }\n",
       "\n",
       "    .dataframe tbody tr th {\n",
       "        vertical-align: top;\n",
       "    }\n",
       "\n",
       "    .dataframe thead th {\n",
       "        text-align: right;\n",
       "    }\n",
       "</style>\n",
       "<table border=\"1\" class=\"dataframe\">\n",
       "  <thead>\n",
       "    <tr style=\"text-align: right;\">\n",
       "      <th></th>\n",
       "      <th>0</th>\n",
       "      <th>1</th>\n",
       "      <th>2</th>\n",
       "      <th>3</th>\n",
       "      <th>4</th>\n",
       "      <th>5</th>\n",
       "      <th>6</th>\n",
       "      <th>7</th>\n",
       "      <th>8</th>\n",
       "      <th>9</th>\n",
       "      <th>...</th>\n",
       "      <th>1959</th>\n",
       "      <th>1960</th>\n",
       "      <th>1961</th>\n",
       "      <th>1962</th>\n",
       "      <th>1963</th>\n",
       "      <th>1964</th>\n",
       "      <th>1965</th>\n",
       "      <th>1966</th>\n",
       "      <th>1967</th>\n",
       "      <th>1968</th>\n",
       "    </tr>\n",
       "  </thead>\n",
       "  <tbody>\n",
       "    <tr>\n",
       "      <th>0</th>\n",
       "      <td>1.000000</td>\n",
       "      <td>3.605551</td>\n",
       "      <td>3.464102</td>\n",
       "      <td>2.449490</td>\n",
       "      <td>2.449490</td>\n",
       "      <td>2.000000</td>\n",
       "      <td>1.414214</td>\n",
       "      <td>3.000000</td>\n",
       "      <td>3.162278</td>\n",
       "      <td>2.236068</td>\n",
       "      <td>...</td>\n",
       "      <td>2.645751</td>\n",
       "      <td>6.164414</td>\n",
       "      <td>3.162278</td>\n",
       "      <td>1.732051</td>\n",
       "      <td>4.123106</td>\n",
       "      <td>2.000000</td>\n",
       "      <td>2.236068</td>\n",
       "      <td>2.000000</td>\n",
       "      <td>4.472136</td>\n",
       "      <td>2.449490</td>\n",
       "    </tr>\n",
       "    <tr>\n",
       "      <th>1</th>\n",
       "      <td>1.000000</td>\n",
       "      <td>4.123106</td>\n",
       "      <td>3.464102</td>\n",
       "      <td>2.449490</td>\n",
       "      <td>2.645751</td>\n",
       "      <td>2.449490</td>\n",
       "      <td>1.732051</td>\n",
       "      <td>3.605551</td>\n",
       "      <td>3.605551</td>\n",
       "      <td>2.449490</td>\n",
       "      <td>...</td>\n",
       "      <td>3.316625</td>\n",
       "      <td>7.071068</td>\n",
       "      <td>4.472136</td>\n",
       "      <td>2.000000</td>\n",
       "      <td>4.795832</td>\n",
       "      <td>3.000000</td>\n",
       "      <td>3.464102</td>\n",
       "      <td>2.236068</td>\n",
       "      <td>4.582576</td>\n",
       "      <td>2.645751</td>\n",
       "    </tr>\n",
       "    <tr>\n",
       "      <th>2</th>\n",
       "      <td>1.000000</td>\n",
       "      <td>4.358899</td>\n",
       "      <td>3.741657</td>\n",
       "      <td>3.316625</td>\n",
       "      <td>2.828427</td>\n",
       "      <td>2.645751</td>\n",
       "      <td>2.828427</td>\n",
       "      <td>3.605551</td>\n",
       "      <td>3.605551</td>\n",
       "      <td>3.000000</td>\n",
       "      <td>...</td>\n",
       "      <td>3.605551</td>\n",
       "      <td>7.071068</td>\n",
       "      <td>5.196152</td>\n",
       "      <td>2.645751</td>\n",
       "      <td>5.099020</td>\n",
       "      <td>3.162278</td>\n",
       "      <td>4.000000</td>\n",
       "      <td>2.828427</td>\n",
       "      <td>4.795832</td>\n",
       "      <td>2.645751</td>\n",
       "    </tr>\n",
       "    <tr>\n",
       "      <th>3</th>\n",
       "      <td>1.000000</td>\n",
       "      <td>4.582576</td>\n",
       "      <td>4.123106</td>\n",
       "      <td>3.464102</td>\n",
       "      <td>2.828427</td>\n",
       "      <td>2.828427</td>\n",
       "      <td>3.464102</td>\n",
       "      <td>3.605551</td>\n",
       "      <td>3.741657</td>\n",
       "      <td>3.000000</td>\n",
       "      <td>...</td>\n",
       "      <td>3.741657</td>\n",
       "      <td>7.141428</td>\n",
       "      <td>5.196152</td>\n",
       "      <td>2.645751</td>\n",
       "      <td>5.099020</td>\n",
       "      <td>3.162278</td>\n",
       "      <td>4.690416</td>\n",
       "      <td>3.000000</td>\n",
       "      <td>4.898980</td>\n",
       "      <td>2.645751</td>\n",
       "    </tr>\n",
       "    <tr>\n",
       "      <th>4</th>\n",
       "      <td>1.000000</td>\n",
       "      <td>4.582576</td>\n",
       "      <td>4.242640</td>\n",
       "      <td>3.872983</td>\n",
       "      <td>3.000000</td>\n",
       "      <td>2.828427</td>\n",
       "      <td>3.741657</td>\n",
       "      <td>3.741657</td>\n",
       "      <td>4.242640</td>\n",
       "      <td>3.316625</td>\n",
       "      <td>...</td>\n",
       "      <td>3.872983</td>\n",
       "      <td>7.211102</td>\n",
       "      <td>5.196152</td>\n",
       "      <td>3.162278</td>\n",
       "      <td>5.291502</td>\n",
       "      <td>3.316625</td>\n",
       "      <td>4.795832</td>\n",
       "      <td>3.000000</td>\n",
       "      <td>5.000000</td>\n",
       "      <td>2.645751</td>\n",
       "    </tr>\n",
       "    <tr>\n",
       "      <th>...</th>\n",
       "      <td>...</td>\n",
       "      <td>...</td>\n",
       "      <td>...</td>\n",
       "      <td>...</td>\n",
       "      <td>...</td>\n",
       "      <td>...</td>\n",
       "      <td>...</td>\n",
       "      <td>...</td>\n",
       "      <td>...</td>\n",
       "      <td>...</td>\n",
       "      <td>...</td>\n",
       "      <td>...</td>\n",
       "      <td>...</td>\n",
       "      <td>...</td>\n",
       "      <td>...</td>\n",
       "      <td>...</td>\n",
       "      <td>...</td>\n",
       "      <td>...</td>\n",
       "      <td>...</td>\n",
       "      <td>...</td>\n",
       "      <td>...</td>\n",
       "    </tr>\n",
       "    <tr>\n",
       "      <th>7869</th>\n",
       "      <td>12.806249</td>\n",
       "      <td>12.041595</td>\n",
       "      <td>12.206555</td>\n",
       "      <td>12.767145</td>\n",
       "      <td>12.288206</td>\n",
       "      <td>12.409674</td>\n",
       "      <td>12.328828</td>\n",
       "      <td>13.379088</td>\n",
       "      <td>12.124355</td>\n",
       "      <td>12.649111</td>\n",
       "      <td>...</td>\n",
       "      <td>12.922848</td>\n",
       "      <td>13.114877</td>\n",
       "      <td>13.114877</td>\n",
       "      <td>13.304134</td>\n",
       "      <td>12.961481</td>\n",
       "      <td>12.727922</td>\n",
       "      <td>13.228757</td>\n",
       "      <td>13.152946</td>\n",
       "      <td>12.409674</td>\n",
       "      <td>13.000000</td>\n",
       "    </tr>\n",
       "    <tr>\n",
       "      <th>7870</th>\n",
       "      <td>12.806249</td>\n",
       "      <td>12.083046</td>\n",
       "      <td>12.206555</td>\n",
       "      <td>12.806249</td>\n",
       "      <td>12.529964</td>\n",
       "      <td>12.688578</td>\n",
       "      <td>12.529964</td>\n",
       "      <td>13.379088</td>\n",
       "      <td>12.206555</td>\n",
       "      <td>12.649111</td>\n",
       "      <td>...</td>\n",
       "      <td>13.000000</td>\n",
       "      <td>13.228757</td>\n",
       "      <td>13.266500</td>\n",
       "      <td>13.341664</td>\n",
       "      <td>13.038404</td>\n",
       "      <td>12.806249</td>\n",
       "      <td>13.266500</td>\n",
       "      <td>13.190906</td>\n",
       "      <td>12.449900</td>\n",
       "      <td>13.038404</td>\n",
       "    </tr>\n",
       "    <tr>\n",
       "      <th>7871</th>\n",
       "      <td>13.152946</td>\n",
       "      <td>12.288206</td>\n",
       "      <td>12.449900</td>\n",
       "      <td>13.000000</td>\n",
       "      <td>12.609520</td>\n",
       "      <td>12.806249</td>\n",
       "      <td>12.688578</td>\n",
       "      <td>13.711309</td>\n",
       "      <td>12.529964</td>\n",
       "      <td>12.688578</td>\n",
       "      <td>...</td>\n",
       "      <td>13.266500</td>\n",
       "      <td>13.266500</td>\n",
       "      <td>13.341664</td>\n",
       "      <td>13.674794</td>\n",
       "      <td>13.266500</td>\n",
       "      <td>12.806249</td>\n",
       "      <td>13.304134</td>\n",
       "      <td>13.527749</td>\n",
       "      <td>12.449900</td>\n",
       "      <td>13.379088</td>\n",
       "    </tr>\n",
       "    <tr>\n",
       "      <th>7872</th>\n",
       "      <td>13.266500</td>\n",
       "      <td>12.328828</td>\n",
       "      <td>12.649111</td>\n",
       "      <td>13.152946</td>\n",
       "      <td>12.961481</td>\n",
       "      <td>13.152946</td>\n",
       "      <td>12.806249</td>\n",
       "      <td>13.820275</td>\n",
       "      <td>12.727922</td>\n",
       "      <td>12.961481</td>\n",
       "      <td>...</td>\n",
       "      <td>13.304134</td>\n",
       "      <td>13.638182</td>\n",
       "      <td>13.379088</td>\n",
       "      <td>13.784049</td>\n",
       "      <td>13.304134</td>\n",
       "      <td>12.845233</td>\n",
       "      <td>13.304134</td>\n",
       "      <td>13.638182</td>\n",
       "      <td>12.449900</td>\n",
       "      <td>13.490738</td>\n",
       "    </tr>\n",
       "    <tr>\n",
       "      <th>7873</th>\n",
       "      <td>13.416408</td>\n",
       "      <td>12.649111</td>\n",
       "      <td>13.190906</td>\n",
       "      <td>13.152946</td>\n",
       "      <td>13.038404</td>\n",
       "      <td>13.152946</td>\n",
       "      <td>12.961481</td>\n",
       "      <td>13.892444</td>\n",
       "      <td>12.961481</td>\n",
       "      <td>13.114877</td>\n",
       "      <td>...</td>\n",
       "      <td>13.601471</td>\n",
       "      <td>13.674794</td>\n",
       "      <td>13.601471</td>\n",
       "      <td>13.856406</td>\n",
       "      <td>13.453624</td>\n",
       "      <td>12.884099</td>\n",
       "      <td>13.341664</td>\n",
       "      <td>13.711309</td>\n",
       "      <td>12.609520</td>\n",
       "      <td>13.564660</td>\n",
       "    </tr>\n",
       "  </tbody>\n",
       "</table>\n",
       "<p>7874 rows × 1969 columns</p>\n",
       "</div>"
      ],
      "text/plain": [
       "           0          1          2          3          4          5     \\\n",
       "0      1.000000   3.605551   3.464102   2.449490   2.449490   2.000000   \n",
       "1      1.000000   4.123106   3.464102   2.449490   2.645751   2.449490   \n",
       "2      1.000000   4.358899   3.741657   3.316625   2.828427   2.645751   \n",
       "3      1.000000   4.582576   4.123106   3.464102   2.828427   2.828427   \n",
       "4      1.000000   4.582576   4.242640   3.872983   3.000000   2.828427   \n",
       "...         ...        ...        ...        ...        ...        ...   \n",
       "7869  12.806249  12.041595  12.206555  12.767145  12.288206  12.409674   \n",
       "7870  12.806249  12.083046  12.206555  12.806249  12.529964  12.688578   \n",
       "7871  13.152946  12.288206  12.449900  13.000000  12.609520  12.806249   \n",
       "7872  13.266500  12.328828  12.649111  13.152946  12.961481  13.152946   \n",
       "7873  13.416408  12.649111  13.190906  13.152946  13.038404  13.152946   \n",
       "\n",
       "           6          7          8          9     ...       1959       1960  \\\n",
       "0      1.414214   3.000000   3.162278   2.236068  ...   2.645751   6.164414   \n",
       "1      1.732051   3.605551   3.605551   2.449490  ...   3.316625   7.071068   \n",
       "2      2.828427   3.605551   3.605551   3.000000  ...   3.605551   7.071068   \n",
       "3      3.464102   3.605551   3.741657   3.000000  ...   3.741657   7.141428   \n",
       "4      3.741657   3.741657   4.242640   3.316625  ...   3.872983   7.211102   \n",
       "...         ...        ...        ...        ...  ...        ...        ...   \n",
       "7869  12.328828  13.379088  12.124355  12.649111  ...  12.922848  13.114877   \n",
       "7870  12.529964  13.379088  12.206555  12.649111  ...  13.000000  13.228757   \n",
       "7871  12.688578  13.711309  12.529964  12.688578  ...  13.266500  13.266500   \n",
       "7872  12.806249  13.820275  12.727922  12.961481  ...  13.304134  13.638182   \n",
       "7873  12.961481  13.892444  12.961481  13.114877  ...  13.601471  13.674794   \n",
       "\n",
       "           1961       1962       1963       1964       1965       1966  \\\n",
       "0      3.162278   1.732051   4.123106   2.000000   2.236068   2.000000   \n",
       "1      4.472136   2.000000   4.795832   3.000000   3.464102   2.236068   \n",
       "2      5.196152   2.645751   5.099020   3.162278   4.000000   2.828427   \n",
       "3      5.196152   2.645751   5.099020   3.162278   4.690416   3.000000   \n",
       "4      5.196152   3.162278   5.291502   3.316625   4.795832   3.000000   \n",
       "...         ...        ...        ...        ...        ...        ...   \n",
       "7869  13.114877  13.304134  12.961481  12.727922  13.228757  13.152946   \n",
       "7870  13.266500  13.341664  13.038404  12.806249  13.266500  13.190906   \n",
       "7871  13.341664  13.674794  13.266500  12.806249  13.304134  13.527749   \n",
       "7872  13.379088  13.784049  13.304134  12.845233  13.304134  13.638182   \n",
       "7873  13.601471  13.856406  13.453624  12.884099  13.341664  13.711309   \n",
       "\n",
       "           1967       1968  \n",
       "0      4.472136   2.449490  \n",
       "1      4.582576   2.645751  \n",
       "2      4.795832   2.645751  \n",
       "3      4.898980   2.645751  \n",
       "4      5.000000   2.645751  \n",
       "...         ...        ...  \n",
       "7869  12.409674  13.000000  \n",
       "7870  12.449900  13.038404  \n",
       "7871  12.449900  13.379088  \n",
       "7872  12.449900  13.490738  \n",
       "7873  12.609520  13.564660  \n",
       "\n",
       "[7874 rows x 1969 columns]"
      ]
     },
     "execution_count": 179,
     "metadata": {},
     "output_type": "execute_result"
    }
   ],
   "source": [
    "x_ts_AD=pd.DataFrame(neighbors_k_ts)\n",
    "x_ts_AD"
   ]
  },
  {
   "cell_type": "code",
   "execution_count": 180,
   "metadata": {},
   "outputs": [
    {
     "name": "stdout",
     "output_type": "stream",
     "text": [
      "[1.    3.606 3.464 ... 2.    4.472 2.449]\n"
     ]
    }
   ],
   "source": [
    "similarity_ts= neighbors_k_ts\n",
    "cpd_AD=similarity_ts[0,:]\n",
    "cpd_value = np.round(cpd_AD, 3)\n",
    "print(cpd_value)"
   ]
  },
  {
   "cell_type": "code",
   "execution_count": 181,
   "metadata": {},
   "outputs": [
    {
     "name": "stdout",
     "output_type": "stream",
     "text": [
      "[ True  True  True ...  True False  True]\n"
     ]
    }
   ],
   "source": [
    "cpd_AD = np.where(cpd_value <= model_AD_limit, True, False)\n",
    "print(cpd_AD)"
   ]
  },
  {
   "cell_type": "code",
   "execution_count": 182,
   "metadata": {},
   "outputs": [
    {
     "name": "stdout",
     "output_type": "stream",
     "text": [
      "Coverage =  0.71\n"
     ]
    }
   ],
   "source": [
    "print(\"Coverage = \", round(sum(cpd_AD) / len(cpd_AD), 2))"
   ]
  },
  {
   "cell_type": "code",
   "execution_count": 183,
   "metadata": {},
   "outputs": [
    {
     "name": "stdout",
     "output_type": "stream",
     "text": [
      "Indices of substances included in AD =  [   0    1    2 ... 1965 1966 1968]\n"
     ]
    }
   ],
   "source": [
    "print(\"Indices of substances included in AD = \", np.where(cpd_AD != 0)[0])"
   ]
  },
  {
   "cell_type": "code",
   "execution_count": 184,
   "metadata": {},
   "outputs": [],
   "source": [
    "out_Ad=list(np.where(cpd_AD == 0)[0])"
   ]
  },
  {
   "cell_type": "markdown",
   "metadata": {},
   "source": [
    "# 12. Prediction only for molecules included in  AD"
   ]
  },
  {
   "cell_type": "code",
   "execution_count": 185,
   "metadata": {},
   "outputs": [],
   "source": [
    "y_pred_kNN_ad=list(y_pred_kNN)"
   ]
  },
  {
   "cell_type": "code",
   "execution_count": 186,
   "metadata": {},
   "outputs": [],
   "source": [
    "y_pred_kNN_ad[:] = [x for i,x in enumerate(y_pred_kNN_ad) if i not in out_Ad]"
   ]
  },
  {
   "cell_type": "code",
   "execution_count": 187,
   "metadata": {},
   "outputs": [
    {
     "data": {
      "text/plain": [
       "1397"
      ]
     },
     "execution_count": 187,
     "metadata": {},
     "output_type": "execute_result"
    }
   ],
   "source": [
    "len(y_pred_kNN_ad)"
   ]
  },
  {
   "cell_type": "code",
   "execution_count": 188,
   "metadata": {},
   "outputs": [],
   "source": [
    "y_ts_ad=list(y_ts)"
   ]
  },
  {
   "cell_type": "code",
   "execution_count": 189,
   "metadata": {},
   "outputs": [],
   "source": [
    "y_ts_ad[:] = [x for i,x in enumerate(y_ts_ad) if i not in out_Ad]"
   ]
  },
  {
   "cell_type": "code",
   "execution_count": 190,
   "metadata": {},
   "outputs": [
    {
     "data": {
      "text/plain": [
       "1397"
      ]
     },
     "execution_count": 190,
     "metadata": {},
     "output_type": "execute_result"
    }
   ],
   "source": [
    "len(y_ts_ad)"
   ]
  },
  {
   "cell_type": "code",
   "execution_count": 191,
   "metadata": {},
   "outputs": [
    {
     "data": {
      "text/plain": [
       "0.46"
      ]
     },
     "execution_count": 191,
     "metadata": {},
     "output_type": "execute_result"
    }
   ],
   "source": [
    "Q2_TS = round(r2_score(y_ts_ad, y_pred_kNN_ad), 2)\n",
    "Q2_TS"
   ]
  },
  {
   "cell_type": "code",
   "execution_count": 193,
   "metadata": {
    "scrolled": true
   },
   "outputs": [
    {
     "data": {
      "text/plain": [
       "0.7"
      ]
     },
     "execution_count": 193,
     "metadata": {},
     "output_type": "execute_result"
    }
   ],
   "source": [
    "RMSE_TS=round(np.sqrt(mean_squared_error(y_ts_ad, y_pred_kNN_ad)), 2)\n",
    "RMSE_TS"
   ]
  },
  {
   "cell_type": "markdown",
   "metadata": {},
   "source": [
    "## Analyzing the importance of descriptors for the GBM model"
   ]
  },
  {
   "cell_type": "code",
   "execution_count": 259,
   "metadata": {},
   "outputs": [],
   "source": [
    "import shap"
   ]
  },
  {
   "cell_type": "code",
   "execution_count": 260,
   "metadata": {},
   "outputs": [],
   "source": [
    "explainer = shap.Explainer(best_GBR)"
   ]
  },
  {
   "cell_type": "code",
   "execution_count": 261,
   "metadata": {},
   "outputs": [],
   "source": [
    "shap_values = explainer(x_tr)"
   ]
  },
  {
   "cell_type": "code",
   "execution_count": 262,
   "metadata": {},
   "outputs": [
    {
     "data": {
      "image/png": "[encoded data removed]",
      "text/plain": [
       "<Figure size 800x550 with 2 Axes>"
      ]
     },
     "metadata": {},
     "output_type": "display_data"
    }
   ],
   "source": [
    "shap.plots.beeswarm(shap_values)"
   ]
  },
  {
   "cell_type": "code",
   "execution_count": 263,
   "metadata": {},
   "outputs": [
    {
     "data": {
      "image/png": "[encoded data removed]",
      "text/plain": [
       "<Figure size 800x650 with 1 Axes>"
      ]
     },
     "metadata": {},
     "output_type": "display_data"
    }
   ],
   "source": [
    "shap.plots.bar(shap_values)"
   ]
  },
  {
   "cell_type": "code",
   "execution_count": null,
   "metadata": {},
   "outputs": [],
   "source": []
  }
 ],
 "metadata": {
  "kernelspec": {
   "display_name": "Python [conda env:base] *",
   "language": "python",
   "name": "conda-base-py"
  },
  "language_info": {
   "codemirror_mode": {
    "name": "ipython",
    "version": 3
   },
   "file_extension": ".py",
   "mimetype": "text/x-python",
   "name": "python",
   "nbconvert_exporter": "python",
   "pygments_lexer": "ipython3",
   "version": "3.12.7"
  }
 },
 "nbformat": 4,
 "nbformat_minor": 4
}
