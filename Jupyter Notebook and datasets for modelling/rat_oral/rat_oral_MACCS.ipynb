{
 "cells": [
  {
   "cell_type": "markdown",
   "metadata": {},
   "source": [
    "# Importing modules and functions"
   ]
  },
  {
   "cell_type": "code",
   "execution_count": 9,
   "metadata": {},
   "outputs": [],
   "source": [
    "import numpy as np\n",
    "import pandas as pd\n",
    "from rdkit import Chem, DataStructs\n",
    "from rdkit.Chem import AllChem, Descriptors\n",
    "from rdkit.Chem import MACCSkeys\n",
    "from copy import deepcopy\n",
    "from rdkit.ML.Descriptors import MoleculeDescriptors\n",
    "from molvs import standardize_smiles\n",
    "from sklearn.model_selection import KFold, GridSearchCV\n",
    "from sklearn.model_selection import permutation_test_score\n",
    "from sklearn.preprocessing import StandardScaler\n",
    "from sklearn.model_selection import cross_val_predict\n",
    "from sklearn import metrics\n",
    "from sklearn.metrics import pairwise_distances\n",
    "import joblib\n",
    "import pickle\n",
    "from numpy import savetxt\n",
    "from padelpy import from_sdf\n",
    "from IPython.display import HTML\n",
    "import matplotlib.pyplot as plt\n",
    "from sklearn.metrics import mean_squared_error\n",
    "from sklearn.metrics import r2_score\n",
    "from catboost import CatBoostRegressor\n",
    "from sklearn.neighbors import KNeighborsRegressor\n",
    "from sklearn.svm import SVR\n",
    "from padelpy import from_sdf\n",
    "import shap\n",
    "from tqdm.notebook import tqdm\n",
    "import warnings\n",
    "warnings.filterwarnings('ignore')"
   ]
  },
  {
   "cell_type": "code",
   "execution_count": 10,
   "metadata": {},
   "outputs": [],
   "source": [
    "def convert_smi_to_canon_smi(smi):\n",
    "    \n",
    "    try:\n",
    "        canon_smi = Chem.MolToSmiles(Chem.MolFromSmiles(smi),isomericSmiles = False)\n",
    "    except:\n",
    "        canon_smi='wrong_smiles'\n",
    "    return canon_smi"
   ]
  },
  {
   "cell_type": "code",
   "execution_count": 11,
   "metadata": {},
   "outputs": [],
   "source": [
    "def standart(smi):\n",
    "    global m\n",
    "    if smi!='wrong_smiles':\n",
    "        try:\n",
    "            smiles=standardize_smiles(smi)\n",
    "            m = Chem.MolFromSmiles(smi)\n",
    "        except:\n",
    "            smi='error kekule'\n",
    "    else:\n",
    "        m = 'check the smiles'\n",
    "    return m"
   ]
  },
  {
   "cell_type": "markdown",
   "metadata": {},
   "source": [
    "## Load data and curation work set"
   ]
  },
  {
   "cell_type": "code",
   "execution_count": 13,
   "metadata": {},
   "outputs": [
    {
     "data": {
      "text/html": [
       "<div>\n",
       "<style scoped>\n",
       "    .dataframe tbody tr th:only-of-type {\n",
       "        vertical-align: middle;\n",
       "    }\n",
       "\n",
       "    .dataframe tbody tr th {\n",
       "        vertical-align: top;\n",
       "    }\n",
       "\n",
       "    .dataframe thead th {\n",
       "        text-align: right;\n",
       "    }\n",
       "</style>\n",
       "<table border=\"1\" class=\"dataframe\">\n",
       "  <thead>\n",
       "    <tr style=\"text-align: right;\">\n",
       "      <th></th>\n",
       "      <th>TAID</th>\n",
       "      <th>Pubchem CID</th>\n",
       "      <th>IUPAC Name</th>\n",
       "      <th>SMILES</th>\n",
       "      <th>Canonical_SMILES</th>\n",
       "      <th>InChIKey</th>\n",
       "      <th>rat_oral_LD50</th>\n",
       "    </tr>\n",
       "  </thead>\n",
       "  <tbody>\n",
       "    <tr>\n",
       "      <th>0</th>\n",
       "      <td>TOX-8327</td>\n",
       "      <td>12283</td>\n",
       "      <td>6-methyl-1H-pyrimidine-2,4-dione</td>\n",
       "      <td>Cc1cc(=O)[nH]c(=O)[nH]1</td>\n",
       "      <td>Cc1cc(=O)[nH]c(=O)[nH]1</td>\n",
       "      <td>SHVCSCWHWMSGTE-UHFFFAOYSA-N</td>\n",
       "      <td>0.291207</td>\n",
       "    </tr>\n",
       "    <tr>\n",
       "      <th>1</th>\n",
       "      <td>TOX-27223</td>\n",
       "      <td>34042</td>\n",
       "      <td>4-(1,3-benzodioxol-5-yl)butan-2-ylhydrazine</td>\n",
       "      <td>CC(CCc1ccc2c(c1)OCO2)NN</td>\n",
       "      <td>CC(CCc1ccc2c(c1)OCO2)NN</td>\n",
       "      <td>IBWPUTAKVGZXRB-UHFFFAOYSA-N</td>\n",
       "      <td>0.440661</td>\n",
       "    </tr>\n",
       "    <tr>\n",
       "      <th>2</th>\n",
       "      <td>TOX-5723</td>\n",
       "      <td>8058</td>\n",
       "      <td>hexane</td>\n",
       "      <td>CCCCCC</td>\n",
       "      <td>CCCCCC</td>\n",
       "      <td>VLKZOEOYAKHREP-UHFFFAOYSA-N</td>\n",
       "      <td>0.537456</td>\n",
       "    </tr>\n",
       "    <tr>\n",
       "      <th>3</th>\n",
       "      <td>TOX-72438</td>\n",
       "      <td>94201</td>\n",
       "      <td>bis(2-ethylhexyl) cyclohexene-1,2-dicarboxylate</td>\n",
       "      <td>CCCCC(CC)COC(=O)C1=C(C(=O)OCC(CC)CCCC)CCCC1</td>\n",
       "      <td>CCCCC(CC)COC(=O)C1=C(C(=O)OCC(CC)CCCC)CCCC1</td>\n",
       "      <td>ZVPBHZIVOWGPMT-UHFFFAOYSA-N</td>\n",
       "      <td>0.539248</td>\n",
       "    </tr>\n",
       "    <tr>\n",
       "      <th>4</th>\n",
       "      <td>TOX-4318</td>\n",
       "      <td>1030</td>\n",
       "      <td>propane-1,2-diol</td>\n",
       "      <td>CC(O)CO</td>\n",
       "      <td>CC(O)CO</td>\n",
       "      <td>DNIAPMSPPWPWGF-UHFFFAOYSA-N</td>\n",
       "      <td>0.580326</td>\n",
       "    </tr>\n",
       "    <tr>\n",
       "      <th>...</th>\n",
       "      <td>...</td>\n",
       "      <td>...</td>\n",
       "      <td>...</td>\n",
       "      <td>...</td>\n",
       "      <td>...</td>\n",
       "      <td>...</td>\n",
       "      <td>...</td>\n",
       "    </tr>\n",
       "    <tr>\n",
       "      <th>7869</th>\n",
       "      <td>TOX-34548</td>\n",
       "      <td>39729</td>\n",
       "      <td>2,3,7,8-tetrabromodibenzo-p-dioxin</td>\n",
       "      <td>Brc1cc2c(cc1Br)Oc1cc(Br)c(Br)cc1O2</td>\n",
       "      <td>Brc1cc2c(cc1Br)Oc1cc(Br)c(Br)cc1O2</td>\n",
       "      <td>JZLQUWSWOJPCAK-UHFFFAOYSA-N</td>\n",
       "      <td>6.698777</td>\n",
       "    </tr>\n",
       "    <tr>\n",
       "      <th>7870</th>\n",
       "      <td>TOX-2774</td>\n",
       "      <td>3890</td>\n",
       "      <td>propan-2-yl 7-[3,5-dihydroxy-2-(3-hydroxy-5-ph...</td>\n",
       "      <td>CC(C)OC(=O)CCCC=CCC1C(O)CC(O)C1CCC(O)CCc1ccccc1</td>\n",
       "      <td>CC(C)OC(=O)CCCC=CCC1C(O)CC(O)C1CCC(O)CCc1ccccc1</td>\n",
       "      <td>GGXICVAJURFBLW-UHFFFAOYSA-N</td>\n",
       "      <td>6.937118</td>\n",
       "    </tr>\n",
       "    <tr>\n",
       "      <th>7871</th>\n",
       "      <td>TOX-57286</td>\n",
       "      <td>3323</td>\n",
       "      <td>5-[2-[7a-methyl-1-[7,7,7-trifluoro-6-hydroxy-6...</td>\n",
       "      <td>C=C1C(=CC=C2CCCC3(C)C2CCC3C(C)CCCC(O)(C(F)(F)F...</td>\n",
       "      <td>C=C1C(=CC=C2CCCC3(C)C2CCC3C(C)CCCC(O)(C(F)(F)F...</td>\n",
       "      <td>XPYGGHVSFMUHLH-UHFFFAOYSA-N</td>\n",
       "      <td>7.099681</td>\n",
       "    </tr>\n",
       "    <tr>\n",
       "      <th>7872</th>\n",
       "      <td>TOX-6661</td>\n",
       "      <td>9426</td>\n",
       "      <td>2-[(6,7-dimethoxy-1,2,3,4-tetrahydroisoquinoli...</td>\n",
       "      <td>CCC1CN2CCc3cc(OC)c(OC)cc3C2CC1CC1NCCc2cc(OC)c(...</td>\n",
       "      <td>CCC1CN2CCc3cc(OC)c(OC)cc3C2CC1CC1NCCc2cc(OC)c(...</td>\n",
       "      <td>AUVVAXYIELKVAI-UHFFFAOYSA-N</td>\n",
       "      <td>7.602647</td>\n",
       "    </tr>\n",
       "    <tr>\n",
       "      <th>7873</th>\n",
       "      <td>TOX-52756</td>\n",
       "      <td>74051341</td>\n",
       "      <td>(8-acetyl-7-formyl-1,1,4a,6a,10b-pentamethyl-2...</td>\n",
       "      <td>CC(=O)C1=CCC2C3(C)CCC4C(C)(C)CCCC4(C)C3CC(OC(=...</td>\n",
       "      <td>CC(=O)C1=CCC2C3(C)CCC4C(C)(C)CCCC4(C)C3CC(OC(=...</td>\n",
       "      <td>AEQPDNFDABVERI-UHFFFAOYSA-N</td>\n",
       "      <td>9.541127</td>\n",
       "    </tr>\n",
       "  </tbody>\n",
       "</table>\n",
       "<p>7874 rows × 7 columns</p>\n",
       "</div>"
      ],
      "text/plain": [
       "           TAID  Pubchem CID  \\\n",
       "0      TOX-8327        12283   \n",
       "1     TOX-27223        34042   \n",
       "2      TOX-5723         8058   \n",
       "3     TOX-72438        94201   \n",
       "4      TOX-4318         1030   \n",
       "...         ...          ...   \n",
       "7869  TOX-34548        39729   \n",
       "7870   TOX-2774         3890   \n",
       "7871  TOX-57286         3323   \n",
       "7872   TOX-6661         9426   \n",
       "7873  TOX-52756     74051341   \n",
       "\n",
       "                                             IUPAC Name  \\\n",
       "0                      6-methyl-1H-pyrimidine-2,4-dione   \n",
       "1           4-(1,3-benzodioxol-5-yl)butan-2-ylhydrazine   \n",
       "2                                                hexane   \n",
       "3       bis(2-ethylhexyl) cyclohexene-1,2-dicarboxylate   \n",
       "4                                      propane-1,2-diol   \n",
       "...                                                 ...   \n",
       "7869                 2,3,7,8-tetrabromodibenzo-p-dioxin   \n",
       "7870  propan-2-yl 7-[3,5-dihydroxy-2-(3-hydroxy-5-ph...   \n",
       "7871  5-[2-[7a-methyl-1-[7,7,7-trifluoro-6-hydroxy-6...   \n",
       "7872  2-[(6,7-dimethoxy-1,2,3,4-tetrahydroisoquinoli...   \n",
       "7873  (8-acetyl-7-formyl-1,1,4a,6a,10b-pentamethyl-2...   \n",
       "\n",
       "                                                 SMILES  \\\n",
       "0                               Cc1cc(=O)[nH]c(=O)[nH]1   \n",
       "1                               CC(CCc1ccc2c(c1)OCO2)NN   \n",
       "2                                                CCCCCC   \n",
       "3           CCCCC(CC)COC(=O)C1=C(C(=O)OCC(CC)CCCC)CCCC1   \n",
       "4                                               CC(O)CO   \n",
       "...                                                 ...   \n",
       "7869                 Brc1cc2c(cc1Br)Oc1cc(Br)c(Br)cc1O2   \n",
       "7870    CC(C)OC(=O)CCCC=CCC1C(O)CC(O)C1CCC(O)CCc1ccccc1   \n",
       "7871  C=C1C(=CC=C2CCCC3(C)C2CCC3C(C)CCCC(O)(C(F)(F)F...   \n",
       "7872  CCC1CN2CCc3cc(OC)c(OC)cc3C2CC1CC1NCCc2cc(OC)c(...   \n",
       "7873  CC(=O)C1=CCC2C3(C)CCC4C(C)(C)CCCC4(C)C3CC(OC(=...   \n",
       "\n",
       "                                       Canonical_SMILES  \\\n",
       "0                               Cc1cc(=O)[nH]c(=O)[nH]1   \n",
       "1                               CC(CCc1ccc2c(c1)OCO2)NN   \n",
       "2                                                CCCCCC   \n",
       "3           CCCCC(CC)COC(=O)C1=C(C(=O)OCC(CC)CCCC)CCCC1   \n",
       "4                                               CC(O)CO   \n",
       "...                                                 ...   \n",
       "7869                 Brc1cc2c(cc1Br)Oc1cc(Br)c(Br)cc1O2   \n",
       "7870    CC(C)OC(=O)CCCC=CCC1C(O)CC(O)C1CCC(O)CCc1ccccc1   \n",
       "7871  C=C1C(=CC=C2CCCC3(C)C2CCC3C(C)CCCC(O)(C(F)(F)F...   \n",
       "7872  CCC1CN2CCc3cc(OC)c(OC)cc3C2CC1CC1NCCc2cc(OC)c(...   \n",
       "7873  CC(=O)C1=CCC2C3(C)CCC4C(C)(C)CCCC4(C)C3CC(OC(=...   \n",
       "\n",
       "                         InChIKey  rat_oral_LD50  \n",
       "0     SHVCSCWHWMSGTE-UHFFFAOYSA-N       0.291207  \n",
       "1     IBWPUTAKVGZXRB-UHFFFAOYSA-N       0.440661  \n",
       "2     VLKZOEOYAKHREP-UHFFFAOYSA-N       0.537456  \n",
       "3     ZVPBHZIVOWGPMT-UHFFFAOYSA-N       0.539248  \n",
       "4     DNIAPMSPPWPWGF-UHFFFAOYSA-N       0.580326  \n",
       "...                           ...            ...  \n",
       "7869  JZLQUWSWOJPCAK-UHFFFAOYSA-N       6.698777  \n",
       "7870  GGXICVAJURFBLW-UHFFFAOYSA-N       6.937118  \n",
       "7871  XPYGGHVSFMUHLH-UHFFFAOYSA-N       7.099681  \n",
       "7872  AUVVAXYIELKVAI-UHFFFAOYSA-N       7.602647  \n",
       "7873  AEQPDNFDABVERI-UHFFFAOYSA-N       9.541127  \n",
       "\n",
       "[7874 rows x 7 columns]"
      ]
     },
     "execution_count": 13,
     "metadata": {},
     "output_type": "execute_result"
    }
   ],
   "source": [
    "# Set file path\n",
    "df_ws=pd.read_csv('datasets/rat_oral_LD50_WS.csv')\n",
    "df_ws"
   ]
  },
  {
   "cell_type": "markdown",
   "metadata": {},
   "source": [
    "##  Standardization  for work set"
   ]
  },
  {
   "cell_type": "code",
   "execution_count": 15,
   "metadata": {},
   "outputs": [
    {
     "name": "stderr",
     "output_type": "stream",
     "text": [
      "[08:17:54] Unusual charge on atom 8 number of radical electrons set to zero\n",
      "[08:17:54] Unusual charge on atom 0 number of radical electrons set to zero\n",
      "[08:17:54] Unusual charge on atom 16 number of radical electrons set to zero\n",
      "[08:17:54] Unusual charge on atom 16 number of radical electrons set to zero\n"
     ]
    },
    {
     "name": "stdout",
     "output_type": "stream",
     "text": [
      "Kept data:  7874 molecules\n"
     ]
    }
   ],
   "source": [
    "df_ws[\"Molecule\"] = df_ws.apply(lambda x: standart(x.Canonical_SMILES), axis=1)\n",
    "print('Kept data: ', len(df_ws), 'molecules')"
   ]
  },
  {
   "cell_type": "code",
   "execution_count": 16,
   "metadata": {},
   "outputs": [
    {
     "data": {
      "text/html": [
       "<div>\n",
       "<style scoped>\n",
       "    .dataframe tbody tr th:only-of-type {\n",
       "        vertical-align: middle;\n",
       "    }\n",
       "\n",
       "    .dataframe tbody tr th {\n",
       "        vertical-align: top;\n",
       "    }\n",
       "\n",
       "    .dataframe thead th {\n",
       "        text-align: right;\n",
       "    }\n",
       "</style>\n",
       "<table border=\"1\" class=\"dataframe\">\n",
       "  <thead>\n",
       "    <tr style=\"text-align: right;\">\n",
       "      <th></th>\n",
       "      <th>TAID</th>\n",
       "      <th>Pubchem CID</th>\n",
       "      <th>IUPAC Name</th>\n",
       "      <th>SMILES</th>\n",
       "      <th>Canonical_SMILES</th>\n",
       "      <th>InChIKey</th>\n",
       "      <th>rat_oral_LD50</th>\n",
       "      <th>Molecule</th>\n",
       "    </tr>\n",
       "  </thead>\n",
       "  <tbody>\n",
       "    <tr>\n",
       "      <th>0</th>\n",
       "      <td>TOX-8327</td>\n",
       "      <td>12283</td>\n",
       "      <td>6-methyl-1H-pyrimidine-2,4-dione</td>\n",
       "      <td>Cc1cc(=O)[nH]c(=O)[nH]1</td>\n",
       "      <td>Cc1cc(=O)[nH]c(=O)[nH]1</td>\n",
       "      <td>SHVCSCWHWMSGTE-UHFFFAOYSA-N</td>\n",
       "      <td>0.291207</td>\n",
       "      <td>&lt;rdkit.Chem.rdchem.Mol object at 0x0000029BA8D...</td>\n",
       "    </tr>\n",
       "    <tr>\n",
       "      <th>1</th>\n",
       "      <td>TOX-27223</td>\n",
       "      <td>34042</td>\n",
       "      <td>4-(1,3-benzodioxol-5-yl)butan-2-ylhydrazine</td>\n",
       "      <td>CC(CCc1ccc2c(c1)OCO2)NN</td>\n",
       "      <td>CC(CCc1ccc2c(c1)OCO2)NN</td>\n",
       "      <td>IBWPUTAKVGZXRB-UHFFFAOYSA-N</td>\n",
       "      <td>0.440661</td>\n",
       "      <td>&lt;rdkit.Chem.rdchem.Mol object at 0x0000029BA8D...</td>\n",
       "    </tr>\n",
       "    <tr>\n",
       "      <th>2</th>\n",
       "      <td>TOX-5723</td>\n",
       "      <td>8058</td>\n",
       "      <td>hexane</td>\n",
       "      <td>CCCCCC</td>\n",
       "      <td>CCCCCC</td>\n",
       "      <td>VLKZOEOYAKHREP-UHFFFAOYSA-N</td>\n",
       "      <td>0.537456</td>\n",
       "      <td>&lt;rdkit.Chem.rdchem.Mol object at 0x0000029BA8D...</td>\n",
       "    </tr>\n",
       "    <tr>\n",
       "      <th>3</th>\n",
       "      <td>TOX-72438</td>\n",
       "      <td>94201</td>\n",
       "      <td>bis(2-ethylhexyl) cyclohexene-1,2-dicarboxylate</td>\n",
       "      <td>CCCCC(CC)COC(=O)C1=C(C(=O)OCC(CC)CCCC)CCCC1</td>\n",
       "      <td>CCCCC(CC)COC(=O)C1=C(C(=O)OCC(CC)CCCC)CCCC1</td>\n",
       "      <td>ZVPBHZIVOWGPMT-UHFFFAOYSA-N</td>\n",
       "      <td>0.539248</td>\n",
       "      <td>&lt;rdkit.Chem.rdchem.Mol object at 0x0000029BA8D...</td>\n",
       "    </tr>\n",
       "    <tr>\n",
       "      <th>4</th>\n",
       "      <td>TOX-4318</td>\n",
       "      <td>1030</td>\n",
       "      <td>propane-1,2-diol</td>\n",
       "      <td>CC(O)CO</td>\n",
       "      <td>CC(O)CO</td>\n",
       "      <td>DNIAPMSPPWPWGF-UHFFFAOYSA-N</td>\n",
       "      <td>0.580326</td>\n",
       "      <td>&lt;rdkit.Chem.rdchem.Mol object at 0x0000029BA8D...</td>\n",
       "    </tr>\n",
       "    <tr>\n",
       "      <th>...</th>\n",
       "      <td>...</td>\n",
       "      <td>...</td>\n",
       "      <td>...</td>\n",
       "      <td>...</td>\n",
       "      <td>...</td>\n",
       "      <td>...</td>\n",
       "      <td>...</td>\n",
       "      <td>...</td>\n",
       "    </tr>\n",
       "    <tr>\n",
       "      <th>7869</th>\n",
       "      <td>TOX-34548</td>\n",
       "      <td>39729</td>\n",
       "      <td>2,3,7,8-tetrabromodibenzo-p-dioxin</td>\n",
       "      <td>Brc1cc2c(cc1Br)Oc1cc(Br)c(Br)cc1O2</td>\n",
       "      <td>Brc1cc2c(cc1Br)Oc1cc(Br)c(Br)cc1O2</td>\n",
       "      <td>JZLQUWSWOJPCAK-UHFFFAOYSA-N</td>\n",
       "      <td>6.698777</td>\n",
       "      <td>&lt;rdkit.Chem.rdchem.Mol object at 0x0000029BA8F...</td>\n",
       "    </tr>\n",
       "    <tr>\n",
       "      <th>7870</th>\n",
       "      <td>TOX-2774</td>\n",
       "      <td>3890</td>\n",
       "      <td>propan-2-yl 7-[3,5-dihydroxy-2-(3-hydroxy-5-ph...</td>\n",
       "      <td>CC(C)OC(=O)CCCC=CCC1C(O)CC(O)C1CCC(O)CCc1ccccc1</td>\n",
       "      <td>CC(C)OC(=O)CCCC=CCC1C(O)CC(O)C1CCC(O)CCc1ccccc1</td>\n",
       "      <td>GGXICVAJURFBLW-UHFFFAOYSA-N</td>\n",
       "      <td>6.937118</td>\n",
       "      <td>&lt;rdkit.Chem.rdchem.Mol object at 0x0000029BA8F...</td>\n",
       "    </tr>\n",
       "    <tr>\n",
       "      <th>7871</th>\n",
       "      <td>TOX-57286</td>\n",
       "      <td>3323</td>\n",
       "      <td>5-[2-[7a-methyl-1-[7,7,7-trifluoro-6-hydroxy-6...</td>\n",
       "      <td>C=C1C(=CC=C2CCCC3(C)C2CCC3C(C)CCCC(O)(C(F)(F)F...</td>\n",
       "      <td>C=C1C(=CC=C2CCCC3(C)C2CCC3C(C)CCCC(O)(C(F)(F)F...</td>\n",
       "      <td>XPYGGHVSFMUHLH-UHFFFAOYSA-N</td>\n",
       "      <td>7.099681</td>\n",
       "      <td>&lt;rdkit.Chem.rdchem.Mol object at 0x0000029BA8F...</td>\n",
       "    </tr>\n",
       "    <tr>\n",
       "      <th>7872</th>\n",
       "      <td>TOX-6661</td>\n",
       "      <td>9426</td>\n",
       "      <td>2-[(6,7-dimethoxy-1,2,3,4-tetrahydroisoquinoli...</td>\n",
       "      <td>CCC1CN2CCc3cc(OC)c(OC)cc3C2CC1CC1NCCc2cc(OC)c(...</td>\n",
       "      <td>CCC1CN2CCc3cc(OC)c(OC)cc3C2CC1CC1NCCc2cc(OC)c(...</td>\n",
       "      <td>AUVVAXYIELKVAI-UHFFFAOYSA-N</td>\n",
       "      <td>7.602647</td>\n",
       "      <td>&lt;rdkit.Chem.rdchem.Mol object at 0x0000029BA8F...</td>\n",
       "    </tr>\n",
       "    <tr>\n",
       "      <th>7873</th>\n",
       "      <td>TOX-52756</td>\n",
       "      <td>74051341</td>\n",
       "      <td>(8-acetyl-7-formyl-1,1,4a,6a,10b-pentamethyl-2...</td>\n",
       "      <td>CC(=O)C1=CCC2C3(C)CCC4C(C)(C)CCCC4(C)C3CC(OC(=...</td>\n",
       "      <td>CC(=O)C1=CCC2C3(C)CCC4C(C)(C)CCCC4(C)C3CC(OC(=...</td>\n",
       "      <td>AEQPDNFDABVERI-UHFFFAOYSA-N</td>\n",
       "      <td>9.541127</td>\n",
       "      <td>&lt;rdkit.Chem.rdchem.Mol object at 0x0000029BA8F...</td>\n",
       "    </tr>\n",
       "  </tbody>\n",
       "</table>\n",
       "<p>7874 rows × 8 columns</p>\n",
       "</div>"
      ],
      "text/plain": [
       "           TAID  Pubchem CID  \\\n",
       "0      TOX-8327        12283   \n",
       "1     TOX-27223        34042   \n",
       "2      TOX-5723         8058   \n",
       "3     TOX-72438        94201   \n",
       "4      TOX-4318         1030   \n",
       "...         ...          ...   \n",
       "7869  TOX-34548        39729   \n",
       "7870   TOX-2774         3890   \n",
       "7871  TOX-57286         3323   \n",
       "7872   TOX-6661         9426   \n",
       "7873  TOX-52756     74051341   \n",
       "\n",
       "                                             IUPAC Name  \\\n",
       "0                      6-methyl-1H-pyrimidine-2,4-dione   \n",
       "1           4-(1,3-benzodioxol-5-yl)butan-2-ylhydrazine   \n",
       "2                                                hexane   \n",
       "3       bis(2-ethylhexyl) cyclohexene-1,2-dicarboxylate   \n",
       "4                                      propane-1,2-diol   \n",
       "...                                                 ...   \n",
       "7869                 2,3,7,8-tetrabromodibenzo-p-dioxin   \n",
       "7870  propan-2-yl 7-[3,5-dihydroxy-2-(3-hydroxy-5-ph...   \n",
       "7871  5-[2-[7a-methyl-1-[7,7,7-trifluoro-6-hydroxy-6...   \n",
       "7872  2-[(6,7-dimethoxy-1,2,3,4-tetrahydroisoquinoli...   \n",
       "7873  (8-acetyl-7-formyl-1,1,4a,6a,10b-pentamethyl-2...   \n",
       "\n",
       "                                                 SMILES  \\\n",
       "0                               Cc1cc(=O)[nH]c(=O)[nH]1   \n",
       "1                               CC(CCc1ccc2c(c1)OCO2)NN   \n",
       "2                                                CCCCCC   \n",
       "3           CCCCC(CC)COC(=O)C1=C(C(=O)OCC(CC)CCCC)CCCC1   \n",
       "4                                               CC(O)CO   \n",
       "...                                                 ...   \n",
       "7869                 Brc1cc2c(cc1Br)Oc1cc(Br)c(Br)cc1O2   \n",
       "7870    CC(C)OC(=O)CCCC=CCC1C(O)CC(O)C1CCC(O)CCc1ccccc1   \n",
       "7871  C=C1C(=CC=C2CCCC3(C)C2CCC3C(C)CCCC(O)(C(F)(F)F...   \n",
       "7872  CCC1CN2CCc3cc(OC)c(OC)cc3C2CC1CC1NCCc2cc(OC)c(...   \n",
       "7873  CC(=O)C1=CCC2C3(C)CCC4C(C)(C)CCCC4(C)C3CC(OC(=...   \n",
       "\n",
       "                                       Canonical_SMILES  \\\n",
       "0                               Cc1cc(=O)[nH]c(=O)[nH]1   \n",
       "1                               CC(CCc1ccc2c(c1)OCO2)NN   \n",
       "2                                                CCCCCC   \n",
       "3           CCCCC(CC)COC(=O)C1=C(C(=O)OCC(CC)CCCC)CCCC1   \n",
       "4                                               CC(O)CO   \n",
       "...                                                 ...   \n",
       "7869                 Brc1cc2c(cc1Br)Oc1cc(Br)c(Br)cc1O2   \n",
       "7870    CC(C)OC(=O)CCCC=CCC1C(O)CC(O)C1CCC(O)CCc1ccccc1   \n",
       "7871  C=C1C(=CC=C2CCCC3(C)C2CCC3C(C)CCCC(O)(C(F)(F)F...   \n",
       "7872  CCC1CN2CCc3cc(OC)c(OC)cc3C2CC1CC1NCCc2cc(OC)c(...   \n",
       "7873  CC(=O)C1=CCC2C3(C)CCC4C(C)(C)CCCC4(C)C3CC(OC(=...   \n",
       "\n",
       "                         InChIKey  rat_oral_LD50  \\\n",
       "0     SHVCSCWHWMSGTE-UHFFFAOYSA-N       0.291207   \n",
       "1     IBWPUTAKVGZXRB-UHFFFAOYSA-N       0.440661   \n",
       "2     VLKZOEOYAKHREP-UHFFFAOYSA-N       0.537456   \n",
       "3     ZVPBHZIVOWGPMT-UHFFFAOYSA-N       0.539248   \n",
       "4     DNIAPMSPPWPWGF-UHFFFAOYSA-N       0.580326   \n",
       "...                           ...            ...   \n",
       "7869  JZLQUWSWOJPCAK-UHFFFAOYSA-N       6.698777   \n",
       "7870  GGXICVAJURFBLW-UHFFFAOYSA-N       6.937118   \n",
       "7871  XPYGGHVSFMUHLH-UHFFFAOYSA-N       7.099681   \n",
       "7872  AUVVAXYIELKVAI-UHFFFAOYSA-N       7.602647   \n",
       "7873  AEQPDNFDABVERI-UHFFFAOYSA-N       9.541127   \n",
       "\n",
       "                                               Molecule  \n",
       "0     <rdkit.Chem.rdchem.Mol object at 0x0000029BA8D...  \n",
       "1     <rdkit.Chem.rdchem.Mol object at 0x0000029BA8D...  \n",
       "2     <rdkit.Chem.rdchem.Mol object at 0x0000029BA8D...  \n",
       "3     <rdkit.Chem.rdchem.Mol object at 0x0000029BA8D...  \n",
       "4     <rdkit.Chem.rdchem.Mol object at 0x0000029BA8D...  \n",
       "...                                                 ...  \n",
       "7869  <rdkit.Chem.rdchem.Mol object at 0x0000029BA8F...  \n",
       "7870  <rdkit.Chem.rdchem.Mol object at 0x0000029BA8F...  \n",
       "7871  <rdkit.Chem.rdchem.Mol object at 0x0000029BA8F...  \n",
       "7872  <rdkit.Chem.rdchem.Mol object at 0x0000029BA8F...  \n",
       "7873  <rdkit.Chem.rdchem.Mol object at 0x0000029BA8F...  \n",
       "\n",
       "[7874 rows x 8 columns]"
      ]
     },
     "execution_count": 16,
     "metadata": {},
     "output_type": "execute_result"
    }
   ],
   "source": [
    "df_ws"
   ]
  },
  {
   "cell_type": "code",
   "execution_count": 17,
   "metadata": {},
   "outputs": [
    {
     "data": {
      "text/plain": [
       "0       0.291207\n",
       "1       0.440661\n",
       "2       0.537456\n",
       "3       0.539248\n",
       "4       0.580326\n",
       "          ...   \n",
       "7869    6.698777\n",
       "7870    6.937118\n",
       "7871    7.099681\n",
       "7872    7.602647\n",
       "7873    9.541127\n",
       "Name: rat_oral_LD50, Length: 7874, dtype: float64"
      ]
     },
     "execution_count": 17,
     "metadata": {},
     "output_type": "execute_result"
    }
   ],
   "source": [
    "y_tr=df_ws.rat_oral_LD50\t\n",
    "y_tr"
   ]
  },
  {
   "cell_type": "code",
   "execution_count": 18,
   "metadata": {},
   "outputs": [],
   "source": [
    "moldf_ws=df_ws.Molecule"
   ]
  },
  {
   "cell_type": "markdown",
   "metadata": {},
   "source": [
    "##  Load data and curation test set"
   ]
  },
  {
   "cell_type": "code",
   "execution_count": 20,
   "metadata": {
    "scrolled": true
   },
   "outputs": [
    {
     "data": {
      "text/html": [
       "<div>\n",
       "<style scoped>\n",
       "    .dataframe tbody tr th:only-of-type {\n",
       "        vertical-align: middle;\n",
       "    }\n",
       "\n",
       "    .dataframe tbody tr th {\n",
       "        vertical-align: top;\n",
       "    }\n",
       "\n",
       "    .dataframe thead th {\n",
       "        text-align: right;\n",
       "    }\n",
       "</style>\n",
       "<table border=\"1\" class=\"dataframe\">\n",
       "  <thead>\n",
       "    <tr style=\"text-align: right;\">\n",
       "      <th></th>\n",
       "      <th>TAID</th>\n",
       "      <th>Pubchem CID</th>\n",
       "      <th>IUPAC Name</th>\n",
       "      <th>SMILES</th>\n",
       "      <th>Canonical_SMILES</th>\n",
       "      <th>InChIKey</th>\n",
       "      <th>rat_oral_LD50</th>\n",
       "    </tr>\n",
       "  </thead>\n",
       "  <tbody>\n",
       "    <tr>\n",
       "      <th>0</th>\n",
       "      <td>TOX-17137</td>\n",
       "      <td>297</td>\n",
       "      <td>methane</td>\n",
       "      <td>C</td>\n",
       "      <td>C</td>\n",
       "      <td>VNWKTOKETHGBQD-UHFFFAOYSA-N</td>\n",
       "      <td>0.017765</td>\n",
       "    </tr>\n",
       "    <tr>\n",
       "      <th>1</th>\n",
       "      <td>TOX-107853</td>\n",
       "      <td>17827</td>\n",
       "      <td>2-(cyclohexylamino)ethanol</td>\n",
       "      <td>OCCNC1CCCCC1</td>\n",
       "      <td>OCCNC1CCCCC1</td>\n",
       "      <td>MGUMZJAQENFQKN-UHFFFAOYSA-N</td>\n",
       "      <td>0.572835</td>\n",
       "    </tr>\n",
       "    <tr>\n",
       "      <th>2</th>\n",
       "      <td>TOX-44620</td>\n",
       "      <td>974</td>\n",
       "      <td>oxamic acid</td>\n",
       "      <td>NC(=O)C(=O)O</td>\n",
       "      <td>NC(=O)C(=O)O</td>\n",
       "      <td>SOWBFZRMHSNYGE-UHFFFAOYSA-N</td>\n",
       "      <td>0.624488</td>\n",
       "    </tr>\n",
       "    <tr>\n",
       "      <th>3</th>\n",
       "      <td>TOX-11368</td>\n",
       "      <td>62433</td>\n",
       "      <td>pentyl pentanoate</td>\n",
       "      <td>CCCCCOC(=O)CCCC</td>\n",
       "      <td>CCCCCOC(=O)CCCC</td>\n",
       "      <td>FGPPDYNPZTUNIU-UHFFFAOYSA-N</td>\n",
       "      <td>0.686956</td>\n",
       "    </tr>\n",
       "    <tr>\n",
       "      <th>4</th>\n",
       "      <td>TOX-7935</td>\n",
       "      <td>11429</td>\n",
       "      <td>butane-1,2-diol</td>\n",
       "      <td>CCC(O)CO</td>\n",
       "      <td>CCC(O)CO</td>\n",
       "      <td>BMRWNKZVCUKKSR-UHFFFAOYSA-N</td>\n",
       "      <td>0.750711</td>\n",
       "    </tr>\n",
       "    <tr>\n",
       "      <th>...</th>\n",
       "      <td>...</td>\n",
       "      <td>...</td>\n",
       "      <td>...</td>\n",
       "      <td>...</td>\n",
       "      <td>...</td>\n",
       "      <td>...</td>\n",
       "      <td>...</td>\n",
       "    </tr>\n",
       "    <tr>\n",
       "      <th>1964</th>\n",
       "      <td>TOX-31209</td>\n",
       "      <td>123453</td>\n",
       "      <td>N-(2,8,9-trioxa-5-aza-1-silabicyclo[3.3.3]unde...</td>\n",
       "      <td>c1ccc(NC[Si]23OCCN(CCO2)CCO3)cc1</td>\n",
       "      <td>c1ccc(NC[Si]23OCCN(CCO2)CCO3)cc1</td>\n",
       "      <td>YGHSPISFNKUQEY-UHFFFAOYSA-N</td>\n",
       "      <td>5.931904</td>\n",
       "    </tr>\n",
       "    <tr>\n",
       "      <th>1965</th>\n",
       "      <td>TOX-63960</td>\n",
       "      <td>91771</td>\n",
       "      <td>3-[3-[4-(4-bromophenyl)phenyl]-1,2,3,4-tetrahy...</td>\n",
       "      <td>O=c1sc2ccccc2c(O)c1C1CC(c2ccc(-c3ccc(Br)cc3)cc...</td>\n",
       "      <td>O=c1sc2ccccc2c(O)c1C1CC(c2ccc(-c3ccc(Br)cc3)cc...</td>\n",
       "      <td>VSVAQRUUFVBBFS-UHFFFAOYSA-N</td>\n",
       "      <td>5.991624</td>\n",
       "    </tr>\n",
       "    <tr>\n",
       "      <th>1966</th>\n",
       "      <td>TOX-33005</td>\n",
       "      <td>38439</td>\n",
       "      <td>1,2,3,7,8-pentachlorodibenzo-p-dioxin</td>\n",
       "      <td>Clc1cc2c(cc1Cl)Oc1c(cc(Cl)c(Cl)c1Cl)O2</td>\n",
       "      <td>Clc1cc2c(cc1Cl)Oc1c(cc(Cl)c(Cl)c1Cl)O2</td>\n",
       "      <td>FSPZPQQWDODWAU-UHFFFAOYSA-N</td>\n",
       "      <td>6.238094</td>\n",
       "    </tr>\n",
       "    <tr>\n",
       "      <th>1967</th>\n",
       "      <td>TOX-24685</td>\n",
       "      <td>198007</td>\n",
       "      <td>3-ethyl-N-[methoxy(methylsulfanyl)phosphoryl]-...</td>\n",
       "      <td>CCN1CC(C)OC1=NP(=O)(OC)SC</td>\n",
       "      <td>CCN1CC(C)OC1=NP(=O)(OC)SC</td>\n",
       "      <td>JCYANUVOCLKHHY-UHFFFAOYSA-N</td>\n",
       "      <td>6.401876</td>\n",
       "    </tr>\n",
       "    <tr>\n",
       "      <th>1968</th>\n",
       "      <td>TOX-2398</td>\n",
       "      <td>15625</td>\n",
       "      <td>2,3,7,8-tetrachlorodibenzo-p-dioxin</td>\n",
       "      <td>Clc1cc2c(cc1Cl)Oc1cc(Cl)c(Cl)cc1O2</td>\n",
       "      <td>Clc1cc2c(cc1Cl)Oc1cc(Cl)c(Cl)cc1O2</td>\n",
       "      <td>HGUFODBRKLSHSI-UHFFFAOYSA-N</td>\n",
       "      <td>7.206791</td>\n",
       "    </tr>\n",
       "  </tbody>\n",
       "</table>\n",
       "<p>1969 rows × 7 columns</p>\n",
       "</div>"
      ],
      "text/plain": [
       "            TAID  Pubchem CID  \\\n",
       "0      TOX-17137          297   \n",
       "1     TOX-107853        17827   \n",
       "2      TOX-44620          974   \n",
       "3      TOX-11368        62433   \n",
       "4       TOX-7935        11429   \n",
       "...          ...          ...   \n",
       "1964   TOX-31209       123453   \n",
       "1965   TOX-63960        91771   \n",
       "1966   TOX-33005        38439   \n",
       "1967   TOX-24685       198007   \n",
       "1968    TOX-2398        15625   \n",
       "\n",
       "                                             IUPAC Name  \\\n",
       "0                                               methane   \n",
       "1                            2-(cyclohexylamino)ethanol   \n",
       "2                                           oxamic acid   \n",
       "3                                     pentyl pentanoate   \n",
       "4                                       butane-1,2-diol   \n",
       "...                                                 ...   \n",
       "1964  N-(2,8,9-trioxa-5-aza-1-silabicyclo[3.3.3]unde...   \n",
       "1965  3-[3-[4-(4-bromophenyl)phenyl]-1,2,3,4-tetrahy...   \n",
       "1966              1,2,3,7,8-pentachlorodibenzo-p-dioxin   \n",
       "1967  3-ethyl-N-[methoxy(methylsulfanyl)phosphoryl]-...   \n",
       "1968                2,3,7,8-tetrachlorodibenzo-p-dioxin   \n",
       "\n",
       "                                                 SMILES  \\\n",
       "0                                                     C   \n",
       "1                                          OCCNC1CCCCC1   \n",
       "2                                          NC(=O)C(=O)O   \n",
       "3                                       CCCCCOC(=O)CCCC   \n",
       "4                                              CCC(O)CO   \n",
       "...                                                 ...   \n",
       "1964                   c1ccc(NC[Si]23OCCN(CCO2)CCO3)cc1   \n",
       "1965  O=c1sc2ccccc2c(O)c1C1CC(c2ccc(-c3ccc(Br)cc3)cc...   \n",
       "1966             Clc1cc2c(cc1Cl)Oc1c(cc(Cl)c(Cl)c1Cl)O2   \n",
       "1967                          CCN1CC(C)OC1=NP(=O)(OC)SC   \n",
       "1968                 Clc1cc2c(cc1Cl)Oc1cc(Cl)c(Cl)cc1O2   \n",
       "\n",
       "                                       Canonical_SMILES  \\\n",
       "0                                                     C   \n",
       "1                                          OCCNC1CCCCC1   \n",
       "2                                          NC(=O)C(=O)O   \n",
       "3                                       CCCCCOC(=O)CCCC   \n",
       "4                                              CCC(O)CO   \n",
       "...                                                 ...   \n",
       "1964                   c1ccc(NC[Si]23OCCN(CCO2)CCO3)cc1   \n",
       "1965  O=c1sc2ccccc2c(O)c1C1CC(c2ccc(-c3ccc(Br)cc3)cc...   \n",
       "1966             Clc1cc2c(cc1Cl)Oc1c(cc(Cl)c(Cl)c1Cl)O2   \n",
       "1967                          CCN1CC(C)OC1=NP(=O)(OC)SC   \n",
       "1968                 Clc1cc2c(cc1Cl)Oc1cc(Cl)c(Cl)cc1O2   \n",
       "\n",
       "                         InChIKey  rat_oral_LD50  \n",
       "0     VNWKTOKETHGBQD-UHFFFAOYSA-N       0.017765  \n",
       "1     MGUMZJAQENFQKN-UHFFFAOYSA-N       0.572835  \n",
       "2     SOWBFZRMHSNYGE-UHFFFAOYSA-N       0.624488  \n",
       "3     FGPPDYNPZTUNIU-UHFFFAOYSA-N       0.686956  \n",
       "4     BMRWNKZVCUKKSR-UHFFFAOYSA-N       0.750711  \n",
       "...                           ...            ...  \n",
       "1964  YGHSPISFNKUQEY-UHFFFAOYSA-N       5.931904  \n",
       "1965  VSVAQRUUFVBBFS-UHFFFAOYSA-N       5.991624  \n",
       "1966  FSPZPQQWDODWAU-UHFFFAOYSA-N       6.238094  \n",
       "1967  JCYANUVOCLKHHY-UHFFFAOYSA-N       6.401876  \n",
       "1968  HGUFODBRKLSHSI-UHFFFAOYSA-N       7.206791  \n",
       "\n",
       "[1969 rows x 7 columns]"
      ]
     },
     "execution_count": 20,
     "metadata": {},
     "output_type": "execute_result"
    }
   ],
   "source": [
    "df_ts=pd.read_csv('datasets/rat_oral_LD50_TS.csv')\n",
    "df_ts"
   ]
  },
  {
   "cell_type": "markdown",
   "metadata": {},
   "source": [
    "##  Standardization  for test set"
   ]
  },
  {
   "cell_type": "code",
   "execution_count": 22,
   "metadata": {},
   "outputs": [
    {
     "name": "stdout",
     "output_type": "stream",
     "text": [
      "Kept data:  1969 molecules\n"
     ]
    }
   ],
   "source": [
    "df_ts[\"Molecule\"] = df_ts.apply(lambda x: standart(x.Canonical_SMILES), axis=1)\n",
    "moldf_ts=df_ts[df_ts['SMILES']!='wrong_smiles']\n",
    "print('Kept data: ', len(moldf_ts), 'molecules')"
   ]
  },
  {
   "cell_type": "code",
   "execution_count": 23,
   "metadata": {},
   "outputs": [
    {
     "data": {
      "text/html": [
       "<div>\n",
       "<style scoped>\n",
       "    .dataframe tbody tr th:only-of-type {\n",
       "        vertical-align: middle;\n",
       "    }\n",
       "\n",
       "    .dataframe tbody tr th {\n",
       "        vertical-align: top;\n",
       "    }\n",
       "\n",
       "    .dataframe thead th {\n",
       "        text-align: right;\n",
       "    }\n",
       "</style>\n",
       "<table border=\"1\" class=\"dataframe\">\n",
       "  <thead>\n",
       "    <tr style=\"text-align: right;\">\n",
       "      <th></th>\n",
       "      <th>TAID</th>\n",
       "      <th>Pubchem CID</th>\n",
       "      <th>IUPAC Name</th>\n",
       "      <th>SMILES</th>\n",
       "      <th>Canonical_SMILES</th>\n",
       "      <th>InChIKey</th>\n",
       "      <th>rat_oral_LD50</th>\n",
       "      <th>Molecule</th>\n",
       "    </tr>\n",
       "  </thead>\n",
       "  <tbody>\n",
       "    <tr>\n",
       "      <th>0</th>\n",
       "      <td>TOX-17137</td>\n",
       "      <td>297</td>\n",
       "      <td>methane</td>\n",
       "      <td>C</td>\n",
       "      <td>C</td>\n",
       "      <td>VNWKTOKETHGBQD-UHFFFAOYSA-N</td>\n",
       "      <td>0.017765</td>\n",
       "      <td>&lt;rdkit.Chem.rdchem.Mol object at 0x0000029BA90...</td>\n",
       "    </tr>\n",
       "    <tr>\n",
       "      <th>1</th>\n",
       "      <td>TOX-107853</td>\n",
       "      <td>17827</td>\n",
       "      <td>2-(cyclohexylamino)ethanol</td>\n",
       "      <td>OCCNC1CCCCC1</td>\n",
       "      <td>OCCNC1CCCCC1</td>\n",
       "      <td>MGUMZJAQENFQKN-UHFFFAOYSA-N</td>\n",
       "      <td>0.572835</td>\n",
       "      <td>&lt;rdkit.Chem.rdchem.Mol object at 0x0000029BA90...</td>\n",
       "    </tr>\n",
       "    <tr>\n",
       "      <th>2</th>\n",
       "      <td>TOX-44620</td>\n",
       "      <td>974</td>\n",
       "      <td>oxamic acid</td>\n",
       "      <td>NC(=O)C(=O)O</td>\n",
       "      <td>NC(=O)C(=O)O</td>\n",
       "      <td>SOWBFZRMHSNYGE-UHFFFAOYSA-N</td>\n",
       "      <td>0.624488</td>\n",
       "      <td>&lt;rdkit.Chem.rdchem.Mol object at 0x0000029BA90...</td>\n",
       "    </tr>\n",
       "    <tr>\n",
       "      <th>3</th>\n",
       "      <td>TOX-11368</td>\n",
       "      <td>62433</td>\n",
       "      <td>pentyl pentanoate</td>\n",
       "      <td>CCCCCOC(=O)CCCC</td>\n",
       "      <td>CCCCCOC(=O)CCCC</td>\n",
       "      <td>FGPPDYNPZTUNIU-UHFFFAOYSA-N</td>\n",
       "      <td>0.686956</td>\n",
       "      <td>&lt;rdkit.Chem.rdchem.Mol object at 0x0000029BA90...</td>\n",
       "    </tr>\n",
       "    <tr>\n",
       "      <th>4</th>\n",
       "      <td>TOX-7935</td>\n",
       "      <td>11429</td>\n",
       "      <td>butane-1,2-diol</td>\n",
       "      <td>CCC(O)CO</td>\n",
       "      <td>CCC(O)CO</td>\n",
       "      <td>BMRWNKZVCUKKSR-UHFFFAOYSA-N</td>\n",
       "      <td>0.750711</td>\n",
       "      <td>&lt;rdkit.Chem.rdchem.Mol object at 0x0000029BA90...</td>\n",
       "    </tr>\n",
       "    <tr>\n",
       "      <th>...</th>\n",
       "      <td>...</td>\n",
       "      <td>...</td>\n",
       "      <td>...</td>\n",
       "      <td>...</td>\n",
       "      <td>...</td>\n",
       "      <td>...</td>\n",
       "      <td>...</td>\n",
       "      <td>...</td>\n",
       "    </tr>\n",
       "    <tr>\n",
       "      <th>1964</th>\n",
       "      <td>TOX-31209</td>\n",
       "      <td>123453</td>\n",
       "      <td>N-(2,8,9-trioxa-5-aza-1-silabicyclo[3.3.3]unde...</td>\n",
       "      <td>c1ccc(NC[Si]23OCCN(CCO2)CCO3)cc1</td>\n",
       "      <td>c1ccc(NC[Si]23OCCN(CCO2)CCO3)cc1</td>\n",
       "      <td>YGHSPISFNKUQEY-UHFFFAOYSA-N</td>\n",
       "      <td>5.931904</td>\n",
       "      <td>&lt;rdkit.Chem.rdchem.Mol object at 0x0000029BA90...</td>\n",
       "    </tr>\n",
       "    <tr>\n",
       "      <th>1965</th>\n",
       "      <td>TOX-63960</td>\n",
       "      <td>91771</td>\n",
       "      <td>3-[3-[4-(4-bromophenyl)phenyl]-1,2,3,4-tetrahy...</td>\n",
       "      <td>O=c1sc2ccccc2c(O)c1C1CC(c2ccc(-c3ccc(Br)cc3)cc...</td>\n",
       "      <td>O=c1sc2ccccc2c(O)c1C1CC(c2ccc(-c3ccc(Br)cc3)cc...</td>\n",
       "      <td>VSVAQRUUFVBBFS-UHFFFAOYSA-N</td>\n",
       "      <td>5.991624</td>\n",
       "      <td>&lt;rdkit.Chem.rdchem.Mol object at 0x0000029BA90...</td>\n",
       "    </tr>\n",
       "    <tr>\n",
       "      <th>1966</th>\n",
       "      <td>TOX-33005</td>\n",
       "      <td>38439</td>\n",
       "      <td>1,2,3,7,8-pentachlorodibenzo-p-dioxin</td>\n",
       "      <td>Clc1cc2c(cc1Cl)Oc1c(cc(Cl)c(Cl)c1Cl)O2</td>\n",
       "      <td>Clc1cc2c(cc1Cl)Oc1c(cc(Cl)c(Cl)c1Cl)O2</td>\n",
       "      <td>FSPZPQQWDODWAU-UHFFFAOYSA-N</td>\n",
       "      <td>6.238094</td>\n",
       "      <td>&lt;rdkit.Chem.rdchem.Mol object at 0x0000029BA90...</td>\n",
       "    </tr>\n",
       "    <tr>\n",
       "      <th>1967</th>\n",
       "      <td>TOX-24685</td>\n",
       "      <td>198007</td>\n",
       "      <td>3-ethyl-N-[methoxy(methylsulfanyl)phosphoryl]-...</td>\n",
       "      <td>CCN1CC(C)OC1=NP(=O)(OC)SC</td>\n",
       "      <td>CCN1CC(C)OC1=NP(=O)(OC)SC</td>\n",
       "      <td>JCYANUVOCLKHHY-UHFFFAOYSA-N</td>\n",
       "      <td>6.401876</td>\n",
       "      <td>&lt;rdkit.Chem.rdchem.Mol object at 0x0000029BA90...</td>\n",
       "    </tr>\n",
       "    <tr>\n",
       "      <th>1968</th>\n",
       "      <td>TOX-2398</td>\n",
       "      <td>15625</td>\n",
       "      <td>2,3,7,8-tetrachlorodibenzo-p-dioxin</td>\n",
       "      <td>Clc1cc2c(cc1Cl)Oc1cc(Cl)c(Cl)cc1O2</td>\n",
       "      <td>Clc1cc2c(cc1Cl)Oc1cc(Cl)c(Cl)cc1O2</td>\n",
       "      <td>HGUFODBRKLSHSI-UHFFFAOYSA-N</td>\n",
       "      <td>7.206791</td>\n",
       "      <td>&lt;rdkit.Chem.rdchem.Mol object at 0x0000029BA90...</td>\n",
       "    </tr>\n",
       "  </tbody>\n",
       "</table>\n",
       "<p>1969 rows × 8 columns</p>\n",
       "</div>"
      ],
      "text/plain": [
       "            TAID  Pubchem CID  \\\n",
       "0      TOX-17137          297   \n",
       "1     TOX-107853        17827   \n",
       "2      TOX-44620          974   \n",
       "3      TOX-11368        62433   \n",
       "4       TOX-7935        11429   \n",
       "...          ...          ...   \n",
       "1964   TOX-31209       123453   \n",
       "1965   TOX-63960        91771   \n",
       "1966   TOX-33005        38439   \n",
       "1967   TOX-24685       198007   \n",
       "1968    TOX-2398        15625   \n",
       "\n",
       "                                             IUPAC Name  \\\n",
       "0                                               methane   \n",
       "1                            2-(cyclohexylamino)ethanol   \n",
       "2                                           oxamic acid   \n",
       "3                                     pentyl pentanoate   \n",
       "4                                       butane-1,2-diol   \n",
       "...                                                 ...   \n",
       "1964  N-(2,8,9-trioxa-5-aza-1-silabicyclo[3.3.3]unde...   \n",
       "1965  3-[3-[4-(4-bromophenyl)phenyl]-1,2,3,4-tetrahy...   \n",
       "1966              1,2,3,7,8-pentachlorodibenzo-p-dioxin   \n",
       "1967  3-ethyl-N-[methoxy(methylsulfanyl)phosphoryl]-...   \n",
       "1968                2,3,7,8-tetrachlorodibenzo-p-dioxin   \n",
       "\n",
       "                                                 SMILES  \\\n",
       "0                                                     C   \n",
       "1                                          OCCNC1CCCCC1   \n",
       "2                                          NC(=O)C(=O)O   \n",
       "3                                       CCCCCOC(=O)CCCC   \n",
       "4                                              CCC(O)CO   \n",
       "...                                                 ...   \n",
       "1964                   c1ccc(NC[Si]23OCCN(CCO2)CCO3)cc1   \n",
       "1965  O=c1sc2ccccc2c(O)c1C1CC(c2ccc(-c3ccc(Br)cc3)cc...   \n",
       "1966             Clc1cc2c(cc1Cl)Oc1c(cc(Cl)c(Cl)c1Cl)O2   \n",
       "1967                          CCN1CC(C)OC1=NP(=O)(OC)SC   \n",
       "1968                 Clc1cc2c(cc1Cl)Oc1cc(Cl)c(Cl)cc1O2   \n",
       "\n",
       "                                       Canonical_SMILES  \\\n",
       "0                                                     C   \n",
       "1                                          OCCNC1CCCCC1   \n",
       "2                                          NC(=O)C(=O)O   \n",
       "3                                       CCCCCOC(=O)CCCC   \n",
       "4                                              CCC(O)CO   \n",
       "...                                                 ...   \n",
       "1964                   c1ccc(NC[Si]23OCCN(CCO2)CCO3)cc1   \n",
       "1965  O=c1sc2ccccc2c(O)c1C1CC(c2ccc(-c3ccc(Br)cc3)cc...   \n",
       "1966             Clc1cc2c(cc1Cl)Oc1c(cc(Cl)c(Cl)c1Cl)O2   \n",
       "1967                          CCN1CC(C)OC1=NP(=O)(OC)SC   \n",
       "1968                 Clc1cc2c(cc1Cl)Oc1cc(Cl)c(Cl)cc1O2   \n",
       "\n",
       "                         InChIKey  rat_oral_LD50  \\\n",
       "0     VNWKTOKETHGBQD-UHFFFAOYSA-N       0.017765   \n",
       "1     MGUMZJAQENFQKN-UHFFFAOYSA-N       0.572835   \n",
       "2     SOWBFZRMHSNYGE-UHFFFAOYSA-N       0.624488   \n",
       "3     FGPPDYNPZTUNIU-UHFFFAOYSA-N       0.686956   \n",
       "4     BMRWNKZVCUKKSR-UHFFFAOYSA-N       0.750711   \n",
       "...                           ...            ...   \n",
       "1964  YGHSPISFNKUQEY-UHFFFAOYSA-N       5.931904   \n",
       "1965  VSVAQRUUFVBBFS-UHFFFAOYSA-N       5.991624   \n",
       "1966  FSPZPQQWDODWAU-UHFFFAOYSA-N       6.238094   \n",
       "1967  JCYANUVOCLKHHY-UHFFFAOYSA-N       6.401876   \n",
       "1968  HGUFODBRKLSHSI-UHFFFAOYSA-N       7.206791   \n",
       "\n",
       "                                               Molecule  \n",
       "0     <rdkit.Chem.rdchem.Mol object at 0x0000029BA90...  \n",
       "1     <rdkit.Chem.rdchem.Mol object at 0x0000029BA90...  \n",
       "2     <rdkit.Chem.rdchem.Mol object at 0x0000029BA90...  \n",
       "3     <rdkit.Chem.rdchem.Mol object at 0x0000029BA90...  \n",
       "4     <rdkit.Chem.rdchem.Mol object at 0x0000029BA90...  \n",
       "...                                                 ...  \n",
       "1964  <rdkit.Chem.rdchem.Mol object at 0x0000029BA90...  \n",
       "1965  <rdkit.Chem.rdchem.Mol object at 0x0000029BA90...  \n",
       "1966  <rdkit.Chem.rdchem.Mol object at 0x0000029BA90...  \n",
       "1967  <rdkit.Chem.rdchem.Mol object at 0x0000029BA90...  \n",
       "1968  <rdkit.Chem.rdchem.Mol object at 0x0000029BA90...  \n",
       "\n",
       "[1969 rows x 8 columns]"
      ]
     },
     "execution_count": 23,
     "metadata": {},
     "output_type": "execute_result"
    }
   ],
   "source": [
    "moldf_ts"
   ]
  },
  {
   "cell_type": "code",
   "execution_count": 24,
   "metadata": {},
   "outputs": [
    {
     "data": {
      "text/plain": [
       "0       0.017765\n",
       "1       0.572835\n",
       "2       0.624488\n",
       "3       0.686956\n",
       "4       0.750711\n",
       "          ...   \n",
       "1964    5.931904\n",
       "1965    5.991624\n",
       "1966    6.238094\n",
       "1967    6.401876\n",
       "1968    7.206791\n",
       "Name: rat_oral_LD50, Length: 1969, dtype: float64"
      ]
     },
     "execution_count": 24,
     "metadata": {},
     "output_type": "execute_result"
    }
   ],
   "source": [
    "y_ts=moldf_ts.rat_oral_LD50\n",
    "y_ts"
   ]
  },
  {
   "cell_type": "code",
   "execution_count": 25,
   "metadata": {},
   "outputs": [],
   "source": [
    "moldf_ts=moldf_ts.Molecule"
   ]
  },
  {
   "cell_type": "markdown",
   "metadata": {},
   "source": [
    "## Calculation MACCS Fingerprints for work set"
   ]
  },
  {
   "cell_type": "code",
   "execution_count": 27,
   "metadata": {},
   "outputs": [],
   "source": [
    "fp_tr = [MACCSkeys.GenMACCSKeys(m) for m in moldf_ws]"
   ]
  },
  {
   "cell_type": "code",
   "execution_count": 28,
   "metadata": {},
   "outputs": [],
   "source": [
    "def rdkit_numpy_convert(fp_tr):\n",
    "    output = []\n",
    "    for f in fp_tr:\n",
    "        arr = np.zeros((1,))\n",
    "        DataStructs.ConvertToNumpyArray(f, arr)        \n",
    "        output.append(arr)\n",
    "    return np.asarray(output)"
   ]
  },
  {
   "cell_type": "code",
   "execution_count": 29,
   "metadata": {},
   "outputs": [],
   "source": [
    "from numpy import savetxt\n",
    "x_tr = rdkit_numpy_convert(fp_tr)"
   ]
  },
  {
   "cell_type": "code",
   "execution_count": 30,
   "metadata": {},
   "outputs": [],
   "source": [
    "columns = [f\"MACCS_key_{i}\" for i in range(167)]"
   ]
  },
  {
   "cell_type": "code",
   "execution_count": 31,
   "metadata": {},
   "outputs": [],
   "source": [
    "df_RDKit_2D = pd.DataFrame(x_tr, columns=columns)"
   ]
  },
  {
   "cell_type": "code",
   "execution_count": 32,
   "metadata": {
    "scrolled": true
   },
   "outputs": [
    {
     "data": {
      "text/html": [
       "<div>\n",
       "<style scoped>\n",
       "    .dataframe tbody tr th:only-of-type {\n",
       "        vertical-align: middle;\n",
       "    }\n",
       "\n",
       "    .dataframe tbody tr th {\n",
       "        vertical-align: top;\n",
       "    }\n",
       "\n",
       "    .dataframe thead th {\n",
       "        text-align: right;\n",
       "    }\n",
       "</style>\n",
       "<table border=\"1\" class=\"dataframe\">\n",
       "  <thead>\n",
       "    <tr style=\"text-align: right;\">\n",
       "      <th></th>\n",
       "      <th>MACCS_key_0</th>\n",
       "      <th>MACCS_key_1</th>\n",
       "      <th>MACCS_key_2</th>\n",
       "      <th>MACCS_key_3</th>\n",
       "      <th>MACCS_key_4</th>\n",
       "      <th>MACCS_key_5</th>\n",
       "      <th>MACCS_key_6</th>\n",
       "      <th>MACCS_key_7</th>\n",
       "      <th>MACCS_key_8</th>\n",
       "      <th>MACCS_key_9</th>\n",
       "      <th>...</th>\n",
       "      <th>MACCS_key_157</th>\n",
       "      <th>MACCS_key_158</th>\n",
       "      <th>MACCS_key_159</th>\n",
       "      <th>MACCS_key_160</th>\n",
       "      <th>MACCS_key_161</th>\n",
       "      <th>MACCS_key_162</th>\n",
       "      <th>MACCS_key_163</th>\n",
       "      <th>MACCS_key_164</th>\n",
       "      <th>MACCS_key_165</th>\n",
       "      <th>MACCS_key_166</th>\n",
       "    </tr>\n",
       "  </thead>\n",
       "  <tbody>\n",
       "    <tr>\n",
       "      <th>0</th>\n",
       "      <td>0.0</td>\n",
       "      <td>0.0</td>\n",
       "      <td>0.0</td>\n",
       "      <td>0.0</td>\n",
       "      <td>0.0</td>\n",
       "      <td>0.0</td>\n",
       "      <td>0.0</td>\n",
       "      <td>0.0</td>\n",
       "      <td>0.0</td>\n",
       "      <td>0.0</td>\n",
       "      <td>...</td>\n",
       "      <td>0.0</td>\n",
       "      <td>0.0</td>\n",
       "      <td>1.0</td>\n",
       "      <td>1.0</td>\n",
       "      <td>1.0</td>\n",
       "      <td>1.0</td>\n",
       "      <td>1.0</td>\n",
       "      <td>1.0</td>\n",
       "      <td>1.0</td>\n",
       "      <td>0.0</td>\n",
       "    </tr>\n",
       "    <tr>\n",
       "      <th>1</th>\n",
       "      <td>0.0</td>\n",
       "      <td>0.0</td>\n",
       "      <td>0.0</td>\n",
       "      <td>0.0</td>\n",
       "      <td>0.0</td>\n",
       "      <td>0.0</td>\n",
       "      <td>0.0</td>\n",
       "      <td>0.0</td>\n",
       "      <td>0.0</td>\n",
       "      <td>0.0</td>\n",
       "      <td>...</td>\n",
       "      <td>1.0</td>\n",
       "      <td>1.0</td>\n",
       "      <td>1.0</td>\n",
       "      <td>1.0</td>\n",
       "      <td>1.0</td>\n",
       "      <td>1.0</td>\n",
       "      <td>1.0</td>\n",
       "      <td>1.0</td>\n",
       "      <td>1.0</td>\n",
       "      <td>0.0</td>\n",
       "    </tr>\n",
       "    <tr>\n",
       "      <th>2</th>\n",
       "      <td>0.0</td>\n",
       "      <td>0.0</td>\n",
       "      <td>0.0</td>\n",
       "      <td>0.0</td>\n",
       "      <td>0.0</td>\n",
       "      <td>0.0</td>\n",
       "      <td>0.0</td>\n",
       "      <td>0.0</td>\n",
       "      <td>0.0</td>\n",
       "      <td>0.0</td>\n",
       "      <td>...</td>\n",
       "      <td>0.0</td>\n",
       "      <td>0.0</td>\n",
       "      <td>0.0</td>\n",
       "      <td>1.0</td>\n",
       "      <td>0.0</td>\n",
       "      <td>0.0</td>\n",
       "      <td>0.0</td>\n",
       "      <td>0.0</td>\n",
       "      <td>0.0</td>\n",
       "      <td>0.0</td>\n",
       "    </tr>\n",
       "    <tr>\n",
       "      <th>3</th>\n",
       "      <td>0.0</td>\n",
       "      <td>0.0</td>\n",
       "      <td>0.0</td>\n",
       "      <td>0.0</td>\n",
       "      <td>0.0</td>\n",
       "      <td>0.0</td>\n",
       "      <td>0.0</td>\n",
       "      <td>0.0</td>\n",
       "      <td>0.0</td>\n",
       "      <td>0.0</td>\n",
       "      <td>...</td>\n",
       "      <td>1.0</td>\n",
       "      <td>0.0</td>\n",
       "      <td>1.0</td>\n",
       "      <td>1.0</td>\n",
       "      <td>0.0</td>\n",
       "      <td>0.0</td>\n",
       "      <td>1.0</td>\n",
       "      <td>1.0</td>\n",
       "      <td>1.0</td>\n",
       "      <td>0.0</td>\n",
       "    </tr>\n",
       "    <tr>\n",
       "      <th>4</th>\n",
       "      <td>0.0</td>\n",
       "      <td>0.0</td>\n",
       "      <td>0.0</td>\n",
       "      <td>0.0</td>\n",
       "      <td>0.0</td>\n",
       "      <td>0.0</td>\n",
       "      <td>0.0</td>\n",
       "      <td>0.0</td>\n",
       "      <td>0.0</td>\n",
       "      <td>0.0</td>\n",
       "      <td>...</td>\n",
       "      <td>1.0</td>\n",
       "      <td>0.0</td>\n",
       "      <td>1.0</td>\n",
       "      <td>1.0</td>\n",
       "      <td>0.0</td>\n",
       "      <td>0.0</td>\n",
       "      <td>0.0</td>\n",
       "      <td>1.0</td>\n",
       "      <td>0.0</td>\n",
       "      <td>0.0</td>\n",
       "    </tr>\n",
       "    <tr>\n",
       "      <th>...</th>\n",
       "      <td>...</td>\n",
       "      <td>...</td>\n",
       "      <td>...</td>\n",
       "      <td>...</td>\n",
       "      <td>...</td>\n",
       "      <td>...</td>\n",
       "      <td>...</td>\n",
       "      <td>...</td>\n",
       "      <td>...</td>\n",
       "      <td>...</td>\n",
       "      <td>...</td>\n",
       "      <td>...</td>\n",
       "      <td>...</td>\n",
       "      <td>...</td>\n",
       "      <td>...</td>\n",
       "      <td>...</td>\n",
       "      <td>...</td>\n",
       "      <td>...</td>\n",
       "      <td>...</td>\n",
       "      <td>...</td>\n",
       "      <td>...</td>\n",
       "    </tr>\n",
       "    <tr>\n",
       "      <th>7869</th>\n",
       "      <td>0.0</td>\n",
       "      <td>0.0</td>\n",
       "      <td>0.0</td>\n",
       "      <td>0.0</td>\n",
       "      <td>0.0</td>\n",
       "      <td>0.0</td>\n",
       "      <td>0.0</td>\n",
       "      <td>0.0</td>\n",
       "      <td>0.0</td>\n",
       "      <td>0.0</td>\n",
       "      <td>...</td>\n",
       "      <td>1.0</td>\n",
       "      <td>0.0</td>\n",
       "      <td>1.0</td>\n",
       "      <td>0.0</td>\n",
       "      <td>0.0</td>\n",
       "      <td>1.0</td>\n",
       "      <td>1.0</td>\n",
       "      <td>1.0</td>\n",
       "      <td>1.0</td>\n",
       "      <td>0.0</td>\n",
       "    </tr>\n",
       "    <tr>\n",
       "      <th>7870</th>\n",
       "      <td>0.0</td>\n",
       "      <td>0.0</td>\n",
       "      <td>0.0</td>\n",
       "      <td>0.0</td>\n",
       "      <td>0.0</td>\n",
       "      <td>0.0</td>\n",
       "      <td>0.0</td>\n",
       "      <td>0.0</td>\n",
       "      <td>0.0</td>\n",
       "      <td>0.0</td>\n",
       "      <td>...</td>\n",
       "      <td>1.0</td>\n",
       "      <td>0.0</td>\n",
       "      <td>1.0</td>\n",
       "      <td>1.0</td>\n",
       "      <td>0.0</td>\n",
       "      <td>1.0</td>\n",
       "      <td>1.0</td>\n",
       "      <td>1.0</td>\n",
       "      <td>1.0</td>\n",
       "      <td>0.0</td>\n",
       "    </tr>\n",
       "    <tr>\n",
       "      <th>7871</th>\n",
       "      <td>0.0</td>\n",
       "      <td>0.0</td>\n",
       "      <td>0.0</td>\n",
       "      <td>0.0</td>\n",
       "      <td>0.0</td>\n",
       "      <td>0.0</td>\n",
       "      <td>0.0</td>\n",
       "      <td>0.0</td>\n",
       "      <td>0.0</td>\n",
       "      <td>0.0</td>\n",
       "      <td>...</td>\n",
       "      <td>1.0</td>\n",
       "      <td>0.0</td>\n",
       "      <td>1.0</td>\n",
       "      <td>1.0</td>\n",
       "      <td>0.0</td>\n",
       "      <td>0.0</td>\n",
       "      <td>1.0</td>\n",
       "      <td>1.0</td>\n",
       "      <td>1.0</td>\n",
       "      <td>0.0</td>\n",
       "    </tr>\n",
       "    <tr>\n",
       "      <th>7872</th>\n",
       "      <td>0.0</td>\n",
       "      <td>0.0</td>\n",
       "      <td>0.0</td>\n",
       "      <td>0.0</td>\n",
       "      <td>0.0</td>\n",
       "      <td>0.0</td>\n",
       "      <td>0.0</td>\n",
       "      <td>0.0</td>\n",
       "      <td>0.0</td>\n",
       "      <td>0.0</td>\n",
       "      <td>...</td>\n",
       "      <td>1.0</td>\n",
       "      <td>1.0</td>\n",
       "      <td>1.0</td>\n",
       "      <td>1.0</td>\n",
       "      <td>1.0</td>\n",
       "      <td>1.0</td>\n",
       "      <td>1.0</td>\n",
       "      <td>1.0</td>\n",
       "      <td>1.0</td>\n",
       "      <td>0.0</td>\n",
       "    </tr>\n",
       "    <tr>\n",
       "      <th>7873</th>\n",
       "      <td>0.0</td>\n",
       "      <td>0.0</td>\n",
       "      <td>0.0</td>\n",
       "      <td>0.0</td>\n",
       "      <td>0.0</td>\n",
       "      <td>0.0</td>\n",
       "      <td>0.0</td>\n",
       "      <td>0.0</td>\n",
       "      <td>0.0</td>\n",
       "      <td>0.0</td>\n",
       "      <td>...</td>\n",
       "      <td>1.0</td>\n",
       "      <td>0.0</td>\n",
       "      <td>1.0</td>\n",
       "      <td>1.0</td>\n",
       "      <td>0.0</td>\n",
       "      <td>0.0</td>\n",
       "      <td>1.0</td>\n",
       "      <td>1.0</td>\n",
       "      <td>1.0</td>\n",
       "      <td>0.0</td>\n",
       "    </tr>\n",
       "  </tbody>\n",
       "</table>\n",
       "<p>7874 rows × 167 columns</p>\n",
       "</div>"
      ],
      "text/plain": [
       "      MACCS_key_0  MACCS_key_1  MACCS_key_2  MACCS_key_3  MACCS_key_4  \\\n",
       "0             0.0          0.0          0.0          0.0          0.0   \n",
       "1             0.0          0.0          0.0          0.0          0.0   \n",
       "2             0.0          0.0          0.0          0.0          0.0   \n",
       "3             0.0          0.0          0.0          0.0          0.0   \n",
       "4             0.0          0.0          0.0          0.0          0.0   \n",
       "...           ...          ...          ...          ...          ...   \n",
       "7869          0.0          0.0          0.0          0.0          0.0   \n",
       "7870          0.0          0.0          0.0          0.0          0.0   \n",
       "7871          0.0          0.0          0.0          0.0          0.0   \n",
       "7872          0.0          0.0          0.0          0.0          0.0   \n",
       "7873          0.0          0.0          0.0          0.0          0.0   \n",
       "\n",
       "      MACCS_key_5  MACCS_key_6  MACCS_key_7  MACCS_key_8  MACCS_key_9  ...  \\\n",
       "0             0.0          0.0          0.0          0.0          0.0  ...   \n",
       "1             0.0          0.0          0.0          0.0          0.0  ...   \n",
       "2             0.0          0.0          0.0          0.0          0.0  ...   \n",
       "3             0.0          0.0          0.0          0.0          0.0  ...   \n",
       "4             0.0          0.0          0.0          0.0          0.0  ...   \n",
       "...           ...          ...          ...          ...          ...  ...   \n",
       "7869          0.0          0.0          0.0          0.0          0.0  ...   \n",
       "7870          0.0          0.0          0.0          0.0          0.0  ...   \n",
       "7871          0.0          0.0          0.0          0.0          0.0  ...   \n",
       "7872          0.0          0.0          0.0          0.0          0.0  ...   \n",
       "7873          0.0          0.0          0.0          0.0          0.0  ...   \n",
       "\n",
       "      MACCS_key_157  MACCS_key_158  MACCS_key_159  MACCS_key_160  \\\n",
       "0               0.0            0.0            1.0            1.0   \n",
       "1               1.0            1.0            1.0            1.0   \n",
       "2               0.0            0.0            0.0            1.0   \n",
       "3               1.0            0.0            1.0            1.0   \n",
       "4               1.0            0.0            1.0            1.0   \n",
       "...             ...            ...            ...            ...   \n",
       "7869            1.0            0.0            1.0            0.0   \n",
       "7870            1.0            0.0            1.0            1.0   \n",
       "7871            1.0            0.0            1.0            1.0   \n",
       "7872            1.0            1.0            1.0            1.0   \n",
       "7873            1.0            0.0            1.0            1.0   \n",
       "\n",
       "      MACCS_key_161  MACCS_key_162  MACCS_key_163  MACCS_key_164  \\\n",
       "0               1.0            1.0            1.0            1.0   \n",
       "1               1.0            1.0            1.0            1.0   \n",
       "2               0.0            0.0            0.0            0.0   \n",
       "3               0.0            0.0            1.0            1.0   \n",
       "4               0.0            0.0            0.0            1.0   \n",
       "...             ...            ...            ...            ...   \n",
       "7869            0.0            1.0            1.0            1.0   \n",
       "7870            0.0            1.0            1.0            1.0   \n",
       "7871            0.0            0.0            1.0            1.0   \n",
       "7872            1.0            1.0            1.0            1.0   \n",
       "7873            0.0            0.0            1.0            1.0   \n",
       "\n",
       "      MACCS_key_165  MACCS_key_166  \n",
       "0               1.0            0.0  \n",
       "1               1.0            0.0  \n",
       "2               0.0            0.0  \n",
       "3               1.0            0.0  \n",
       "4               0.0            0.0  \n",
       "...             ...            ...  \n",
       "7869            1.0            0.0  \n",
       "7870            1.0            0.0  \n",
       "7871            1.0            0.0  \n",
       "7872            1.0            0.0  \n",
       "7873            1.0            0.0  \n",
       "\n",
       "[7874 rows x 167 columns]"
      ]
     },
     "execution_count": 32,
     "metadata": {},
     "output_type": "execute_result"
    }
   ],
   "source": [
    "df_RDKit_2D"
   ]
  },
  {
   "cell_type": "code",
   "execution_count": 33,
   "metadata": {},
   "outputs": [
    {
     "data": {
      "text/plain": [
       "125"
      ]
     },
     "execution_count": 33,
     "metadata": {},
     "output_type": "execute_result"
    }
   ],
   "source": [
    "(df_RDKit_2D.iloc[:, 3]==1).sum()"
   ]
  },
  {
   "cell_type": "code",
   "execution_count": 34,
   "metadata": {},
   "outputs": [],
   "source": [
    "savetxt('models/MACCS/x_tr_MACCS.csv', x_tr, delimiter=',')"
   ]
  },
  {
   "cell_type": "code",
   "execution_count": 35,
   "metadata": {},
   "outputs": [
    {
     "data": {
      "text/plain": [
       "(7874, 167)"
      ]
     },
     "execution_count": 35,
     "metadata": {},
     "output_type": "execute_result"
    }
   ],
   "source": [
    "x_tr.shape"
   ]
  },
  {
   "cell_type": "markdown",
   "metadata": {},
   "source": [
    "## Calculation  MACCS Fingerprint for test set"
   ]
  },
  {
   "cell_type": "code",
   "execution_count": 37,
   "metadata": {},
   "outputs": [],
   "source": [
    "fp_ts = [MACCSkeys.GenMACCSKeys(m) for m in moldf_ts]"
   ]
  },
  {
   "cell_type": "code",
   "execution_count": 38,
   "metadata": {},
   "outputs": [],
   "source": [
    "def rdkit_numpy_convert(fp_ts):\n",
    "    output = []\n",
    "    for f in fp_ts:\n",
    "        arr = np.zeros((1,))\n",
    "        DataStructs.ConvertToNumpyArray(f, arr)\n",
    "        output.append(arr)\n",
    "    return np.asarray(output)"
   ]
  },
  {
   "cell_type": "code",
   "execution_count": 39,
   "metadata": {},
   "outputs": [],
   "source": [
    "x_ts = rdkit_numpy_convert(fp_ts)"
   ]
  },
  {
   "cell_type": "code",
   "execution_count": 40,
   "metadata": {},
   "outputs": [
    {
     "data": {
      "text/plain": [
       "(1969, 167)"
      ]
     },
     "execution_count": 40,
     "metadata": {},
     "output_type": "execute_result"
    }
   ],
   "source": [
    "x_ts.shape"
   ]
  },
  {
   "cell_type": "code",
   "execution_count": 45,
   "metadata": {},
   "outputs": [],
   "source": [
    "x_tr = np.array(x_tr, dtype=np.float32)\n",
    "y_tr = np.array(y_tr, dtype=np.float32)"
   ]
  },
  {
   "cell_type": "markdown",
   "metadata": {},
   "source": [
    "# CatBoostRegressor"
   ]
  },
  {
   "cell_type": "code",
   "execution_count": 83,
   "metadata": {},
   "outputs": [],
   "source": [
    "cv=KFold(n_splits=5, random_state=42, shuffle=True)"
   ]
  },
  {
   "cell_type": "code",
   "execution_count": 280,
   "metadata": {},
   "outputs": [
    {
     "name": "stdout",
     "output_type": "stream",
     "text": [
      "CPU times: total: 8min\n",
      "Wall time: 15min 20s\n"
     ]
    },
    {
     "data": {
      "text/html": [
       "<style>#sk-container-id-2 {\n",
       "  /* Definition of color scheme common for light and dark mode */\n",
       "  --sklearn-color-text: black;\n",
       "  --sklearn-color-line: gray;\n",
       "  /* Definition of color scheme for unfitted estimators */\n",
       "  --sklearn-color-unfitted-level-0: #fff5e6;\n",
       "  --sklearn-color-unfitted-level-1: #f6e4d2;\n",
       "  --sklearn-color-unfitted-level-2: #ffe0b3;\n",
       "  --sklearn-color-unfitted-level-3: chocolate;\n",
       "  /* Definition of color scheme for fitted estimators */\n",
       "  --sklearn-color-fitted-level-0: #f0f8ff;\n",
       "  --sklearn-color-fitted-level-1: #d4ebff;\n",
       "  --sklearn-color-fitted-level-2: #b3dbfd;\n",
       "  --sklearn-color-fitted-level-3: cornflowerblue;\n",
       "\n",
       "  /* Specific color for light theme */\n",
       "  --sklearn-color-text-on-default-background: var(--sg-text-color, var(--theme-code-foreground, var(--jp-content-font-color1, black)));\n",
       "  --sklearn-color-background: var(--sg-background-color, var(--theme-background, var(--jp-layout-color0, white)));\n",
       "  --sklearn-color-border-box: var(--sg-text-color, var(--theme-code-foreground, var(--jp-content-font-color1, black)));\n",
       "  --sklearn-color-icon: #696969;\n",
       "\n",
       "  @media (prefers-color-scheme: dark) {\n",
       "    /* Redefinition of color scheme for dark theme */\n",
       "    --sklearn-color-text-on-default-background: var(--sg-text-color, var(--theme-code-foreground, var(--jp-content-font-color1, white)));\n",
       "    --sklearn-color-background: var(--sg-background-color, var(--theme-background, var(--jp-layout-color0, #111)));\n",
       "    --sklearn-color-border-box: var(--sg-text-color, var(--theme-code-foreground, var(--jp-content-font-color1, white)));\n",
       "    --sklearn-color-icon: #878787;\n",
       "  }\n",
       "}\n",
       "\n",
       "#sk-container-id-2 {\n",
       "  color: var(--sklearn-color-text);\n",
       "}\n",
       "\n",
       "#sk-container-id-2 pre {\n",
       "  padding: 0;\n",
       "}\n",
       "\n",
       "#sk-container-id-2 input.sk-hidden--visually {\n",
       "  border: 0;\n",
       "  clip: rect(1px 1px 1px 1px);\n",
       "  clip: rect(1px, 1px, 1px, 1px);\n",
       "  height: 1px;\n",
       "  margin: -1px;\n",
       "  overflow: hidden;\n",
       "  padding: 0;\n",
       "  position: absolute;\n",
       "  width: 1px;\n",
       "}\n",
       "\n",
       "#sk-container-id-2 div.sk-dashed-wrapped {\n",
       "  border: 1px dashed var(--sklearn-color-line);\n",
       "  margin: 0 0.4em 0.5em 0.4em;\n",
       "  box-sizing: border-box;\n",
       "  padding-bottom: 0.4em;\n",
       "  background-color: var(--sklearn-color-background);\n",
       "}\n",
       "\n",
       "#sk-container-id-2 div.sk-container {\n",
       "  /* jupyter's `normalize.less` sets `[hidden] { display: none; }`\n",
       "     but bootstrap.min.css set `[hidden] { display: none !important; }`\n",
       "     so we also need the `!important` here to be able to override the\n",
       "     default hidden behavior on the sphinx rendered scikit-learn.org.\n",
       "     See: https://github.com/scikit-learn/scikit-learn/issues/21755 */\n",
       "  display: inline-block !important;\n",
       "  position: relative;\n",
       "}\n",
       "\n",
       "#sk-container-id-2 div.sk-text-repr-fallback {\n",
       "  display: none;\n",
       "}\n",
       "\n",
       "div.sk-parallel-item,\n",
       "div.sk-serial,\n",
       "div.sk-item {\n",
       "  /* draw centered vertical line to link estimators */\n",
       "  background-image: linear-gradient(var(--sklearn-color-text-on-default-background), var(--sklearn-color-text-on-default-background));\n",
       "  background-size: 2px 100%;\n",
       "  background-repeat: no-repeat;\n",
       "  background-position: center center;\n",
       "}\n",
       "\n",
       "/* Parallel-specific style estimator block */\n",
       "\n",
       "#sk-container-id-2 div.sk-parallel-item::after {\n",
       "  content: \"\";\n",
       "  width: 100%;\n",
       "  border-bottom: 2px solid var(--sklearn-color-text-on-default-background);\n",
       "  flex-grow: 1;\n",
       "}\n",
       "\n",
       "#sk-container-id-2 div.sk-parallel {\n",
       "  display: flex;\n",
       "  align-items: stretch;\n",
       "  justify-content: center;\n",
       "  background-color: var(--sklearn-color-background);\n",
       "  position: relative;\n",
       "}\n",
       "\n",
       "#sk-container-id-2 div.sk-parallel-item {\n",
       "  display: flex;\n",
       "  flex-direction: column;\n",
       "}\n",
       "\n",
       "#sk-container-id-2 div.sk-parallel-item:first-child::after {\n",
       "  align-self: flex-end;\n",
       "  width: 50%;\n",
       "}\n",
       "\n",
       "#sk-container-id-2 div.sk-parallel-item:last-child::after {\n",
       "  align-self: flex-start;\n",
       "  width: 50%;\n",
       "}\n",
       "\n",
       "#sk-container-id-2 div.sk-parallel-item:only-child::after {\n",
       "  width: 0;\n",
       "}\n",
       "\n",
       "/* Serial-specific style estimator block */\n",
       "\n",
       "#sk-container-id-2 div.sk-serial {\n",
       "  display: flex;\n",
       "  flex-direction: column;\n",
       "  align-items: center;\n",
       "  background-color: var(--sklearn-color-background);\n",
       "  padding-right: 1em;\n",
       "  padding-left: 1em;\n",
       "}\n",
       "\n",
       "\n",
       "/* Toggleable style: style used for estimator/Pipeline/ColumnTransformer box that is\n",
       "clickable and can be expanded/collapsed.\n",
       "- Pipeline and ColumnTransformer use this feature and define the default style\n",
       "- Estimators will overwrite some part of the style using the `sk-estimator` class\n",
       "*/\n",
       "\n",
       "/* Pipeline and ColumnTransformer style (default) */\n",
       "\n",
       "#sk-container-id-2 div.sk-toggleable {\n",
       "  /* Default theme specific background. It is overwritten whether we have a\n",
       "  specific estimator or a Pipeline/ColumnTransformer */\n",
       "  background-color: var(--sklearn-color-background);\n",
       "}\n",
       "\n",
       "/* Toggleable label */\n",
       "#sk-container-id-2 label.sk-toggleable__label {\n",
       "  cursor: pointer;\n",
       "  display: block;\n",
       "  width: 100%;\n",
       "  margin-bottom: 0;\n",
       "  padding: 0.5em;\n",
       "  box-sizing: border-box;\n",
       "  text-align: center;\n",
       "}\n",
       "\n",
       "#sk-container-id-2 label.sk-toggleable__label-arrow:before {\n",
       "  /* Arrow on the left of the label */\n",
       "  content: \"▸\";\n",
       "  float: left;\n",
       "  margin-right: 0.25em;\n",
       "  color: var(--sklearn-color-icon);\n",
       "}\n",
       "\n",
       "#sk-container-id-2 label.sk-toggleable__label-arrow:hover:before {\n",
       "  color: var(--sklearn-color-text);\n",
       "}\n",
       "\n",
       "/* Toggleable content - dropdown */\n",
       "\n",
       "#sk-container-id-2 div.sk-toggleable__content {\n",
       "  max-height: 0;\n",
       "  max-width: 0;\n",
       "  overflow: hidden;\n",
       "  text-align: left;\n",
       "  /* unfitted */\n",
       "  background-color: var(--sklearn-color-unfitted-level-0);\n",
       "}\n",
       "\n",
       "#sk-container-id-2 div.sk-toggleable__content.fitted {\n",
       "  /* fitted */\n",
       "  background-color: var(--sklearn-color-fitted-level-0);\n",
       "}\n",
       "\n",
       "#sk-container-id-2 div.sk-toggleable__content pre {\n",
       "  margin: 0.2em;\n",
       "  border-radius: 0.25em;\n",
       "  color: var(--sklearn-color-text);\n",
       "  /* unfitted */\n",
       "  background-color: var(--sklearn-color-unfitted-level-0);\n",
       "}\n",
       "\n",
       "#sk-container-id-2 div.sk-toggleable__content.fitted pre {\n",
       "  /* unfitted */\n",
       "  background-color: var(--sklearn-color-fitted-level-0);\n",
       "}\n",
       "\n",
       "#sk-container-id-2 input.sk-toggleable__control:checked~div.sk-toggleable__content {\n",
       "  /* Expand drop-down */\n",
       "  max-height: 200px;\n",
       "  max-width: 100%;\n",
       "  overflow: auto;\n",
       "}\n",
       "\n",
       "#sk-container-id-2 input.sk-toggleable__control:checked~label.sk-toggleable__label-arrow:before {\n",
       "  content: \"▾\";\n",
       "}\n",
       "\n",
       "/* Pipeline/ColumnTransformer-specific style */\n",
       "\n",
       "#sk-container-id-2 div.sk-label input.sk-toggleable__control:checked~label.sk-toggleable__label {\n",
       "  color: var(--sklearn-color-text);\n",
       "  background-color: var(--sklearn-color-unfitted-level-2);\n",
       "}\n",
       "\n",
       "#sk-container-id-2 div.sk-label.fitted input.sk-toggleable__control:checked~label.sk-toggleable__label {\n",
       "  background-color: var(--sklearn-color-fitted-level-2);\n",
       "}\n",
       "\n",
       "/* Estimator-specific style */\n",
       "\n",
       "/* Colorize estimator box */\n",
       "#sk-container-id-2 div.sk-estimator input.sk-toggleable__control:checked~label.sk-toggleable__label {\n",
       "  /* unfitted */\n",
       "  background-color: var(--sklearn-color-unfitted-level-2);\n",
       "}\n",
       "\n",
       "#sk-container-id-2 div.sk-estimator.fitted input.sk-toggleable__control:checked~label.sk-toggleable__label {\n",
       "  /* fitted */\n",
       "  background-color: var(--sklearn-color-fitted-level-2);\n",
       "}\n",
       "\n",
       "#sk-container-id-2 div.sk-label label.sk-toggleable__label,\n",
       "#sk-container-id-2 div.sk-label label {\n",
       "  /* The background is the default theme color */\n",
       "  color: var(--sklearn-color-text-on-default-background);\n",
       "}\n",
       "\n",
       "/* On hover, darken the color of the background */\n",
       "#sk-container-id-2 div.sk-label:hover label.sk-toggleable__label {\n",
       "  color: var(--sklearn-color-text);\n",
       "  background-color: var(--sklearn-color-unfitted-level-2);\n",
       "}\n",
       "\n",
       "/* Label box, darken color on hover, fitted */\n",
       "#sk-container-id-2 div.sk-label.fitted:hover label.sk-toggleable__label.fitted {\n",
       "  color: var(--sklearn-color-text);\n",
       "  background-color: var(--sklearn-color-fitted-level-2);\n",
       "}\n",
       "\n",
       "/* Estimator label */\n",
       "\n",
       "#sk-container-id-2 div.sk-label label {\n",
       "  font-family: monospace;\n",
       "  font-weight: bold;\n",
       "  display: inline-block;\n",
       "  line-height: 1.2em;\n",
       "}\n",
       "\n",
       "#sk-container-id-2 div.sk-label-container {\n",
       "  text-align: center;\n",
       "}\n",
       "\n",
       "/* Estimator-specific */\n",
       "#sk-container-id-2 div.sk-estimator {\n",
       "  font-family: monospace;\n",
       "  border: 1px dotted var(--sklearn-color-border-box);\n",
       "  border-radius: 0.25em;\n",
       "  box-sizing: border-box;\n",
       "  margin-bottom: 0.5em;\n",
       "  /* unfitted */\n",
       "  background-color: var(--sklearn-color-unfitted-level-0);\n",
       "}\n",
       "\n",
       "#sk-container-id-2 div.sk-estimator.fitted {\n",
       "  /* fitted */\n",
       "  background-color: var(--sklearn-color-fitted-level-0);\n",
       "}\n",
       "\n",
       "/* on hover */\n",
       "#sk-container-id-2 div.sk-estimator:hover {\n",
       "  /* unfitted */\n",
       "  background-color: var(--sklearn-color-unfitted-level-2);\n",
       "}\n",
       "\n",
       "#sk-container-id-2 div.sk-estimator.fitted:hover {\n",
       "  /* fitted */\n",
       "  background-color: var(--sklearn-color-fitted-level-2);\n",
       "}\n",
       "\n",
       "/* Specification for estimator info (e.g. \"i\" and \"?\") */\n",
       "\n",
       "/* Common style for \"i\" and \"?\" */\n",
       "\n",
       ".sk-estimator-doc-link,\n",
       "a:link.sk-estimator-doc-link,\n",
       "a:visited.sk-estimator-doc-link {\n",
       "  float: right;\n",
       "  font-size: smaller;\n",
       "  line-height: 1em;\n",
       "  font-family: monospace;\n",
       "  background-color: var(--sklearn-color-background);\n",
       "  border-radius: 1em;\n",
       "  height: 1em;\n",
       "  width: 1em;\n",
       "  text-decoration: none !important;\n",
       "  margin-left: 1ex;\n",
       "  /* unfitted */\n",
       "  border: var(--sklearn-color-unfitted-level-1) 1pt solid;\n",
       "  color: var(--sklearn-color-unfitted-level-1);\n",
       "}\n",
       "\n",
       ".sk-estimator-doc-link.fitted,\n",
       "a:link.sk-estimator-doc-link.fitted,\n",
       "a:visited.sk-estimator-doc-link.fitted {\n",
       "  /* fitted */\n",
       "  border: var(--sklearn-color-fitted-level-1) 1pt solid;\n",
       "  color: var(--sklearn-color-fitted-level-1);\n",
       "}\n",
       "\n",
       "/* On hover */\n",
       "div.sk-estimator:hover .sk-estimator-doc-link:hover,\n",
       ".sk-estimator-doc-link:hover,\n",
       "div.sk-label-container:hover .sk-estimator-doc-link:hover,\n",
       ".sk-estimator-doc-link:hover {\n",
       "  /* unfitted */\n",
       "  background-color: var(--sklearn-color-unfitted-level-3);\n",
       "  color: var(--sklearn-color-background);\n",
       "  text-decoration: none;\n",
       "}\n",
       "\n",
       "div.sk-estimator.fitted:hover .sk-estimator-doc-link.fitted:hover,\n",
       ".sk-estimator-doc-link.fitted:hover,\n",
       "div.sk-label-container:hover .sk-estimator-doc-link.fitted:hover,\n",
       ".sk-estimator-doc-link.fitted:hover {\n",
       "  /* fitted */\n",
       "  background-color: var(--sklearn-color-fitted-level-3);\n",
       "  color: var(--sklearn-color-background);\n",
       "  text-decoration: none;\n",
       "}\n",
       "\n",
       "/* Span, style for the box shown on hovering the info icon */\n",
       ".sk-estimator-doc-link span {\n",
       "  display: none;\n",
       "  z-index: 9999;\n",
       "  position: relative;\n",
       "  font-weight: normal;\n",
       "  right: .2ex;\n",
       "  padding: .5ex;\n",
       "  margin: .5ex;\n",
       "  width: min-content;\n",
       "  min-width: 20ex;\n",
       "  max-width: 50ex;\n",
       "  color: var(--sklearn-color-text);\n",
       "  box-shadow: 2pt 2pt 4pt #999;\n",
       "  /* unfitted */\n",
       "  background: var(--sklearn-color-unfitted-level-0);\n",
       "  border: .5pt solid var(--sklearn-color-unfitted-level-3);\n",
       "}\n",
       "\n",
       ".sk-estimator-doc-link.fitted span {\n",
       "  /* fitted */\n",
       "  background: var(--sklearn-color-fitted-level-0);\n",
       "  border: var(--sklearn-color-fitted-level-3);\n",
       "}\n",
       "\n",
       ".sk-estimator-doc-link:hover span {\n",
       "  display: block;\n",
       "}\n",
       "\n",
       "/* \"?\"-specific style due to the `<a>` HTML tag */\n",
       "\n",
       "#sk-container-id-2 a.estimator_doc_link {\n",
       "  float: right;\n",
       "  font-size: 1rem;\n",
       "  line-height: 1em;\n",
       "  font-family: monospace;\n",
       "  background-color: var(--sklearn-color-background);\n",
       "  border-radius: 1rem;\n",
       "  height: 1rem;\n",
       "  width: 1rem;\n",
       "  text-decoration: none;\n",
       "  /* unfitted */\n",
       "  color: var(--sklearn-color-unfitted-level-1);\n",
       "  border: var(--sklearn-color-unfitted-level-1) 1pt solid;\n",
       "}\n",
       "\n",
       "#sk-container-id-2 a.estimator_doc_link.fitted {\n",
       "  /* fitted */\n",
       "  border: var(--sklearn-color-fitted-level-1) 1pt solid;\n",
       "  color: var(--sklearn-color-fitted-level-1);\n",
       "}\n",
       "\n",
       "/* On hover */\n",
       "#sk-container-id-2 a.estimator_doc_link:hover {\n",
       "  /* unfitted */\n",
       "  background-color: var(--sklearn-color-unfitted-level-3);\n",
       "  color: var(--sklearn-color-background);\n",
       "  text-decoration: none;\n",
       "}\n",
       "\n",
       "#sk-container-id-2 a.estimator_doc_link.fitted:hover {\n",
       "  /* fitted */\n",
       "  background-color: var(--sklearn-color-fitted-level-3);\n",
       "}\n",
       "</style><div id=\"sk-container-id-2\" class=\"sk-top-container\"><div class=\"sk-text-repr-fallback\"><pre>GridSearchCV(cv=KFold(n_splits=5, random_state=42, shuffle=True),\n",
       "             estimator=&lt;catboost.core.CatBoostRegressor object at 0x0000026D99634260&gt;,\n",
       "             n_jobs=-1,\n",
       "             param_grid={&#x27;depth&#x27;: [6, 8, 10], &#x27;iterations&#x27;: [100, 500, 1000],\n",
       "                         &#x27;learning_rate&#x27;: [0.01, 0.05, 0.1]})</pre><b>In a Jupyter environment, please rerun this cell to show the HTML representation or trust the notebook. <br />On GitHub, the HTML representation is unable to render, please try loading this page with nbviewer.org.</b></div><div class=\"sk-container\" hidden><div class=\"sk-item sk-dashed-wrapped\"><div class=\"sk-label-container\"><div class=\"sk-label fitted sk-toggleable\"><input class=\"sk-toggleable__control sk-hidden--visually\" id=\"sk-estimator-id-4\" type=\"checkbox\" ><label for=\"sk-estimator-id-4\" class=\"sk-toggleable__label fitted sk-toggleable__label-arrow fitted\">&nbsp;&nbsp;GridSearchCV<a class=\"sk-estimator-doc-link fitted\" rel=\"noreferrer\" target=\"_blank\" href=\"https://scikit-learn.org/1.5/modules/generated/sklearn.model_selection.GridSearchCV.html\">?<span>Documentation for GridSearchCV</span></a><span class=\"sk-estimator-doc-link fitted\">i<span>Fitted</span></span></label><div class=\"sk-toggleable__content fitted\"><pre>GridSearchCV(cv=KFold(n_splits=5, random_state=42, shuffle=True),\n",
       "             estimator=&lt;catboost.core.CatBoostRegressor object at 0x0000026D99634260&gt;,\n",
       "             n_jobs=-1,\n",
       "             param_grid={&#x27;depth&#x27;: [6, 8, 10], &#x27;iterations&#x27;: [100, 500, 1000],\n",
       "                         &#x27;learning_rate&#x27;: [0.01, 0.05, 0.1]})</pre></div> </div></div><div class=\"sk-parallel\"><div class=\"sk-parallel-item\"><div class=\"sk-item\"><div class=\"sk-label-container\"><div class=\"sk-label fitted sk-toggleable\"><input class=\"sk-toggleable__control sk-hidden--visually\" id=\"sk-estimator-id-5\" type=\"checkbox\" ><label for=\"sk-estimator-id-5\" class=\"sk-toggleable__label fitted sk-toggleable__label-arrow fitted\">best_estimator_: CatBoostRegressor</label><div class=\"sk-toggleable__content fitted\"><pre>&lt;catboost.core.CatBoostRegressor object at 0x0000026D996353D0&gt;</pre></div> </div></div><div class=\"sk-serial\"><div class=\"sk-item\"><div class=\"sk-estimator fitted sk-toggleable\"><input class=\"sk-toggleable__control sk-hidden--visually\" id=\"sk-estimator-id-6\" type=\"checkbox\" ><label for=\"sk-estimator-id-6\" class=\"sk-toggleable__label fitted sk-toggleable__label-arrow fitted\">CatBoostRegressor</label><div class=\"sk-toggleable__content fitted\"><pre>&lt;catboost.core.CatBoostRegressor object at 0x0000026D996353D0&gt;</pre></div> </div></div></div></div></div></div></div></div></div>"
      ],
      "text/plain": [
       "GridSearchCV(cv=KFold(n_splits=5, random_state=42, shuffle=True),\n",
       "             estimator=<catboost.core.CatBoostRegressor object at 0x0000026D99634260>,\n",
       "             n_jobs=-1,\n",
       "             param_grid={'depth': [6, 8, 10], 'iterations': [100, 500, 1000],\n",
       "                         'learning_rate': [0.01, 0.05, 0.1]})"
      ]
     },
     "execution_count": 280,
     "metadata": {},
     "output_type": "execute_result"
    }
   ],
   "source": [
    "%%time\n",
    "model = CatBoostRegressor()\n",
    "parameters = {'depth' : [6,8,10],\n",
    "              'learning_rate' : [0.01, 0.05, 0.1],\n",
    "              'iterations'    : [100,500, 1000]\n",
    "              }\n",
    "\n",
    "grid = GridSearchCV(estimator=model, param_grid = parameters, n_jobs=-1, cv = cv)\n",
    "grid.fit(x_tr, y_tr, verbose=False)"
   ]
  },
  {
   "cell_type": "code",
   "execution_count": 281,
   "metadata": {},
   "outputs": [],
   "source": [
    "best_CatBR = grid.best_estimator_"
   ]
  },
  {
   "cell_type": "code",
   "execution_count": 284,
   "metadata": {},
   "outputs": [
    {
     "data": {
      "text/plain": [
       "{'depth': 10, 'iterations': 1000, 'learning_rate': 0.05}"
      ]
     },
     "execution_count": 284,
     "metadata": {},
     "output_type": "execute_result"
    }
   ],
   "source": [
    "grid.best_params_"
   ]
  },
  {
   "cell_type": "code",
   "execution_count": 285,
   "metadata": {},
   "outputs": [],
   "source": [
    "y_pred_ws_GBR = best_CatBR.predict(x_tr)"
   ]
  },
  {
   "cell_type": "code",
   "execution_count": 286,
   "metadata": {},
   "outputs": [
    {
     "data": {
      "text/plain": [
       "0.92"
      ]
     },
     "execution_count": 286,
     "metadata": {},
     "output_type": "execute_result"
    }
   ],
   "source": [
    "R2_WS = round(r2_score(y_tr, y_pred_ws_GBR), 2)\n",
    "R2_WS"
   ]
  },
  {
   "cell_type": "code",
   "execution_count": 287,
   "metadata": {},
   "outputs": [
    {
     "data": {
      "text/plain": [
       "0.26"
      ]
     },
     "execution_count": 287,
     "metadata": {},
     "output_type": "execute_result"
    }
   ],
   "source": [
    "RMSE_WS=round(np.sqrt(mean_squared_error(y_tr, y_pred_ws_GBR)), 2)\n",
    "RMSE_WS"
   ]
  },
  {
   "cell_type": "code",
   "execution_count": 86,
   "metadata": {},
   "outputs": [],
   "source": [
    "params={'verbose': False}"
   ]
  },
  {
   "cell_type": "code",
   "execution_count": 293,
   "metadata": {},
   "outputs": [
    {
     "name": "stdout",
     "output_type": "stream",
     "text": [
      "CPU times: total: 35min 17s\n",
      "Wall time: 3min 28s\n"
     ]
    }
   ],
   "source": [
    "%%time\n",
    "y_pred_CV_CatBR = cross_val_predict(best_CatBR, x_tr, y_tr, cv=cv, fit_params=params)"
   ]
  },
  {
   "cell_type": "code",
   "execution_count": 296,
   "metadata": {},
   "outputs": [
    {
     "data": {
      "text/plain": [
       "0.58"
      ]
     },
     "execution_count": 296,
     "metadata": {},
     "output_type": "execute_result"
    }
   ],
   "source": [
    "Q2_CV = round(r2_score(y_tr, y_pred_CV_CatBR), 2)\n",
    "Q2_CV"
   ]
  },
  {
   "cell_type": "code",
   "execution_count": 297,
   "metadata": {},
   "outputs": [
    {
     "data": {
      "text/plain": [
       "0.58"
      ]
     },
     "execution_count": 297,
     "metadata": {},
     "output_type": "execute_result"
    }
   ],
   "source": [
    "RMSE_CV=round(np.sqrt(mean_squared_error(y_tr, y_pred_CV_CatBR)), 2)\n",
    "RMSE_CV"
   ]
  },
  {
   "cell_type": "code",
   "execution_count": null,
   "metadata": {},
   "outputs": [],
   "source": []
  },
  {
   "cell_type": "markdown",
   "metadata": {},
   "source": [
    "# save the model to disk"
   ]
  },
  {
   "cell_type": "code",
   "execution_count": 174,
   "metadata": {},
   "outputs": [],
   "source": [
    "pickle.dump(best_CatBR, open('Models/MACCS/Toxicity_CatBoost_MACCS.pkl', 'wb'))"
   ]
  },
  {
   "cell_type": "markdown",
   "metadata": {},
   "source": [
    "# load the model from disk"
   ]
  },
  {
   "cell_type": "code",
   "execution_count": 72,
   "metadata": {},
   "outputs": [],
   "source": [
    "best_CatBR = pickle.load(open('Models/MACCS/Toxicity_CatBoost_MACCS.pkl', 'rb'))"
   ]
  },
  {
   "cell_type": "markdown",
   "metadata": {},
   "source": [
    "# 9. Prediction for test set's molecules"
   ]
  },
  {
   "cell_type": "code",
   "execution_count": 75,
   "metadata": {},
   "outputs": [],
   "source": [
    "x_ts = np.array(x_ts, dtype=np.float32)\n",
    "y_ts = np.array(y_ts, dtype=np.float32)"
   ]
  },
  {
   "cell_type": "code",
   "execution_count": 77,
   "metadata": {},
   "outputs": [],
   "source": [
    "y_pred_GBR = best_CatBR.predict(x_ts)"
   ]
  },
  {
   "cell_type": "code",
   "execution_count": 79,
   "metadata": {},
   "outputs": [
    {
     "data": {
      "text/plain": [
       "0.61"
      ]
     },
     "execution_count": 79,
     "metadata": {},
     "output_type": "execute_result"
    }
   ],
   "source": [
    "Q2_TS = round(r2_score(y_ts, y_pred_GBR), 2)\n",
    "Q2_TS"
   ]
  },
  {
   "cell_type": "code",
   "execution_count": 81,
   "metadata": {},
   "outputs": [
    {
     "data": {
      "text/plain": [
       "0.56"
      ]
     },
     "execution_count": 81,
     "metadata": {},
     "output_type": "execute_result"
    }
   ],
   "source": [
    "RMSE_TS=round(np.sqrt(mean_squared_error(y_ts, y_pred_GBR)), 2)\n",
    "RMSE_TS"
   ]
  },
  {
   "cell_type": "markdown",
   "metadata": {},
   "source": [
    "# Calculate Feature Importance"
   ]
  },
  {
   "cell_type": "code",
   "execution_count": 95,
   "metadata": {},
   "outputs": [],
   "source": [
    "data = pd.DataFrame({'feature_importance': best_CatBR.get_feature_importance(), \n",
    "              'feature_names': df_RDKit_2D.columns}).sort_values(by=['feature_importance'], \n",
    "                                                       ascending=False)"
   ]
  },
  {
   "cell_type": "code",
   "execution_count": 97,
   "metadata": {
    "scrolled": true
   },
   "outputs": [
    {
     "data": {
      "text/plain": [
       "<Axes: ylabel='feature_names'>"
      ]
     },
     "execution_count": 97,
     "metadata": {},
     "output_type": "execute_result"
    },
    {
     "data": {
      "image/png": "[encoded data removed]",
      "text/plain": [
       "<Figure size 640x480 with 1 Axes>"
      ]
     },
     "metadata": {},
     "output_type": "display_data"
    }
   ],
   "source": [
    "data[:20].sort_values(by=['feature_importance'], ascending=True).plot.barh(x='feature_names', y='feature_importance')"
   ]
  },
  {
   "cell_type": "markdown",
   "metadata": {},
   "source": [
    "# Y-randomization GradientBoostingRegressor model"
   ]
  },
  {
   "cell_type": "code",
   "execution_count": 88,
   "metadata": {},
   "outputs": [
    {
     "name": "stdout",
     "output_type": "stream",
     "text": [
      "True score =  0.58 \n",
      "Y-randomization =  -0.17 \n",
      "p-value =  0.0196\n"
     ]
    }
   ],
   "source": [
    "permutations = 50\n",
    "score, permutation_scores, pvalue = permutation_test_score(best_CatBR, x_tr, y_tr,\n",
    "                                                           cv=cv, scoring='r2',\n",
    "                                                           n_permutations=permutations,\n",
    "                                                           n_jobs=-1,\n",
    "                                                           fit_params=params,\n",
    "                                                           random_state=42)\n",
    "print('True score = ', score.round(2),\n",
    "      '\\nY-randomization = ', np.mean(permutation_scores).round(2),\n",
    "      '\\np-value = ', pvalue.round(4))"
   ]
  },
  {
   "cell_type": "markdown",
   "metadata": {},
   "source": [
    "# 11. Estimating applicability domain. Method - Euclidian distances, K=1"
   ]
  },
  {
   "cell_type": "code",
   "execution_count": 304,
   "metadata": {},
   "outputs": [],
   "source": [
    "neighbors_k= pairwise_distances(x_tr, n_jobs=-1)\n",
    "neighbors_k.sort(0)"
   ]
  },
  {
   "cell_type": "code",
   "execution_count": 305,
   "metadata": {},
   "outputs": [
    {
     "data": {
      "text/html": [
       "<div>\n",
       "<style scoped>\n",
       "    .dataframe tbody tr th:only-of-type {\n",
       "        vertical-align: middle;\n",
       "    }\n",
       "\n",
       "    .dataframe tbody tr th {\n",
       "        vertical-align: top;\n",
       "    }\n",
       "\n",
       "    .dataframe thead th {\n",
       "        text-align: right;\n",
       "    }\n",
       "</style>\n",
       "<table border=\"1\" class=\"dataframe\">\n",
       "  <thead>\n",
       "    <tr style=\"text-align: right;\">\n",
       "      <th></th>\n",
       "      <th>0</th>\n",
       "      <th>1</th>\n",
       "      <th>2</th>\n",
       "      <th>3</th>\n",
       "      <th>4</th>\n",
       "      <th>5</th>\n",
       "      <th>6</th>\n",
       "      <th>7</th>\n",
       "      <th>8</th>\n",
       "      <th>9</th>\n",
       "      <th>...</th>\n",
       "      <th>7864</th>\n",
       "      <th>7865</th>\n",
       "      <th>7866</th>\n",
       "      <th>7867</th>\n",
       "      <th>7868</th>\n",
       "      <th>7869</th>\n",
       "      <th>7870</th>\n",
       "      <th>7871</th>\n",
       "      <th>7872</th>\n",
       "      <th>7873</th>\n",
       "    </tr>\n",
       "  </thead>\n",
       "  <tbody>\n",
       "    <tr>\n",
       "      <th>0</th>\n",
       "      <td>0.000000</td>\n",
       "      <td>0.000000</td>\n",
       "      <td>0.000000</td>\n",
       "      <td>0.000000</td>\n",
       "      <td>0.000000</td>\n",
       "      <td>0.000000</td>\n",
       "      <td>0.000000</td>\n",
       "      <td>0.000000</td>\n",
       "      <td>0.000000</td>\n",
       "      <td>0.000000</td>\n",
       "      <td>...</td>\n",
       "      <td>0.000000</td>\n",
       "      <td>0.000000</td>\n",
       "      <td>0.000000</td>\n",
       "      <td>0.000000</td>\n",
       "      <td>0.000000</td>\n",
       "      <td>0.000000</td>\n",
       "      <td>0.000000</td>\n",
       "      <td>0.000000</td>\n",
       "      <td>0.000000</td>\n",
       "      <td>0.000000</td>\n",
       "    </tr>\n",
       "    <tr>\n",
       "      <th>1</th>\n",
       "      <td>1.000000</td>\n",
       "      <td>4.358899</td>\n",
       "      <td>1.732051</td>\n",
       "      <td>2.236068</td>\n",
       "      <td>2.000000</td>\n",
       "      <td>2.645751</td>\n",
       "      <td>2.236068</td>\n",
       "      <td>2.645751</td>\n",
       "      <td>0.000000</td>\n",
       "      <td>0.000000</td>\n",
       "      <td>...</td>\n",
       "      <td>1.000000</td>\n",
       "      <td>2.000000</td>\n",
       "      <td>2.236068</td>\n",
       "      <td>3.162278</td>\n",
       "      <td>2.000000</td>\n",
       "      <td>1.414214</td>\n",
       "      <td>2.828427</td>\n",
       "      <td>2.449490</td>\n",
       "      <td>3.000000</td>\n",
       "      <td>2.236068</td>\n",
       "    </tr>\n",
       "    <tr>\n",
       "      <th>2</th>\n",
       "      <td>1.732051</td>\n",
       "      <td>4.690416</td>\n",
       "      <td>1.732051</td>\n",
       "      <td>2.236068</td>\n",
       "      <td>2.449490</td>\n",
       "      <td>3.162278</td>\n",
       "      <td>3.000000</td>\n",
       "      <td>2.828427</td>\n",
       "      <td>0.000000</td>\n",
       "      <td>0.000000</td>\n",
       "      <td>...</td>\n",
       "      <td>2.449490</td>\n",
       "      <td>2.645751</td>\n",
       "      <td>4.358899</td>\n",
       "      <td>3.162278</td>\n",
       "      <td>2.449490</td>\n",
       "      <td>1.414214</td>\n",
       "      <td>3.162278</td>\n",
       "      <td>2.449490</td>\n",
       "      <td>3.162278</td>\n",
       "      <td>2.449490</td>\n",
       "    </tr>\n",
       "    <tr>\n",
       "      <th>3</th>\n",
       "      <td>2.449490</td>\n",
       "      <td>4.690416</td>\n",
       "      <td>1.732051</td>\n",
       "      <td>2.449490</td>\n",
       "      <td>2.645751</td>\n",
       "      <td>3.162278</td>\n",
       "      <td>3.162278</td>\n",
       "      <td>3.000000</td>\n",
       "      <td>0.000000</td>\n",
       "      <td>0.000000</td>\n",
       "      <td>...</td>\n",
       "      <td>3.000000</td>\n",
       "      <td>2.645751</td>\n",
       "      <td>4.472136</td>\n",
       "      <td>3.464102</td>\n",
       "      <td>2.449490</td>\n",
       "      <td>3.000000</td>\n",
       "      <td>3.162278</td>\n",
       "      <td>3.162278</td>\n",
       "      <td>3.316625</td>\n",
       "      <td>2.449490</td>\n",
       "    </tr>\n",
       "    <tr>\n",
       "      <th>4</th>\n",
       "      <td>3.162278</td>\n",
       "      <td>4.795832</td>\n",
       "      <td>1.732051</td>\n",
       "      <td>2.449490</td>\n",
       "      <td>2.828427</td>\n",
       "      <td>3.162278</td>\n",
       "      <td>3.162278</td>\n",
       "      <td>3.000000</td>\n",
       "      <td>0.000000</td>\n",
       "      <td>0.000000</td>\n",
       "      <td>...</td>\n",
       "      <td>3.000000</td>\n",
       "      <td>2.645751</td>\n",
       "      <td>4.472136</td>\n",
       "      <td>3.464102</td>\n",
       "      <td>3.000000</td>\n",
       "      <td>3.162278</td>\n",
       "      <td>3.316625</td>\n",
       "      <td>3.464102</td>\n",
       "      <td>3.464102</td>\n",
       "      <td>2.449490</td>\n",
       "    </tr>\n",
       "    <tr>\n",
       "      <th>...</th>\n",
       "      <td>...</td>\n",
       "      <td>...</td>\n",
       "      <td>...</td>\n",
       "      <td>...</td>\n",
       "      <td>...</td>\n",
       "      <td>...</td>\n",
       "      <td>...</td>\n",
       "      <td>...</td>\n",
       "      <td>...</td>\n",
       "      <td>...</td>\n",
       "      <td>...</td>\n",
       "      <td>...</td>\n",
       "      <td>...</td>\n",
       "      <td>...</td>\n",
       "      <td>...</td>\n",
       "      <td>...</td>\n",
       "      <td>...</td>\n",
       "      <td>...</td>\n",
       "      <td>...</td>\n",
       "      <td>...</td>\n",
       "      <td>...</td>\n",
       "    </tr>\n",
       "    <tr>\n",
       "      <th>7869</th>\n",
       "      <td>8.366600</td>\n",
       "      <td>8.544003</td>\n",
       "      <td>9.327379</td>\n",
       "      <td>8.944272</td>\n",
       "      <td>9.219544</td>\n",
       "      <td>8.888194</td>\n",
       "      <td>8.944272</td>\n",
       "      <td>9.219544</td>\n",
       "      <td>9.110434</td>\n",
       "      <td>9.327379</td>\n",
       "      <td>...</td>\n",
       "      <td>8.774964</td>\n",
       "      <td>8.660254</td>\n",
       "      <td>8.544003</td>\n",
       "      <td>8.774964</td>\n",
       "      <td>9.000000</td>\n",
       "      <td>9.110434</td>\n",
       "      <td>8.717798</td>\n",
       "      <td>8.944272</td>\n",
       "      <td>8.485281</td>\n",
       "      <td>9.000000</td>\n",
       "    </tr>\n",
       "    <tr>\n",
       "      <th>7870</th>\n",
       "      <td>8.426149</td>\n",
       "      <td>8.602325</td>\n",
       "      <td>9.327379</td>\n",
       "      <td>8.944272</td>\n",
       "      <td>9.219544</td>\n",
       "      <td>8.944272</td>\n",
       "      <td>9.000000</td>\n",
       "      <td>9.273619</td>\n",
       "      <td>9.165152</td>\n",
       "      <td>9.539392</td>\n",
       "      <td>...</td>\n",
       "      <td>8.774964</td>\n",
       "      <td>8.660254</td>\n",
       "      <td>8.544003</td>\n",
       "      <td>8.774964</td>\n",
       "      <td>9.000000</td>\n",
       "      <td>9.110434</td>\n",
       "      <td>8.717798</td>\n",
       "      <td>9.000000</td>\n",
       "      <td>8.544003</td>\n",
       "      <td>9.055386</td>\n",
       "    </tr>\n",
       "    <tr>\n",
       "      <th>7871</th>\n",
       "      <td>8.485281</td>\n",
       "      <td>8.717798</td>\n",
       "      <td>9.380832</td>\n",
       "      <td>9.000000</td>\n",
       "      <td>9.219544</td>\n",
       "      <td>8.944272</td>\n",
       "      <td>9.000000</td>\n",
       "      <td>9.327379</td>\n",
       "      <td>9.273619</td>\n",
       "      <td>9.539392</td>\n",
       "      <td>...</td>\n",
       "      <td>8.831760</td>\n",
       "      <td>8.660254</td>\n",
       "      <td>8.602325</td>\n",
       "      <td>8.774964</td>\n",
       "      <td>9.000000</td>\n",
       "      <td>9.219544</td>\n",
       "      <td>8.831760</td>\n",
       "      <td>9.110434</td>\n",
       "      <td>8.544003</td>\n",
       "      <td>9.055386</td>\n",
       "    </tr>\n",
       "    <tr>\n",
       "      <th>7872</th>\n",
       "      <td>8.485281</td>\n",
       "      <td>8.717798</td>\n",
       "      <td>9.433981</td>\n",
       "      <td>9.000000</td>\n",
       "      <td>9.327379</td>\n",
       "      <td>9.055386</td>\n",
       "      <td>9.000000</td>\n",
       "      <td>9.380832</td>\n",
       "      <td>9.327379</td>\n",
       "      <td>9.539392</td>\n",
       "      <td>...</td>\n",
       "      <td>8.888194</td>\n",
       "      <td>8.717798</td>\n",
       "      <td>8.602325</td>\n",
       "      <td>8.774964</td>\n",
       "      <td>9.055386</td>\n",
       "      <td>9.273619</td>\n",
       "      <td>8.944272</td>\n",
       "      <td>9.219544</td>\n",
       "      <td>8.602325</td>\n",
       "      <td>9.110434</td>\n",
       "    </tr>\n",
       "    <tr>\n",
       "      <th>7873</th>\n",
       "      <td>8.544003</td>\n",
       "      <td>8.774964</td>\n",
       "      <td>9.433981</td>\n",
       "      <td>9.000000</td>\n",
       "      <td>9.433981</td>\n",
       "      <td>9.055386</td>\n",
       "      <td>9.055386</td>\n",
       "      <td>9.591663</td>\n",
       "      <td>9.380832</td>\n",
       "      <td>9.643651</td>\n",
       "      <td>...</td>\n",
       "      <td>8.944272</td>\n",
       "      <td>8.774964</td>\n",
       "      <td>8.602325</td>\n",
       "      <td>8.831760</td>\n",
       "      <td>9.055386</td>\n",
       "      <td>9.273619</td>\n",
       "      <td>8.944272</td>\n",
       "      <td>9.273619</td>\n",
       "      <td>8.774964</td>\n",
       "      <td>9.219544</td>\n",
       "    </tr>\n",
       "  </tbody>\n",
       "</table>\n",
       "<p>7874 rows × 7874 columns</p>\n",
       "</div>"
      ],
      "text/plain": [
       "          0         1         2         3         4         5         6     \\\n",
       "0     0.000000  0.000000  0.000000  0.000000  0.000000  0.000000  0.000000   \n",
       "1     1.000000  4.358899  1.732051  2.236068  2.000000  2.645751  2.236068   \n",
       "2     1.732051  4.690416  1.732051  2.236068  2.449490  3.162278  3.000000   \n",
       "3     2.449490  4.690416  1.732051  2.449490  2.645751  3.162278  3.162278   \n",
       "4     3.162278  4.795832  1.732051  2.449490  2.828427  3.162278  3.162278   \n",
       "...        ...       ...       ...       ...       ...       ...       ...   \n",
       "7869  8.366600  8.544003  9.327379  8.944272  9.219544  8.888194  8.944272   \n",
       "7870  8.426149  8.602325  9.327379  8.944272  9.219544  8.944272  9.000000   \n",
       "7871  8.485281  8.717798  9.380832  9.000000  9.219544  8.944272  9.000000   \n",
       "7872  8.485281  8.717798  9.433981  9.000000  9.327379  9.055386  9.000000   \n",
       "7873  8.544003  8.774964  9.433981  9.000000  9.433981  9.055386  9.055386   \n",
       "\n",
       "          7         8         9     ...      7864      7865      7866  \\\n",
       "0     0.000000  0.000000  0.000000  ...  0.000000  0.000000  0.000000   \n",
       "1     2.645751  0.000000  0.000000  ...  1.000000  2.000000  2.236068   \n",
       "2     2.828427  0.000000  0.000000  ...  2.449490  2.645751  4.358899   \n",
       "3     3.000000  0.000000  0.000000  ...  3.000000  2.645751  4.472136   \n",
       "4     3.000000  0.000000  0.000000  ...  3.000000  2.645751  4.472136   \n",
       "...        ...       ...       ...  ...       ...       ...       ...   \n",
       "7869  9.219544  9.110434  9.327379  ...  8.774964  8.660254  8.544003   \n",
       "7870  9.273619  9.165152  9.539392  ...  8.774964  8.660254  8.544003   \n",
       "7871  9.327379  9.273619  9.539392  ...  8.831760  8.660254  8.602325   \n",
       "7872  9.380832  9.327379  9.539392  ...  8.888194  8.717798  8.602325   \n",
       "7873  9.591663  9.380832  9.643651  ...  8.944272  8.774964  8.602325   \n",
       "\n",
       "          7867      7868      7869      7870      7871      7872      7873  \n",
       "0     0.000000  0.000000  0.000000  0.000000  0.000000  0.000000  0.000000  \n",
       "1     3.162278  2.000000  1.414214  2.828427  2.449490  3.000000  2.236068  \n",
       "2     3.162278  2.449490  1.414214  3.162278  2.449490  3.162278  2.449490  \n",
       "3     3.464102  2.449490  3.000000  3.162278  3.162278  3.316625  2.449490  \n",
       "4     3.464102  3.000000  3.162278  3.316625  3.464102  3.464102  2.449490  \n",
       "...        ...       ...       ...       ...       ...       ...       ...  \n",
       "7869  8.774964  9.000000  9.110434  8.717798  8.944272  8.485281  9.000000  \n",
       "7870  8.774964  9.000000  9.110434  8.717798  9.000000  8.544003  9.055386  \n",
       "7871  8.774964  9.000000  9.219544  8.831760  9.110434  8.544003  9.055386  \n",
       "7872  8.774964  9.055386  9.273619  8.944272  9.219544  8.602325  9.110434  \n",
       "7873  8.831760  9.055386  9.273619  8.944272  9.273619  8.774964  9.219544  \n",
       "\n",
       "[7874 rows x 7874 columns]"
      ]
     },
     "execution_count": 305,
     "metadata": {},
     "output_type": "execute_result"
    }
   ],
   "source": [
    "df_tr=pd.DataFrame(neighbors_k)\n",
    "df_tr"
   ]
  },
  {
   "cell_type": "code",
   "execution_count": 306,
   "metadata": {},
   "outputs": [],
   "source": [
    "similarity= neighbors_k"
   ]
  },
  {
   "cell_type": "code",
   "execution_count": 307,
   "metadata": {},
   "outputs": [],
   "source": [
    "Dmean=np.mean(similarity[1,:])"
   ]
  },
  {
   "cell_type": "code",
   "execution_count": 308,
   "metadata": {},
   "outputs": [
    {
     "data": {
      "text/plain": [
       "2.02"
      ]
     },
     "execution_count": 308,
     "metadata": {},
     "output_type": "execute_result"
    }
   ],
   "source": [
    "round(Dmean, 2)"
   ]
  },
  {
   "cell_type": "code",
   "execution_count": 309,
   "metadata": {},
   "outputs": [],
   "source": [
    "std=np.std(similarity[1,:])"
   ]
  },
  {
   "cell_type": "code",
   "execution_count": 310,
   "metadata": {},
   "outputs": [
    {
     "data": {
      "text/plain": [
       "1.11"
      ]
     },
     "execution_count": 310,
     "metadata": {},
     "output_type": "execute_result"
    }
   ],
   "source": [
    "round(std, 2)"
   ]
  },
  {
   "cell_type": "code",
   "execution_count": 311,
   "metadata": {},
   "outputs": [
    {
     "name": "stdout",
     "output_type": "stream",
     "text": [
      "2.58\n"
     ]
    }
   ],
   "source": [
    "model_AD_limit=Dmean+std*0.5\n",
    "print(np.round(model_AD_limit, 2))"
   ]
  },
  {
   "cell_type": "code",
   "execution_count": 312,
   "metadata": {},
   "outputs": [],
   "source": [
    "neighbors_k_ts= pairwise_distances(x_tr,Y=x_ts, n_jobs=-1)\n",
    "neighbors_k_ts.sort(0)"
   ]
  },
  {
   "cell_type": "code",
   "execution_count": 313,
   "metadata": {},
   "outputs": [
    {
     "data": {
      "text/html": [
       "<div>\n",
       "<style scoped>\n",
       "    .dataframe tbody tr th:only-of-type {\n",
       "        vertical-align: middle;\n",
       "    }\n",
       "\n",
       "    .dataframe tbody tr th {\n",
       "        vertical-align: top;\n",
       "    }\n",
       "\n",
       "    .dataframe thead th {\n",
       "        text-align: right;\n",
       "    }\n",
       "</style>\n",
       "<table border=\"1\" class=\"dataframe\">\n",
       "  <thead>\n",
       "    <tr style=\"text-align: right;\">\n",
       "      <th></th>\n",
       "      <th>0</th>\n",
       "      <th>1</th>\n",
       "      <th>2</th>\n",
       "      <th>3</th>\n",
       "      <th>4</th>\n",
       "      <th>5</th>\n",
       "      <th>6</th>\n",
       "      <th>7</th>\n",
       "      <th>8</th>\n",
       "      <th>9</th>\n",
       "      <th>...</th>\n",
       "      <th>1959</th>\n",
       "      <th>1960</th>\n",
       "      <th>1961</th>\n",
       "      <th>1962</th>\n",
       "      <th>1963</th>\n",
       "      <th>1964</th>\n",
       "      <th>1965</th>\n",
       "      <th>1966</th>\n",
       "      <th>1967</th>\n",
       "      <th>1968</th>\n",
       "    </tr>\n",
       "  </thead>\n",
       "  <tbody>\n",
       "    <tr>\n",
       "      <th>0</th>\n",
       "      <td>1.414214</td>\n",
       "      <td>2.236068</td>\n",
       "      <td>3.000000</td>\n",
       "      <td>0.000000</td>\n",
       "      <td>2.000000</td>\n",
       "      <td>0.000000</td>\n",
       "      <td>1.732051</td>\n",
       "      <td>1.414214</td>\n",
       "      <td>1.000000</td>\n",
       "      <td>1.414214</td>\n",
       "      <td>...</td>\n",
       "      <td>2.828427</td>\n",
       "      <td>3.605551</td>\n",
       "      <td>2.828427</td>\n",
       "      <td>0.000000</td>\n",
       "      <td>1.414214</td>\n",
       "      <td>3.162278</td>\n",
       "      <td>2.449490</td>\n",
       "      <td>0.000000</td>\n",
       "      <td>3.741657</td>\n",
       "      <td>0.000000</td>\n",
       "    </tr>\n",
       "    <tr>\n",
       "      <th>1</th>\n",
       "      <td>1.732051</td>\n",
       "      <td>2.449490</td>\n",
       "      <td>3.000000</td>\n",
       "      <td>0.000000</td>\n",
       "      <td>2.449490</td>\n",
       "      <td>1.000000</td>\n",
       "      <td>2.645751</td>\n",
       "      <td>1.732051</td>\n",
       "      <td>1.732051</td>\n",
       "      <td>1.732051</td>\n",
       "      <td>...</td>\n",
       "      <td>3.162278</td>\n",
       "      <td>4.000000</td>\n",
       "      <td>3.872983</td>\n",
       "      <td>0.000000</td>\n",
       "      <td>2.449490</td>\n",
       "      <td>3.162278</td>\n",
       "      <td>3.162278</td>\n",
       "      <td>0.000000</td>\n",
       "      <td>5.000000</td>\n",
       "      <td>0.000000</td>\n",
       "    </tr>\n",
       "    <tr>\n",
       "      <th>2</th>\n",
       "      <td>1.732051</td>\n",
       "      <td>2.828427</td>\n",
       "      <td>3.316625</td>\n",
       "      <td>0.000000</td>\n",
       "      <td>2.645751</td>\n",
       "      <td>1.414214</td>\n",
       "      <td>3.162278</td>\n",
       "      <td>2.449490</td>\n",
       "      <td>2.449490</td>\n",
       "      <td>1.732051</td>\n",
       "      <td>...</td>\n",
       "      <td>3.316625</td>\n",
       "      <td>4.358899</td>\n",
       "      <td>4.000000</td>\n",
       "      <td>1.414214</td>\n",
       "      <td>2.449490</td>\n",
       "      <td>3.741657</td>\n",
       "      <td>3.316625</td>\n",
       "      <td>1.414214</td>\n",
       "      <td>5.099020</td>\n",
       "      <td>1.414214</td>\n",
       "    </tr>\n",
       "    <tr>\n",
       "      <th>3</th>\n",
       "      <td>1.732051</td>\n",
       "      <td>3.000000</td>\n",
       "      <td>3.316625</td>\n",
       "      <td>0.000000</td>\n",
       "      <td>2.828427</td>\n",
       "      <td>1.414214</td>\n",
       "      <td>3.464102</td>\n",
       "      <td>2.645751</td>\n",
       "      <td>2.449490</td>\n",
       "      <td>1.732051</td>\n",
       "      <td>...</td>\n",
       "      <td>3.464102</td>\n",
       "      <td>4.358899</td>\n",
       "      <td>4.000000</td>\n",
       "      <td>2.828427</td>\n",
       "      <td>2.449490</td>\n",
       "      <td>3.741657</td>\n",
       "      <td>3.464102</td>\n",
       "      <td>2.828427</td>\n",
       "      <td>5.099020</td>\n",
       "      <td>2.828427</td>\n",
       "    </tr>\n",
       "    <tr>\n",
       "      <th>4</th>\n",
       "      <td>1.732051</td>\n",
       "      <td>3.000000</td>\n",
       "      <td>3.464102</td>\n",
       "      <td>0.000000</td>\n",
       "      <td>2.828427</td>\n",
       "      <td>1.414214</td>\n",
       "      <td>3.464102</td>\n",
       "      <td>2.828427</td>\n",
       "      <td>2.645751</td>\n",
       "      <td>2.000000</td>\n",
       "      <td>...</td>\n",
       "      <td>3.605551</td>\n",
       "      <td>4.358899</td>\n",
       "      <td>4.123106</td>\n",
       "      <td>3.316625</td>\n",
       "      <td>3.000000</td>\n",
       "      <td>4.358899</td>\n",
       "      <td>3.464102</td>\n",
       "      <td>3.316625</td>\n",
       "      <td>5.196152</td>\n",
       "      <td>3.316625</td>\n",
       "    </tr>\n",
       "    <tr>\n",
       "      <th>...</th>\n",
       "      <td>...</td>\n",
       "      <td>...</td>\n",
       "      <td>...</td>\n",
       "      <td>...</td>\n",
       "      <td>...</td>\n",
       "      <td>...</td>\n",
       "      <td>...</td>\n",
       "      <td>...</td>\n",
       "      <td>...</td>\n",
       "      <td>...</td>\n",
       "      <td>...</td>\n",
       "      <td>...</td>\n",
       "      <td>...</td>\n",
       "      <td>...</td>\n",
       "      <td>...</td>\n",
       "      <td>...</td>\n",
       "      <td>...</td>\n",
       "      <td>...</td>\n",
       "      <td>...</td>\n",
       "      <td>...</td>\n",
       "      <td>...</td>\n",
       "    </tr>\n",
       "    <tr>\n",
       "      <th>7869</th>\n",
       "      <td>9.165152</td>\n",
       "      <td>9.110434</td>\n",
       "      <td>8.660254</td>\n",
       "      <td>9.110434</td>\n",
       "      <td>9.327379</td>\n",
       "      <td>9.380832</td>\n",
       "      <td>9.000000</td>\n",
       "      <td>9.273619</td>\n",
       "      <td>9.165152</td>\n",
       "      <td>9.000000</td>\n",
       "      <td>...</td>\n",
       "      <td>8.485281</td>\n",
       "      <td>8.774964</td>\n",
       "      <td>8.602325</td>\n",
       "      <td>9.055386</td>\n",
       "      <td>9.000000</td>\n",
       "      <td>8.306623</td>\n",
       "      <td>8.888194</td>\n",
       "      <td>9.055386</td>\n",
       "      <td>8.366600</td>\n",
       "      <td>9.055386</td>\n",
       "    </tr>\n",
       "    <tr>\n",
       "      <th>7870</th>\n",
       "      <td>9.273619</td>\n",
       "      <td>9.165152</td>\n",
       "      <td>8.660254</td>\n",
       "      <td>9.165152</td>\n",
       "      <td>9.327379</td>\n",
       "      <td>9.380832</td>\n",
       "      <td>9.055386</td>\n",
       "      <td>9.273619</td>\n",
       "      <td>9.165152</td>\n",
       "      <td>9.000000</td>\n",
       "      <td>...</td>\n",
       "      <td>8.485281</td>\n",
       "      <td>8.831760</td>\n",
       "      <td>8.602325</td>\n",
       "      <td>9.110434</td>\n",
       "      <td>9.000000</td>\n",
       "      <td>8.426149</td>\n",
       "      <td>8.888194</td>\n",
       "      <td>9.110434</td>\n",
       "      <td>8.426149</td>\n",
       "      <td>9.110434</td>\n",
       "    </tr>\n",
       "    <tr>\n",
       "      <th>7871</th>\n",
       "      <td>9.380832</td>\n",
       "      <td>9.273619</td>\n",
       "      <td>8.717798</td>\n",
       "      <td>9.273619</td>\n",
       "      <td>9.327379</td>\n",
       "      <td>9.433981</td>\n",
       "      <td>9.055386</td>\n",
       "      <td>9.273619</td>\n",
       "      <td>9.165152</td>\n",
       "      <td>9.055386</td>\n",
       "      <td>...</td>\n",
       "      <td>8.485281</td>\n",
       "      <td>8.831760</td>\n",
       "      <td>8.602325</td>\n",
       "      <td>9.219544</td>\n",
       "      <td>9.055386</td>\n",
       "      <td>8.426149</td>\n",
       "      <td>8.944272</td>\n",
       "      <td>9.219544</td>\n",
       "      <td>8.426149</td>\n",
       "      <td>9.219544</td>\n",
       "    </tr>\n",
       "    <tr>\n",
       "      <th>7872</th>\n",
       "      <td>9.380832</td>\n",
       "      <td>9.327379</td>\n",
       "      <td>8.717798</td>\n",
       "      <td>9.327379</td>\n",
       "      <td>9.433981</td>\n",
       "      <td>9.486833</td>\n",
       "      <td>9.165152</td>\n",
       "      <td>9.273619</td>\n",
       "      <td>9.219544</td>\n",
       "      <td>9.165152</td>\n",
       "      <td>...</td>\n",
       "      <td>8.544003</td>\n",
       "      <td>8.944272</td>\n",
       "      <td>8.660254</td>\n",
       "      <td>9.273619</td>\n",
       "      <td>9.273619</td>\n",
       "      <td>8.426149</td>\n",
       "      <td>8.944272</td>\n",
       "      <td>9.273619</td>\n",
       "      <td>8.426149</td>\n",
       "      <td>9.273619</td>\n",
       "    </tr>\n",
       "    <tr>\n",
       "      <th>7873</th>\n",
       "      <td>9.380832</td>\n",
       "      <td>9.327379</td>\n",
       "      <td>8.831760</td>\n",
       "      <td>9.380832</td>\n",
       "      <td>9.433981</td>\n",
       "      <td>9.539392</td>\n",
       "      <td>9.219544</td>\n",
       "      <td>9.380832</td>\n",
       "      <td>9.273619</td>\n",
       "      <td>9.273619</td>\n",
       "      <td>...</td>\n",
       "      <td>8.544003</td>\n",
       "      <td>9.055386</td>\n",
       "      <td>8.717798</td>\n",
       "      <td>9.273619</td>\n",
       "      <td>9.273619</td>\n",
       "      <td>8.602325</td>\n",
       "      <td>8.944272</td>\n",
       "      <td>9.273619</td>\n",
       "      <td>8.485281</td>\n",
       "      <td>9.273619</td>\n",
       "    </tr>\n",
       "  </tbody>\n",
       "</table>\n",
       "<p>7874 rows × 1969 columns</p>\n",
       "</div>"
      ],
      "text/plain": [
       "          0         1         2         3         4         5         6     \\\n",
       "0     1.414214  2.236068  3.000000  0.000000  2.000000  0.000000  1.732051   \n",
       "1     1.732051  2.449490  3.000000  0.000000  2.449490  1.000000  2.645751   \n",
       "2     1.732051  2.828427  3.316625  0.000000  2.645751  1.414214  3.162278   \n",
       "3     1.732051  3.000000  3.316625  0.000000  2.828427  1.414214  3.464102   \n",
       "4     1.732051  3.000000  3.464102  0.000000  2.828427  1.414214  3.464102   \n",
       "...        ...       ...       ...       ...       ...       ...       ...   \n",
       "7869  9.165152  9.110434  8.660254  9.110434  9.327379  9.380832  9.000000   \n",
       "7870  9.273619  9.165152  8.660254  9.165152  9.327379  9.380832  9.055386   \n",
       "7871  9.380832  9.273619  8.717798  9.273619  9.327379  9.433981  9.055386   \n",
       "7872  9.380832  9.327379  8.717798  9.327379  9.433981  9.486833  9.165152   \n",
       "7873  9.380832  9.327379  8.831760  9.380832  9.433981  9.539392  9.219544   \n",
       "\n",
       "          7         8         9     ...      1959      1960      1961  \\\n",
       "0     1.414214  1.000000  1.414214  ...  2.828427  3.605551  2.828427   \n",
       "1     1.732051  1.732051  1.732051  ...  3.162278  4.000000  3.872983   \n",
       "2     2.449490  2.449490  1.732051  ...  3.316625  4.358899  4.000000   \n",
       "3     2.645751  2.449490  1.732051  ...  3.464102  4.358899  4.000000   \n",
       "4     2.828427  2.645751  2.000000  ...  3.605551  4.358899  4.123106   \n",
       "...        ...       ...       ...  ...       ...       ...       ...   \n",
       "7869  9.273619  9.165152  9.000000  ...  8.485281  8.774964  8.602325   \n",
       "7870  9.273619  9.165152  9.000000  ...  8.485281  8.831760  8.602325   \n",
       "7871  9.273619  9.165152  9.055386  ...  8.485281  8.831760  8.602325   \n",
       "7872  9.273619  9.219544  9.165152  ...  8.544003  8.944272  8.660254   \n",
       "7873  9.380832  9.273619  9.273619  ...  8.544003  9.055386  8.717798   \n",
       "\n",
       "          1962      1963      1964      1965      1966      1967      1968  \n",
       "0     0.000000  1.414214  3.162278  2.449490  0.000000  3.741657  0.000000  \n",
       "1     0.000000  2.449490  3.162278  3.162278  0.000000  5.000000  0.000000  \n",
       "2     1.414214  2.449490  3.741657  3.316625  1.414214  5.099020  1.414214  \n",
       "3     2.828427  2.449490  3.741657  3.464102  2.828427  5.099020  2.828427  \n",
       "4     3.316625  3.000000  4.358899  3.464102  3.316625  5.196152  3.316625  \n",
       "...        ...       ...       ...       ...       ...       ...       ...  \n",
       "7869  9.055386  9.000000  8.306623  8.888194  9.055386  8.366600  9.055386  \n",
       "7870  9.110434  9.000000  8.426149  8.888194  9.110434  8.426149  9.110434  \n",
       "7871  9.219544  9.055386  8.426149  8.944272  9.219544  8.426149  9.219544  \n",
       "7872  9.273619  9.273619  8.426149  8.944272  9.273619  8.426149  9.273619  \n",
       "7873  9.273619  9.273619  8.602325  8.944272  9.273619  8.485281  9.273619  \n",
       "\n",
       "[7874 rows x 1969 columns]"
      ]
     },
     "execution_count": 313,
     "metadata": {},
     "output_type": "execute_result"
    }
   ],
   "source": [
    "x_ts_AD=pd.DataFrame(neighbors_k_ts)\n",
    "x_ts_AD"
   ]
  },
  {
   "cell_type": "code",
   "execution_count": 314,
   "metadata": {},
   "outputs": [
    {
     "name": "stdout",
     "output_type": "stream",
     "text": [
      "[1.414 2.236 3.    ... 0.    3.742 0.   ]\n"
     ]
    }
   ],
   "source": [
    "similarity_ts= neighbors_k_ts\n",
    "cpd_AD=similarity_ts[0,:]\n",
    "cpd_value = np.round(cpd_AD, 3)\n",
    "print(cpd_value)"
   ]
  },
  {
   "cell_type": "code",
   "execution_count": 315,
   "metadata": {},
   "outputs": [
    {
     "name": "stdout",
     "output_type": "stream",
     "text": [
      "[ True  True False ...  True False  True]\n"
     ]
    }
   ],
   "source": [
    "cpd_AD = np.where(cpd_value <= model_AD_limit, True, False)\n",
    "print(cpd_AD)"
   ]
  },
  {
   "cell_type": "code",
   "execution_count": 316,
   "metadata": {},
   "outputs": [
    {
     "name": "stdout",
     "output_type": "stream",
     "text": [
      "Coverage =  0.67\n"
     ]
    }
   ],
   "source": [
    "print(\"Coverage = \", round(sum(cpd_AD) / len(cpd_AD), 2))"
   ]
  },
  {
   "cell_type": "code",
   "execution_count": 317,
   "metadata": {},
   "outputs": [
    {
     "name": "stdout",
     "output_type": "stream",
     "text": [
      "Indices of substances included in AD =  [   0    1    3 ... 1965 1966 1968]\n"
     ]
    }
   ],
   "source": [
    "print(\"Indices of substances included in AD = \", np.where(cpd_AD != 0)[0])"
   ]
  },
  {
   "cell_type": "code",
   "execution_count": 318,
   "metadata": {},
   "outputs": [],
   "source": [
    "out_Ad=list(np.where(cpd_AD == 0)[0])"
   ]
  },
  {
   "cell_type": "markdown",
   "metadata": {},
   "source": [
    "# Prediction only for molecules included in  AD"
   ]
  },
  {
   "cell_type": "code",
   "execution_count": 366,
   "metadata": {},
   "outputs": [],
   "source": [
    "y_pred_GBR_ad=list(y_pred_GBR)"
   ]
  },
  {
   "cell_type": "code",
   "execution_count": 368,
   "metadata": {},
   "outputs": [],
   "source": [
    "y_pred_GBR_ad[:] = [x for i,x in enumerate(y_pred_GBR_ad) if i not in out_Ad]"
   ]
  },
  {
   "cell_type": "code",
   "execution_count": 370,
   "metadata": {},
   "outputs": [
    {
     "data": {
      "text/plain": [
       "1327"
      ]
     },
     "execution_count": 370,
     "metadata": {},
     "output_type": "execute_result"
    }
   ],
   "source": [
    "len(y_pred_GBR_ad)"
   ]
  },
  {
   "cell_type": "code",
   "execution_count": 372,
   "metadata": {},
   "outputs": [],
   "source": [
    "y_ts_ad=list(y_ts)"
   ]
  },
  {
   "cell_type": "code",
   "execution_count": 374,
   "metadata": {},
   "outputs": [],
   "source": [
    "y_ts_ad[:] = [x for i,x in enumerate(y_ts_ad) if i not in out_Ad]"
   ]
  },
  {
   "cell_type": "code",
   "execution_count": 376,
   "metadata": {},
   "outputs": [
    {
     "data": {
      "text/plain": [
       "1327"
      ]
     },
     "execution_count": 376,
     "metadata": {},
     "output_type": "execute_result"
    }
   ],
   "source": [
    "len(y_ts_ad)"
   ]
  },
  {
   "cell_type": "code",
   "execution_count": 378,
   "metadata": {},
   "outputs": [
    {
     "data": {
      "text/plain": [
       "0.7"
      ]
     },
     "execution_count": 378,
     "metadata": {},
     "output_type": "execute_result"
    }
   ],
   "source": [
    "Q2_TS = round(r2_score(y_ts_ad, y_pred_GBR_ad), 2)\n",
    "Q2_TS"
   ]
  },
  {
   "cell_type": "code",
   "execution_count": 380,
   "metadata": {},
   "outputs": [
    {
     "data": {
      "text/plain": [
       "0.5"
      ]
     },
     "execution_count": 380,
     "metadata": {},
     "output_type": "execute_result"
    }
   ],
   "source": [
    "RMSE_TS=round(np.sqrt(mean_squared_error(y_ts_ad, y_pred_GBR_ad)), 2)\n",
    "RMSE_TS"
   ]
  },
  {
   "cell_type": "code",
   "execution_count": null,
   "metadata": {},
   "outputs": [],
   "source": []
  },
  {
   "cell_type": "markdown",
   "metadata": {},
   "source": [
    "# SVM model building and validation"
   ]
  },
  {
   "cell_type": "code",
   "execution_count": 92,
   "metadata": {},
   "outputs": [],
   "source": [
    "param_grid = {\"C\": [10 ** i for i in range(0, 5)],\n",
    "              \"gamma\": [10 ** i for i in range(-6, 0)]}"
   ]
  },
  {
   "cell_type": "code",
   "execution_count": 54,
   "metadata": {},
   "outputs": [],
   "source": [
    "seed = 42\n",
    "cv=KFold(n_splits=5, random_state=seed, shuffle=True)"
   ]
  },
  {
   "cell_type": "code",
   "execution_count": 94,
   "metadata": {},
   "outputs": [],
   "source": [
    "svm = GridSearchCV(SVR(C=1.0, epsilon=0.2), param_grid, n_jobs=-1, cv=cv, verbose=1)"
   ]
  },
  {
   "cell_type": "code",
   "execution_count": 95,
   "metadata": {},
   "outputs": [
    {
     "name": "stdout",
     "output_type": "stream",
     "text": [
      "Fitting 5 folds for each of 30 candidates, totalling 150 fits\n"
     ]
    },
    {
     "data": {
      "text/html": [
       "<style>#sk-container-id-2 {color: black;}#sk-container-id-2 pre{padding: 0;}#sk-container-id-2 div.sk-toggleable {background-color: white;}#sk-container-id-2 label.sk-toggleable__label {cursor: pointer;display: block;width: 100%;margin-bottom: 0;padding: 0.3em;box-sizing: border-box;text-align: center;}#sk-container-id-2 label.sk-toggleable__label-arrow:before {content: \"▸\";float: left;margin-right: 0.25em;color: #696969;}#sk-container-id-2 label.sk-toggleable__label-arrow:hover:before {color: black;}#sk-container-id-2 div.sk-estimator:hover label.sk-toggleable__label-arrow:before {color: black;}#sk-container-id-2 div.sk-toggleable__content {max-height: 0;max-width: 0;overflow: hidden;text-align: left;background-color: #f0f8ff;}#sk-container-id-2 div.sk-toggleable__content pre {margin: 0.2em;color: black;border-radius: 0.25em;background-color: #f0f8ff;}#sk-container-id-2 input.sk-toggleable__control:checked~div.sk-toggleable__content {max-height: 200px;max-width: 100%;overflow: auto;}#sk-container-id-2 input.sk-toggleable__control:checked~label.sk-toggleable__label-arrow:before {content: \"▾\";}#sk-container-id-2 div.sk-estimator input.sk-toggleable__control:checked~label.sk-toggleable__label {background-color: #d4ebff;}#sk-container-id-2 div.sk-label input.sk-toggleable__control:checked~label.sk-toggleable__label {background-color: #d4ebff;}#sk-container-id-2 input.sk-hidden--visually {border: 0;clip: rect(1px 1px 1px 1px);clip: rect(1px, 1px, 1px, 1px);height: 1px;margin: -1px;overflow: hidden;padding: 0;position: absolute;width: 1px;}#sk-container-id-2 div.sk-estimator {font-family: monospace;background-color: #f0f8ff;border: 1px dotted black;border-radius: 0.25em;box-sizing: border-box;margin-bottom: 0.5em;}#sk-container-id-2 div.sk-estimator:hover {background-color: #d4ebff;}#sk-container-id-2 div.sk-parallel-item::after {content: \"\";width: 100%;border-bottom: 1px solid gray;flex-grow: 1;}#sk-container-id-2 div.sk-label:hover label.sk-toggleable__label {background-color: #d4ebff;}#sk-container-id-2 div.sk-serial::before {content: \"\";position: absolute;border-left: 1px solid gray;box-sizing: border-box;top: 0;bottom: 0;left: 50%;z-index: 0;}#sk-container-id-2 div.sk-serial {display: flex;flex-direction: column;align-items: center;background-color: white;padding-right: 0.2em;padding-left: 0.2em;position: relative;}#sk-container-id-2 div.sk-item {position: relative;z-index: 1;}#sk-container-id-2 div.sk-parallel {display: flex;align-items: stretch;justify-content: center;background-color: white;position: relative;}#sk-container-id-2 div.sk-item::before, #sk-container-id-2 div.sk-parallel-item::before {content: \"\";position: absolute;border-left: 1px solid gray;box-sizing: border-box;top: 0;bottom: 0;left: 50%;z-index: -1;}#sk-container-id-2 div.sk-parallel-item {display: flex;flex-direction: column;z-index: 1;position: relative;background-color: white;}#sk-container-id-2 div.sk-parallel-item:first-child::after {align-self: flex-end;width: 50%;}#sk-container-id-2 div.sk-parallel-item:last-child::after {align-self: flex-start;width: 50%;}#sk-container-id-2 div.sk-parallel-item:only-child::after {width: 0;}#sk-container-id-2 div.sk-dashed-wrapped {border: 1px dashed gray;margin: 0 0.4em 0.5em 0.4em;box-sizing: border-box;padding-bottom: 0.4em;background-color: white;}#sk-container-id-2 div.sk-label label {font-family: monospace;font-weight: bold;display: inline-block;line-height: 1.2em;}#sk-container-id-2 div.sk-label-container {text-align: center;}#sk-container-id-2 div.sk-container {/* jupyter's `normalize.less` sets `[hidden] { display: none; }` but bootstrap.min.css set `[hidden] { display: none !important; }` so we also need the `!important` here to be able to override the default hidden behavior on the sphinx rendered scikit-learn.org. See: https://github.com/scikit-learn/scikit-learn/issues/21755 */display: inline-block !important;position: relative;}#sk-container-id-2 div.sk-text-repr-fallback {display: none;}</style><div id=\"sk-container-id-2\" class=\"sk-top-container\"><div class=\"sk-text-repr-fallback\"><pre>GridSearchCV(cv=KFold(n_splits=5, random_state=42, shuffle=True),\n",
       "             estimator=SVR(epsilon=0.2), n_jobs=-1,\n",
       "             param_grid={&#x27;C&#x27;: [1, 10, 100, 1000, 10000],\n",
       "                         &#x27;gamma&#x27;: [1e-06, 1e-05, 0.0001, 0.001, 0.01, 0.1]},\n",
       "             verbose=1)</pre><b>In a Jupyter environment, please rerun this cell to show the HTML representation or trust the notebook. <br />On GitHub, the HTML representation is unable to render, please try loading this page with nbviewer.org.</b></div><div class=\"sk-container\" hidden><div class=\"sk-item sk-dashed-wrapped\"><div class=\"sk-label-container\"><div class=\"sk-label sk-toggleable\"><input class=\"sk-toggleable__control sk-hidden--visually\" id=\"sk-estimator-id-4\" type=\"checkbox\" ><label for=\"sk-estimator-id-4\" class=\"sk-toggleable__label sk-toggleable__label-arrow\">GridSearchCV</label><div class=\"sk-toggleable__content\"><pre>GridSearchCV(cv=KFold(n_splits=5, random_state=42, shuffle=True),\n",
       "             estimator=SVR(epsilon=0.2), n_jobs=-1,\n",
       "             param_grid={&#x27;C&#x27;: [1, 10, 100, 1000, 10000],\n",
       "                         &#x27;gamma&#x27;: [1e-06, 1e-05, 0.0001, 0.001, 0.01, 0.1]},\n",
       "             verbose=1)</pre></div></div></div><div class=\"sk-parallel\"><div class=\"sk-parallel-item\"><div class=\"sk-item\"><div class=\"sk-label-container\"><div class=\"sk-label sk-toggleable\"><input class=\"sk-toggleable__control sk-hidden--visually\" id=\"sk-estimator-id-5\" type=\"checkbox\" ><label for=\"sk-estimator-id-5\" class=\"sk-toggleable__label sk-toggleable__label-arrow\">estimator: SVR</label><div class=\"sk-toggleable__content\"><pre>SVR(epsilon=0.2)</pre></div></div></div><div class=\"sk-serial\"><div class=\"sk-item\"><div class=\"sk-estimator sk-toggleable\"><input class=\"sk-toggleable__control sk-hidden--visually\" id=\"sk-estimator-id-6\" type=\"checkbox\" ><label for=\"sk-estimator-id-6\" class=\"sk-toggleable__label sk-toggleable__label-arrow\">SVR</label><div class=\"sk-toggleable__content\"><pre>SVR(epsilon=0.2)</pre></div></div></div></div></div></div></div></div></div></div>"
      ],
      "text/plain": [
       "GridSearchCV(cv=KFold(n_splits=5, random_state=42, shuffle=True),\n",
       "             estimator=SVR(epsilon=0.2), n_jobs=-1,\n",
       "             param_grid={'C': [1, 10, 100, 1000, 10000],\n",
       "                         'gamma': [1e-06, 1e-05, 0.0001, 0.001, 0.01, 0.1]},\n",
       "             verbose=1)"
      ]
     },
     "execution_count": 95,
     "metadata": {},
     "output_type": "execute_result"
    }
   ],
   "source": [
    "svm.fit(x_tr, y_tr)"
   ]
  },
  {
   "cell_type": "code",
   "execution_count": 96,
   "metadata": {},
   "outputs": [],
   "source": [
    "svm.best_params_\n",
    "best_svm = svm.best_estimator_"
   ]
  },
  {
   "cell_type": "code",
   "execution_count": 97,
   "metadata": {},
   "outputs": [
    {
     "data": {
      "text/plain": [
       "{'C': 1, 'gamma': 0.1}"
      ]
     },
     "execution_count": 97,
     "metadata": {},
     "output_type": "execute_result"
    }
   ],
   "source": [
    "svm.best_params_"
   ]
  },
  {
   "cell_type": "code",
   "execution_count": 98,
   "metadata": {},
   "outputs": [],
   "source": [
    "y_pred_ws_svm = best_svm.predict(x_tr)"
   ]
  },
  {
   "cell_type": "code",
   "execution_count": 99,
   "metadata": {},
   "outputs": [
    {
     "data": {
      "text/plain": [
       "0.83"
      ]
     },
     "execution_count": 99,
     "metadata": {},
     "output_type": "execute_result"
    }
   ],
   "source": [
    "R2_WS = round(r2_score(y_tr, y_pred_ws_svm), 2)\n",
    "R2_WS"
   ]
  },
  {
   "cell_type": "code",
   "execution_count": 100,
   "metadata": {},
   "outputs": [
    {
     "data": {
      "text/plain": [
       "0.37"
      ]
     },
     "execution_count": 100,
     "metadata": {},
     "output_type": "execute_result"
    }
   ],
   "source": [
    "RMSE_WS=round(np.sqrt(mean_squared_error(y_tr, y_pred_ws_svm)), 2)\n",
    "RMSE_WS"
   ]
  },
  {
   "cell_type": "code",
   "execution_count": 101,
   "metadata": {},
   "outputs": [],
   "source": [
    "y_pred_CV_svm = cross_val_predict(best_svm, x_tr, y_tr, cv=cv)"
   ]
  },
  {
   "cell_type": "code",
   "execution_count": 102,
   "metadata": {},
   "outputs": [
    {
     "data": {
      "text/plain": [
       "0.56"
      ]
     },
     "execution_count": 102,
     "metadata": {},
     "output_type": "execute_result"
    }
   ],
   "source": [
    "Q2_CV = round(r2_score(y_tr, y_pred_CV_svm), 2)\n",
    "Q2_CV"
   ]
  },
  {
   "cell_type": "code",
   "execution_count": 103,
   "metadata": {},
   "outputs": [
    {
     "data": {
      "text/plain": [
       "0.6"
      ]
     },
     "execution_count": 103,
     "metadata": {},
     "output_type": "execute_result"
    }
   ],
   "source": [
    "RMSE_CV=round(np.sqrt(mean_squared_error(y_tr, y_pred_CV_svm)), 2)\n",
    "RMSE_CV"
   ]
  },
  {
   "cell_type": "markdown",
   "metadata": {},
   "source": [
    "# Prediction for test set's molecules"
   ]
  },
  {
   "cell_type": "code",
   "execution_count": 58,
   "metadata": {},
   "outputs": [],
   "source": [
    "x_ts = np.array(x_ts, dtype=np.float32)\n",
    "y_ts = np.array(y_ts, dtype=np.float32)"
   ]
  },
  {
   "cell_type": "code",
   "execution_count": 60,
   "metadata": {},
   "outputs": [],
   "source": [
    "y_pred_svm = best_svm.predict(x_ts)"
   ]
  },
  {
   "cell_type": "code",
   "execution_count": 62,
   "metadata": {},
   "outputs": [
    {
     "data": {
      "text/plain": [
       "0.57"
      ]
     },
     "execution_count": 62,
     "metadata": {},
     "output_type": "execute_result"
    }
   ],
   "source": [
    "Q2_TS = round(r2_score(y_ts, y_pred_svm), 2)\n",
    "Q2_TS"
   ]
  },
  {
   "cell_type": "code",
   "execution_count": 64,
   "metadata": {},
   "outputs": [
    {
     "data": {
      "text/plain": [
       "0.58"
      ]
     },
     "execution_count": 64,
     "metadata": {},
     "output_type": "execute_result"
    }
   ],
   "source": [
    "RMSE_TS=round(np.sqrt(mean_squared_error(y_ts, y_pred_svm)), 2)\n",
    "RMSE_TS"
   ]
  },
  {
   "cell_type": "markdown",
   "metadata": {},
   "source": [
    "save the model to disk"
   ]
  },
  {
   "cell_type": "code",
   "execution_count": 108,
   "metadata": {},
   "outputs": [],
   "source": [
    "pickle.dump(best_svm, open('models/MACCS/Toxicity_SVM_MACCS.pkl', 'wb'))"
   ]
  },
  {
   "cell_type": "markdown",
   "metadata": {},
   "source": [
    "load the model from disk"
   ]
  },
  {
   "cell_type": "code",
   "execution_count": 56,
   "metadata": {},
   "outputs": [],
   "source": [
    "best_svm = pickle.load(open('models/MACCS/Toxicity_SVM_MACCS.pkl', 'rb'))"
   ]
  },
  {
   "cell_type": "markdown",
   "metadata": {},
   "source": [
    "# Estimating applicability domain. Method - Euclidian distances, K=1"
   ]
  },
  {
   "cell_type": "code",
   "execution_count": 109,
   "metadata": {},
   "outputs": [],
   "source": [
    "neighbors_k= pairwise_distances(x_tr, n_jobs=-1)\n",
    "neighbors_k.sort(0)"
   ]
  },
  {
   "cell_type": "code",
   "execution_count": 110,
   "metadata": {},
   "outputs": [
    {
     "data": {
      "text/html": [
       "<div>\n",
       "<style scoped>\n",
       "    .dataframe tbody tr th:only-of-type {\n",
       "        vertical-align: middle;\n",
       "    }\n",
       "\n",
       "    .dataframe tbody tr th {\n",
       "        vertical-align: top;\n",
       "    }\n",
       "\n",
       "    .dataframe thead th {\n",
       "        text-align: right;\n",
       "    }\n",
       "</style>\n",
       "<table border=\"1\" class=\"dataframe\">\n",
       "  <thead>\n",
       "    <tr style=\"text-align: right;\">\n",
       "      <th></th>\n",
       "      <th>0</th>\n",
       "      <th>1</th>\n",
       "      <th>2</th>\n",
       "      <th>3</th>\n",
       "      <th>4</th>\n",
       "      <th>5</th>\n",
       "      <th>6</th>\n",
       "      <th>7</th>\n",
       "      <th>8</th>\n",
       "      <th>9</th>\n",
       "      <th>...</th>\n",
       "      <th>7864</th>\n",
       "      <th>7865</th>\n",
       "      <th>7866</th>\n",
       "      <th>7867</th>\n",
       "      <th>7868</th>\n",
       "      <th>7869</th>\n",
       "      <th>7870</th>\n",
       "      <th>7871</th>\n",
       "      <th>7872</th>\n",
       "      <th>7873</th>\n",
       "    </tr>\n",
       "  </thead>\n",
       "  <tbody>\n",
       "    <tr>\n",
       "      <th>0</th>\n",
       "      <td>0.000000</td>\n",
       "      <td>0.000000</td>\n",
       "      <td>0.000000</td>\n",
       "      <td>0.000000</td>\n",
       "      <td>0.000000</td>\n",
       "      <td>0.000000</td>\n",
       "      <td>0.000000</td>\n",
       "      <td>0.000000</td>\n",
       "      <td>0.000000</td>\n",
       "      <td>0.000000</td>\n",
       "      <td>...</td>\n",
       "      <td>0.000000</td>\n",
       "      <td>0.000000</td>\n",
       "      <td>0.000000</td>\n",
       "      <td>0.000000</td>\n",
       "      <td>0.000000</td>\n",
       "      <td>0.000000</td>\n",
       "      <td>0.000000</td>\n",
       "      <td>0.000000</td>\n",
       "      <td>0.000000</td>\n",
       "      <td>0.000000</td>\n",
       "    </tr>\n",
       "    <tr>\n",
       "      <th>1</th>\n",
       "      <td>1.000000</td>\n",
       "      <td>4.358899</td>\n",
       "      <td>1.732051</td>\n",
       "      <td>2.236068</td>\n",
       "      <td>2.000000</td>\n",
       "      <td>2.645751</td>\n",
       "      <td>2.236068</td>\n",
       "      <td>2.645751</td>\n",
       "      <td>0.000000</td>\n",
       "      <td>0.000000</td>\n",
       "      <td>...</td>\n",
       "      <td>1.000000</td>\n",
       "      <td>2.000000</td>\n",
       "      <td>2.236068</td>\n",
       "      <td>3.162278</td>\n",
       "      <td>2.000000</td>\n",
       "      <td>1.414214</td>\n",
       "      <td>2.828427</td>\n",
       "      <td>2.449490</td>\n",
       "      <td>3.000000</td>\n",
       "      <td>2.236068</td>\n",
       "    </tr>\n",
       "    <tr>\n",
       "      <th>2</th>\n",
       "      <td>1.732051</td>\n",
       "      <td>4.690416</td>\n",
       "      <td>1.732051</td>\n",
       "      <td>2.236068</td>\n",
       "      <td>2.449490</td>\n",
       "      <td>3.162278</td>\n",
       "      <td>3.000000</td>\n",
       "      <td>2.828427</td>\n",
       "      <td>0.000000</td>\n",
       "      <td>0.000000</td>\n",
       "      <td>...</td>\n",
       "      <td>2.449490</td>\n",
       "      <td>2.645751</td>\n",
       "      <td>4.358899</td>\n",
       "      <td>3.162278</td>\n",
       "      <td>2.449490</td>\n",
       "      <td>1.414214</td>\n",
       "      <td>3.162278</td>\n",
       "      <td>2.449490</td>\n",
       "      <td>3.162278</td>\n",
       "      <td>2.449490</td>\n",
       "    </tr>\n",
       "    <tr>\n",
       "      <th>3</th>\n",
       "      <td>2.449490</td>\n",
       "      <td>4.690416</td>\n",
       "      <td>1.732051</td>\n",
       "      <td>2.449490</td>\n",
       "      <td>2.645751</td>\n",
       "      <td>3.162278</td>\n",
       "      <td>3.162278</td>\n",
       "      <td>3.000000</td>\n",
       "      <td>0.000000</td>\n",
       "      <td>0.000000</td>\n",
       "      <td>...</td>\n",
       "      <td>3.000000</td>\n",
       "      <td>2.645751</td>\n",
       "      <td>4.472136</td>\n",
       "      <td>3.464102</td>\n",
       "      <td>2.449490</td>\n",
       "      <td>3.000000</td>\n",
       "      <td>3.162278</td>\n",
       "      <td>3.162278</td>\n",
       "      <td>3.316625</td>\n",
       "      <td>2.449490</td>\n",
       "    </tr>\n",
       "    <tr>\n",
       "      <th>4</th>\n",
       "      <td>3.162278</td>\n",
       "      <td>4.795832</td>\n",
       "      <td>1.732051</td>\n",
       "      <td>2.449490</td>\n",
       "      <td>2.828427</td>\n",
       "      <td>3.162278</td>\n",
       "      <td>3.162278</td>\n",
       "      <td>3.000000</td>\n",
       "      <td>0.000000</td>\n",
       "      <td>0.000000</td>\n",
       "      <td>...</td>\n",
       "      <td>3.000000</td>\n",
       "      <td>2.645751</td>\n",
       "      <td>4.472136</td>\n",
       "      <td>3.464102</td>\n",
       "      <td>3.000000</td>\n",
       "      <td>3.162278</td>\n",
       "      <td>3.316625</td>\n",
       "      <td>3.464102</td>\n",
       "      <td>3.464102</td>\n",
       "      <td>2.449490</td>\n",
       "    </tr>\n",
       "    <tr>\n",
       "      <th>...</th>\n",
       "      <td>...</td>\n",
       "      <td>...</td>\n",
       "      <td>...</td>\n",
       "      <td>...</td>\n",
       "      <td>...</td>\n",
       "      <td>...</td>\n",
       "      <td>...</td>\n",
       "      <td>...</td>\n",
       "      <td>...</td>\n",
       "      <td>...</td>\n",
       "      <td>...</td>\n",
       "      <td>...</td>\n",
       "      <td>...</td>\n",
       "      <td>...</td>\n",
       "      <td>...</td>\n",
       "      <td>...</td>\n",
       "      <td>...</td>\n",
       "      <td>...</td>\n",
       "      <td>...</td>\n",
       "      <td>...</td>\n",
       "      <td>...</td>\n",
       "    </tr>\n",
       "    <tr>\n",
       "      <th>7869</th>\n",
       "      <td>8.366600</td>\n",
       "      <td>8.544003</td>\n",
       "      <td>9.327379</td>\n",
       "      <td>8.944272</td>\n",
       "      <td>9.219544</td>\n",
       "      <td>8.888194</td>\n",
       "      <td>8.944272</td>\n",
       "      <td>9.219544</td>\n",
       "      <td>9.110434</td>\n",
       "      <td>9.327379</td>\n",
       "      <td>...</td>\n",
       "      <td>8.774964</td>\n",
       "      <td>8.660254</td>\n",
       "      <td>8.544003</td>\n",
       "      <td>8.774964</td>\n",
       "      <td>9.000000</td>\n",
       "      <td>9.110434</td>\n",
       "      <td>8.717798</td>\n",
       "      <td>8.944272</td>\n",
       "      <td>8.485281</td>\n",
       "      <td>9.000000</td>\n",
       "    </tr>\n",
       "    <tr>\n",
       "      <th>7870</th>\n",
       "      <td>8.426149</td>\n",
       "      <td>8.602325</td>\n",
       "      <td>9.327379</td>\n",
       "      <td>8.944272</td>\n",
       "      <td>9.219544</td>\n",
       "      <td>8.944272</td>\n",
       "      <td>9.000000</td>\n",
       "      <td>9.273619</td>\n",
       "      <td>9.165152</td>\n",
       "      <td>9.539392</td>\n",
       "      <td>...</td>\n",
       "      <td>8.774964</td>\n",
       "      <td>8.660254</td>\n",
       "      <td>8.544003</td>\n",
       "      <td>8.774964</td>\n",
       "      <td>9.000000</td>\n",
       "      <td>9.110434</td>\n",
       "      <td>8.717798</td>\n",
       "      <td>9.000000</td>\n",
       "      <td>8.544003</td>\n",
       "      <td>9.055386</td>\n",
       "    </tr>\n",
       "    <tr>\n",
       "      <th>7871</th>\n",
       "      <td>8.485281</td>\n",
       "      <td>8.717798</td>\n",
       "      <td>9.380832</td>\n",
       "      <td>9.000000</td>\n",
       "      <td>9.219544</td>\n",
       "      <td>8.944272</td>\n",
       "      <td>9.000000</td>\n",
       "      <td>9.327379</td>\n",
       "      <td>9.273619</td>\n",
       "      <td>9.539392</td>\n",
       "      <td>...</td>\n",
       "      <td>8.831760</td>\n",
       "      <td>8.660254</td>\n",
       "      <td>8.602325</td>\n",
       "      <td>8.774964</td>\n",
       "      <td>9.000000</td>\n",
       "      <td>9.219544</td>\n",
       "      <td>8.831760</td>\n",
       "      <td>9.110434</td>\n",
       "      <td>8.544003</td>\n",
       "      <td>9.055386</td>\n",
       "    </tr>\n",
       "    <tr>\n",
       "      <th>7872</th>\n",
       "      <td>8.485281</td>\n",
       "      <td>8.717798</td>\n",
       "      <td>9.433981</td>\n",
       "      <td>9.000000</td>\n",
       "      <td>9.327379</td>\n",
       "      <td>9.055386</td>\n",
       "      <td>9.000000</td>\n",
       "      <td>9.380832</td>\n",
       "      <td>9.327379</td>\n",
       "      <td>9.539392</td>\n",
       "      <td>...</td>\n",
       "      <td>8.888194</td>\n",
       "      <td>8.717798</td>\n",
       "      <td>8.602325</td>\n",
       "      <td>8.774964</td>\n",
       "      <td>9.055386</td>\n",
       "      <td>9.273619</td>\n",
       "      <td>8.944272</td>\n",
       "      <td>9.219544</td>\n",
       "      <td>8.602325</td>\n",
       "      <td>9.110434</td>\n",
       "    </tr>\n",
       "    <tr>\n",
       "      <th>7873</th>\n",
       "      <td>8.544003</td>\n",
       "      <td>8.774964</td>\n",
       "      <td>9.433981</td>\n",
       "      <td>9.000000</td>\n",
       "      <td>9.433981</td>\n",
       "      <td>9.055386</td>\n",
       "      <td>9.055386</td>\n",
       "      <td>9.591663</td>\n",
       "      <td>9.380832</td>\n",
       "      <td>9.643651</td>\n",
       "      <td>...</td>\n",
       "      <td>8.944272</td>\n",
       "      <td>8.774964</td>\n",
       "      <td>8.602325</td>\n",
       "      <td>8.831760</td>\n",
       "      <td>9.055386</td>\n",
       "      <td>9.273619</td>\n",
       "      <td>8.944272</td>\n",
       "      <td>9.273619</td>\n",
       "      <td>8.774964</td>\n",
       "      <td>9.219544</td>\n",
       "    </tr>\n",
       "  </tbody>\n",
       "</table>\n",
       "<p>7874 rows × 7874 columns</p>\n",
       "</div>"
      ],
      "text/plain": [
       "          0         1         2         3         4         5         6     \\\n",
       "0     0.000000  0.000000  0.000000  0.000000  0.000000  0.000000  0.000000   \n",
       "1     1.000000  4.358899  1.732051  2.236068  2.000000  2.645751  2.236068   \n",
       "2     1.732051  4.690416  1.732051  2.236068  2.449490  3.162278  3.000000   \n",
       "3     2.449490  4.690416  1.732051  2.449490  2.645751  3.162278  3.162278   \n",
       "4     3.162278  4.795832  1.732051  2.449490  2.828427  3.162278  3.162278   \n",
       "...        ...       ...       ...       ...       ...       ...       ...   \n",
       "7869  8.366600  8.544003  9.327379  8.944272  9.219544  8.888194  8.944272   \n",
       "7870  8.426149  8.602325  9.327379  8.944272  9.219544  8.944272  9.000000   \n",
       "7871  8.485281  8.717798  9.380832  9.000000  9.219544  8.944272  9.000000   \n",
       "7872  8.485281  8.717798  9.433981  9.000000  9.327379  9.055386  9.000000   \n",
       "7873  8.544003  8.774964  9.433981  9.000000  9.433981  9.055386  9.055386   \n",
       "\n",
       "          7         8         9     ...      7864      7865      7866  \\\n",
       "0     0.000000  0.000000  0.000000  ...  0.000000  0.000000  0.000000   \n",
       "1     2.645751  0.000000  0.000000  ...  1.000000  2.000000  2.236068   \n",
       "2     2.828427  0.000000  0.000000  ...  2.449490  2.645751  4.358899   \n",
       "3     3.000000  0.000000  0.000000  ...  3.000000  2.645751  4.472136   \n",
       "4     3.000000  0.000000  0.000000  ...  3.000000  2.645751  4.472136   \n",
       "...        ...       ...       ...  ...       ...       ...       ...   \n",
       "7869  9.219544  9.110434  9.327379  ...  8.774964  8.660254  8.544003   \n",
       "7870  9.273619  9.165152  9.539392  ...  8.774964  8.660254  8.544003   \n",
       "7871  9.327379  9.273619  9.539392  ...  8.831760  8.660254  8.602325   \n",
       "7872  9.380832  9.327379  9.539392  ...  8.888194  8.717798  8.602325   \n",
       "7873  9.591663  9.380832  9.643651  ...  8.944272  8.774964  8.602325   \n",
       "\n",
       "          7867      7868      7869      7870      7871      7872      7873  \n",
       "0     0.000000  0.000000  0.000000  0.000000  0.000000  0.000000  0.000000  \n",
       "1     3.162278  2.000000  1.414214  2.828427  2.449490  3.000000  2.236068  \n",
       "2     3.162278  2.449490  1.414214  3.162278  2.449490  3.162278  2.449490  \n",
       "3     3.464102  2.449490  3.000000  3.162278  3.162278  3.316625  2.449490  \n",
       "4     3.464102  3.000000  3.162278  3.316625  3.464102  3.464102  2.449490  \n",
       "...        ...       ...       ...       ...       ...       ...       ...  \n",
       "7869  8.774964  9.000000  9.110434  8.717798  8.944272  8.485281  9.000000  \n",
       "7870  8.774964  9.000000  9.110434  8.717798  9.000000  8.544003  9.055386  \n",
       "7871  8.774964  9.000000  9.219544  8.831760  9.110434  8.544003  9.055386  \n",
       "7872  8.774964  9.055386  9.273619  8.944272  9.219544  8.602325  9.110434  \n",
       "7873  8.831760  9.055386  9.273619  8.944272  9.273619  8.774964  9.219544  \n",
       "\n",
       "[7874 rows x 7874 columns]"
      ]
     },
     "execution_count": 110,
     "metadata": {},
     "output_type": "execute_result"
    }
   ],
   "source": [
    "df_tr=pd.DataFrame(neighbors_k)\n",
    "df_tr"
   ]
  },
  {
   "cell_type": "code",
   "execution_count": 111,
   "metadata": {},
   "outputs": [],
   "source": [
    "similarity= neighbors_k"
   ]
  },
  {
   "cell_type": "code",
   "execution_count": 112,
   "metadata": {},
   "outputs": [],
   "source": [
    "Dmean=np.mean(similarity[1,:])"
   ]
  },
  {
   "cell_type": "code",
   "execution_count": 113,
   "metadata": {},
   "outputs": [
    {
     "data": {
      "text/plain": [
       "2.02"
      ]
     },
     "execution_count": 113,
     "metadata": {},
     "output_type": "execute_result"
    }
   ],
   "source": [
    "round(Dmean, 2)"
   ]
  },
  {
   "cell_type": "code",
   "execution_count": 114,
   "metadata": {},
   "outputs": [],
   "source": [
    "std=np.std(similarity[1,:])"
   ]
  },
  {
   "cell_type": "code",
   "execution_count": 115,
   "metadata": {},
   "outputs": [
    {
     "data": {
      "text/plain": [
       "1.11"
      ]
     },
     "execution_count": 115,
     "metadata": {},
     "output_type": "execute_result"
    }
   ],
   "source": [
    "round(std, 2)"
   ]
  },
  {
   "cell_type": "code",
   "execution_count": 116,
   "metadata": {},
   "outputs": [
    {
     "name": "stdout",
     "output_type": "stream",
     "text": [
      "2.58\n"
     ]
    }
   ],
   "source": [
    "model_AD_limit=Dmean+std*0.5\n",
    "print(np.round(model_AD_limit, 2))"
   ]
  },
  {
   "cell_type": "code",
   "execution_count": 117,
   "metadata": {},
   "outputs": [],
   "source": [
    "neighbors_k_ts= pairwise_distances(x_tr,Y=x_ts, n_jobs=-1)\n",
    "neighbors_k_ts.sort(0)"
   ]
  },
  {
   "cell_type": "code",
   "execution_count": 118,
   "metadata": {},
   "outputs": [
    {
     "data": {
      "text/html": [
       "<div>\n",
       "<style scoped>\n",
       "    .dataframe tbody tr th:only-of-type {\n",
       "        vertical-align: middle;\n",
       "    }\n",
       "\n",
       "    .dataframe tbody tr th {\n",
       "        vertical-align: top;\n",
       "    }\n",
       "\n",
       "    .dataframe thead th {\n",
       "        text-align: right;\n",
       "    }\n",
       "</style>\n",
       "<table border=\"1\" class=\"dataframe\">\n",
       "  <thead>\n",
       "    <tr style=\"text-align: right;\">\n",
       "      <th></th>\n",
       "      <th>0</th>\n",
       "      <th>1</th>\n",
       "      <th>2</th>\n",
       "      <th>3</th>\n",
       "      <th>4</th>\n",
       "      <th>5</th>\n",
       "      <th>6</th>\n",
       "      <th>7</th>\n",
       "      <th>8</th>\n",
       "      <th>9</th>\n",
       "      <th>...</th>\n",
       "      <th>1959</th>\n",
       "      <th>1960</th>\n",
       "      <th>1961</th>\n",
       "      <th>1962</th>\n",
       "      <th>1963</th>\n",
       "      <th>1964</th>\n",
       "      <th>1965</th>\n",
       "      <th>1966</th>\n",
       "      <th>1967</th>\n",
       "      <th>1968</th>\n",
       "    </tr>\n",
       "  </thead>\n",
       "  <tbody>\n",
       "    <tr>\n",
       "      <th>0</th>\n",
       "      <td>1.414214</td>\n",
       "      <td>2.236068</td>\n",
       "      <td>3.000000</td>\n",
       "      <td>0.000000</td>\n",
       "      <td>2.000000</td>\n",
       "      <td>0.000000</td>\n",
       "      <td>1.732051</td>\n",
       "      <td>1.414214</td>\n",
       "      <td>1.000000</td>\n",
       "      <td>1.414214</td>\n",
       "      <td>...</td>\n",
       "      <td>2.828427</td>\n",
       "      <td>3.605551</td>\n",
       "      <td>2.828427</td>\n",
       "      <td>0.000000</td>\n",
       "      <td>1.414214</td>\n",
       "      <td>3.162278</td>\n",
       "      <td>2.449490</td>\n",
       "      <td>0.000000</td>\n",
       "      <td>3.741657</td>\n",
       "      <td>0.000000</td>\n",
       "    </tr>\n",
       "    <tr>\n",
       "      <th>1</th>\n",
       "      <td>1.732051</td>\n",
       "      <td>2.449490</td>\n",
       "      <td>3.000000</td>\n",
       "      <td>0.000000</td>\n",
       "      <td>2.449490</td>\n",
       "      <td>1.000000</td>\n",
       "      <td>2.645751</td>\n",
       "      <td>1.732051</td>\n",
       "      <td>1.732051</td>\n",
       "      <td>1.732051</td>\n",
       "      <td>...</td>\n",
       "      <td>3.162278</td>\n",
       "      <td>4.000000</td>\n",
       "      <td>3.872983</td>\n",
       "      <td>0.000000</td>\n",
       "      <td>2.449490</td>\n",
       "      <td>3.162278</td>\n",
       "      <td>3.162278</td>\n",
       "      <td>0.000000</td>\n",
       "      <td>5.000000</td>\n",
       "      <td>0.000000</td>\n",
       "    </tr>\n",
       "    <tr>\n",
       "      <th>2</th>\n",
       "      <td>1.732051</td>\n",
       "      <td>2.828427</td>\n",
       "      <td>3.316625</td>\n",
       "      <td>0.000000</td>\n",
       "      <td>2.645751</td>\n",
       "      <td>1.414214</td>\n",
       "      <td>3.162278</td>\n",
       "      <td>2.449490</td>\n",
       "      <td>2.449490</td>\n",
       "      <td>1.732051</td>\n",
       "      <td>...</td>\n",
       "      <td>3.316625</td>\n",
       "      <td>4.358899</td>\n",
       "      <td>4.000000</td>\n",
       "      <td>1.414214</td>\n",
       "      <td>2.449490</td>\n",
       "      <td>3.741657</td>\n",
       "      <td>3.316625</td>\n",
       "      <td>1.414214</td>\n",
       "      <td>5.099020</td>\n",
       "      <td>1.414214</td>\n",
       "    </tr>\n",
       "    <tr>\n",
       "      <th>3</th>\n",
       "      <td>1.732051</td>\n",
       "      <td>3.000000</td>\n",
       "      <td>3.316625</td>\n",
       "      <td>0.000000</td>\n",
       "      <td>2.828427</td>\n",
       "      <td>1.414214</td>\n",
       "      <td>3.464102</td>\n",
       "      <td>2.645751</td>\n",
       "      <td>2.449490</td>\n",
       "      <td>1.732051</td>\n",
       "      <td>...</td>\n",
       "      <td>3.464102</td>\n",
       "      <td>4.358899</td>\n",
       "      <td>4.000000</td>\n",
       "      <td>2.828427</td>\n",
       "      <td>2.449490</td>\n",
       "      <td>3.741657</td>\n",
       "      <td>3.464102</td>\n",
       "      <td>2.828427</td>\n",
       "      <td>5.099020</td>\n",
       "      <td>2.828427</td>\n",
       "    </tr>\n",
       "    <tr>\n",
       "      <th>4</th>\n",
       "      <td>1.732051</td>\n",
       "      <td>3.000000</td>\n",
       "      <td>3.464102</td>\n",
       "      <td>0.000000</td>\n",
       "      <td>2.828427</td>\n",
       "      <td>1.414214</td>\n",
       "      <td>3.464102</td>\n",
       "      <td>2.828427</td>\n",
       "      <td>2.645751</td>\n",
       "      <td>2.000000</td>\n",
       "      <td>...</td>\n",
       "      <td>3.605551</td>\n",
       "      <td>4.358899</td>\n",
       "      <td>4.123106</td>\n",
       "      <td>3.316625</td>\n",
       "      <td>3.000000</td>\n",
       "      <td>4.358899</td>\n",
       "      <td>3.464102</td>\n",
       "      <td>3.316625</td>\n",
       "      <td>5.196152</td>\n",
       "      <td>3.316625</td>\n",
       "    </tr>\n",
       "    <tr>\n",
       "      <th>...</th>\n",
       "      <td>...</td>\n",
       "      <td>...</td>\n",
       "      <td>...</td>\n",
       "      <td>...</td>\n",
       "      <td>...</td>\n",
       "      <td>...</td>\n",
       "      <td>...</td>\n",
       "      <td>...</td>\n",
       "      <td>...</td>\n",
       "      <td>...</td>\n",
       "      <td>...</td>\n",
       "      <td>...</td>\n",
       "      <td>...</td>\n",
       "      <td>...</td>\n",
       "      <td>...</td>\n",
       "      <td>...</td>\n",
       "      <td>...</td>\n",
       "      <td>...</td>\n",
       "      <td>...</td>\n",
       "      <td>...</td>\n",
       "      <td>...</td>\n",
       "    </tr>\n",
       "    <tr>\n",
       "      <th>7869</th>\n",
       "      <td>9.165152</td>\n",
       "      <td>9.110434</td>\n",
       "      <td>8.660254</td>\n",
       "      <td>9.110434</td>\n",
       "      <td>9.327379</td>\n",
       "      <td>9.380832</td>\n",
       "      <td>9.000000</td>\n",
       "      <td>9.273619</td>\n",
       "      <td>9.165152</td>\n",
       "      <td>9.000000</td>\n",
       "      <td>...</td>\n",
       "      <td>8.485281</td>\n",
       "      <td>8.774964</td>\n",
       "      <td>8.602325</td>\n",
       "      <td>9.055386</td>\n",
       "      <td>9.000000</td>\n",
       "      <td>8.306623</td>\n",
       "      <td>8.888194</td>\n",
       "      <td>9.055386</td>\n",
       "      <td>8.366600</td>\n",
       "      <td>9.055386</td>\n",
       "    </tr>\n",
       "    <tr>\n",
       "      <th>7870</th>\n",
       "      <td>9.273619</td>\n",
       "      <td>9.165152</td>\n",
       "      <td>8.660254</td>\n",
       "      <td>9.165152</td>\n",
       "      <td>9.327379</td>\n",
       "      <td>9.380832</td>\n",
       "      <td>9.055386</td>\n",
       "      <td>9.273619</td>\n",
       "      <td>9.165152</td>\n",
       "      <td>9.000000</td>\n",
       "      <td>...</td>\n",
       "      <td>8.485281</td>\n",
       "      <td>8.831760</td>\n",
       "      <td>8.602325</td>\n",
       "      <td>9.110434</td>\n",
       "      <td>9.000000</td>\n",
       "      <td>8.426149</td>\n",
       "      <td>8.888194</td>\n",
       "      <td>9.110434</td>\n",
       "      <td>8.426149</td>\n",
       "      <td>9.110434</td>\n",
       "    </tr>\n",
       "    <tr>\n",
       "      <th>7871</th>\n",
       "      <td>9.380832</td>\n",
       "      <td>9.273619</td>\n",
       "      <td>8.717798</td>\n",
       "      <td>9.273619</td>\n",
       "      <td>9.327379</td>\n",
       "      <td>9.433981</td>\n",
       "      <td>9.055386</td>\n",
       "      <td>9.273619</td>\n",
       "      <td>9.165152</td>\n",
       "      <td>9.055386</td>\n",
       "      <td>...</td>\n",
       "      <td>8.485281</td>\n",
       "      <td>8.831760</td>\n",
       "      <td>8.602325</td>\n",
       "      <td>9.219544</td>\n",
       "      <td>9.055386</td>\n",
       "      <td>8.426149</td>\n",
       "      <td>8.944272</td>\n",
       "      <td>9.219544</td>\n",
       "      <td>8.426149</td>\n",
       "      <td>9.219544</td>\n",
       "    </tr>\n",
       "    <tr>\n",
       "      <th>7872</th>\n",
       "      <td>9.380832</td>\n",
       "      <td>9.327379</td>\n",
       "      <td>8.717798</td>\n",
       "      <td>9.327379</td>\n",
       "      <td>9.433981</td>\n",
       "      <td>9.486833</td>\n",
       "      <td>9.165152</td>\n",
       "      <td>9.273619</td>\n",
       "      <td>9.219544</td>\n",
       "      <td>9.165152</td>\n",
       "      <td>...</td>\n",
       "      <td>8.544003</td>\n",
       "      <td>8.944272</td>\n",
       "      <td>8.660254</td>\n",
       "      <td>9.273619</td>\n",
       "      <td>9.273619</td>\n",
       "      <td>8.426149</td>\n",
       "      <td>8.944272</td>\n",
       "      <td>9.273619</td>\n",
       "      <td>8.426149</td>\n",
       "      <td>9.273619</td>\n",
       "    </tr>\n",
       "    <tr>\n",
       "      <th>7873</th>\n",
       "      <td>9.380832</td>\n",
       "      <td>9.327379</td>\n",
       "      <td>8.831760</td>\n",
       "      <td>9.380832</td>\n",
       "      <td>9.433981</td>\n",
       "      <td>9.539392</td>\n",
       "      <td>9.219544</td>\n",
       "      <td>9.380832</td>\n",
       "      <td>9.273619</td>\n",
       "      <td>9.273619</td>\n",
       "      <td>...</td>\n",
       "      <td>8.544003</td>\n",
       "      <td>9.055386</td>\n",
       "      <td>8.717798</td>\n",
       "      <td>9.273619</td>\n",
       "      <td>9.273619</td>\n",
       "      <td>8.602325</td>\n",
       "      <td>8.944272</td>\n",
       "      <td>9.273619</td>\n",
       "      <td>8.485281</td>\n",
       "      <td>9.273619</td>\n",
       "    </tr>\n",
       "  </tbody>\n",
       "</table>\n",
       "<p>7874 rows × 1969 columns</p>\n",
       "</div>"
      ],
      "text/plain": [
       "          0         1         2         3         4         5         6     \\\n",
       "0     1.414214  2.236068  3.000000  0.000000  2.000000  0.000000  1.732051   \n",
       "1     1.732051  2.449490  3.000000  0.000000  2.449490  1.000000  2.645751   \n",
       "2     1.732051  2.828427  3.316625  0.000000  2.645751  1.414214  3.162278   \n",
       "3     1.732051  3.000000  3.316625  0.000000  2.828427  1.414214  3.464102   \n",
       "4     1.732051  3.000000  3.464102  0.000000  2.828427  1.414214  3.464102   \n",
       "...        ...       ...       ...       ...       ...       ...       ...   \n",
       "7869  9.165152  9.110434  8.660254  9.110434  9.327379  9.380832  9.000000   \n",
       "7870  9.273619  9.165152  8.660254  9.165152  9.327379  9.380832  9.055386   \n",
       "7871  9.380832  9.273619  8.717798  9.273619  9.327379  9.433981  9.055386   \n",
       "7872  9.380832  9.327379  8.717798  9.327379  9.433981  9.486833  9.165152   \n",
       "7873  9.380832  9.327379  8.831760  9.380832  9.433981  9.539392  9.219544   \n",
       "\n",
       "          7         8         9     ...      1959      1960      1961  \\\n",
       "0     1.414214  1.000000  1.414214  ...  2.828427  3.605551  2.828427   \n",
       "1     1.732051  1.732051  1.732051  ...  3.162278  4.000000  3.872983   \n",
       "2     2.449490  2.449490  1.732051  ...  3.316625  4.358899  4.000000   \n",
       "3     2.645751  2.449490  1.732051  ...  3.464102  4.358899  4.000000   \n",
       "4     2.828427  2.645751  2.000000  ...  3.605551  4.358899  4.123106   \n",
       "...        ...       ...       ...  ...       ...       ...       ...   \n",
       "7869  9.273619  9.165152  9.000000  ...  8.485281  8.774964  8.602325   \n",
       "7870  9.273619  9.165152  9.000000  ...  8.485281  8.831760  8.602325   \n",
       "7871  9.273619  9.165152  9.055386  ...  8.485281  8.831760  8.602325   \n",
       "7872  9.273619  9.219544  9.165152  ...  8.544003  8.944272  8.660254   \n",
       "7873  9.380832  9.273619  9.273619  ...  8.544003  9.055386  8.717798   \n",
       "\n",
       "          1962      1963      1964      1965      1966      1967      1968  \n",
       "0     0.000000  1.414214  3.162278  2.449490  0.000000  3.741657  0.000000  \n",
       "1     0.000000  2.449490  3.162278  3.162278  0.000000  5.000000  0.000000  \n",
       "2     1.414214  2.449490  3.741657  3.316625  1.414214  5.099020  1.414214  \n",
       "3     2.828427  2.449490  3.741657  3.464102  2.828427  5.099020  2.828427  \n",
       "4     3.316625  3.000000  4.358899  3.464102  3.316625  5.196152  3.316625  \n",
       "...        ...       ...       ...       ...       ...       ...       ...  \n",
       "7869  9.055386  9.000000  8.306623  8.888194  9.055386  8.366600  9.055386  \n",
       "7870  9.110434  9.000000  8.426149  8.888194  9.110434  8.426149  9.110434  \n",
       "7871  9.219544  9.055386  8.426149  8.944272  9.219544  8.426149  9.219544  \n",
       "7872  9.273619  9.273619  8.426149  8.944272  9.273619  8.426149  9.273619  \n",
       "7873  9.273619  9.273619  8.602325  8.944272  9.273619  8.485281  9.273619  \n",
       "\n",
       "[7874 rows x 1969 columns]"
      ]
     },
     "execution_count": 118,
     "metadata": {},
     "output_type": "execute_result"
    }
   ],
   "source": [
    "x_ts_AD=pd.DataFrame(neighbors_k_ts)\n",
    "x_ts_AD"
   ]
  },
  {
   "cell_type": "code",
   "execution_count": 119,
   "metadata": {},
   "outputs": [
    {
     "name": "stdout",
     "output_type": "stream",
     "text": [
      "[1.414 2.236 3.    ... 0.    3.742 0.   ]\n"
     ]
    }
   ],
   "source": [
    "similarity_ts= neighbors_k_ts\n",
    "cpd_AD=similarity_ts[0,:]\n",
    "cpd_value = np.round(cpd_AD, 3)\n",
    "print(cpd_value)"
   ]
  },
  {
   "cell_type": "code",
   "execution_count": 120,
   "metadata": {},
   "outputs": [
    {
     "name": "stdout",
     "output_type": "stream",
     "text": [
      "[ True  True False ...  True False  True]\n"
     ]
    }
   ],
   "source": [
    "cpd_AD = np.where(cpd_value <= model_AD_limit, True, False)\n",
    "print(cpd_AD)"
   ]
  },
  {
   "cell_type": "code",
   "execution_count": 121,
   "metadata": {},
   "outputs": [
    {
     "name": "stdout",
     "output_type": "stream",
     "text": [
      "Coverage =  0.67\n"
     ]
    }
   ],
   "source": [
    "print(\"Coverage = \", round(sum(cpd_AD) / len(cpd_AD), 2))"
   ]
  },
  {
   "cell_type": "code",
   "execution_count": 122,
   "metadata": {},
   "outputs": [
    {
     "name": "stdout",
     "output_type": "stream",
     "text": [
      "Indices of substances included in AD =  [   0    1    3 ... 1965 1966 1968]\n"
     ]
    }
   ],
   "source": [
    "print(\"Indices of substances included in AD = \", np.where(cpd_AD != 0)[0])"
   ]
  },
  {
   "cell_type": "code",
   "execution_count": 123,
   "metadata": {},
   "outputs": [],
   "source": [
    "out_Ad=list(np.where(cpd_AD == 0)[0])"
   ]
  },
  {
   "cell_type": "markdown",
   "metadata": {},
   "source": [
    "# Prediction only for molecules included in  AD"
   ]
  },
  {
   "cell_type": "code",
   "execution_count": 124,
   "metadata": {},
   "outputs": [],
   "source": [
    "y_pred_svm_ad=list(y_pred_svm)"
   ]
  },
  {
   "cell_type": "code",
   "execution_count": 125,
   "metadata": {},
   "outputs": [],
   "source": [
    "y_pred_svm_ad[:] = [x for i,x in enumerate(y_pred_svm_ad) if i not in out_Ad]"
   ]
  },
  {
   "cell_type": "code",
   "execution_count": 126,
   "metadata": {},
   "outputs": [
    {
     "data": {
      "text/plain": [
       "1327"
      ]
     },
     "execution_count": 126,
     "metadata": {},
     "output_type": "execute_result"
    }
   ],
   "source": [
    "len(y_pred_svm_ad)"
   ]
  },
  {
   "cell_type": "code",
   "execution_count": 127,
   "metadata": {},
   "outputs": [],
   "source": [
    "y_ts_ad=list(y_ts)"
   ]
  },
  {
   "cell_type": "code",
   "execution_count": 128,
   "metadata": {},
   "outputs": [],
   "source": [
    "y_ts_ad[:] = [x for i,x in enumerate(y_ts_ad) if i not in out_Ad]"
   ]
  },
  {
   "cell_type": "code",
   "execution_count": 129,
   "metadata": {},
   "outputs": [
    {
     "data": {
      "text/plain": [
       "1327"
      ]
     },
     "execution_count": 129,
     "metadata": {},
     "output_type": "execute_result"
    }
   ],
   "source": [
    "len(y_ts_ad)"
   ]
  },
  {
   "cell_type": "code",
   "execution_count": 130,
   "metadata": {},
   "outputs": [
    {
     "data": {
      "text/plain": [
       "0.67"
      ]
     },
     "execution_count": 130,
     "metadata": {},
     "output_type": "execute_result"
    }
   ],
   "source": [
    "Q2_TS = round(r2_score(y_ts_ad, y_pred_svm_ad), 2)\n",
    "Q2_TS"
   ]
  },
  {
   "cell_type": "code",
   "execution_count": 131,
   "metadata": {},
   "outputs": [
    {
     "data": {
      "text/plain": [
       "0.53"
      ]
     },
     "execution_count": 131,
     "metadata": {},
     "output_type": "execute_result"
    }
   ],
   "source": [
    "RMSE_TS=round(np.sqrt(mean_squared_error(y_ts_ad, y_pred_svm_ad)), 2)\n",
    "RMSE_TS"
   ]
  },
  {
   "cell_type": "markdown",
   "metadata": {},
   "source": [
    "# Multi-layer Perceptron regressor"
   ]
  },
  {
   "cell_type": "code",
   "execution_count": 132,
   "metadata": {},
   "outputs": [],
   "source": [
    "from sklearn.neural_network import MLPRegressor"
   ]
  },
  {
   "cell_type": "code",
   "execution_count": 133,
   "metadata": {},
   "outputs": [],
   "source": [
    "seed = 42\n",
    "cv=KFold(n_splits=5, random_state=seed, shuffle=True)"
   ]
  },
  {
   "cell_type": "code",
   "execution_count": 134,
   "metadata": {},
   "outputs": [],
   "source": [
    "param_grid ={\"hidden_layer_sizes\": [(400, 300, 200, 100),(100, 100, 100), (10, 10, 10),(50,)], \"activation\": [\"tanh\", \"relu\"], \"solver\": [\"lbfgs\", \"sgd\", \"adam\"], \"alpha\": [0.00005,0.0005], 'max_iter': [1000, 2000]}"
   ]
  },
  {
   "cell_type": "code",
   "execution_count": 135,
   "metadata": {},
   "outputs": [],
   "source": [
    "m = GridSearchCV(MLPRegressor(), param_grid, n_jobs=-1, cv=cv, verbose=1)"
   ]
  },
  {
   "cell_type": "code",
   "execution_count": 136,
   "metadata": {},
   "outputs": [
    {
     "name": "stdout",
     "output_type": "stream",
     "text": [
      "Fitting 5 folds for each of 96 candidates, totalling 480 fits\n"
     ]
    },
    {
     "data": {
      "text/html": [
       "<style>#sk-container-id-3 {color: black;}#sk-container-id-3 pre{padding: 0;}#sk-container-id-3 div.sk-toggleable {background-color: white;}#sk-container-id-3 label.sk-toggleable__label {cursor: pointer;display: block;width: 100%;margin-bottom: 0;padding: 0.3em;box-sizing: border-box;text-align: center;}#sk-container-id-3 label.sk-toggleable__label-arrow:before {content: \"▸\";float: left;margin-right: 0.25em;color: #696969;}#sk-container-id-3 label.sk-toggleable__label-arrow:hover:before {color: black;}#sk-container-id-3 div.sk-estimator:hover label.sk-toggleable__label-arrow:before {color: black;}#sk-container-id-3 div.sk-toggleable__content {max-height: 0;max-width: 0;overflow: hidden;text-align: left;background-color: #f0f8ff;}#sk-container-id-3 div.sk-toggleable__content pre {margin: 0.2em;color: black;border-radius: 0.25em;background-color: #f0f8ff;}#sk-container-id-3 input.sk-toggleable__control:checked~div.sk-toggleable__content {max-height: 200px;max-width: 100%;overflow: auto;}#sk-container-id-3 input.sk-toggleable__control:checked~label.sk-toggleable__label-arrow:before {content: \"▾\";}#sk-container-id-3 div.sk-estimator input.sk-toggleable__control:checked~label.sk-toggleable__label {background-color: #d4ebff;}#sk-container-id-3 div.sk-label input.sk-toggleable__control:checked~label.sk-toggleable__label {background-color: #d4ebff;}#sk-container-id-3 input.sk-hidden--visually {border: 0;clip: rect(1px 1px 1px 1px);clip: rect(1px, 1px, 1px, 1px);height: 1px;margin: -1px;overflow: hidden;padding: 0;position: absolute;width: 1px;}#sk-container-id-3 div.sk-estimator {font-family: monospace;background-color: #f0f8ff;border: 1px dotted black;border-radius: 0.25em;box-sizing: border-box;margin-bottom: 0.5em;}#sk-container-id-3 div.sk-estimator:hover {background-color: #d4ebff;}#sk-container-id-3 div.sk-parallel-item::after {content: \"\";width: 100%;border-bottom: 1px solid gray;flex-grow: 1;}#sk-container-id-3 div.sk-label:hover label.sk-toggleable__label {background-color: #d4ebff;}#sk-container-id-3 div.sk-serial::before {content: \"\";position: absolute;border-left: 1px solid gray;box-sizing: border-box;top: 0;bottom: 0;left: 50%;z-index: 0;}#sk-container-id-3 div.sk-serial {display: flex;flex-direction: column;align-items: center;background-color: white;padding-right: 0.2em;padding-left: 0.2em;position: relative;}#sk-container-id-3 div.sk-item {position: relative;z-index: 1;}#sk-container-id-3 div.sk-parallel {display: flex;align-items: stretch;justify-content: center;background-color: white;position: relative;}#sk-container-id-3 div.sk-item::before, #sk-container-id-3 div.sk-parallel-item::before {content: \"\";position: absolute;border-left: 1px solid gray;box-sizing: border-box;top: 0;bottom: 0;left: 50%;z-index: -1;}#sk-container-id-3 div.sk-parallel-item {display: flex;flex-direction: column;z-index: 1;position: relative;background-color: white;}#sk-container-id-3 div.sk-parallel-item:first-child::after {align-self: flex-end;width: 50%;}#sk-container-id-3 div.sk-parallel-item:last-child::after {align-self: flex-start;width: 50%;}#sk-container-id-3 div.sk-parallel-item:only-child::after {width: 0;}#sk-container-id-3 div.sk-dashed-wrapped {border: 1px dashed gray;margin: 0 0.4em 0.5em 0.4em;box-sizing: border-box;padding-bottom: 0.4em;background-color: white;}#sk-container-id-3 div.sk-label label {font-family: monospace;font-weight: bold;display: inline-block;line-height: 1.2em;}#sk-container-id-3 div.sk-label-container {text-align: center;}#sk-container-id-3 div.sk-container {/* jupyter's `normalize.less` sets `[hidden] { display: none; }` but bootstrap.min.css set `[hidden] { display: none !important; }` so we also need the `!important` here to be able to override the default hidden behavior on the sphinx rendered scikit-learn.org. See: https://github.com/scikit-learn/scikit-learn/issues/21755 */display: inline-block !important;position: relative;}#sk-container-id-3 div.sk-text-repr-fallback {display: none;}</style><div id=\"sk-container-id-3\" class=\"sk-top-container\"><div class=\"sk-text-repr-fallback\"><pre>GridSearchCV(cv=KFold(n_splits=5, random_state=42, shuffle=True),\n",
       "             estimator=MLPRegressor(), n_jobs=-1,\n",
       "             param_grid={&#x27;activation&#x27;: [&#x27;tanh&#x27;, &#x27;relu&#x27;],\n",
       "                         &#x27;alpha&#x27;: [5e-05, 0.0005],\n",
       "                         &#x27;hidden_layer_sizes&#x27;: [(400, 300, 200, 100),\n",
       "                                                (100, 100, 100), (10, 10, 10),\n",
       "                                                (50,)],\n",
       "                         &#x27;max_iter&#x27;: [1000, 2000],\n",
       "                         &#x27;solver&#x27;: [&#x27;lbfgs&#x27;, &#x27;sgd&#x27;, &#x27;adam&#x27;]},\n",
       "             verbose=1)</pre><b>In a Jupyter environment, please rerun this cell to show the HTML representation or trust the notebook. <br />On GitHub, the HTML representation is unable to render, please try loading this page with nbviewer.org.</b></div><div class=\"sk-container\" hidden><div class=\"sk-item sk-dashed-wrapped\"><div class=\"sk-label-container\"><div class=\"sk-label sk-toggleable\"><input class=\"sk-toggleable__control sk-hidden--visually\" id=\"sk-estimator-id-7\" type=\"checkbox\" ><label for=\"sk-estimator-id-7\" class=\"sk-toggleable__label sk-toggleable__label-arrow\">GridSearchCV</label><div class=\"sk-toggleable__content\"><pre>GridSearchCV(cv=KFold(n_splits=5, random_state=42, shuffle=True),\n",
       "             estimator=MLPRegressor(), n_jobs=-1,\n",
       "             param_grid={&#x27;activation&#x27;: [&#x27;tanh&#x27;, &#x27;relu&#x27;],\n",
       "                         &#x27;alpha&#x27;: [5e-05, 0.0005],\n",
       "                         &#x27;hidden_layer_sizes&#x27;: [(400, 300, 200, 100),\n",
       "                                                (100, 100, 100), (10, 10, 10),\n",
       "                                                (50,)],\n",
       "                         &#x27;max_iter&#x27;: [1000, 2000],\n",
       "                         &#x27;solver&#x27;: [&#x27;lbfgs&#x27;, &#x27;sgd&#x27;, &#x27;adam&#x27;]},\n",
       "             verbose=1)</pre></div></div></div><div class=\"sk-parallel\"><div class=\"sk-parallel-item\"><div class=\"sk-item\"><div class=\"sk-label-container\"><div class=\"sk-label sk-toggleable\"><input class=\"sk-toggleable__control sk-hidden--visually\" id=\"sk-estimator-id-8\" type=\"checkbox\" ><label for=\"sk-estimator-id-8\" class=\"sk-toggleable__label sk-toggleable__label-arrow\">estimator: MLPRegressor</label><div class=\"sk-toggleable__content\"><pre>MLPRegressor()</pre></div></div></div><div class=\"sk-serial\"><div class=\"sk-item\"><div class=\"sk-estimator sk-toggleable\"><input class=\"sk-toggleable__control sk-hidden--visually\" id=\"sk-estimator-id-9\" type=\"checkbox\" ><label for=\"sk-estimator-id-9\" class=\"sk-toggleable__label sk-toggleable__label-arrow\">MLPRegressor</label><div class=\"sk-toggleable__content\"><pre>MLPRegressor()</pre></div></div></div></div></div></div></div></div></div></div>"
      ],
      "text/plain": [
       "GridSearchCV(cv=KFold(n_splits=5, random_state=42, shuffle=True),\n",
       "             estimator=MLPRegressor(), n_jobs=-1,\n",
       "             param_grid={'activation': ['tanh', 'relu'],\n",
       "                         'alpha': [5e-05, 0.0005],\n",
       "                         'hidden_layer_sizes': [(400, 300, 200, 100),\n",
       "                                                (100, 100, 100), (10, 10, 10),\n",
       "                                                (50,)],\n",
       "                         'max_iter': [1000, 2000],\n",
       "                         'solver': ['lbfgs', 'sgd', 'adam']},\n",
       "             verbose=1)"
      ]
     },
     "execution_count": 136,
     "metadata": {},
     "output_type": "execute_result"
    }
   ],
   "source": [
    "m.fit(x_tr, y_tr)"
   ]
  },
  {
   "cell_type": "code",
   "execution_count": 137,
   "metadata": {},
   "outputs": [],
   "source": [
    "best_MLPR = m.best_estimator_"
   ]
  },
  {
   "cell_type": "code",
   "execution_count": 138,
   "metadata": {},
   "outputs": [
    {
     "data": {
      "text/plain": [
       "{'activation': 'relu',\n",
       " 'alpha': 5e-05,\n",
       " 'hidden_layer_sizes': (400, 300, 200, 100),\n",
       " 'max_iter': 2000,\n",
       " 'solver': 'adam'}"
      ]
     },
     "execution_count": 138,
     "metadata": {},
     "output_type": "execute_result"
    }
   ],
   "source": [
    "m.best_params_"
   ]
  },
  {
   "cell_type": "code",
   "execution_count": 139,
   "metadata": {},
   "outputs": [],
   "source": [
    "y_pred_ws_MLPR = best_MLPR.predict(x_tr)"
   ]
  },
  {
   "cell_type": "code",
   "execution_count": 140,
   "metadata": {},
   "outputs": [
    {
     "data": {
      "text/plain": [
       "0.96"
      ]
     },
     "execution_count": 140,
     "metadata": {},
     "output_type": "execute_result"
    }
   ],
   "source": [
    "R2_WS = round(r2_score(y_tr, y_pred_ws_MLPR), 2)\n",
    "R2_WS"
   ]
  },
  {
   "cell_type": "code",
   "execution_count": 141,
   "metadata": {},
   "outputs": [
    {
     "data": {
      "text/plain": [
       "0.18"
      ]
     },
     "execution_count": 141,
     "metadata": {},
     "output_type": "execute_result"
    }
   ],
   "source": [
    "RMSE_WS=round(np.sqrt(mean_squared_error(y_tr, y_pred_ws_MLPR)), 2)\n",
    "RMSE_WS"
   ]
  },
  {
   "cell_type": "code",
   "execution_count": 142,
   "metadata": {},
   "outputs": [],
   "source": [
    "y_pred_CV_MLPR = cross_val_predict(best_MLPR, x_tr, y_tr, cv=cv)"
   ]
  },
  {
   "cell_type": "code",
   "execution_count": 143,
   "metadata": {},
   "outputs": [
    {
     "data": {
      "text/plain": [
       "array([1.2566378, 3.3188913, 1.4009999, ..., 4.4459443, 2.6433103,\n",
       "       2.3763356], dtype=float32)"
      ]
     },
     "execution_count": 143,
     "metadata": {},
     "output_type": "execute_result"
    }
   ],
   "source": [
    "y_pred_CV_MLPR"
   ]
  },
  {
   "cell_type": "code",
   "execution_count": 144,
   "metadata": {},
   "outputs": [
    {
     "data": {
      "text/plain": [
       "0.5"
      ]
     },
     "execution_count": 144,
     "metadata": {},
     "output_type": "execute_result"
    }
   ],
   "source": [
    "Q2_CV = round(r2_score(y_tr, y_pred_CV_MLPR), 2)\n",
    "Q2_CV"
   ]
  },
  {
   "cell_type": "code",
   "execution_count": 145,
   "metadata": {},
   "outputs": [
    {
     "data": {
      "text/plain": [
       "0.63"
      ]
     },
     "execution_count": 145,
     "metadata": {},
     "output_type": "execute_result"
    }
   ],
   "source": [
    "RMSE_CV=round(np.sqrt(mean_squared_error(y_tr, y_pred_CV_MLPR)), 2)\n",
    "RMSE_CV"
   ]
  },
  {
   "cell_type": "markdown",
   "metadata": {},
   "source": [
    "# Prediction for test set's molecules"
   ]
  },
  {
   "cell_type": "code",
   "execution_count": 146,
   "metadata": {},
   "outputs": [],
   "source": [
    "x_ts = np.array(x_ts, dtype=np.float32)\n",
    "y_ts = np.array(y_ts, dtype=np.float32)"
   ]
  },
  {
   "cell_type": "code",
   "execution_count": 147,
   "metadata": {},
   "outputs": [],
   "source": [
    "y_pred_MLPR = best_MLPR.predict(x_ts)"
   ]
  },
  {
   "cell_type": "code",
   "execution_count": 148,
   "metadata": {},
   "outputs": [
    {
     "data": {
      "text/plain": [
       "0.49"
      ]
     },
     "execution_count": 148,
     "metadata": {},
     "output_type": "execute_result"
    }
   ],
   "source": [
    "Q2_TS = round(r2_score(y_ts, y_pred_MLPR), 2)\n",
    "Q2_TS"
   ]
  },
  {
   "cell_type": "code",
   "execution_count": 149,
   "metadata": {},
   "outputs": [
    {
     "data": {
      "text/plain": [
       "0.64"
      ]
     },
     "execution_count": 149,
     "metadata": {},
     "output_type": "execute_result"
    }
   ],
   "source": [
    "RMSE_TS=round(np.sqrt(mean_squared_error(y_ts, y_pred_MLPR)), 2)\n",
    "RMSE_TS"
   ]
  },
  {
   "cell_type": "markdown",
   "metadata": {},
   "source": [
    "# save the model to disk"
   ]
  },
  {
   "cell_type": "code",
   "execution_count": 150,
   "metadata": {},
   "outputs": [],
   "source": [
    "pickle.dump(best_MLPR, open('models/MACCS/Toxicity_MLPR_MACCS.pkl', 'wb'))"
   ]
  },
  {
   "cell_type": "markdown",
   "metadata": {},
   "source": [
    "# load the model from disk"
   ]
  },
  {
   "cell_type": "code",
   "execution_count": 83,
   "metadata": {},
   "outputs": [],
   "source": [
    "best_MLPR = pickle.load(open('models/MACCS/Toxicity_MLPR_MACCS.pkl', 'rb'))"
   ]
  },
  {
   "cell_type": "markdown",
   "metadata": {},
   "source": [
    "# Estimating applicability domain. Method - Euclidian distances, K=1"
   ]
  },
  {
   "cell_type": "code",
   "execution_count": 151,
   "metadata": {},
   "outputs": [],
   "source": [
    "neighbors_k= pairwise_distances(x_tr, n_jobs=-1)\n",
    "neighbors_k.sort(0)"
   ]
  },
  {
   "cell_type": "code",
   "execution_count": 152,
   "metadata": {},
   "outputs": [
    {
     "data": {
      "text/html": [
       "<div>\n",
       "<style scoped>\n",
       "    .dataframe tbody tr th:only-of-type {\n",
       "        vertical-align: middle;\n",
       "    }\n",
       "\n",
       "    .dataframe tbody tr th {\n",
       "        vertical-align: top;\n",
       "    }\n",
       "\n",
       "    .dataframe thead th {\n",
       "        text-align: right;\n",
       "    }\n",
       "</style>\n",
       "<table border=\"1\" class=\"dataframe\">\n",
       "  <thead>\n",
       "    <tr style=\"text-align: right;\">\n",
       "      <th></th>\n",
       "      <th>0</th>\n",
       "      <th>1</th>\n",
       "      <th>2</th>\n",
       "      <th>3</th>\n",
       "      <th>4</th>\n",
       "      <th>5</th>\n",
       "      <th>6</th>\n",
       "      <th>7</th>\n",
       "      <th>8</th>\n",
       "      <th>9</th>\n",
       "      <th>...</th>\n",
       "      <th>7864</th>\n",
       "      <th>7865</th>\n",
       "      <th>7866</th>\n",
       "      <th>7867</th>\n",
       "      <th>7868</th>\n",
       "      <th>7869</th>\n",
       "      <th>7870</th>\n",
       "      <th>7871</th>\n",
       "      <th>7872</th>\n",
       "      <th>7873</th>\n",
       "    </tr>\n",
       "  </thead>\n",
       "  <tbody>\n",
       "    <tr>\n",
       "      <th>0</th>\n",
       "      <td>0.000000</td>\n",
       "      <td>0.000000</td>\n",
       "      <td>0.000000</td>\n",
       "      <td>0.000000</td>\n",
       "      <td>0.000000</td>\n",
       "      <td>0.000000</td>\n",
       "      <td>0.000000</td>\n",
       "      <td>0.000000</td>\n",
       "      <td>0.000000</td>\n",
       "      <td>0.000000</td>\n",
       "      <td>...</td>\n",
       "      <td>0.000000</td>\n",
       "      <td>0.000000</td>\n",
       "      <td>0.000000</td>\n",
       "      <td>0.000000</td>\n",
       "      <td>0.000000</td>\n",
       "      <td>0.000000</td>\n",
       "      <td>0.000000</td>\n",
       "      <td>0.000000</td>\n",
       "      <td>0.000000</td>\n",
       "      <td>0.000000</td>\n",
       "    </tr>\n",
       "    <tr>\n",
       "      <th>1</th>\n",
       "      <td>1.000000</td>\n",
       "      <td>4.358899</td>\n",
       "      <td>1.732051</td>\n",
       "      <td>2.236068</td>\n",
       "      <td>2.000000</td>\n",
       "      <td>2.645751</td>\n",
       "      <td>2.236068</td>\n",
       "      <td>2.645751</td>\n",
       "      <td>0.000000</td>\n",
       "      <td>0.000000</td>\n",
       "      <td>...</td>\n",
       "      <td>1.000000</td>\n",
       "      <td>2.000000</td>\n",
       "      <td>2.236068</td>\n",
       "      <td>3.162278</td>\n",
       "      <td>2.000000</td>\n",
       "      <td>1.414214</td>\n",
       "      <td>2.828427</td>\n",
       "      <td>2.449490</td>\n",
       "      <td>3.000000</td>\n",
       "      <td>2.236068</td>\n",
       "    </tr>\n",
       "    <tr>\n",
       "      <th>2</th>\n",
       "      <td>1.732051</td>\n",
       "      <td>4.690416</td>\n",
       "      <td>1.732051</td>\n",
       "      <td>2.236068</td>\n",
       "      <td>2.449490</td>\n",
       "      <td>3.162278</td>\n",
       "      <td>3.000000</td>\n",
       "      <td>2.828427</td>\n",
       "      <td>0.000000</td>\n",
       "      <td>0.000000</td>\n",
       "      <td>...</td>\n",
       "      <td>2.449490</td>\n",
       "      <td>2.645751</td>\n",
       "      <td>4.358899</td>\n",
       "      <td>3.162278</td>\n",
       "      <td>2.449490</td>\n",
       "      <td>1.414214</td>\n",
       "      <td>3.162278</td>\n",
       "      <td>2.449490</td>\n",
       "      <td>3.162278</td>\n",
       "      <td>2.449490</td>\n",
       "    </tr>\n",
       "    <tr>\n",
       "      <th>3</th>\n",
       "      <td>2.449490</td>\n",
       "      <td>4.690416</td>\n",
       "      <td>1.732051</td>\n",
       "      <td>2.449490</td>\n",
       "      <td>2.645751</td>\n",
       "      <td>3.162278</td>\n",
       "      <td>3.162278</td>\n",
       "      <td>3.000000</td>\n",
       "      <td>0.000000</td>\n",
       "      <td>0.000000</td>\n",
       "      <td>...</td>\n",
       "      <td>3.000000</td>\n",
       "      <td>2.645751</td>\n",
       "      <td>4.472136</td>\n",
       "      <td>3.464102</td>\n",
       "      <td>2.449490</td>\n",
       "      <td>3.000000</td>\n",
       "      <td>3.162278</td>\n",
       "      <td>3.162278</td>\n",
       "      <td>3.316625</td>\n",
       "      <td>2.449490</td>\n",
       "    </tr>\n",
       "    <tr>\n",
       "      <th>4</th>\n",
       "      <td>3.162278</td>\n",
       "      <td>4.795832</td>\n",
       "      <td>1.732051</td>\n",
       "      <td>2.449490</td>\n",
       "      <td>2.828427</td>\n",
       "      <td>3.162278</td>\n",
       "      <td>3.162278</td>\n",
       "      <td>3.000000</td>\n",
       "      <td>0.000000</td>\n",
       "      <td>0.000000</td>\n",
       "      <td>...</td>\n",
       "      <td>3.000000</td>\n",
       "      <td>2.645751</td>\n",
       "      <td>4.472136</td>\n",
       "      <td>3.464102</td>\n",
       "      <td>3.000000</td>\n",
       "      <td>3.162278</td>\n",
       "      <td>3.316625</td>\n",
       "      <td>3.464102</td>\n",
       "      <td>3.464102</td>\n",
       "      <td>2.449490</td>\n",
       "    </tr>\n",
       "    <tr>\n",
       "      <th>...</th>\n",
       "      <td>...</td>\n",
       "      <td>...</td>\n",
       "      <td>...</td>\n",
       "      <td>...</td>\n",
       "      <td>...</td>\n",
       "      <td>...</td>\n",
       "      <td>...</td>\n",
       "      <td>...</td>\n",
       "      <td>...</td>\n",
       "      <td>...</td>\n",
       "      <td>...</td>\n",
       "      <td>...</td>\n",
       "      <td>...</td>\n",
       "      <td>...</td>\n",
       "      <td>...</td>\n",
       "      <td>...</td>\n",
       "      <td>...</td>\n",
       "      <td>...</td>\n",
       "      <td>...</td>\n",
       "      <td>...</td>\n",
       "      <td>...</td>\n",
       "    </tr>\n",
       "    <tr>\n",
       "      <th>7869</th>\n",
       "      <td>8.366600</td>\n",
       "      <td>8.544003</td>\n",
       "      <td>9.327379</td>\n",
       "      <td>8.944272</td>\n",
       "      <td>9.219544</td>\n",
       "      <td>8.888194</td>\n",
       "      <td>8.944272</td>\n",
       "      <td>9.219544</td>\n",
       "      <td>9.110434</td>\n",
       "      <td>9.327379</td>\n",
       "      <td>...</td>\n",
       "      <td>8.774964</td>\n",
       "      <td>8.660254</td>\n",
       "      <td>8.544003</td>\n",
       "      <td>8.774964</td>\n",
       "      <td>9.000000</td>\n",
       "      <td>9.110434</td>\n",
       "      <td>8.717798</td>\n",
       "      <td>8.944272</td>\n",
       "      <td>8.485281</td>\n",
       "      <td>9.000000</td>\n",
       "    </tr>\n",
       "    <tr>\n",
       "      <th>7870</th>\n",
       "      <td>8.426149</td>\n",
       "      <td>8.602325</td>\n",
       "      <td>9.327379</td>\n",
       "      <td>8.944272</td>\n",
       "      <td>9.219544</td>\n",
       "      <td>8.944272</td>\n",
       "      <td>9.000000</td>\n",
       "      <td>9.273619</td>\n",
       "      <td>9.165152</td>\n",
       "      <td>9.539392</td>\n",
       "      <td>...</td>\n",
       "      <td>8.774964</td>\n",
       "      <td>8.660254</td>\n",
       "      <td>8.544003</td>\n",
       "      <td>8.774964</td>\n",
       "      <td>9.000000</td>\n",
       "      <td>9.110434</td>\n",
       "      <td>8.717798</td>\n",
       "      <td>9.000000</td>\n",
       "      <td>8.544003</td>\n",
       "      <td>9.055386</td>\n",
       "    </tr>\n",
       "    <tr>\n",
       "      <th>7871</th>\n",
       "      <td>8.485281</td>\n",
       "      <td>8.717798</td>\n",
       "      <td>9.380832</td>\n",
       "      <td>9.000000</td>\n",
       "      <td>9.219544</td>\n",
       "      <td>8.944272</td>\n",
       "      <td>9.000000</td>\n",
       "      <td>9.327379</td>\n",
       "      <td>9.273619</td>\n",
       "      <td>9.539392</td>\n",
       "      <td>...</td>\n",
       "      <td>8.831760</td>\n",
       "      <td>8.660254</td>\n",
       "      <td>8.602325</td>\n",
       "      <td>8.774964</td>\n",
       "      <td>9.000000</td>\n",
       "      <td>9.219544</td>\n",
       "      <td>8.831760</td>\n",
       "      <td>9.110434</td>\n",
       "      <td>8.544003</td>\n",
       "      <td>9.055386</td>\n",
       "    </tr>\n",
       "    <tr>\n",
       "      <th>7872</th>\n",
       "      <td>8.485281</td>\n",
       "      <td>8.717798</td>\n",
       "      <td>9.433981</td>\n",
       "      <td>9.000000</td>\n",
       "      <td>9.327379</td>\n",
       "      <td>9.055386</td>\n",
       "      <td>9.000000</td>\n",
       "      <td>9.380832</td>\n",
       "      <td>9.327379</td>\n",
       "      <td>9.539392</td>\n",
       "      <td>...</td>\n",
       "      <td>8.888194</td>\n",
       "      <td>8.717798</td>\n",
       "      <td>8.602325</td>\n",
       "      <td>8.774964</td>\n",
       "      <td>9.055386</td>\n",
       "      <td>9.273619</td>\n",
       "      <td>8.944272</td>\n",
       "      <td>9.219544</td>\n",
       "      <td>8.602325</td>\n",
       "      <td>9.110434</td>\n",
       "    </tr>\n",
       "    <tr>\n",
       "      <th>7873</th>\n",
       "      <td>8.544003</td>\n",
       "      <td>8.774964</td>\n",
       "      <td>9.433981</td>\n",
       "      <td>9.000000</td>\n",
       "      <td>9.433981</td>\n",
       "      <td>9.055386</td>\n",
       "      <td>9.055386</td>\n",
       "      <td>9.591663</td>\n",
       "      <td>9.380832</td>\n",
       "      <td>9.643651</td>\n",
       "      <td>...</td>\n",
       "      <td>8.944272</td>\n",
       "      <td>8.774964</td>\n",
       "      <td>8.602325</td>\n",
       "      <td>8.831760</td>\n",
       "      <td>9.055386</td>\n",
       "      <td>9.273619</td>\n",
       "      <td>8.944272</td>\n",
       "      <td>9.273619</td>\n",
       "      <td>8.774964</td>\n",
       "      <td>9.219544</td>\n",
       "    </tr>\n",
       "  </tbody>\n",
       "</table>\n",
       "<p>7874 rows × 7874 columns</p>\n",
       "</div>"
      ],
      "text/plain": [
       "          0         1         2         3         4         5         6     \\\n",
       "0     0.000000  0.000000  0.000000  0.000000  0.000000  0.000000  0.000000   \n",
       "1     1.000000  4.358899  1.732051  2.236068  2.000000  2.645751  2.236068   \n",
       "2     1.732051  4.690416  1.732051  2.236068  2.449490  3.162278  3.000000   \n",
       "3     2.449490  4.690416  1.732051  2.449490  2.645751  3.162278  3.162278   \n",
       "4     3.162278  4.795832  1.732051  2.449490  2.828427  3.162278  3.162278   \n",
       "...        ...       ...       ...       ...       ...       ...       ...   \n",
       "7869  8.366600  8.544003  9.327379  8.944272  9.219544  8.888194  8.944272   \n",
       "7870  8.426149  8.602325  9.327379  8.944272  9.219544  8.944272  9.000000   \n",
       "7871  8.485281  8.717798  9.380832  9.000000  9.219544  8.944272  9.000000   \n",
       "7872  8.485281  8.717798  9.433981  9.000000  9.327379  9.055386  9.000000   \n",
       "7873  8.544003  8.774964  9.433981  9.000000  9.433981  9.055386  9.055386   \n",
       "\n",
       "          7         8         9     ...      7864      7865      7866  \\\n",
       "0     0.000000  0.000000  0.000000  ...  0.000000  0.000000  0.000000   \n",
       "1     2.645751  0.000000  0.000000  ...  1.000000  2.000000  2.236068   \n",
       "2     2.828427  0.000000  0.000000  ...  2.449490  2.645751  4.358899   \n",
       "3     3.000000  0.000000  0.000000  ...  3.000000  2.645751  4.472136   \n",
       "4     3.000000  0.000000  0.000000  ...  3.000000  2.645751  4.472136   \n",
       "...        ...       ...       ...  ...       ...       ...       ...   \n",
       "7869  9.219544  9.110434  9.327379  ...  8.774964  8.660254  8.544003   \n",
       "7870  9.273619  9.165152  9.539392  ...  8.774964  8.660254  8.544003   \n",
       "7871  9.327379  9.273619  9.539392  ...  8.831760  8.660254  8.602325   \n",
       "7872  9.380832  9.327379  9.539392  ...  8.888194  8.717798  8.602325   \n",
       "7873  9.591663  9.380832  9.643651  ...  8.944272  8.774964  8.602325   \n",
       "\n",
       "          7867      7868      7869      7870      7871      7872      7873  \n",
       "0     0.000000  0.000000  0.000000  0.000000  0.000000  0.000000  0.000000  \n",
       "1     3.162278  2.000000  1.414214  2.828427  2.449490  3.000000  2.236068  \n",
       "2     3.162278  2.449490  1.414214  3.162278  2.449490  3.162278  2.449490  \n",
       "3     3.464102  2.449490  3.000000  3.162278  3.162278  3.316625  2.449490  \n",
       "4     3.464102  3.000000  3.162278  3.316625  3.464102  3.464102  2.449490  \n",
       "...        ...       ...       ...       ...       ...       ...       ...  \n",
       "7869  8.774964  9.000000  9.110434  8.717798  8.944272  8.485281  9.000000  \n",
       "7870  8.774964  9.000000  9.110434  8.717798  9.000000  8.544003  9.055386  \n",
       "7871  8.774964  9.000000  9.219544  8.831760  9.110434  8.544003  9.055386  \n",
       "7872  8.774964  9.055386  9.273619  8.944272  9.219544  8.602325  9.110434  \n",
       "7873  8.831760  9.055386  9.273619  8.944272  9.273619  8.774964  9.219544  \n",
       "\n",
       "[7874 rows x 7874 columns]"
      ]
     },
     "execution_count": 152,
     "metadata": {},
     "output_type": "execute_result"
    }
   ],
   "source": [
    "df_tr=pd.DataFrame(neighbors_k)\n",
    "df_tr"
   ]
  },
  {
   "cell_type": "code",
   "execution_count": 153,
   "metadata": {},
   "outputs": [],
   "source": [
    "similarity= neighbors_k"
   ]
  },
  {
   "cell_type": "code",
   "execution_count": 154,
   "metadata": {},
   "outputs": [],
   "source": [
    "Dmean=np.mean(similarity[1,:])"
   ]
  },
  {
   "cell_type": "code",
   "execution_count": 155,
   "metadata": {},
   "outputs": [
    {
     "data": {
      "text/plain": [
       "2.02"
      ]
     },
     "execution_count": 155,
     "metadata": {},
     "output_type": "execute_result"
    }
   ],
   "source": [
    "round(Dmean, 2)"
   ]
  },
  {
   "cell_type": "code",
   "execution_count": 156,
   "metadata": {},
   "outputs": [],
   "source": [
    "std=np.std(similarity[1,:])"
   ]
  },
  {
   "cell_type": "code",
   "execution_count": 157,
   "metadata": {},
   "outputs": [
    {
     "data": {
      "text/plain": [
       "1.11"
      ]
     },
     "execution_count": 157,
     "metadata": {},
     "output_type": "execute_result"
    }
   ],
   "source": [
    "round(std, 2)"
   ]
  },
  {
   "cell_type": "code",
   "execution_count": 158,
   "metadata": {},
   "outputs": [
    {
     "name": "stdout",
     "output_type": "stream",
     "text": [
      "2.58\n"
     ]
    }
   ],
   "source": [
    "model_AD_limit=Dmean+std*0.5\n",
    "print(np.round(model_AD_limit, 2))"
   ]
  },
  {
   "cell_type": "code",
   "execution_count": 159,
   "metadata": {},
   "outputs": [],
   "source": [
    "neighbors_k_ts= pairwise_distances(x_tr,Y=x_ts, n_jobs=-1)\n",
    "neighbors_k_ts.sort(0)"
   ]
  },
  {
   "cell_type": "code",
   "execution_count": 160,
   "metadata": {},
   "outputs": [
    {
     "data": {
      "text/html": [
       "<div>\n",
       "<style scoped>\n",
       "    .dataframe tbody tr th:only-of-type {\n",
       "        vertical-align: middle;\n",
       "    }\n",
       "\n",
       "    .dataframe tbody tr th {\n",
       "        vertical-align: top;\n",
       "    }\n",
       "\n",
       "    .dataframe thead th {\n",
       "        text-align: right;\n",
       "    }\n",
       "</style>\n",
       "<table border=\"1\" class=\"dataframe\">\n",
       "  <thead>\n",
       "    <tr style=\"text-align: right;\">\n",
       "      <th></th>\n",
       "      <th>0</th>\n",
       "      <th>1</th>\n",
       "      <th>2</th>\n",
       "      <th>3</th>\n",
       "      <th>4</th>\n",
       "      <th>5</th>\n",
       "      <th>6</th>\n",
       "      <th>7</th>\n",
       "      <th>8</th>\n",
       "      <th>9</th>\n",
       "      <th>...</th>\n",
       "      <th>1959</th>\n",
       "      <th>1960</th>\n",
       "      <th>1961</th>\n",
       "      <th>1962</th>\n",
       "      <th>1963</th>\n",
       "      <th>1964</th>\n",
       "      <th>1965</th>\n",
       "      <th>1966</th>\n",
       "      <th>1967</th>\n",
       "      <th>1968</th>\n",
       "    </tr>\n",
       "  </thead>\n",
       "  <tbody>\n",
       "    <tr>\n",
       "      <th>0</th>\n",
       "      <td>1.414214</td>\n",
       "      <td>2.236068</td>\n",
       "      <td>3.000000</td>\n",
       "      <td>0.000000</td>\n",
       "      <td>2.000000</td>\n",
       "      <td>0.000000</td>\n",
       "      <td>1.732051</td>\n",
       "      <td>1.414214</td>\n",
       "      <td>1.000000</td>\n",
       "      <td>1.414214</td>\n",
       "      <td>...</td>\n",
       "      <td>2.828427</td>\n",
       "      <td>3.605551</td>\n",
       "      <td>2.828427</td>\n",
       "      <td>0.000000</td>\n",
       "      <td>1.414214</td>\n",
       "      <td>3.162278</td>\n",
       "      <td>2.449490</td>\n",
       "      <td>0.000000</td>\n",
       "      <td>3.741657</td>\n",
       "      <td>0.000000</td>\n",
       "    </tr>\n",
       "    <tr>\n",
       "      <th>1</th>\n",
       "      <td>1.732051</td>\n",
       "      <td>2.449490</td>\n",
       "      <td>3.000000</td>\n",
       "      <td>0.000000</td>\n",
       "      <td>2.449490</td>\n",
       "      <td>1.000000</td>\n",
       "      <td>2.645751</td>\n",
       "      <td>1.732051</td>\n",
       "      <td>1.732051</td>\n",
       "      <td>1.732051</td>\n",
       "      <td>...</td>\n",
       "      <td>3.162278</td>\n",
       "      <td>4.000000</td>\n",
       "      <td>3.872983</td>\n",
       "      <td>0.000000</td>\n",
       "      <td>2.449490</td>\n",
       "      <td>3.162278</td>\n",
       "      <td>3.162278</td>\n",
       "      <td>0.000000</td>\n",
       "      <td>5.000000</td>\n",
       "      <td>0.000000</td>\n",
       "    </tr>\n",
       "    <tr>\n",
       "      <th>2</th>\n",
       "      <td>1.732051</td>\n",
       "      <td>2.828427</td>\n",
       "      <td>3.316625</td>\n",
       "      <td>0.000000</td>\n",
       "      <td>2.645751</td>\n",
       "      <td>1.414214</td>\n",
       "      <td>3.162278</td>\n",
       "      <td>2.449490</td>\n",
       "      <td>2.449490</td>\n",
       "      <td>1.732051</td>\n",
       "      <td>...</td>\n",
       "      <td>3.316625</td>\n",
       "      <td>4.358899</td>\n",
       "      <td>4.000000</td>\n",
       "      <td>1.414214</td>\n",
       "      <td>2.449490</td>\n",
       "      <td>3.741657</td>\n",
       "      <td>3.316625</td>\n",
       "      <td>1.414214</td>\n",
       "      <td>5.099020</td>\n",
       "      <td>1.414214</td>\n",
       "    </tr>\n",
       "    <tr>\n",
       "      <th>3</th>\n",
       "      <td>1.732051</td>\n",
       "      <td>3.000000</td>\n",
       "      <td>3.316625</td>\n",
       "      <td>0.000000</td>\n",
       "      <td>2.828427</td>\n",
       "      <td>1.414214</td>\n",
       "      <td>3.464102</td>\n",
       "      <td>2.645751</td>\n",
       "      <td>2.449490</td>\n",
       "      <td>1.732051</td>\n",
       "      <td>...</td>\n",
       "      <td>3.464102</td>\n",
       "      <td>4.358899</td>\n",
       "      <td>4.000000</td>\n",
       "      <td>2.828427</td>\n",
       "      <td>2.449490</td>\n",
       "      <td>3.741657</td>\n",
       "      <td>3.464102</td>\n",
       "      <td>2.828427</td>\n",
       "      <td>5.099020</td>\n",
       "      <td>2.828427</td>\n",
       "    </tr>\n",
       "    <tr>\n",
       "      <th>4</th>\n",
       "      <td>1.732051</td>\n",
       "      <td>3.000000</td>\n",
       "      <td>3.464102</td>\n",
       "      <td>0.000000</td>\n",
       "      <td>2.828427</td>\n",
       "      <td>1.414214</td>\n",
       "      <td>3.464102</td>\n",
       "      <td>2.828427</td>\n",
       "      <td>2.645751</td>\n",
       "      <td>2.000000</td>\n",
       "      <td>...</td>\n",
       "      <td>3.605551</td>\n",
       "      <td>4.358899</td>\n",
       "      <td>4.123106</td>\n",
       "      <td>3.316625</td>\n",
       "      <td>3.000000</td>\n",
       "      <td>4.358899</td>\n",
       "      <td>3.464102</td>\n",
       "      <td>3.316625</td>\n",
       "      <td>5.196152</td>\n",
       "      <td>3.316625</td>\n",
       "    </tr>\n",
       "    <tr>\n",
       "      <th>...</th>\n",
       "      <td>...</td>\n",
       "      <td>...</td>\n",
       "      <td>...</td>\n",
       "      <td>...</td>\n",
       "      <td>...</td>\n",
       "      <td>...</td>\n",
       "      <td>...</td>\n",
       "      <td>...</td>\n",
       "      <td>...</td>\n",
       "      <td>...</td>\n",
       "      <td>...</td>\n",
       "      <td>...</td>\n",
       "      <td>...</td>\n",
       "      <td>...</td>\n",
       "      <td>...</td>\n",
       "      <td>...</td>\n",
       "      <td>...</td>\n",
       "      <td>...</td>\n",
       "      <td>...</td>\n",
       "      <td>...</td>\n",
       "      <td>...</td>\n",
       "    </tr>\n",
       "    <tr>\n",
       "      <th>7869</th>\n",
       "      <td>9.165152</td>\n",
       "      <td>9.110434</td>\n",
       "      <td>8.660254</td>\n",
       "      <td>9.110434</td>\n",
       "      <td>9.327379</td>\n",
       "      <td>9.380832</td>\n",
       "      <td>9.000000</td>\n",
       "      <td>9.273619</td>\n",
       "      <td>9.165152</td>\n",
       "      <td>9.000000</td>\n",
       "      <td>...</td>\n",
       "      <td>8.485281</td>\n",
       "      <td>8.774964</td>\n",
       "      <td>8.602325</td>\n",
       "      <td>9.055386</td>\n",
       "      <td>9.000000</td>\n",
       "      <td>8.306623</td>\n",
       "      <td>8.888194</td>\n",
       "      <td>9.055386</td>\n",
       "      <td>8.366600</td>\n",
       "      <td>9.055386</td>\n",
       "    </tr>\n",
       "    <tr>\n",
       "      <th>7870</th>\n",
       "      <td>9.273619</td>\n",
       "      <td>9.165152</td>\n",
       "      <td>8.660254</td>\n",
       "      <td>9.165152</td>\n",
       "      <td>9.327379</td>\n",
       "      <td>9.380832</td>\n",
       "      <td>9.055386</td>\n",
       "      <td>9.273619</td>\n",
       "      <td>9.165152</td>\n",
       "      <td>9.000000</td>\n",
       "      <td>...</td>\n",
       "      <td>8.485281</td>\n",
       "      <td>8.831760</td>\n",
       "      <td>8.602325</td>\n",
       "      <td>9.110434</td>\n",
       "      <td>9.000000</td>\n",
       "      <td>8.426149</td>\n",
       "      <td>8.888194</td>\n",
       "      <td>9.110434</td>\n",
       "      <td>8.426149</td>\n",
       "      <td>9.110434</td>\n",
       "    </tr>\n",
       "    <tr>\n",
       "      <th>7871</th>\n",
       "      <td>9.380832</td>\n",
       "      <td>9.273619</td>\n",
       "      <td>8.717798</td>\n",
       "      <td>9.273619</td>\n",
       "      <td>9.327379</td>\n",
       "      <td>9.433981</td>\n",
       "      <td>9.055386</td>\n",
       "      <td>9.273619</td>\n",
       "      <td>9.165152</td>\n",
       "      <td>9.055386</td>\n",
       "      <td>...</td>\n",
       "      <td>8.485281</td>\n",
       "      <td>8.831760</td>\n",
       "      <td>8.602325</td>\n",
       "      <td>9.219544</td>\n",
       "      <td>9.055386</td>\n",
       "      <td>8.426149</td>\n",
       "      <td>8.944272</td>\n",
       "      <td>9.219544</td>\n",
       "      <td>8.426149</td>\n",
       "      <td>9.219544</td>\n",
       "    </tr>\n",
       "    <tr>\n",
       "      <th>7872</th>\n",
       "      <td>9.380832</td>\n",
       "      <td>9.327379</td>\n",
       "      <td>8.717798</td>\n",
       "      <td>9.327379</td>\n",
       "      <td>9.433981</td>\n",
       "      <td>9.486833</td>\n",
       "      <td>9.165152</td>\n",
       "      <td>9.273619</td>\n",
       "      <td>9.219544</td>\n",
       "      <td>9.165152</td>\n",
       "      <td>...</td>\n",
       "      <td>8.544003</td>\n",
       "      <td>8.944272</td>\n",
       "      <td>8.660254</td>\n",
       "      <td>9.273619</td>\n",
       "      <td>9.273619</td>\n",
       "      <td>8.426149</td>\n",
       "      <td>8.944272</td>\n",
       "      <td>9.273619</td>\n",
       "      <td>8.426149</td>\n",
       "      <td>9.273619</td>\n",
       "    </tr>\n",
       "    <tr>\n",
       "      <th>7873</th>\n",
       "      <td>9.380832</td>\n",
       "      <td>9.327379</td>\n",
       "      <td>8.831760</td>\n",
       "      <td>9.380832</td>\n",
       "      <td>9.433981</td>\n",
       "      <td>9.539392</td>\n",
       "      <td>9.219544</td>\n",
       "      <td>9.380832</td>\n",
       "      <td>9.273619</td>\n",
       "      <td>9.273619</td>\n",
       "      <td>...</td>\n",
       "      <td>8.544003</td>\n",
       "      <td>9.055386</td>\n",
       "      <td>8.717798</td>\n",
       "      <td>9.273619</td>\n",
       "      <td>9.273619</td>\n",
       "      <td>8.602325</td>\n",
       "      <td>8.944272</td>\n",
       "      <td>9.273619</td>\n",
       "      <td>8.485281</td>\n",
       "      <td>9.273619</td>\n",
       "    </tr>\n",
       "  </tbody>\n",
       "</table>\n",
       "<p>7874 rows × 1969 columns</p>\n",
       "</div>"
      ],
      "text/plain": [
       "          0         1         2         3         4         5         6     \\\n",
       "0     1.414214  2.236068  3.000000  0.000000  2.000000  0.000000  1.732051   \n",
       "1     1.732051  2.449490  3.000000  0.000000  2.449490  1.000000  2.645751   \n",
       "2     1.732051  2.828427  3.316625  0.000000  2.645751  1.414214  3.162278   \n",
       "3     1.732051  3.000000  3.316625  0.000000  2.828427  1.414214  3.464102   \n",
       "4     1.732051  3.000000  3.464102  0.000000  2.828427  1.414214  3.464102   \n",
       "...        ...       ...       ...       ...       ...       ...       ...   \n",
       "7869  9.165152  9.110434  8.660254  9.110434  9.327379  9.380832  9.000000   \n",
       "7870  9.273619  9.165152  8.660254  9.165152  9.327379  9.380832  9.055386   \n",
       "7871  9.380832  9.273619  8.717798  9.273619  9.327379  9.433981  9.055386   \n",
       "7872  9.380832  9.327379  8.717798  9.327379  9.433981  9.486833  9.165152   \n",
       "7873  9.380832  9.327379  8.831760  9.380832  9.433981  9.539392  9.219544   \n",
       "\n",
       "          7         8         9     ...      1959      1960      1961  \\\n",
       "0     1.414214  1.000000  1.414214  ...  2.828427  3.605551  2.828427   \n",
       "1     1.732051  1.732051  1.732051  ...  3.162278  4.000000  3.872983   \n",
       "2     2.449490  2.449490  1.732051  ...  3.316625  4.358899  4.000000   \n",
       "3     2.645751  2.449490  1.732051  ...  3.464102  4.358899  4.000000   \n",
       "4     2.828427  2.645751  2.000000  ...  3.605551  4.358899  4.123106   \n",
       "...        ...       ...       ...  ...       ...       ...       ...   \n",
       "7869  9.273619  9.165152  9.000000  ...  8.485281  8.774964  8.602325   \n",
       "7870  9.273619  9.165152  9.000000  ...  8.485281  8.831760  8.602325   \n",
       "7871  9.273619  9.165152  9.055386  ...  8.485281  8.831760  8.602325   \n",
       "7872  9.273619  9.219544  9.165152  ...  8.544003  8.944272  8.660254   \n",
       "7873  9.380832  9.273619  9.273619  ...  8.544003  9.055386  8.717798   \n",
       "\n",
       "          1962      1963      1964      1965      1966      1967      1968  \n",
       "0     0.000000  1.414214  3.162278  2.449490  0.000000  3.741657  0.000000  \n",
       "1     0.000000  2.449490  3.162278  3.162278  0.000000  5.000000  0.000000  \n",
       "2     1.414214  2.449490  3.741657  3.316625  1.414214  5.099020  1.414214  \n",
       "3     2.828427  2.449490  3.741657  3.464102  2.828427  5.099020  2.828427  \n",
       "4     3.316625  3.000000  4.358899  3.464102  3.316625  5.196152  3.316625  \n",
       "...        ...       ...       ...       ...       ...       ...       ...  \n",
       "7869  9.055386  9.000000  8.306623  8.888194  9.055386  8.366600  9.055386  \n",
       "7870  9.110434  9.000000  8.426149  8.888194  9.110434  8.426149  9.110434  \n",
       "7871  9.219544  9.055386  8.426149  8.944272  9.219544  8.426149  9.219544  \n",
       "7872  9.273619  9.273619  8.426149  8.944272  9.273619  8.426149  9.273619  \n",
       "7873  9.273619  9.273619  8.602325  8.944272  9.273619  8.485281  9.273619  \n",
       "\n",
       "[7874 rows x 1969 columns]"
      ]
     },
     "execution_count": 160,
     "metadata": {},
     "output_type": "execute_result"
    }
   ],
   "source": [
    "x_ts_AD=pd.DataFrame(neighbors_k_ts)\n",
    "x_ts_AD"
   ]
  },
  {
   "cell_type": "code",
   "execution_count": 161,
   "metadata": {},
   "outputs": [
    {
     "name": "stdout",
     "output_type": "stream",
     "text": [
      "[1.414 2.236 3.    ... 0.    3.742 0.   ]\n"
     ]
    }
   ],
   "source": [
    "similarity_ts= neighbors_k_ts\n",
    "cpd_AD=similarity_ts[0,:]\n",
    "cpd_value = np.round(cpd_AD, 3)\n",
    "print(cpd_value)"
   ]
  },
  {
   "cell_type": "code",
   "execution_count": 162,
   "metadata": {},
   "outputs": [
    {
     "name": "stdout",
     "output_type": "stream",
     "text": [
      "[ True  True False ...  True False  True]\n"
     ]
    }
   ],
   "source": [
    "cpd_AD = np.where(cpd_value <= model_AD_limit, True, False)\n",
    "print(cpd_AD)"
   ]
  },
  {
   "cell_type": "code",
   "execution_count": 163,
   "metadata": {},
   "outputs": [
    {
     "name": "stdout",
     "output_type": "stream",
     "text": [
      "Coverage =  0.67\n"
     ]
    }
   ],
   "source": [
    "print(\"Coverage = \", round(sum(cpd_AD) / len(cpd_AD), 2))"
   ]
  },
  {
   "cell_type": "code",
   "execution_count": 164,
   "metadata": {},
   "outputs": [
    {
     "name": "stdout",
     "output_type": "stream",
     "text": [
      "Indices of substances included in AD =  [   0    1    3 ... 1965 1966 1968]\n"
     ]
    }
   ],
   "source": [
    "print(\"Indices of substances included in AD = \", np.where(cpd_AD != 0)[0])"
   ]
  },
  {
   "cell_type": "code",
   "execution_count": 165,
   "metadata": {},
   "outputs": [],
   "source": [
    "out_Ad=list(np.where(cpd_AD == 0)[0])"
   ]
  },
  {
   "cell_type": "markdown",
   "metadata": {},
   "source": [
    "# Prediction only for molecules included in  AD"
   ]
  },
  {
   "cell_type": "code",
   "execution_count": 166,
   "metadata": {},
   "outputs": [],
   "source": [
    "y_pred_MLPR_ad=list(y_pred_MLPR)"
   ]
  },
  {
   "cell_type": "code",
   "execution_count": 167,
   "metadata": {},
   "outputs": [],
   "source": [
    "y_pred_MLPR_ad[:] = [x for i,x in enumerate(y_pred_MLPR_ad) if i not in out_Ad]"
   ]
  },
  {
   "cell_type": "code",
   "execution_count": 168,
   "metadata": {},
   "outputs": [
    {
     "data": {
      "text/plain": [
       "1327"
      ]
     },
     "execution_count": 168,
     "metadata": {},
     "output_type": "execute_result"
    }
   ],
   "source": [
    "len(y_pred_MLPR_ad)"
   ]
  },
  {
   "cell_type": "code",
   "execution_count": 169,
   "metadata": {},
   "outputs": [],
   "source": [
    "y_ts_ad=list(y_ts)"
   ]
  },
  {
   "cell_type": "code",
   "execution_count": 170,
   "metadata": {},
   "outputs": [],
   "source": [
    "y_ts_ad[:] = [x for i,x in enumerate(y_ts_ad) if i not in out_Ad]"
   ]
  },
  {
   "cell_type": "code",
   "execution_count": 171,
   "metadata": {},
   "outputs": [
    {
     "data": {
      "text/plain": [
       "1327"
      ]
     },
     "execution_count": 171,
     "metadata": {},
     "output_type": "execute_result"
    }
   ],
   "source": [
    "len(y_ts_ad)"
   ]
  },
  {
   "cell_type": "code",
   "execution_count": 172,
   "metadata": {},
   "outputs": [
    {
     "data": {
      "text/plain": [
       "0.62"
      ]
     },
     "execution_count": 172,
     "metadata": {},
     "output_type": "execute_result"
    }
   ],
   "source": [
    "Q2_TS = round(r2_score(y_ts_ad, y_pred_MLPR_ad), 2)\n",
    "Q2_TS"
   ]
  },
  {
   "cell_type": "code",
   "execution_count": 193,
   "metadata": {
    "scrolled": true
   },
   "outputs": [
    {
     "data": {
      "text/plain": [
       "0.57"
      ]
     },
     "execution_count": 193,
     "metadata": {},
     "output_type": "execute_result"
    }
   ],
   "source": [
    "RMSE_TS=round(np.sqrt(mean_squared_error(y_ts_ad, y_pred_MLPR_ad)), 2)\n",
    "RMSE_TS"
   ]
  },
  {
   "cell_type": "markdown",
   "metadata": {},
   "source": [
    "# k-nearest neighbors"
   ]
  },
  {
   "cell_type": "code",
   "execution_count": 195,
   "metadata": {},
   "outputs": [],
   "source": [
    "k_range = list(range(1, 31))\n",
    "param_grid = dict(n_neighbors=k_range)"
   ]
  },
  {
   "cell_type": "code",
   "execution_count": 196,
   "metadata": {},
   "outputs": [],
   "source": [
    "m = GridSearchCV(KNeighborsRegressor(), param_grid, n_jobs=-1, cv=cv, verbose=1)"
   ]
  },
  {
   "cell_type": "code",
   "execution_count": 197,
   "metadata": {},
   "outputs": [
    {
     "name": "stdout",
     "output_type": "stream",
     "text": [
      "Fitting 5 folds for each of 30 candidates, totalling 150 fits\n"
     ]
    },
    {
     "data": {
      "text/html": [
       "<style>#sk-container-id-4 {color: black;}#sk-container-id-4 pre{padding: 0;}#sk-container-id-4 div.sk-toggleable {background-color: white;}#sk-container-id-4 label.sk-toggleable__label {cursor: pointer;display: block;width: 100%;margin-bottom: 0;padding: 0.3em;box-sizing: border-box;text-align: center;}#sk-container-id-4 label.sk-toggleable__label-arrow:before {content: \"▸\";float: left;margin-right: 0.25em;color: #696969;}#sk-container-id-4 label.sk-toggleable__label-arrow:hover:before {color: black;}#sk-container-id-4 div.sk-estimator:hover label.sk-toggleable__label-arrow:before {color: black;}#sk-container-id-4 div.sk-toggleable__content {max-height: 0;max-width: 0;overflow: hidden;text-align: left;background-color: #f0f8ff;}#sk-container-id-4 div.sk-toggleable__content pre {margin: 0.2em;color: black;border-radius: 0.25em;background-color: #f0f8ff;}#sk-container-id-4 input.sk-toggleable__control:checked~div.sk-toggleable__content {max-height: 200px;max-width: 100%;overflow: auto;}#sk-container-id-4 input.sk-toggleable__control:checked~label.sk-toggleable__label-arrow:before {content: \"▾\";}#sk-container-id-4 div.sk-estimator input.sk-toggleable__control:checked~label.sk-toggleable__label {background-color: #d4ebff;}#sk-container-id-4 div.sk-label input.sk-toggleable__control:checked~label.sk-toggleable__label {background-color: #d4ebff;}#sk-container-id-4 input.sk-hidden--visually {border: 0;clip: rect(1px 1px 1px 1px);clip: rect(1px, 1px, 1px, 1px);height: 1px;margin: -1px;overflow: hidden;padding: 0;position: absolute;width: 1px;}#sk-container-id-4 div.sk-estimator {font-family: monospace;background-color: #f0f8ff;border: 1px dotted black;border-radius: 0.25em;box-sizing: border-box;margin-bottom: 0.5em;}#sk-container-id-4 div.sk-estimator:hover {background-color: #d4ebff;}#sk-container-id-4 div.sk-parallel-item::after {content: \"\";width: 100%;border-bottom: 1px solid gray;flex-grow: 1;}#sk-container-id-4 div.sk-label:hover label.sk-toggleable__label {background-color: #d4ebff;}#sk-container-id-4 div.sk-serial::before {content: \"\";position: absolute;border-left: 1px solid gray;box-sizing: border-box;top: 0;bottom: 0;left: 50%;z-index: 0;}#sk-container-id-4 div.sk-serial {display: flex;flex-direction: column;align-items: center;background-color: white;padding-right: 0.2em;padding-left: 0.2em;position: relative;}#sk-container-id-4 div.sk-item {position: relative;z-index: 1;}#sk-container-id-4 div.sk-parallel {display: flex;align-items: stretch;justify-content: center;background-color: white;position: relative;}#sk-container-id-4 div.sk-item::before, #sk-container-id-4 div.sk-parallel-item::before {content: \"\";position: absolute;border-left: 1px solid gray;box-sizing: border-box;top: 0;bottom: 0;left: 50%;z-index: -1;}#sk-container-id-4 div.sk-parallel-item {display: flex;flex-direction: column;z-index: 1;position: relative;background-color: white;}#sk-container-id-4 div.sk-parallel-item:first-child::after {align-self: flex-end;width: 50%;}#sk-container-id-4 div.sk-parallel-item:last-child::after {align-self: flex-start;width: 50%;}#sk-container-id-4 div.sk-parallel-item:only-child::after {width: 0;}#sk-container-id-4 div.sk-dashed-wrapped {border: 1px dashed gray;margin: 0 0.4em 0.5em 0.4em;box-sizing: border-box;padding-bottom: 0.4em;background-color: white;}#sk-container-id-4 div.sk-label label {font-family: monospace;font-weight: bold;display: inline-block;line-height: 1.2em;}#sk-container-id-4 div.sk-label-container {text-align: center;}#sk-container-id-4 div.sk-container {/* jupyter's `normalize.less` sets `[hidden] { display: none; }` but bootstrap.min.css set `[hidden] { display: none !important; }` so we also need the `!important` here to be able to override the default hidden behavior on the sphinx rendered scikit-learn.org. See: https://github.com/scikit-learn/scikit-learn/issues/21755 */display: inline-block !important;position: relative;}#sk-container-id-4 div.sk-text-repr-fallback {display: none;}</style><div id=\"sk-container-id-4\" class=\"sk-top-container\"><div class=\"sk-text-repr-fallback\"><pre>GridSearchCV(cv=KFold(n_splits=5, random_state=42, shuffle=True),\n",
       "             estimator=KNeighborsRegressor(), n_jobs=-1,\n",
       "             param_grid={&#x27;n_neighbors&#x27;: [1, 2, 3, 4, 5, 6, 7, 8, 9, 10, 11, 12,\n",
       "                                         13, 14, 15, 16, 17, 18, 19, 20, 21, 22,\n",
       "                                         23, 24, 25, 26, 27, 28, 29, 30]},\n",
       "             verbose=1)</pre><b>In a Jupyter environment, please rerun this cell to show the HTML representation or trust the notebook. <br />On GitHub, the HTML representation is unable to render, please try loading this page with nbviewer.org.</b></div><div class=\"sk-container\" hidden><div class=\"sk-item sk-dashed-wrapped\"><div class=\"sk-label-container\"><div class=\"sk-label sk-toggleable\"><input class=\"sk-toggleable__control sk-hidden--visually\" id=\"sk-estimator-id-10\" type=\"checkbox\" ><label for=\"sk-estimator-id-10\" class=\"sk-toggleable__label sk-toggleable__label-arrow\">GridSearchCV</label><div class=\"sk-toggleable__content\"><pre>GridSearchCV(cv=KFold(n_splits=5, random_state=42, shuffle=True),\n",
       "             estimator=KNeighborsRegressor(), n_jobs=-1,\n",
       "             param_grid={&#x27;n_neighbors&#x27;: [1, 2, 3, 4, 5, 6, 7, 8, 9, 10, 11, 12,\n",
       "                                         13, 14, 15, 16, 17, 18, 19, 20, 21, 22,\n",
       "                                         23, 24, 25, 26, 27, 28, 29, 30]},\n",
       "             verbose=1)</pre></div></div></div><div class=\"sk-parallel\"><div class=\"sk-parallel-item\"><div class=\"sk-item\"><div class=\"sk-label-container\"><div class=\"sk-label sk-toggleable\"><input class=\"sk-toggleable__control sk-hidden--visually\" id=\"sk-estimator-id-11\" type=\"checkbox\" ><label for=\"sk-estimator-id-11\" class=\"sk-toggleable__label sk-toggleable__label-arrow\">estimator: KNeighborsRegressor</label><div class=\"sk-toggleable__content\"><pre>KNeighborsRegressor()</pre></div></div></div><div class=\"sk-serial\"><div class=\"sk-item\"><div class=\"sk-estimator sk-toggleable\"><input class=\"sk-toggleable__control sk-hidden--visually\" id=\"sk-estimator-id-12\" type=\"checkbox\" ><label for=\"sk-estimator-id-12\" class=\"sk-toggleable__label sk-toggleable__label-arrow\">KNeighborsRegressor</label><div class=\"sk-toggleable__content\"><pre>KNeighborsRegressor()</pre></div></div></div></div></div></div></div></div></div></div>"
      ],
      "text/plain": [
       "GridSearchCV(cv=KFold(n_splits=5, random_state=42, shuffle=True),\n",
       "             estimator=KNeighborsRegressor(), n_jobs=-1,\n",
       "             param_grid={'n_neighbors': [1, 2, 3, 4, 5, 6, 7, 8, 9, 10, 11, 12,\n",
       "                                         13, 14, 15, 16, 17, 18, 19, 20, 21, 22,\n",
       "                                         23, 24, 25, 26, 27, 28, 29, 30]},\n",
       "             verbose=1)"
      ]
     },
     "execution_count": 197,
     "metadata": {},
     "output_type": "execute_result"
    }
   ],
   "source": [
    "m.fit(x_tr, y_tr)"
   ]
  },
  {
   "cell_type": "code",
   "execution_count": 198,
   "metadata": {},
   "outputs": [],
   "source": [
    "best_kNN = m.best_estimator_"
   ]
  },
  {
   "cell_type": "code",
   "execution_count": 199,
   "metadata": {},
   "outputs": [
    {
     "data": {
      "text/plain": [
       "{'n_neighbors': 5}"
      ]
     },
     "execution_count": 199,
     "metadata": {},
     "output_type": "execute_result"
    }
   ],
   "source": [
    "m.best_params_"
   ]
  },
  {
   "cell_type": "code",
   "execution_count": 200,
   "metadata": {},
   "outputs": [],
   "source": [
    "y_pred_ws_kNN = best_kNN.predict(x_tr)"
   ]
  },
  {
   "cell_type": "code",
   "execution_count": 201,
   "metadata": {},
   "outputs": [
    {
     "data": {
      "text/plain": [
       "0.68"
      ]
     },
     "execution_count": 201,
     "metadata": {},
     "output_type": "execute_result"
    }
   ],
   "source": [
    "R2_WS = round(r2_score(y_tr, y_pred_ws_kNN), 2)\n",
    "R2_WS"
   ]
  },
  {
   "cell_type": "code",
   "execution_count": 202,
   "metadata": {},
   "outputs": [
    {
     "data": {
      "text/plain": [
       "0.51"
      ]
     },
     "execution_count": 202,
     "metadata": {},
     "output_type": "execute_result"
    }
   ],
   "source": [
    "RMSE_WS=round(np.sqrt(mean_squared_error(y_tr, y_pred_ws_kNN)), 2)\n",
    "RMSE_WS"
   ]
  },
  {
   "cell_type": "code",
   "execution_count": 203,
   "metadata": {},
   "outputs": [],
   "source": [
    "y_pred_CV_kNN = cross_val_predict(best_kNN, x_tr, y_tr, cv=cv)"
   ]
  },
  {
   "cell_type": "code",
   "execution_count": 204,
   "metadata": {},
   "outputs": [
    {
     "data": {
      "text/plain": [
       "array([1.4258754, 2.7924078, 1.3673575, ..., 3.515985 , 2.58842  ,\n",
       "       2.4945967], dtype=float32)"
      ]
     },
     "execution_count": 204,
     "metadata": {},
     "output_type": "execute_result"
    }
   ],
   "source": [
    "y_pred_CV_kNN"
   ]
  },
  {
   "cell_type": "code",
   "execution_count": 205,
   "metadata": {},
   "outputs": [
    {
     "data": {
      "text/plain": [
       "0.49"
      ]
     },
     "execution_count": 205,
     "metadata": {},
     "output_type": "execute_result"
    }
   ],
   "source": [
    "Q2_CV = round(r2_score(y_tr, y_pred_CV_kNN), 2)\n",
    "Q2_CV"
   ]
  },
  {
   "cell_type": "code",
   "execution_count": 206,
   "metadata": {},
   "outputs": [
    {
     "data": {
      "text/plain": [
       "0.64"
      ]
     },
     "execution_count": 206,
     "metadata": {},
     "output_type": "execute_result"
    }
   ],
   "source": [
    "RMSE_CV=round(np.sqrt(mean_squared_error(y_tr, y_pred_CV_kNN)), 2)\n",
    "RMSE_CV"
   ]
  },
  {
   "cell_type": "markdown",
   "metadata": {},
   "source": [
    "# 9. Prediction for test set's molecules"
   ]
  },
  {
   "cell_type": "code",
   "execution_count": 207,
   "metadata": {},
   "outputs": [],
   "source": [
    "x_ts = np.array(x_ts, dtype=np.float32)\n",
    "y_ts = np.array(y_ts, dtype=np.float32)"
   ]
  },
  {
   "cell_type": "code",
   "execution_count": 208,
   "metadata": {},
   "outputs": [],
   "source": [
    "y_pred_kNN = best_kNN.predict(x_ts)"
   ]
  },
  {
   "cell_type": "code",
   "execution_count": 209,
   "metadata": {},
   "outputs": [
    {
     "data": {
      "text/plain": [
       "0.54"
      ]
     },
     "execution_count": 209,
     "metadata": {},
     "output_type": "execute_result"
    }
   ],
   "source": [
    "Q2_TS = round(r2_score(y_ts, y_pred_kNN), 2)\n",
    "Q2_TS"
   ]
  },
  {
   "cell_type": "code",
   "execution_count": 210,
   "metadata": {},
   "outputs": [
    {
     "data": {
      "text/plain": [
       "0.61"
      ]
     },
     "execution_count": 210,
     "metadata": {},
     "output_type": "execute_result"
    }
   ],
   "source": [
    "RMSE_TS=round(np.sqrt(mean_squared_error(y_ts, y_pred_kNN)), 2)\n",
    "RMSE_TS"
   ]
  },
  {
   "cell_type": "markdown",
   "metadata": {},
   "source": [
    "# save the model to disk"
   ]
  },
  {
   "cell_type": "code",
   "execution_count": 211,
   "metadata": {},
   "outputs": [],
   "source": [
    "pickle.dump(best_kNN, open('models/MACCS/Toxicity_kNN_MACCS.pkl', 'wb'))"
   ]
  },
  {
   "cell_type": "markdown",
   "metadata": {},
   "source": [
    "# load the model from disk"
   ]
  },
  {
   "cell_type": "code",
   "execution_count": 190,
   "metadata": {},
   "outputs": [],
   "source": [
    "best_kNN = pickle.load(open('models/MACCS/Toxicity_kNN_MACCS.pkl', 'rb'))"
   ]
  },
  {
   "cell_type": "markdown",
   "metadata": {},
   "source": [
    "# Estimating applicability domain. Method - Euclidian distances, K=1"
   ]
  },
  {
   "cell_type": "code",
   "execution_count": 212,
   "metadata": {},
   "outputs": [],
   "source": [
    "neighbors_k= pairwise_distances(x_tr, n_jobs=-1)\n",
    "neighbors_k.sort(0)"
   ]
  },
  {
   "cell_type": "code",
   "execution_count": 213,
   "metadata": {},
   "outputs": [
    {
     "data": {
      "text/html": [
       "<div>\n",
       "<style scoped>\n",
       "    .dataframe tbody tr th:only-of-type {\n",
       "        vertical-align: middle;\n",
       "    }\n",
       "\n",
       "    .dataframe tbody tr th {\n",
       "        vertical-align: top;\n",
       "    }\n",
       "\n",
       "    .dataframe thead th {\n",
       "        text-align: right;\n",
       "    }\n",
       "</style>\n",
       "<table border=\"1\" class=\"dataframe\">\n",
       "  <thead>\n",
       "    <tr style=\"text-align: right;\">\n",
       "      <th></th>\n",
       "      <th>0</th>\n",
       "      <th>1</th>\n",
       "      <th>2</th>\n",
       "      <th>3</th>\n",
       "      <th>4</th>\n",
       "      <th>5</th>\n",
       "      <th>6</th>\n",
       "      <th>7</th>\n",
       "      <th>8</th>\n",
       "      <th>9</th>\n",
       "      <th>...</th>\n",
       "      <th>7864</th>\n",
       "      <th>7865</th>\n",
       "      <th>7866</th>\n",
       "      <th>7867</th>\n",
       "      <th>7868</th>\n",
       "      <th>7869</th>\n",
       "      <th>7870</th>\n",
       "      <th>7871</th>\n",
       "      <th>7872</th>\n",
       "      <th>7873</th>\n",
       "    </tr>\n",
       "  </thead>\n",
       "  <tbody>\n",
       "    <tr>\n",
       "      <th>0</th>\n",
       "      <td>0.000000</td>\n",
       "      <td>0.000000</td>\n",
       "      <td>0.000000</td>\n",
       "      <td>0.000000</td>\n",
       "      <td>0.000000</td>\n",
       "      <td>0.000000</td>\n",
       "      <td>0.000000</td>\n",
       "      <td>0.000000</td>\n",
       "      <td>0.000000</td>\n",
       "      <td>0.000000</td>\n",
       "      <td>...</td>\n",
       "      <td>0.000000</td>\n",
       "      <td>0.000000</td>\n",
       "      <td>0.000000</td>\n",
       "      <td>0.000000</td>\n",
       "      <td>0.000000</td>\n",
       "      <td>0.000000</td>\n",
       "      <td>0.000000</td>\n",
       "      <td>0.000000</td>\n",
       "      <td>0.000000</td>\n",
       "      <td>0.000000</td>\n",
       "    </tr>\n",
       "    <tr>\n",
       "      <th>1</th>\n",
       "      <td>1.000000</td>\n",
       "      <td>4.358899</td>\n",
       "      <td>1.732051</td>\n",
       "      <td>2.236068</td>\n",
       "      <td>2.000000</td>\n",
       "      <td>2.645751</td>\n",
       "      <td>2.236068</td>\n",
       "      <td>2.645751</td>\n",
       "      <td>0.000000</td>\n",
       "      <td>0.000000</td>\n",
       "      <td>...</td>\n",
       "      <td>1.000000</td>\n",
       "      <td>2.000000</td>\n",
       "      <td>2.236068</td>\n",
       "      <td>3.162278</td>\n",
       "      <td>2.000000</td>\n",
       "      <td>1.414214</td>\n",
       "      <td>2.828427</td>\n",
       "      <td>2.449490</td>\n",
       "      <td>3.000000</td>\n",
       "      <td>2.236068</td>\n",
       "    </tr>\n",
       "    <tr>\n",
       "      <th>2</th>\n",
       "      <td>1.732051</td>\n",
       "      <td>4.690416</td>\n",
       "      <td>1.732051</td>\n",
       "      <td>2.236068</td>\n",
       "      <td>2.449490</td>\n",
       "      <td>3.162278</td>\n",
       "      <td>3.000000</td>\n",
       "      <td>2.828427</td>\n",
       "      <td>0.000000</td>\n",
       "      <td>0.000000</td>\n",
       "      <td>...</td>\n",
       "      <td>2.449490</td>\n",
       "      <td>2.645751</td>\n",
       "      <td>4.358899</td>\n",
       "      <td>3.162278</td>\n",
       "      <td>2.449490</td>\n",
       "      <td>1.414214</td>\n",
       "      <td>3.162278</td>\n",
       "      <td>2.449490</td>\n",
       "      <td>3.162278</td>\n",
       "      <td>2.449490</td>\n",
       "    </tr>\n",
       "    <tr>\n",
       "      <th>3</th>\n",
       "      <td>2.449490</td>\n",
       "      <td>4.690416</td>\n",
       "      <td>1.732051</td>\n",
       "      <td>2.449490</td>\n",
       "      <td>2.645751</td>\n",
       "      <td>3.162278</td>\n",
       "      <td>3.162278</td>\n",
       "      <td>3.000000</td>\n",
       "      <td>0.000000</td>\n",
       "      <td>0.000000</td>\n",
       "      <td>...</td>\n",
       "      <td>3.000000</td>\n",
       "      <td>2.645751</td>\n",
       "      <td>4.472136</td>\n",
       "      <td>3.464102</td>\n",
       "      <td>2.449490</td>\n",
       "      <td>3.000000</td>\n",
       "      <td>3.162278</td>\n",
       "      <td>3.162278</td>\n",
       "      <td>3.316625</td>\n",
       "      <td>2.449490</td>\n",
       "    </tr>\n",
       "    <tr>\n",
       "      <th>4</th>\n",
       "      <td>3.162278</td>\n",
       "      <td>4.795832</td>\n",
       "      <td>1.732051</td>\n",
       "      <td>2.449490</td>\n",
       "      <td>2.828427</td>\n",
       "      <td>3.162278</td>\n",
       "      <td>3.162278</td>\n",
       "      <td>3.000000</td>\n",
       "      <td>0.000000</td>\n",
       "      <td>0.000000</td>\n",
       "      <td>...</td>\n",
       "      <td>3.000000</td>\n",
       "      <td>2.645751</td>\n",
       "      <td>4.472136</td>\n",
       "      <td>3.464102</td>\n",
       "      <td>3.000000</td>\n",
       "      <td>3.162278</td>\n",
       "      <td>3.316625</td>\n",
       "      <td>3.464102</td>\n",
       "      <td>3.464102</td>\n",
       "      <td>2.449490</td>\n",
       "    </tr>\n",
       "    <tr>\n",
       "      <th>...</th>\n",
       "      <td>...</td>\n",
       "      <td>...</td>\n",
       "      <td>...</td>\n",
       "      <td>...</td>\n",
       "      <td>...</td>\n",
       "      <td>...</td>\n",
       "      <td>...</td>\n",
       "      <td>...</td>\n",
       "      <td>...</td>\n",
       "      <td>...</td>\n",
       "      <td>...</td>\n",
       "      <td>...</td>\n",
       "      <td>...</td>\n",
       "      <td>...</td>\n",
       "      <td>...</td>\n",
       "      <td>...</td>\n",
       "      <td>...</td>\n",
       "      <td>...</td>\n",
       "      <td>...</td>\n",
       "      <td>...</td>\n",
       "      <td>...</td>\n",
       "    </tr>\n",
       "    <tr>\n",
       "      <th>7869</th>\n",
       "      <td>8.366600</td>\n",
       "      <td>8.544003</td>\n",
       "      <td>9.327379</td>\n",
       "      <td>8.944272</td>\n",
       "      <td>9.219544</td>\n",
       "      <td>8.888194</td>\n",
       "      <td>8.944272</td>\n",
       "      <td>9.219544</td>\n",
       "      <td>9.110434</td>\n",
       "      <td>9.327379</td>\n",
       "      <td>...</td>\n",
       "      <td>8.774964</td>\n",
       "      <td>8.660254</td>\n",
       "      <td>8.544003</td>\n",
       "      <td>8.774964</td>\n",
       "      <td>9.000000</td>\n",
       "      <td>9.110434</td>\n",
       "      <td>8.717798</td>\n",
       "      <td>8.944272</td>\n",
       "      <td>8.485281</td>\n",
       "      <td>9.000000</td>\n",
       "    </tr>\n",
       "    <tr>\n",
       "      <th>7870</th>\n",
       "      <td>8.426149</td>\n",
       "      <td>8.602325</td>\n",
       "      <td>9.327379</td>\n",
       "      <td>8.944272</td>\n",
       "      <td>9.219544</td>\n",
       "      <td>8.944272</td>\n",
       "      <td>9.000000</td>\n",
       "      <td>9.273619</td>\n",
       "      <td>9.165152</td>\n",
       "      <td>9.539392</td>\n",
       "      <td>...</td>\n",
       "      <td>8.774964</td>\n",
       "      <td>8.660254</td>\n",
       "      <td>8.544003</td>\n",
       "      <td>8.774964</td>\n",
       "      <td>9.000000</td>\n",
       "      <td>9.110434</td>\n",
       "      <td>8.717798</td>\n",
       "      <td>9.000000</td>\n",
       "      <td>8.544003</td>\n",
       "      <td>9.055386</td>\n",
       "    </tr>\n",
       "    <tr>\n",
       "      <th>7871</th>\n",
       "      <td>8.485281</td>\n",
       "      <td>8.717798</td>\n",
       "      <td>9.380832</td>\n",
       "      <td>9.000000</td>\n",
       "      <td>9.219544</td>\n",
       "      <td>8.944272</td>\n",
       "      <td>9.000000</td>\n",
       "      <td>9.327379</td>\n",
       "      <td>9.273619</td>\n",
       "      <td>9.539392</td>\n",
       "      <td>...</td>\n",
       "      <td>8.831760</td>\n",
       "      <td>8.660254</td>\n",
       "      <td>8.602325</td>\n",
       "      <td>8.774964</td>\n",
       "      <td>9.000000</td>\n",
       "      <td>9.219544</td>\n",
       "      <td>8.831760</td>\n",
       "      <td>9.110434</td>\n",
       "      <td>8.544003</td>\n",
       "      <td>9.055386</td>\n",
       "    </tr>\n",
       "    <tr>\n",
       "      <th>7872</th>\n",
       "      <td>8.485281</td>\n",
       "      <td>8.717798</td>\n",
       "      <td>9.433981</td>\n",
       "      <td>9.000000</td>\n",
       "      <td>9.327379</td>\n",
       "      <td>9.055386</td>\n",
       "      <td>9.000000</td>\n",
       "      <td>9.380832</td>\n",
       "      <td>9.327379</td>\n",
       "      <td>9.539392</td>\n",
       "      <td>...</td>\n",
       "      <td>8.888194</td>\n",
       "      <td>8.717798</td>\n",
       "      <td>8.602325</td>\n",
       "      <td>8.774964</td>\n",
       "      <td>9.055386</td>\n",
       "      <td>9.273619</td>\n",
       "      <td>8.944272</td>\n",
       "      <td>9.219544</td>\n",
       "      <td>8.602325</td>\n",
       "      <td>9.110434</td>\n",
       "    </tr>\n",
       "    <tr>\n",
       "      <th>7873</th>\n",
       "      <td>8.544003</td>\n",
       "      <td>8.774964</td>\n",
       "      <td>9.433981</td>\n",
       "      <td>9.000000</td>\n",
       "      <td>9.433981</td>\n",
       "      <td>9.055386</td>\n",
       "      <td>9.055386</td>\n",
       "      <td>9.591663</td>\n",
       "      <td>9.380832</td>\n",
       "      <td>9.643651</td>\n",
       "      <td>...</td>\n",
       "      <td>8.944272</td>\n",
       "      <td>8.774964</td>\n",
       "      <td>8.602325</td>\n",
       "      <td>8.831760</td>\n",
       "      <td>9.055386</td>\n",
       "      <td>9.273619</td>\n",
       "      <td>8.944272</td>\n",
       "      <td>9.273619</td>\n",
       "      <td>8.774964</td>\n",
       "      <td>9.219544</td>\n",
       "    </tr>\n",
       "  </tbody>\n",
       "</table>\n",
       "<p>7874 rows × 7874 columns</p>\n",
       "</div>"
      ],
      "text/plain": [
       "          0         1         2         3         4         5         6     \\\n",
       "0     0.000000  0.000000  0.000000  0.000000  0.000000  0.000000  0.000000   \n",
       "1     1.000000  4.358899  1.732051  2.236068  2.000000  2.645751  2.236068   \n",
       "2     1.732051  4.690416  1.732051  2.236068  2.449490  3.162278  3.000000   \n",
       "3     2.449490  4.690416  1.732051  2.449490  2.645751  3.162278  3.162278   \n",
       "4     3.162278  4.795832  1.732051  2.449490  2.828427  3.162278  3.162278   \n",
       "...        ...       ...       ...       ...       ...       ...       ...   \n",
       "7869  8.366600  8.544003  9.327379  8.944272  9.219544  8.888194  8.944272   \n",
       "7870  8.426149  8.602325  9.327379  8.944272  9.219544  8.944272  9.000000   \n",
       "7871  8.485281  8.717798  9.380832  9.000000  9.219544  8.944272  9.000000   \n",
       "7872  8.485281  8.717798  9.433981  9.000000  9.327379  9.055386  9.000000   \n",
       "7873  8.544003  8.774964  9.433981  9.000000  9.433981  9.055386  9.055386   \n",
       "\n",
       "          7         8         9     ...      7864      7865      7866  \\\n",
       "0     0.000000  0.000000  0.000000  ...  0.000000  0.000000  0.000000   \n",
       "1     2.645751  0.000000  0.000000  ...  1.000000  2.000000  2.236068   \n",
       "2     2.828427  0.000000  0.000000  ...  2.449490  2.645751  4.358899   \n",
       "3     3.000000  0.000000  0.000000  ...  3.000000  2.645751  4.472136   \n",
       "4     3.000000  0.000000  0.000000  ...  3.000000  2.645751  4.472136   \n",
       "...        ...       ...       ...  ...       ...       ...       ...   \n",
       "7869  9.219544  9.110434  9.327379  ...  8.774964  8.660254  8.544003   \n",
       "7870  9.273619  9.165152  9.539392  ...  8.774964  8.660254  8.544003   \n",
       "7871  9.327379  9.273619  9.539392  ...  8.831760  8.660254  8.602325   \n",
       "7872  9.380832  9.327379  9.539392  ...  8.888194  8.717798  8.602325   \n",
       "7873  9.591663  9.380832  9.643651  ...  8.944272  8.774964  8.602325   \n",
       "\n",
       "          7867      7868      7869      7870      7871      7872      7873  \n",
       "0     0.000000  0.000000  0.000000  0.000000  0.000000  0.000000  0.000000  \n",
       "1     3.162278  2.000000  1.414214  2.828427  2.449490  3.000000  2.236068  \n",
       "2     3.162278  2.449490  1.414214  3.162278  2.449490  3.162278  2.449490  \n",
       "3     3.464102  2.449490  3.000000  3.162278  3.162278  3.316625  2.449490  \n",
       "4     3.464102  3.000000  3.162278  3.316625  3.464102  3.464102  2.449490  \n",
       "...        ...       ...       ...       ...       ...       ...       ...  \n",
       "7869  8.774964  9.000000  9.110434  8.717798  8.944272  8.485281  9.000000  \n",
       "7870  8.774964  9.000000  9.110434  8.717798  9.000000  8.544003  9.055386  \n",
       "7871  8.774964  9.000000  9.219544  8.831760  9.110434  8.544003  9.055386  \n",
       "7872  8.774964  9.055386  9.273619  8.944272  9.219544  8.602325  9.110434  \n",
       "7873  8.831760  9.055386  9.273619  8.944272  9.273619  8.774964  9.219544  \n",
       "\n",
       "[7874 rows x 7874 columns]"
      ]
     },
     "execution_count": 213,
     "metadata": {},
     "output_type": "execute_result"
    }
   ],
   "source": [
    "df_tr=pd.DataFrame(neighbors_k)\n",
    "df_tr"
   ]
  },
  {
   "cell_type": "code",
   "execution_count": 214,
   "metadata": {},
   "outputs": [],
   "source": [
    "similarity= neighbors_k"
   ]
  },
  {
   "cell_type": "code",
   "execution_count": 215,
   "metadata": {},
   "outputs": [],
   "source": [
    "Dmean=np.mean(similarity[1,:])"
   ]
  },
  {
   "cell_type": "code",
   "execution_count": 216,
   "metadata": {},
   "outputs": [
    {
     "data": {
      "text/plain": [
       "2.02"
      ]
     },
     "execution_count": 216,
     "metadata": {},
     "output_type": "execute_result"
    }
   ],
   "source": [
    "round(Dmean, 2)"
   ]
  },
  {
   "cell_type": "code",
   "execution_count": 217,
   "metadata": {},
   "outputs": [],
   "source": [
    "std=np.std(similarity[1,:])"
   ]
  },
  {
   "cell_type": "code",
   "execution_count": 218,
   "metadata": {},
   "outputs": [
    {
     "data": {
      "text/plain": [
       "1.11"
      ]
     },
     "execution_count": 218,
     "metadata": {},
     "output_type": "execute_result"
    }
   ],
   "source": [
    "round(std, 2)"
   ]
  },
  {
   "cell_type": "code",
   "execution_count": 219,
   "metadata": {},
   "outputs": [
    {
     "name": "stdout",
     "output_type": "stream",
     "text": [
      "2.58\n"
     ]
    }
   ],
   "source": [
    "model_AD_limit=Dmean+std*0.5\n",
    "print(np.round(model_AD_limit, 2))"
   ]
  },
  {
   "cell_type": "code",
   "execution_count": 220,
   "metadata": {},
   "outputs": [],
   "source": [
    "neighbors_k_ts= pairwise_distances(x_tr,Y=x_ts, n_jobs=-1)\n",
    "neighbors_k_ts.sort(0)"
   ]
  },
  {
   "cell_type": "code",
   "execution_count": 221,
   "metadata": {},
   "outputs": [
    {
     "data": {
      "text/html": [
       "<div>\n",
       "<style scoped>\n",
       "    .dataframe tbody tr th:only-of-type {\n",
       "        vertical-align: middle;\n",
       "    }\n",
       "\n",
       "    .dataframe tbody tr th {\n",
       "        vertical-align: top;\n",
       "    }\n",
       "\n",
       "    .dataframe thead th {\n",
       "        text-align: right;\n",
       "    }\n",
       "</style>\n",
       "<table border=\"1\" class=\"dataframe\">\n",
       "  <thead>\n",
       "    <tr style=\"text-align: right;\">\n",
       "      <th></th>\n",
       "      <th>0</th>\n",
       "      <th>1</th>\n",
       "      <th>2</th>\n",
       "      <th>3</th>\n",
       "      <th>4</th>\n",
       "      <th>5</th>\n",
       "      <th>6</th>\n",
       "      <th>7</th>\n",
       "      <th>8</th>\n",
       "      <th>9</th>\n",
       "      <th>...</th>\n",
       "      <th>1959</th>\n",
       "      <th>1960</th>\n",
       "      <th>1961</th>\n",
       "      <th>1962</th>\n",
       "      <th>1963</th>\n",
       "      <th>1964</th>\n",
       "      <th>1965</th>\n",
       "      <th>1966</th>\n",
       "      <th>1967</th>\n",
       "      <th>1968</th>\n",
       "    </tr>\n",
       "  </thead>\n",
       "  <tbody>\n",
       "    <tr>\n",
       "      <th>0</th>\n",
       "      <td>1.414214</td>\n",
       "      <td>2.236068</td>\n",
       "      <td>3.000000</td>\n",
       "      <td>0.000000</td>\n",
       "      <td>2.000000</td>\n",
       "      <td>0.000000</td>\n",
       "      <td>1.732051</td>\n",
       "      <td>1.414214</td>\n",
       "      <td>1.000000</td>\n",
       "      <td>1.414214</td>\n",
       "      <td>...</td>\n",
       "      <td>2.828427</td>\n",
       "      <td>3.605551</td>\n",
       "      <td>2.828427</td>\n",
       "      <td>0.000000</td>\n",
       "      <td>1.414214</td>\n",
       "      <td>3.162278</td>\n",
       "      <td>2.449490</td>\n",
       "      <td>0.000000</td>\n",
       "      <td>3.741657</td>\n",
       "      <td>0.000000</td>\n",
       "    </tr>\n",
       "    <tr>\n",
       "      <th>1</th>\n",
       "      <td>1.732051</td>\n",
       "      <td>2.449490</td>\n",
       "      <td>3.000000</td>\n",
       "      <td>0.000000</td>\n",
       "      <td>2.449490</td>\n",
       "      <td>1.000000</td>\n",
       "      <td>2.645751</td>\n",
       "      <td>1.732051</td>\n",
       "      <td>1.732051</td>\n",
       "      <td>1.732051</td>\n",
       "      <td>...</td>\n",
       "      <td>3.162278</td>\n",
       "      <td>4.000000</td>\n",
       "      <td>3.872983</td>\n",
       "      <td>0.000000</td>\n",
       "      <td>2.449490</td>\n",
       "      <td>3.162278</td>\n",
       "      <td>3.162278</td>\n",
       "      <td>0.000000</td>\n",
       "      <td>5.000000</td>\n",
       "      <td>0.000000</td>\n",
       "    </tr>\n",
       "    <tr>\n",
       "      <th>2</th>\n",
       "      <td>1.732051</td>\n",
       "      <td>2.828427</td>\n",
       "      <td>3.316625</td>\n",
       "      <td>0.000000</td>\n",
       "      <td>2.645751</td>\n",
       "      <td>1.414214</td>\n",
       "      <td>3.162278</td>\n",
       "      <td>2.449490</td>\n",
       "      <td>2.449490</td>\n",
       "      <td>1.732051</td>\n",
       "      <td>...</td>\n",
       "      <td>3.316625</td>\n",
       "      <td>4.358899</td>\n",
       "      <td>4.000000</td>\n",
       "      <td>1.414214</td>\n",
       "      <td>2.449490</td>\n",
       "      <td>3.741657</td>\n",
       "      <td>3.316625</td>\n",
       "      <td>1.414214</td>\n",
       "      <td>5.099020</td>\n",
       "      <td>1.414214</td>\n",
       "    </tr>\n",
       "    <tr>\n",
       "      <th>3</th>\n",
       "      <td>1.732051</td>\n",
       "      <td>3.000000</td>\n",
       "      <td>3.316625</td>\n",
       "      <td>0.000000</td>\n",
       "      <td>2.828427</td>\n",
       "      <td>1.414214</td>\n",
       "      <td>3.464102</td>\n",
       "      <td>2.645751</td>\n",
       "      <td>2.449490</td>\n",
       "      <td>1.732051</td>\n",
       "      <td>...</td>\n",
       "      <td>3.464102</td>\n",
       "      <td>4.358899</td>\n",
       "      <td>4.000000</td>\n",
       "      <td>2.828427</td>\n",
       "      <td>2.449490</td>\n",
       "      <td>3.741657</td>\n",
       "      <td>3.464102</td>\n",
       "      <td>2.828427</td>\n",
       "      <td>5.099020</td>\n",
       "      <td>2.828427</td>\n",
       "    </tr>\n",
       "    <tr>\n",
       "      <th>4</th>\n",
       "      <td>1.732051</td>\n",
       "      <td>3.000000</td>\n",
       "      <td>3.464102</td>\n",
       "      <td>0.000000</td>\n",
       "      <td>2.828427</td>\n",
       "      <td>1.414214</td>\n",
       "      <td>3.464102</td>\n",
       "      <td>2.828427</td>\n",
       "      <td>2.645751</td>\n",
       "      <td>2.000000</td>\n",
       "      <td>...</td>\n",
       "      <td>3.605551</td>\n",
       "      <td>4.358899</td>\n",
       "      <td>4.123106</td>\n",
       "      <td>3.316625</td>\n",
       "      <td>3.000000</td>\n",
       "      <td>4.358899</td>\n",
       "      <td>3.464102</td>\n",
       "      <td>3.316625</td>\n",
       "      <td>5.196152</td>\n",
       "      <td>3.316625</td>\n",
       "    </tr>\n",
       "    <tr>\n",
       "      <th>...</th>\n",
       "      <td>...</td>\n",
       "      <td>...</td>\n",
       "      <td>...</td>\n",
       "      <td>...</td>\n",
       "      <td>...</td>\n",
       "      <td>...</td>\n",
       "      <td>...</td>\n",
       "      <td>...</td>\n",
       "      <td>...</td>\n",
       "      <td>...</td>\n",
       "      <td>...</td>\n",
       "      <td>...</td>\n",
       "      <td>...</td>\n",
       "      <td>...</td>\n",
       "      <td>...</td>\n",
       "      <td>...</td>\n",
       "      <td>...</td>\n",
       "      <td>...</td>\n",
       "      <td>...</td>\n",
       "      <td>...</td>\n",
       "      <td>...</td>\n",
       "    </tr>\n",
       "    <tr>\n",
       "      <th>7869</th>\n",
       "      <td>9.165152</td>\n",
       "      <td>9.110434</td>\n",
       "      <td>8.660254</td>\n",
       "      <td>9.110434</td>\n",
       "      <td>9.327379</td>\n",
       "      <td>9.380832</td>\n",
       "      <td>9.000000</td>\n",
       "      <td>9.273619</td>\n",
       "      <td>9.165152</td>\n",
       "      <td>9.000000</td>\n",
       "      <td>...</td>\n",
       "      <td>8.485281</td>\n",
       "      <td>8.774964</td>\n",
       "      <td>8.602325</td>\n",
       "      <td>9.055386</td>\n",
       "      <td>9.000000</td>\n",
       "      <td>8.306623</td>\n",
       "      <td>8.888194</td>\n",
       "      <td>9.055386</td>\n",
       "      <td>8.366600</td>\n",
       "      <td>9.055386</td>\n",
       "    </tr>\n",
       "    <tr>\n",
       "      <th>7870</th>\n",
       "      <td>9.273619</td>\n",
       "      <td>9.165152</td>\n",
       "      <td>8.660254</td>\n",
       "      <td>9.165152</td>\n",
       "      <td>9.327379</td>\n",
       "      <td>9.380832</td>\n",
       "      <td>9.055386</td>\n",
       "      <td>9.273619</td>\n",
       "      <td>9.165152</td>\n",
       "      <td>9.000000</td>\n",
       "      <td>...</td>\n",
       "      <td>8.485281</td>\n",
       "      <td>8.831760</td>\n",
       "      <td>8.602325</td>\n",
       "      <td>9.110434</td>\n",
       "      <td>9.000000</td>\n",
       "      <td>8.426149</td>\n",
       "      <td>8.888194</td>\n",
       "      <td>9.110434</td>\n",
       "      <td>8.426149</td>\n",
       "      <td>9.110434</td>\n",
       "    </tr>\n",
       "    <tr>\n",
       "      <th>7871</th>\n",
       "      <td>9.380832</td>\n",
       "      <td>9.273619</td>\n",
       "      <td>8.717798</td>\n",
       "      <td>9.273619</td>\n",
       "      <td>9.327379</td>\n",
       "      <td>9.433981</td>\n",
       "      <td>9.055386</td>\n",
       "      <td>9.273619</td>\n",
       "      <td>9.165152</td>\n",
       "      <td>9.055386</td>\n",
       "      <td>...</td>\n",
       "      <td>8.485281</td>\n",
       "      <td>8.831760</td>\n",
       "      <td>8.602325</td>\n",
       "      <td>9.219544</td>\n",
       "      <td>9.055386</td>\n",
       "      <td>8.426149</td>\n",
       "      <td>8.944272</td>\n",
       "      <td>9.219544</td>\n",
       "      <td>8.426149</td>\n",
       "      <td>9.219544</td>\n",
       "    </tr>\n",
       "    <tr>\n",
       "      <th>7872</th>\n",
       "      <td>9.380832</td>\n",
       "      <td>9.327379</td>\n",
       "      <td>8.717798</td>\n",
       "      <td>9.327379</td>\n",
       "      <td>9.433981</td>\n",
       "      <td>9.486833</td>\n",
       "      <td>9.165152</td>\n",
       "      <td>9.273619</td>\n",
       "      <td>9.219544</td>\n",
       "      <td>9.165152</td>\n",
       "      <td>...</td>\n",
       "      <td>8.544003</td>\n",
       "      <td>8.944272</td>\n",
       "      <td>8.660254</td>\n",
       "      <td>9.273619</td>\n",
       "      <td>9.273619</td>\n",
       "      <td>8.426149</td>\n",
       "      <td>8.944272</td>\n",
       "      <td>9.273619</td>\n",
       "      <td>8.426149</td>\n",
       "      <td>9.273619</td>\n",
       "    </tr>\n",
       "    <tr>\n",
       "      <th>7873</th>\n",
       "      <td>9.380832</td>\n",
       "      <td>9.327379</td>\n",
       "      <td>8.831760</td>\n",
       "      <td>9.380832</td>\n",
       "      <td>9.433981</td>\n",
       "      <td>9.539392</td>\n",
       "      <td>9.219544</td>\n",
       "      <td>9.380832</td>\n",
       "      <td>9.273619</td>\n",
       "      <td>9.273619</td>\n",
       "      <td>...</td>\n",
       "      <td>8.544003</td>\n",
       "      <td>9.055386</td>\n",
       "      <td>8.717798</td>\n",
       "      <td>9.273619</td>\n",
       "      <td>9.273619</td>\n",
       "      <td>8.602325</td>\n",
       "      <td>8.944272</td>\n",
       "      <td>9.273619</td>\n",
       "      <td>8.485281</td>\n",
       "      <td>9.273619</td>\n",
       "    </tr>\n",
       "  </tbody>\n",
       "</table>\n",
       "<p>7874 rows × 1969 columns</p>\n",
       "</div>"
      ],
      "text/plain": [
       "          0         1         2         3         4         5         6     \\\n",
       "0     1.414214  2.236068  3.000000  0.000000  2.000000  0.000000  1.732051   \n",
       "1     1.732051  2.449490  3.000000  0.000000  2.449490  1.000000  2.645751   \n",
       "2     1.732051  2.828427  3.316625  0.000000  2.645751  1.414214  3.162278   \n",
       "3     1.732051  3.000000  3.316625  0.000000  2.828427  1.414214  3.464102   \n",
       "4     1.732051  3.000000  3.464102  0.000000  2.828427  1.414214  3.464102   \n",
       "...        ...       ...       ...       ...       ...       ...       ...   \n",
       "7869  9.165152  9.110434  8.660254  9.110434  9.327379  9.380832  9.000000   \n",
       "7870  9.273619  9.165152  8.660254  9.165152  9.327379  9.380832  9.055386   \n",
       "7871  9.380832  9.273619  8.717798  9.273619  9.327379  9.433981  9.055386   \n",
       "7872  9.380832  9.327379  8.717798  9.327379  9.433981  9.486833  9.165152   \n",
       "7873  9.380832  9.327379  8.831760  9.380832  9.433981  9.539392  9.219544   \n",
       "\n",
       "          7         8         9     ...      1959      1960      1961  \\\n",
       "0     1.414214  1.000000  1.414214  ...  2.828427  3.605551  2.828427   \n",
       "1     1.732051  1.732051  1.732051  ...  3.162278  4.000000  3.872983   \n",
       "2     2.449490  2.449490  1.732051  ...  3.316625  4.358899  4.000000   \n",
       "3     2.645751  2.449490  1.732051  ...  3.464102  4.358899  4.000000   \n",
       "4     2.828427  2.645751  2.000000  ...  3.605551  4.358899  4.123106   \n",
       "...        ...       ...       ...  ...       ...       ...       ...   \n",
       "7869  9.273619  9.165152  9.000000  ...  8.485281  8.774964  8.602325   \n",
       "7870  9.273619  9.165152  9.000000  ...  8.485281  8.831760  8.602325   \n",
       "7871  9.273619  9.165152  9.055386  ...  8.485281  8.831760  8.602325   \n",
       "7872  9.273619  9.219544  9.165152  ...  8.544003  8.944272  8.660254   \n",
       "7873  9.380832  9.273619  9.273619  ...  8.544003  9.055386  8.717798   \n",
       "\n",
       "          1962      1963      1964      1965      1966      1967      1968  \n",
       "0     0.000000  1.414214  3.162278  2.449490  0.000000  3.741657  0.000000  \n",
       "1     0.000000  2.449490  3.162278  3.162278  0.000000  5.000000  0.000000  \n",
       "2     1.414214  2.449490  3.741657  3.316625  1.414214  5.099020  1.414214  \n",
       "3     2.828427  2.449490  3.741657  3.464102  2.828427  5.099020  2.828427  \n",
       "4     3.316625  3.000000  4.358899  3.464102  3.316625  5.196152  3.316625  \n",
       "...        ...       ...       ...       ...       ...       ...       ...  \n",
       "7869  9.055386  9.000000  8.306623  8.888194  9.055386  8.366600  9.055386  \n",
       "7870  9.110434  9.000000  8.426149  8.888194  9.110434  8.426149  9.110434  \n",
       "7871  9.219544  9.055386  8.426149  8.944272  9.219544  8.426149  9.219544  \n",
       "7872  9.273619  9.273619  8.426149  8.944272  9.273619  8.426149  9.273619  \n",
       "7873  9.273619  9.273619  8.602325  8.944272  9.273619  8.485281  9.273619  \n",
       "\n",
       "[7874 rows x 1969 columns]"
      ]
     },
     "execution_count": 221,
     "metadata": {},
     "output_type": "execute_result"
    }
   ],
   "source": [
    "x_ts_AD=pd.DataFrame(neighbors_k_ts)\n",
    "x_ts_AD"
   ]
  },
  {
   "cell_type": "code",
   "execution_count": 222,
   "metadata": {},
   "outputs": [
    {
     "name": "stdout",
     "output_type": "stream",
     "text": [
      "[1.414 2.236 3.    ... 0.    3.742 0.   ]\n"
     ]
    }
   ],
   "source": [
    "similarity_ts= neighbors_k_ts\n",
    "cpd_AD=similarity_ts[0,:]\n",
    "cpd_value = np.round(cpd_AD, 3)\n",
    "print(cpd_value)"
   ]
  },
  {
   "cell_type": "code",
   "execution_count": 223,
   "metadata": {},
   "outputs": [
    {
     "name": "stdout",
     "output_type": "stream",
     "text": [
      "[ True  True False ...  True False  True]\n"
     ]
    }
   ],
   "source": [
    "cpd_AD = np.where(cpd_value <= model_AD_limit, True, False)\n",
    "print(cpd_AD)"
   ]
  },
  {
   "cell_type": "code",
   "execution_count": 224,
   "metadata": {},
   "outputs": [
    {
     "name": "stdout",
     "output_type": "stream",
     "text": [
      "Coverage =  0.67\n"
     ]
    }
   ],
   "source": [
    "print(\"Coverage = \", round(sum(cpd_AD) / len(cpd_AD), 2))"
   ]
  },
  {
   "cell_type": "code",
   "execution_count": 225,
   "metadata": {},
   "outputs": [
    {
     "name": "stdout",
     "output_type": "stream",
     "text": [
      "Indices of substances included in AD =  [   0    1    3 ... 1965 1966 1968]\n"
     ]
    }
   ],
   "source": [
    "print(\"Indices of substances included in AD = \", np.where(cpd_AD != 0)[0])"
   ]
  },
  {
   "cell_type": "code",
   "execution_count": 226,
   "metadata": {},
   "outputs": [],
   "source": [
    "out_Ad=list(np.where(cpd_AD == 0)[0])"
   ]
  },
  {
   "cell_type": "markdown",
   "metadata": {},
   "source": [
    "# Prediction only for molecules included in  AD"
   ]
  },
  {
   "cell_type": "code",
   "execution_count": 227,
   "metadata": {},
   "outputs": [],
   "source": [
    "y_pred_kNN_ad=list(y_pred_kNN)"
   ]
  },
  {
   "cell_type": "code",
   "execution_count": 228,
   "metadata": {},
   "outputs": [],
   "source": [
    "y_pred_kNN_ad[:] = [x for i,x in enumerate(y_pred_kNN_ad) if i not in out_Ad]"
   ]
  },
  {
   "cell_type": "code",
   "execution_count": 229,
   "metadata": {},
   "outputs": [
    {
     "data": {
      "text/plain": [
       "1327"
      ]
     },
     "execution_count": 229,
     "metadata": {},
     "output_type": "execute_result"
    }
   ],
   "source": [
    "len(y_pred_kNN_ad)"
   ]
  },
  {
   "cell_type": "code",
   "execution_count": 230,
   "metadata": {},
   "outputs": [],
   "source": [
    "y_ts_ad=list(y_ts)"
   ]
  },
  {
   "cell_type": "code",
   "execution_count": 231,
   "metadata": {},
   "outputs": [],
   "source": [
    "y_ts_ad[:] = [x for i,x in enumerate(y_ts_ad) if i not in out_Ad]"
   ]
  },
  {
   "cell_type": "code",
   "execution_count": 232,
   "metadata": {},
   "outputs": [
    {
     "data": {
      "text/plain": [
       "1327"
      ]
     },
     "execution_count": 232,
     "metadata": {},
     "output_type": "execute_result"
    }
   ],
   "source": [
    "len(y_ts_ad)"
   ]
  },
  {
   "cell_type": "code",
   "execution_count": 233,
   "metadata": {},
   "outputs": [
    {
     "data": {
      "text/plain": [
       "0.64"
      ]
     },
     "execution_count": 233,
     "metadata": {},
     "output_type": "execute_result"
    }
   ],
   "source": [
    "Q2_TS = round(r2_score(y_ts_ad, y_pred_kNN_ad), 2)\n",
    "Q2_TS"
   ]
  },
  {
   "cell_type": "code",
   "execution_count": 234,
   "metadata": {
    "scrolled": true
   },
   "outputs": [
    {
     "data": {
      "text/plain": [
       "0.56"
      ]
     },
     "execution_count": 234,
     "metadata": {},
     "output_type": "execute_result"
    }
   ],
   "source": [
    "RMSE_TS=round(np.sqrt(mean_squared_error(y_ts_ad, y_pred_kNN_ad)), 2)\n",
    "RMSE_TS"
   ]
  },
  {
   "cell_type": "code",
   "execution_count": null,
   "metadata": {},
   "outputs": [],
   "source": []
  }
 ],
 "metadata": {
  "kernelspec": {
   "display_name": "Python [conda env:base] *",
   "language": "python",
   "name": "conda-base-py"
  },
  "language_info": {
   "codemirror_mode": {
    "name": "ipython",
    "version": 3
   },
   "file_extension": ".py",
   "mimetype": "text/x-python",
   "name": "python",
   "nbconvert_exporter": "python",
   "pygments_lexer": "ipython3",
   "version": "3.12.7"
  },
  "toc": {
   "base_numbering": 1,
   "nav_menu": {},
   "number_sections": true,
   "sideBar": true,
   "skip_h1_title": false,
   "title_cell": "Table of Contents",
   "title_sidebar": "Contents",
   "toc_cell": false,
   "toc_position": {
    "height": "calc(100% - 180px)",
    "left": "10px",
    "top": "150px",
    "width": "384px"
   },
   "toc_section_display": true,
   "toc_window_display": true
  },
  "widgets": {
   "application/vnd.jupyter.widget-state+json": {
    "state": {},
    "version_major": 2,
    "version_minor": 0
   }
  }
 },
 "nbformat": 4,
 "nbformat_minor": 4
}
